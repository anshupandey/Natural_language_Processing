{
  "nbformat": 4,
  "nbformat_minor": 0,
  "metadata": {
    "colab": {
      "name": "Text Preprocessing.ipynb",
      "provenance": [],
      "authorship_tag": "ABX9TyPHzxJOS4EptYVbv8wR3ISh",
      "include_colab_link": true
    },
    "kernelspec": {
      "name": "python3",
      "display_name": "Python 3"
    }
  },
  "cells": [
    {
      "cell_type": "markdown",
      "metadata": {
        "id": "view-in-github",
        "colab_type": "text"
      },
      "source": [
        "<a href=\"https://colab.research.google.com/github/anshupandey/natural_language_processing/blob/master/Text_Preprocessing.ipynb\" target=\"_parent\"><img src=\"https://colab.research.google.com/assets/colab-badge.svg\" alt=\"Open In Colab\"/></a>"
      ]
    },
    {
      "cell_type": "markdown",
      "metadata": {
        "id": "iHY88m0bHGUM",
        "colab_type": "text"
      },
      "source": [
        "# Regular Expression"
      ]
    },
    {
      "cell_type": "code",
      "metadata": {
        "id": "ZylRkXFhGa8R",
        "colab_type": "code",
        "colab": {}
      },
      "source": [
        "import re"
      ],
      "execution_count": 0,
      "outputs": []
    },
    {
      "cell_type": "code",
      "metadata": {
        "id": "yXro7lwQHL7j",
        "colab_type": "code",
        "colab": {}
      },
      "source": [
        "data = \"my mobile number is 9898989898 and what is your number\""
      ],
      "execution_count": 0,
      "outputs": []
    },
    {
      "cell_type": "code",
      "metadata": {
        "id": "xYbqPDrEHVD3",
        "colab_type": "code",
        "outputId": "6d0347ab-9a98-46a8-9f08-ca4b589040ac",
        "colab": {
          "base_uri": "https://localhost:8080/",
          "height": 34
        }
      },
      "source": [
        "# extracting information\n",
        "re.findall(\"[0-9]{10}\",data)"
      ],
      "execution_count": 0,
      "outputs": [
        {
          "output_type": "execute_result",
          "data": {
            "text/plain": [
              "['9898989898']"
            ]
          },
          "metadata": {
            "tags": []
          },
          "execution_count": 5
        }
      ]
    },
    {
      "cell_type": "code",
      "metadata": {
        "id": "zZSerj7pHddt",
        "colab_type": "code",
        "outputId": "77c3a532-9311-4c5a-de02-8898a5a3a62e",
        "colab": {
          "base_uri": "https://localhost:8080/",
          "height": 34
        }
      },
      "source": [
        "re.sub(\"[0-9]{10}\",\"**********\",data) # hiding tokens / masking tokens"
      ],
      "execution_count": 0,
      "outputs": [
        {
          "output_type": "execute_result",
          "data": {
            "text/plain": [
              "'my mobile number is ********** and what is your number'"
            ]
          },
          "metadata": {
            "tags": []
          },
          "execution_count": 6
        }
      ]
    },
    {
      "cell_type": "code",
      "metadata": {
        "id": "VGcivAPiIaMn",
        "colab_type": "code",
        "outputId": "4e989f29-0b48-4dd3-99d2-15902416e408",
        "colab": {
          "base_uri": "https://localhost:8080/",
          "height": 34
        }
      },
      "source": [
        "re.sub(\"[0-9]{10}\",\"\",data) # removing tokens having specific pattern"
      ],
      "execution_count": 0,
      "outputs": [
        {
          "output_type": "execute_result",
          "data": {
            "text/plain": [
              "'my mobile number is  and what is your number'"
            ]
          },
          "metadata": {
            "tags": []
          },
          "execution_count": 7
        }
      ]
    },
    {
      "cell_type": "code",
      "metadata": {
        "id": "Dcj07msUIcej",
        "colab_type": "code",
        "colab": {}
      },
      "source": [
        "data = ''' hi my birthdya is 30-02-1998 and your birthday is 12-5-1997 and his birthday is 5-4-1992 and his friend's birthday is 04-05-1993 \n",
        "and his sister's birthday is 04/05/1996  \n",
        "'''"
      ],
      "execution_count": 0,
      "outputs": []
    },
    {
      "cell_type": "code",
      "metadata": {
        "id": "VyepamVfI9CR",
        "colab_type": "code",
        "outputId": "67c07631-8899-4b2c-b155-4a5c99b1e439",
        "colab": {
          "base_uri": "https://localhost:8080/",
          "height": 34
        }
      },
      "source": [
        "pattern = \"[0-9]{1,2}-[0-9]{1,2}-[0-9]{4} | [0-9]{1,2}/[0-9]{1,2}/[0-9]{4}\"\n",
        "re.findall(pattern,data)"
      ],
      "execution_count": 0,
      "outputs": [
        {
          "output_type": "execute_result",
          "data": {
            "text/plain": [
              "['30-02-1998 ', '12-5-1997 ', '5-4-1992 ', '04-05-1993 ', ' 04/05/1996']"
            ]
          },
          "metadata": {
            "tags": []
          },
          "execution_count": 13
        }
      ]
    },
    {
      "cell_type": "markdown",
      "metadata": {
        "id": "BcUBSjXQJ1mQ",
        "colab_type": "text"
      },
      "source": [
        "# Text Preprocessing with NLTK"
      ]
    },
    {
      "cell_type": "code",
      "metadata": {
        "id": "VAhZsH5-JEPL",
        "colab_type": "code",
        "colab": {}
      },
      "source": [
        "# NLTK = Natural Language Toolkit"
      ],
      "execution_count": 0,
      "outputs": []
    },
    {
      "cell_type": "markdown",
      "metadata": {
        "id": "aZr-wxbEJ_2O",
        "colab_type": "text"
      },
      "source": [
        "- NLTK  - all basic text preprocessing\n",
        "- spaCy - Basic advance text based applications, preprocessing, NER\n",
        "- gensim - topic modelling, use pretrained word2vec models\n",
        "\n",
        "- tensorflow, pytorch\n",
        "\n"
      ]
    },
    {
      "cell_type": "markdown",
      "metadata": {
        "id": "7LwH_tdbKkXy",
        "colab_type": "text"
      },
      "source": [
        "We will checkout - \n",
        "- Tokenization\n",
        "- Mosphological Analysis\n",
        "- PoS Tagging"
      ]
    },
    {
      "cell_type": "code",
      "metadata": {
        "id": "D45gZPJJJ-7B",
        "colab_type": "code",
        "colab": {}
      },
      "source": [
        "import nltk"
      ],
      "execution_count": 0,
      "outputs": []
    },
    {
      "cell_type": "code",
      "metadata": {
        "id": "pvL7q7J-K5NP",
        "colab_type": "code",
        "outputId": "d767fa44-d580-4426-e848-33eaebf6549d",
        "colab": {
          "base_uri": "https://localhost:8080/",
          "height": 185
        }
      },
      "source": [
        "nltk.download(\"punkt\")\n",
        "nltk.download(\"wordnet\")\n",
        "nltk.download(\"tagsets\")\n",
        "nltk.download(\"averaged_perceptron_tagger\")\n"
      ],
      "execution_count": 0,
      "outputs": [
        {
          "output_type": "stream",
          "text": [
            "[nltk_data] Downloading package punkt to /root/nltk_data...\n",
            "[nltk_data]   Unzipping tokenizers/punkt.zip.\n",
            "[nltk_data] Downloading package wordnet to /root/nltk_data...\n",
            "[nltk_data]   Unzipping corpora/wordnet.zip.\n",
            "[nltk_data] Downloading package tagsets to /root/nltk_data...\n",
            "[nltk_data]   Unzipping help/tagsets.zip.\n",
            "[nltk_data] Downloading package averaged_perceptron_tagger to\n",
            "[nltk_data]     /root/nltk_data...\n",
            "[nltk_data]   Unzipping taggers/averaged_perceptron_tagger.zip.\n"
          ],
          "name": "stdout"
        },
        {
          "output_type": "execute_result",
          "data": {
            "text/plain": [
              "True"
            ]
          },
          "metadata": {
            "tags": []
          },
          "execution_count": 16
        }
      ]
    },
    {
      "cell_type": "markdown",
      "metadata": {
        "id": "nOgZ-uVmLbqd",
        "colab_type": "text"
      },
      "source": [
        "# Tokenization\n",
        "\n",
        "- process of converting text data into collection of sentences/words"
      ]
    },
    {
      "cell_type": "code",
      "metadata": {
        "id": "vKDfrDMsLGNQ",
        "colab_type": "code",
        "colab": {}
      },
      "source": [
        "data = \"\"\" John is coming to meet his brother in Delhi from Noida. John has a car. Mr. Mark is enjoying reading novel. Freddy is enjoying playing Pubg game.\n",
        "today its a good weather. Can you drop me email? my email id is anshu@anshu.com. Thank You! please take care.\n",
        "\"\"\""
      ],
      "execution_count": 0,
      "outputs": []
    },
    {
      "cell_type": "code",
      "metadata": {
        "id": "SJrv0HhHLYvu",
        "colab_type": "code",
        "outputId": "77519ec3-eba5-4976-aef0-dd5f3d9d7dc8",
        "colab": {
          "base_uri": "https://localhost:8080/",
          "height": 185
        }
      },
      "source": [
        "data.split('.')"
      ],
      "execution_count": 0,
      "outputs": [
        {
          "output_type": "execute_result",
          "data": {
            "text/plain": [
              "[' John is coming to meet his brother in Delhi from Noida',\n",
              " ' John has a car',\n",
              " ' Mr',\n",
              " ' Mark is enjoying reading novel',\n",
              " ' Freddy is enjoying playing Pubg game',\n",
              " '\\ntoday its a good weather',\n",
              " ' Can you drop me email? my email id is anshu@anshu',\n",
              " 'com',\n",
              " ' Thank You! please take care',\n",
              " '\\n']"
            ]
          },
          "metadata": {
            "tags": []
          },
          "execution_count": 20
        }
      ]
    },
    {
      "cell_type": "code",
      "metadata": {
        "id": "cuELhUEZLqJP",
        "colab_type": "code",
        "outputId": "0bc0ef73-8331-4e6d-83f1-7416f67d485d",
        "colab": {
          "base_uri": "https://localhost:8080/",
          "height": 168
        }
      },
      "source": [
        "nltk.sent_tokenize(data)"
      ],
      "execution_count": 0,
      "outputs": [
        {
          "output_type": "execute_result",
          "data": {
            "text/plain": [
              "[' John is coming to meet his brother in Delhi from Noida.',\n",
              " 'John has a car.',\n",
              " 'Mr. Mark is enjoying reading novel.',\n",
              " 'Freddy is enjoying playing Pubg game.',\n",
              " 'today its a good weather.',\n",
              " 'Can you drop me email?',\n",
              " 'my email id is anshu@anshu.com.',\n",
              " 'Thank You!',\n",
              " 'please take care.']"
            ]
          },
          "metadata": {
            "tags": []
          },
          "execution_count": 21
        }
      ]
    },
    {
      "cell_type": "code",
      "metadata": {
        "id": "sedAi461MDUx",
        "colab_type": "code",
        "outputId": "0f854323-9bcd-4d51-9e45-0704a9f182ce",
        "colab": {
          "base_uri": "https://localhost:8080/",
          "height": 991
        }
      },
      "source": [
        "nltk.word_tokenize(data)"
      ],
      "execution_count": 0,
      "outputs": [
        {
          "output_type": "execute_result",
          "data": {
            "text/plain": [
              "['John',\n",
              " 'is',\n",
              " 'coming',\n",
              " 'to',\n",
              " 'meet',\n",
              " 'his',\n",
              " 'brother',\n",
              " 'in',\n",
              " 'Delhi',\n",
              " 'from',\n",
              " 'Noida',\n",
              " '.',\n",
              " 'John',\n",
              " 'has',\n",
              " 'a',\n",
              " 'car',\n",
              " '.',\n",
              " 'Mr.',\n",
              " 'Mark',\n",
              " 'is',\n",
              " 'enjoying',\n",
              " 'reading',\n",
              " 'novel',\n",
              " '.',\n",
              " 'Freddy',\n",
              " 'is',\n",
              " 'enjoying',\n",
              " 'playing',\n",
              " 'Pubg',\n",
              " 'game',\n",
              " '.',\n",
              " 'today',\n",
              " 'its',\n",
              " 'a',\n",
              " 'good',\n",
              " 'weather',\n",
              " '.',\n",
              " 'Can',\n",
              " 'you',\n",
              " 'drop',\n",
              " 'me',\n",
              " 'email',\n",
              " '?',\n",
              " 'my',\n",
              " 'email',\n",
              " 'id',\n",
              " 'is',\n",
              " 'anshu',\n",
              " '@',\n",
              " 'anshu.com',\n",
              " '.',\n",
              " 'Thank',\n",
              " 'You',\n",
              " '!',\n",
              " 'please',\n",
              " 'take',\n",
              " 'care',\n",
              " '.']"
            ]
          },
          "metadata": {
            "tags": []
          },
          "execution_count": 22
        }
      ]
    },
    {
      "cell_type": "markdown",
      "metadata": {
        "id": "rVZpPJeiMmuG",
        "colab_type": "text"
      },
      "source": [
        "# Morphological Analysis\n",
        "\n",
        "- concerting a word to its root form\n",
        "\n",
        "cars - car\n",
        "\n",
        "children - child\n",
        "\n",
        "wives - wife\n",
        "\n",
        "- **Stemming**        - faster, less accurate\n",
        "- **Lemmatization**   - slightly slower, more accurate\n",
        "\n"
      ]
    },
    {
      "cell_type": "code",
      "metadata": {
        "id": "jt4ovYnyMmZh",
        "colab_type": "code",
        "outputId": "9662bc99-0181-4acd-ebb9-2a345d7685ad",
        "colab": {
          "base_uri": "https://localhost:8080/",
          "height": 34
        }
      },
      "source": [
        "#stemming\n",
        "from nltk.stem import PorterStemmer\n",
        "ps = PorterStemmer()\n",
        "ps.stem(\"cars\")"
      ],
      "execution_count": 0,
      "outputs": [
        {
          "output_type": "execute_result",
          "data": {
            "text/plain": [
              "'car'"
            ]
          },
          "metadata": {
            "tags": []
          },
          "execution_count": 23
        }
      ]
    },
    {
      "cell_type": "code",
      "metadata": {
        "id": "2ruiqRlAMTwS",
        "colab_type": "code",
        "outputId": "e7a3f7b1-266e-4936-95b0-8aac84f4b23a",
        "colab": {
          "base_uri": "https://localhost:8080/",
          "height": 34
        }
      },
      "source": [
        "ps.stem(\"boxes\")"
      ],
      "execution_count": 0,
      "outputs": [
        {
          "output_type": "execute_result",
          "data": {
            "text/plain": [
              "'box'"
            ]
          },
          "metadata": {
            "tags": []
          },
          "execution_count": 24
        }
      ]
    },
    {
      "cell_type": "code",
      "metadata": {
        "id": "b6ky17FZNXDI",
        "colab_type": "code",
        "outputId": "32a42e3f-109a-425b-8da8-6fe965e87aa6",
        "colab": {
          "base_uri": "https://localhost:8080/",
          "height": 34
        }
      },
      "source": [
        "ps.stem(\"wives\")"
      ],
      "execution_count": 0,
      "outputs": [
        {
          "output_type": "execute_result",
          "data": {
            "text/plain": [
              "'wive'"
            ]
          },
          "metadata": {
            "tags": []
          },
          "execution_count": 25
        }
      ]
    },
    {
      "cell_type": "code",
      "metadata": {
        "id": "hRJ5oPKTNZbD",
        "colab_type": "code",
        "outputId": "a7dbef11-8ec0-4bb9-e9be-9dbf9fd86c61",
        "colab": {
          "base_uri": "https://localhost:8080/",
          "height": 34
        }
      },
      "source": [
        "ps.stem(\"children\")"
      ],
      "execution_count": 0,
      "outputs": [
        {
          "output_type": "execute_result",
          "data": {
            "text/plain": [
              "'children'"
            ]
          },
          "metadata": {
            "tags": []
          },
          "execution_count": 26
        }
      ]
    },
    {
      "cell_type": "code",
      "metadata": {
        "id": "S4aqAcSkNatG",
        "colab_type": "code",
        "outputId": "ea84a82c-eff6-4663-e470-fbcef72909d8",
        "colab": {
          "base_uri": "https://localhost:8080/",
          "height": 34
        }
      },
      "source": [
        "# lemmatizers\n",
        "from nltk.stem import WordNetLemmatizer\n",
        "wd = WordNetLemmatizer()\n",
        "\n",
        "wd.lemmatize(\"wives\")"
      ],
      "execution_count": 0,
      "outputs": [
        {
          "output_type": "execute_result",
          "data": {
            "text/plain": [
              "'wife'"
            ]
          },
          "metadata": {
            "tags": []
          },
          "execution_count": 27
        }
      ]
    },
    {
      "cell_type": "code",
      "metadata": {
        "id": "zFLSuY3RNqQv",
        "colab_type": "code",
        "outputId": "612845d5-1d76-4029-f96b-c614545f5d7e",
        "colab": {
          "base_uri": "https://localhost:8080/",
          "height": 34
        }
      },
      "source": [
        "wd.lemmatize(\"children\")"
      ],
      "execution_count": 0,
      "outputs": [
        {
          "output_type": "execute_result",
          "data": {
            "text/plain": [
              "'child'"
            ]
          },
          "metadata": {
            "tags": []
          },
          "execution_count": 28
        }
      ]
    },
    {
      "cell_type": "code",
      "metadata": {
        "id": "RyLbOUgPNs4H",
        "colab_type": "code",
        "outputId": "73d0fd25-99a0-4248-a48a-097430494d86",
        "colab": {
          "base_uri": "https://localhost:8080/",
          "height": 34
        }
      },
      "source": [
        "wd.lemmatize(\"happier\",'a') #a = adjective"
      ],
      "execution_count": 0,
      "outputs": [
        {
          "output_type": "execute_result",
          "data": {
            "text/plain": [
              "'happy'"
            ]
          },
          "metadata": {
            "tags": []
          },
          "execution_count": 29
        }
      ]
    },
    {
      "cell_type": "code",
      "metadata": {
        "id": "NYwKPq5cNv0d",
        "colab_type": "code",
        "outputId": "b0bcd335-538f-4f7f-f7fe-d65c3e6b97fb",
        "colab": {
          "base_uri": "https://localhost:8080/",
          "height": 34
        }
      },
      "source": [
        "wd.lemmatize(\"went\",'v') # v = verb"
      ],
      "execution_count": 0,
      "outputs": [
        {
          "output_type": "execute_result",
          "data": {
            "text/plain": [
              "'go'"
            ]
          },
          "metadata": {
            "tags": []
          },
          "execution_count": 30
        }
      ]
    },
    {
      "cell_type": "markdown",
      "metadata": {
        "id": "vvvUiqk3OAaZ",
        "colab_type": "text"
      },
      "source": [
        "# Pos Tagging"
      ]
    },
    {
      "cell_type": "code",
      "metadata": {
        "id": "oQoaPEoeNzQF",
        "colab_type": "code",
        "outputId": "6a762eab-f14a-4831-995f-42a934ef4e4f",
        "colab": {
          "base_uri": "https://localhost:8080/",
          "height": 218
        }
      },
      "source": [
        "nltk.pos_tag(nltk.word_tokenize(\"Donald Trump is happy today and he will announce something big.\"))"
      ],
      "execution_count": 0,
      "outputs": [
        {
          "output_type": "execute_result",
          "data": {
            "text/plain": [
              "[('Donald', 'NNP'),\n",
              " ('Trump', 'NNP'),\n",
              " ('is', 'VBZ'),\n",
              " ('happy', 'JJ'),\n",
              " ('today', 'NN'),\n",
              " ('and', 'CC'),\n",
              " ('he', 'PRP'),\n",
              " ('will', 'MD'),\n",
              " ('announce', 'VB'),\n",
              " ('something', 'NN'),\n",
              " ('big', 'JJ'),\n",
              " ('.', '.')]"
            ]
          },
          "metadata": {
            "tags": []
          },
          "execution_count": 31
        }
      ]
    },
    {
      "cell_type": "code",
      "metadata": {
        "id": "kB8-qHPeOLX4",
        "colab_type": "code",
        "outputId": "a72a5d87-135e-45fc-b982-eeccb34da6f6",
        "colab": {
          "base_uri": "https://localhost:8080/",
          "height": 84
        }
      },
      "source": [
        "nltk.help.upenn_tagset(\"JJ\")"
      ],
      "execution_count": 0,
      "outputs": [
        {
          "output_type": "stream",
          "text": [
            "JJ: adjective or numeral, ordinal\n",
            "    third ill-mannered pre-war regrettable oiled calamitous first separable\n",
            "    ectoplasmic battery-powered participatory fourth still-to-be-named\n",
            "    multilingual multi-disciplinary ...\n"
          ],
          "name": "stdout"
        }
      ]
    },
    {
      "cell_type": "markdown",
      "metadata": {
        "id": "-hsFVQjkPByn",
        "colab_type": "text"
      },
      "source": [
        "# NER - Named Entiy Recognition"
      ]
    },
    {
      "cell_type": "code",
      "metadata": {
        "id": "YJk3VRCaORnF",
        "colab_type": "code",
        "colab": {}
      },
      "source": [
        "import spacy"
      ],
      "execution_count": 0,
      "outputs": []
    },
    {
      "cell_type": "code",
      "metadata": {
        "id": "ibxS8S_BPIEk",
        "colab_type": "code",
        "colab": {}
      },
      "source": [
        "nlp = spacy.load(\"en_core_web_sm\")"
      ],
      "execution_count": 0,
      "outputs": []
    },
    {
      "cell_type": "code",
      "metadata": {
        "id": "lJUoA5DUPLG-",
        "colab_type": "code",
        "outputId": "e233e710-6ac4-47b0-fa18-f0316f79c443",
        "colab": {
          "base_uri": "https://localhost:8080/",
          "height": 51
        }
      },
      "source": [
        "doc = nlp(\"Rohan is working for Microsoft in India and USA region from 10-05-2018 and has met Kelly a year back.\")\n",
        "from spacy import displacy\n",
        "\n",
        "displacy.render(doc,style='ent',jupyter=True)"
      ],
      "execution_count": 0,
      "outputs": [
        {
          "output_type": "display_data",
          "data": {
            "text/html": [
              "<span class=\"tex2jax_ignore\"><div class=\"entities\" style=\"line-height: 2.5; direction: ltr\">\n",
              "<mark class=\"entity\" style=\"background: #7aecec; padding: 0.45em 0.6em; margin: 0 0.25em; line-height: 1; border-radius: 0.35em;\">\n",
              "    Rohan\n",
              "    <span style=\"font-size: 0.8em; font-weight: bold; line-height: 1; border-radius: 0.35em; text-transform: uppercase; vertical-align: middle; margin-left: 0.5rem\">ORG</span>\n",
              "</mark>\n",
              " is working for \n",
              "<mark class=\"entity\" style=\"background: #7aecec; padding: 0.45em 0.6em; margin: 0 0.25em; line-height: 1; border-radius: 0.35em;\">\n",
              "    Microsoft\n",
              "    <span style=\"font-size: 0.8em; font-weight: bold; line-height: 1; border-radius: 0.35em; text-transform: uppercase; vertical-align: middle; margin-left: 0.5rem\">ORG</span>\n",
              "</mark>\n",
              " in \n",
              "<mark class=\"entity\" style=\"background: #feca74; padding: 0.45em 0.6em; margin: 0 0.25em; line-height: 1; border-radius: 0.35em;\">\n",
              "    India\n",
              "    <span style=\"font-size: 0.8em; font-weight: bold; line-height: 1; border-radius: 0.35em; text-transform: uppercase; vertical-align: middle; margin-left: 0.5rem\">GPE</span>\n",
              "</mark>\n",
              " and \n",
              "<mark class=\"entity\" style=\"background: #feca74; padding: 0.45em 0.6em; margin: 0 0.25em; line-height: 1; border-radius: 0.35em;\">\n",
              "    USA\n",
              "    <span style=\"font-size: 0.8em; font-weight: bold; line-height: 1; border-radius: 0.35em; text-transform: uppercase; vertical-align: middle; margin-left: 0.5rem\">GPE</span>\n",
              "</mark>\n",
              " region from \n",
              "<mark class=\"entity\" style=\"background: #bfe1d9; padding: 0.45em 0.6em; margin: 0 0.25em; line-height: 1; border-radius: 0.35em;\">\n",
              "    10-05-2018\n",
              "    <span style=\"font-size: 0.8em; font-weight: bold; line-height: 1; border-radius: 0.35em; text-transform: uppercase; vertical-align: middle; margin-left: 0.5rem\">DATE</span>\n",
              "</mark>\n",
              " and has met \n",
              "<mark class=\"entity\" style=\"background: #aa9cfc; padding: 0.45em 0.6em; margin: 0 0.25em; line-height: 1; border-radius: 0.35em;\">\n",
              "    Kelly\n",
              "    <span style=\"font-size: 0.8em; font-weight: bold; line-height: 1; border-radius: 0.35em; text-transform: uppercase; vertical-align: middle; margin-left: 0.5rem\">PERSON</span>\n",
              "</mark>\n",
              " \n",
              "<mark class=\"entity\" style=\"background: #bfe1d9; padding: 0.45em 0.6em; margin: 0 0.25em; line-height: 1; border-radius: 0.35em;\">\n",
              "    a year back\n",
              "    <span style=\"font-size: 0.8em; font-weight: bold; line-height: 1; border-radius: 0.35em; text-transform: uppercase; vertical-align: middle; margin-left: 0.5rem\">DATE</span>\n",
              "</mark>\n",
              ".</div></span>"
            ],
            "text/plain": [
              "<IPython.core.display.HTML object>"
            ]
          },
          "metadata": {
            "tags": []
          }
        }
      ]
    },
    {
      "cell_type": "code",
      "metadata": {
        "id": "LCtlaQHQmQD7",
        "colab_type": "code",
        "colab": {}
      },
      "source": [
        ""
      ],
      "execution_count": 0,
      "outputs": []
    },
    {
      "cell_type": "code",
      "metadata": {
        "id": "DdRyZJL5Phvi",
        "colab_type": "code",
        "outputId": "133eccfa-d917-4869-8084-7068d2a1169d",
        "colab": {
          "base_uri": "https://localhost:8080/",
          "height": 34
        }
      },
      "source": [
        "nltk.jaccard_distance(set(\"orange\"),set(\"orenge\"))"
      ],
      "execution_count": 0,
      "outputs": [
        {
          "output_type": "execute_result",
          "data": {
            "text/plain": [
              "0.16666666666666666"
            ]
          },
          "metadata": {
            "tags": []
          },
          "execution_count": 40
        }
      ]
    },
    {
      "cell_type": "code",
      "metadata": {
        "id": "mgv_WHg4maFy",
        "colab_type": "code",
        "outputId": "e13b85c3-9ecd-4b8e-913e-8427ff95d37e",
        "colab": {
          "base_uri": "https://localhost:8080/",
          "height": 34
        }
      },
      "source": [
        "nltk.jaccard_distance(set(\"Anshu\"),set(\"orenge\"))"
      ],
      "execution_count": 0,
      "outputs": [
        {
          "output_type": "execute_result",
          "data": {
            "text/plain": [
              "0.8888888888888888"
            ]
          },
          "metadata": {
            "tags": []
          },
          "execution_count": 41
        }
      ]
    },
    {
      "cell_type": "code",
      "metadata": {
        "id": "5qWMKMuvmcBX",
        "colab_type": "code",
        "colab": {}
      },
      "source": [
        "dd = [\"orange\",\"mango\",\"apple\",\"banana\"]\n",
        "\n",
        "def correct(word):\n",
        "  score = 1\n",
        "  ans = \"\"\n",
        "  for w in dd:\n",
        "    dist = nltk.jaccard_distance(set(w),set(word))\n",
        "    if dist<score:\n",
        "      ans = w\n",
        "      score = dist\n",
        "  return ans"
      ],
      "execution_count": 0,
      "outputs": []
    },
    {
      "cell_type": "code",
      "metadata": {
        "id": "9IMKQ5KWm0np",
        "colab_type": "code",
        "outputId": "0cbc0a66-ea63-4923-b57f-a8e56a4e1d0b",
        "colab": {
          "base_uri": "https://localhost:8080/",
          "height": 34
        }
      },
      "source": [
        "correct(\"applo\")"
      ],
      "execution_count": 0,
      "outputs": [
        {
          "output_type": "execute_result",
          "data": {
            "text/plain": [
              "'apple'"
            ]
          },
          "metadata": {
            "tags": []
          },
          "execution_count": 51
        }
      ]
    },
    {
      "cell_type": "code",
      "metadata": {
        "id": "dsrNICWPm2IL",
        "colab_type": "code",
        "colab": {}
      },
      "source": [
        ""
      ],
      "execution_count": 0,
      "outputs": []
    }
  ]
}