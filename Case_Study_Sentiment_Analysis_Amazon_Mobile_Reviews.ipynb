{
  "nbformat": 4,
  "nbformat_minor": 0,
  "metadata": {
    "colab": {
      "name": "Case_Study_Sentiment_Analysis_Amazon_Mobile_Reviews.ipynb",
      "provenance": [],
      "collapsed_sections": [
        "xZpdO8pxf3Ut",
        "llhRHHkdf3VJ"
      ],
      "include_colab_link": true
    },
    "kernelspec": {
      "display_name": "Python 3",
      "language": "python",
      "name": "python3"
    },
    "language_info": {
      "codemirror_mode": {
        "name": "ipython",
        "version": 3
      },
      "file_extension": ".py",
      "mimetype": "text/x-python",
      "name": "python",
      "nbconvert_exporter": "python",
      "pygments_lexer": "ipython3",
      "version": "3.6.7"
    },
    "accelerator": "GPU"
  },
  "cells": [
    {
      "cell_type": "markdown",
      "metadata": {
        "id": "view-in-github",
        "colab_type": "text"
      },
      "source": [
        "<a href=\"https://colab.research.google.com/github/anshupandey/Natural_language_Processing/blob/master/Case_Study_Sentiment_Analysis_Amazon_Mobile_Reviews.ipynb\" target=\"_parent\"><img src=\"https://colab.research.google.com/assets/colab-badge.svg\" alt=\"Open In Colab\"/></a>"
      ]
    },
    {
      "cell_type": "markdown",
      "metadata": {
        "id": "gfRJGqrMf3TZ"
      },
      "source": [
        "# Case Study: Sentiment Analysis"
      ]
    },
    {
      "cell_type": "markdown",
      "metadata": {
        "id": "miHd4ECMf3Te"
      },
      "source": [
        "### Data Prep"
      ]
    },
    {
      "cell_type": "code",
      "metadata": {
        "id": "UND9cVC6f3Th"
      },
      "source": [
        "# This dataset also requires cleaning text and removing unwanted tokens using regular expressions,\n",
        "# this part is not covered in this notebook to save time but strongly recommeded to perform."
      ],
      "execution_count": null,
      "outputs": []
    },
    {
      "cell_type": "code",
      "metadata": {
        "id": "j6l7cJRfrGTu"
      },
      "source": [
        "!wget -q https://www.dropbox.com/s/6akxxtsfko5banv/Amazon_Unlocked_Mobile.csv"
      ],
      "execution_count": 1,
      "outputs": []
    },
    {
      "cell_type": "code",
      "metadata": {
        "id": "4UcaVNmMf3To",
        "colab": {
          "base_uri": "https://localhost:8080/",
          "height": 310
        },
        "outputId": "3377379f-dc05-4cf1-ad60-13d76cb2d38b"
      },
      "source": [
        "import pandas as pd\n",
        "import numpy as np\n",
        "\n",
        "# Read in the data\n",
        "df = pd.read_csv(r\"Amazon_Unlocked_Mobile.csv\")\n",
        "print(df.shape)\n",
        "# Sample the data to speed up computation\n",
        "df = df.sample(frac=0.2, random_state=10)\n",
        "print(df.shape)\n",
        "df.head()"
      ],
      "execution_count": 2,
      "outputs": [
        {
          "output_type": "stream",
          "name": "stdout",
          "text": [
            "(413840, 6)\n",
            "(82768, 6)\n"
          ]
        },
        {
          "output_type": "execute_result",
          "data": {
            "text/plain": [
              "                                             Product Name Brand Name   Price  \\\n",
              "394349  Sony XPERIA Z2 D6503 FACTORY UNLOCKED Internat...        NaN  244.95   \n",
              "34377       Apple iPhone 5c 8GB (Pink) - Verizon Wireless      Apple  194.99   \n",
              "248521  Motorola Droid RAZR MAXX XT912 M Verizon Smart...   Motorola  174.99   \n",
              "167661  CNPGD [U.S. Office Extended Warranty] Smartwat...      CNPGD   49.99   \n",
              "73287   Apple iPhone 7 Unlocked Phone 256 GB - US Vers...      Apple  922.00   \n",
              "\n",
              "        Rating                                            Reviews  \\\n",
              "394349       5  Very good one! Better than Samsung S and iphon...   \n",
              "34377        1  The phone needed a SIM card, would have been n...   \n",
              "248521       5  I was 3 months away from my upgrade and my Str...   \n",
              "167661       1                     an experience i want to forget   \n",
              "73287        5        GREAT PHONE WORK ACCORDING MY EXPECTATIONS.   \n",
              "\n",
              "        Review Votes  \n",
              "394349           0.0  \n",
              "34377            1.0  \n",
              "248521           3.0  \n",
              "167661           0.0  \n",
              "73287            1.0  "
            ],
            "text/html": [
              "\n",
              "  <div id=\"df-42039ec9-f782-4b1e-bda6-c2caf7b601fd\" class=\"colab-df-container\">\n",
              "    <div>\n",
              "<style scoped>\n",
              "    .dataframe tbody tr th:only-of-type {\n",
              "        vertical-align: middle;\n",
              "    }\n",
              "\n",
              "    .dataframe tbody tr th {\n",
              "        vertical-align: top;\n",
              "    }\n",
              "\n",
              "    .dataframe thead th {\n",
              "        text-align: right;\n",
              "    }\n",
              "</style>\n",
              "<table border=\"1\" class=\"dataframe\">\n",
              "  <thead>\n",
              "    <tr style=\"text-align: right;\">\n",
              "      <th></th>\n",
              "      <th>Product Name</th>\n",
              "      <th>Brand Name</th>\n",
              "      <th>Price</th>\n",
              "      <th>Rating</th>\n",
              "      <th>Reviews</th>\n",
              "      <th>Review Votes</th>\n",
              "    </tr>\n",
              "  </thead>\n",
              "  <tbody>\n",
              "    <tr>\n",
              "      <th>394349</th>\n",
              "      <td>Sony XPERIA Z2 D6503 FACTORY UNLOCKED Internat...</td>\n",
              "      <td>NaN</td>\n",
              "      <td>244.95</td>\n",
              "      <td>5</td>\n",
              "      <td>Very good one! Better than Samsung S and iphon...</td>\n",
              "      <td>0.0</td>\n",
              "    </tr>\n",
              "    <tr>\n",
              "      <th>34377</th>\n",
              "      <td>Apple iPhone 5c 8GB (Pink) - Verizon Wireless</td>\n",
              "      <td>Apple</td>\n",
              "      <td>194.99</td>\n",
              "      <td>1</td>\n",
              "      <td>The phone needed a SIM card, would have been n...</td>\n",
              "      <td>1.0</td>\n",
              "    </tr>\n",
              "    <tr>\n",
              "      <th>248521</th>\n",
              "      <td>Motorola Droid RAZR MAXX XT912 M Verizon Smart...</td>\n",
              "      <td>Motorola</td>\n",
              "      <td>174.99</td>\n",
              "      <td>5</td>\n",
              "      <td>I was 3 months away from my upgrade and my Str...</td>\n",
              "      <td>3.0</td>\n",
              "    </tr>\n",
              "    <tr>\n",
              "      <th>167661</th>\n",
              "      <td>CNPGD [U.S. Office Extended Warranty] Smartwat...</td>\n",
              "      <td>CNPGD</td>\n",
              "      <td>49.99</td>\n",
              "      <td>1</td>\n",
              "      <td>an experience i want to forget</td>\n",
              "      <td>0.0</td>\n",
              "    </tr>\n",
              "    <tr>\n",
              "      <th>73287</th>\n",
              "      <td>Apple iPhone 7 Unlocked Phone 256 GB - US Vers...</td>\n",
              "      <td>Apple</td>\n",
              "      <td>922.00</td>\n",
              "      <td>5</td>\n",
              "      <td>GREAT PHONE WORK ACCORDING MY EXPECTATIONS.</td>\n",
              "      <td>1.0</td>\n",
              "    </tr>\n",
              "  </tbody>\n",
              "</table>\n",
              "</div>\n",
              "    <div class=\"colab-df-buttons\">\n",
              "\n",
              "  <div class=\"colab-df-container\">\n",
              "    <button class=\"colab-df-convert\" onclick=\"convertToInteractive('df-42039ec9-f782-4b1e-bda6-c2caf7b601fd')\"\n",
              "            title=\"Convert this dataframe to an interactive table.\"\n",
              "            style=\"display:none;\">\n",
              "\n",
              "  <svg xmlns=\"http://www.w3.org/2000/svg\" height=\"24px\" viewBox=\"0 -960 960 960\">\n",
              "    <path d=\"M120-120v-720h720v720H120Zm60-500h600v-160H180v160Zm220 220h160v-160H400v160Zm0 220h160v-160H400v160ZM180-400h160v-160H180v160Zm440 0h160v-160H620v160ZM180-180h160v-160H180v160Zm440 0h160v-160H620v160Z\"/>\n",
              "  </svg>\n",
              "    </button>\n",
              "\n",
              "  <style>\n",
              "    .colab-df-container {\n",
              "      display:flex;\n",
              "      gap: 12px;\n",
              "    }\n",
              "\n",
              "    .colab-df-convert {\n",
              "      background-color: #E8F0FE;\n",
              "      border: none;\n",
              "      border-radius: 50%;\n",
              "      cursor: pointer;\n",
              "      display: none;\n",
              "      fill: #1967D2;\n",
              "      height: 32px;\n",
              "      padding: 0 0 0 0;\n",
              "      width: 32px;\n",
              "    }\n",
              "\n",
              "    .colab-df-convert:hover {\n",
              "      background-color: #E2EBFA;\n",
              "      box-shadow: 0px 1px 2px rgba(60, 64, 67, 0.3), 0px 1px 3px 1px rgba(60, 64, 67, 0.15);\n",
              "      fill: #174EA6;\n",
              "    }\n",
              "\n",
              "    .colab-df-buttons div {\n",
              "      margin-bottom: 4px;\n",
              "    }\n",
              "\n",
              "    [theme=dark] .colab-df-convert {\n",
              "      background-color: #3B4455;\n",
              "      fill: #D2E3FC;\n",
              "    }\n",
              "\n",
              "    [theme=dark] .colab-df-convert:hover {\n",
              "      background-color: #434B5C;\n",
              "      box-shadow: 0px 1px 3px 1px rgba(0, 0, 0, 0.15);\n",
              "      filter: drop-shadow(0px 1px 2px rgba(0, 0, 0, 0.3));\n",
              "      fill: #FFFFFF;\n",
              "    }\n",
              "  </style>\n",
              "\n",
              "    <script>\n",
              "      const buttonEl =\n",
              "        document.querySelector('#df-42039ec9-f782-4b1e-bda6-c2caf7b601fd button.colab-df-convert');\n",
              "      buttonEl.style.display =\n",
              "        google.colab.kernel.accessAllowed ? 'block' : 'none';\n",
              "\n",
              "      async function convertToInteractive(key) {\n",
              "        const element = document.querySelector('#df-42039ec9-f782-4b1e-bda6-c2caf7b601fd');\n",
              "        const dataTable =\n",
              "          await google.colab.kernel.invokeFunction('convertToInteractive',\n",
              "                                                    [key], {});\n",
              "        if (!dataTable) return;\n",
              "\n",
              "        const docLinkHtml = 'Like what you see? Visit the ' +\n",
              "          '<a target=\"_blank\" href=https://colab.research.google.com/notebooks/data_table.ipynb>data table notebook</a>'\n",
              "          + ' to learn more about interactive tables.';\n",
              "        element.innerHTML = '';\n",
              "        dataTable['output_type'] = 'display_data';\n",
              "        await google.colab.output.renderOutput(dataTable, element);\n",
              "        const docLink = document.createElement('div');\n",
              "        docLink.innerHTML = docLinkHtml;\n",
              "        element.appendChild(docLink);\n",
              "      }\n",
              "    </script>\n",
              "  </div>\n",
              "\n",
              "\n",
              "<div id=\"df-2e729da5-9e0e-4a40-9428-0baf9164b811\">\n",
              "  <button class=\"colab-df-quickchart\" onclick=\"quickchart('df-2e729da5-9e0e-4a40-9428-0baf9164b811')\"\n",
              "            title=\"Suggest charts\"\n",
              "            style=\"display:none;\">\n",
              "\n",
              "<svg xmlns=\"http://www.w3.org/2000/svg\" height=\"24px\"viewBox=\"0 0 24 24\"\n",
              "     width=\"24px\">\n",
              "    <g>\n",
              "        <path d=\"M19 3H5c-1.1 0-2 .9-2 2v14c0 1.1.9 2 2 2h14c1.1 0 2-.9 2-2V5c0-1.1-.9-2-2-2zM9 17H7v-7h2v7zm4 0h-2V7h2v10zm4 0h-2v-4h2v4z\"/>\n",
              "    </g>\n",
              "</svg>\n",
              "  </button>\n",
              "\n",
              "<style>\n",
              "  .colab-df-quickchart {\n",
              "      --bg-color: #E8F0FE;\n",
              "      --fill-color: #1967D2;\n",
              "      --hover-bg-color: #E2EBFA;\n",
              "      --hover-fill-color: #174EA6;\n",
              "      --disabled-fill-color: #AAA;\n",
              "      --disabled-bg-color: #DDD;\n",
              "  }\n",
              "\n",
              "  [theme=dark] .colab-df-quickchart {\n",
              "      --bg-color: #3B4455;\n",
              "      --fill-color: #D2E3FC;\n",
              "      --hover-bg-color: #434B5C;\n",
              "      --hover-fill-color: #FFFFFF;\n",
              "      --disabled-bg-color: #3B4455;\n",
              "      --disabled-fill-color: #666;\n",
              "  }\n",
              "\n",
              "  .colab-df-quickchart {\n",
              "    background-color: var(--bg-color);\n",
              "    border: none;\n",
              "    border-radius: 50%;\n",
              "    cursor: pointer;\n",
              "    display: none;\n",
              "    fill: var(--fill-color);\n",
              "    height: 32px;\n",
              "    padding: 0;\n",
              "    width: 32px;\n",
              "  }\n",
              "\n",
              "  .colab-df-quickchart:hover {\n",
              "    background-color: var(--hover-bg-color);\n",
              "    box-shadow: 0 1px 2px rgba(60, 64, 67, 0.3), 0 1px 3px 1px rgba(60, 64, 67, 0.15);\n",
              "    fill: var(--button-hover-fill-color);\n",
              "  }\n",
              "\n",
              "  .colab-df-quickchart-complete:disabled,\n",
              "  .colab-df-quickchart-complete:disabled:hover {\n",
              "    background-color: var(--disabled-bg-color);\n",
              "    fill: var(--disabled-fill-color);\n",
              "    box-shadow: none;\n",
              "  }\n",
              "\n",
              "  .colab-df-spinner {\n",
              "    border: 2px solid var(--fill-color);\n",
              "    border-color: transparent;\n",
              "    border-bottom-color: var(--fill-color);\n",
              "    animation:\n",
              "      spin 1s steps(1) infinite;\n",
              "  }\n",
              "\n",
              "  @keyframes spin {\n",
              "    0% {\n",
              "      border-color: transparent;\n",
              "      border-bottom-color: var(--fill-color);\n",
              "      border-left-color: var(--fill-color);\n",
              "    }\n",
              "    20% {\n",
              "      border-color: transparent;\n",
              "      border-left-color: var(--fill-color);\n",
              "      border-top-color: var(--fill-color);\n",
              "    }\n",
              "    30% {\n",
              "      border-color: transparent;\n",
              "      border-left-color: var(--fill-color);\n",
              "      border-top-color: var(--fill-color);\n",
              "      border-right-color: var(--fill-color);\n",
              "    }\n",
              "    40% {\n",
              "      border-color: transparent;\n",
              "      border-right-color: var(--fill-color);\n",
              "      border-top-color: var(--fill-color);\n",
              "    }\n",
              "    60% {\n",
              "      border-color: transparent;\n",
              "      border-right-color: var(--fill-color);\n",
              "    }\n",
              "    80% {\n",
              "      border-color: transparent;\n",
              "      border-right-color: var(--fill-color);\n",
              "      border-bottom-color: var(--fill-color);\n",
              "    }\n",
              "    90% {\n",
              "      border-color: transparent;\n",
              "      border-bottom-color: var(--fill-color);\n",
              "    }\n",
              "  }\n",
              "</style>\n",
              "\n",
              "  <script>\n",
              "    async function quickchart(key) {\n",
              "      const quickchartButtonEl =\n",
              "        document.querySelector('#' + key + ' button');\n",
              "      quickchartButtonEl.disabled = true;  // To prevent multiple clicks.\n",
              "      quickchartButtonEl.classList.add('colab-df-spinner');\n",
              "      try {\n",
              "        const charts = await google.colab.kernel.invokeFunction(\n",
              "            'suggestCharts', [key], {});\n",
              "      } catch (error) {\n",
              "        console.error('Error during call to suggestCharts:', error);\n",
              "      }\n",
              "      quickchartButtonEl.classList.remove('colab-df-spinner');\n",
              "      quickchartButtonEl.classList.add('colab-df-quickchart-complete');\n",
              "    }\n",
              "    (() => {\n",
              "      let quickchartButtonEl =\n",
              "        document.querySelector('#df-2e729da5-9e0e-4a40-9428-0baf9164b811 button');\n",
              "      quickchartButtonEl.style.display =\n",
              "        google.colab.kernel.accessAllowed ? 'block' : 'none';\n",
              "    })();\n",
              "  </script>\n",
              "</div>\n",
              "\n",
              "    </div>\n",
              "  </div>\n"
            ],
            "application/vnd.google.colaboratory.intrinsic+json": {
              "type": "dataframe",
              "variable_name": "df",
              "summary": "{\n  \"name\": \"df\",\n  \"rows\": 82768,\n  \"fields\": [\n    {\n      \"column\": \"Product Name\",\n      \"properties\": {\n        \"dtype\": \"category\",\n        \"num_unique_values\": 3577,\n        \"samples\": [\n          \"Samsung SGH-T989 Galaxy S II 16GB White Android Phone - T-Mobile\",\n          \"Samsung G850F Galaxy Alpha Factory Unlocked Cell Phone - Unlocked (Charcoal Black)\",\n          \"HUAWEI Ascend Mate White Unlocked GSM Phone with 6.1\\\" IPS+ LCD Touchscreen\"\n        ],\n        \"semantic_type\": \"\",\n        \"description\": \"\"\n      }\n    },\n    {\n      \"column\": \"Brand Name\",\n      \"properties\": {\n        \"dtype\": \"category\",\n        \"num_unique_values\": 298,\n        \"samples\": [\n          \"Leagoo\",\n          \"John's\",\n          \"SIAM\"\n        ],\n        \"semantic_type\": \"\",\n        \"description\": \"\"\n      }\n    },\n    {\n      \"column\": \"Price\",\n      \"properties\": {\n        \"dtype\": \"number\",\n        \"std\": 275.23957273761226,\n        \"min\": 1.73,\n        \"max\": 2566.0,\n        \"num_unique_values\": 1518,\n        \"samples\": [\n          379.98,\n          66.99,\n          164.98\n        ],\n        \"semantic_type\": \"\",\n        \"description\": \"\"\n      }\n    },\n    {\n      \"column\": \"Rating\",\n      \"properties\": {\n        \"dtype\": \"number\",\n        \"std\": 1,\n        \"min\": 1,\n        \"max\": 5,\n        \"num_unique_values\": 5,\n        \"samples\": [\n          1,\n          3,\n          4\n        ],\n        \"semantic_type\": \"\",\n        \"description\": \"\"\n      }\n    },\n    {\n      \"column\": \"Reviews\",\n      \"properties\": {\n        \"dtype\": \"string\",\n        \"num_unique_values\": 55961,\n        \"samples\": [\n          \"I received it the way I wanted it\",\n          \"We are unable to get the LTE to work. The phones work and were new as stated.\",\n          \"So far, around 2 weeks or so, the phone is exemplary. The price is significantly lower than more commercialized brands but the product is on par with quality. The operating system is newer with many strong features. A good buy.\"\n        ],\n        \"semantic_type\": \"\",\n        \"description\": \"\"\n      }\n    },\n    {\n      \"column\": \"Review Votes\",\n      \"properties\": {\n        \"dtype\": \"number\",\n        \"std\": 8.719499496721234,\n        \"min\": 0.0,\n        \"max\": 524.0,\n        \"num_unique_values\": 160,\n        \"samples\": [\n          56.0,\n          82.0,\n          146.0\n        ],\n        \"semantic_type\": \"\",\n        \"description\": \"\"\n      }\n    }\n  ]\n}"
            }
          },
          "metadata": {},
          "execution_count": 2
        }
      ]
    },
    {
      "cell_type": "code",
      "metadata": {
        "id": "L_SSVOTVf3Tw",
        "colab": {
          "base_uri": "https://localhost:8080/",
          "height": 675
        },
        "outputId": "fbfb2ae8-ff28-411b-ca2d-50ca518f79de"
      },
      "source": [
        "# Drop missing values\n",
        "df.dropna(inplace=True)\n",
        "\n",
        "# Remove any 'neutral' ratings equal to 3\n",
        "df = df[df['Rating'] != 3]\n",
        "\n",
        "# Encode 4s and 5s as 1 (rated positively)\n",
        "# Encode 1s and 2s as 0 (rated poorly)\n",
        "df['Positively Rated'] = np.where(df['Rating'] > 3, 1, 0)\n",
        "print(df.shape)\n",
        "df.head(10)\n"
      ],
      "execution_count": 3,
      "outputs": [
        {
          "output_type": "stream",
          "name": "stdout",
          "text": [
            "(61530, 7)\n"
          ]
        },
        {
          "output_type": "stream",
          "name": "stderr",
          "text": [
            "<ipython-input-3-a79666979ac3>:9: SettingWithCopyWarning: \n",
            "A value is trying to be set on a copy of a slice from a DataFrame.\n",
            "Try using .loc[row_indexer,col_indexer] = value instead\n",
            "\n",
            "See the caveats in the documentation: https://pandas.pydata.org/pandas-docs/stable/user_guide/indexing.html#returning-a-view-versus-a-copy\n",
            "  df['Positively Rated'] = np.where(df['Rating'] > 3, 1, 0)\n"
          ]
        },
        {
          "output_type": "execute_result",
          "data": {
            "text/plain": [
              "                                             Product Name  Brand Name   Price  \\\n",
              "34377       Apple iPhone 5c 8GB (Pink) - Verizon Wireless       Apple  194.99   \n",
              "248521  Motorola Droid RAZR MAXX XT912 M Verizon Smart...    Motorola  174.99   \n",
              "167661  CNPGD [U.S. Office Extended Warranty] Smartwat...       CNPGD   49.99   \n",
              "73287   Apple iPhone 7 Unlocked Phone 256 GB - US Vers...       Apple  922.00   \n",
              "277158  Nokia N8 Unlocked GSM Touch Screen Phone Featu...       Nokia   95.00   \n",
              "100311  Blackberry Torch 2 9810 Unlocked Phone with 1....  BlackBerry   77.49   \n",
              "251669  Motorola Moto E (1st Generation) - Black - 4 G...    Motorola   89.99   \n",
              "279878  OtterBox 77-29864 Defender Series Hybrid Case ...    OtterBox    9.99   \n",
              "406017  Verizon HTC Rezound 4G Android Smarphone - 8MP...         HTC   74.99   \n",
              "302567  RCA M1 Unlocked Cell Phone, Dual Sim, 5Mp Came...         RCA  159.99   \n",
              "\n",
              "        Rating                                            Reviews  \\\n",
              "34377        1  The phone needed a SIM card, would have been n...   \n",
              "248521       5  I was 3 months away from my upgrade and my Str...   \n",
              "167661       1                     an experience i want to forget   \n",
              "73287        5        GREAT PHONE WORK ACCORDING MY EXPECTATIONS.   \n",
              "277158       5  I fell in love with this phone because it did ...   \n",
              "100311       5  I am pleased with this Blackberry phone! The p...   \n",
              "251669       5  Great product, best value for money smartphone...   \n",
              "279878       5          I've bought 3 no problems. Fast delivery.   \n",
              "406017       4                       Great phone for the price...   \n",
              "302567       5  My mom is not good with new technoloy but this...   \n",
              "\n",
              "        Review Votes  Positively Rated  \n",
              "34377            1.0                 0  \n",
              "248521           3.0                 1  \n",
              "167661           0.0                 0  \n",
              "73287            1.0                 1  \n",
              "277158           0.0                 1  \n",
              "100311           0.0                 1  \n",
              "251669           0.0                 1  \n",
              "279878           0.0                 1  \n",
              "406017           0.0                 1  \n",
              "302567           4.0                 1  "
            ],
            "text/html": [
              "\n",
              "  <div id=\"df-4c92a042-c5b2-4b17-a334-9c00745c0d17\" class=\"colab-df-container\">\n",
              "    <div>\n",
              "<style scoped>\n",
              "    .dataframe tbody tr th:only-of-type {\n",
              "        vertical-align: middle;\n",
              "    }\n",
              "\n",
              "    .dataframe tbody tr th {\n",
              "        vertical-align: top;\n",
              "    }\n",
              "\n",
              "    .dataframe thead th {\n",
              "        text-align: right;\n",
              "    }\n",
              "</style>\n",
              "<table border=\"1\" class=\"dataframe\">\n",
              "  <thead>\n",
              "    <tr style=\"text-align: right;\">\n",
              "      <th></th>\n",
              "      <th>Product Name</th>\n",
              "      <th>Brand Name</th>\n",
              "      <th>Price</th>\n",
              "      <th>Rating</th>\n",
              "      <th>Reviews</th>\n",
              "      <th>Review Votes</th>\n",
              "      <th>Positively Rated</th>\n",
              "    </tr>\n",
              "  </thead>\n",
              "  <tbody>\n",
              "    <tr>\n",
              "      <th>34377</th>\n",
              "      <td>Apple iPhone 5c 8GB (Pink) - Verizon Wireless</td>\n",
              "      <td>Apple</td>\n",
              "      <td>194.99</td>\n",
              "      <td>1</td>\n",
              "      <td>The phone needed a SIM card, would have been n...</td>\n",
              "      <td>1.0</td>\n",
              "      <td>0</td>\n",
              "    </tr>\n",
              "    <tr>\n",
              "      <th>248521</th>\n",
              "      <td>Motorola Droid RAZR MAXX XT912 M Verizon Smart...</td>\n",
              "      <td>Motorola</td>\n",
              "      <td>174.99</td>\n",
              "      <td>5</td>\n",
              "      <td>I was 3 months away from my upgrade and my Str...</td>\n",
              "      <td>3.0</td>\n",
              "      <td>1</td>\n",
              "    </tr>\n",
              "    <tr>\n",
              "      <th>167661</th>\n",
              "      <td>CNPGD [U.S. Office Extended Warranty] Smartwat...</td>\n",
              "      <td>CNPGD</td>\n",
              "      <td>49.99</td>\n",
              "      <td>1</td>\n",
              "      <td>an experience i want to forget</td>\n",
              "      <td>0.0</td>\n",
              "      <td>0</td>\n",
              "    </tr>\n",
              "    <tr>\n",
              "      <th>73287</th>\n",
              "      <td>Apple iPhone 7 Unlocked Phone 256 GB - US Vers...</td>\n",
              "      <td>Apple</td>\n",
              "      <td>922.00</td>\n",
              "      <td>5</td>\n",
              "      <td>GREAT PHONE WORK ACCORDING MY EXPECTATIONS.</td>\n",
              "      <td>1.0</td>\n",
              "      <td>1</td>\n",
              "    </tr>\n",
              "    <tr>\n",
              "      <th>277158</th>\n",
              "      <td>Nokia N8 Unlocked GSM Touch Screen Phone Featu...</td>\n",
              "      <td>Nokia</td>\n",
              "      <td>95.00</td>\n",
              "      <td>5</td>\n",
              "      <td>I fell in love with this phone because it did ...</td>\n",
              "      <td>0.0</td>\n",
              "      <td>1</td>\n",
              "    </tr>\n",
              "    <tr>\n",
              "      <th>100311</th>\n",
              "      <td>Blackberry Torch 2 9810 Unlocked Phone with 1....</td>\n",
              "      <td>BlackBerry</td>\n",
              "      <td>77.49</td>\n",
              "      <td>5</td>\n",
              "      <td>I am pleased with this Blackberry phone! The p...</td>\n",
              "      <td>0.0</td>\n",
              "      <td>1</td>\n",
              "    </tr>\n",
              "    <tr>\n",
              "      <th>251669</th>\n",
              "      <td>Motorola Moto E (1st Generation) - Black - 4 G...</td>\n",
              "      <td>Motorola</td>\n",
              "      <td>89.99</td>\n",
              "      <td>5</td>\n",
              "      <td>Great product, best value for money smartphone...</td>\n",
              "      <td>0.0</td>\n",
              "      <td>1</td>\n",
              "    </tr>\n",
              "    <tr>\n",
              "      <th>279878</th>\n",
              "      <td>OtterBox 77-29864 Defender Series Hybrid Case ...</td>\n",
              "      <td>OtterBox</td>\n",
              "      <td>9.99</td>\n",
              "      <td>5</td>\n",
              "      <td>I've bought 3 no problems. Fast delivery.</td>\n",
              "      <td>0.0</td>\n",
              "      <td>1</td>\n",
              "    </tr>\n",
              "    <tr>\n",
              "      <th>406017</th>\n",
              "      <td>Verizon HTC Rezound 4G Android Smarphone - 8MP...</td>\n",
              "      <td>HTC</td>\n",
              "      <td>74.99</td>\n",
              "      <td>4</td>\n",
              "      <td>Great phone for the price...</td>\n",
              "      <td>0.0</td>\n",
              "      <td>1</td>\n",
              "    </tr>\n",
              "    <tr>\n",
              "      <th>302567</th>\n",
              "      <td>RCA M1 Unlocked Cell Phone, Dual Sim, 5Mp Came...</td>\n",
              "      <td>RCA</td>\n",
              "      <td>159.99</td>\n",
              "      <td>5</td>\n",
              "      <td>My mom is not good with new technoloy but this...</td>\n",
              "      <td>4.0</td>\n",
              "      <td>1</td>\n",
              "    </tr>\n",
              "  </tbody>\n",
              "</table>\n",
              "</div>\n",
              "    <div class=\"colab-df-buttons\">\n",
              "\n",
              "  <div class=\"colab-df-container\">\n",
              "    <button class=\"colab-df-convert\" onclick=\"convertToInteractive('df-4c92a042-c5b2-4b17-a334-9c00745c0d17')\"\n",
              "            title=\"Convert this dataframe to an interactive table.\"\n",
              "            style=\"display:none;\">\n",
              "\n",
              "  <svg xmlns=\"http://www.w3.org/2000/svg\" height=\"24px\" viewBox=\"0 -960 960 960\">\n",
              "    <path d=\"M120-120v-720h720v720H120Zm60-500h600v-160H180v160Zm220 220h160v-160H400v160Zm0 220h160v-160H400v160ZM180-400h160v-160H180v160Zm440 0h160v-160H620v160ZM180-180h160v-160H180v160Zm440 0h160v-160H620v160Z\"/>\n",
              "  </svg>\n",
              "    </button>\n",
              "\n",
              "  <style>\n",
              "    .colab-df-container {\n",
              "      display:flex;\n",
              "      gap: 12px;\n",
              "    }\n",
              "\n",
              "    .colab-df-convert {\n",
              "      background-color: #E8F0FE;\n",
              "      border: none;\n",
              "      border-radius: 50%;\n",
              "      cursor: pointer;\n",
              "      display: none;\n",
              "      fill: #1967D2;\n",
              "      height: 32px;\n",
              "      padding: 0 0 0 0;\n",
              "      width: 32px;\n",
              "    }\n",
              "\n",
              "    .colab-df-convert:hover {\n",
              "      background-color: #E2EBFA;\n",
              "      box-shadow: 0px 1px 2px rgba(60, 64, 67, 0.3), 0px 1px 3px 1px rgba(60, 64, 67, 0.15);\n",
              "      fill: #174EA6;\n",
              "    }\n",
              "\n",
              "    .colab-df-buttons div {\n",
              "      margin-bottom: 4px;\n",
              "    }\n",
              "\n",
              "    [theme=dark] .colab-df-convert {\n",
              "      background-color: #3B4455;\n",
              "      fill: #D2E3FC;\n",
              "    }\n",
              "\n",
              "    [theme=dark] .colab-df-convert:hover {\n",
              "      background-color: #434B5C;\n",
              "      box-shadow: 0px 1px 3px 1px rgba(0, 0, 0, 0.15);\n",
              "      filter: drop-shadow(0px 1px 2px rgba(0, 0, 0, 0.3));\n",
              "      fill: #FFFFFF;\n",
              "    }\n",
              "  </style>\n",
              "\n",
              "    <script>\n",
              "      const buttonEl =\n",
              "        document.querySelector('#df-4c92a042-c5b2-4b17-a334-9c00745c0d17 button.colab-df-convert');\n",
              "      buttonEl.style.display =\n",
              "        google.colab.kernel.accessAllowed ? 'block' : 'none';\n",
              "\n",
              "      async function convertToInteractive(key) {\n",
              "        const element = document.querySelector('#df-4c92a042-c5b2-4b17-a334-9c00745c0d17');\n",
              "        const dataTable =\n",
              "          await google.colab.kernel.invokeFunction('convertToInteractive',\n",
              "                                                    [key], {});\n",
              "        if (!dataTable) return;\n",
              "\n",
              "        const docLinkHtml = 'Like what you see? Visit the ' +\n",
              "          '<a target=\"_blank\" href=https://colab.research.google.com/notebooks/data_table.ipynb>data table notebook</a>'\n",
              "          + ' to learn more about interactive tables.';\n",
              "        element.innerHTML = '';\n",
              "        dataTable['output_type'] = 'display_data';\n",
              "        await google.colab.output.renderOutput(dataTable, element);\n",
              "        const docLink = document.createElement('div');\n",
              "        docLink.innerHTML = docLinkHtml;\n",
              "        element.appendChild(docLink);\n",
              "      }\n",
              "    </script>\n",
              "  </div>\n",
              "\n",
              "\n",
              "<div id=\"df-6fe0faf3-62a3-474b-82d5-1390de6d816f\">\n",
              "  <button class=\"colab-df-quickchart\" onclick=\"quickchart('df-6fe0faf3-62a3-474b-82d5-1390de6d816f')\"\n",
              "            title=\"Suggest charts\"\n",
              "            style=\"display:none;\">\n",
              "\n",
              "<svg xmlns=\"http://www.w3.org/2000/svg\" height=\"24px\"viewBox=\"0 0 24 24\"\n",
              "     width=\"24px\">\n",
              "    <g>\n",
              "        <path d=\"M19 3H5c-1.1 0-2 .9-2 2v14c0 1.1.9 2 2 2h14c1.1 0 2-.9 2-2V5c0-1.1-.9-2-2-2zM9 17H7v-7h2v7zm4 0h-2V7h2v10zm4 0h-2v-4h2v4z\"/>\n",
              "    </g>\n",
              "</svg>\n",
              "  </button>\n",
              "\n",
              "<style>\n",
              "  .colab-df-quickchart {\n",
              "      --bg-color: #E8F0FE;\n",
              "      --fill-color: #1967D2;\n",
              "      --hover-bg-color: #E2EBFA;\n",
              "      --hover-fill-color: #174EA6;\n",
              "      --disabled-fill-color: #AAA;\n",
              "      --disabled-bg-color: #DDD;\n",
              "  }\n",
              "\n",
              "  [theme=dark] .colab-df-quickchart {\n",
              "      --bg-color: #3B4455;\n",
              "      --fill-color: #D2E3FC;\n",
              "      --hover-bg-color: #434B5C;\n",
              "      --hover-fill-color: #FFFFFF;\n",
              "      --disabled-bg-color: #3B4455;\n",
              "      --disabled-fill-color: #666;\n",
              "  }\n",
              "\n",
              "  .colab-df-quickchart {\n",
              "    background-color: var(--bg-color);\n",
              "    border: none;\n",
              "    border-radius: 50%;\n",
              "    cursor: pointer;\n",
              "    display: none;\n",
              "    fill: var(--fill-color);\n",
              "    height: 32px;\n",
              "    padding: 0;\n",
              "    width: 32px;\n",
              "  }\n",
              "\n",
              "  .colab-df-quickchart:hover {\n",
              "    background-color: var(--hover-bg-color);\n",
              "    box-shadow: 0 1px 2px rgba(60, 64, 67, 0.3), 0 1px 3px 1px rgba(60, 64, 67, 0.15);\n",
              "    fill: var(--button-hover-fill-color);\n",
              "  }\n",
              "\n",
              "  .colab-df-quickchart-complete:disabled,\n",
              "  .colab-df-quickchart-complete:disabled:hover {\n",
              "    background-color: var(--disabled-bg-color);\n",
              "    fill: var(--disabled-fill-color);\n",
              "    box-shadow: none;\n",
              "  }\n",
              "\n",
              "  .colab-df-spinner {\n",
              "    border: 2px solid var(--fill-color);\n",
              "    border-color: transparent;\n",
              "    border-bottom-color: var(--fill-color);\n",
              "    animation:\n",
              "      spin 1s steps(1) infinite;\n",
              "  }\n",
              "\n",
              "  @keyframes spin {\n",
              "    0% {\n",
              "      border-color: transparent;\n",
              "      border-bottom-color: var(--fill-color);\n",
              "      border-left-color: var(--fill-color);\n",
              "    }\n",
              "    20% {\n",
              "      border-color: transparent;\n",
              "      border-left-color: var(--fill-color);\n",
              "      border-top-color: var(--fill-color);\n",
              "    }\n",
              "    30% {\n",
              "      border-color: transparent;\n",
              "      border-left-color: var(--fill-color);\n",
              "      border-top-color: var(--fill-color);\n",
              "      border-right-color: var(--fill-color);\n",
              "    }\n",
              "    40% {\n",
              "      border-color: transparent;\n",
              "      border-right-color: var(--fill-color);\n",
              "      border-top-color: var(--fill-color);\n",
              "    }\n",
              "    60% {\n",
              "      border-color: transparent;\n",
              "      border-right-color: var(--fill-color);\n",
              "    }\n",
              "    80% {\n",
              "      border-color: transparent;\n",
              "      border-right-color: var(--fill-color);\n",
              "      border-bottom-color: var(--fill-color);\n",
              "    }\n",
              "    90% {\n",
              "      border-color: transparent;\n",
              "      border-bottom-color: var(--fill-color);\n",
              "    }\n",
              "  }\n",
              "</style>\n",
              "\n",
              "  <script>\n",
              "    async function quickchart(key) {\n",
              "      const quickchartButtonEl =\n",
              "        document.querySelector('#' + key + ' button');\n",
              "      quickchartButtonEl.disabled = true;  // To prevent multiple clicks.\n",
              "      quickchartButtonEl.classList.add('colab-df-spinner');\n",
              "      try {\n",
              "        const charts = await google.colab.kernel.invokeFunction(\n",
              "            'suggestCharts', [key], {});\n",
              "      } catch (error) {\n",
              "        console.error('Error during call to suggestCharts:', error);\n",
              "      }\n",
              "      quickchartButtonEl.classList.remove('colab-df-spinner');\n",
              "      quickchartButtonEl.classList.add('colab-df-quickchart-complete');\n",
              "    }\n",
              "    (() => {\n",
              "      let quickchartButtonEl =\n",
              "        document.querySelector('#df-6fe0faf3-62a3-474b-82d5-1390de6d816f button');\n",
              "      quickchartButtonEl.style.display =\n",
              "        google.colab.kernel.accessAllowed ? 'block' : 'none';\n",
              "    })();\n",
              "  </script>\n",
              "</div>\n",
              "\n",
              "    </div>\n",
              "  </div>\n"
            ],
            "application/vnd.google.colaboratory.intrinsic+json": {
              "type": "dataframe",
              "variable_name": "df",
              "summary": "{\n  \"name\": \"df\",\n  \"rows\": 61530,\n  \"fields\": [\n    {\n      \"column\": \"Product Name\",\n      \"properties\": {\n        \"dtype\": \"category\",\n        \"num_unique_values\": 2889,\n        \"samples\": [\n          \"Figo Virtue 4.0 - Unlocked Dual Sim Smartphone - GSM Unlocked (Pink)\",\n          \"Verizon Apple iPhone 4 8GB No Contract 3G WiFi Camera Smartphone Black CDMA\",\n          \"BLU DASH M2 - 5.0\\\" Smartphone - US GSM Unlocked -Gold\"\n        ],\n        \"semantic_type\": \"\",\n        \"description\": \"\"\n      }\n    },\n    {\n      \"column\": \"Brand Name\",\n      \"properties\": {\n        \"dtype\": \"category\",\n        \"num_unique_values\": 285,\n        \"samples\": [\n          \"BLU\",\n          \"Futuretech\",\n          \"TSJYING\"\n        ],\n        \"semantic_type\": \"\",\n        \"description\": \"\"\n      }\n    },\n    {\n      \"column\": \"Price\",\n      \"properties\": {\n        \"dtype\": \"number\",\n        \"std\": 286.8209057783242,\n        \"min\": 1.73,\n        \"max\": 2566.0,\n        \"num_unique_values\": 1316,\n        \"samples\": [\n          195.99,\n          382.29,\n          27.49\n        ],\n        \"semantic_type\": \"\",\n        \"description\": \"\"\n      }\n    },\n    {\n      \"column\": \"Rating\",\n      \"properties\": {\n        \"dtype\": \"number\",\n        \"std\": 1,\n        \"min\": 1,\n        \"max\": 5,\n        \"num_unique_values\": 4,\n        \"samples\": [\n          5,\n          2,\n          1\n        ],\n        \"semantic_type\": \"\",\n        \"description\": \"\"\n      }\n    },\n    {\n      \"column\": \"Reviews\",\n      \"properties\": {\n        \"dtype\": \"string\",\n        \"num_unique_values\": 42199,\n        \"samples\": [\n          \"Everything was great. Met all my needs.\",\n          \"Broke after a month cheap material\",\n          \"Aside from the awful battery issues and the camera getting lines through it when charging or low battery.... It's a great phone.\"\n        ],\n        \"semantic_type\": \"\",\n        \"description\": \"\"\n      }\n    },\n    {\n      \"column\": \"Review Votes\",\n      \"properties\": {\n        \"dtype\": \"number\",\n        \"std\": 8.502696813879625,\n        \"min\": 0.0,\n        \"max\": 524.0,\n        \"num_unique_values\": 142,\n        \"samples\": [\n          101.0,\n          23.0,\n          44.0\n        ],\n        \"semantic_type\": \"\",\n        \"description\": \"\"\n      }\n    },\n    {\n      \"column\": \"Positively Rated\",\n      \"properties\": {\n        \"dtype\": \"number\",\n        \"std\": 0,\n        \"min\": 0,\n        \"max\": 1,\n        \"num_unique_values\": 2,\n        \"samples\": [\n          1,\n          0\n        ],\n        \"semantic_type\": \"\",\n        \"description\": \"\"\n      }\n    }\n  ]\n}"
            }
          },
          "metadata": {},
          "execution_count": 3
        }
      ]
    },
    {
      "cell_type": "code",
      "metadata": {
        "id": "Noxq2rNWf3T1",
        "colab": {
          "base_uri": "https://localhost:8080/"
        },
        "outputId": "86c5bbd5-35ef-4974-b208-b119da6ac842"
      },
      "source": [
        "# Most ratings are positive\n",
        "df['Positively Rated'].mean()"
      ],
      "execution_count": 4,
      "outputs": [
        {
          "output_type": "execute_result",
          "data": {
            "text/plain": [
              "0.7480578579554689"
            ]
          },
          "metadata": {},
          "execution_count": 4
        }
      ]
    },
    {
      "cell_type": "code",
      "metadata": {
        "id": "_Dhxv0iaf3T5"
      },
      "source": [
        "from sklearn.model_selection import train_test_split\n",
        "\n",
        "# Split data into training and test sets\n",
        "X_train, X_test, y_train, y_test = train_test_split(df['Reviews'],\n",
        "                                                    df['Positively Rated'],\n",
        "                                                    random_state=0)"
      ],
      "execution_count": 5,
      "outputs": []
    },
    {
      "cell_type": "code",
      "metadata": {
        "id": "17NFefcXf3T_",
        "colab": {
          "base_uri": "https://localhost:8080/"
        },
        "outputId": "b1916725-e1aa-4bee-bf88-006f1997fb7a"
      },
      "source": [
        "print('X_train first entry:\\n\\n', X_train.iloc[0])\n",
        "print('\\n\\nX_train shape: ', X_train.shape)"
      ],
      "execution_count": 6,
      "outputs": [
        {
          "output_type": "stream",
          "name": "stdout",
          "text": [
            "X_train first entry:\n",
            "\n",
            " Very good in this price...\n",
            "\n",
            "\n",
            "X_train shape:  (46147,)\n"
          ]
        }
      ]
    },
    {
      "cell_type": "code",
      "metadata": {
        "id": "Sc7-kvQlJUqV",
        "colab": {
          "base_uri": "https://localhost:8080/"
        },
        "outputId": "0b726f9c-59c6-49ae-85dc-a4265db95f5d"
      },
      "source": [
        "print(X_train.shape,X_test.shape)\n",
        "print(y_train.shape,y_test.shape)"
      ],
      "execution_count": 7,
      "outputs": [
        {
          "output_type": "stream",
          "name": "stdout",
          "text": [
            "(46147,) (15383,)\n",
            "(46147,) (15383,)\n"
          ]
        }
      ]
    },
    {
      "cell_type": "markdown",
      "metadata": {
        "id": "oHHboPVQf3UD"
      },
      "source": [
        "# CountVectorizer"
      ]
    },
    {
      "cell_type": "code",
      "metadata": {
        "id": "l-axkYbqf3UF"
      },
      "source": [
        "from sklearn.feature_extraction.text import CountVectorizer\n",
        "\n",
        "# Fit the CountVectorizer to the training data\n",
        "vect = CountVectorizer().fit(X_train)"
      ],
      "execution_count": 8,
      "outputs": []
    },
    {
      "cell_type": "code",
      "metadata": {
        "id": "8LJ7tMGAf3UJ",
        "scrolled": false,
        "colab": {
          "base_uri": "https://localhost:8080/"
        },
        "outputId": "c44e37a7-214b-4da7-d36e-f296a43d78be"
      },
      "source": [
        "vect.get_feature_names_out()[::2000]"
      ],
      "execution_count": 10,
      "outputs": [
        {
          "output_type": "execute_result",
          "data": {
            "text/plain": [
              "array(['00', 'advertized', 'blessed', 'condescending', 'distorted',\n",
              "       'figures', 'hindsight', 'launge', 'nanotechnology', 'pixle',\n",
              "       'remarkable', 'sll', 'thoes', 'wars'], dtype=object)"
            ]
          },
          "metadata": {},
          "execution_count": 10
        }
      ]
    },
    {
      "cell_type": "code",
      "metadata": {
        "id": "70f3hPkEf3UO",
        "colab": {
          "base_uri": "https://localhost:8080/"
        },
        "outputId": "ad7d14b2-8bc8-40fd-ae6e-823ba0b1fe3d"
      },
      "source": [
        "len(vect.get_feature_names_out())"
      ],
      "execution_count": 11,
      "outputs": [
        {
          "output_type": "execute_result",
          "data": {
            "text/plain": [
              "27005"
            ]
          },
          "metadata": {},
          "execution_count": 11
        }
      ]
    },
    {
      "cell_type": "code",
      "metadata": {
        "id": "qjXut_OTf3UV",
        "colab": {
          "base_uri": "https://localhost:8080/"
        },
        "outputId": "a8ac3cee-b7fa-4590-cb2a-067ace0969e4"
      },
      "source": [
        "# transform the documents in the training data to a document-term matrix\n",
        "X_train_vectorized = vect.transform(X_train)\n",
        "\n",
        "X_train_vectorized"
      ],
      "execution_count": 12,
      "outputs": [
        {
          "output_type": "execute_result",
          "data": {
            "text/plain": [
              "<46147x27005 sparse matrix of type '<class 'numpy.int64'>'\n",
              "\twith 1221142 stored elements in Compressed Sparse Row format>"
            ]
          },
          "metadata": {},
          "execution_count": 12
        }
      ]
    },
    {
      "cell_type": "code",
      "metadata": {
        "id": "kkAAQdiMf3UY",
        "colab": {
          "base_uri": "https://localhost:8080/",
          "height": 74
        },
        "outputId": "af0416d8-0ba2-40ff-a18b-f70f0714c6c5"
      },
      "source": [
        "from sklearn.linear_model import LogisticRegression\n",
        "\n",
        "# Train the model\n",
        "model = LogisticRegression(max_iter=500)\n",
        "model.fit(X_train_vectorized, y_train)"
      ],
      "execution_count": 13,
      "outputs": [
        {
          "output_type": "execute_result",
          "data": {
            "text/plain": [
              "LogisticRegression(max_iter=500)"
            ],
            "text/html": [
              "<style>#sk-container-id-1 {color: black;background-color: white;}#sk-container-id-1 pre{padding: 0;}#sk-container-id-1 div.sk-toggleable {background-color: white;}#sk-container-id-1 label.sk-toggleable__label {cursor: pointer;display: block;width: 100%;margin-bottom: 0;padding: 0.3em;box-sizing: border-box;text-align: center;}#sk-container-id-1 label.sk-toggleable__label-arrow:before {content: \"▸\";float: left;margin-right: 0.25em;color: #696969;}#sk-container-id-1 label.sk-toggleable__label-arrow:hover:before {color: black;}#sk-container-id-1 div.sk-estimator:hover label.sk-toggleable__label-arrow:before {color: black;}#sk-container-id-1 div.sk-toggleable__content {max-height: 0;max-width: 0;overflow: hidden;text-align: left;background-color: #f0f8ff;}#sk-container-id-1 div.sk-toggleable__content pre {margin: 0.2em;color: black;border-radius: 0.25em;background-color: #f0f8ff;}#sk-container-id-1 input.sk-toggleable__control:checked~div.sk-toggleable__content {max-height: 200px;max-width: 100%;overflow: auto;}#sk-container-id-1 input.sk-toggleable__control:checked~label.sk-toggleable__label-arrow:before {content: \"▾\";}#sk-container-id-1 div.sk-estimator input.sk-toggleable__control:checked~label.sk-toggleable__label {background-color: #d4ebff;}#sk-container-id-1 div.sk-label input.sk-toggleable__control:checked~label.sk-toggleable__label {background-color: #d4ebff;}#sk-container-id-1 input.sk-hidden--visually {border: 0;clip: rect(1px 1px 1px 1px);clip: rect(1px, 1px, 1px, 1px);height: 1px;margin: -1px;overflow: hidden;padding: 0;position: absolute;width: 1px;}#sk-container-id-1 div.sk-estimator {font-family: monospace;background-color: #f0f8ff;border: 1px dotted black;border-radius: 0.25em;box-sizing: border-box;margin-bottom: 0.5em;}#sk-container-id-1 div.sk-estimator:hover {background-color: #d4ebff;}#sk-container-id-1 div.sk-parallel-item::after {content: \"\";width: 100%;border-bottom: 1px solid gray;flex-grow: 1;}#sk-container-id-1 div.sk-label:hover label.sk-toggleable__label {background-color: #d4ebff;}#sk-container-id-1 div.sk-serial::before {content: \"\";position: absolute;border-left: 1px solid gray;box-sizing: border-box;top: 0;bottom: 0;left: 50%;z-index: 0;}#sk-container-id-1 div.sk-serial {display: flex;flex-direction: column;align-items: center;background-color: white;padding-right: 0.2em;padding-left: 0.2em;position: relative;}#sk-container-id-1 div.sk-item {position: relative;z-index: 1;}#sk-container-id-1 div.sk-parallel {display: flex;align-items: stretch;justify-content: center;background-color: white;position: relative;}#sk-container-id-1 div.sk-item::before, #sk-container-id-1 div.sk-parallel-item::before {content: \"\";position: absolute;border-left: 1px solid gray;box-sizing: border-box;top: 0;bottom: 0;left: 50%;z-index: -1;}#sk-container-id-1 div.sk-parallel-item {display: flex;flex-direction: column;z-index: 1;position: relative;background-color: white;}#sk-container-id-1 div.sk-parallel-item:first-child::after {align-self: flex-end;width: 50%;}#sk-container-id-1 div.sk-parallel-item:last-child::after {align-self: flex-start;width: 50%;}#sk-container-id-1 div.sk-parallel-item:only-child::after {width: 0;}#sk-container-id-1 div.sk-dashed-wrapped {border: 1px dashed gray;margin: 0 0.4em 0.5em 0.4em;box-sizing: border-box;padding-bottom: 0.4em;background-color: white;}#sk-container-id-1 div.sk-label label {font-family: monospace;font-weight: bold;display: inline-block;line-height: 1.2em;}#sk-container-id-1 div.sk-label-container {text-align: center;}#sk-container-id-1 div.sk-container {/* jupyter's `normalize.less` sets `[hidden] { display: none; }` but bootstrap.min.css set `[hidden] { display: none !important; }` so we also need the `!important` here to be able to override the default hidden behavior on the sphinx rendered scikit-learn.org. See: https://github.com/scikit-learn/scikit-learn/issues/21755 */display: inline-block !important;position: relative;}#sk-container-id-1 div.sk-text-repr-fallback {display: none;}</style><div id=\"sk-container-id-1\" class=\"sk-top-container\"><div class=\"sk-text-repr-fallback\"><pre>LogisticRegression(max_iter=500)</pre><b>In a Jupyter environment, please rerun this cell to show the HTML representation or trust the notebook. <br />On GitHub, the HTML representation is unable to render, please try loading this page with nbviewer.org.</b></div><div class=\"sk-container\" hidden><div class=\"sk-item\"><div class=\"sk-estimator sk-toggleable\"><input class=\"sk-toggleable__control sk-hidden--visually\" id=\"sk-estimator-id-1\" type=\"checkbox\" checked><label for=\"sk-estimator-id-1\" class=\"sk-toggleable__label sk-toggleable__label-arrow\">LogisticRegression</label><div class=\"sk-toggleable__content\"><pre>LogisticRegression(max_iter=500)</pre></div></div></div></div></div>"
            ]
          },
          "metadata": {},
          "execution_count": 13
        }
      ]
    },
    {
      "cell_type": "code",
      "metadata": {
        "id": "hS0n-50zf3Ub"
      },
      "source": [
        "# Predict the transformed test documents\n",
        "predictions = model.predict(vect.transform(X_test))"
      ],
      "execution_count": 14,
      "outputs": []
    },
    {
      "cell_type": "code",
      "metadata": {
        "id": "Q6Av7qBRf3Ue",
        "colab": {
          "base_uri": "https://localhost:8080/"
        },
        "outputId": "8cc2d67f-a047-4d16-b627-6fbf457daf44"
      },
      "source": [
        "model.score(vect.transform(X_test),y_test)"
      ],
      "execution_count": 15,
      "outputs": [
        {
          "output_type": "execute_result",
          "data": {
            "text/plain": [
              "0.9370733927062341"
            ]
          },
          "metadata": {},
          "execution_count": 15
        }
      ]
    },
    {
      "cell_type": "code",
      "metadata": {
        "id": "5gWmA9Kdf3Ui",
        "colab": {
          "base_uri": "https://localhost:8080/"
        },
        "outputId": "ca46530a-44c7-49da-e61a-8b8d4806d6f6"
      },
      "source": [
        "from sklearn.metrics import classification_report,confusion_matrix\n",
        "print(classification_report(y_test,predictions))\n",
        "print(confusion_matrix(y_test,predictions))"
      ],
      "execution_count": 16,
      "outputs": [
        {
          "output_type": "stream",
          "name": "stdout",
          "text": [
            "              precision    recall  f1-score   support\n",
            "\n",
            "           0       0.90      0.84      0.87      3882\n",
            "           1       0.95      0.97      0.96     11501\n",
            "\n",
            "    accuracy                           0.94     15383\n",
            "   macro avg       0.93      0.91      0.91     15383\n",
            "weighted avg       0.94      0.94      0.94     15383\n",
            "\n",
            "[[ 3268   614]\n",
            " [  354 11147]]\n"
          ]
        }
      ]
    },
    {
      "cell_type": "code",
      "metadata": {
        "id": "gXhwujZxf3Un",
        "scrolled": true,
        "colab": {
          "base_uri": "https://localhost:8080/"
        },
        "outputId": "6e617148-3859-4c92-99a4-a3b7f93f95d4"
      },
      "source": [
        "# get the feature names as numpy array\n",
        "feature_names = np.array(vect.get_feature_names_out())\n",
        "\n",
        "# Sort the coefficients from the model\n",
        "sorted_coef_index = model.coef_[0].argsort()\n",
        "\n",
        "# Find the 10 smallest and 10 largest coefficients\n",
        "# The 10 largest coefficients are being indexed using [:-11:-1]\n",
        "# so the list returned is in order of largest to smallest\n",
        "print('Smallest Coefs:\\n{}\\n'.format(feature_names[sorted_coef_index[:10]]))\n",
        "print('Largest Coefs: \\n{}'.format(feature_names[sorted_coef_index[:-11:-1]]))"
      ],
      "execution_count": 17,
      "outputs": [
        {
          "output_type": "stream",
          "name": "stdout",
          "text": [
            "Smallest Coefs:\n",
            "['worst' 'junk' 'terrible' 'poor' 'crashed' 'useless' 'garbage' 'slow'\n",
            " 'waste' 'horrible']\n",
            "\n",
            "Largest Coefs: \n",
            "['excelente' 'excelent' 'excellent' 'love' 'loves' 'perfect' 'awesome'\n",
            " 'amazing' 'great' 'best']\n"
          ]
        }
      ]
    },
    {
      "cell_type": "markdown",
      "metadata": {
        "id": "xZpdO8pxf3Ut"
      },
      "source": [
        "# Tfidf"
      ]
    },
    {
      "cell_type": "code",
      "metadata": {
        "id": "QckHbo3Rf3Uu",
        "colab": {
          "base_uri": "https://localhost:8080/"
        },
        "outputId": "3bc4dd2e-adc4-4f4a-80ac-ed0ff9370114"
      },
      "source": [
        "from sklearn.feature_extraction.text import TfidfVectorizer\n",
        "\n",
        "# Fit the TfidfVectorizer to the training data specifiying a minimum document frequency of 5\n",
        "vect = TfidfVectorizer(min_df=5).fit(X_train)\n",
        "len(vect.get_feature_names_out())"
      ],
      "execution_count": 23,
      "outputs": [
        {
          "output_type": "execute_result",
          "data": {
            "text/plain": [
              "7782"
            ]
          },
          "metadata": {},
          "execution_count": 23
        }
      ]
    },
    {
      "cell_type": "code",
      "source": [],
      "metadata": {
        "id": "wt-4nmRBRXBL"
      },
      "execution_count": 23,
      "outputs": []
    },
    {
      "cell_type": "code",
      "metadata": {
        "id": "-8oJKPvMf3Uz",
        "colab": {
          "base_uri": "https://localhost:8080/"
        },
        "outputId": "9f314533-b3a8-4514-e67f-cfec90db4b9e"
      },
      "source": [
        "X_train_vectorized = vect.transform(X_train)\n",
        "\n",
        "model = LogisticRegression()\n",
        "model.fit(X_train_vectorized, y_train)\n",
        "\n",
        "predictions = model.predict(vect.transform(X_test))\n",
        "\n",
        "print(classification_report(y_test,predictions))\n",
        "print(confusion_matrix(y_test,predictions))"
      ],
      "execution_count": 24,
      "outputs": [
        {
          "output_type": "stream",
          "name": "stdout",
          "text": [
            "              precision    recall  f1-score   support\n",
            "\n",
            "           0       0.90      0.84      0.87      3882\n",
            "           1       0.95      0.97      0.96     11501\n",
            "\n",
            "    accuracy                           0.94     15383\n",
            "   macro avg       0.93      0.90      0.91     15383\n",
            "weighted avg       0.94      0.94      0.94     15383\n",
            "\n",
            "[[ 3253   629]\n",
            " [  347 11154]]\n"
          ]
        }
      ]
    },
    {
      "cell_type": "code",
      "metadata": {
        "id": "T6sMrNXOf3U2",
        "colab": {
          "base_uri": "https://localhost:8080/"
        },
        "outputId": "ea8b69d1-a79c-410d-c3c0-3bcd9804e9b5"
      },
      "source": [
        "feature_names = np.array(vect.get_feature_names_out())\n",
        "\n",
        "sorted_tfidf_index = X_train_vectorized.max(0).toarray()[0].argsort()\n",
        "\n",
        "print('Smallest tfidf:\\n{}\\n'.format(feature_names[sorted_tfidf_index[:10]]))\n",
        "print('Largest tfidf: \\n{}'.format(feature_names[sorted_tfidf_index[:-11:-1]]))"
      ],
      "execution_count": 25,
      "outputs": [
        {
          "output_type": "stream",
          "name": "stdout",
          "text": [
            "Smallest tfidf:\n",
            "['swoop' 'shells' 'realization' 'p3' 'bokeh' '61' 'stealing' 'foxfi'\n",
            " 'printer' '5v']\n",
            "\n",
            "Largest tfidf: \n",
            "['celular' 'cel' 'wow' 'producto' 'yet' 'yep' 'worst' 'productos' 'yes'\n",
            " 'products']\n"
          ]
        }
      ]
    },
    {
      "cell_type": "code",
      "metadata": {
        "id": "PyeqlAAnf3U6",
        "colab": {
          "base_uri": "https://localhost:8080/"
        },
        "outputId": "c981c865-97a7-46fe-d7b9-2e2351a545f7"
      },
      "source": [
        "sorted_coef_index = model.coef_[0].argsort()\n",
        "\n",
        "print('Smallest Coefs:\\n{}\\n'.format(feature_names[sorted_coef_index[:10]]))\n",
        "print('Largest Coefs: \\n{}'.format(feature_names[sorted_coef_index[:-11:-1]]))"
      ],
      "execution_count": 26,
      "outputs": [
        {
          "output_type": "stream",
          "name": "stdout",
          "text": [
            "Smallest Coefs:\n",
            "['not' 'worst' 'disappointed' 'slow' 'return' 'doesn' 'poor' 'terrible'\n",
            " 'waste' 'horrible']\n",
            "\n",
            "Largest Coefs: \n",
            "['great' 'love' 'excellent' 'perfect' 'best' 'good' 'amazing' 'far'\n",
            " 'awesome' 'excelente']\n"
          ]
        }
      ]
    },
    {
      "cell_type": "code",
      "metadata": {
        "id": "NoGMZGAAf3U_",
        "colab": {
          "base_uri": "https://localhost:8080/"
        },
        "outputId": "b36398b0-488e-49b8-a8a3-3015b331e726"
      },
      "source": [
        "# These reviews are treated the same by our current model\n",
        "print(model.predict(vect.transform(['not an issue, phone is working',\n",
        "                                    'an issue, phone is not working'])))"
      ],
      "execution_count": null,
      "outputs": [
        {
          "output_type": "stream",
          "name": "stdout",
          "text": [
            "[0 0]\n"
          ]
        }
      ]
    },
    {
      "cell_type": "markdown",
      "metadata": {
        "id": "llhRHHkdf3VJ"
      },
      "source": [
        "# n-grams"
      ]
    },
    {
      "cell_type": "code",
      "metadata": {
        "id": "xSpBM9d_f3VJ",
        "colab": {
          "base_uri": "https://localhost:8080/"
        },
        "outputId": "de0a53dd-a505-4c73-8aa3-bc09535b5e47"
      },
      "source": [
        "# Fit the CountVectorizer to the training data specifiying a minimum\n",
        "# document frequency of 5 and extracting 1-grams and 2-grams\n",
        "vect = CountVectorizer(min_df=8, ngram_range=(1,2)).fit(X_train)\n",
        "\n",
        "X_train_vectorized = vect.transform(X_train)\n",
        "\n",
        "len(vect.get_feature_names_out())"
      ],
      "execution_count": 28,
      "outputs": [
        {
          "output_type": "execute_result",
          "data": {
            "text/plain": [
              "32513"
            ]
          },
          "metadata": {},
          "execution_count": 28
        }
      ]
    },
    {
      "cell_type": "code",
      "metadata": {
        "id": "7S9DnO4Ef3VN",
        "colab": {
          "base_uri": "https://localhost:8080/"
        },
        "outputId": "b63f26fd-b9f6-43b5-b76b-582c067663e6"
      },
      "source": [
        "model = LogisticRegression(max_iter=500)\n",
        "model.fit(X_train_vectorized, y_train)\n",
        "\n",
        "predictions = model.predict(vect.transform(X_test))\n",
        "\n",
        "print(classification_report(y_test,predictions))\n",
        "print(confusion_matrix(y_test,predictions))"
      ],
      "execution_count": 29,
      "outputs": [
        {
          "output_type": "stream",
          "name": "stdout",
          "text": [
            "              precision    recall  f1-score   support\n",
            "\n",
            "           0       0.92      0.88      0.90      3882\n",
            "           1       0.96      0.98      0.97     11501\n",
            "\n",
            "    accuracy                           0.95     15383\n",
            "   macro avg       0.94      0.93      0.94     15383\n",
            "weighted avg       0.95      0.95      0.95     15383\n",
            "\n",
            "[[ 3429   453]\n",
            " [  285 11216]]\n"
          ]
        }
      ]
    },
    {
      "cell_type": "code",
      "metadata": {
        "id": "QtVR4J3uf3VS",
        "colab": {
          "base_uri": "https://localhost:8080/"
        },
        "outputId": "a27eddf5-e5be-4e29-de34-bcddf876785d"
      },
      "source": [
        "feature_names = np.array(vect.get_feature_names_out())\n",
        "\n",
        "sorted_coef_index = model.coef_[0].argsort()\n",
        "\n",
        "print('Smallest Coefs:\\n{}\\n'.format(feature_names[sorted_coef_index[:10]]))\n",
        "print('Largest Coefs: \\n{}'.format(feature_names[sorted_coef_index[:-11:-1]]))"
      ],
      "execution_count": 33,
      "outputs": [
        {
          "output_type": "stream",
          "name": "stdout",
          "text": [
            "Smallest Coefs:\n",
            "['no good' 'junk' 'worst' 'poor' 'horrible' 'terrible' 'not good' 'broken'\n",
            " 'didnt' 'not satisfied']\n",
            "\n",
            "Largest Coefs: \n",
            "['excelente' 'excellent' 'not bad' 'excelent' 'perfect' 'great'\n",
            " 'no problems' 'awesome' 'love' 'amazing']\n"
          ]
        }
      ]
    },
    {
      "cell_type": "code",
      "metadata": {
        "id": "4GQmL6UQf3VV",
        "colab": {
          "base_uri": "https://localhost:8080/"
        },
        "outputId": "7caa1486-ba6b-413b-fa4a-e4d7aaddfea2"
      },
      "source": [
        "# These reviews are now correctly identified\n",
        "print(model.predict(vect.transform(['not an issue, phone is good',\n",
        "                                    'an issue, phone is not good'])))"
      ],
      "execution_count": 34,
      "outputs": [
        {
          "output_type": "stream",
          "name": "stdout",
          "text": [
            "[1 0]\n"
          ]
        }
      ]
    },
    {
      "cell_type": "code",
      "source": [
        "for k in X_train:\n",
        "  if \"no good\" in k:\n",
        "    print(k)\n",
        "    print(\"xxx\"*10)"
      ],
      "metadata": {
        "id": "XtF0EMX6LXQo",
        "outputId": "d7fb31d1-fcf9-4f1b-8f44-bc4e3383b627",
        "colab": {
          "base_uri": "https://localhost:8080/"
        }
      },
      "execution_count": 42,
      "outputs": [
        {
          "output_type": "stream",
          "name": "stdout",
          "text": [
            "Bought for my 9 yr old...he likes it bit I dont. Camera is horrible, dark quality and \"grainy\". I wish I hadn't wasted my money on this. He had an Alcatel brand and this is the same - no good! Please don't waste your money. Screen is not 4\" either, more like 2.5\" or 3\". Horrible camera!!!!!\n",
            "xxxxxxxxxxxxxxxxxxxxxxxxxxxxxx\n",
            "Always buy things from amazon directly, they are responsable and everything always arrive fast and just like you ordered, excellent cell phone, the only down is the camera wich has no good resolution and no flash, but the rest ist OK\n",
            "xxxxxxxxxxxxxxxxxxxxxxxxxxxxxx\n",
            "This phone is no good. Is not working.my money waste.it never works .the phone keep on restarting\n",
            "xxxxxxxxxxxxxxxxxxxxxxxxxxxxxx\n",
            "Always buy things from amazon directly, they are responsable and everything always arrive fast and just like you ordered, excellent cell phone, the only down is the camera wich has no good resolution and no flash, but the rest ist OK\n",
            "xxxxxxxxxxxxxxxxxxxxxxxxxxxxxx\n",
            "Unhappy...This phone is not unlock ....My T-mobile sim-card does not allow internet in my cell.Wi-fi works great but internet does not work at all making impossible to receive picture messages.also does not have a front camera..no good to make video calls.UPDATEI contacted the seller.He told me to call Tmobile and ask them to first change the IMEI number on the account and they can send a text message to your phone and change the Internet setting to their server configuration I called and they helped me very nicely and guide me step by step how to fix the issue and now I am very happy because my phone is working perfectly! The only thing is I still can not make video calls because it doesnt have a front cameraUPDATETmobile solve the isue but still sometimes i loose signal in places where i always had reception before with a tmobile phone.It drains the battery really quick.Last night i fully charge it and my mid day the battery was almost dead withouth been use at all.Unhappy...I am trying to get a refund :(\n",
            "xxxxxxxxxxxxxxxxxxxxxxxxxxxxxx\n",
            "product is poorly consruted, software is no good, will never buy again, to many problems trying to load music.\n",
            "xxxxxxxxxxxxxxxxxxxxxxxxxxxxxx\n",
            "Bought this for my daughters birthday...and within 6 days it would not turn on, just made a chime noise...tried to reset it and still nothing. I am sending it back for a refund...it is junk. Don't buy it...the reviews on marketplace are bogus...because it is no good.\n",
            "xxxxxxxxxxxxxxxxxxxxxxxxxxxxxx\n",
            "I had the phone a month and was not no good it up I will\n",
            "xxxxxxxxxxxxxxxxxxxxxxxxxxxxxx\n",
            "Ok so I got this in march of this year. I put some games on it and and I play them a lot. Now I try to play one game and my battery is dead within ten minutes. This is not good I have battery saver apps and that does not help. The rest of it is ok but it does no good if it will shut off on you within a couple minutes of using it.Update:After looking online for a replacement battery and not finding anything withing the price I wanted. I was about to give up on the phone and buy something else. In a last ditch effort I looked at the compartment for the battery. To me it seems a little over-sized. So I took a small piece of card-stock and wedged it in there to force the battery closer to the terminals. After doing that I am no longer having any problems with the battery. If the company would make the compartment a little smaller or the battery a little bigger it would be fine. i am back to liking the phone again.\n",
            "xxxxxxxxxxxxxxxxxxxxxxxxxxxxxx\n",
            "no good\n",
            "xxxxxxxxxxxxxxxxxxxxxxxxxxxxxx\n",
            "Battry was no good some refurbish job\n",
            "xxxxxxxxxxxxxxxxxxxxxxxxxxxxxx\n",
            "Battery life no good\n",
            "xxxxxxxxxxxxxxxxxxxxxxxxxxxxxx\n",
            "Bought for my 9 yr old...he likes it bit I dont. Camera is horrible, dark quality and \"grainy\". I wish I hadn't wasted my money on this. He had an Alcatel brand and this is the same - no good! Please don't waste your money. Screen is not 4\" either, more like 2.5\" or 3\". Horrible camera!!!!!\n",
            "xxxxxxxxxxxxxxxxxxxxxxxxxxxxxx\n",
            "This product was no good and I want my funds returned\n",
            "xxxxxxxxxxxxxxxxxxxxxxxxxxxxxx\n",
            "The product arrived on time, in good conditions and ready to use. Something like this I needed it in order to be in touch with my friends and parents. It is a good smartphone with a good price/product relationship. It has wi-fi, very important for me, because I work in no good telephone signal area, but wi-fi makes I still in touch.\n",
            "xxxxxxxxxxxxxxxxxxxxxxxxxxxxxx\n",
            "Only 3G no good for me...great screen and all but not fast enough for my neywork and today's standards.\n",
            "xxxxxxxxxxxxxxxxxxxxxxxxxxxxxx\n",
            "Im so terribly disappointed this is my second Blu Life XL in less than 1 year 3 months that have overheated on me and have died.my last purchase was in May of this year 2016 and within the last few weeks phone started feeling very hot and now it will not take the charge and locks its self off. Took it to be repaired and was told again that it makes no sense getting a battery or trying to fix cause the phone is no goodtotal waste of my money\n",
            "xxxxxxxxxxxxxxxxxxxxxxxxxxxxxx\n",
            "The two headphone no good\n",
            "xxxxxxxxxxxxxxxxxxxxxxxxxxxxxx\n",
            "The first one i purchased arrived broken. It would turn on with the BLU logo then turn itself off. I have returned it and i am awaiting a replacement. I will update my review upon its arrival.Update:I received my new phone, I am fairly happy with it for the price.Pros:very loud speaker.Came with fairly good quality headphones.Cons:The Bluetooth featur is completely broken. Will not connect to other devices or broadcast to other devices.Came with incorrect screan protector.The built in audio player app has Manny issues and did not run properly.After a few weeks of use the battery is no good. When it gets below 50% it dies within 5 minutes. Apps are constantly crashing.When I try to play YouTube the screen turns green.The list of problems goes on...\n",
            "xxxxxxxxxxxxxxxxxxxxxxxxxxxxxx\n",
            "This phone is a waste. Fragile and soft as ever! First week of owning this, the shell at the screen lock button cracked and started to flake off - as if it was 100 years old. After about 3-4 months, the scroll key stopped working. Over all the phone is just fragile and no good.\n",
            "xxxxxxxxxxxxxxxxxxxxxxxxxxxxxx\n",
            "This phone no good...should have been free......\n",
            "xxxxxxxxxxxxxxxxxxxxxxxxxxxxxx\n",
            "This phone is no good i purchase this phone and in less than a month it started freezing up like crazy and I'm in Jamaica and can't return it I'm so disappointed\n",
            "xxxxxxxxxxxxxxxxxxxxxxxxxxxxxx\n",
            "Worked great while it lasted,put new battery in it,still would not charge,tried new charger no good,,asked for replacement,only 30 day period for replacement\n",
            "xxxxxxxxxxxxxxxxxxxxxxxxxxxxxx\n",
            "I bought 3 of these and they are great phones. I used one prepaid T-Mobile card on each one as they were purchased, then I unlocked it and signed up with PureTalkUSA. Unlocking was completely painless (which is the main reason I bought a 3rd one). Now I have unlimited talk and text plus a second account for a total outgo of about $40 a month. I really like the Android operating system and the phone is tough and attractive. It's a bit small if you don't have good eyesight and at times my big hands miss the icon I'm aiming at.All I have installed is the Amazon Store app and Amazon mp3 player, Opera Mobile browser, NQ Mobile security and an improved file manager. I installed SanDisk 32GB SD cards in both phones; just pop them in and boot.The only real downside is the bloatware. Sometimes I fill the memory and most of it is bloatware. Clicking the NQ Optimizer button clears enough memory to continue using the phone, but shutting down the bloatware does no good; these useless apps just start back up. If this problem was just a little less severe I would just live with it, but it looks like I will have to root all three of these phones. The bloatware just doesn't leave enough memory for the average users needed apps.Update: I have now unlocked and rooted this phone; both operations are simplistic if approached correctly. Unlocking is a snap and rooting only has one pitfall. Don't try to root with the one click applications; I tried that way and after several attempts overseen by the software authors (and installing a lot of java ME libraries on my laptop) we all gave up. The easy way can be found documented on theunlockr dot com site. The biggest gotcha is that clockwork mod must be installed *first* (cwm.6012.t679.zip). If you do that and then install root (root-stock.zip) you are rooted. NOTE: reboot as soon as you are rooted and then run a root checking program (there is a good one available here on Amazon (Root Analyzer). For about $7 you can then purchase Root Explorer and upgrade Superuser to Superuser Elite and download Root App Delete on Google Play. Root App Delete is a great application for uninstalling bloatware; the apps are listed as Unknowns (user installed or bundled popular apps) which can be safely uninstalled; operating system apps and kernel modules are listed as such (leave them alone, NOTOUCH etc.). I also run RAM Control Extreme; note that this app needs to be configured not to kill things while you are using them, but when configured properly it will clean things up in the background without even bothering you (I configured it to run every 30 min.). I suppose these modifications carry some risk, but nothing bad has happened to me and I see lots of similar testimonials out there.With about 2 hours work I was rooted and another hour of uninstalling and my memory stays about 49% used if controlled by a good Android Ram Manager (was as much as 90+ percent used before and most of it bloatware). The phone boots faster and runs faster and the changes are transparent. I lost no functionality. Better yet I can now use apps which require root access.With a little work and a little additional expense I now have a phone that cost about $200 that is (at least) equal to the $600 \"Unlocked International version\"). With a pocketful of sims I can use this phone anywhere in the world. This phone is a great buy compared to the price of competitors. Recommended.Update: I have flashed my personal T679 with Cyanogenmod and like this phone even better. I overclocked it to 1024 MHz (stock is a little under 300) and after about a week I hit the right combination of hot temperature and working the phone to cause it to hang once. I dropped it back to 806 MHz and after 3 weeks still no problems and I work this phone as hard as some people work their tablets. The obvious tradeoff is that the battery drains faster with it overclocked. For me that isn't a problem; I have chargers everywhere (desk, pickup, bed stand, etc.) and I work it most of the time plugged in. I am a little rough on my phones no doubt in the same sense a racer is rough on his wheels but that's what I bought it for.Cyanogenmod also has much better memory control built in. It is just about perfect for me now; liking it better all the time. Glad I bought these phones. Recommended.\n",
            "xxxxxxxxxxxxxxxxxxxxxxxxxxxxxx\n",
            "Had the phone for two day, it worked ok, after the second day the phone would not charge. Got a new battery, but it was not that. I was told that the phone was no good. Went to Wal-mart and bought me a $20. phone, that I have been happy with . I learned my lesson the hard way!\n",
            "xxxxxxxxxxxxxxxxxxxxxxxxxxxxxx\n",
            "This phone is no good. Is not working.my money waste.it never works .the phone keep on restarting\n",
            "xxxxxxxxxxxxxxxxxxxxxxxxxxxxxx\n",
            "do not spend your money, this phone is no good\n",
            "xxxxxxxxxxxxxxxxxxxxxxxxxxxxxx\n",
            "Ok so I got this in march of this year. I put some games on it and and I play them a lot. Now I try to play one game and my battery is dead within ten minutes. This is not good I have battery saver apps and that does not help. The rest of it is ok but it does no good if it will shut off on you within a couple minutes of using it.Update:After looking online for a replacement battery and not finding anything withing the price I wanted. I was about to give up on the phone and buy something else. In a last ditch effort I looked at the compartment for the battery. To me it seems a little over-sized. So I took a small piece of card-stock and wedged it in there to force the battery closer to the terminals. After doing that I am no longer having any problems with the battery. If the company would make the compartment a little smaller or the battery a little bigger it would be fine. i am back to liking the phone again.\n",
            "xxxxxxxxxxxxxxxxxxxxxxxxxxxxxx\n",
            "Bought for my 9 yr old...he likes it bit I dont. Camera is horrible, dark quality and \"grainy\". I wish I hadn't wasted my money on this. He had an Alcatel brand and this is the same - no good! Please don't waste your money. Screen is not 4\" either, more like 2.5\" or 3\". Horrible camera!!!!!\n",
            "xxxxxxxxxxxxxxxxxxxxxxxxxxxxxx\n",
            "Ok so I got this in march of this year. I put some games on it and and I play them a lot. Now I try to play one game and my battery is dead within ten minutes. This is not good I have battery saver apps and that does not help. The rest of it is ok but it does no good if it will shut off on you within a couple minutes of using it.Update:After looking online for a replacement battery and not finding anything withing the price I wanted. I was about to give up on the phone and buy something else. In a last ditch effort I looked at the compartment for the battery. To me it seems a little over-sized. So I took a small piece of card-stock and wedged it in there to force the battery closer to the terminals. After doing that I am no longer having any problems with the battery. If the company would make the compartment a little smaller or the battery a little bigger it would be fine. i am back to liking the phone again.\n",
            "xxxxxxxxxxxxxxxxxxxxxxxxxxxxxx\n",
            "Do not buy this phone. it has little or no storage. It is a waste of money. It no good.\n",
            "xxxxxxxxxxxxxxxxxxxxxxxxxxxxxx\n",
            "Bought for my 9 yr old...he likes it bit I dont. Camera is horrible, dark quality and \"grainy\". I wish I hadn't wasted my money on this. He had an Alcatel brand and this is the same - no good! Please don't waste your money. Screen is not 4\" either, more like 2.5\" or 3\". Horrible camera!!!!!\n",
            "xxxxxxxxxxxxxxxxxxxxxxxxxxxxxx\n",
            "the phone is no good it refuse to turn on, very temperamental it power on when it pleases. never get any good service from it.\n",
            "xxxxxxxxxxxxxxxxxxxxxxxxxxxxxx\n",
            "I send it to Jamaica, after 2 months it stop working. It's no good. I will never ever ever ever but any more again.\n",
            "xxxxxxxxxxxxxxxxxxxxxxxxxxxxxx\n",
            "One of the dual sim slot did not work. I took it to the Digicel who I hooked It up with nd they said that one slot is no good. I bought this phone because I was going on vacation to Jamaica where I am from to visit and I wanted a small but sleek phone to use there. I read the reviews before I purchased this product which all seem good. The front camera sucks, Well I guess I paid for what I bought. It was cheap. I truly didnt even know how to take the vibration off whenever I place a call and was answered by the other party. I went thru all the settings just couldnt find how to turn that feature off. Overall if u looking to just receive nd send a call its good but not for picture taking or vids.\n",
            "xxxxxxxxxxxxxxxxxxxxxxxxxxxxxx\n",
            "This phone is no good. it stop working in less than three months. seems like a total rip off.\n",
            "xxxxxxxxxxxxxxxxxxxxxxxxxxxxxx\n",
            "The screen protector I got was no good. It seemed used.\n",
            "xxxxxxxxxxxxxxxxxxxxxxxxxxxxxx\n",
            "no good\n",
            "xxxxxxxxxxxxxxxxxxxxxxxxxxxxxx\n",
            "Bought this for my daughters birthday...and within 6 days it would not turn on, just made a chime noise...tried to reset it and still nothing. I am sending it back for a refund...it is junk. Don't buy it...the reviews on marketplace are bogus...because it is no good.\n",
            "xxxxxxxxxxxxxxxxxxxxxxxxxxxxxx\n",
            "The two headphone no good\n",
            "xxxxxxxxxxxxxxxxxxxxxxxxxxxxxx\n",
            "Polaroid Power P600SL 6\" Full HD Octa-Core.Is very fast watching video's and web surfing and shopping online.It came with every thing you need folio case and a rubber case for every day use for the phone its a awesome phone to own.The specs of this phone is awesome 3 Gig's of Ram 13.0 Meg Camera is very bright in taking pictures and it all so has a 8 meg pixel front camera.I'm very pleased with this phone well don Polaroid it all so came with a 8000 mili Amp battery bank and a screen protector it just comes fully loaded to use very nice size phone over all FFFFFFFF---------------- .I'm updating this because i received the first one and the phone didn't even have a speaker bar on the phone for music or placing phone calls and they sent me a replacement unit and this one the camera ring around the cam feel off the phone is no good don't wast money on this unit that's probe why they sent lots accessory with it but this phone is pure junk BLU product's are lot better i bout this hoping it would have been faster then my 2 year old BLU product i returned mine and got me a refund BLU product's are so much better then this unit im now ordering the BLU Vivo XL they have never let me down yet Awesome product's.\n",
            "xxxxxxxxxxxxxxxxxxxxxxxxxxxxxx\n",
            "no good the phone failed after 3 weeks the screen went black after 3 weeks I think I need a replacement dose I have a warranty\n",
            "xxxxxxxxxxxxxxxxxxxxxxxxxxxxxx\n",
            "Im so terribly disappointed this is my second Blu Life XL in less than 1 year 3 months that have overheated on me and have died.my last purchase was in May of this year 2016 and within the last few weeks phone started feeling very hot and now it will not take the charge and locks its self off. Took it to be repaired and was told again that it makes no sense getting a battery or trying to fix cause the phone is no goodtotal waste of my money\n",
            "xxxxxxxxxxxxxxxxxxxxxxxxxxxxxx\n",
            "Very powerful. Downloaded Google's speech recognition and language translation Android software to the phone and it works real time and nearly flawlessly. These are very cpu-intensive, and they work very well. Extremely impressive.LTE works well... even on T-mo's network. This was a pleasant surprise, when you can find T-mo LTE.Love the 16 GB internal flash, external flash (for lots of tunes, in my case), and 2G ram (I have never gotten any \"memory exceeded\" error messages). Most S3s have only 1G of RAM. This special AT&T version has 2G. Big difference.Great deal at under $350 for an unlocked phone.Gets a 4 instead of 5 due to ...1) short battery life (hint, shut off the GPS, Bluetooth, and WiFi when not needed - GPS is especially a power hog).2) no UMTS 1700 band (one of T-mo's bands). Still works ok on T-mo, but I am often on Edge rather than HSPA. Edge is really slow. Probably have to get a phone from T-mo to get this weird band.2) camera... no good way to handle backlighting (without flash)...tried stopping down the exposure, but it seemed to do nothing. Maybe I am missing something?\n",
            "xxxxxxxxxxxxxxxxxxxxxxxxxxxxxx\n",
            "We have ordered a LG G3 d855 unlocked and insted of it got Verizon version of g3, d985.The color and the product are no match to what we've ordered.The person who should use it lives out of the US and the phone is no good to him - we cant change firmware becuase its a Verizon version, and now we are stucked with a phone we cant really use.Returning the item will cost us a lot of money and time.Buttom line - this is not what we've expected!\n",
            "xxxxxxxxxxxxxxxxxxxxxxxxxxxxxx\n",
            "The phone is no good i didn't even have a year with it b is b keep on dieing on me abd can't even open it and erased all my download on it dont spend money on this phone you will loose your money\n",
            "xxxxxxxxxxxxxxxxxxxxxxxxxxxxxx\n",
            "The product arrived on time, in good conditions and ready to use. Something like this I needed it in order to be in touch with my friends and parents. It is a good smartphone with a good price/product relationship. It has wi-fi, very important for me, because I work in no good telephone signal area, but wi-fi makes I still in touch.\n",
            "xxxxxxxxxxxxxxxxxxxxxxxxxxxxxx\n",
            "Ok, i bought this phone more than two months agoi wasn't expecting to get galaxy s2 performance or anything like that, i was just expecting a nokia e7the camera is really good, 720p is really good, better than many 1080p phones I've used beforephotos are Ok, not superb, just Ok.Keyboard is Fantastic, really fantastic, best keyboard ever, better than any samsung epic, better than xperia proreally worth itscreen is beautiful, if you are waiting for retina display, you wont get it, this is nHD, ninth of a full HD tv,so 640 by 360, but actually if you calculate the pixel density is better than most laptops, (15 inch or 13 inch, 1366x768)clear black display works wonderful, black is black, not gray it is BLACKthe phone is made out of plastic at the top and bottom, but it looks like the aluminum of the back cover and the screen bezelyou'll like itSoftwarethis is my third symbian phone, i'm not a big fan but i like the functionality, push email, Microsoft communicatorI use nimbuzz for chat, its perfect, because i only chat in Live MSN and facebook chatBrowser. you can download opera, because the built in browser it's no good at all, only for mobile pagesopera mini 6, is the one to go for, faster loading times than safari on iPhone 4s and android browser on galaxy s2I already did the test in best buy :3Games. well its a phone, don't expect for playstation 3 games soyou get a few popular mini games like angry birds, fruit ninja, asphalt 6, need for speed, they all work goodno lagOverall is a really good phone, but it's no iPhone, its different, so don't compare itand I'm waiting for the symbian belle update, you can Youtube symbian belle running on nokia n8i think you'll like it\n",
            "xxxxxxxxxxxxxxxxxxxxxxxxxxxxxx\n",
            "The camera is no good. I am not impressed\n",
            "xxxxxxxxxxxxxxxxxxxxxxxxxxxxxx\n",
            "The battery is no good and the charger\n",
            "xxxxxxxxxxxxxxxxxxxxxxxxxxxxxx\n",
            "This is a mixed review. When I received my phone, I was impressed. It had lots of nice features, it was nicely packaged, etc. It took some effort as I was never able to get the Verizon backup utility to work. Verizon's response is to make it a Verizon phone (this eliminates the advantages of buying an unlocked phone). So I had to get my old phone on, and export the contact list as a file, which I copied onto the phone. This worked. I was able to setup Google backup and that seems to work well. So, now to the BIG negative. 3 months in, I am noticing little glitches. The camera takes really good pictures, but it seems as though 8 out of 10 are corrupt. So this is no good. some apps seems to be slow. So I check the automatic update and it seems to set to work, but I decided to hit the check updates now on the operating system. Error message pops up saying the phone is not registered. So if you have an unlocked phone, this tells me I need to register it and it will work. So I headed over to LG's site to register, and every time I enter the phone data, I get an error saying my session has expired. So I cannot register this phone and I cannot get updates. The phone continues to act glitchy and I am considering dumping it and switching to the Google Nexus and their project Fi. So before you spend a lot of money on this phone, or any other, weigh in the fact that updating the Android operating system will be next to impossible if you are not a really experienced user.UPDATE: LG customer service responded to my request for support. They were polite but5in short, they do not care. It is up to the service provider to support the phone. So LG is a big fail in my book.I should note that all of the trouble started 45 days after I received the phone. So it's not eligible for return.\n",
            "xxxxxxxxxxxxxxxxxxxxxxxxxxxxxx\n",
            "Polaroid Power P600SL 6\" Full HD Octa-Core.Is very fast watching video's and web surfing and shopping online.It came with every thing you need folio case and a rubber case for every day use for the phone its a awesome phone to own.The specs of this phone is awesome 3 Gig's of Ram 13.0 Meg Camera is very bright in taking pictures and it all so has a 8 meg pixel front camera.I'm very pleased with this phone well don Polaroid it all so came with a 8000 mili Amp battery bank and a screen protector it just comes fully loaded to use very nice size phone over all FFFFFFFF---------------- .I'm updating this because i received the first one and the phone didn't even have a speaker bar on the phone for music or placing phone calls and they sent me a replacement unit and this one the camera ring around the cam feel off the phone is no good don't wast money on this unit that's probe why they sent lots accessory with it but this phone is pure junk BLU product's are lot better i bout this hoping it would have been faster then my 2 year old BLU product i returned mine and got me a refund BLU product's are so much better then this unit im now ordering the BLU Vivo XL they have never let me down yet Awesome product's.\n",
            "xxxxxxxxxxxxxxxxxxxxxxxxxxxxxx\n",
            "The phone screen stopped working in 45 days. Very bad buy the return is only 30 days! Do not buy this phone. Zero stars !!!!! All I ever buy are blu but this one is no good!\n",
            "xxxxxxxxxxxxxxxxxxxxxxxxxxxxxx\n",
            "For a cheap phone is fine. Now i have a little problem with the resolution of the camera, so i don't enjoy taking photos... life battery is longer than other phone, also the use you gave it is importan in the battery. but the most important is the camera reloution for been a camera to 5mp is no good.\n",
            "xxxxxxxxxxxxxxxxxxxxxxxxxxxxxx\n",
            "Update #2 (7/10/2016)Okay, another update on this phone. I still love it. Its extremely fast and excellent at multitasking. I have developed a couple of complaints about the phone.First, and this is not the phone's fault at all, there are not any really good cases available for the phone to offer really good protection. The only types of cases I have found are the silicone skins and the wallet style. So, that's kind of a bummer.Second, the approximately 1/3\" space at the bottom of the phone is kind of a pain, only because the capacitive buttons are higher than you would expect them to be. Sometimes I can be in the middle of typing a text message or something else, and I accidentally press the \"home\" button, and my phone zips to the home screen. Of course, I just press the \"tasks\" button and re-open my app, and I can quickly resume what I was doing. But, I shouldn't have to do that.Other than that, the battery life is more than adequate for my needs. Call quality is good. I have dropped the phone at least twice, with it only having an aforementioned silicone case, and there was no damage whatsoever.I love the phone and I am much happier with it than I was the MotoX.I will update if I have any problems that develop or if something terrible happens that causes me to need a new phone. Thanks for reading!Update (4/28/2016) : I still love this phone. I have discovered that the notification light only works with the phone is NOT on silent. It somewhat defeats the purpose for my needs, but not a deal breaker. The camera is stellar, and works extremely well. I am quite pleased with it. There was a firmware update that seems to have improved battery life as well as screen brightness. I am very happy with this. I love the \"Do It Later\" app that comes on the phone, allows you to set reminders to call and text people back, save articles to read, etc. Also, the phone has the ability to record telephone conversations. While the legality of doing this without the other party's consent varies from state to state, it can be VERY useful for helping you to remember exactly what was said in a conversation (a doctor's instructions, a step by step process being explained to you by another, etc.).So far, the phone still gets 5 stars from me. Will update again soon.(Original review):Posting a review since no one else has yet. A review would have been helpful to me when I was trying to decide whether or not to buy this phone. I was debating between this and the ZenFone 2. Most specs are the same, with a couple of exceptions. This phone supposedly has a better camera with optical image stabilization and 3x zoom. I am not a camera guru and won't claim to be, but so far its okay. I will update when I have had more time to play with it and experience its strengths and weaknesses. BUT I believe that Asus has also upgraded the sound in this phone (it sounds good) and this phone has Gorilla Glass 4. GG4 is supposedly 85% stronger than GG3. So to me it was worth it. Now better screen protection may not be a big issue for some, most people put cases on their phones anyway. I usually do too. However, no good, protective cases have been developed for this phone yet. So in the meantime, I feel better knowing i have better screen protection. Everything else? I like the phone. A lot of people complain about bloatware. I couldn't care less. I prefer some extra apps to the minimalist, bare bones, stock Android experience. If you don't like bloat, you can disable and hide the apps. And the bloatware doesn't affect the speed of the phone. This thing is a beast. Its super fast and snappy and I like it. I am a major multitasker and have huge numbers of apps running at any given time. This thing never slows down. It even does well with apps that I have on my SD card. I initially had some trouble getting the notification light to work, and the first day I had it some of my calls and texts didnt come through. I did a factory reset and no issues since. That's all for now. Will update in a few weeks.\n",
            "xxxxxxxxxxxxxxxxxxxxxxxxxxxxxx\n",
            "Charging problem no good networks problem\n",
            "xxxxxxxxxxxxxxxxxxxxxxxxxxxxxx\n",
            "at&t has not include multi window up to this date and there is no update after Android Jelly Bean 4.1.2 that's for at&t (i717) it stinks and the battery life is no good don't buy it... Take my foolish advice... The charger is not able to charge the phone now. Its hard to believe that Samsung put their name on a product like this and Amazon is even selling it wow, well i guess that's what happen when these big corporation \"make it they\" start producing low quality product... They know longer offer value for your money Thank You Samsung for showing me that even an organization like yours can produce that type of Standard...\n",
            "xxxxxxxxxxxxxxxxxxxxxxxxxxxxxx\n",
            "Bought for my 9 yr old...he likes it bit I dont. Camera is horrible, dark quality and \"grainy\". I wish I hadn't wasted my money on this. He had an Alcatel brand and this is the same - no good! Please don't waste your money. Screen is not 4\" either, more like 2.5\" or 3\". Horrible camera!!!!!\n",
            "xxxxxxxxxxxxxxxxxxxxxxxxxxxxxx\n",
            "Charging problem no good networks problem\n",
            "xxxxxxxxxxxxxxxxxxxxxxxxxxxxxx\n",
            "Was a no good. Battery was not charging\n",
            "xxxxxxxxxxxxxxxxxxxxxxxxxxxxxx\n",
            "I am sad to write a bad review on this phone, because there were many things I liked. But what is most important to me is taking good pictures of my kids. For this you cannot use the special camera feature that is designed to take better still life pictures, for movement, you have to keep the camera on regular. there is no good way to change camera settings, you cannot chose action photo, nighttime, etc. You can choose flash on, off, or auto. THE FLASH DOESN\"T WORK PROPERLY. After having this happen to me, I saw online it happens to others. For pictures inside of my fast moving kids, I need to use a flash or the picture is blurry. With this phone, the flash goes off, then turns off prior to the phone actually snapping the picture. I tested with and without flash and the picture is brighter without the flash. I tried for a few weeks and sadly the final result was just losing out of some great pictures of my young children. The other other negative for me for this camera, which may be with any camera, is by the end of the day the battery would go out. I didn't use it that much during the day, but I also am not on wifi during the day, I had hoped the battery would last a full 7am-11pm day with intermittent use. Otherwise I did really like the phone, but having to send it back, it gets only a 1 star.\n",
            "xxxxxxxxxxxxxxxxxxxxxxxxxxxxxx\n",
            "Product description states the phone to be an unlocked GSM phone. I inserted my active AT&T Sim card and it didn't recognize it. It comes up as\"Emergency\". I put a T-Mobile non-active sim and it found that network. They count on people not bothering to return it because it's a \"hassle\" just for $20. I don't care if it's \"only\" $20. I don't like giving my hard earned money away for no good reason. Amazon, you need to vet these vendors more carefully.\n",
            "xxxxxxxxxxxxxxxxxxxxxxxxxxxxxx\n",
            "Really no good !\n",
            "xxxxxxxxxxxxxxxxxxxxxxxxxxxxxx\n",
            "The phone only work for 1 day and I return it and still don't get a new phone or my money back and I am very ,very disappointed because I purchase the phone for my son birthday and to find out the is no good! Yes I am upset .\n",
            "xxxxxxxxxxxxxxxxxxxxxxxxxxxxxx\n",
            "is was broken I can't no use because the chage is no good I have to paid to getting fixe\n",
            "xxxxxxxxxxxxxxxxxxxxxxxxxxxxxx\n",
            "no good the phone failed after 3 weeks the screen went black after 3 weeks I think I need a replacement dose I have a warranty\n",
            "xxxxxxxxxxxxxxxxxxxxxxxxxxxxxx\n",
            "This phone is no good. it stop working in less than three months. seems like a total rip off.\n",
            "xxxxxxxxxxxxxxxxxxxxxxxxxxxxxx\n",
            "This phone is no good amazon you sale the m8 for me no good I lost my money\n",
            "xxxxxxxxxxxxxxxxxxxxxxxxxxxxxx\n",
            "no good at all\n",
            "xxxxxxxxxxxxxxxxxxxxxxxxxxxxxx\n"
          ]
        }
      ]
    },
    {
      "cell_type": "markdown",
      "metadata": {
        "id": "fmt7nF8If3VX"
      },
      "source": [
        "# LSTM"
      ]
    },
    {
      "cell_type": "code",
      "metadata": {
        "id": "Jnh-iXdVf3VY"
      },
      "source": [
        "from tensorflow.keras import models,layers\n",
        "from tensorflow.keras.preprocessing.text import Tokenizer\n",
        "from tensorflow.keras.preprocessing.sequence import pad_sequences"
      ],
      "execution_count": 40,
      "outputs": []
    },
    {
      "cell_type": "code",
      "metadata": {
        "id": "_ku-_3Owf3Vb",
        "colab": {
          "base_uri": "https://localhost:8080/"
        },
        "outputId": "bcb60946-1d99-45d9-fdb1-441039ee1a0e"
      },
      "source": [
        "x= df['Reviews']\n",
        "y = df['Positively Rated']\n",
        "print(x.shape)\n",
        "print(y.shape)"
      ],
      "execution_count": 41,
      "outputs": [
        {
          "output_type": "stream",
          "name": "stdout",
          "text": [
            "(61530,)\n",
            "(61530,)\n"
          ]
        }
      ]
    },
    {
      "cell_type": "code",
      "metadata": {
        "id": "9MvKhL2Yf3Ve",
        "colab": {
          "base_uri": "https://localhost:8080/"
        },
        "outputId": "6a58f2e0-3e5b-42d4-961b-cfbe3c6c5ad2"
      },
      "source": [
        "# The maximum number of words to be used. (most frequent)\n",
        "MAX_NB_WORDS = 20000\n",
        "# Max number of words in each complaint.\n",
        "MAX_SEQUENCE_LENGTH = 250\n",
        "# This is fixed.\n",
        "EMBEDDING_DIM = 120\n",
        "\n",
        "tokenizer = Tokenizer(num_words=MAX_NB_WORDS, filters='!\"#$%&()*+,-./:;<=>?@[\\]^_`{|}~',\n",
        "                      lower=True)\n",
        "\n",
        "tokenizer.fit_on_texts(x.values)\n",
        "word_index = tokenizer.word_index\n",
        "print('Found %s unique tokens.' % len(word_index))"
      ],
      "execution_count": 43,
      "outputs": [
        {
          "output_type": "stream",
          "name": "stdout",
          "text": [
            "Found 32361 unique tokens.\n"
          ]
        }
      ]
    },
    {
      "cell_type": "code",
      "metadata": {
        "id": "mM9tDGtXf3Vh",
        "colab": {
          "base_uri": "https://localhost:8080/"
        },
        "outputId": "1d63be81-0819-4199-d13a-b560da457104"
      },
      "source": [
        "#making every reviview of size 250 tokens\n",
        "x = tokenizer.texts_to_sequences(x.values)\n",
        "x = pad_sequences(x, maxlen=MAX_SEQUENCE_LENGTH)\n",
        "print('Shape of data tensor:', x.shape)"
      ],
      "execution_count": 44,
      "outputs": [
        {
          "output_type": "stream",
          "name": "stdout",
          "text": [
            "Shape of data tensor: (61530, 250)\n"
          ]
        }
      ]
    },
    {
      "cell_type": "code",
      "metadata": {
        "id": "_o-KNiKLf3Vm",
        "colab": {
          "base_uri": "https://localhost:8080/"
        },
        "outputId": "edfb22b9-fbe0-4bee-9dbb-825c02603f33"
      },
      "source": [
        "from sklearn.model_selection import train_test_split\n",
        "X_train, X_test, Y_train, Y_test = train_test_split(x,y, test_size = 0.10, random_state = 42)\n",
        "print(X_train.shape,Y_train.shape)\n",
        "print(X_test.shape,Y_test.shape)"
      ],
      "execution_count": 45,
      "outputs": [
        {
          "output_type": "stream",
          "name": "stdout",
          "text": [
            "(55377, 250) (55377,)\n",
            "(6153, 250) (6153,)\n"
          ]
        }
      ]
    },
    {
      "cell_type": "code",
      "source": [
        "input_layer = layers.Input(shape=(250,))\n",
        "embedding_layer = layers.Embedding(MAX_NB_WORDS,EMBEDDING_DIM)(input_layer)\n",
        "spatial = layers.SpatialDropout1D((0.2))(embedding_layer)\n",
        "lstm = layers.LSTM(100, dropout=0.2, recurrent_dropout=0.2)(spatial)\n",
        "op_layer = layers.Dense(1,activation='sigmoid')(lstm)\n",
        "\n",
        "model = models.Model(inputs=input_layer,outputs=op_layer)\n",
        "model.summary()"
      ],
      "metadata": {
        "id": "l1dYRCgHNfvo"
      },
      "execution_count": null,
      "outputs": []
    },
    {
      "cell_type": "code",
      "metadata": {
        "id": "rfJJxmd8f3Vs",
        "colab": {
          "base_uri": "https://localhost:8080/"
        },
        "outputId": "a4c5c03e-97c4-4ec2-b3a6-96b7d5283445"
      },
      "source": [
        "#model = models.Sequential()\n",
        "#model.add(layers.Embedding(MAX_NB_WORDS, EMBEDDING_DIM, input_length=x.shape[1]))\n",
        "#model.add(layers.SpatialDropout1D(0.2))\n",
        "#model.add(layers.LSTM(100, dropout=0.2, recurrent_dropout=0.2))\n",
        "#model.add(layers.Dense(1, activation='sigmoid'))\n",
        "model.compile(loss='binary_crossentropy', optimizer='adam', metrics=['accuracy'])\n",
        "history = model.fit(X_train, Y_train, epochs=10, batch_size=1000,validation_data=(X_test,Y_test),\n",
        "                    verbose=True)"
      ],
      "execution_count": 47,
      "outputs": [
        {
          "output_type": "stream",
          "name": "stdout",
          "text": [
            "Epoch 1/10\n",
            "56/56 [==============================] - 69s 1s/step - loss: 0.4578 - accuracy: 0.7855 - val_loss: 0.2706 - val_accuracy: 0.8877\n",
            "Epoch 2/10\n",
            "56/56 [==============================] - 62s 1s/step - loss: 0.2013 - accuracy: 0.9223 - val_loss: 0.1654 - val_accuracy: 0.9404\n",
            "Epoch 3/10\n",
            "56/56 [==============================] - 56s 1s/step - loss: 0.1407 - accuracy: 0.9504 - val_loss: 0.1470 - val_accuracy: 0.9473\n",
            "Epoch 4/10\n",
            "56/56 [==============================] - 57s 1s/step - loss: 0.1162 - accuracy: 0.9596 - val_loss: 0.1437 - val_accuracy: 0.9467\n",
            "Epoch 5/10\n",
            "56/56 [==============================] - 58s 1s/step - loss: 0.1032 - accuracy: 0.9648 - val_loss: 0.1609 - val_accuracy: 0.9473\n",
            "Epoch 6/10\n",
            "56/56 [==============================] - 72s 1s/step - loss: 0.0943 - accuracy: 0.9689 - val_loss: 0.1487 - val_accuracy: 0.9517\n",
            "Epoch 7/10\n",
            "56/56 [==============================] - 54s 976ms/step - loss: 0.0825 - accuracy: 0.9733 - val_loss: 0.1450 - val_accuracy: 0.9517\n",
            "Epoch 8/10\n",
            "56/56 [==============================] - 54s 969ms/step - loss: 0.0749 - accuracy: 0.9763 - val_loss: 0.1569 - val_accuracy: 0.9514\n",
            "Epoch 9/10\n",
            "56/56 [==============================] - 55s 979ms/step - loss: 0.0701 - accuracy: 0.9781 - val_loss: 0.1461 - val_accuracy: 0.9517\n",
            "Epoch 10/10\n",
            "56/56 [==============================] - 54s 956ms/step - loss: 0.0661 - accuracy: 0.9791 - val_loss: 0.1748 - val_accuracy: 0.9488\n"
          ]
        }
      ]
    },
    {
      "cell_type": "code",
      "metadata": {
        "id": "2CXcHaWdf3Vy",
        "colab": {
          "base_uri": "https://localhost:8080/"
        },
        "outputId": "3577a4e7-7cd4-4d23-902c-e18630a5e474"
      },
      "source": [
        "loss,accr = model.evaluate(X_test,Y_test)\n",
        "print('Test set\\n  Loss: {:0.3f}\\n  Accuracy: {:0.3f}'.format(loss,accr))"
      ],
      "execution_count": 48,
      "outputs": [
        {
          "output_type": "stream",
          "name": "stdout",
          "text": [
            "193/193 [==============================] - 20s 104ms/step - loss: 0.1748 - accuracy: 0.9488\n",
            "Test set\n",
            "  Loss: 0.175\n",
            "  Accuracy: 0.949\n"
          ]
        }
      ]
    },
    {
      "cell_type": "code",
      "metadata": {
        "id": "AAumHvo0L6qI",
        "colab": {
          "base_uri": "https://localhost:8080/"
        },
        "outputId": "258c0387-e7af-4eee-a2ed-b528211e5b51"
      },
      "source": [
        "X_test.shape"
      ],
      "execution_count": 49,
      "outputs": [
        {
          "output_type": "execute_result",
          "data": {
            "text/plain": [
              "(6153, 250)"
            ]
          },
          "metadata": {},
          "execution_count": 49
        }
      ]
    },
    {
      "cell_type": "code",
      "metadata": {
        "id": "pG1bhwAcMJpW",
        "colab": {
          "base_uri": "https://localhost:8080/"
        },
        "outputId": "74beffd2-8682-4517-c12a-e5b0c01cb08b"
      },
      "source": [
        "model.predict(X_test).shape"
      ],
      "execution_count": 50,
      "outputs": [
        {
          "output_type": "stream",
          "name": "stdout",
          "text": [
            "193/193 [==============================] - 20s 103ms/step\n"
          ]
        },
        {
          "output_type": "execute_result",
          "data": {
            "text/plain": [
              "(6153, 1)"
            ]
          },
          "metadata": {},
          "execution_count": 50
        }
      ]
    },
    {
      "cell_type": "code",
      "metadata": {
        "id": "zsErB6n-MR0I",
        "outputId": "48aa82c3-2d3d-4853-84cb-69b3ada2a90c",
        "colab": {
          "base_uri": "https://localhost:8080/"
        }
      },
      "source": [
        "model.summary()"
      ],
      "execution_count": 51,
      "outputs": [
        {
          "output_type": "stream",
          "name": "stdout",
          "text": [
            "Model: \"model\"\n",
            "_________________________________________________________________\n",
            " Layer (type)                Output Shape              Param #   \n",
            "=================================================================\n",
            " input_1 (InputLayer)        [(None, 250)]             0         \n",
            "                                                                 \n",
            " embedding (Embedding)       (None, 250, 120)          2400000   \n",
            "                                                                 \n",
            " spatial_dropout1d (Spatial  (None, 250, 120)          0         \n",
            " Dropout1D)                                                      \n",
            "                                                                 \n",
            " lstm (LSTM)                 (None, 100)               88400     \n",
            "                                                                 \n",
            " dense (Dense)               (None, 1)                 101       \n",
            "                                                                 \n",
            "=================================================================\n",
            "Total params: 2488501 (9.49 MB)\n",
            "Trainable params: 2488501 (9.49 MB)\n",
            "Non-trainable params: 0 (0.00 Byte)\n",
            "_________________________________________________________________\n"
          ]
        }
      ]
    },
    {
      "cell_type": "code",
      "source": [
        "from tensorflow.keras.callbacks import EarlyStopping\n",
        "es = EarlyStopping(monitor='val_loss', mode='min',verbose=1)\n",
        "history = model.fit(X_train, Y_train, epochs=10, batch_size=1000,validation_data=(X_test,Y_test),callbacks=[es],\n",
        "                    verbose=True)"
      ],
      "metadata": {
        "id": "VMF5HFx9RO3I",
        "outputId": "c2cfad5f-8647-4730-b8e9-793c2acc9646",
        "colab": {
          "base_uri": "https://localhost:8080/"
        }
      },
      "execution_count": 52,
      "outputs": [
        {
          "output_type": "stream",
          "name": "stdout",
          "text": [
            "Epoch 1/10\n",
            "56/56 [==============================] - 61s 1s/step - loss: 0.0628 - accuracy: 0.9803 - val_loss: 0.1676 - val_accuracy: 0.9517\n",
            "Epoch 2/10\n",
            "56/56 [==============================] - 55s 963ms/step - loss: 0.0597 - accuracy: 0.9811 - val_loss: 0.1888 - val_accuracy: 0.9496\n",
            "Epoch 2: early stopping\n"
          ]
        }
      ]
    },
    {
      "cell_type": "code",
      "source": [],
      "metadata": {
        "id": "bnup2ibIROwE"
      },
      "execution_count": null,
      "outputs": []
    },
    {
      "cell_type": "markdown",
      "source": [
        "Weight calculation in LSTM\n",
        "\n",
        "`Total weights = 4 x [(size of input + 1)*(size of output) + (size of output^2)]`"
      ],
      "metadata": {
        "id": "MWpJCTVecKO9"
      }
    },
    {
      "cell_type": "markdown",
      "source": [
        "total weights = 4*[(120+1)*100 + (100*100)]"
      ],
      "metadata": {
        "id": "M2pLhmjycbR4"
      }
    },
    {
      "cell_type": "code",
      "source": [],
      "metadata": {
        "id": "qPF2aurVca3Y"
      },
      "execution_count": null,
      "outputs": []
    },
    {
      "cell_type": "code",
      "source": [],
      "metadata": {
        "id": "-gon1Zb5cJjs",
        "outputId": "314ce578-09e5-47f3-c928-e6df96014e41",
        "colab": {
          "base_uri": "https://localhost:8080/"
        }
      },
      "execution_count": null,
      "outputs": [
        {
          "output_type": "execute_result",
          "data": {
            "text/plain": [
              "array([[0.00177595],\n",
              "       [0.9999622 ],\n",
              "       [0.49591604],\n",
              "       ...,\n",
              "       [0.99952555],\n",
              "       [0.9989831 ],\n",
              "       [0.9998079 ]], dtype=float32)"
            ]
          },
          "metadata": {},
          "execution_count": 42
        }
      ]
    },
    {
      "cell_type": "code",
      "metadata": {
        "id": "xUZpqDInf3V2",
        "colab": {
          "base_uri": "https://localhost:8080/"
        },
        "outputId": "944870cd-4b44-44fd-8963-6a2d861daeb0"
      },
      "source": [
        "predictions = model.predict(X_test)\n",
        "predictions = np.where(predictions>=0.5,1,0)\n",
        "print(classification_report(Y_test,predictions))\n",
        "print(confusion_matrix(Y_test,predictions))"
      ],
      "execution_count": null,
      "outputs": [
        {
          "output_type": "stream",
          "name": "stdout",
          "text": [
            "              precision    recall  f1-score   support\n",
            "\n",
            "           0       0.93      0.87      0.90      1608\n",
            "           1       0.95      0.98      0.96      4546\n",
            "\n",
            "    accuracy                           0.95      6154\n",
            "   macro avg       0.94      0.92      0.93      6154\n",
            "weighted avg       0.95      0.95      0.95      6154\n",
            "\n",
            "[[1396  212]\n",
            " [ 111 4435]]\n"
          ]
        }
      ]
    },
    {
      "cell_type": "code",
      "metadata": {
        "id": "g7HA1KRof3V5",
        "colab": {
          "base_uri": "https://localhost:8080/",
          "height": 281
        },
        "outputId": "6bf9da74-612e-4962-ebc6-636c6f3ec27b"
      },
      "source": [
        "import matplotlib.pyplot as plt\n",
        "\n",
        "plt.title('Loss')\n",
        "plt.plot(history.history['loss'], label='train')\n",
        "plt.plot(history.history['val_loss'], label='test')\n",
        "plt.legend()\n",
        "plt.show()"
      ],
      "execution_count": null,
      "outputs": [
        {
          "output_type": "display_data",
          "data": {
            "image/png": "[encoded data removed]",
            "text/plain": [
              "<Figure size 432x288 with 1 Axes>"
            ]
          },
          "metadata": {
            "needs_background": "light"
          }
        }
      ]
    },
    {
      "cell_type": "code",
      "metadata": {
        "id": "znxhv7kwf3V7",
        "colab": {
          "base_uri": "https://localhost:8080/",
          "height": 281
        },
        "outputId": "61eaf363-7474-4989-a13f-c34c89b90557"
      },
      "source": [
        "plt.title('Accuracy')\n",
        "plt.plot(history.history['accuracy'], label='train')\n",
        "plt.plot(history.history['val_accuracy'], label='test')\n",
        "plt.legend()\n",
        "plt.show()"
      ],
      "execution_count": null,
      "outputs": [
        {
          "output_type": "display_data",
          "data": {
            "image/png": "[encoded data removed]",
            "text/plain": [
              "<Figure size 432x288 with 1 Axes>"
            ]
          },
          "metadata": {
            "needs_background": "light"
          }
        }
      ]
    },
    {
      "cell_type": "code",
      "metadata": {
        "id": "m6M-wbGlJUrt"
      },
      "source": [],
      "execution_count": null,
      "outputs": []
    }
  ]
}