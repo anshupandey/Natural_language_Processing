{
  "nbformat": 4,
  "nbformat_minor": 0,
  "metadata": {
    "colab": {
      "name": "Case_Study_Sentiment_Analysis_Amazon_Mobile_Reviews.ipynb",
      "provenance": [],
      "collapsed_sections": [
        "xZpdO8pxf3Ut",
        "llhRHHkdf3VJ"
      ],
      "include_colab_link": true
    },
    "kernelspec": {
      "display_name": "Python 3",
      "language": "python",
      "name": "python3"
    },
    "language_info": {
      "codemirror_mode": {
        "name": "ipython",
        "version": 3
      },
      "file_extension": ".py",
      "mimetype": "text/x-python",
      "name": "python",
      "nbconvert_exporter": "python",
      "pygments_lexer": "ipython3",
      "version": "3.6.7"
    }
  },
  "cells": [
    {
      "cell_type": "markdown",
      "metadata": {
        "id": "view-in-github",
        "colab_type": "text"
      },
      "source": [
        "<a href=\"https://colab.research.google.com/github/anshupandey/natural_language_processing/blob/master/Case_Study_Sentiment_Analysis_Amazon_Mobile_Reviews.ipynb\" target=\"_parent\"><img src=\"https://colab.research.google.com/assets/colab-badge.svg\" alt=\"Open In Colab\"/></a>"
      ]
    },
    {
      "cell_type": "markdown",
      "metadata": {
        "colab_type": "text",
        "id": "gfRJGqrMf3TZ"
      },
      "source": [
        "# Case Study: Sentiment Analysis"
      ]
    },
    {
      "cell_type": "markdown",
      "metadata": {
        "colab_type": "text",
        "id": "miHd4ECMf3Te"
      },
      "source": [
        "### Data Prep"
      ]
    },
    {
      "cell_type": "code",
      "metadata": {
        "colab_type": "code",
        "id": "UND9cVC6f3Th",
        "colab": {}
      },
      "source": [
        "# THis dataset also requires cleaning text and removing unwanted tokens using regular expressions,\n",
        "# this part is not covered in this notebook to save time but strongly recommeded to perform."
      ],
      "execution_count": 0,
      "outputs": []
    },
    {
      "cell_type": "code",
      "metadata": {
        "colab_type": "code",
        "id": "4UcaVNmMf3To",
        "outputId": "67b8854b-25c6-4c9a-e7bf-259cee32cb6b",
        "colab": {
          "base_uri": "https://localhost:8080/",
          "height": 229
        }
      },
      "source": [
        "import pandas as pd\n",
        "import numpy as np\n",
        "\n",
        "# Read in the data\n",
        "df = pd.read_csv(r\"https://media.githubusercontent.com/media/anshupandey/Machine_Learning_Training/master/datasets/Amazon_Unlocked_Mobile.csv\")\n",
        "print(df.shape)\n",
        "# Sample the data to speed up computation\n",
        "df = df.sample(frac=0.1, random_state=10)\n",
        "print(df.shape)\n",
        "df.head()"
      ],
      "execution_count": 0,
      "outputs": [
        {
          "output_type": "stream",
          "text": [
            "(413840, 6)\n",
            "(41384, 6)\n"
          ],
          "name": "stdout"
        },
        {
          "output_type": "execute_result",
          "data": {
            "text/html": [
              "<div>\n",
              "<style scoped>\n",
              "    .dataframe tbody tr th:only-of-type {\n",
              "        vertical-align: middle;\n",
              "    }\n",
              "\n",
              "    .dataframe tbody tr th {\n",
              "        vertical-align: top;\n",
              "    }\n",
              "\n",
              "    .dataframe thead th {\n",
              "        text-align: right;\n",
              "    }\n",
              "</style>\n",
              "<table border=\"1\" class=\"dataframe\">\n",
              "  <thead>\n",
              "    <tr style=\"text-align: right;\">\n",
              "      <th></th>\n",
              "      <th>Product Name</th>\n",
              "      <th>Brand Name</th>\n",
              "      <th>Price</th>\n",
              "      <th>Rating</th>\n",
              "      <th>Reviews</th>\n",
              "      <th>Review Votes</th>\n",
              "    </tr>\n",
              "  </thead>\n",
              "  <tbody>\n",
              "    <tr>\n",
              "      <th>394349</th>\n",
              "      <td>Sony XPERIA Z2 D6503 FACTORY UNLOCKED Internat...</td>\n",
              "      <td>NaN</td>\n",
              "      <td>244.95</td>\n",
              "      <td>5</td>\n",
              "      <td>Very good one! Better than Samsung S and iphon...</td>\n",
              "      <td>0.0</td>\n",
              "    </tr>\n",
              "    <tr>\n",
              "      <th>34377</th>\n",
              "      <td>Apple iPhone 5c 8GB (Pink) - Verizon Wireless</td>\n",
              "      <td>Apple</td>\n",
              "      <td>194.99</td>\n",
              "      <td>1</td>\n",
              "      <td>The phone needed a SIM card, would have been n...</td>\n",
              "      <td>1.0</td>\n",
              "    </tr>\n",
              "    <tr>\n",
              "      <th>248521</th>\n",
              "      <td>Motorola Droid RAZR MAXX XT912 M Verizon Smart...</td>\n",
              "      <td>Motorola</td>\n",
              "      <td>174.99</td>\n",
              "      <td>5</td>\n",
              "      <td>I was 3 months away from my upgrade and my Str...</td>\n",
              "      <td>3.0</td>\n",
              "    </tr>\n",
              "    <tr>\n",
              "      <th>167661</th>\n",
              "      <td>CNPGD [U.S. Office Extended Warranty] Smartwat...</td>\n",
              "      <td>CNPGD</td>\n",
              "      <td>49.99</td>\n",
              "      <td>1</td>\n",
              "      <td>an experience i want to forget</td>\n",
              "      <td>0.0</td>\n",
              "    </tr>\n",
              "    <tr>\n",
              "      <th>73287</th>\n",
              "      <td>Apple iPhone 7 Unlocked Phone 256 GB - US Vers...</td>\n",
              "      <td>Apple</td>\n",
              "      <td>922.00</td>\n",
              "      <td>5</td>\n",
              "      <td>GREAT PHONE WORK ACCORDING MY EXPECTATIONS.</td>\n",
              "      <td>1.0</td>\n",
              "    </tr>\n",
              "  </tbody>\n",
              "</table>\n",
              "</div>"
            ],
            "text/plain": [
              "                                             Product Name  ... Review Votes\n",
              "394349  Sony XPERIA Z2 D6503 FACTORY UNLOCKED Internat...  ...          0.0\n",
              "34377       Apple iPhone 5c 8GB (Pink) - Verizon Wireless  ...          1.0\n",
              "248521  Motorola Droid RAZR MAXX XT912 M Verizon Smart...  ...          3.0\n",
              "167661  CNPGD [U.S. Office Extended Warranty] Smartwat...  ...          0.0\n",
              "73287   Apple iPhone 7 Unlocked Phone 256 GB - US Vers...  ...          1.0\n",
              "\n",
              "[5 rows x 6 columns]"
            ]
          },
          "metadata": {
            "tags": []
          },
          "execution_count": 2
        }
      ]
    },
    {
      "cell_type": "code",
      "metadata": {
        "colab_type": "code",
        "id": "L_SSVOTVf3Tw",
        "outputId": "59d8d6d5-f4ca-45ca-e76f-bba3ced64802",
        "colab": {
          "base_uri": "https://localhost:8080/",
          "height": 360
        }
      },
      "source": [
        "# Drop missing values\n",
        "df.dropna(inplace=True)\n",
        "\n",
        "# Remove any 'neutral' ratings equal to 3\n",
        "df = df[df['Rating'] != 3]\n",
        "\n",
        "# Encode 4s and 5s as 1 (rated positively)\n",
        "# Encode 1s and 2s as 0 (rated poorly)\n",
        "df['Positively Rated'] = np.where(df['Rating'] > 3, 1, 0)\n",
        "print(df.shape)\n",
        "df.head(10)\n"
      ],
      "execution_count": 0,
      "outputs": [
        {
          "output_type": "stream",
          "text": [
            "(30737, 7)\n"
          ],
          "name": "stdout"
        },
        {
          "output_type": "execute_result",
          "data": {
            "text/html": [
              "<div>\n",
              "<style scoped>\n",
              "    .dataframe tbody tr th:only-of-type {\n",
              "        vertical-align: middle;\n",
              "    }\n",
              "\n",
              "    .dataframe tbody tr th {\n",
              "        vertical-align: top;\n",
              "    }\n",
              "\n",
              "    .dataframe thead th {\n",
              "        text-align: right;\n",
              "    }\n",
              "</style>\n",
              "<table border=\"1\" class=\"dataframe\">\n",
              "  <thead>\n",
              "    <tr style=\"text-align: right;\">\n",
              "      <th></th>\n",
              "      <th>Product Name</th>\n",
              "      <th>Brand Name</th>\n",
              "      <th>Price</th>\n",
              "      <th>Rating</th>\n",
              "      <th>Reviews</th>\n",
              "      <th>Review Votes</th>\n",
              "      <th>Positively Rated</th>\n",
              "    </tr>\n",
              "  </thead>\n",
              "  <tbody>\n",
              "    <tr>\n",
              "      <th>34377</th>\n",
              "      <td>Apple iPhone 5c 8GB (Pink) - Verizon Wireless</td>\n",
              "      <td>Apple</td>\n",
              "      <td>194.99</td>\n",
              "      <td>1</td>\n",
              "      <td>The phone needed a SIM card, would have been n...</td>\n",
              "      <td>1.0</td>\n",
              "      <td>0</td>\n",
              "    </tr>\n",
              "    <tr>\n",
              "      <th>248521</th>\n",
              "      <td>Motorola Droid RAZR MAXX XT912 M Verizon Smart...</td>\n",
              "      <td>Motorola</td>\n",
              "      <td>174.99</td>\n",
              "      <td>5</td>\n",
              "      <td>I was 3 months away from my upgrade and my Str...</td>\n",
              "      <td>3.0</td>\n",
              "      <td>1</td>\n",
              "    </tr>\n",
              "    <tr>\n",
              "      <th>167661</th>\n",
              "      <td>CNPGD [U.S. Office Extended Warranty] Smartwat...</td>\n",
              "      <td>CNPGD</td>\n",
              "      <td>49.99</td>\n",
              "      <td>1</td>\n",
              "      <td>an experience i want to forget</td>\n",
              "      <td>0.0</td>\n",
              "      <td>0</td>\n",
              "    </tr>\n",
              "    <tr>\n",
              "      <th>73287</th>\n",
              "      <td>Apple iPhone 7 Unlocked Phone 256 GB - US Vers...</td>\n",
              "      <td>Apple</td>\n",
              "      <td>922.00</td>\n",
              "      <td>5</td>\n",
              "      <td>GREAT PHONE WORK ACCORDING MY EXPECTATIONS.</td>\n",
              "      <td>1.0</td>\n",
              "      <td>1</td>\n",
              "    </tr>\n",
              "    <tr>\n",
              "      <th>277158</th>\n",
              "      <td>Nokia N8 Unlocked GSM Touch Screen Phone Featu...</td>\n",
              "      <td>Nokia</td>\n",
              "      <td>95.00</td>\n",
              "      <td>5</td>\n",
              "      <td>I fell in love with this phone because it did ...</td>\n",
              "      <td>0.0</td>\n",
              "      <td>1</td>\n",
              "    </tr>\n",
              "    <tr>\n",
              "      <th>100311</th>\n",
              "      <td>Blackberry Torch 2 9810 Unlocked Phone with 1....</td>\n",
              "      <td>BlackBerry</td>\n",
              "      <td>77.49</td>\n",
              "      <td>5</td>\n",
              "      <td>I am pleased with this Blackberry phone! The p...</td>\n",
              "      <td>0.0</td>\n",
              "      <td>1</td>\n",
              "    </tr>\n",
              "    <tr>\n",
              "      <th>251669</th>\n",
              "      <td>Motorola Moto E (1st Generation) - Black - 4 G...</td>\n",
              "      <td>Motorola</td>\n",
              "      <td>89.99</td>\n",
              "      <td>5</td>\n",
              "      <td>Great product, best value for money smartphone...</td>\n",
              "      <td>0.0</td>\n",
              "      <td>1</td>\n",
              "    </tr>\n",
              "    <tr>\n",
              "      <th>279878</th>\n",
              "      <td>OtterBox 77-29864 Defender Series Hybrid Case ...</td>\n",
              "      <td>OtterBox</td>\n",
              "      <td>9.99</td>\n",
              "      <td>5</td>\n",
              "      <td>I've bought 3 no problems. Fast delivery.</td>\n",
              "      <td>0.0</td>\n",
              "      <td>1</td>\n",
              "    </tr>\n",
              "    <tr>\n",
              "      <th>406017</th>\n",
              "      <td>Verizon HTC Rezound 4G Android Smarphone - 8MP...</td>\n",
              "      <td>HTC</td>\n",
              "      <td>74.99</td>\n",
              "      <td>4</td>\n",
              "      <td>Great phone for the price...</td>\n",
              "      <td>0.0</td>\n",
              "      <td>1</td>\n",
              "    </tr>\n",
              "    <tr>\n",
              "      <th>302567</th>\n",
              "      <td>RCA M1 Unlocked Cell Phone, Dual Sim, 5Mp Came...</td>\n",
              "      <td>RCA</td>\n",
              "      <td>159.99</td>\n",
              "      <td>5</td>\n",
              "      <td>My mom is not good with new technoloy but this...</td>\n",
              "      <td>4.0</td>\n",
              "      <td>1</td>\n",
              "    </tr>\n",
              "  </tbody>\n",
              "</table>\n",
              "</div>"
            ],
            "text/plain": [
              "                                             Product Name  ... Positively Rated\n",
              "34377       Apple iPhone 5c 8GB (Pink) - Verizon Wireless  ...                0\n",
              "248521  Motorola Droid RAZR MAXX XT912 M Verizon Smart...  ...                1\n",
              "167661  CNPGD [U.S. Office Extended Warranty] Smartwat...  ...                0\n",
              "73287   Apple iPhone 7 Unlocked Phone 256 GB - US Vers...  ...                1\n",
              "277158  Nokia N8 Unlocked GSM Touch Screen Phone Featu...  ...                1\n",
              "100311  Blackberry Torch 2 9810 Unlocked Phone with 1....  ...                1\n",
              "251669  Motorola Moto E (1st Generation) - Black - 4 G...  ...                1\n",
              "279878  OtterBox 77-29864 Defender Series Hybrid Case ...  ...                1\n",
              "406017  Verizon HTC Rezound 4G Android Smarphone - 8MP...  ...                1\n",
              "302567  RCA M1 Unlocked Cell Phone, Dual Sim, 5Mp Came...  ...                1\n",
              "\n",
              "[10 rows x 7 columns]"
            ]
          },
          "metadata": {
            "tags": []
          },
          "execution_count": 4
        }
      ]
    },
    {
      "cell_type": "code",
      "metadata": {
        "colab_type": "code",
        "id": "Noxq2rNWf3T1",
        "outputId": "7241e34a-c22a-4ef1-f1bf-ec30620a5455",
        "colab": {
          "base_uri": "https://localhost:8080/",
          "height": 34
        }
      },
      "source": [
        "# Most ratings are positive\n",
        "df['Positively Rated'].mean()"
      ],
      "execution_count": 0,
      "outputs": [
        {
          "output_type": "execute_result",
          "data": {
            "text/plain": [
              "0.7471776686078667"
            ]
          },
          "metadata": {
            "tags": []
          },
          "execution_count": 5
        }
      ]
    },
    {
      "cell_type": "code",
      "metadata": {
        "colab_type": "code",
        "id": "_Dhxv0iaf3T5",
        "colab": {}
      },
      "source": [
        "from sklearn.model_selection import train_test_split\n",
        "\n",
        "# Split data into training and test sets\n",
        "X_train, X_test, y_train, y_test = train_test_split(df['Reviews'], \n",
        "                                                    df['Positively Rated'], \n",
        "                                                    random_state=0)"
      ],
      "execution_count": 0,
      "outputs": []
    },
    {
      "cell_type": "code",
      "metadata": {
        "colab_type": "code",
        "id": "17NFefcXf3T_",
        "outputId": "47bd1381-c407-471f-92fa-50f500b361fb",
        "colab": {
          "base_uri": "https://localhost:8080/",
          "height": 118
        }
      },
      "source": [
        "print('X_train first entry:\\n\\n', X_train.iloc[0])\n",
        "print('\\n\\nX_train shape: ', X_train.shape)"
      ],
      "execution_count": 0,
      "outputs": [
        {
          "output_type": "stream",
          "text": [
            "X_train first entry:\n",
            "\n",
            " Everything about it is awesome!\n",
            "\n",
            "\n",
            "X_train shape:  (23052,)\n"
          ],
          "name": "stdout"
        }
      ]
    },
    {
      "cell_type": "code",
      "metadata": {
        "id": "Sc7-kvQlJUqV",
        "colab_type": "code",
        "outputId": "0c21fd61-a699-4c2a-f92e-0cd1cdc89816",
        "colab": {
          "base_uri": "https://localhost:8080/",
          "height": 218
        }
      },
      "source": [
        "X_train"
      ],
      "execution_count": 0,
      "outputs": [
        {
          "output_type": "execute_result",
          "data": {
            "text/plain": [
              "78589                       Everything about it is awesome!\n",
              "2581      I bought this phone in July of 2015, and I lov...\n",
              "303780    Small and very light, simple, when just a phon...\n",
              "369144                                        Awesome phone\n",
              "390639    The phone is just as described. Looks sleek an...\n",
              "                                ...                        \n",
              "33617     I am having the hardest time getting a SIM car...\n",
              "253151                                            NUEVECITO\n",
              "67505     I am a very satisfied customer and would highl...\n",
              "397776    First of all there are few choices in sub 5\" A...\n",
              "191724    Within 2weeks of owning the phone it shown a u...\n",
              "Name: Reviews, Length: 23052, dtype: object"
            ]
          },
          "metadata": {
            "tags": []
          },
          "execution_count": 8
        }
      ]
    },
    {
      "cell_type": "markdown",
      "metadata": {
        "colab_type": "text",
        "id": "oHHboPVQf3UD"
      },
      "source": [
        "# CountVectorizer"
      ]
    },
    {
      "cell_type": "code",
      "metadata": {
        "colab_type": "code",
        "id": "l-axkYbqf3UF",
        "colab": {}
      },
      "source": [
        "from sklearn.feature_extraction.text import CountVectorizer\n",
        "\n",
        "# Fit the CountVectorizer to the training data\n",
        "vect = CountVectorizer().fit(X_train)"
      ],
      "execution_count": 0,
      "outputs": []
    },
    {
      "cell_type": "code",
      "metadata": {
        "colab_type": "code",
        "id": "8LJ7tMGAf3UJ",
        "outputId": "673293d8-f8f6-45ff-a02c-37df75c05f3a",
        "scrolled": false,
        "colab": {
          "base_uri": "https://localhost:8080/",
          "height": 185
        }
      },
      "source": [
        "vect.get_feature_names()[::2000]"
      ],
      "execution_count": 0,
      "outputs": [
        {
          "output_type": "execute_result",
          "data": {
            "text/plain": [
              "['00',\n",
              " 'arroja',\n",
              " 'comapañias',\n",
              " 'dvds',\n",
              " 'golden',\n",
              " 'lands',\n",
              " 'oil',\n",
              " 'razonable',\n",
              " 'smallsliver',\n",
              " 'tweak']"
            ]
          },
          "metadata": {
            "tags": []
          },
          "execution_count": 10
        }
      ]
    },
    {
      "cell_type": "code",
      "metadata": {
        "colab_type": "code",
        "id": "70f3hPkEf3UO",
        "outputId": "0d4c75de-43ee-492e-8b21-502270668fc9",
        "colab": {
          "base_uri": "https://localhost:8080/",
          "height": 34
        }
      },
      "source": [
        "len(vect.get_feature_names())"
      ],
      "execution_count": 0,
      "outputs": [
        {
          "output_type": "execute_result",
          "data": {
            "text/plain": [
              "19601"
            ]
          },
          "metadata": {
            "tags": []
          },
          "execution_count": 11
        }
      ]
    },
    {
      "cell_type": "code",
      "metadata": {
        "colab_type": "code",
        "id": "qjXut_OTf3UV",
        "outputId": "c8711b25-a132-4990-bb9c-66d04efc6155",
        "colab": {
          "base_uri": "https://localhost:8080/",
          "height": 50
        }
      },
      "source": [
        "# transform the documents in the training data to a document-term matrix\n",
        "X_train_vectorized = vect.transform(X_train)\n",
        "\n",
        "X_train_vectorized"
      ],
      "execution_count": 0,
      "outputs": [
        {
          "output_type": "execute_result",
          "data": {
            "text/plain": [
              "<23052x19601 sparse matrix of type '<class 'numpy.int64'>'\n",
              "\twith 613289 stored elements in Compressed Sparse Row format>"
            ]
          },
          "metadata": {
            "tags": []
          },
          "execution_count": 12
        }
      ]
    },
    {
      "cell_type": "code",
      "metadata": {
        "colab_type": "code",
        "id": "kkAAQdiMf3UY",
        "outputId": "984e7292-357f-42e6-9270-d2fe281e0009",
        "colab": {
          "base_uri": "https://localhost:8080/",
          "height": 101
        }
      },
      "source": [
        "from sklearn.linear_model import LogisticRegression\n",
        "\n",
        "# Train the model\n",
        "model = LogisticRegression(max_iter=500)\n",
        "model.fit(X_train_vectorized, y_train)"
      ],
      "execution_count": 0,
      "outputs": [
        {
          "output_type": "execute_result",
          "data": {
            "text/plain": [
              "LogisticRegression(C=1.0, class_weight=None, dual=False, fit_intercept=True,\n",
              "                   intercept_scaling=1, l1_ratio=None, max_iter=500,\n",
              "                   multi_class='auto', n_jobs=None, penalty='l2',\n",
              "                   random_state=None, solver='lbfgs', tol=0.0001, verbose=0,\n",
              "                   warm_start=False)"
            ]
          },
          "metadata": {
            "tags": []
          },
          "execution_count": 14
        }
      ]
    },
    {
      "cell_type": "code",
      "metadata": {
        "colab_type": "code",
        "id": "hS0n-50zf3Ub",
        "colab": {}
      },
      "source": [
        "# Predict the transformed test documents\n",
        "predictions = model.predict(vect.transform(X_test))"
      ],
      "execution_count": 0,
      "outputs": []
    },
    {
      "cell_type": "code",
      "metadata": {
        "colab_type": "code",
        "id": "Q6Av7qBRf3Ue",
        "outputId": "29261449-0963-4001-ddc9-bee5873f1877",
        "colab": {
          "base_uri": "https://localhost:8080/",
          "height": 34
        }
      },
      "source": [
        "model.score(vect.transform(X_test),y_test)"
      ],
      "execution_count": 0,
      "outputs": [
        {
          "output_type": "execute_result",
          "data": {
            "text/plain": [
              "0.93181522446324"
            ]
          },
          "metadata": {
            "tags": []
          },
          "execution_count": 16
        }
      ]
    },
    {
      "cell_type": "code",
      "metadata": {
        "colab_type": "code",
        "id": "5gWmA9Kdf3Ui",
        "outputId": "90d2f38a-e8ba-4d62-b029-d03073b08a8a",
        "colab": {
          "base_uri": "https://localhost:8080/",
          "height": 202
        }
      },
      "source": [
        "from sklearn.metrics import classification_report,confusion_matrix\n",
        "print(classification_report(y_test,predictions))\n",
        "print(confusion_matrix(y_test,predictions))"
      ],
      "execution_count": 0,
      "outputs": [
        {
          "output_type": "stream",
          "text": [
            "              precision    recall  f1-score   support\n",
            "\n",
            "           0       0.89      0.83      0.86      1933\n",
            "           1       0.94      0.97      0.95      5752\n",
            "\n",
            "    accuracy                           0.93      7685\n",
            "   macro avg       0.92      0.90      0.91      7685\n",
            "weighted avg       0.93      0.93      0.93      7685\n",
            "\n",
            "[[1601  332]\n",
            " [ 192 5560]]\n"
          ],
          "name": "stdout"
        }
      ]
    },
    {
      "cell_type": "code",
      "metadata": {
        "colab_type": "code",
        "id": "gXhwujZxf3Un",
        "outputId": "62e85a22-59ee-4a66-f8f9-2abec365e9e0",
        "scrolled": true,
        "colab": {
          "base_uri": "https://localhost:8080/",
          "height": 134
        }
      },
      "source": [
        "# get the feature names as numpy array\n",
        "feature_names = np.array(vect.get_feature_names())\n",
        "\n",
        "# Sort the coefficients from the model\n",
        "sorted_coef_index = model.coef_[0].argsort()\n",
        "\n",
        "# Find the 10 smallest and 10 largest coefficients\n",
        "# The 10 largest coefficients are being indexed using [:-11:-1] \n",
        "# so the list returned is in order of largest to smallest\n",
        "print('Smallest Coefs:\\n{}\\n'.format(feature_names[sorted_coef_index[:10]]))\n",
        "print('Largest Coefs: \\n{}'.format(feature_names[sorted_coef_index[:-11:-1]]))"
      ],
      "execution_count": 0,
      "outputs": [
        {
          "output_type": "stream",
          "text": [
            "Smallest Coefs:\n",
            "['worst' 'terrible' 'slow' 'junk' 'poor' 'sucks' 'horrible' 'useless'\n",
            " 'waste' 'disappointed']\n",
            "\n",
            "Largest Coefs: \n",
            "['excelent' 'excelente' 'excellent' 'perfectly' 'love' 'perfect' 'exactly'\n",
            " 'great' 'best' 'awesome']\n"
          ],
          "name": "stdout"
        }
      ]
    },
    {
      "cell_type": "markdown",
      "metadata": {
        "colab_type": "text",
        "id": "xZpdO8pxf3Ut"
      },
      "source": [
        "# Tfidf"
      ]
    },
    {
      "cell_type": "code",
      "metadata": {
        "colab_type": "code",
        "id": "QckHbo3Rf3Uu",
        "outputId": "48cf5b2a-bd4d-408d-a341-c5d05ddc8457",
        "colab": {
          "base_uri": "https://localhost:8080/",
          "height": 34
        }
      },
      "source": [
        "from sklearn.feature_extraction.text import TfidfVectorizer\n",
        "\n",
        "# Fit the TfidfVectorizer to the training data specifiying a minimum document frequency of 5\n",
        "vect = TfidfVectorizer(min_df=5).fit(X_train)\n",
        "len(vect.get_feature_names())"
      ],
      "execution_count": 0,
      "outputs": [
        {
          "output_type": "execute_result",
          "data": {
            "text/plain": [
              "5442"
            ]
          },
          "metadata": {
            "tags": []
          },
          "execution_count": 19
        }
      ]
    },
    {
      "cell_type": "code",
      "metadata": {
        "colab_type": "code",
        "id": "-8oJKPvMf3Uz",
        "outputId": "ea2b130b-c61b-461d-b305-7c8a9e918488",
        "colab": {
          "base_uri": "https://localhost:8080/",
          "height": 202
        }
      },
      "source": [
        "X_train_vectorized = vect.transform(X_train)\n",
        "\n",
        "model = LogisticRegression()\n",
        "model.fit(X_train_vectorized, y_train)\n",
        "\n",
        "predictions = model.predict(vect.transform(X_test))\n",
        "\n",
        "print(classification_report(y_test,predictions))\n",
        "print(confusion_matrix(y_test,predictions))"
      ],
      "execution_count": 0,
      "outputs": [
        {
          "output_type": "stream",
          "text": [
            "              precision    recall  f1-score   support\n",
            "\n",
            "           0       0.90      0.81      0.85      1933\n",
            "           1       0.94      0.97      0.95      5752\n",
            "\n",
            "    accuracy                           0.93      7685\n",
            "   macro avg       0.92      0.89      0.90      7685\n",
            "weighted avg       0.93      0.93      0.93      7685\n",
            "\n",
            "[[1563  370]\n",
            " [ 165 5587]]\n"
          ],
          "name": "stdout"
        }
      ]
    },
    {
      "cell_type": "code",
      "metadata": {
        "colab_type": "code",
        "id": "T6sMrNXOf3U2",
        "outputId": "65ff60b8-6d8a-4c36-ba5a-6dc2321f8bda",
        "colab": {
          "base_uri": "https://localhost:8080/",
          "height": 134
        }
      },
      "source": [
        "feature_names = np.array(vect.get_feature_names())\n",
        "\n",
        "sorted_tfidf_index = X_train_vectorized.max(0).toarray()[0].argsort()\n",
        "\n",
        "print('Smallest tfidf:\\n{}\\n'.format(feature_names[sorted_tfidf_index[:10]]))\n",
        "print('Largest tfidf: \\n{}'.format(feature_names[sorted_tfidf_index[:-11:-1]]))"
      ],
      "execution_count": 0,
      "outputs": [
        {
          "output_type": "stream",
          "text": [
            "Smallest tfidf:\n",
            "['61' 'printer' 'approach' 'adjustment' 'consequences' 'length' 'emailing'\n",
            " 'degrees' 'handsfree' 'chipset']\n",
            "\n",
            "Largest tfidf: \n",
            "['unlocked' 'handy' 'useless' 'cheat' 'up' 'original' 'exelent' 'exelente'\n",
            " 'exellent' 'satisfied']\n"
          ],
          "name": "stdout"
        }
      ]
    },
    {
      "cell_type": "code",
      "metadata": {
        "colab_type": "code",
        "id": "PyeqlAAnf3U6",
        "outputId": "4a82233c-6696-4d96-ca68-9bc082d0a8ab",
        "colab": {
          "base_uri": "https://localhost:8080/",
          "height": 134
        }
      },
      "source": [
        "sorted_coef_index = model.coef_[0].argsort()\n",
        "\n",
        "print('Smallest Coefs:\\n{}\\n'.format(feature_names[sorted_coef_index[:10]]))\n",
        "print('Largest Coefs: \\n{}'.format(feature_names[sorted_coef_index[:-11:-1]]))"
      ],
      "execution_count": 0,
      "outputs": [
        {
          "output_type": "stream",
          "text": [
            "Smallest Coefs:\n",
            "['not' 'slow' 'disappointed' 'worst' 'terrible' 'never' 'return' 'doesn'\n",
            " 'horrible' 'waste']\n",
            "\n",
            "Largest Coefs: \n",
            "['great' 'love' 'excellent' 'good' 'best' 'perfect' 'price' 'awesome'\n",
            " 'far' 'perfectly']\n"
          ],
          "name": "stdout"
        }
      ]
    },
    {
      "cell_type": "code",
      "metadata": {
        "colab_type": "code",
        "id": "NoGMZGAAf3U_",
        "outputId": "bcf12f2c-b8f0-4835-c684-099d25edfe79",
        "colab": {
          "base_uri": "https://localhost:8080/",
          "height": 34
        }
      },
      "source": [
        "# These reviews are treated the same by our current model\n",
        "print(model.predict(vect.transform(['not an issue, phone is working',\n",
        "                                    'an issue, phone is not working'])))"
      ],
      "execution_count": 0,
      "outputs": [
        {
          "output_type": "stream",
          "text": [
            "[0 0]\n"
          ],
          "name": "stdout"
        }
      ]
    },
    {
      "cell_type": "markdown",
      "metadata": {
        "colab_type": "text",
        "id": "llhRHHkdf3VJ"
      },
      "source": [
        "# n-grams"
      ]
    },
    {
      "cell_type": "code",
      "metadata": {
        "colab_type": "code",
        "id": "xSpBM9d_f3VJ",
        "outputId": "c839ea1c-78af-4df7-ba33-52c6818b7036",
        "colab": {
          "base_uri": "https://localhost:8080/",
          "height": 34
        }
      },
      "source": [
        "# Fit the CountVectorizer to the training data specifiying a minimum \n",
        "# document frequency of 5 and extracting 1-grams and 2-grams\n",
        "vect = CountVectorizer(min_df=5, ngram_range=(1,2)).fit(X_train)\n",
        "\n",
        "X_train_vectorized = vect.transform(X_train)\n",
        "\n",
        "len(vect.get_feature_names())"
      ],
      "execution_count": 0,
      "outputs": [
        {
          "output_type": "execute_result",
          "data": {
            "text/plain": [
              "29072"
            ]
          },
          "metadata": {
            "tags": []
          },
          "execution_count": 24
        }
      ]
    },
    {
      "cell_type": "code",
      "metadata": {
        "colab_type": "code",
        "id": "7S9DnO4Ef3VN",
        "outputId": "11737bfa-f519-4718-8cb8-3dd4e33651e0",
        "colab": {
          "base_uri": "https://localhost:8080/",
          "height": 202
        }
      },
      "source": [
        "model = LogisticRegression(max_iter=500)\n",
        "model.fit(X_train_vectorized, y_train)\n",
        "\n",
        "predictions = model.predict(vect.transform(X_test))\n",
        "\n",
        "print(classification_report(y_test,predictions))\n",
        "print(confusion_matrix(y_test,predictions))"
      ],
      "execution_count": 0,
      "outputs": [
        {
          "output_type": "stream",
          "text": [
            "              precision    recall  f1-score   support\n",
            "\n",
            "           0       0.90      0.85      0.88      1933\n",
            "           1       0.95      0.97      0.96      5752\n",
            "\n",
            "    accuracy                           0.94      7685\n",
            "   macro avg       0.93      0.91      0.92      7685\n",
            "weighted avg       0.94      0.94      0.94      7685\n",
            "\n",
            "[[1649  284]\n",
            " [ 178 5574]]\n"
          ],
          "name": "stdout"
        }
      ]
    },
    {
      "cell_type": "code",
      "metadata": {
        "colab_type": "code",
        "id": "QtVR4J3uf3VS",
        "outputId": "12fcfb86-1271-469a-fd35-f7c5803bd27f",
        "colab": {
          "base_uri": "https://localhost:8080/",
          "height": 134
        }
      },
      "source": [
        "feature_names = np.array(vect.get_feature_names())\n",
        "\n",
        "sorted_coef_index = model.coef_[0].argsort()\n",
        "\n",
        "print('Smallest Coefs:\\n{}\\n'.format(feature_names[sorted_coef_index[:10]]))\n",
        "print('Largest Coefs: \\n{}'.format(feature_names[sorted_coef_index[:-11:-1]]))"
      ],
      "execution_count": 0,
      "outputs": [
        {
          "output_type": "stream",
          "text": [
            "Smallest Coefs:\n",
            "['no good' 'junk' 'poor' 'slow' 'worst' 'broken' 'not good' 'terrible'\n",
            " 'defective' 'horrible']\n",
            "\n",
            "Largest Coefs: \n",
            "['excellent' 'excelente' 'excelent' 'perfect' 'great' 'love' 'awesome'\n",
            " 'no problems' 'good' 'best']\n"
          ],
          "name": "stdout"
        }
      ]
    },
    {
      "cell_type": "code",
      "metadata": {
        "colab_type": "code",
        "id": "4GQmL6UQf3VV",
        "outputId": "df14221e-6bdd-45eb-98f5-f40b6e333446",
        "colab": {
          "base_uri": "https://localhost:8080/",
          "height": 34
        }
      },
      "source": [
        "# These reviews are now correctly identified\n",
        "print(model.predict(vect.transform(['not an issue, phone is working',\n",
        "                                    'an issue, phone is not working'])))"
      ],
      "execution_count": 0,
      "outputs": [
        {
          "output_type": "stream",
          "text": [
            "[1 0]\n"
          ],
          "name": "stdout"
        }
      ]
    },
    {
      "cell_type": "markdown",
      "metadata": {
        "colab_type": "text",
        "id": "fmt7nF8If3VX"
      },
      "source": [
        "# LSTM"
      ]
    },
    {
      "cell_type": "code",
      "metadata": {
        "id": "Pi2oOIroJUrP",
        "colab_type": "code",
        "colab": {}
      },
      "source": [
        ""
      ],
      "execution_count": 0,
      "outputs": []
    },
    {
      "cell_type": "code",
      "metadata": {
        "colab_type": "code",
        "id": "Jnh-iXdVf3VY",
        "outputId": "5ae0f0b6-6dfe-45b4-e30e-cb232ac1a15d",
        "colab": {
          "base_uri": "https://localhost:8080/",
          "height": 34
        }
      },
      "source": [
        "from keras import models,layers\n",
        "from keras.preprocessing.text import Tokenizer\n",
        "from keras.preprocessing.sequence import pad_sequences"
      ],
      "execution_count": 0,
      "outputs": [
        {
          "output_type": "stream",
          "text": [
            "Using TensorFlow backend.\n"
          ],
          "name": "stderr"
        }
      ]
    },
    {
      "cell_type": "code",
      "metadata": {
        "colab_type": "code",
        "id": "_ku-_3Owf3Vb",
        "outputId": "a6c46e89-b228-4740-a8e6-fc9332b00a68",
        "colab": {
          "base_uri": "https://localhost:8080/",
          "height": 50
        }
      },
      "source": [
        "x= df['Reviews']\n",
        "y = df['Positively Rated']\n",
        "print(x.shape)\n",
        "print(y.shape)"
      ],
      "execution_count": 0,
      "outputs": [
        {
          "output_type": "stream",
          "text": [
            "(30737,)\n",
            "(30737,)\n"
          ],
          "name": "stdout"
        }
      ]
    },
    {
      "cell_type": "code",
      "metadata": {
        "colab_type": "code",
        "id": "9MvKhL2Yf3Ve",
        "outputId": "4332eab3-4dcd-427b-e4d0-ee02bf23a587",
        "colab": {
          "base_uri": "https://localhost:8080/",
          "height": 34
        }
      },
      "source": [
        "# The maximum number of words to be used. (most frequent)\n",
        "MAX_NB_WORDS = 20000\n",
        "# Max number of words in each complaint.\n",
        "MAX_SEQUENCE_LENGTH = 250\n",
        "# This is fixed.\n",
        "EMBEDDING_DIM = 120\n",
        "\n",
        "tokenizer = Tokenizer(num_words=MAX_NB_WORDS, filters='!\"#$%&()*+,-./:;<=>?@[\\]^_`{|}~', \n",
        "                      lower=True)\n",
        "\n",
        "tokenizer.fit_on_texts(x.values)\n",
        "word_index = tokenizer.word_index\n",
        "print('Found %s unique tokens.' % len(word_index))"
      ],
      "execution_count": 0,
      "outputs": [
        {
          "output_type": "stream",
          "text": [
            "Found 23534 unique tokens.\n"
          ],
          "name": "stdout"
        }
      ]
    },
    {
      "cell_type": "code",
      "metadata": {
        "colab_type": "code",
        "id": "mM9tDGtXf3Vh",
        "outputId": "a212cbf0-b6c0-4aa0-8400-1c124c1cf32d",
        "colab": {
          "base_uri": "https://localhost:8080/",
          "height": 34
        }
      },
      "source": [
        "#making every reviview of size 250 tokens\n",
        "x = tokenizer.texts_to_sequences(x.values)\n",
        "x = pad_sequences(x, maxlen=MAX_SEQUENCE_LENGTH)\n",
        "print('Shape of data tensor:', x.shape)"
      ],
      "execution_count": 0,
      "outputs": [
        {
          "output_type": "stream",
          "text": [
            "Shape of data tensor: (30737, 250)\n"
          ],
          "name": "stdout"
        }
      ]
    },
    {
      "cell_type": "code",
      "metadata": {
        "colab_type": "code",
        "id": "_o-KNiKLf3Vm",
        "outputId": "654c637d-d22e-4580-d143-c3c274512466",
        "colab": {
          "base_uri": "https://localhost:8080/",
          "height": 50
        }
      },
      "source": [
        "from sklearn.model_selection import train_test_split\n",
        "X_train, X_test, Y_train, Y_test = train_test_split(x,y, test_size = 0.10, random_state = 42)\n",
        "print(X_train.shape,Y_train.shape)\n",
        "print(X_test.shape,Y_test.shape)"
      ],
      "execution_count": 0,
      "outputs": [
        {
          "output_type": "stream",
          "text": [
            "(27663, 250) (27663,)\n",
            "(3074, 250) (3074,)\n"
          ],
          "name": "stdout"
        }
      ]
    },
    {
      "cell_type": "code",
      "metadata": {
        "colab_type": "code",
        "id": "rfJJxmd8f3Vs",
        "outputId": "adba28e5-bc4f-434f-bf5a-805c5ae1399f",
        "colab": {
          "base_uri": "https://localhost:8080/",
          "height": 423
        }
      },
      "source": [
        "model = models.Sequential()\n",
        "model.add(layers.Embedding(MAX_NB_WORDS, EMBEDDING_DIM, input_length=x.shape[1]))\n",
        "model.add(layers.SpatialDropout1D(0.2))\n",
        "model.add(layers.LSTM(100, dropout=0.2, recurrent_dropout=0.2))\n",
        "model.add(layers.Dense(1, activation='sigmoid'))\n",
        "model.compile(loss='binary_crossentropy', optimizer='adam', metrics=['accuracy'])\n",
        "history = model.fit(X_train, Y_train, epochs=10, batch_size=1000,validation_data=(X_test,Y_test),\n",
        "                    verbose=True)"
      ],
      "execution_count": 0,
      "outputs": [
        {
          "output_type": "stream",
          "text": [
            "/usr/local/lib/python3.6/dist-packages/tensorflow/python/framework/indexed_slices.py:434: UserWarning: Converting sparse IndexedSlices to a dense Tensor of unknown shape. This may consume a large amount of memory.\n",
            "  \"Converting sparse IndexedSlices to a dense Tensor of unknown shape. \"\n"
          ],
          "name": "stderr"
        },
        {
          "output_type": "stream",
          "text": [
            "Train on 27663 samples, validate on 3074 samples\n",
            "Epoch 1/10\n",
            "27663/27663 [==============================] - 202s 7ms/step - loss: 0.3117 - accuracy: 0.8648 - val_loss: 0.2109 - val_accuracy: 0.9288\n",
            "Epoch 2/10\n",
            "27663/27663 [==============================] - 200s 7ms/step - loss: 0.1653 - accuracy: 0.9395 - val_loss: 0.1723 - val_accuracy: 0.9405\n",
            "Epoch 3/10\n",
            "27663/27663 [==============================] - 199s 7ms/step - loss: 0.1294 - accuracy: 0.9533 - val_loss: 0.1809 - val_accuracy: 0.9346\n",
            "Epoch 4/10\n",
            "27663/27663 [==============================] - 203s 7ms/step - loss: 0.1065 - accuracy: 0.9633 - val_loss: 0.1728 - val_accuracy: 0.9405\n",
            "Epoch 5/10\n",
            "27663/27663 [==============================] - 201s 7ms/step - loss: 0.0859 - accuracy: 0.9708 - val_loss: 0.1811 - val_accuracy: 0.9408\n",
            "Epoch 6/10\n",
            "27663/27663 [==============================] - 199s 7ms/step - loss: 0.0741 - accuracy: 0.9762 - val_loss: 0.1922 - val_accuracy: 0.9453\n",
            "Epoch 7/10\n",
            "27663/27663 [==============================] - 200s 7ms/step - loss: 0.0690 - accuracy: 0.9773 - val_loss: 0.2013 - val_accuracy: 0.9356\n",
            "Epoch 8/10\n",
            "27663/27663 [==============================] - 205s 7ms/step - loss: 0.0626 - accuracy: 0.9802 - val_loss: 0.2217 - val_accuracy: 0.9336\n",
            "Epoch 9/10\n",
            "27663/27663 [==============================] - 200s 7ms/step - loss: 0.0586 - accuracy: 0.9806 - val_loss: 0.2152 - val_accuracy: 0.9427\n",
            "Epoch 10/10\n",
            "27663/27663 [==============================] - 200s 7ms/step - loss: 0.0639 - accuracy: 0.9783 - val_loss: 0.2123 - val_accuracy: 0.9385\n"
          ],
          "name": "stdout"
        }
      ]
    },
    {
      "cell_type": "code",
      "metadata": {
        "colab_type": "code",
        "id": "2CXcHaWdf3Vy",
        "outputId": "e699c635-6c8e-4a09-f4e2-39edf930ce8c",
        "colab": {
          "base_uri": "https://localhost:8080/",
          "height": 84
        }
      },
      "source": [
        "loss,accr = model.evaluate(X_test,Y_test)\n",
        "print('Test set\\n  Loss: {:0.3f}\\n  Accuracy: {:0.3f}'.format(loss,accr))"
      ],
      "execution_count": 0,
      "outputs": [
        {
          "output_type": "stream",
          "text": [
            "3074/3074 [==============================] - 6s 2ms/step\n",
            "Test set\n",
            "  Loss: 0.212\n",
            "  Accuracy: 0.939\n"
          ],
          "name": "stdout"
        }
      ]
    },
    {
      "cell_type": "code",
      "metadata": {
        "id": "AAumHvo0L6qI",
        "colab_type": "code",
        "outputId": "703557bc-41bd-4619-868f-198214b6150d",
        "colab": {
          "base_uri": "https://localhost:8080/",
          "height": 34
        }
      },
      "source": [
        "X_test.shape"
      ],
      "execution_count": 0,
      "outputs": [
        {
          "output_type": "execute_result",
          "data": {
            "text/plain": [
              "(3074, 250)"
            ]
          },
          "metadata": {
            "tags": []
          },
          "execution_count": 38
        }
      ]
    },
    {
      "cell_type": "code",
      "metadata": {
        "id": "pG1bhwAcMJpW",
        "colab_type": "code",
        "outputId": "14f0300a-a021-418a-8acc-eff607365b05",
        "colab": {
          "base_uri": "https://localhost:8080/",
          "height": 34
        }
      },
      "source": [
        "model.predict_classes(X_test).shape"
      ],
      "execution_count": 0,
      "outputs": [
        {
          "output_type": "execute_result",
          "data": {
            "text/plain": [
              "(3074, 1)"
            ]
          },
          "metadata": {
            "tags": []
          },
          "execution_count": 39
        }
      ]
    },
    {
      "cell_type": "code",
      "metadata": {
        "id": "zsErB6n-MR0I",
        "colab_type": "code",
        "colab": {}
      },
      "source": [
        "model.summary()"
      ],
      "execution_count": 0,
      "outputs": []
    },
    {
      "cell_type": "code",
      "metadata": {
        "colab_type": "code",
        "id": "xUZpqDInf3V2",
        "outputId": "cb3d26bd-3b48-4e3a-a07d-8e54060c29e6",
        "colab": {
          "base_uri": "https://localhost:8080/",
          "height": 202
        }
      },
      "source": [
        "predictions = model.predict_classes(X_test)\n",
        "print(classification_report(Y_test,predictions))\n",
        "print(confusion_matrix(Y_test,predictions))"
      ],
      "execution_count": 0,
      "outputs": [
        {
          "output_type": "stream",
          "text": [
            "              precision    recall  f1-score   support\n",
            "\n",
            "           0       0.88      0.86      0.87       755\n",
            "           1       0.96      0.96      0.96      2319\n",
            "\n",
            "    accuracy                           0.94      3074\n",
            "   macro avg       0.92      0.91      0.92      3074\n",
            "weighted avg       0.94      0.94      0.94      3074\n",
            "\n",
            "[[ 651  104]\n",
            " [  85 2234]]\n"
          ],
          "name": "stdout"
        }
      ]
    },
    {
      "cell_type": "code",
      "metadata": {
        "colab_type": "code",
        "id": "g7HA1KRof3V5",
        "outputId": "42f6f867-791a-44c2-b656-28a6230668b3",
        "colab": {
          "base_uri": "https://localhost:8080/",
          "height": 281
        }
      },
      "source": [
        "import matplotlib.pyplot as plt\n",
        "\n",
        "plt.title('Loss')\n",
        "plt.plot(history.history['loss'], label='train')\n",
        "plt.plot(history.history['val_loss'], label='test')\n",
        "plt.legend()\n",
        "plt.show()"
      ],
      "execution_count": 0,
      "outputs": [
        {
          "output_type": "display_data",
          "data": {
            "image/png": "[encoded data removed]",
            "text/plain": [
              "<Figure size 432x288 with 1 Axes>"
            ]
          },
          "metadata": {
            "tags": [],
            "needs_background": "light"
          }
        }
      ]
    },
    {
      "cell_type": "code",
      "metadata": {
        "colab_type": "code",
        "id": "znxhv7kwf3V7",
        "outputId": "f054a26f-d170-4966-94a4-d23469d38b9d",
        "colab": {
          "base_uri": "https://localhost:8080/",
          "height": 281
        }
      },
      "source": [
        "plt.title('Accuracy')\n",
        "plt.plot(history.history['accuracy'], label='train')\n",
        "plt.plot(history.history['val_accuracy'], label='test')\n",
        "plt.legend()\n",
        "plt.show()"
      ],
      "execution_count": 0,
      "outputs": [
        {
          "output_type": "display_data",
          "data": {
            "image/png": "[encoded data removed]",
            "text/plain": [
              "<Figure size 432x288 with 1 Axes>"
            ]
          },
          "metadata": {
            "tags": [],
            "needs_background": "light"
          }
        }
      ]
    },
    {
      "cell_type": "code",
      "metadata": {
        "id": "m6M-wbGlJUrt",
        "colab_type": "code",
        "colab": {}
      },
      "source": [
        ""
      ],
      "execution_count": 0,
      "outputs": []
    }
  ]
}