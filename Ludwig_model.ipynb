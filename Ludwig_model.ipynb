{
  "nbformat": 4,
  "nbformat_minor": 0,
  "metadata": {
    "colab": {
      "name": "Ludwig_model.ipynb",
      "provenance": [],
      "collapsed_sections": [],
      "include_colab_link": true
    },
    "kernelspec": {
      "name": "python3",
      "display_name": "Python 3"
    },
    "accelerator": "GPU"
  },
  "cells": [
    {
      "cell_type": "markdown",
      "metadata": {
        "id": "view-in-github",
        "colab_type": "text"
      },
      "source": [
        "<a href=\"https://colab.research.google.com/github/anshupandey/natural_language_processing/blob/master/Ludwig_model.ipynb\" target=\"_parent\"><img src=\"https://colab.research.google.com/assets/colab-badge.svg\" alt=\"Open In Colab\"/></a>"
      ]
    },
    {
      "cell_type": "markdown",
      "metadata": {
        "id": "Ox6YKTMncati",
        "colab_type": "text"
      },
      "source": [
        "## Ludwig\n",
        "\n",
        "Ludwig, is a project of Uber, provides a new data type-based approach to deep learning model design that makes the tool suited for many different applications. Rather than building out the architecture, you just need to specify the data.\n",
        "\n",
        "You can find many examples in https://uber.github.io/ludwig/examples/"
      ]
    },
    {
      "cell_type": "code",
      "metadata": {
        "id": "6iTVepHZP9m8",
        "colab_type": "code",
        "colab": {
          "base_uri": "https://localhost:8080/",
          "height": 223
        },
        "outputId": "02e0437e-6927-4d3c-b4b5-b9b7baf8a40f"
      },
      "source": [
        "# Let's find out colab system configuration\n",
        "!cat /etc/os-release"
      ],
      "execution_count": 1,
      "outputs": [
        {
          "output_type": "stream",
          "text": [
            "NAME=\"Ubuntu\"\n",
            "VERSION=\"18.04.3 LTS (Bionic Beaver)\"\n",
            "ID=ubuntu\n",
            "ID_LIKE=debian\n",
            "PRETTY_NAME=\"Ubuntu 18.04.3 LTS\"\n",
            "VERSION_ID=\"18.04\"\n",
            "HOME_URL=\"https://www.ubuntu.com/\"\n",
            "SUPPORT_URL=\"https://help.ubuntu.com/\"\n",
            "BUG_REPORT_URL=\"https://bugs.launchpad.net/ubuntu/\"\n",
            "PRIVACY_POLICY_URL=\"https://www.ubuntu.com/legal/terms-and-policies/privacy-policy\"\n",
            "VERSION_CODENAME=bionic\n",
            "UBUNTU_CODENAME=bionic\n"
          ],
          "name": "stdout"
        }
      ]
    },
    {
      "cell_type": "code",
      "metadata": {
        "id": "qzBOhW6sP-km",
        "colab_type": "code",
        "colab": {
          "base_uri": "https://localhost:8080/",
          "height": 86
        },
        "outputId": "790b39d7-26ee-4f0d-d570-35aad8c7ebe0"
      },
      "source": [
        "#Let's find GPU \n",
        "!nvcc --version"
      ],
      "execution_count": 2,
      "outputs": [
        {
          "output_type": "stream",
          "text": [
            "nvcc: NVIDIA (R) Cuda compiler driver\n",
            "Copyright (c) 2005-2019 NVIDIA Corporation\n",
            "Built on Sun_Jul_28_19:07:16_PDT_2019\n",
            "Cuda compilation tools, release 10.1, V10.1.243\n"
          ],
          "name": "stdout"
        }
      ]
    },
    {
      "cell_type": "code",
      "metadata": {
        "id": "dgXVN1HoQMzD",
        "colab_type": "code",
        "colab": {
          "base_uri": "https://localhost:8080/",
          "height": 360
        },
        "outputId": "91ee88fc-5030-4786-e6a0-4c6db292dc55"
      },
      "source": [
        "# GPU card properties\n",
        "!nvidia-smi"
      ],
      "execution_count": 3,
      "outputs": [
        {
          "output_type": "stream",
          "text": [
            "Sun Jul  5 03:53:49 2020       \n",
            "+-----------------------------------------------------------------------------+\n",
            "| NVIDIA-SMI 450.36.06    Driver Version: 418.67       CUDA Version: 10.1     |\n",
            "|-------------------------------+----------------------+----------------------+\n",
            "| GPU  Name        Persistence-M| Bus-Id        Disp.A | Volatile Uncorr. ECC |\n",
            "| Fan  Temp  Perf  Pwr:Usage/Cap|         Memory-Usage | GPU-Util  Compute M. |\n",
            "|                               |                      |               MIG M. |\n",
            "|===============================+======================+======================|\n",
            "|   0  Tesla P4            Off  | 00000000:00:04.0 Off |                    0 |\n",
            "| N/A   51C    P8     8W /  75W |      0MiB /  7611MiB |      0%      Default |\n",
            "|                               |                      |                 ERR! |\n",
            "+-------------------------------+----------------------+----------------------+\n",
            "                                                                               \n",
            "+-----------------------------------------------------------------------------+\n",
            "| Processes:                                                                  |\n",
            "|  GPU   GI   CI        PID   Type   Process name                  GPU Memory |\n",
            "|        ID   ID                                                   Usage      |\n",
            "|=============================================================================|\n",
            "|  No running processes found                                                 |\n",
            "+-----------------------------------------------------------------------------+\n"
          ],
          "name": "stdout"
        }
      ]
    },
    {
      "cell_type": "code",
      "metadata": {
        "id": "r9hKxOV0QRFz",
        "colab_type": "code",
        "colab": {
          "base_uri": "https://localhost:8080/",
          "height": 1000
        },
        "outputId": "a17a2ded-4971-4fe9-d0f9-69161bfa852b"
      },
      "source": [
        "#Install ludwig\n",
        "!pip install ludwig"
      ],
      "execution_count": 4,
      "outputs": [
        {
          "output_type": "stream",
          "text": [
            "Collecting ludwig\n",
            "\u001b[?25l  Downloading https://files.pythonhosted.org/packages/8c/e3/65161b00dc06b52a0c23e0a2eaea7127f4df8c72ff3212dd9453f2b7d737/ludwig-0.2.2.8.tar.gz (174kB)\n",
            "\r\u001b[K     |█▉                              | 10kB 26.0MB/s eta 0:00:01\r\u001b[K     |███▊                            | 20kB 6.2MB/s eta 0:00:01\r\u001b[K     |█████▋                          | 30kB 7.6MB/s eta 0:00:01\r\u001b[K     |███████▌                        | 40kB 7.9MB/s eta 0:00:01\r\u001b[K     |█████████▍                      | 51kB 7.3MB/s eta 0:00:01\r\u001b[K     |███████████▎                    | 61kB 8.2MB/s eta 0:00:01\r\u001b[K     |█████████████▏                  | 71kB 8.5MB/s eta 0:00:01\r\u001b[K     |███████████████                 | 81kB 8.7MB/s eta 0:00:01\r\u001b[K     |█████████████████               | 92kB 8.1MB/s eta 0:00:01\r\u001b[K     |██████████████████▉             | 102kB 8.4MB/s eta 0:00:01\r\u001b[K     |████████████████████▊           | 112kB 8.4MB/s eta 0:00:01\r\u001b[K     |██████████████████████▋         | 122kB 8.4MB/s eta 0:00:01\r\u001b[K     |████████████████████████▌       | 133kB 8.4MB/s eta 0:00:01\r\u001b[K     |██████████████████████████▍     | 143kB 8.4MB/s eta 0:00:01\r\u001b[K     |████████████████████████████▎   | 153kB 8.4MB/s eta 0:00:01\r\u001b[K     |██████████████████████████████▏ | 163kB 8.4MB/s eta 0:00:01\r\u001b[K     |████████████████████████████████| 174kB 8.4MB/s \n",
            "\u001b[?25hRequirement already satisfied: Cython>=0.25 in /usr/local/lib/python3.6/dist-packages (from ludwig) (0.29.20)\n",
            "Requirement already satisfied: h5py>=2.6 in /usr/local/lib/python3.6/dist-packages (from ludwig) (2.10.0)\n",
            "Requirement already satisfied: numpy>=1.15 in /usr/local/lib/python3.6/dist-packages (from ludwig) (1.18.5)\n",
            "Requirement already satisfied: pandas>=0.19 in /usr/local/lib/python3.6/dist-packages (from ludwig) (1.0.5)\n",
            "Requirement already satisfied: scipy>=0.18 in /usr/local/lib/python3.6/dist-packages (from ludwig) (1.4.1)\n",
            "Requirement already satisfied: tabulate>=0.7 in /usr/local/lib/python3.6/dist-packages (from ludwig) (0.8.7)\n",
            "Requirement already satisfied: scikit-learn in /usr/local/lib/python3.6/dist-packages (from ludwig) (0.22.2.post1)\n",
            "Requirement already satisfied: tqdm in /usr/local/lib/python3.6/dist-packages (from ludwig) (4.41.1)\n",
            "Collecting tensorflow==1.15.3\n",
            "\u001b[?25l  Downloading https://files.pythonhosted.org/packages/02/36/9a02e27f0ec248b676a380ffe910c1858e3af3027c0d4d513dd0b56a5613/tensorflow-1.15.3-cp36-cp36m-manylinux2010_x86_64.whl (110.5MB)\n",
            "\u001b[K     |████████████████████████████████| 110.5MB 37kB/s \n",
            "\u001b[?25hRequirement already satisfied: PyYAML>=3.12 in /usr/local/lib/python3.6/dist-packages (from ludwig) (3.13)\n",
            "Requirement already satisfied: absl-py in /usr/local/lib/python3.6/dist-packages (from ludwig) (0.9.0)\n",
            "Requirement already satisfied: six in /usr/local/lib/python3.6/dist-packages (from h5py>=2.6->ludwig) (1.12.0)\n",
            "Requirement already satisfied: pytz>=2017.2 in /usr/local/lib/python3.6/dist-packages (from pandas>=0.19->ludwig) (2018.9)\n",
            "Requirement already satisfied: python-dateutil>=2.6.1 in /usr/local/lib/python3.6/dist-packages (from pandas>=0.19->ludwig) (2.8.1)\n",
            "Requirement already satisfied: joblib>=0.11 in /usr/local/lib/python3.6/dist-packages (from scikit-learn->ludwig) (0.15.1)\n",
            "Requirement already satisfied: astor>=0.6.0 in /usr/local/lib/python3.6/dist-packages (from tensorflow==1.15.3->ludwig) (0.8.1)\n",
            "Requirement already satisfied: google-pasta>=0.1.6 in /usr/local/lib/python3.6/dist-packages (from tensorflow==1.15.3->ludwig) (0.2.0)\n",
            "Requirement already satisfied: keras-applications>=1.0.8 in /usr/local/lib/python3.6/dist-packages (from tensorflow==1.15.3->ludwig) (1.0.8)\n",
            "Requirement already satisfied: protobuf>=3.6.1 in /usr/local/lib/python3.6/dist-packages (from tensorflow==1.15.3->ludwig) (3.10.0)\n",
            "Requirement already satisfied: wheel>=0.26; python_version >= \"3\" in /usr/local/lib/python3.6/dist-packages (from tensorflow==1.15.3->ludwig) (0.34.2)\n",
            "Requirement already satisfied: keras-preprocessing>=1.0.5 in /usr/local/lib/python3.6/dist-packages (from tensorflow==1.15.3->ludwig) (1.1.2)\n",
            "Collecting tensorboard<1.16.0,>=1.15.0\n",
            "\u001b[?25l  Downloading https://files.pythonhosted.org/packages/1e/e9/d3d747a97f7188f48aa5eda486907f3b345cd409f0a0850468ba867db246/tensorboard-1.15.0-py3-none-any.whl (3.8MB)\n",
            "\u001b[K     |████████████████████████████████| 3.8MB 55.4MB/s \n",
            "\u001b[?25hCollecting tensorflow-estimator==1.15.1\n",
            "\u001b[?25l  Downloading https://files.pythonhosted.org/packages/de/62/2ee9cd74c9fa2fa450877847ba560b260f5d0fb70ee0595203082dafcc9d/tensorflow_estimator-1.15.1-py2.py3-none-any.whl (503kB)\n",
            "\u001b[K     |████████████████████████████████| 512kB 60.9MB/s \n",
            "\u001b[?25hRequirement already satisfied: termcolor>=1.1.0 in /usr/local/lib/python3.6/dist-packages (from tensorflow==1.15.3->ludwig) (1.1.0)\n",
            "Requirement already satisfied: wrapt>=1.11.1 in /usr/local/lib/python3.6/dist-packages (from tensorflow==1.15.3->ludwig) (1.12.1)\n",
            "Requirement already satisfied: grpcio>=1.8.6 in /usr/local/lib/python3.6/dist-packages (from tensorflow==1.15.3->ludwig) (1.30.0)\n",
            "Requirement already satisfied: opt-einsum>=2.3.2 in /usr/local/lib/python3.6/dist-packages (from tensorflow==1.15.3->ludwig) (3.2.1)\n",
            "Collecting gast==0.2.2\n",
            "  Downloading https://files.pythonhosted.org/packages/4e/35/11749bf99b2d4e3cceb4d55ca22590b0d7c2c62b9de38ac4a4a7f4687421/gast-0.2.2.tar.gz\n",
            "Requirement already satisfied: setuptools in /usr/local/lib/python3.6/dist-packages (from protobuf>=3.6.1->tensorflow==1.15.3->ludwig) (47.3.1)\n",
            "Requirement already satisfied: werkzeug>=0.11.15 in /usr/local/lib/python3.6/dist-packages (from tensorboard<1.16.0,>=1.15.0->tensorflow==1.15.3->ludwig) (1.0.1)\n",
            "Requirement already satisfied: markdown>=2.6.8 in /usr/local/lib/python3.6/dist-packages (from tensorboard<1.16.0,>=1.15.0->tensorflow==1.15.3->ludwig) (3.2.2)\n",
            "Requirement already satisfied: importlib-metadata; python_version < \"3.8\" in /usr/local/lib/python3.6/dist-packages (from markdown>=2.6.8->tensorboard<1.16.0,>=1.15.0->tensorflow==1.15.3->ludwig) (1.6.1)\n",
            "Requirement already satisfied: zipp>=0.5 in /usr/local/lib/python3.6/dist-packages (from importlib-metadata; python_version < \"3.8\"->markdown>=2.6.8->tensorboard<1.16.0,>=1.15.0->tensorflow==1.15.3->ludwig) (3.1.0)\n",
            "Building wheels for collected packages: ludwig, gast\n",
            "  Building wheel for ludwig (setup.py) ... \u001b[?25l\u001b[?25hdone\n",
            "  Created wheel for ludwig: filename=ludwig-0.2.2.8-cp36-none-any.whl size=237087 sha256=79818c2571ca5ffe9019c8ad2441968c833818ec733667917bd979ce2f02ce2b\n",
            "  Stored in directory: /root/.cache/pip/wheels/d1/2b/e0/b82d2b135328bd7518a81c54f4b1ac3de9d90c902b08d15278\n",
            "  Building wheel for gast (setup.py) ... \u001b[?25l\u001b[?25hdone\n",
            "  Created wheel for gast: filename=gast-0.2.2-cp36-none-any.whl size=7540 sha256=582d53dd13aafa9f8801b02260d80cdd66e48c1cb7e93778ef60422cd1c71042\n",
            "  Stored in directory: /root/.cache/pip/wheels/5c/2e/7e/a1d4d4fcebe6c381f378ce7743a3ced3699feb89bcfbdadadd\n",
            "Successfully built ludwig gast\n",
            "\u001b[31mERROR: tensorflow-probability 0.10.0 has requirement gast>=0.3.2, but you'll have gast 0.2.2 which is incompatible.\u001b[0m\n",
            "Installing collected packages: tensorboard, tensorflow-estimator, gast, tensorflow, ludwig\n",
            "  Found existing installation: tensorboard 2.2.2\n",
            "    Uninstalling tensorboard-2.2.2:\n",
            "      Successfully uninstalled tensorboard-2.2.2\n",
            "  Found existing installation: tensorflow-estimator 2.2.0\n",
            "    Uninstalling tensorflow-estimator-2.2.0:\n",
            "      Successfully uninstalled tensorflow-estimator-2.2.0\n",
            "  Found existing installation: gast 0.3.3\n",
            "    Uninstalling gast-0.3.3:\n",
            "      Successfully uninstalled gast-0.3.3\n",
            "  Found existing installation: tensorflow 2.2.0\n",
            "    Uninstalling tensorflow-2.2.0:\n",
            "      Successfully uninstalled tensorflow-2.2.0\n",
            "Successfully installed gast-0.2.2 ludwig-0.2.2.8 tensorboard-1.15.0 tensorflow-1.15.3 tensorflow-estimator-1.15.1\n"
          ],
          "name": "stdout"
        }
      ]
    },
    {
      "cell_type": "code",
      "metadata": {
        "id": "c3J3vaFVQgY_",
        "colab_type": "code",
        "colab": {
          "base_uri": "https://localhost:8080/",
          "height": 68
        },
        "outputId": "cb16e490-8939-40ac-a1fb-43609ecaa461"
      },
      "source": [
        "#Download data\n",
        "!gsutil cp gs://dataset-uploader/bbc/bbc-text.csv ."
      ],
      "execution_count": 5,
      "outputs": [
        {
          "output_type": "stream",
          "text": [
            "Copying gs://dataset-uploader/bbc/bbc-text.csv...\n",
            "- [1 files][  4.8 MiB/  4.8 MiB]                                                \n",
            "Operation completed over 1 objects/4.8 MiB.                                      \n"
          ],
          "name": "stdout"
        }
      ]
    },
    {
      "cell_type": "code",
      "metadata": {
        "id": "uoTt46vsSmk7",
        "colab_type": "code",
        "colab": {
          "base_uri": "https://localhost:8080/",
          "height": 203
        },
        "outputId": "bf3c2bb5-3d6d-4b1c-bc00-776a85f32083"
      },
      "source": [
        "#Import packages and read data\n",
        "import pandas as pd\n",
        "df = pd.read_csv('bbc-text.csv')\n",
        "df_train=df.iloc[:2000,:]\n",
        "df_test=df.iloc[2001:,:]\n",
        "df.head()"
      ],
      "execution_count": 6,
      "outputs": [
        {
          "output_type": "execute_result",
          "data": {
            "text/html": [
              "<div>\n",
              "<style scoped>\n",
              "    .dataframe tbody tr th:only-of-type {\n",
              "        vertical-align: middle;\n",
              "    }\n",
              "\n",
              "    .dataframe tbody tr th {\n",
              "        vertical-align: top;\n",
              "    }\n",
              "\n",
              "    .dataframe thead th {\n",
              "        text-align: right;\n",
              "    }\n",
              "</style>\n",
              "<table border=\"1\" class=\"dataframe\">\n",
              "  <thead>\n",
              "    <tr style=\"text-align: right;\">\n",
              "      <th></th>\n",
              "      <th>category</th>\n",
              "      <th>text</th>\n",
              "    </tr>\n",
              "  </thead>\n",
              "  <tbody>\n",
              "    <tr>\n",
              "      <th>0</th>\n",
              "      <td>tech</td>\n",
              "      <td>tv future in the hands of viewers with home th...</td>\n",
              "    </tr>\n",
              "    <tr>\n",
              "      <th>1</th>\n",
              "      <td>business</td>\n",
              "      <td>worldcom boss  left books alone  former worldc...</td>\n",
              "    </tr>\n",
              "    <tr>\n",
              "      <th>2</th>\n",
              "      <td>sport</td>\n",
              "      <td>tigers wary of farrell  gamble  leicester say ...</td>\n",
              "    </tr>\n",
              "    <tr>\n",
              "      <th>3</th>\n",
              "      <td>sport</td>\n",
              "      <td>yeading face newcastle in fa cup premiership s...</td>\n",
              "    </tr>\n",
              "    <tr>\n",
              "      <th>4</th>\n",
              "      <td>entertainment</td>\n",
              "      <td>ocean s twelve raids box office ocean s twelve...</td>\n",
              "    </tr>\n",
              "  </tbody>\n",
              "</table>\n",
              "</div>"
            ],
            "text/plain": [
              "        category                                               text\n",
              "0           tech  tv future in the hands of viewers with home th...\n",
              "1       business  worldcom boss  left books alone  former worldc...\n",
              "2          sport  tigers wary of farrell  gamble  leicester say ...\n",
              "3          sport  yeading face newcastle in fa cup premiership s...\n",
              "4  entertainment  ocean s twelve raids box office ocean s twelve..."
            ]
          },
          "metadata": {
            "tags": []
          },
          "execution_count": 6
        }
      ]
    },
    {
      "cell_type": "code",
      "metadata": {
        "id": "ugXezw-ROOAL",
        "colab_type": "code",
        "colab": {
          "base_uri": "https://localhost:8080/",
          "height": 54
        },
        "outputId": "6dedcc69-0f9e-4f05-89cf-d9eecf8c7c15"
      },
      "source": [
        "print(df['text'][0])"
      ],
      "execution_count": null,
      "outputs": [
        {
          "output_type": "stream",
          "text": [
            "tv future in the hands of viewers with home theatre systems  plasma high-definition tvs  and digital video recorders moving into the living room  the way people watch tv will be radically different in five years  time.  that is according to an expert panel which gathered at the annual consumer electronics show in las vegas to discuss how these new technologies will impact one of our favourite pastimes. with the us leading the trend  programmes and other content will be delivered to viewers via home networks  through cable  satellite  telecoms companies  and broadband service providers to front rooms and portable devices.  one of the most talked-about technologies of ces has been digital and personal video recorders (dvr and pvr). these set-top boxes  like the us s tivo and the uk s sky+ system  allow people to record  store  play  pause and forward wind tv programmes when they want.  essentially  the technology allows for much more personalised tv. they are also being built-in to high-definition tv sets  which are big business in japan and the us  but slower to take off in europe because of the lack of high-definition programming. not only can people forward wind through adverts  they can also forget about abiding by network and channel schedules  putting together their own a-la-carte entertainment. but some us networks and cable and satellite companies are worried about what it means for them in terms of advertising revenues as well as  brand identity  and viewer loyalty to channels. although the us leads in this technology at the moment  it is also a concern that is being raised in europe  particularly with the growing uptake of services like sky+.  what happens here today  we will see in nine months to a years  time in the uk   adam hume  the bbc broadcast s futurologist told the bbc news website. for the likes of the bbc  there are no issues of lost advertising revenue yet. it is a more pressing issue at the moment for commercial uk broadcasters  but brand loyalty is important for everyone.  we will be talking more about content brands rather than network brands   said tim hanlon  from brand communications firm starcom mediavest.  the reality is that with broadband connections  anybody can be the producer of content.  he added:  the challenge now is that it is hard to promote a programme with so much choice.   what this means  said stacey jolna  senior vice president of tv guide tv group  is that the way people find the content they want to watch has to be simplified for tv viewers. it means that networks  in us terms  or channels could take a leaf out of google s book and be the search engine of the future  instead of the scheduler to help people find what they want to watch. this kind of channel model might work for the younger ipod generation which is used to taking control of their gadgets and what they play on them. but it might not suit everyone  the panel recognised. older generations are more comfortable with familiar schedules and channel brands because they know what they are getting. they perhaps do not want so much of the choice put into their hands  mr hanlon suggested.  on the other end  you have the kids just out of diapers who are pushing buttons already - everything is possible and available to them   said mr hanlon.  ultimately  the consumer will tell the market they want.   of the 50 000 new gadgets and technologies being showcased at ces  many of them are about enhancing the tv-watching experience. high-definition tv sets are everywhere and many new models of lcd (liquid crystal display) tvs have been launched with dvr capability built into them  instead of being external boxes. one such example launched at the show is humax s 26-inch lcd tv with an 80-hour tivo dvr and dvd recorder. one of the us s biggest satellite tv companies  directtv  has even launched its own branded dvr at the show with 100-hours of recording capability  instant replay  and a search function. the set can pause and rewind tv for up to 90 hours. and microsoft chief bill gates announced in his pre-show keynote speech a partnership with tivo  called tivotogo  which means people can play recorded programmes on windows pcs and mobile devices. all these reflect the increasing trend of freeing up multimedia so that people can watch what they want  when they want.\n"
          ],
          "name": "stdout"
        }
      ]
    },
    {
      "cell_type": "code",
      "metadata": {
        "id": "Pc-HxGHwHZps",
        "colab_type": "code",
        "colab": {
          "base_uri": "https://localhost:8080/",
          "height": 34
        },
        "outputId": "947c362e-17ca-4261-a82c-e0fca7fa79ca"
      },
      "source": [
        "df.shape"
      ],
      "execution_count": 7,
      "outputs": [
        {
          "output_type": "execute_result",
          "data": {
            "text/plain": [
              "(2225, 2)"
            ]
          },
          "metadata": {
            "tags": []
          },
          "execution_count": 7
        }
      ]
    },
    {
      "cell_type": "code",
      "metadata": {
        "id": "bZL7F9B0OY7s",
        "colab_type": "code",
        "colab": {
          "base_uri": "https://localhost:8080/",
          "height": 120
        },
        "outputId": "6ace5e00-175e-4979-e840-230fbbcc1265"
      },
      "source": [
        "df['category'].value_counts()"
      ],
      "execution_count": null,
      "outputs": [
        {
          "output_type": "execute_result",
          "data": {
            "text/plain": [
              "sport            511\n",
              "business         510\n",
              "politics         417\n",
              "tech             401\n",
              "entertainment    386\n",
              "Name: category, dtype: int64"
            ]
          },
          "metadata": {
            "tags": []
          },
          "execution_count": 9
        }
      ]
    },
    {
      "cell_type": "code",
      "metadata": {
        "id": "0d3s5lhtW3_v",
        "colab_type": "code",
        "colab": {
          "base_uri": "https://localhost:8080/",
          "height": 171
        },
        "outputId": "fa4ee0eb-b883-4f5d-d285-dd9f0c8fb52a"
      },
      "source": [
        "df.info()"
      ],
      "execution_count": null,
      "outputs": [
        {
          "output_type": "stream",
          "text": [
            "<class 'pandas.core.frame.DataFrame'>\n",
            "RangeIndex: 2225 entries, 0 to 2224\n",
            "Data columns (total 2 columns):\n",
            " #   Column    Non-Null Count  Dtype \n",
            "---  ------    --------------  ----- \n",
            " 0   category  2225 non-null   object\n",
            " 1   text      2225 non-null   object\n",
            "dtypes: object(2)\n",
            "memory usage: 34.9+ KB\n"
          ],
          "name": "stdout"
        }
      ]
    },
    {
      "cell_type": "code",
      "metadata": {
        "id": "oFWlwU90RBP5",
        "colab_type": "code",
        "colab": {
          "base_uri": "https://localhost:8080/",
          "height": 154
        },
        "outputId": "db09fb8b-52eb-41b3-f59f-166f706b6c24"
      },
      "source": [
        "#Import packages\n",
        "import ludwig\n",
        "from ludwig.api import LudwigModel\n",
        "\n",
        "#Specify model definition\n",
        "# train a model\n",
        "model_definition = {\n",
        "\"input_features\":[\n",
        "      {\"name\": 'text',\n",
        "        \"type\": 'text',\n",
        "        \"encoder\": 'parallel_cnn',\n",
        "        \"level\": 'word'\n",
        "       }],\n",
        " \n",
        "\"output_features\":[\n",
        "        {\"name\": 'category',\n",
        "        \"type\": 'category'}\n",
        "],\n",
        " \n",
        "\"training\":{\n",
        " \"epochs\": 10}\n",
        "}\n"
      ],
      "execution_count": 8,
      "outputs": [
        {
          "output_type": "stream",
          "text": [
            "WARNING:tensorflow:\n",
            "The TensorFlow contrib module will not be included in TensorFlow 2.0.\n",
            "For more information, please see:\n",
            "  * https://github.com/tensorflow/community/blob/master/rfcs/20180907-contrib-sunset.md\n",
            "  * https://github.com/tensorflow/addons\n",
            "  * https://github.com/tensorflow/io (for I/O related ops)\n",
            "If you depend on functionality not listed there, please file an issue.\n",
            "\n"
          ],
          "name": "stdout"
        }
      ]
    },
    {
      "cell_type": "code",
      "metadata": {
        "id": "pyARfNtYRriW",
        "colab_type": "code",
        "colab": {
          "base_uri": "https://localhost:8080/",
          "height": 243
        },
        "outputId": "5b3073e2-9fc7-4b1a-a715-7d28e292fe3c"
      },
      "source": [
        "#Train model\n",
        "model = LudwigModel(model_definition)\n",
        "train_stats = model.train(df_train)\n",
        "\n",
        "# or load a model\n",
        "# model = LudwigModel.load(model_path)\n",
        "\n",
        "# obtain predictions\n",
        "predictions = model.predict(df_test)\n",
        "\n",
        "model.close()"
      ],
      "execution_count": 9,
      "outputs": [
        {
          "output_type": "stream",
          "text": [
            "/usr/local/lib/python3.6/dist-packages/ludwig/data/preprocessing.py:186: SettingWithCopyWarning: \n",
            "A value is trying to be set on a copy of a slice from a DataFrame.\n",
            "Try using .loc[row_indexer,col_indexer] = value instead\n",
            "\n",
            "See the caveats in the documentation: https://pandas.pydata.org/pandas-docs/stable/user_guide/indexing.html#returning-a-view-versus-a-copy\n",
            "  preprocessing_parameters['fill_value'],\n",
            "/usr/local/lib/python3.6/dist-packages/ludwig/data/preprocessing.py:186: SettingWithCopyWarning: \n",
            "A value is trying to be set on a copy of a slice from a DataFrame.\n",
            "Try using .loc[row_indexer,col_indexer] = value instead\n",
            "\n",
            "See the caveats in the documentation: https://pandas.pydata.org/pandas-docs/stable/user_guide/indexing.html#returning-a-view-versus-a-copy\n",
            "  preprocessing_parameters['fill_value'],\n"
          ],
          "name": "stderr"
        }
      ]
    },
    {
      "cell_type": "code",
      "metadata": {
        "id": "s_g2x7FZVqUd",
        "colab_type": "code",
        "colab": {
          "base_uri": "https://localhost:8080/",
          "height": 437
        },
        "outputId": "99b9e85d-5456-4ec9-c552-bbed66c90bf8"
      },
      "source": [
        "predictions"
      ],
      "execution_count": 10,
      "outputs": [
        {
          "output_type": "execute_result",
          "data": {
            "text/html": [
              "<div>\n",
              "<style scoped>\n",
              "    .dataframe tbody tr th:only-of-type {\n",
              "        vertical-align: middle;\n",
              "    }\n",
              "\n",
              "    .dataframe tbody tr th {\n",
              "        vertical-align: top;\n",
              "    }\n",
              "\n",
              "    .dataframe thead th {\n",
              "        text-align: right;\n",
              "    }\n",
              "</style>\n",
              "<table border=\"1\" class=\"dataframe\">\n",
              "  <thead>\n",
              "    <tr style=\"text-align: right;\">\n",
              "      <th></th>\n",
              "      <th>category_predictions</th>\n",
              "      <th>category_probabilities_&lt;UNK&gt;</th>\n",
              "      <th>category_probabilities_sport</th>\n",
              "      <th>category_probabilities_business</th>\n",
              "      <th>category_probabilities_politics</th>\n",
              "      <th>category_probabilities_entertainment</th>\n",
              "      <th>category_probabilities_tech</th>\n",
              "      <th>category_probability</th>\n",
              "    </tr>\n",
              "  </thead>\n",
              "  <tbody>\n",
              "    <tr>\n",
              "      <th>0</th>\n",
              "      <td>business</td>\n",
              "      <td>4.887402e-13</td>\n",
              "      <td>0.009892</td>\n",
              "      <td>0.781664</td>\n",
              "      <td>0.017228</td>\n",
              "      <td>0.005026</td>\n",
              "      <td>0.186191</td>\n",
              "      <td>0.781664</td>\n",
              "    </tr>\n",
              "    <tr>\n",
              "      <th>1</th>\n",
              "      <td>politics</td>\n",
              "      <td>5.115585e-13</td>\n",
              "      <td>0.003417</td>\n",
              "      <td>0.251162</td>\n",
              "      <td>0.539539</td>\n",
              "      <td>0.020601</td>\n",
              "      <td>0.185281</td>\n",
              "      <td>0.539539</td>\n",
              "    </tr>\n",
              "    <tr>\n",
              "      <th>2</th>\n",
              "      <td>tech</td>\n",
              "      <td>6.713132e-13</td>\n",
              "      <td>0.072820</td>\n",
              "      <td>0.349900</td>\n",
              "      <td>0.004466</td>\n",
              "      <td>0.062606</td>\n",
              "      <td>0.510208</td>\n",
              "      <td>0.510208</td>\n",
              "    </tr>\n",
              "    <tr>\n",
              "      <th>3</th>\n",
              "      <td>sport</td>\n",
              "      <td>1.643938e-13</td>\n",
              "      <td>0.986444</td>\n",
              "      <td>0.000520</td>\n",
              "      <td>0.000216</td>\n",
              "      <td>0.005480</td>\n",
              "      <td>0.007340</td>\n",
              "      <td>0.986444</td>\n",
              "    </tr>\n",
              "    <tr>\n",
              "      <th>4</th>\n",
              "      <td>tech</td>\n",
              "      <td>6.469230e-13</td>\n",
              "      <td>0.034109</td>\n",
              "      <td>0.009507</td>\n",
              "      <td>0.454687</td>\n",
              "      <td>0.036036</td>\n",
              "      <td>0.465662</td>\n",
              "      <td>0.465662</td>\n",
              "    </tr>\n",
              "    <tr>\n",
              "      <th>...</th>\n",
              "      <td>...</td>\n",
              "      <td>...</td>\n",
              "      <td>...</td>\n",
              "      <td>...</td>\n",
              "      <td>...</td>\n",
              "      <td>...</td>\n",
              "      <td>...</td>\n",
              "      <td>...</td>\n",
              "    </tr>\n",
              "    <tr>\n",
              "      <th>219</th>\n",
              "      <td>business</td>\n",
              "      <td>6.689826e-13</td>\n",
              "      <td>0.056447</td>\n",
              "      <td>0.626486</td>\n",
              "      <td>0.010935</td>\n",
              "      <td>0.048469</td>\n",
              "      <td>0.257662</td>\n",
              "      <td>0.626486</td>\n",
              "    </tr>\n",
              "    <tr>\n",
              "      <th>220</th>\n",
              "      <td>politics</td>\n",
              "      <td>2.598046e-12</td>\n",
              "      <td>0.012206</td>\n",
              "      <td>0.016530</td>\n",
              "      <td>0.792009</td>\n",
              "      <td>0.024034</td>\n",
              "      <td>0.155221</td>\n",
              "      <td>0.792009</td>\n",
              "    </tr>\n",
              "    <tr>\n",
              "      <th>221</th>\n",
              "      <td>entertainment</td>\n",
              "      <td>9.624698e-13</td>\n",
              "      <td>0.146100</td>\n",
              "      <td>0.004364</td>\n",
              "      <td>0.025329</td>\n",
              "      <td>0.424371</td>\n",
              "      <td>0.399836</td>\n",
              "      <td>0.424371</td>\n",
              "    </tr>\n",
              "    <tr>\n",
              "      <th>222</th>\n",
              "      <td>tech</td>\n",
              "      <td>8.083551e-13</td>\n",
              "      <td>0.017760</td>\n",
              "      <td>0.011468</td>\n",
              "      <td>0.076598</td>\n",
              "      <td>0.031407</td>\n",
              "      <td>0.862768</td>\n",
              "      <td>0.862768</td>\n",
              "    </tr>\n",
              "    <tr>\n",
              "      <th>223</th>\n",
              "      <td>sport</td>\n",
              "      <td>1.247598e-13</td>\n",
              "      <td>0.960077</td>\n",
              "      <td>0.000497</td>\n",
              "      <td>0.002080</td>\n",
              "      <td>0.022805</td>\n",
              "      <td>0.014541</td>\n",
              "      <td>0.960077</td>\n",
              "    </tr>\n",
              "  </tbody>\n",
              "</table>\n",
              "<p>224 rows × 8 columns</p>\n",
              "</div>"
            ],
            "text/plain": [
              "    category_predictions  ...  category_probability\n",
              "0               business  ...              0.781664\n",
              "1               politics  ...              0.539539\n",
              "2                   tech  ...              0.510208\n",
              "3                  sport  ...              0.986444\n",
              "4                   tech  ...              0.465662\n",
              "..                   ...  ...                   ...\n",
              "219             business  ...              0.626486\n",
              "220             politics  ...              0.792009\n",
              "221        entertainment  ...              0.424371\n",
              "222                 tech  ...              0.862768\n",
              "223                sport  ...              0.960077\n",
              "\n",
              "[224 rows x 8 columns]"
            ]
          },
          "metadata": {
            "tags": []
          },
          "execution_count": 10
        }
      ]
    },
    {
      "cell_type": "code",
      "metadata": {
        "id": "wsC7JhJnYO9Y",
        "colab_type": "code",
        "colab": {
          "base_uri": "https://localhost:8080/",
          "height": 1000
        },
        "outputId": "a30e9f5c-8f56-4ba0-8804-bad565dc8d3f"
      },
      "source": [
        "# Understand accuracy and other metrics through train_stats\n",
        "train_stats"
      ],
      "execution_count": 11,
      "outputs": [
        {
          "output_type": "execute_result",
          "data": {
            "text/plain": [
              "{'test': OrderedDict([('category',\n",
              "               OrderedDict([('loss',\n",
              "                             [2.7345599796872575,\n",
              "                              1.3366042958299813,\n",
              "                              0.8917073753868084,\n",
              "                              0.5824534579482918,\n",
              "                              0.5721866688124891,\n",
              "                              0.4973114891620191,\n",
              "                              0.5836982147273592,\n",
              "                              0.7099389414633474,\n",
              "                              0.7022242912879357,\n",
              "                              0.5019587086093041]),\n",
              "                            ('accuracy',\n",
              "                             [0.23821339950372208,\n",
              "                              0.4094292803970223,\n",
              "                              0.6625310173697271,\n",
              "                              0.8660049627791563,\n",
              "                              0.8039702233250621,\n",
              "                              0.8213399503722084,\n",
              "                              0.7468982630272953,\n",
              "                              0.6774193548387096,\n",
              "                              0.6799007444168734,\n",
              "                              0.8163771712158809]),\n",
              "                            ('hits_at_k',\n",
              "                             [0.5583126550868487,\n",
              "                              0.7990074441687345,\n",
              "                              0.9627791563275434,\n",
              "                              0.9751861042183623,\n",
              "                              0.9602977667493796,\n",
              "                              0.9801488833746899,\n",
              "                              0.9925558312655087,\n",
              "                              0.9826302729528535,\n",
              "                              0.9826302729528535,\n",
              "                              0.9776674937965261])])),\n",
              "              ('combined',\n",
              "               {'accuracy': [0.23821339950372208,\n",
              "                 0.4094292803970223,\n",
              "                 0.6625310173697271,\n",
              "                 0.8660049627791563,\n",
              "                 0.8039702233250621,\n",
              "                 0.8213399503722084,\n",
              "                 0.7468982630272953,\n",
              "                 0.6774193548387096,\n",
              "                 0.6799007444168734,\n",
              "                 0.8163771712158809],\n",
              "                'loss': [2.7345599796872575,\n",
              "                 1.3366042958299813,\n",
              "                 0.8917073753868084,\n",
              "                 0.5824534579482918,\n",
              "                 0.5721866688124891,\n",
              "                 0.4973114891620191,\n",
              "                 0.5836982147273592,\n",
              "                 0.7099389414633474,\n",
              "                 0.7022242912879357,\n",
              "                 0.5019587086093041]})]),\n",
              " 'training': OrderedDict([('category',\n",
              "               OrderedDict([('loss',\n",
              "                             [2.3429031100561613,\n",
              "                              0.9338220779581851,\n",
              "                              0.38768972213582215,\n",
              "                              0.15296465510575372,\n",
              "                              0.1060862517441719,\n",
              "                              0.0638902789757345,\n",
              "                              0.0712785663129596,\n",
              "                              0.08075149610797705,\n",
              "                              0.07403675398368428,\n",
              "                              0.034101085051947214]),\n",
              "                            ('accuracy',\n",
              "                             [0.28612099644128114,\n",
              "                              0.608540925266904,\n",
              "                              0.9615658362989323,\n",
              "                              0.999288256227758,\n",
              "                              0.999288256227758,\n",
              "                              1.0,\n",
              "                              0.99644128113879,\n",
              "                              0.995729537366548,\n",
              "                              0.997864768683274,\n",
              "                              1.0]),\n",
              "                            ('hits_at_k',\n",
              "                             [0.6135231316725979,\n",
              "                              0.899644128113879,\n",
              "                              1.0,\n",
              "                              1.0,\n",
              "                              1.0,\n",
              "                              1.0,\n",
              "                              1.0,\n",
              "                              1.0,\n",
              "                              1.0,\n",
              "                              1.0])])),\n",
              "              ('combined',\n",
              "               {'accuracy': [0.28612099644128114,\n",
              "                 0.608540925266904,\n",
              "                 0.9615658362989323,\n",
              "                 0.999288256227758,\n",
              "                 0.999288256227758,\n",
              "                 1.0,\n",
              "                 0.99644128113879,\n",
              "                 0.995729537366548,\n",
              "                 0.997864768683274,\n",
              "                 1.0],\n",
              "                'loss': [2.3429031100561613,\n",
              "                 0.9338220779581851,\n",
              "                 0.38768972213582215,\n",
              "                 0.15296465510575372,\n",
              "                 0.1060862517441719,\n",
              "                 0.0638902789757345,\n",
              "                 0.0712785663129596,\n",
              "                 0.08075149610797705,\n",
              "                 0.07403675398368428,\n",
              "                 0.034101085051947214]})]),\n",
              " 'validation': OrderedDict([('category',\n",
              "               OrderedDict([('loss',\n",
              "                             [2.5497285525004068,\n",
              "                              1.3373566468556721,\n",
              "                              0.883527934551239,\n",
              "                              0.6773022015889486,\n",
              "                              0.6330153544743856,\n",
              "                              0.5541529258092245,\n",
              "                              0.6461567083994547,\n",
              "                              0.83802862962087,\n",
              "                              0.8046843012173971,\n",
              "                              0.6129207412401835]),\n",
              "                            ('accuracy',\n",
              "                             [0.22395833333333334,\n",
              "                              0.4010416666666667,\n",
              "                              0.6666666666666666,\n",
              "                              0.796875,\n",
              "                              0.78125,\n",
              "                              0.7760416666666666,\n",
              "                              0.7239583333333334,\n",
              "                              0.6197916666666666,\n",
              "                              0.671875,\n",
              "                              0.765625]),\n",
              "                            ('hits_at_k',\n",
              "                             [0.59375,\n",
              "                              0.8125,\n",
              "                              0.953125,\n",
              "                              0.9635416666666666,\n",
              "                              0.9635416666666666,\n",
              "                              0.9791666666666666,\n",
              "                              0.9791666666666666,\n",
              "                              0.984375,\n",
              "                              0.9583333333333334,\n",
              "                              0.9739583333333334])])),\n",
              "              ('combined',\n",
              "               {'accuracy': [0.22395833333333334,\n",
              "                 0.4010416666666667,\n",
              "                 0.6666666666666666,\n",
              "                 0.796875,\n",
              "                 0.78125,\n",
              "                 0.7760416666666666,\n",
              "                 0.7239583333333334,\n",
              "                 0.6197916666666666,\n",
              "                 0.671875,\n",
              "                 0.765625],\n",
              "                'loss': [2.5497285525004068,\n",
              "                 1.3373566468556721,\n",
              "                 0.883527934551239,\n",
              "                 0.6773022015889486,\n",
              "                 0.6330153544743856,\n",
              "                 0.5541529258092245,\n",
              "                 0.6461567083994547,\n",
              "                 0.83802862962087,\n",
              "                 0.8046843012173971,\n",
              "                 0.6129207412401835]})])}"
            ]
          },
          "metadata": {
            "tags": []
          },
          "execution_count": 11
        }
      ]
    },
    {
      "cell_type": "code",
      "metadata": {
        "id": "7V2X1nEwih7j",
        "colab_type": "code",
        "colab": {}
      },
      "source": [
        ""
      ],
      "execution_count": null,
      "outputs": []
    }
  ]
}