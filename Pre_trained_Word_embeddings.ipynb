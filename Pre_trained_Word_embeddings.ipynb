{
  "cells": [
    {
      "cell_type": "markdown",
      "metadata": {
        "id": "view-in-github",
        "colab_type": "text"
      },
      "source": [
        "<a href=\"https://colab.research.google.com/github/anshupandey/Natural_language_Processing/blob/master/Pre_trained_Word_embeddings.ipynb\" target=\"_parent\"><img src=\"https://colab.research.google.com/assets/colab-badge.svg\" alt=\"Open In Colab\"/></a>"
      ]
    },
    {
      "cell_type": "markdown",
      "metadata": {
        "id": "dDDJxLd1mJUF"
      },
      "source": [
        "# Pre-trained Word Embeddings"
      ]
    },
    {
      "cell_type": "markdown",
      "metadata": {
        "id": "5jyQdB3_mqTO"
      },
      "source": [
        "\n",
        "Natural Language Processing (NLP) has witnessed a massive surge in performance and usability thanks to **transfer learning**—a technique that allows models trained on large, general-purpose datasets to be adapted for specific tasks with minimal additional data and computational resources.\n",
        "\n",
        "**Word embeddings** lie at the heart of many modern NLP solutions. They transform raw text into numeric vectors (or “embeddings”) that capture semantic and syntactic relationships among words. By leveraging **pre-trained** embeddings, you tap into general language knowledge that has already been learned, saving time, computing power, and often boosting accuracy.\n",
        "\n",
        "---\n",
        "\n",
        "## What Is Transfer Learning?\n",
        "\n",
        "**Transfer learning** in NLP typically involves these steps:\n",
        "\n",
        "1. **Pre-training**: A large language model is trained on extensive text data (e.g., Wikipedia, Common Crawl). The model “learns” linguistic patterns such as syntax, semantics, and general context.  \n",
        "2. **Fine-tuning**: The pre-trained model is then adapted to a specific downstream task (like sentiment analysis, text classification, or named entity recognition) by adding specialized layers or re-training part of the network.\n",
        "\n",
        "In the context of **word embeddings**, transfer learning involves taking embeddings that have been learned on massive, general corpora and using them as a starting point for your own NLP tasks.\n",
        "\n",
        "---\n",
        "\n",
        "## Why Use Word Embeddings?\n",
        "\n",
        "Traditional NLP pipelines often relied on “bag-of-words” or “one-hot encoding” representations that only captured the presence or frequency of words without retaining word order or contextual nuance. Word embeddings overcame these limitations by providing:\n",
        "\n",
        "- **Dense, low-dimensional representations** (e.g., a 300-dimensional vector vs. a large one-hot vector).  \n",
        "- **Semantic relationships** (similar words have similar embedding vectors, enabling models to detect analogies and synonyms).  \n",
        "- **Reduced sparsity** (better generalization and less memory overhead than one-hot encodings).  \n",
        "\n",
        "By starting with **pre-trained word embeddings**, you get a strong language understanding “for free,” letting you focus on the downstream tasks that matter.\n",
        "\n",
        "---\n",
        "\n"
      ]
    },
    {
      "cell_type": "code",
      "execution_count": null,
      "metadata": {
        "id": "ljcotrobmMhe"
      },
      "outputs": [],
      "source": [
        "!pip install gensim --quiet"
      ]
    },
    {
      "cell_type": "markdown",
      "metadata": {
        "id": "nuJ7_Hh_mO0J"
      },
      "source": [
        "## Word2vec"
      ]
    },
    {
      "cell_type": "markdown",
      "metadata": {
        "id": "3Iz2TS-nm8Lc"
      },
      "source": [
        "### Word2Vec\n",
        "\n",
        "**Word2Vec** (by Google) is one of the first widespread word embedding models. It comes in two flavors:\n",
        "- **CBOW (Continuous Bag of Words)**: Predicts a word based on its context.  \n",
        "- **Skip-gram**: Predicts the surrounding words given a target word.\n",
        "\n",
        "It generates embeddings by learning co-occurrence relationships over large corpora (e.g., Google News). Pre-trained Word2Vec embeddings are often 300-dimensional and remain popular for simpler NLP pipelines.\n",
        "\n",
        "**Pros**:\n",
        "- Easy to integrate.\n",
        "- Well-studied, with a large community of support.\n",
        "\n",
        "**Cons**:\n",
        "- Context-independent: The embedding for a word does not change based on surrounding words.\n",
        "\n",
        "---\n"
      ]
    },
    {
      "cell_type": "code",
      "execution_count": null,
      "metadata": {
        "colab": {
          "base_uri": "https://localhost:8080/"
        },
        "id": "VH4hEKuzmGmd",
        "outputId": "ef19eb55-1018-413e-da8c-52db158577d3"
      },
      "outputs": [
        {
          "name": "stdout",
          "output_type": "stream",
          "text": [
            "[==================================================] 100.0% 1662.8/1662.8MB downloaded\n",
            "Vector for 'king': [ 0.12597656  0.02978516  0.00860596  0.13964844 -0.02563477 -0.03613281\n",
            "  0.11181641 -0.19824219  0.05126953  0.36328125]... (truncated)\n",
            "Similarity between 'king' and 'queen': 0.6511\n",
            "Top 5 words similar to 'king':\n",
            "  kings: 0.7138\n",
            "  queen: 0.6511\n",
            "  monarch: 0.6413\n",
            "  crown_prince: 0.6204\n",
            "  prince: 0.6160\n"
          ]
        }
      ],
      "source": [
        "import gensim.downloader as api\n",
        "\n",
        "# 1. Load a pre-trained Word2Vec model\n",
        "#    This is the Google News 300-dim version (~1.6GB).\n",
        "w2v_model = api.load(\"word2vec-google-news-300\")\n",
        "\n",
        "# 2. Generate word embedding for \"king\"\n",
        "king_vector = w2v_model[\"king\"]\n",
        "\n",
        "print(f\"Vector for 'king': {king_vector[:10]}... (truncated)\")\n",
        "\n",
        "# 3. Compute similarity between two words\n",
        "similarity_king_queen = w2v_model.similarity(\"king\", \"queen\")\n",
        "print(f\"Similarity between 'king' and 'queen': {similarity_king_queen:.4f}\")\n",
        "\n",
        "# 4. Find most similar words to \"king\"\n",
        "most_similar_to_king = w2v_model.most_similar(\"king\", topn=5)\n",
        "print(\"Top 5 words similar to 'king':\")\n",
        "for word, score in most_similar_to_king:\n",
        "    print(f\"  {word}: {score:.4f}\")\n"
      ]
    },
    {
      "cell_type": "markdown",
      "metadata": {
        "id": "m3KGmA8ImTAL"
      },
      "source": [
        "## GloVe"
      ]
    },
    {
      "cell_type": "markdown",
      "metadata": {
        "id": "C0a_DC_Cm_u_"
      },
      "source": [
        "\n",
        "### GloVe (Global Vectors)\n",
        "\n",
        "**GloVe** (by Stanford) is another widely-used method that mixes matrix factorization techniques with local context windows. Key differences from Word2Vec include the objective function’s focus on **global co-occurrence statistics**.\n",
        "\n",
        "**Pros**:\n",
        "- Captures both local and global context information.\n",
        "- Available pre-trained on Common Crawl and Wikipedia.\n",
        "\n",
        "**Cons**:\n",
        "- Similar context-independence limitation as Word2Vec.\n",
        "\n",
        "---\n",
        "\n"
      ]
    },
    {
      "cell_type": "code",
      "execution_count": null,
      "metadata": {
        "colab": {
          "base_uri": "https://localhost:8080/"
        },
        "id": "sEu7mNebmStj",
        "outputId": "da973115-e872-48ea-b3e0-fbde379acc6d"
      },
      "outputs": [
        {
          "name": "stdout",
          "output_type": "stream",
          "text": [
            "[==================================================] 100.0% 128.1/128.1MB downloaded\n",
            "Vector for 'king': [-0.32307 -0.87616  0.21977  0.25268  0.22976  0.7388  -0.37954 -0.35307\n",
            " -0.84369 -1.1113 ]... (truncated)\n",
            "Similarity between 'king' and 'queen' (GloVe): 0.7508\n",
            "Top 5 words similar to 'king' (GloVe):\n",
            "  prince: 0.7682\n",
            "  queen: 0.7508\n",
            "  son: 0.7021\n",
            "  brother: 0.6986\n",
            "  monarch: 0.6978\n"
          ]
        }
      ],
      "source": [
        "import gensim.downloader as api\n",
        "\n",
        "# 1. Load a pre-trained GloVe model\n",
        "#    Options: \"glove-wiki-gigaword-50\", \"glove-wiki-gigaword-100\",\n",
        "#    \"glove-wiki-gigaword-200\", \"glove-wiki-gigaword-300\"\n",
        "glove_model = api.load(\"glove-wiki-gigaword-100\")\n",
        "\n",
        "# 2. Generate word embedding for \"king\"\n",
        "king_vector_glove = glove_model[\"king\"]\n",
        "print(f\"Vector for 'king': {king_vector_glove[:10]}... (truncated)\")\n",
        "\n",
        "# 3. Compute similarity between two words\n",
        "similarity_king_queen_glove = glove_model.similarity(\"king\", \"queen\")\n",
        "print(f\"Similarity between 'king' and 'queen' (GloVe): {similarity_king_queen_glove:.4f}\")\n",
        "\n",
        "# 4. Find most similar words to \"king\"\n",
        "most_similar_to_king_glove = glove_model.most_similar(\"king\", topn=5)\n",
        "print(\"Top 5 words similar to 'king' (GloVe):\")\n",
        "for word, score in most_similar_to_king_glove:\n",
        "    print(f\"  {word}: {score:.4f}\")\n"
      ]
    },
    {
      "cell_type": "markdown",
      "metadata": {
        "id": "M6N3-5S3mWkp"
      },
      "source": [
        "## FastText"
      ]
    },
    {
      "cell_type": "markdown",
      "metadata": {
        "id": "fiLBR1iYnDEX"
      },
      "source": [
        "### FastText\n",
        "\n",
        "**FastText** (by Facebook AI Research) extends Word2Vec by learning embeddings for **subword units (n-grams)**. This means it can generate embeddings for out-of-vocabulary (OOV) words by composing subword embeddings.\n",
        "\n",
        "**Pros**:\n",
        "- Handles rare and unseen words better (due to subword information).\n",
        "- Often outperforms Word2Vec and GloVe on tasks involving morphologically rich languages.\n",
        "\n",
        "**Cons**:\n",
        "- More computationally intensive to train compared to standard Word2Vec.\n",
        "\n",
        "---\n"
      ]
    },
    {
      "cell_type": "code",
      "execution_count": null,
      "metadata": {
        "colab": {
          "base_uri": "https://localhost:8080/"
        },
        "id": "0RFu4mQfmQju",
        "outputId": "3ec2a468-3ee2-4294-88ce-09f691274079"
      },
      "outputs": [
        {
          "name": "stdout",
          "output_type": "stream",
          "text": [
            "[==================================================] 100.0% 958.5/958.4MB downloaded\n",
            "Vector for 'king': [-0.12063    0.0051695 -0.012447  -0.0078528 -0.023738  -0.082595\n",
            "  0.04579   -0.15382    0.06455    0.12893  ]... (truncated)\n",
            "Similarity between 'king' and 'queen' (FastText): 0.7704\n",
            "Top 5 words similar to 'king' (FastText):\n",
            "  king-: 0.7838\n",
            "  boy-king: 0.7705\n",
            "  queen: 0.7704\n",
            "  prince: 0.7701\n",
            "  kings: 0.7669\n"
          ]
        }
      ],
      "source": [
        "import gensim.downloader as api\n",
        "\n",
        "# 1. Load a pre-trained FastText model\n",
        "#    For instance, \"fasttext-wiki-news-subwords-300\"\n",
        "fasttext_model = api.load(\"fasttext-wiki-news-subwords-300\")\n",
        "\n",
        "# 2. Generate word embedding for \"king\"\n",
        "king_vector_fasttext = fasttext_model[\"king\"]\n",
        "print(f\"Vector for 'king': {king_vector_fasttext[:10]}... (truncated)\")\n",
        "\n",
        "# 3. Compute similarity between two words\n",
        "similarity_king_queen_fasttext = fasttext_model.similarity(\"king\", \"queen\")\n",
        "print(f\"Similarity between 'king' and 'queen' (FastText): {similarity_king_queen_fasttext:.4f}\")\n",
        "\n",
        "# 4. Find most similar words to \"king\"\n",
        "most_similar_to_king_fasttext = fasttext_model.most_similar(\"king\", topn=5)\n",
        "print(\"Top 5 words similar to 'king' (FastText):\")\n",
        "for word, score in most_similar_to_king_fasttext:\n",
        "    print(f\"  {word}: {score:.4f}\")\n"
      ]
    },
    {
      "cell_type": "markdown",
      "metadata": {
        "id": "1JgqgIujmZPp"
      },
      "source": [
        "## ELmo"
      ]
    },
    {
      "cell_type": "markdown",
      "metadata": {
        "id": "fxDSi_NxnF69"
      },
      "source": [
        "\n",
        "### ELMo (Embeddings from Language Models)\n",
        "\n",
        "**ELMo** (by the Allen Institute for AI) is an early model in the family of **contextual** word embeddings. ELMo:\n",
        "- Uses a bidirectional LSTM (biLSTM) trained on a language modeling objective.\n",
        "- Produces embeddings that vary according to the entire sentence context.\n",
        "\n",
        "**Pros**:\n",
        "- Context-sensitive embeddings, improving over static Word2Vec or GloVe vectors.\n",
        "- Marked improvement in many downstream tasks.\n",
        "\n",
        "**Cons**:\n",
        "- Larger model size and slower inference than static embeddings.\n",
        "\n",
        "---\n",
        "\n"
      ]
    },
    {
      "cell_type": "code",
      "execution_count": null,
      "metadata": {
        "colab": {
          "background_save": true,
          "base_uri": "https://localhost:8080/"
        },
        "id": "cVZ5TPf8mYNp",
        "outputId": "2cdf9dff-41ee-4cb6-ca46-e1a0db19912e"
      },
      "outputs": [
        {
          "name": "stdout",
          "output_type": "stream",
          "text": [
            "\u001b[2K     \u001b[90m━━━━━━━━━━━━━━━━━━━━━━━━━━━━━━━━━━━━━━━━\u001b[0m \u001b[32m248.2/248.2 kB\u001b[0m \u001b[31m8.1 MB/s\u001b[0m eta \u001b[36m0:00:00\u001b[0m\n",
            "\u001b[?25h  Installing build dependencies ... \u001b[?25l\u001b[?25hdone\n",
            "  Getting requirements to build wheel ... \u001b[?25l\u001b[?25hdone\n",
            "  Installing backend dependencies ... \u001b[?25l\u001b[?25hdone\n",
            "  Preparing metadata (pyproject.toml) ... \u001b[?25l\u001b[?25hdone\n",
            "\u001b[2K     \u001b[90m━━━━━━━━━━━━━━━━━━━━━━━━━━━━━━━━━━━━━━━━\u001b[0m \u001b[32m77.3/77.3 kB\u001b[0m \u001b[31m4.8 MB/s\u001b[0m eta \u001b[36m0:00:00\u001b[0m\n",
            "\u001b[?25h  Preparing metadata (setup.py) ... \u001b[?25l\u001b[?25hdone\n",
            "\u001b[2K     \u001b[90m━━━━━━━━━━━━━━━━━━━━━━━━━━━━━━━━━━━━━━━━\u001b[0m \u001b[32m594.2/594.2 kB\u001b[0m \u001b[31m27.2 MB/s\u001b[0m eta \u001b[36m0:00:00\u001b[0m\n",
            "\u001b[?25h  Preparing metadata (setup.py) ... \u001b[?25l\u001b[?25hdone\n",
            "\u001b[2K     \u001b[90m━━━━━━━━━━━━━━━━━━━━━━━━━━━━━━━━━━━━━━━━\u001b[0m \u001b[32m103.1/103.1 kB\u001b[0m \u001b[31m6.5 MB/s\u001b[0m eta \u001b[36m0:00:00\u001b[0m\n",
            "\u001b[?25h  Preparing metadata (setup.py) ... \u001b[?25l\u001b[?25hdone\n",
            "\u001b[33mWARNING: The candidate selected for download or install is a yanked version: 'rich' candidate (version 12.1.0 at https://files.pythonhosted.org/packages/bc/be/1ace556afa0cf17599c2a631b04b280ae7502a9cf942c47fd66ca9ab5134/rich-12.1.0-py3-none-any.whl (from https://pypi.org/simple/rich/) (requires-python:>=3.6.2,<4.0.0))\n",
            "Reason for being yanked: Broken dependencies. Please upgrade to 12.2.0 or later\u001b[0m\u001b[33m\n",
            "\u001b[2K   \u001b[90m━━━━━━━━━━━━━━━━━━━━━━━━━━━━━━━━━━━━━━━━\u001b[0m \u001b[32m729.8/729.8 kB\u001b[0m \u001b[31m31.4 MB/s\u001b[0m eta \u001b[36m0:00:00\u001b[0m\n",
            "\u001b[2K   \u001b[90m━━━━━━━━━━━━━━━━━━━━━━━━━━━━━━━━━━━━━━━━\u001b[0m \u001b[32m1.1/1.1 MB\u001b[0m \u001b[31m38.2 MB/s\u001b[0m eta \u001b[36m0:00:00\u001b[0m\n",
            "\u001b[2K   \u001b[90m━━━━━━━━━━━━━━━━━━━━━━━━━━━━━━━━━━━━━━━━\u001b[0m \u001b[32m229.8/229.8 kB\u001b[0m \u001b[31m13.6 MB/s\u001b[0m eta \u001b[36m0:00:00\u001b[0m\n",
            "\u001b[2K   \u001b[90m━━━━━━━━━━━━━━━━━━━━━━━━━━━━━━━━━━━━━━━━\u001b[0m \u001b[32m119.4/119.4 kB\u001b[0m \u001b[31m8.9 MB/s\u001b[0m eta \u001b[36m0:00:00\u001b[0m\n",
            "\u001b[2K   \u001b[90m━━━━━━━━━━━━━━━━━━━━━━━━━━━━━━━━━━━━━━━━\u001b[0m \u001b[32m163.5/163.5 kB\u001b[0m \u001b[31m9.6 MB/s\u001b[0m eta \u001b[36m0:00:00\u001b[0m\n",
            "\u001b[2K   \u001b[90m━━━━━━━━━━━━━━━━━━━━━━━━━━━━━━━━━━━━━━━━\u001b[0m \u001b[32m294.9/294.9 kB\u001b[0m \u001b[31m17.0 MB/s\u001b[0m eta \u001b[36m0:00:00\u001b[0m\n",
            "\u001b[2K   \u001b[90m━━━━━━━━━━━━━━━━━━━━━━━━━━━━━━━━━━━━━━━━\u001b[0m \u001b[32m6.3/6.3 MB\u001b[0m \u001b[31m62.0 MB/s\u001b[0m eta \u001b[36m0:00:00\u001b[0m\n",
            "\u001b[2K   \u001b[90m━━━━━━━━━━━━━━━━━━━━━━━━━━━━━━━━━━━━━━━━\u001b[0m \u001b[32m101.7/101.7 kB\u001b[0m \u001b[31m6.7 MB/s\u001b[0m eta \u001b[36m0:00:00\u001b[0m\n",
            "\u001b[2K   \u001b[90m━━━━━━━━━━━━━━━━━━━━━━━━━━━━━━━━━━━━━━━━\u001b[0m \u001b[32m750.6/750.6 MB\u001b[0m \u001b[31m592.3 kB/s\u001b[0m eta \u001b[36m0:00:00\u001b[0m\n",
            "\u001b[2K   \u001b[90m━━━━━━━━━━━━━━━━━━━━━━━━━━━━━━━━━━━━━━━━\u001b[0m \u001b[32m21.0/21.0 MB\u001b[0m \u001b[31m18.4 MB/s\u001b[0m eta \u001b[36m0:00:00\u001b[0m\n",
            "\u001b[2K   \u001b[90m━━━━━━━━━━━━━━━━━━━━━━━━━━━━━━━━━━━━━━━━\u001b[0m \u001b[32m4.4/4.4 MB\u001b[0m \u001b[31m57.7 MB/s\u001b[0m eta \u001b[36m0:00:00\u001b[0m\n",
            "\u001b[2K   \u001b[90m━━━━━━━━━━━━━━━━━━━━━━━━━━━━━━━━━━━━━━━━\u001b[0m \u001b[32m1.8/1.8 MB\u001b[0m \u001b[31m49.3 MB/s\u001b[0m eta \u001b[36m0:00:00\u001b[0m\n",
            "\u001b[2K   \u001b[90m━━━━━━━━━━━━━━━━━━━━━━━━━━━━━━━━━━━━━━━━\u001b[0m \u001b[32m897.5/897.5 kB\u001b[0m \u001b[31m36.0 MB/s\u001b[0m eta \u001b[36m0:00:00\u001b[0m\n",
            "\u001b[2K   \u001b[90m━━━━━━━━━━━━━━━━━━━━━━━━━━━━━━━━━━━━━━━━\u001b[0m \u001b[32m139.2/139.2 kB\u001b[0m \u001b[31m10.6 MB/s\u001b[0m eta \u001b[36m0:00:00\u001b[0m\n",
            "\u001b[2K   \u001b[90m━━━━━━━━━━━━━━━━━━━━━━━━━━━━━━━━━━━━━━━━\u001b[0m \u001b[32m51.1/51.1 kB\u001b[0m \u001b[31m3.3 MB/s\u001b[0m eta \u001b[36m0:00:00\u001b[0m\n",
            "\u001b[2K   \u001b[90m━━━━━━━━━━━━━━━━━━━━━━━━━━━━━━━━━━━━━━━━\u001b[0m \u001b[32m121.6/121.6 kB\u001b[0m \u001b[31m9.2 MB/s\u001b[0m eta \u001b[36m0:00:00\u001b[0m\n",
            "\u001b[2K   \u001b[90m━━━━━━━━━━━━━━━━━━━━━━━━━━━━━━━━━━━━━━━━\u001b[0m \u001b[32m114.6/114.6 kB\u001b[0m \u001b[31m7.8 MB/s\u001b[0m eta \u001b[36m0:00:00\u001b[0m\n",
            "\u001b[2K   \u001b[90m━━━━━━━━━━━━━━━━━━━━━━━━━━━━━━━━━━━━━━━━\u001b[0m \u001b[32m47.3/47.3 kB\u001b[0m \u001b[31m3.1 MB/s\u001b[0m eta \u001b[36m0:00:00\u001b[0m\n",
            "\u001b[2K   \u001b[90m━━━━━━━━━━━━━━━━━━━━━━━━━━━━━━━━━━━━━━━━\u001b[0m \u001b[32m126.0/126.0 kB\u001b[0m \u001b[31m8.8 MB/s\u001b[0m eta \u001b[36m0:00:00\u001b[0m\n",
            "\u001b[2K   \u001b[90m━━━━━━━━━━━━━━━━━━━━━━━━━━━━━━━━━━━━━━━━\u001b[0m \u001b[32m57.0/57.0 kB\u001b[0m \u001b[31m4.2 MB/s\u001b[0m eta \u001b[36m0:00:00\u001b[0m\n",
            "\u001b[2K   \u001b[90m━━━━━━━━━━━━━━━━━━━━━━━━━━━━━━━━━━━━━━━━\u001b[0m \u001b[32m659.5/659.5 kB\u001b[0m \u001b[31m29.5 MB/s\u001b[0m eta \u001b[36m0:00:00\u001b[0m\n",
            "\u001b[2K   \u001b[90m━━━━━━━━━━━━━━━━━━━━━━━━━━━━━━━━━━━━━━━━\u001b[0m \u001b[32m6.6/6.6 MB\u001b[0m \u001b[31m70.3 MB/s\u001b[0m eta \u001b[36m0:00:00\u001b[0m\n",
            "\u001b[2K   \u001b[90m━━━━━━━━━━━━━━━━━━━━━━━━━━━━━━━━━━━━━━━━\u001b[0m \u001b[32m13.3/13.3 MB\u001b[0m \u001b[31m63.3 MB/s\u001b[0m eta \u001b[36m0:00:00\u001b[0m\n",
            "\u001b[2K   \u001b[90m━━━━━━━━━━━━━━━━━━━━━━━━━━━━━━━━━━━━━━━━\u001b[0m \u001b[32m83.2/83.2 kB\u001b[0m \u001b[31m5.1 MB/s\u001b[0m eta \u001b[36m0:00:00\u001b[0m\n",
            "\u001b[2K   \u001b[90m━━━━━━━━━━━━━━━━━━━━━━━━━━━━━━━━━━━━━━━━\u001b[0m \u001b[32m211.7/211.7 kB\u001b[0m \u001b[31m13.5 MB/s\u001b[0m eta \u001b[36m0:00:00\u001b[0m\n",
            "\u001b[?25h  Building wheel for fairscale (pyproject.toml) ... \u001b[?25l\u001b[?25hdone\n",
            "  Building wheel for termcolor (setup.py) ... \u001b[?25l\u001b[?25hdone\n",
            "  Building wheel for jsonnet (setup.py) ... \u001b[?25l\u001b[?25hdone\n",
            "  Building wheel for pathtools (setup.py) ... \u001b[?25l\u001b[?25hdone\n",
            "\u001b[31mERROR: pip's dependency resolver does not currently take into account all the packages that are installed. This behaviour is the source of the following dependency conflicts.\n",
            "sqlalchemy 2.0.36 requires typing-extensions>=4.6.0, but you have typing-extensions 4.5.0 which is incompatible.\n",
            "accelerate 1.2.1 requires huggingface-hub>=0.21.0, but you have huggingface-hub 0.10.1 which is incompatible.\n",
            "albumentations 1.4.20 requires pydantic>=2.7.0, but you have pydantic 1.8.2 which is incompatible.\n",
            "altair 5.5.0 requires typing-extensions>=4.10.0; python_version < \"3.14\", but you have typing-extensions 4.5.0 which is incompatible.\n",
            "bigframes 1.29.0 requires rich<14,>=12.4.4, but you have rich 12.1.0 which is incompatible.\n",
            "diffusers 0.31.0 requires huggingface-hub>=0.23.2, but you have huggingface-hub 0.10.1 which is incompatible.\n",
            "en-core-web-sm 3.7.1 requires spacy<3.8.0,>=3.7.2, but you have spacy 3.3.3 which is incompatible.\n",
            "google-ai-generativelanguage 0.6.10 requires google-api-core[grpc]!=2.0.*,!=2.1.*,!=2.10.*,!=2.2.*,!=2.3.*,!=2.4.*,!=2.5.*,!=2.6.*,!=2.7.*,!=2.8.*,!=2.9.*,<3.0.0dev,>=1.34.1, but you have google-api-core 2.8.2 which is incompatible.\n",
            "google-ai-generativelanguage 0.6.10 requires protobuf!=4.21.0,!=4.21.1,!=4.21.2,!=4.21.3,!=4.21.4,!=4.21.5,<6.0.0dev,>=3.20.2, but you have protobuf 3.20.0 which is incompatible.\n",
            "google-cloud-aiplatform 1.74.0 requires protobuf!=4.21.0,!=4.21.1,!=4.21.2,!=4.21.3,!=4.21.4,!=4.21.5,<6.0.0dev,>=3.20.2, but you have protobuf 3.20.0 which is incompatible.\n",
            "google-cloud-bigquery 3.25.0 requires google-api-core[grpc]!=2.0.*,!=2.1.*,!=2.10.*,!=2.2.*,!=2.3.*,!=2.4.*,!=2.5.*,!=2.6.*,!=2.7.*,!=2.8.*,!=2.9.*,<3.0.0dev,>=1.34.1, but you have google-api-core 2.8.2 which is incompatible.\n",
            "google-cloud-bigquery-connection 1.17.0 requires google-api-core[grpc]!=2.0.*,!=2.1.*,!=2.10.*,!=2.2.*,!=2.3.*,!=2.4.*,!=2.5.*,!=2.6.*,!=2.7.*,!=2.8.*,!=2.9.*,<3.0.0dev,>=1.34.1, but you have google-api-core 2.8.2 which is incompatible.\n",
            "google-cloud-bigquery-connection 1.17.0 requires protobuf!=4.21.0,!=4.21.1,!=4.21.2,!=4.21.3,!=4.21.4,!=4.21.5,<6.0.0dev,>=3.20.2, but you have protobuf 3.20.0 which is incompatible.\n",
            "google-cloud-bigquery-storage 2.27.0 requires google-api-core[grpc]!=2.0.*,!=2.1.*,!=2.10.*,!=2.2.*,!=2.3.*,!=2.4.*,!=2.5.*,!=2.6.*,!=2.7.*,!=2.8.*,!=2.9.*,<3.0.0dev,>=1.34.0, but you have google-api-core 2.8.2 which is incompatible.\n",
            "google-cloud-bigquery-storage 2.27.0 requires protobuf!=3.20.0,!=3.20.1,!=4.21.0,!=4.21.1,!=4.21.2,!=4.21.3,!=4.21.4,!=4.21.5,<6.0.0dev,>=3.20.2, but you have protobuf 3.20.0 which is incompatible.\n",
            "google-cloud-bigtable 2.27.0 requires google-api-core[grpc]<3.0.0dev,>=2.16.0, but you have google-api-core 2.8.2 which is incompatible.\n",
            "google-cloud-bigtable 2.27.0 requires protobuf!=4.21.0,!=4.21.1,!=4.21.2,!=4.21.3,!=4.21.4,!=4.21.5,<6.0.0dev,>=3.20.2, but you have protobuf 3.20.0 which is incompatible.\n",
            "google-cloud-datastore 2.20.2 requires google-api-core[grpc]!=2.0.*,!=2.1.*,!=2.10.*,!=2.2.*,!=2.3.*,!=2.4.*,!=2.5.*,!=2.6.*,!=2.7.*,!=2.8.*,!=2.9.*,<3.0.0dev,>=1.34.0, but you have google-api-core 2.8.2 which is incompatible.\n",
            "google-cloud-datastore 2.20.2 requires protobuf!=3.20.0,!=3.20.1,!=4.21.0,!=4.21.1,!=4.21.2,!=4.21.3,!=4.21.4,!=4.21.5,<6.0.0dev,>=3.20.2, but you have protobuf 3.20.0 which is incompatible.\n",
            "google-cloud-firestore 2.19.0 requires google-api-core[grpc]!=2.0.*,!=2.1.*,!=2.10.*,!=2.2.*,!=2.3.*,!=2.4.*,!=2.5.*,!=2.6.*,!=2.7.*,!=2.8.*,!=2.9.*,<3.0.0dev,>=1.34.0, but you have google-api-core 2.8.2 which is incompatible.\n",
            "google-cloud-firestore 2.19.0 requires protobuf!=3.20.0,!=3.20.1,!=4.21.0,!=4.21.1,!=4.21.2,!=4.21.3,!=4.21.4,!=4.21.5,<6.0.0dev,>=3.20.2, but you have protobuf 3.20.0 which is incompatible.\n",
            "google-cloud-functions 1.19.0 requires google-api-core[grpc]!=2.0.*,!=2.1.*,!=2.10.*,!=2.2.*,!=2.3.*,!=2.4.*,!=2.5.*,!=2.6.*,!=2.7.*,!=2.8.*,!=2.9.*,<3.0.0dev,>=1.34.1, but you have google-api-core 2.8.2 which is incompatible.\n",
            "google-cloud-functions 1.19.0 requires protobuf!=4.21.0,!=4.21.1,!=4.21.2,!=4.21.3,!=4.21.4,!=4.21.5,<6.0.0dev,>=3.20.2, but you have protobuf 3.20.0 which is incompatible.\n",
            "google-cloud-iam 2.17.0 requires google-api-core[grpc]!=2.0.*,!=2.1.*,!=2.10.*,!=2.2.*,!=2.3.*,!=2.4.*,!=2.5.*,!=2.6.*,!=2.7.*,!=2.8.*,!=2.9.*,<3.0.0dev,>=1.34.1, but you have google-api-core 2.8.2 which is incompatible.\n",
            "google-cloud-iam 2.17.0 requires protobuf!=4.21.0,!=4.21.1,!=4.21.2,!=4.21.3,!=4.21.4,!=4.21.5,<6.0.0dev,>=3.20.2, but you have protobuf 3.20.0 which is incompatible.\n",
            "google-cloud-language 2.16.0 requires google-api-core[grpc]!=2.0.*,!=2.1.*,!=2.10.*,!=2.2.*,!=2.3.*,!=2.4.*,!=2.5.*,!=2.6.*,!=2.7.*,!=2.8.*,!=2.9.*,<3.0.0dev,>=1.34.1, but you have google-api-core 2.8.2 which is incompatible.\n",
            "google-cloud-language 2.16.0 requires protobuf!=4.21.0,!=4.21.1,!=4.21.2,!=4.21.3,!=4.21.4,!=4.21.5,<6.0.0dev,>=3.20.2, but you have protobuf 3.20.0 which is incompatible.\n",
            "google-cloud-pubsub 2.27.1 requires google-api-core[grpc]!=2.0.*,!=2.1.*,!=2.10.*,!=2.2.*,!=2.3.*,!=2.4.*,!=2.5.*,!=2.6.*,!=2.7.*,!=2.8.*,!=2.9.*,<3.0.0dev,>=1.34.0, but you have google-api-core 2.8.2 which is incompatible.\n",
            "google-cloud-pubsub 2.27.1 requires protobuf!=4.21.0,!=4.21.1,!=4.21.2,!=4.21.3,!=4.21.4,!=4.21.5,<6.0.0dev,>=3.20.2, but you have protobuf 3.20.0 which is incompatible.\n",
            "google-cloud-resource-manager 1.14.0 requires google-api-core[grpc]!=2.0.*,!=2.1.*,!=2.10.*,!=2.2.*,!=2.3.*,!=2.4.*,!=2.5.*,!=2.6.*,!=2.7.*,!=2.8.*,!=2.9.*,<3.0.0dev,>=1.34.1, but you have google-api-core 2.8.2 which is incompatible.\n",
            "google-cloud-resource-manager 1.14.0 requires protobuf!=4.21.0,!=4.21.1,!=4.21.2,!=4.21.3,!=4.21.4,!=4.21.5,<6.0.0dev,>=3.20.2, but you have protobuf 3.20.0 which is incompatible.\n",
            "google-cloud-translate 3.19.0 requires google-api-core[grpc]!=2.0.*,!=2.1.*,!=2.10.*,!=2.2.*,!=2.3.*,!=2.4.*,!=2.5.*,!=2.6.*,!=2.7.*,!=2.8.*,!=2.9.*,<3.0.0dev,>=1.34.1, but you have google-api-core 2.8.2 which is incompatible.\n",
            "google-cloud-translate 3.19.0 requires protobuf!=4.21.0,!=4.21.1,!=4.21.2,!=4.21.3,!=4.21.4,!=4.21.5,<6.0.0dev,>=3.20.2, but you have protobuf 3.20.0 which is incompatible.\n",
            "google-genai 0.3.0 requires pydantic<3.0.0dev,>=2.0.0, but you have pydantic 1.8.2 which is incompatible.\n",
            "grpc-google-iam-v1 0.13.1 requires protobuf!=4.21.1,!=4.21.2,!=4.21.3,!=4.21.4,!=4.21.5,<6.0.0dev,>=3.20.2, but you have protobuf 3.20.0 which is incompatible.\n",
            "grpcio-status 1.62.3 requires protobuf>=4.21.6, but you have protobuf 3.20.0 which is incompatible.\n",
            "ibis-framework 9.2.0 requires rich<14,>=12.4.4, but you have rich 12.1.0 which is incompatible.\n",
            "langchain 0.3.12 requires pydantic<3.0.0,>=2.7.4, but you have pydantic 1.8.2 which is incompatible.\n",
            "langchain-core 0.3.25 requires pydantic<3.0.0,>=2.5.2; python_full_version < \"3.12.4\", but you have pydantic 1.8.2 which is incompatible.\n",
            "langchain-core 0.3.25 requires typing-extensions>=4.7, but you have typing-extensions 4.5.0 which is incompatible.\n",
            "nibabel 5.3.2 requires typing-extensions>=4.6; python_version < \"3.13\", but you have typing-extensions 4.5.0 which is incompatible.\n",
            "openai 1.57.4 requires pydantic<3,>=1.9.0, but you have pydantic 1.8.2 which is incompatible.\n",
            "openai 1.57.4 requires typing-extensions<5,>=4.11, but you have typing-extensions 4.5.0 which is incompatible.\n",
            "pandas-gbq 0.25.0 requires google-api-core<3.0.0dev,>=2.10.2, but you have google-api-core 2.8.2 which is incompatible.\n",
            "peft 0.14.0 requires huggingface-hub>=0.25.0, but you have huggingface-hub 0.10.1 which is incompatible.\n",
            "peft 0.14.0 requires torch>=1.13.0, but you have torch 1.11.0 which is incompatible.\n",
            "pydantic-core 2.27.1 requires typing-extensions!=4.7.0,>=4.6.0, but you have typing-extensions 4.5.0 which is incompatible.\n",
            "pymc 5.19.1 requires rich>=13.7.1, but you have rich 12.1.0 which is incompatible.\n",
            "pytensor 2.26.4 requires filelock>=3.15, but you have filelock 3.7.1 which is incompatible.\n",
            "sentence-transformers 3.3.1 requires huggingface-hub>=0.20.0, but you have huggingface-hub 0.10.1 which is incompatible.\n",
            "sentence-transformers 3.3.1 requires transformers<5.0.0,>=4.41.0, but you have transformers 4.20.1 which is incompatible.\n",
            "tensorflow 2.17.1 requires protobuf!=4.21.0,!=4.21.1,!=4.21.2,!=4.21.3,!=4.21.4,!=4.21.5,<5.0.0dev,>=3.20.3, but you have protobuf 3.20.0 which is incompatible.\n",
            "tensorflow-metadata 1.13.1 requires protobuf<5,>=3.20.3, but you have protobuf 3.20.0 which is incompatible.\n",
            "torchaudio 2.5.1+cu121 requires torch==2.5.1, but you have torch 1.11.0 which is incompatible.\n",
            "typeguard 4.4.1 requires typing-extensions>=4.10.0, but you have typing-extensions 4.5.0 which is incompatible.\u001b[0m\u001b[31m\n",
            "\u001b[0m"
          ]
        }
      ],
      "source": [
        "!pip install allennlp==2.10.0 --quiet  # or any version compatible with your environment\n"
      ]
    },
    {
      "cell_type": "code",
      "source": [
        "!pip install --upgrade accelerate huggingface_hub --quiet\n",
        "\n"
      ],
      "metadata": {
        "colab": {
          "base_uri": "https://localhost:8080/"
        },
        "id": "Hdl36NBSGyrW",
        "outputId": "00254182-28c6-4b3c-9cb1-eb65cbcc4035"
      },
      "execution_count": 28,
      "outputs": [
        {
          "output_type": "stream",
          "name": "stdout",
          "text": [
            "\u001b[?25l   \u001b[90m━━━━━━━━━━━━━━━━━━━━━━━━━━━━━━━━━━━━━━━━\u001b[0m \u001b[32m0.0/450.5 kB\u001b[0m \u001b[31m?\u001b[0m eta \u001b[36m-:--:--\u001b[0m\r\u001b[2K   \u001b[91m━━━━━━━━━━━━━━━━━━━━━━━━━━━━━━━━━━━━━━━\u001b[0m\u001b[90m╺\u001b[0m \u001b[32m440.3/450.5 kB\u001b[0m \u001b[31m15.4 MB/s\u001b[0m eta \u001b[36m0:00:01\u001b[0m\r\u001b[2K   \u001b[90m━━━━━━━━━━━━━━━━━━━━━━━━━━━━━━━━━━━━━━━━\u001b[0m \u001b[32m450.5/450.5 kB\u001b[0m \u001b[31m9.7 MB/s\u001b[0m eta \u001b[36m0:00:00\u001b[0m\n",
            "\u001b[?25h\u001b[31mERROR: pip's dependency resolver does not currently take into account all the packages that are installed. This behaviour is the source of the following dependency conflicts.\n",
            "cached-path 1.1.6 requires huggingface-hub<0.11.0,>=0.8.1, but you have huggingface-hub 0.27.0 which is incompatible.\n",
            "peft 0.14.0 requires torch>=1.13.0, but you have torch 1.11.0 which is incompatible.\n",
            "sentence-transformers 3.3.1 requires transformers<5.0.0,>=4.41.0, but you have transformers 4.20.1 which is incompatible.\u001b[0m\u001b[31m\n",
            "\u001b[0m"
          ]
        }
      ]
    },
    {
      "cell_type": "code",
      "execution_count": 29,
      "metadata": {
        "colab": {
          "base_uri": "https://localhost:8080/",
          "height": 365
        },
        "id": "oBXYa_bLmg6y",
        "outputId": "74aefc99-76a5-4f93-cd2c-613c724d0f86"
      },
      "outputs": [
        {
          "output_type": "error",
          "ename": "FileNotFoundError",
          "evalue": "https://storage.googleapis.com/allennlp-public-models/elmo_2x4096_512_2048cnn_2xhighway_options.json",
          "traceback": [
            "\u001b[0;31m---------------------------------------------------------------------------\u001b[0m",
            "\u001b[0;31mFileNotFoundError\u001b[0m                         Traceback (most recent call last)",
            "\u001b[0;32m<ipython-input-29-2cb97fce3e9f>\u001b[0m in \u001b[0;36m<cell line: 10>\u001b[0;34m()\u001b[0m\n\u001b[1;32m      8\u001b[0m \u001b[0;34m\u001b[0m\u001b[0m\n\u001b[1;32m      9\u001b[0m \u001b[0;31m# Create the ELMo embedder\u001b[0m\u001b[0;34m\u001b[0m\u001b[0;34m\u001b[0m\u001b[0m\n\u001b[0;32m---> 10\u001b[0;31m \u001b[0melmo\u001b[0m \u001b[0;34m=\u001b[0m \u001b[0mElmo\u001b[0m\u001b[0;34m(\u001b[0m\u001b[0moptions_file\u001b[0m\u001b[0;34m,\u001b[0m \u001b[0mweight_file\u001b[0m\u001b[0;34m,\u001b[0m \u001b[0mnum_output_representations\u001b[0m\u001b[0;34m=\u001b[0m\u001b[0;36m1\u001b[0m\u001b[0;34m,\u001b[0m \u001b[0mdropout\u001b[0m\u001b[0;34m=\u001b[0m\u001b[0;36m0\u001b[0m\u001b[0;34m)\u001b[0m\u001b[0;34m\u001b[0m\u001b[0;34m\u001b[0m\u001b[0m\n\u001b[0m\u001b[1;32m     11\u001b[0m \u001b[0;34m\u001b[0m\u001b[0m\n\u001b[1;32m     12\u001b[0m \u001b[0;31m# 2. Prepare input text (tokenized)\u001b[0m\u001b[0;34m\u001b[0m\u001b[0;34m\u001b[0m\u001b[0m\n",
            "\u001b[0;32m/usr/local/lib/python3.10/dist-packages/allennlp/modules/elmo.py\u001b[0m in \u001b[0;36m__init__\u001b[0;34m(self, options_file, weight_file, num_output_representations, requires_grad, do_layer_norm, dropout, vocab_to_cache, keep_sentence_boundaries, scalar_mix_parameters, module)\u001b[0m\n\u001b[1;32m    116\u001b[0m             \u001b[0mself\u001b[0m\u001b[0;34m.\u001b[0m\u001b[0m_elmo_lstm\u001b[0m \u001b[0;34m=\u001b[0m \u001b[0mmodule\u001b[0m\u001b[0;34m\u001b[0m\u001b[0;34m\u001b[0m\u001b[0m\n\u001b[1;32m    117\u001b[0m         \u001b[0;32melse\u001b[0m\u001b[0;34m:\u001b[0m\u001b[0;34m\u001b[0m\u001b[0;34m\u001b[0m\u001b[0m\n\u001b[0;32m--> 118\u001b[0;31m             self._elmo_lstm = _ElmoBiLm(  # type: ignore\n\u001b[0m\u001b[1;32m    119\u001b[0m                 \u001b[0moptions_file\u001b[0m\u001b[0;34m,\u001b[0m\u001b[0;34m\u001b[0m\u001b[0;34m\u001b[0m\u001b[0m\n\u001b[1;32m    120\u001b[0m                 \u001b[0mweight_file\u001b[0m\u001b[0;34m,\u001b[0m\u001b[0;34m\u001b[0m\u001b[0;34m\u001b[0m\u001b[0m\n",
            "\u001b[0;32m/usr/local/lib/python3.10/dist-packages/allennlp/modules/elmo.py\u001b[0m in \u001b[0;36m__init__\u001b[0;34m(self, options_file, weight_file, requires_grad, vocab_to_cache)\u001b[0m\n\u001b[1;32m    508\u001b[0m         \u001b[0msuper\u001b[0m\u001b[0;34m(\u001b[0m\u001b[0;34m)\u001b[0m\u001b[0;34m.\u001b[0m\u001b[0m__init__\u001b[0m\u001b[0;34m(\u001b[0m\u001b[0;34m)\u001b[0m\u001b[0;34m\u001b[0m\u001b[0;34m\u001b[0m\u001b[0m\n\u001b[1;32m    509\u001b[0m \u001b[0;34m\u001b[0m\u001b[0m\n\u001b[0;32m--> 510\u001b[0;31m         self._token_embedder = _ElmoCharacterEncoder(\n\u001b[0m\u001b[1;32m    511\u001b[0m             \u001b[0moptions_file\u001b[0m\u001b[0;34m,\u001b[0m \u001b[0mweight_file\u001b[0m\u001b[0;34m,\u001b[0m \u001b[0mrequires_grad\u001b[0m\u001b[0;34m=\u001b[0m\u001b[0mrequires_grad\u001b[0m\u001b[0;34m\u001b[0m\u001b[0;34m\u001b[0m\u001b[0m\n\u001b[1;32m    512\u001b[0m         )\n",
            "\u001b[0;32m/usr/local/lib/python3.10/dist-packages/allennlp/modules/elmo.py\u001b[0m in \u001b[0;36m__init__\u001b[0;34m(self, options_file, weight_file, requires_grad)\u001b[0m\n\u001b[1;32m    294\u001b[0m         \u001b[0msuper\u001b[0m\u001b[0;34m(\u001b[0m\u001b[0;34m)\u001b[0m\u001b[0;34m.\u001b[0m\u001b[0m__init__\u001b[0m\u001b[0;34m(\u001b[0m\u001b[0;34m)\u001b[0m\u001b[0;34m\u001b[0m\u001b[0;34m\u001b[0m\u001b[0m\n\u001b[1;32m    295\u001b[0m \u001b[0;34m\u001b[0m\u001b[0m\n\u001b[0;32m--> 296\u001b[0;31m         \u001b[0;32mwith\u001b[0m \u001b[0mopen\u001b[0m\u001b[0;34m(\u001b[0m\u001b[0mcached_path\u001b[0m\u001b[0;34m(\u001b[0m\u001b[0moptions_file\u001b[0m\u001b[0;34m)\u001b[0m\u001b[0;34m,\u001b[0m \u001b[0;34m\"r\"\u001b[0m\u001b[0;34m)\u001b[0m \u001b[0;32mas\u001b[0m \u001b[0mfin\u001b[0m\u001b[0;34m:\u001b[0m\u001b[0;34m\u001b[0m\u001b[0;34m\u001b[0m\u001b[0m\n\u001b[0m\u001b[1;32m    297\u001b[0m             \u001b[0mself\u001b[0m\u001b[0;34m.\u001b[0m\u001b[0m_options\u001b[0m \u001b[0;34m=\u001b[0m \u001b[0mjson\u001b[0m\u001b[0;34m.\u001b[0m\u001b[0mload\u001b[0m\u001b[0;34m(\u001b[0m\u001b[0mfin\u001b[0m\u001b[0;34m)\u001b[0m\u001b[0;34m\u001b[0m\u001b[0;34m\u001b[0m\u001b[0m\n\u001b[1;32m    298\u001b[0m         \u001b[0mself\u001b[0m\u001b[0;34m.\u001b[0m\u001b[0m_weight_file\u001b[0m \u001b[0;34m=\u001b[0m \u001b[0mweight_file\u001b[0m\u001b[0;34m\u001b[0m\u001b[0;34m\u001b[0m\u001b[0m\n",
            "\u001b[0;32m/usr/local/lib/python3.10/dist-packages/allennlp/common/file_utils.py\u001b[0m in \u001b[0;36mcached_path\u001b[0;34m(url_or_filename, cache_dir, extract_archive, force_extract)\u001b[0m\n\u001b[1;32m    132\u001b[0m     \"\"\"\n\u001b[1;32m    133\u001b[0m     return str(\n\u001b[0;32m--> 134\u001b[0;31m         _cached_path.cached_path(\n\u001b[0m\u001b[1;32m    135\u001b[0m             \u001b[0murl_or_filename\u001b[0m\u001b[0;34m,\u001b[0m\u001b[0;34m\u001b[0m\u001b[0;34m\u001b[0m\u001b[0m\n\u001b[1;32m    136\u001b[0m             \u001b[0mcache_dir\u001b[0m\u001b[0;34m=\u001b[0m\u001b[0mcache_dir\u001b[0m \u001b[0;32mor\u001b[0m \u001b[0mCACHE_DIRECTORY\u001b[0m\u001b[0;34m,\u001b[0m\u001b[0;34m\u001b[0m\u001b[0;34m\u001b[0m\u001b[0m\n",
            "\u001b[0;32m/usr/local/lib/python3.10/dist-packages/cached_path/_cached_path.py\u001b[0m in \u001b[0;36mcached_path\u001b[0;34m(url_or_filename, cache_dir, extract_archive, force_extract, quiet, progress)\u001b[0m\n\u001b[1;32m    171\u001b[0m     \u001b[0;32mif\u001b[0m \u001b[0mparsed\u001b[0m\u001b[0;34m.\u001b[0m\u001b[0mscheme\u001b[0m \u001b[0;32min\u001b[0m \u001b[0mget_supported_schemes\u001b[0m\u001b[0;34m(\u001b[0m\u001b[0;34m)\u001b[0m\u001b[0;34m:\u001b[0m\u001b[0;34m\u001b[0m\u001b[0;34m\u001b[0m\u001b[0m\n\u001b[1;32m    172\u001b[0m         \u001b[0;31m# URL, so get it from the cache (downloading if necessary)\u001b[0m\u001b[0;34m\u001b[0m\u001b[0;34m\u001b[0m\u001b[0m\n\u001b[0;32m--> 173\u001b[0;31m         \u001b[0mfile_path\u001b[0m\u001b[0;34m,\u001b[0m \u001b[0metag\u001b[0m \u001b[0;34m=\u001b[0m \u001b[0mget_from_cache\u001b[0m\u001b[0;34m(\u001b[0m\u001b[0murl_or_filename\u001b[0m\u001b[0;34m,\u001b[0m \u001b[0mcache_dir\u001b[0m\u001b[0;34m,\u001b[0m \u001b[0mquiet\u001b[0m\u001b[0;34m=\u001b[0m\u001b[0mquiet\u001b[0m\u001b[0;34m,\u001b[0m \u001b[0mprogress\u001b[0m\u001b[0;34m=\u001b[0m\u001b[0mprogress\u001b[0m\u001b[0;34m)\u001b[0m\u001b[0;34m\u001b[0m\u001b[0;34m\u001b[0m\u001b[0m\n\u001b[0m\u001b[1;32m    174\u001b[0m \u001b[0;34m\u001b[0m\u001b[0m\n\u001b[1;32m    175\u001b[0m         \u001b[0;32mif\u001b[0m \u001b[0mextract_archive\u001b[0m \u001b[0;32mand\u001b[0m \u001b[0;34m(\u001b[0m\u001b[0mis_zipfile\u001b[0m\u001b[0;34m(\u001b[0m\u001b[0mfile_path\u001b[0m\u001b[0;34m)\u001b[0m \u001b[0;32mor\u001b[0m \u001b[0mtarfile\u001b[0m\u001b[0;34m.\u001b[0m\u001b[0mis_tarfile\u001b[0m\u001b[0;34m(\u001b[0m\u001b[0mfile_path\u001b[0m\u001b[0;34m)\u001b[0m\u001b[0;34m)\u001b[0m\u001b[0;34m:\u001b[0m\u001b[0;34m\u001b[0m\u001b[0;34m\u001b[0m\u001b[0m\n",
            "\u001b[0;32m/usr/local/lib/python3.10/dist-packages/cached_path/_cached_path.py\u001b[0m in \u001b[0;36mget_from_cache\u001b[0;34m(url, cache_dir, quiet, progress)\u001b[0m\n\u001b[1;32m    282\u001b[0m     \u001b[0;31m# Get eTag to add to filename, if it exists.\u001b[0m\u001b[0;34m\u001b[0m\u001b[0;34m\u001b[0m\u001b[0m\n\u001b[1;32m    283\u001b[0m     \u001b[0;32mtry\u001b[0m\u001b[0;34m:\u001b[0m\u001b[0;34m\u001b[0m\u001b[0;34m\u001b[0m\u001b[0m\n\u001b[0;32m--> 284\u001b[0;31m         \u001b[0metag\u001b[0m \u001b[0;34m=\u001b[0m \u001b[0mclient\u001b[0m\u001b[0;34m.\u001b[0m\u001b[0mget_etag\u001b[0m\u001b[0;34m(\u001b[0m\u001b[0;34m)\u001b[0m\u001b[0;34m\u001b[0m\u001b[0;34m\u001b[0m\u001b[0m\n\u001b[0m\u001b[1;32m    285\u001b[0m     \u001b[0;32mexcept\u001b[0m \u001b[0mclient\u001b[0m\u001b[0;34m.\u001b[0m\u001b[0mrecoverable_errors\u001b[0m\u001b[0;34m:\u001b[0m  \u001b[0;31m# type: ignore\u001b[0m\u001b[0;34m\u001b[0m\u001b[0;34m\u001b[0m\u001b[0m\n\u001b[1;32m    286\u001b[0m         \u001b[0;31m# We might be offline, in which case we don't want to throw an error\u001b[0m\u001b[0;34m\u001b[0m\u001b[0;34m\u001b[0m\u001b[0m\n",
            "\u001b[0;32m/usr/local/lib/python3.10/dist-packages/cached_path/schemes/http.py\u001b[0m in \u001b[0;36mget_etag\u001b[0;34m(self)\u001b[0m\n\u001b[1;32m     56\u001b[0m \u001b[0;34m\u001b[0m\u001b[0m\n\u001b[1;32m     57\u001b[0m     \u001b[0;32mdef\u001b[0m \u001b[0mget_etag\u001b[0m\u001b[0;34m(\u001b[0m\u001b[0mself\u001b[0m\u001b[0;34m)\u001b[0m \u001b[0;34m->\u001b[0m \u001b[0mOptional\u001b[0m\u001b[0;34m[\u001b[0m\u001b[0mstr\u001b[0m\u001b[0;34m]\u001b[0m\u001b[0;34m:\u001b[0m\u001b[0;34m\u001b[0m\u001b[0;34m\u001b[0m\u001b[0m\n\u001b[0;32m---> 58\u001b[0;31m         \u001b[0;32mreturn\u001b[0m \u001b[0mself\u001b[0m\u001b[0;34m.\u001b[0m\u001b[0mhead_response\u001b[0m\u001b[0;34m.\u001b[0m\u001b[0mheaders\u001b[0m\u001b[0;34m.\u001b[0m\u001b[0mget\u001b[0m\u001b[0;34m(\u001b[0m\u001b[0;34m\"ETag\"\u001b[0m\u001b[0;34m)\u001b[0m\u001b[0;34m\u001b[0m\u001b[0;34m\u001b[0m\u001b[0m\n\u001b[0m\u001b[1;32m     59\u001b[0m \u001b[0;34m\u001b[0m\u001b[0m\n\u001b[1;32m     60\u001b[0m     \u001b[0;32mdef\u001b[0m \u001b[0mget_size\u001b[0m\u001b[0;34m(\u001b[0m\u001b[0mself\u001b[0m\u001b[0;34m)\u001b[0m \u001b[0;34m->\u001b[0m \u001b[0mOptional\u001b[0m\u001b[0;34m[\u001b[0m\u001b[0mint\u001b[0m\u001b[0;34m]\u001b[0m\u001b[0;34m:\u001b[0m\u001b[0;34m\u001b[0m\u001b[0;34m\u001b[0m\u001b[0m\n",
            "\u001b[0;32m/usr/local/lib/python3.10/dist-packages/cached_path/schemes/http.py\u001b[0m in \u001b[0;36mhead_response\u001b[0;34m(self)\u001b[0m\n\u001b[1;32m     49\u001b[0m             \u001b[0;32mexcept\u001b[0m \u001b[0mMaxRetryError\u001b[0m \u001b[0;32mas\u001b[0m \u001b[0me\u001b[0m\u001b[0;34m:\u001b[0m\u001b[0;34m\u001b[0m\u001b[0;34m\u001b[0m\u001b[0m\n\u001b[1;32m     50\u001b[0m                 \u001b[0;32mraise\u001b[0m \u001b[0mRecoverableServerError\u001b[0m\u001b[0;34m(\u001b[0m\u001b[0me\u001b[0m\u001b[0;34m.\u001b[0m\u001b[0mreason\u001b[0m\u001b[0;34m)\u001b[0m\u001b[0;34m\u001b[0m\u001b[0;34m\u001b[0m\u001b[0m\n\u001b[0;32m---> 51\u001b[0;31m             \u001b[0mself\u001b[0m\u001b[0;34m.\u001b[0m\u001b[0mvalidate_response\u001b[0m\u001b[0;34m(\u001b[0m\u001b[0mresponse\u001b[0m\u001b[0;34m)\u001b[0m\u001b[0;34m\u001b[0m\u001b[0;34m\u001b[0m\u001b[0m\n\u001b[0m\u001b[1;32m     52\u001b[0m             \u001b[0mself\u001b[0m\u001b[0;34m.\u001b[0m\u001b[0m_head_response\u001b[0m \u001b[0;34m=\u001b[0m \u001b[0mresponse\u001b[0m\u001b[0;34m\u001b[0m\u001b[0;34m\u001b[0m\u001b[0m\n\u001b[1;32m     53\u001b[0m             \u001b[0;32mreturn\u001b[0m \u001b[0mself\u001b[0m\u001b[0;34m.\u001b[0m\u001b[0m_head_response\u001b[0m\u001b[0;34m\u001b[0m\u001b[0;34m\u001b[0m\u001b[0m\n",
            "\u001b[0;32m/usr/local/lib/python3.10/dist-packages/cached_path/schemes/http.py\u001b[0m in \u001b[0;36mvalidate_response\u001b[0;34m(self, response)\u001b[0m\n\u001b[1;32m     75\u001b[0m     \u001b[0;32mdef\u001b[0m \u001b[0mvalidate_response\u001b[0m\u001b[0;34m(\u001b[0m\u001b[0mself\u001b[0m\u001b[0;34m,\u001b[0m \u001b[0mresponse\u001b[0m\u001b[0;34m)\u001b[0m\u001b[0;34m:\u001b[0m\u001b[0;34m\u001b[0m\u001b[0;34m\u001b[0m\u001b[0m\n\u001b[1;32m     76\u001b[0m         \u001b[0;32mif\u001b[0m \u001b[0mresponse\u001b[0m\u001b[0;34m.\u001b[0m\u001b[0mstatus_code\u001b[0m \u001b[0;34m==\u001b[0m \u001b[0;36m404\u001b[0m\u001b[0;34m:\u001b[0m\u001b[0;34m\u001b[0m\u001b[0;34m\u001b[0m\u001b[0m\n\u001b[0;32m---> 77\u001b[0;31m             \u001b[0;32mraise\u001b[0m \u001b[0mFileNotFoundError\u001b[0m\u001b[0;34m(\u001b[0m\u001b[0mself\u001b[0m\u001b[0;34m.\u001b[0m\u001b[0mresource\u001b[0m\u001b[0;34m)\u001b[0m\u001b[0;34m\u001b[0m\u001b[0;34m\u001b[0m\u001b[0m\n\u001b[0m\u001b[1;32m     78\u001b[0m         \u001b[0;32mif\u001b[0m \u001b[0mresponse\u001b[0m\u001b[0;34m.\u001b[0m\u001b[0mstatus_code\u001b[0m \u001b[0;32min\u001b[0m \u001b[0mRECOVERABLE_SERVER_ERROR_CODES\u001b[0m\u001b[0;34m:\u001b[0m\u001b[0;34m\u001b[0m\u001b[0;34m\u001b[0m\u001b[0m\n\u001b[1;32m     79\u001b[0m             \u001b[0;32mraise\u001b[0m \u001b[0mRecoverableServerError\u001b[0m\u001b[0;34m(\u001b[0m\u001b[0mresponse\u001b[0m\u001b[0;34m=\u001b[0m\u001b[0mresponse\u001b[0m\u001b[0;34m)\u001b[0m\u001b[0;34m\u001b[0m\u001b[0;34m\u001b[0m\u001b[0m\n",
            "\u001b[0;31mFileNotFoundError\u001b[0m: https://storage.googleapis.com/allennlp-public-models/elmo_2x4096_512_2048cnn_2xhighway_options.json"
          ]
        }
      ],
      "source": [
        "import torch\n",
        "import numpy as np\n",
        "from allennlp.modules.elmo import Elmo, batch_to_ids\n",
        "\n",
        "# 1. Define ELMo options: These configuration files and weight files are from the AllenNLP repository.\n",
        "options_file = \"https://storage.googleapis.com/allennlp-public-models/elmo_2x4096_512_2048cnn_2xhighway_options.json\"\n",
        "weight_file  = \"https://storage.googleapis.com/allennlp-public-models/elmo_2x4096_512_2048cnn_2xhighway_weights.hdf5\"\n",
        "\n",
        "# Create the ELMo embedder\n",
        "elmo = Elmo(options_file, weight_file, num_output_representations=1, dropout=0)\n",
        "\n",
        "# 2. Prepare input text (tokenized)\n",
        "sentence_1 = [\"The\", \"king\", \"loves\", \"his\", \"queen\"]\n",
        "sentence_2 = [\"The\", \"cat\", \"sat\", \"on\", \"the\", \"mat\"]\n",
        "sentences = [sentence_1, sentence_2]\n",
        "\n",
        "# 3. Convert tokens to character IDs\n",
        "character_ids = batch_to_ids(sentences)  # shape: (batch_size, sentence_length, max_word_length)\n",
        "\n",
        "# 4. Get ELMo embeddings\n",
        "elmo_embeddings = elmo(character_ids)  # returns a dict with 'elmo_representations' & 'mask'\n",
        "# elmo_embeddings[\"elmo_representations\"][0] is of shape: (batch_size, sentence_length, embedding_dim=1024)\n",
        "\n",
        "# Extract the representation for each token in each sentence\n",
        "rep_1 = elmo_embeddings[\"elmo_representations\"][0][0]  # embedding for sentence_1\n",
        "rep_2 = elmo_embeddings[\"elmo_representations\"][0][1]  # embedding for sentence_2\n",
        "\n",
        "# 5. Let's compare the vector for \"king\" in sentence_1 to \"queen\" in sentence_1\n",
        "#    \"king\" is at index 1, \"queen\" is at index 4\n",
        "king_vector_elmo = rep_1[1].detach().numpy()\n",
        "queen_vector_elmo = rep_1[4].detach().numpy()\n",
        "\n",
        "# 6. Similarity check (cosine similarity)\n",
        "def cosine_similarity(vec_a, vec_b):\n",
        "    dot = np.dot(vec_a, vec_b)\n",
        "    norm_a = np.linalg.norm(vec_a)\n",
        "    norm_b = np.linalg.norm(vec_b)\n",
        "    return dot / (norm_a * norm_b)\n",
        "\n",
        "similarity_king_queen_elmo = cosine_similarity(king_vector_elmo, queen_vector_elmo)\n",
        "print(f\"ELMo Cosine Similarity ('king' vs 'queen'): {similarity_king_queen_elmo:.4f}\")\n",
        "\n",
        "# Similarly, you could compare word embeddings across different sentences\n",
        "# to gauge semantic relatedness in context.\n"
      ]
    },
    {
      "cell_type": "markdown",
      "metadata": {
        "id": "dhUC5YNbnRRW"
      },
      "source": [
        "## 5. How to Use Pre-Trained Embeddings\n",
        "\n",
        "The process of integrating pre-trained embeddings into your NLP pipeline typically looks like this:\n",
        "\n",
        "1. **Download the Pre-Trained Embeddings**: Obtain the embeddings (e.g., `word2vec.300d.txt`, `glove.840B.300d.txt`) or use a framework like `gensim` for Word2Vec and GloVe, or `torchtext` for PyTorch.  \n",
        "2. **Load the Embeddings**: Use libraries such as `gensim` (for Word2Vec, GloVe, FastText) or `transformers` (for BERT/GPT).  \n",
        "3. **Embed Your Text**:  \n",
        "   - For static embeddings (Word2Vec, GloVe, FastText): Convert each word or token to its corresponding embedding vector.  \n",
        "   - For contextual embeddings (ELMo, BERT, GPT): Pass entire sentences through the model, and extract the embeddings from the model’s hidden layers.  \n",
        "4. **Integrate into Your Model**: These embeddings become the input features for downstream tasks like classification, question answering, or entity recognition.  \n",
        "\n",
        "---\n",
        "\n",
        "   \n",
        "\n"
      ]
    },
    {
      "cell_type": "code",
      "execution_count": 8,
      "metadata": {
        "id": "c77C1NCHnf6y"
      },
      "outputs": [],
      "source": [
        "!pip install gensim torch --quiet"
      ]
    },
    {
      "cell_type": "code",
      "execution_count": 13,
      "metadata": {
        "id": "Ufs9U3r4n9Ga"
      },
      "outputs": [],
      "source": [
        "import gensim.downloader as api\n",
        "import numpy as np\n",
        "import torch\n",
        "import torch.nn as nn\n",
        "import torch.optim as optim\n",
        "from sklearn.model_selection import train_test_split\n",
        "from sklearn.metrics import accuracy_score\n",
        "import pandas as pd"
      ]
    },
    {
      "cell_type": "code",
      "execution_count": 2,
      "metadata": {
        "id": "vAiVlpzvn5tJ"
      },
      "outputs": [],
      "source": [
        "# Download Word2Vec embeddings trained on Google News\n",
        "w2v_model = api.load(\"word2vec-google-news-300\")"
      ]
    },
    {
      "cell_type": "code",
      "execution_count": 5,
      "metadata": {
        "id": "YGUVax1-n7ig"
      },
      "outputs": [],
      "source": [
        "# Provided Dataset is a list of text samples (site engineer notes) and their labels\n",
        "# Let's map the categories as follows:\n",
        "#   Critical -> 2\n",
        "#   Moderately Critical -> 1\n",
        "#   Non Critical -> 0\n",
        "\n",
        "url = \"https://raw.githubusercontent.com/anshupandey/Natural_language_Processing/refs/heads/master/Data/telecom_site_notes_classification.csv\"\n",
        "data = pd.read_csv(url)\n",
        "texts = data['text']\n",
        "labels = data['label']\n",
        "classes = ['Non Crticial','Moderately Critical','Critical']\n"
      ]
    },
    {
      "cell_type": "code",
      "execution_count": 6,
      "metadata": {
        "id": "5yeTeZmQoAUJ"
      },
      "outputs": [],
      "source": [
        "def text_to_embedding(text):\n",
        "    tokens = text.lower().split()\n",
        "    valid_tokens = [token for token in tokens if token in w2v_model]\n",
        "    if not valid_tokens:\n",
        "        # Fallback to a zero vector if no token is recognized\n",
        "        return np.zeros(300)\n",
        "    # Average word embeddings\n",
        "    return np.mean([w2v_model[token] for token in valid_tokens], axis=0)\n",
        "\n",
        "X = np.array([text_to_embedding(t) for t in texts])\n",
        "y = np.array(labels)\n"
      ]
    },
    {
      "cell_type": "code",
      "source": [
        "# Convert labels to one-hot encoding for 3 classes\n",
        "num_classes = 3\n",
        "y_onehot = np.zeros((len(y), num_classes))\n",
        "y_onehot[np.arange(len(y)), y] = 1\n",
        "\n",
        "# Split data\n",
        "X_train, X_test, y_train, y_test = train_test_split(X, y_onehot, test_size=0.2, random_state=42,stratify=y_onehot)\n"
      ],
      "metadata": {
        "id": "eKjh1yD72Jlr"
      },
      "execution_count": 21,
      "outputs": []
    },
    {
      "cell_type": "code",
      "execution_count": 22,
      "metadata": {
        "id": "WnxAq5AqoEoj"
      },
      "outputs": [],
      "source": [
        "# Define the model\n",
        "class Classifier(nn.Module):\n",
        "    def __init__(self, input_size, hidden_size, num_classes):\n",
        "        super(Classifier, self).__init__()\n",
        "        self.fc1 = nn.Linear(input_size, hidden_size)\n",
        "        self.relu = nn.ReLU()\n",
        "        self.fc2 = nn.Linear(hidden_size, num_classes)\n",
        "\n",
        "    def forward(self, x):\n",
        "        out = self.fc1(x)\n",
        "        out = self.relu(out)\n",
        "        out = self.fc2(out)\n",
        "        return out\n",
        "\n"
      ]
    },
    {
      "cell_type": "code",
      "execution_count": 23,
      "metadata": {
        "id": "mbKwi4VkoKmS"
      },
      "outputs": [],
      "source": [
        "# Initialize the model, loss function, and optimizer\n",
        "input_size = 300\n",
        "hidden_size = 128  # You can adjust this\n",
        "model = Classifier(input_size, hidden_size, num_classes)\n",
        "criterion = nn.CrossEntropyLoss()  # Use CrossEntropyLoss for multi-class\n",
        "optimizer = optim.Adam(model.parameters(), lr=0.001)\n"
      ]
    },
    {
      "cell_type": "code",
      "execution_count": 24,
      "metadata": {
        "colab": {
          "base_uri": "https://localhost:8080/"
        },
        "id": "3_2glo1toNJ_",
        "outputId": "e48dce24-21bb-4218-d7ee-87dafa3d3e7a"
      },
      "outputs": [
        {
          "output_type": "stream",
          "name": "stdout",
          "text": [
            "Epoch [10/100], Loss: 1.0386\n",
            "Epoch [20/100], Loss: 0.9405\n",
            "Epoch [30/100], Loss: 0.8081\n",
            "Epoch [40/100], Loss: 0.6533\n",
            "Epoch [50/100], Loss: 0.4978\n",
            "Epoch [60/100], Loss: 0.3621\n",
            "Epoch [70/100], Loss: 0.2565\n",
            "Epoch [80/100], Loss: 0.1808\n",
            "Epoch [90/100], Loss: 0.1291\n",
            "Epoch [100/100], Loss: 0.0946\n"
          ]
        }
      ],
      "source": [
        "# Training loop\n",
        "num_epochs = 100\n",
        "for epoch in range(num_epochs):\n",
        "  # Convert to tensors\n",
        "  inputs = torch.tensor(X_train, dtype=torch.float32)\n",
        "  labels = torch.tensor(np.argmax(y_train, axis=1), dtype=torch.long) # Use argmax for class indices\n",
        "\n",
        "  # Forward pass\n",
        "  outputs = model(inputs)\n",
        "  loss = criterion(outputs, labels)\n",
        "\n",
        "  # Backward and optimize\n",
        "  optimizer.zero_grad()\n",
        "  loss.backward()\n",
        "  optimizer.step()\n",
        "\n",
        "  if (epoch+1) % 10 == 0:\n",
        "    print(f'Epoch [{epoch+1}/{num_epochs}], Loss: {loss.item():.4f}')\n"
      ]
    },
    {
      "cell_type": "code",
      "source": [
        "from sklearn.metrics import confusion_matrix, classification_report\n",
        "import seaborn as sns\n",
        "import matplotlib.pyplot as plt\n",
        "\n",
        "# Evaluation (add confusion matrix and classification report)\n",
        "with torch.no_grad():\n",
        "    inputs = torch.tensor(X_test, dtype=torch.float32)\n",
        "    outputs = model(inputs)\n",
        "    _, predicted = torch.max(outputs, 1)\n",
        "    y_pred = predicted.numpy()\n",
        "    y_true = np.argmax(y_test, axis=1)\n",
        "    accuracy = accuracy_score(y_true, y_pred)\n",
        "    print(f'Accuracy: {accuracy:.4f}')\n",
        "\n",
        "    # Confusion Matrix\n",
        "    cm = confusion_matrix(y_true, y_pred)\n",
        "    plt.figure(figsize=(6, 4))\n",
        "    sns.heatmap(cm, annot=True, fmt=\"d\", cmap=\"Blues\",\n",
        "                xticklabels=classes, yticklabels=classes)\n",
        "    plt.xlabel(\"Predicted\")\n",
        "    plt.ylabel(\"True\")\n",
        "    plt.title(\"Confusion Matrix\")\n",
        "    plt.show()\n",
        "\n",
        "    # Classification Report\n",
        "    print(classification_report(y_true, y_pred, target_names=classes))"
      ],
      "metadata": {
        "colab": {
          "base_uri": "https://localhost:8080/",
          "height": 606
        },
        "id": "nVcI-vIE2qNy",
        "outputId": "34ed8275-628f-47ec-91bc-dcb0901abbb1"
      },
      "execution_count": 26,
      "outputs": [
        {
          "output_type": "stream",
          "name": "stdout",
          "text": [
            "Accuracy: 1.0000\n"
          ]
        },
        {
          "output_type": "display_data",
          "data": {
            "text/plain": [
              "<Figure size 600x400 with 2 Axes>"
            ],
            "image/png": "[encoded data removed]"
          },
          "metadata": {}
        },
        {
          "output_type": "stream",
          "name": "stdout",
          "text": [
            "                     precision    recall  f1-score   support\n",
            "\n",
            "       Non Crticial       1.00      1.00      1.00         2\n",
            "Moderately Critical       1.00      1.00      1.00         2\n",
            "           Critical       1.00      1.00      1.00         2\n",
            "\n",
            "           accuracy                           1.00         6\n",
            "          macro avg       1.00      1.00      1.00         6\n",
            "       weighted avg       1.00      1.00      1.00         6\n",
            "\n"
          ]
        }
      ]
    },
    {
      "cell_type": "markdown",
      "metadata": {
        "id": "IGe3ri2knVAH"
      },
      "source": [
        "## Conclusion\n",
        "\n",
        "**Transfer learning** with **pre-trained word embedding models** is a proven strategy for tackling a wide array of NLP tasks. By leveraging the linguistic knowledge captured in large-scale embeddings (whether static or contextual), you can drastically reduce training time and data requirements, often achieving higher accuracy.\n",
        "\n",
        "Whether you choose classic embeddings (Word2Vec, GloVe, FastText) or more advanced contextual models (ELMo, BERT, GPT), the principle remains the same: use pre-existing language understanding to give your task a jumpstart. As NLP continues to evolve, expect to see more specialized, powerful, and efficient models emerge, pushing the boundaries of what’s possible in text understanding and generation.\n",
        "\n",
        "**Happy coding, and may your embeddings capture all the right nuances!**\n",
        "\n",
        "---"
      ]
    },
    {
      "cell_type": "markdown",
      "metadata": {
        "id": "d9ysvPehmtcu"
      },
      "source": [
        "### Further Reading & Resources\n",
        "\n",
        "- [Word2Vec Paper](https://arxiv.org/abs/1301.3781)  \n",
        "- [GloVe Paper](https://nlp.stanford.edu/pubs/glove.pdf)  \n",
        "- [FastText](https://fasttext.cc/)  \n",
        "- [ELMo Paper](https://arxiv.org/abs/1802.05365)  \n",
        "- [BERT Paper](https://arxiv.org/abs/1810.04805)  \n",
        "- [Hugging Face Transformers](https://github.com/huggingface/transformers)  \n"
      ]
    },
    {
      "cell_type": "code",
      "execution_count": null,
      "metadata": {
        "id": "R_DOOKevmtsu"
      },
      "outputs": [],
      "source": []
    }
  ],
  "metadata": {
    "colab": {
      "provenance": [],
      "authorship_tag": "ABX9TyPtHb1zpj86LXCXr+f1QhM6",
      "include_colab_link": true
    },
    "kernelspec": {
      "display_name": "Python 3",
      "name": "python3"
    },
    "language_info": {
      "name": "python"
    }
  },
  "nbformat": 4,
  "nbformat_minor": 0
}