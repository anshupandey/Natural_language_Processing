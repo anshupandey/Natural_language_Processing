{
 "cells": [
  {
   "cell_type": "code",
   "execution_count": 1,
   "id": "d8de2b96",
   "metadata": {},
   "outputs": [],
   "source": [
    "import numpy as np\n",
    "import matplotlib.pyplot as plt"
   ]
  },
  {
   "cell_type": "code",
   "execution_count": 10,
   "id": "0a3ae560",
   "metadata": {
    "collapsed": true
   },
   "outputs": [
    {
     "data": {
      "text/plain": [
       "array([25, 20, 75, 53, 55, 45, 41, 27, 35, 46, 67, 13, 30, 63, 50, 41, 45,\n",
       "       95, 55, 26, 10, 47, 59, 88, 27, 17, 61, 70, 49, 81, 65, 74, 72, 91,\n",
       "       46, 40, 92, 37, 82, 25, 27, 43, 87, 16, 18, 39, 71, 68, 75, 51, 38,\n",
       "       71, 90, 90, 27, 36, 78, 16, 28, 83, 58, 25, 49, 10, 37, 81, 60, 73,\n",
       "       45, 91, 34, 20, 46, 71, 52, 48, 83, 84, 23, 69, 52, 93, 76, 74, 48,\n",
       "       46, 40, 88, 40, 55, 50, 69, 60, 13, 60, 40, 74, 14, 80, 85, 81, 95,\n",
       "       83, 46, 38, 51, 45, 37, 11, 34, 19, 31, 79, 14, 31, 91, 24, 98, 28,\n",
       "       71, 26, 93, 96, 36, 95, 53, 58, 33, 74, 51, 77, 24, 33, 62, 50, 32,\n",
       "       79, 52, 42, 29, 88, 74, 84, 48, 93, 84, 97, 44, 50, 44, 69, 33, 46,\n",
       "       19, 12, 38, 38, 15, 26, 94, 12, 83, 13, 30, 75, 49, 29, 27, 31, 27,\n",
       "       84, 37, 59, 60, 13, 85, 98, 97, 72, 54, 54, 90, 82, 69, 41, 75, 91,\n",
       "       93, 56, 94, 65, 79, 13, 42, 74, 79, 51, 37, 11, 18])"
      ]
     },
     "execution_count": 10,
     "metadata": {},
     "output_type": "execute_result"
    }
   ],
   "source": [
    "x = np.random.randint(10,100,200)\n",
    "x"
   ]
  },
  {
   "cell_type": "code",
   "execution_count": 11,
   "id": "c1050802",
   "metadata": {},
   "outputs": [
    {
     "data": {
      "text/plain": [
       "array([328, 478, 349, 412, 336, 308, 235, 316, 240, 264])"
      ]
     },
     "execution_count": 11,
     "metadata": {},
     "output_type": "execute_result"
    }
   ],
   "source": [
    "y = np.random.randint(200,500,10)\n",
    "y"
   ]
  },
  {
   "cell_type": "code",
   "execution_count": 12,
   "id": "3f904945",
   "metadata": {},
   "outputs": [
    {
     "data": {
      "text/plain": [
       "array([ 25,  20,  75,  53,  55,  45,  41,  27,  35,  46,  67,  13,  30,\n",
       "        63,  50,  41,  45,  95,  55,  26,  10,  47,  59,  88,  27,  17,\n",
       "        61,  70,  49,  81,  65,  74,  72,  91,  46,  40,  92,  37,  82,\n",
       "        25,  27,  43,  87,  16,  18,  39,  71,  68,  75,  51,  38,  71,\n",
       "        90,  90,  27,  36,  78,  16,  28,  83,  58,  25,  49,  10,  37,\n",
       "        81,  60,  73,  45,  91,  34,  20,  46,  71,  52,  48,  83,  84,\n",
       "        23,  69,  52,  93,  76,  74,  48,  46,  40,  88,  40,  55,  50,\n",
       "        69,  60,  13,  60,  40,  74,  14,  80,  85,  81,  95,  83,  46,\n",
       "        38,  51,  45,  37,  11,  34,  19,  31,  79,  14,  31,  91,  24,\n",
       "        98,  28,  71,  26,  93,  96,  36,  95,  53,  58,  33,  74,  51,\n",
       "        77,  24,  33,  62,  50,  32,  79,  52,  42,  29,  88,  74,  84,\n",
       "        48,  93,  84,  97,  44,  50,  44,  69,  33,  46,  19,  12,  38,\n",
       "        38,  15,  26,  94,  12,  83,  13,  30,  75,  49,  29,  27,  31,\n",
       "        27,  84,  37,  59,  60,  13,  85,  98,  97,  72,  54,  54,  90,\n",
       "        82,  69,  41,  75,  91,  93,  56,  94,  65,  79,  13,  42,  74,\n",
       "        79,  51,  37,  11,  18, 328, 478, 349, 412, 336, 308, 235, 316,\n",
       "       240, 264])"
      ]
     },
     "execution_count": 12,
     "metadata": {},
     "output_type": "execute_result"
    }
   ],
   "source": [
    "x = np.concatenate([x,y])\n",
    "x"
   ]
  },
  {
   "cell_type": "code",
   "execution_count": 15,
   "id": "665424c7",
   "metadata": {},
   "outputs": [],
   "source": [
    "import seaborn as sns"
   ]
  },
  {
   "cell_type": "code",
   "execution_count": 16,
   "id": "00cf0f04",
   "metadata": {},
   "outputs": [
    {
     "name": "stderr",
     "output_type": "stream",
     "text": [
      "C:\\Users\\anshu\\anaconda3\\lib\\site-packages\\seaborn\\distributions.py:2557: FutureWarning: `distplot` is a deprecated function and will be removed in a future version. Please adapt your code to use either `displot` (a figure-level function with similar flexibility) or `histplot` (an axes-level function for histograms).\n",
      "  warnings.warn(msg, FutureWarning)\n"
     ]
    },
    {
     "data": {
      "image/png": "[encoded data removed]",
      "text/plain": [
       "<Figure size 432x288 with 1 Axes>"
      ]
     },
     "metadata": {
      "needs_background": "light"
     },
     "output_type": "display_data"
    }
   ],
   "source": [
    "sns.distplot(x)\n",
    "plt.show()"
   ]
  },
  {
   "cell_type": "code",
   "execution_count": 17,
   "id": "bef3e9fb",
   "metadata": {},
   "outputs": [
    {
     "name": "stderr",
     "output_type": "stream",
     "text": [
      "C:\\Users\\anshu\\anaconda3\\lib\\site-packages\\seaborn\\distributions.py:2557: FutureWarning: `distplot` is a deprecated function and will be removed in a future version. Please adapt your code to use either `displot` (a figure-level function with similar flexibility) or `histplot` (an axes-level function for histograms).\n",
      "  warnings.warn(msg, FutureWarning)\n"
     ]
    },
    {
     "data": {
      "image/png": "[encoded data removed]",
      "text/plain": [
       "<Figure size 432x288 with 1 Axes>"
      ]
     },
     "metadata": {
      "needs_background": "light"
     },
     "output_type": "display_data"
    }
   ],
   "source": [
    "xx = np.log10(x)\n",
    "sns.distplot(xx)\n",
    "plt.show()"
   ]
  },
  {
   "cell_type": "code",
   "execution_count": null,
   "id": "4fef1150",
   "metadata": {},
   "outputs": [],
   "source": []
  },
  {
   "cell_type": "code",
   "execution_count": null,
   "id": "214e4046",
   "metadata": {},
   "outputs": [],
   "source": []
  }
 ],
 "metadata": {
  "kernelspec": {
   "display_name": "Python 3",
   "language": "python",
   "name": "python3"
  },
  "language_info": {
   "codemirror_mode": {
    "name": "ipython",
    "version": 3
   },
   "file_extension": ".py",
   "mimetype": "text/x-python",
   "name": "python",
   "nbconvert_exporter": "python",
   "pygments_lexer": "ipython3",
   "version": "3.8.8"
  }
 },
 "nbformat": 4,
 "nbformat_minor": 5
}
