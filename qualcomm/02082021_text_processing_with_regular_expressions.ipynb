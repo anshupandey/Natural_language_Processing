{
 "cells": [
  {
   "cell_type": "markdown",
   "id": "5066b26a",
   "metadata": {},
   "source": [
    "# Text Processing with REGEX\n",
    "    - information extraction\n",
    "    - information masking(hiding)\n",
    "    - text cleaning"
   ]
  },
  {
   "cell_type": "markdown",
   "id": "1b1ae4f2",
   "metadata": {},
   "source": [
    "    {} = size of the token\n",
    "    [] = scope of the token\n",
    "    () = grouping\n",
    "    [a-z] = anything between a to z\n",
    "    [A-Z] = anything between A to Z\n",
    "    [0-9] = anything between 0 to 9 - \\d\n",
    "    \\D = anything which is not between 0 to 9\n",
    "    "
   ]
  },
  {
   "cell_type": "code",
   "execution_count": 1,
   "id": "63e2f5de",
   "metadata": {},
   "outputs": [],
   "source": [
    "import re"
   ]
  },
  {
   "cell_type": "code",
   "execution_count": 14,
   "id": "539f0bf3",
   "metadata": {},
   "outputs": [
    {
     "data": {
      "text/plain": [
       "['9898989898', '7878787878']"
      ]
     },
     "execution_count": 14,
     "metadata": {},
     "output_type": "execute_result"
    }
   ],
   "source": [
    "data = \"My mobile number is 9898989898 and his number is 7878787878 what is yours?\"\n",
    "pattern = \"[0-9]{10}\"\n",
    "re.findall(pattern,data)"
   ]
  },
  {
   "cell_type": "code",
   "execution_count": 24,
   "id": "3babec5c",
   "metadata": {},
   "outputs": [
    {
     "data": {
      "text/plain": [
       "['s 9898', '989898', 's 7878', '787878']"
      ]
     },
     "execution_count": 24,
     "metadata": {},
     "output_type": "execute_result"
    }
   ],
   "source": [
    "pattern = \"[^a-o]{6}\"\n",
    "re.findall(pattern,data)"
   ]
  },
  {
   "cell_type": "code",
   "execution_count": 3,
   "id": "d6bd6c31",
   "metadata": {},
   "outputs": [
    {
     "data": {
      "text/plain": [
       "'My mobile number is *********** and his number is *********** what is yours?'"
      ]
     },
     "execution_count": 3,
     "metadata": {},
     "output_type": "execute_result"
    }
   ],
   "source": [
    "re.sub(pattern,\"***********\",data)"
   ]
  },
  {
   "cell_type": "code",
   "execution_count": 4,
   "id": "ad22f3f1",
   "metadata": {},
   "outputs": [
    {
     "data": {
      "text/plain": [
       "'My mobile number is  and his number is  what is yours?'"
      ]
     },
     "execution_count": 4,
     "metadata": {},
     "output_type": "execute_result"
    }
   ],
   "source": [
    "re.sub(pattern,\"\",data)"
   ]
  },
  {
   "cell_type": "code",
   "execution_count": 26,
   "id": "72e839f6",
   "metadata": {},
   "outputs": [],
   "source": [
    "data = \"\"\"my birthday is on 30-02-1990 and your birthday is on 31-06-1980 and his birthday is on 25-5-2000 and his\n",
    "friends birthday is 12/12/1912 thank you. please drop an email at mybday@mycompany.com and keep manager@gmail.com in cc and also include\n",
    "the email my123_companymanager@abccompany.com along with it. thanks\"\"\""
   ]
  },
  {
   "cell_type": "code",
   "execution_count": 8,
   "id": "13db2976",
   "metadata": {},
   "outputs": [
    {
     "data": {
      "text/plain": [
       "['30-02-1990', '31-06-1980']"
      ]
     },
     "execution_count": 8,
     "metadata": {},
     "output_type": "execute_result"
    }
   ],
   "source": [
    "pattern = \"[0-9]{2}-[0-9]{2}-[0-9]{4}\"\n",
    "re.findall(pattern,data)"
   ]
  },
  {
   "cell_type": "code",
   "execution_count": 9,
   "id": "015aaae9",
   "metadata": {},
   "outputs": [
    {
     "data": {
      "text/plain": [
       "['30-02-1990', '31-06-1980', '25-5-2000']"
      ]
     },
     "execution_count": 9,
     "metadata": {},
     "output_type": "execute_result"
    }
   ],
   "source": [
    "pattern = \"[0-9]{1,2}-[0-9]{1,2}-[0-9]{4}\"\n",
    "re.findall(pattern,data)"
   ]
  },
  {
   "cell_type": "code",
   "execution_count": 10,
   "id": "1d8a9797",
   "metadata": {},
   "outputs": [
    {
     "data": {
      "text/plain": [
       "['30-02-1990', '31-06-1980', '25-5-2000', '12/12/1912']"
      ]
     },
     "execution_count": 10,
     "metadata": {},
     "output_type": "execute_result"
    }
   ],
   "source": [
    "pattern = \"[0-9]{1,2}-[0-9]{1,2}-[0-9]{4}|[0-9]{1,2}/[0-9]{1,2}/[0-9]{4}\"\n",
    "re.findall(pattern,data)"
   ]
  },
  {
   "cell_type": "code",
   "execution_count": 11,
   "id": "a8aa35e9",
   "metadata": {},
   "outputs": [
    {
     "data": {
      "text/plain": [
       "['30-02-1990', '31-06-1980', '25-5-2000', '12/12/1912']"
      ]
     },
     "execution_count": 11,
     "metadata": {},
     "output_type": "execute_result"
    }
   ],
   "source": [
    "pattern = \"[0-9]{1,2}-[0-9]{1,2}-[0-9]{4}\"\n",
    "pattern = pattern + \"|[0-9]{1,2}/[0-9]{1,2}/[0-9]{4}\"\n",
    "re.findall(pattern,data)"
   ]
  },
  {
   "cell_type": "code",
   "execution_count": 27,
   "id": "c2f4187d",
   "metadata": {},
   "outputs": [
    {
     "data": {
      "text/plain": [
       "['30-02-1990', '31-06-1980', '25-5-2000', '12/12/1912']"
      ]
     },
     "execution_count": 27,
     "metadata": {},
     "output_type": "execute_result"
    }
   ],
   "source": [
    "pattern = \"[0-9]{1,2}[-/][0-9]{1,2}[-/][0-9]{4}\"\n",
    "re.findall(pattern,data)"
   ]
  },
  {
   "cell_type": "code",
   "execution_count": 28,
   "id": "718b15cb",
   "metadata": {},
   "outputs": [
    {
     "data": {
      "text/plain": [
       "['mybday@mycompany.com',\n",
       " 'manager@gmail.com',\n",
       " 'my123_companymanager@abccompany.com']"
      ]
     },
     "execution_count": 28,
     "metadata": {},
     "output_type": "execute_result"
    }
   ],
   "source": [
    "pattern = \"[a-zA-Z0-9._]+@[a-zA-Z0-9._]+\"\n",
    "re.findall(pattern,data)"
   ]
  },
  {
   "cell_type": "code",
   "execution_count": 32,
   "id": "d00a7524",
   "metadata": {},
   "outputs": [
    {
     "data": {
      "text/plain": [
       "['mybday@mycompany.com',\n",
       " 'manager@gmail.com',\n",
       " 'my123_companymanager@abccompany.com']"
      ]
     },
     "execution_count": 32,
     "metadata": {},
     "output_type": "execute_result"
    }
   ],
   "source": [
    "# \\w = [a-zA-Z0-9_]\n",
    "pattern = \"[\\w.]+@[\\w.]+\"\n",
    "re.findall(pattern,data)"
   ]
  },
  {
   "cell_type": "markdown",
   "id": "275aab96",
   "metadata": {},
   "source": [
    "## grouping\n",
    "    () = TO CREATE A group\n",
    "    <> = to name a group"
   ]
  },
  {
   "cell_type": "code",
   "execution_count": 34,
   "id": "eed96e0d",
   "metadata": {},
   "outputs": [
    {
     "data": {
      "text/plain": [
       "<re.Match object; span=(15, 40), match='anshu@mycompany_india.com'>"
      ]
     },
     "execution_count": 34,
     "metadata": {},
     "output_type": "execute_result"
    }
   ],
   "source": [
    "data = \"my email id is anshu@mycompany_india.com what is yours?\"\n",
    "pattern = \"[\\w.]+@[\\w.]+\"\n",
    "re.search(pattern,data)"
   ]
  },
  {
   "cell_type": "code",
   "execution_count": 35,
   "id": "a43fae3d",
   "metadata": {},
   "outputs": [
    {
     "data": {
      "text/plain": [
       "'anshu@mycompany_india.com'"
      ]
     },
     "execution_count": 35,
     "metadata": {},
     "output_type": "execute_result"
    }
   ],
   "source": [
    "match = re.search(pattern,data)\n",
    "match.group()"
   ]
  },
  {
   "cell_type": "code",
   "execution_count": 39,
   "id": "c98c75d5",
   "metadata": {},
   "outputs": [
    {
     "name": "stdout",
     "output_type": "stream",
     "text": [
      "anshu@mycompany_india.com\n",
      "anshu\n",
      "mycompany_india.com\n"
     ]
    }
   ],
   "source": [
    "pattern = \"([\\w.]+)@([\\w.]+)\"\n",
    "match = re.search(pattern,data)\n",
    "print(match.group(0))\n",
    "print(match.group(1))\n",
    "print(match.group(2))"
   ]
  },
  {
   "cell_type": "code",
   "execution_count": 40,
   "id": "219ac9fc",
   "metadata": {
    "scrolled": true
   },
   "outputs": [
    {
     "name": "stdout",
     "output_type": "stream",
     "text": [
      "anshu\n",
      "mycompany_india.com\n"
     ]
    }
   ],
   "source": [
    "pattern = \"(?P<username>[\\w.]+)@(?P<hostname>[\\w.]+)\"\n",
    "match = re.search(pattern,data)\n",
    "print(match.group(\"username\"))\n",
    "print(match.group(\"hostname\"))"
   ]
  },
  {
   "cell_type": "code",
   "execution_count": 65,
   "id": "bdc6ff03",
   "metadata": {},
   "outputs": [],
   "source": [
    "data = \"\"\"my birthday is on 30-02-1990 and your birthday is on 31-06-1980 and his birthday is on 25-5-2000 and his\n",
    "friends birthday is 12/12/1912 thank you. please drop an email at mybday@mycompany.com and keep manager@gmail.com in cc and also include\n",
    "the email my123_companymanager@abccompany.com along with it. thanks\"\"\""
   ]
  },
  {
   "cell_type": "code",
   "execution_count": 69,
   "id": "70f303a9",
   "metadata": {},
   "outputs": [],
   "source": [
    "d = re.finditer(pattern,data)"
   ]
  },
  {
   "cell_type": "code",
   "execution_count": 70,
   "id": "55f44726",
   "metadata": {},
   "outputs": [
    {
     "name": "stdout",
     "output_type": "stream",
     "text": [
      "mybday mycompany.com\n",
      "manager gmail.com\n",
      "my123_companymanager abccompany.com\n"
     ]
    }
   ],
   "source": [
    "for token in list(d):\n",
    "    print(token.group('username'),token.group(\"hostname\"))"
   ]
  },
  {
   "cell_type": "code",
   "execution_count": 71,
   "id": "c5e80c1a",
   "metadata": {},
   "outputs": [
    {
     "name": "stdout",
     "output_type": "stream",
     "text": [
      "2021\n",
      "2033\n"
     ]
    }
   ],
   "source": [
    "pattern = \"(?P<Date>[0-9]{1,2})[-/](?P<Month>[0-9]{1,2})[-/](?P<Year>[0-9]{4})\"\n",
    "data = \" date is 12-12-2021 and 01/01/2033\"\n",
    "match  = re.finditer(pattern,data)\n",
    "#print(match.group(\"Date\"))\n",
    "for i in match:\n",
    "    print(i[\"Year\"])"
   ]
  },
  {
   "cell_type": "code",
   "execution_count": null,
   "id": "41520eb6",
   "metadata": {},
   "outputs": [],
   "source": []
  }
 ],
 "metadata": {
  "kernelspec": {
   "display_name": "Python 3",
   "language": "python",
   "name": "python3"
  },
  "language_info": {
   "codemirror_mode": {
    "name": "ipython",
    "version": 3
   },
   "file_extension": ".py",
   "mimetype": "text/x-python",
   "name": "python",
   "nbconvert_exporter": "python",
   "pygments_lexer": "ipython3",
   "version": "3.8.8"
  }
 },
 "nbformat": 4,
 "nbformat_minor": 5
}
