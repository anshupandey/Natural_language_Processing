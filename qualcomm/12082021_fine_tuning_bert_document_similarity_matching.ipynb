{
  "nbformat": 4,
  "nbformat_minor": 0,
  "metadata": {
    "accelerator": "GPU",
    "colab": {
      "name": "fine_tuning_bert_document_similarity_matching.ipynb",
      "private_outputs": true,
      "provenance": [],
      "collapsed_sections": []
    },
    "kernelspec": {
      "display_name": "Python 3",
      "name": "python3"
    },
    "language_info": {
      "codemirror_mode": {
        "name": "ipython",
        "version": 3
      },
      "file_extension": ".py",
      "mimetype": "text/x-python",
      "name": "python",
      "nbconvert_exporter": "python",
      "pygments_lexer": "ipython3",
      "version": "3.6.9"
    }
  },
  "cells": [
    {
      "cell_type": "markdown",
      "metadata": {
        "id": "1mLJmVotXs64"
      },
      "source": [
        "# Fine-tuning a BERT model"
      ]
    },
    {
      "cell_type": "markdown",
      "metadata": {
        "id": "YN2ACivEPxgD"
      },
      "source": [
        "In this example, we will work through fine-tuning a BERT model using the tensorflow-models PIP package.\n",
        "\n"
      ]
    },
    {
      "cell_type": "markdown",
      "metadata": {
        "id": "UcVtIg1uP4Bt"
      },
      "source": [
        "# Steps\n",
        "\n",
        "\n",
        "1.   Install the official tensorflow model garden - where BERT functionalities are present.\n",
        "2.   loading the folder where pretrained BERT model is present\n",
        "  - \n",
        "3.   load the dataset - objective - develop a model to predict whether two docs are similar or not - 1 or 0 - two class classification problem\n",
        "4.   TOkenization using BERT tokenizer\n",
        "5. preprocessing of data for the task\n",
        "    - prepared x in format - [CLS] sent1 [SEP] sent2 [SEP] [pad] [pad] ...\n",
        "    - y in integer format  = 0 or 1\n",
        "6. prepared input_data_mask = whether the word in x is actual data or not (pad,sep,cls)\n",
        "7. prepared input_data_type = whether the word is present is CLS = 0, sent1 =1, sent = 2\n",
        "8. loading the BERT model configuration, creating a BERT classifier\n",
        "9. load the weights of pretrained model from checkpoint for the current model\n",
        "10. configuration - setup the optmizier, loss, metrics\n",
        "11. train the model\n",
        "\n"
      ]
    },
    {
      "cell_type": "markdown",
      "metadata": {
        "id": "s2d9S2CSSO1z"
      },
      "source": [
        "## Setup"
      ]
    },
    {
      "cell_type": "markdown",
      "metadata": {
        "id": "KNwrurWMP3UK"
      },
      "source": [
        ""
      ]
    },
    {
      "cell_type": "markdown",
      "metadata": {
        "id": "fsACVQpVSifi"
      },
      "source": [
        "### Install the TensorFlow Model Garden pip package\n",
        "\n",
        "*  `tf-models-official` is the stable Model Garden package. Note that it may not include the latest changes in the `tensorflow_models` github repo. To include latest changes, you may install `tf-models-nightly`,\n",
        "which is the nightly Model Garden package created daily automatically.\n",
        "*  pip will install all models and dependencies automatically."
      ]
    },
    {
      "cell_type": "code",
      "metadata": {
        "execution": {
          "iopub.execute_input": "2021-03-11T18:39:15.180695Z",
          "iopub.status.busy": "2021-03-11T18:39:15.180092Z",
          "iopub.status.idle": "2021-03-11T18:39:23.400855Z",
          "shell.execute_reply": "2021-03-11T18:39:23.400207Z"
        },
        "id": "NvNr2svBM-p3"
      },
      "source": [
        "!pip install -q tf-models-official==2.4.0"
      ],
      "execution_count": null,
      "outputs": []
    },
    {
      "cell_type": "markdown",
      "metadata": {
        "id": "U-7qPCjWUAyy"
      },
      "source": [
        "### Imports"
      ]
    },
    {
      "cell_type": "code",
      "metadata": {
        "execution": {
          "iopub.execute_input": "2021-03-11T18:39:23.407763Z",
          "iopub.status.busy": "2021-03-11T18:39:23.407130Z",
          "iopub.status.idle": "2021-03-11T18:39:30.228357Z",
          "shell.execute_reply": "2021-03-11T18:39:30.227802Z"
        },
        "id": "lXsXev5MNr20"
      },
      "source": [
        "import os\n",
        "\n",
        "import numpy as np\n",
        "import matplotlib.pyplot as plt\n",
        "\n",
        "import tensorflow as tf\n",
        "\n",
        "import tensorflow_hub as hub\n",
        "import tensorflow_datasets as tfds\n",
        "tfds.disable_progress_bar()\n",
        "\n",
        "from official.modeling import tf_utils\n",
        "from official import nlp\n",
        "from official.nlp import bert\n",
        "\n",
        "# Load the required submodules\n",
        "import official.nlp.optimization\n",
        "import official.nlp.bert.bert_models\n",
        "import official.nlp.bert.configs\n",
        "import official.nlp.bert.run_classifier\n",
        "import official.nlp.bert.tokenization\n",
        "import official.nlp.data.classifier_data_lib\n",
        "import official.nlp.modeling.losses\n",
        "import official.nlp.modeling.models\n",
        "import official.nlp.modeling.networks\n"
      ],
      "execution_count": null,
      "outputs": []
    },
    {
      "cell_type": "markdown",
      "metadata": {
        "id": "mbanlzTvJBsz"
      },
      "source": [
        "### Resources"
      ]
    },
    {
      "cell_type": "markdown",
      "metadata": {
        "id": "PpW0x8TpR8DT"
      },
      "source": [
        "This directory contains the configuration, vocabulary, and a pre-trained checkpoint used in this tutorial:"
      ]
    },
    {
      "cell_type": "code",
      "metadata": {
        "execution": {
          "iopub.execute_input": "2021-03-11T18:39:30.233157Z",
          "iopub.status.busy": "2021-03-11T18:39:30.232543Z",
          "iopub.status.idle": "2021-03-11T18:39:30.647287Z",
          "shell.execute_reply": "2021-03-11T18:39:30.647713Z"
        },
        "id": "vzRHOLciR8eq"
      },
      "source": [
        "gs_folder_bert = \"gs://cloud-tpu-checkpoints/bert/v3/uncased_L-12_H-768_A-12\"\n",
        "tf.io.gfile.listdir(gs_folder_bert)"
      ],
      "execution_count": null,
      "outputs": []
    },
    {
      "cell_type": "markdown",
      "metadata": {
        "id": "9uFskufsR2LT"
      },
      "source": [
        "You can get a pre-trained BERT encoder from [TensorFlow Hub](https://tfhub.dev/tensorflow/bert_en_uncased_L-12_H-768_A-12/2):"
      ]
    },
    {
      "cell_type": "code",
      "metadata": {
        "execution": {
          "iopub.execute_input": "2021-03-11T18:39:30.652098Z",
          "iopub.status.busy": "2021-03-11T18:39:30.651442Z",
          "iopub.status.idle": "2021-03-11T18:39:30.653265Z",
          "shell.execute_reply": "2021-03-11T18:39:30.653628Z"
        },
        "id": "e0dAkUttJAzj"
      },
      "source": [
        "hub_url_bert = \"https://tfhub.dev/tensorflow/bert_en_uncased_L-12_H-768_A-12/3\""
      ],
      "execution_count": null,
      "outputs": []
    },
    {
      "cell_type": "markdown",
      "metadata": {
        "id": "Qv6abtRvH4xO"
      },
      "source": [
        "## The data\n",
        "For this example we used the [GLUE MRPC dataset from TFDS](https://www.tensorflow.org/datasets/catalog/glue#gluemrpc).\n",
        "\n",
        "This dataset is not set up so that it can be directly fed into the BERT model, so this section also handles the necessary preprocessing."
      ]
    },
    {
      "cell_type": "markdown",
      "metadata": {
        "id": "28DvUhC1YUiB"
      },
      "source": [
        "### Get the dataset from TensorFlow Datasets\n",
        "\n",
        "The Microsoft Research Paraphrase Corpus (Dolan & Brockett, 2005) is a corpus of sentence pairs automatically extracted from online news sources, with human annotations for whether the sentences in the pair are semantically equivalent.\n",
        "\n",
        "*   Number of labels: 2.\n",
        "*   Size of training dataset: 3668.\n",
        "*   Size of evaluation dataset: 408.\n",
        "*   Maximum sequence length of training and evaluation dataset: 128.\n"
      ]
    },
    {
      "cell_type": "code",
      "metadata": {
        "execution": {
          "iopub.execute_input": "2021-03-11T18:39:30.658023Z",
          "iopub.status.busy": "2021-03-11T18:39:30.657436Z",
          "iopub.status.idle": "2021-03-11T18:39:37.786231Z",
          "shell.execute_reply": "2021-03-11T18:39:37.785625Z"
        },
        "id": "Ijikx5OsH9AT"
      },
      "source": [
        "glue, info = tfds.load('glue/mrpc', with_info=True,\n",
        "                       # It's small, load the whole dataset\n",
        "                       batch_size=-1)"
      ],
      "execution_count": null,
      "outputs": []
    },
    {
      "cell_type": "code",
      "metadata": {
        "execution": {
          "iopub.execute_input": "2021-03-11T18:39:37.791150Z",
          "iopub.status.busy": "2021-03-11T18:39:37.790496Z",
          "iopub.status.idle": "2021-03-11T18:39:37.793079Z",
          "shell.execute_reply": "2021-03-11T18:39:37.793454Z"
        },
        "id": "xf9zz4vLYXjr"
      },
      "source": [
        "list(glue.keys())"
      ],
      "execution_count": null,
      "outputs": []
    },
    {
      "cell_type": "markdown",
      "metadata": {
        "id": "ZgBg2r2nYT-K"
      },
      "source": [
        "The `info` object describes the dataset and it's features:"
      ]
    },
    {
      "cell_type": "code",
      "metadata": {
        "execution": {
          "iopub.execute_input": "2021-03-11T18:39:37.799433Z",
          "iopub.status.busy": "2021-03-11T18:39:37.798802Z",
          "iopub.status.idle": "2021-03-11T18:39:37.801566Z",
          "shell.execute_reply": "2021-03-11T18:39:37.801973Z"
        },
        "id": "IQrHxv7W7jH5"
      },
      "source": [
        "info.features"
      ],
      "execution_count": null,
      "outputs": []
    },
    {
      "cell_type": "code",
      "metadata": {
        "id": "PMhyCLHWE6oc"
      },
      "source": [
        "for i in range(5):\n",
        "  print(\"Sentence 1 \",glue['train']['sentence1'][i])\n",
        "  print(\"Sentence 2 \",glue['train']['sentence2'][i])\n",
        "  print(\"Label \",glue['train']['label'][i])\n",
        "  print(\"*****************************************************\\n\")"
      ],
      "execution_count": null,
      "outputs": []
    },
    {
      "cell_type": "markdown",
      "metadata": {
        "id": "vhsVWYNxazz5"
      },
      "source": [
        "The two classes are:"
      ]
    },
    {
      "cell_type": "code",
      "metadata": {
        "execution": {
          "iopub.execute_input": "2021-03-11T18:39:37.806415Z",
          "iopub.status.busy": "2021-03-11T18:39:37.805801Z",
          "iopub.status.idle": "2021-03-11T18:39:37.808936Z",
          "shell.execute_reply": "2021-03-11T18:39:37.808457Z"
        },
        "id": "n0gfc_VTayfQ"
      },
      "source": [
        "info.features['label'].names"
      ],
      "execution_count": null,
      "outputs": []
    },
    {
      "cell_type": "markdown",
      "metadata": {
        "id": "38zJcap6xkbC"
      },
      "source": [
        "Here is one example from the training set:"
      ]
    },
    {
      "cell_type": "code",
      "metadata": {
        "execution": {
          "iopub.execute_input": "2021-03-11T18:39:37.813736Z",
          "iopub.status.busy": "2021-03-11T18:39:37.813109Z",
          "iopub.status.idle": "2021-03-11T18:39:38.121187Z",
          "shell.execute_reply": "2021-03-11T18:39:38.120568Z"
        },
        "id": "xON_i6SkwApW"
      },
      "source": [
        "glue_train = glue['train']\n",
        "\n",
        "for key, value in glue_train.items():\n",
        "  print(f\"{key:9s}: {value[0].numpy()}\")"
      ],
      "execution_count": null,
      "outputs": []
    },
    {
      "cell_type": "markdown",
      "metadata": {
        "id": "9fbTyfJpNr7x"
      },
      "source": [
        "### The BERT tokenizer"
      ]
    },
    {
      "cell_type": "markdown",
      "metadata": {
        "id": "wqeN54S61ZKQ"
      },
      "source": [
        "To fine tune a pre-trained model you need to be sure that you're using exactly the same tokenization, vocabulary, and index mapping as you used during training.\n",
        "\n",
        "The BERT tokenizer used in this tutorial is written in pure Python (It's not built out of TensorFlow ops). So you can't just plug it into your model as a `keras.layer` like you can with `preprocessing.TextVectorization`.\n",
        "\n",
        "The following code rebuilds the tokenizer that was used by the base model:"
      ]
    },
    {
      "cell_type": "code",
      "metadata": {
        "execution": {
          "iopub.execute_input": "2021-03-11T18:39:38.126238Z",
          "iopub.status.busy": "2021-03-11T18:39:38.125599Z",
          "iopub.status.idle": "2021-03-11T18:39:38.834586Z",
          "shell.execute_reply": "2021-03-11T18:39:38.834972Z"
        },
        "id": "idxyhmrCQcw5"
      },
      "source": [
        "# Set up tokenizer to generate Tensorflow dataset\n",
        "tokenizer = bert.tokenization.FullTokenizer(\n",
        "    vocab_file=os.path.join(gs_folder_bert, \"vocab.txt\"),\n",
        "     do_lower_case=True)\n",
        "\n",
        "print(\"Vocab size:\", len(tokenizer.vocab))"
      ],
      "execution_count": null,
      "outputs": []
    },
    {
      "cell_type": "markdown",
      "metadata": {
        "id": "zYHDSquU2lDU"
      },
      "source": [
        "Tokenize a sentence:"
      ]
    },
    {
      "cell_type": "code",
      "metadata": {
        "execution": {
          "iopub.execute_input": "2021-03-11T18:39:38.840094Z",
          "iopub.status.busy": "2021-03-11T18:39:38.839441Z",
          "iopub.status.idle": "2021-03-11T18:39:38.841828Z",
          "shell.execute_reply": "2021-03-11T18:39:38.842252Z"
        },
        "id": "L_OfOYPg853R"
      },
      "source": [
        "tokens = tokenizer.tokenize(\"Hello TensorFlow! how are you? i am python\")\n",
        "print(tokens)\n",
        "ids = tokenizer.convert_tokens_to_ids(tokens)\n",
        "print(ids)"
      ],
      "execution_count": null,
      "outputs": []
    },
    {
      "cell_type": "markdown",
      "metadata": {
        "id": "kkAXLtuyWWDI"
      },
      "source": [
        "### Preprocess the data\n",
        "\n",
        "The section manually preprocessed the dataset into the format expected by the model.\n",
        "\n",
        "This dataset is small, so preprocessing can be done quickly and easily in memory. For larger datasets the `tf_models` library includes some tools for preprocessing and re-serializing a dataset. See [Appendix: Re-encoding a large dataset](#re_encoding_tools) for details."
      ]
    },
    {
      "cell_type": "markdown",
      "metadata": {
        "id": "62UTWLQd9-LB"
      },
      "source": [
        "#### Encode the sentences\n",
        "\n",
        "The model expects its two inputs sentences to be concatenated together. This input is expected to start with a `[CLS]` \"This is a classification problem\" token, and each sentence should end with a `[SEP]` \"Separator\" token:"
      ]
    },
    {
      "cell_type": "code",
      "metadata": {
        "execution": {
          "iopub.execute_input": "2021-03-11T18:39:38.847076Z",
          "iopub.status.busy": "2021-03-11T18:39:38.846380Z",
          "iopub.status.idle": "2021-03-11T18:39:38.848881Z",
          "shell.execute_reply": "2021-03-11T18:39:38.849238Z"
        },
        "id": "bdL-dRNRBRJT"
      },
      "source": [
        "tokenizer.convert_tokens_to_ids(['[CLS]', '[SEP]'])"
      ],
      "execution_count": null,
      "outputs": []
    },
    {
      "cell_type": "markdown",
      "metadata": {
        "id": "UrPktnqpwqie"
      },
      "source": [
        "Start by encoding all the sentences while appending a `[SEP]` token, and packing them into ragged-tensors:"
      ]
    },
    {
      "cell_type": "code",
      "metadata": {
        "execution": {
          "iopub.execute_input": "2021-03-11T18:39:38.856993Z",
          "iopub.status.busy": "2021-03-11T18:39:38.856333Z",
          "iopub.status.idle": "2021-03-11T18:39:42.496443Z",
          "shell.execute_reply": "2021-03-11T18:39:42.496839Z"
        },
        "id": "BR7BmtU498Bh"
      },
      "source": [
        "def encode_sentence(s):\n",
        "   tokens = list(tokenizer.tokenize(s.numpy()))\n",
        "   tokens.append('[SEP]')\n",
        "   return tokenizer.convert_tokens_to_ids(tokens)\n",
        "\n",
        "sentence1 = tf.ragged.constant([\n",
        "    encode_sentence(s) for s in glue_train[\"sentence1\"]])\n",
        "sentence2 = tf.ragged.constant([\n",
        "    encode_sentence(s) for s in glue_train[\"sentence2\"]])"
      ],
      "execution_count": null,
      "outputs": []
    },
    {
      "cell_type": "code",
      "metadata": {
        "execution": {
          "iopub.execute_input": "2021-03-11T18:39:42.501609Z",
          "iopub.status.busy": "2021-03-11T18:39:42.500910Z",
          "iopub.status.idle": "2021-03-11T18:39:42.503215Z",
          "shell.execute_reply": "2021-03-11T18:39:42.503584Z"
        },
        "id": "has42aUdfky-"
      },
      "source": [
        "print(\"Sentence1 shape:\", sentence1.shape.as_list())\n",
        "print(\"Sentence2 shape:\", sentence2.shape.as_list())"
      ],
      "execution_count": null,
      "outputs": []
    },
    {
      "cell_type": "markdown",
      "metadata": {
        "id": "MU9lTWy_xXbb"
      },
      "source": [
        "Now prepend a `[CLS]` token, and concatenate the ragged tensors to form a single `input_word_ids` tensor for each example. `RaggedTensor.to_tensor()` zero pads to the longest sequence."
      ]
    },
    {
      "cell_type": "code",
      "metadata": {
        "execution": {
          "iopub.execute_input": "2021-03-11T18:39:42.513941Z",
          "iopub.status.busy": "2021-03-11T18:39:42.513252Z",
          "iopub.status.idle": "2021-03-11T18:39:42.952985Z",
          "shell.execute_reply": "2021-03-11T18:39:42.953398Z"
        },
        "id": "USD8uihw-g4J"
      },
      "source": [
        "cls = [tokenizer.convert_tokens_to_ids(['[CLS]'])]*sentence1.shape[0]\n",
        "input_word_ids = tf.concat([cls, sentence1, sentence2], axis=-1)\n",
        "plt.pcolormesh(input_word_ids.to_tensor())"
      ],
      "execution_count": null,
      "outputs": []
    },
    {
      "cell_type": "markdown",
      "metadata": {
        "id": "xmNv4l4k-dBZ"
      },
      "source": [
        "#### Mask and input type"
      ]
    },
    {
      "cell_type": "markdown",
      "metadata": {
        "id": "DIWjNIKq-ldh"
      },
      "source": [
        "The model expects two additional inputs:\n",
        "\n",
        "* The input mask\n",
        "* The input type"
      ]
    },
    {
      "cell_type": "markdown",
      "metadata": {
        "id": "ulNZ4U96-8JZ"
      },
      "source": [
        "The mask allows the model to cleanly differentiate between the content and the padding. The mask has the same shape as the `input_word_ids`, and contains a `1` anywhere the `input_word_ids` is not padding."
      ]
    },
    {
      "cell_type": "code",
      "metadata": {
        "execution": {
          "iopub.execute_input": "2021-03-11T18:39:42.958249Z",
          "iopub.status.busy": "2021-03-11T18:39:42.957578Z",
          "iopub.status.idle": "2021-03-11T18:39:43.264741Z",
          "shell.execute_reply": "2021-03-11T18:39:43.265190Z"
        },
        "id": "EezOO9qj91kP"
      },
      "source": [
        "input_mask = tf.ones_like(input_word_ids).to_tensor()\n",
        "\n",
        "plt.pcolormesh(input_mask)"
      ],
      "execution_count": null,
      "outputs": []
    },
    {
      "cell_type": "markdown",
      "metadata": {
        "id": "rxLenwAvCkBf"
      },
      "source": [
        "The \"input type\" also has the same shape, but inside the non-padded region, contains a `0` or a `1` indicating which sentence the token is a part of. "
      ]
    },
    {
      "cell_type": "code",
      "metadata": {
        "execution": {
          "iopub.execute_input": "2021-03-11T18:39:43.272971Z",
          "iopub.status.busy": "2021-03-11T18:39:43.272227Z",
          "iopub.status.idle": "2021-03-11T18:39:43.601793Z",
          "shell.execute_reply": "2021-03-11T18:39:43.602215Z"
        },
        "id": "2CetH_5C9P2m"
      },
      "source": [
        "type_cls = tf.zeros_like(cls)\n",
        "type_s1 = tf.zeros_like(sentence1)\n",
        "type_s2 = tf.ones_like(sentence2)\n",
        "input_type_ids = tf.concat([type_cls, type_s1, type_s2], axis=-1).to_tensor()\n",
        "\n",
        "plt.pcolormesh(input_type_ids)"
      ],
      "execution_count": null,
      "outputs": []
    },
    {
      "cell_type": "markdown",
      "metadata": {
        "id": "P5UBnCn8Ii6s"
      },
      "source": [
        "#### Put it all together\n",
        "\n",
        "Collect the above text parsing code into a single function, and apply it to each split of the `glue/mrpc` dataset."
      ]
    },
    {
      "cell_type": "code",
      "metadata": {
        "execution": {
          "iopub.execute_input": "2021-03-11T18:39:43.610849Z",
          "iopub.status.busy": "2021-03-11T18:39:43.610190Z",
          "iopub.status.idle": "2021-03-11T18:39:43.611973Z",
          "shell.execute_reply": "2021-03-11T18:39:43.612353Z"
        },
        "id": "sDGiWYPLEd5a"
      },
      "source": [
        "def encode_sentence(s, tokenizer):\n",
        "   tokens = list(tokenizer.tokenize(s))\n",
        "   tokens.append('[SEP]')\n",
        "   return tokenizer.convert_tokens_to_ids(tokens)\n",
        "\n",
        "def bert_encode(glue_dict, tokenizer):\n",
        "  num_examples = len(glue_dict[\"sentence1\"])\n",
        "  \n",
        "  sentence1 = tf.ragged.constant([\n",
        "      encode_sentence(s, tokenizer)\n",
        "      for s in np.array(glue_dict[\"sentence1\"])])\n",
        "  sentence2 = tf.ragged.constant([\n",
        "      encode_sentence(s, tokenizer)\n",
        "       for s in np.array(glue_dict[\"sentence2\"])])\n",
        "\n",
        "  cls = [tokenizer.convert_tokens_to_ids(['[CLS]'])]*sentence1.shape[0]\n",
        "  input_word_ids = tf.concat([cls, sentence1, sentence2], axis=-1)\n",
        "\n",
        "  input_mask = tf.ones_like(input_word_ids).to_tensor()\n",
        "\n",
        "  type_cls = tf.zeros_like(cls)\n",
        "  type_s1 = tf.zeros_like(sentence1)\n",
        "  type_s2 = tf.ones_like(sentence2)\n",
        "  input_type_ids = tf.concat(\n",
        "      [type_cls, type_s1, type_s2], axis=-1).to_tensor()\n",
        "\n",
        "  inputs = {\n",
        "      'input_word_ids': input_word_ids.to_tensor(),\n",
        "      'input_mask': input_mask,\n",
        "      'input_type_ids': input_type_ids}\n",
        "\n",
        "  return inputs"
      ],
      "execution_count": null,
      "outputs": []
    },
    {
      "cell_type": "code",
      "metadata": {
        "execution": {
          "iopub.execute_input": "2021-03-11T18:39:43.674017Z",
          "iopub.status.busy": "2021-03-11T18:39:43.652990Z",
          "iopub.status.idle": "2021-03-11T18:39:47.791911Z",
          "shell.execute_reply": "2021-03-11T18:39:47.791320Z"
        },
        "id": "yuLKxf6zHxw-"
      },
      "source": [
        "glue_train = bert_encode(glue['train'], tokenizer)\n",
        "glue_train_labels = glue['train']['label']\n",
        "\n",
        "glue_validation = bert_encode(glue['validation'], tokenizer)\n",
        "glue_validation_labels = glue['validation']['label']\n",
        "\n",
        "glue_test = bert_encode(glue['test'], tokenizer)\n",
        "glue_test_labels  = glue['test']['label']"
      ],
      "execution_count": null,
      "outputs": []
    },
    {
      "cell_type": "markdown",
      "metadata": {
        "id": "7FC5aLVxKVKK"
      },
      "source": [
        "Each subset of the data has been converted to a dictionary of features, and a set of labels. Each feature in the input dictionary has the same shape, and the number of labels should match:"
      ]
    },
    {
      "cell_type": "code",
      "metadata": {
        "execution": {
          "iopub.execute_input": "2021-03-11T18:39:47.797188Z",
          "iopub.status.busy": "2021-03-11T18:39:47.796532Z",
          "iopub.status.idle": "2021-03-11T18:39:47.799400Z",
          "shell.execute_reply": "2021-03-11T18:39:47.799806Z"
        },
        "id": "jyjTdGpFhO_1"
      },
      "source": [
        "for key, value in glue_train.items():\n",
        "  print(f'{key:15s} shape: {value.shape}')\n",
        "\n",
        "print(f'glue_train_labels shape: {glue_train_labels.shape}')"
      ],
      "execution_count": null,
      "outputs": []
    },
    {
      "cell_type": "markdown",
      "metadata": {
        "id": "FSwymsbkbLDA"
      },
      "source": [
        "## The model"
      ]
    },
    {
      "cell_type": "markdown",
      "metadata": {
        "id": "Efrj3Cn1kLAp"
      },
      "source": [
        "### Build the model\n"
      ]
    },
    {
      "cell_type": "markdown",
      "metadata": {
        "id": "xxpOY5r2Ayq6"
      },
      "source": [
        "The first step is to download the configuration  for the pre-trained model.\n"
      ]
    },
    {
      "cell_type": "code",
      "metadata": {
        "execution": {
          "iopub.execute_input": "2021-03-11T18:39:47.804756Z",
          "iopub.status.busy": "2021-03-11T18:39:47.804127Z",
          "iopub.status.idle": "2021-03-11T18:39:48.568882Z",
          "shell.execute_reply": "2021-03-11T18:39:48.569270Z"
        },
        "id": "ujapVfZ_AKW7"
      },
      "source": [
        "import json\n",
        "\n",
        "bert_config_file = os.path.join(gs_folder_bert, \"bert_config.json\")\n",
        "config_dict = json.loads(tf.io.gfile.GFile(bert_config_file).read())\n",
        "\n",
        "bert_config = bert.configs.BertConfig.from_dict(config_dict)\n",
        "\n",
        "config_dict"
      ],
      "execution_count": null,
      "outputs": []
    },
    {
      "cell_type": "markdown",
      "metadata": {
        "id": "96ldxDSwkVkj"
      },
      "source": [
        "The `config` defines the core BERT Model, which is a Keras model to predict the outputs of `num_classes` from the inputs with maximum sequence length `max_seq_length`.\n",
        "\n",
        "This function returns both the encoder and the classifier."
      ]
    },
    {
      "cell_type": "code",
      "metadata": {
        "execution": {
          "iopub.execute_input": "2021-03-11T18:39:48.580603Z",
          "iopub.status.busy": "2021-03-11T18:39:48.572915Z",
          "iopub.status.idle": "2021-03-11T18:39:50.452373Z",
          "shell.execute_reply": "2021-03-11T18:39:50.452820Z"
        },
        "id": "cH682__U0FBv"
      },
      "source": [
        "bert_classifier, bert_encoder = bert.bert_models.classifier_model(\n",
        "    bert_config, num_labels=2)"
      ],
      "execution_count": null,
      "outputs": []
    },
    {
      "cell_type": "markdown",
      "metadata": {
        "id": "XqKp3-5GIZlw"
      },
      "source": [
        "The classifier has three inputs and one output:"
      ]
    },
    {
      "cell_type": "code",
      "metadata": {
        "execution": {
          "iopub.execute_input": "2021-03-11T18:39:50.458006Z",
          "iopub.status.busy": "2021-03-11T18:39:50.457317Z",
          "iopub.status.idle": "2021-03-11T18:39:50.651493Z",
          "shell.execute_reply": "2021-03-11T18:39:50.651987Z"
        },
        "id": "bAQblMIjwkvx"
      },
      "source": [
        "tf.keras.utils.plot_model(bert_classifier, show_shapes=True, dpi=48)"
      ],
      "execution_count": null,
      "outputs": []
    },
    {
      "cell_type": "markdown",
      "metadata": {
        "id": "sFmVG4SKZAw8"
      },
      "source": [
        "Run it on a test batch of data 10 examples from the training set. The output is the logits for the two classes:"
      ]
    },
    {
      "cell_type": "code",
      "metadata": {
        "execution": {
          "iopub.execute_input": "2021-03-11T18:39:50.657506Z",
          "iopub.status.busy": "2021-03-11T18:39:50.656895Z",
          "iopub.status.idle": "2021-03-11T18:39:51.162287Z",
          "shell.execute_reply": "2021-03-11T18:39:51.162728Z"
        },
        "id": "VTjgPbp4ZDKo"
      },
      "source": [
        "glue_batch = {key: val[:10] for key, val in glue_train.items()}\n",
        "\n",
        "bert_classifier(\n",
        "    glue_batch, training=True\n",
        ").numpy()"
      ],
      "execution_count": null,
      "outputs": []
    },
    {
      "cell_type": "markdown",
      "metadata": {
        "id": "Q0NTdwZsQK8n"
      },
      "source": [
        "The `TransformerEncoder` in the center of the classifier above **is** the `bert_encoder`.\n",
        "\n",
        "Inspecting the encoder, we see its stack of `Transformer` layers connected to those same three inputs:"
      ]
    },
    {
      "cell_type": "code",
      "metadata": {
        "execution": {
          "iopub.execute_input": "2021-03-11T18:39:51.167844Z",
          "iopub.status.busy": "2021-03-11T18:39:51.167177Z",
          "iopub.status.idle": "2021-03-11T18:39:51.517916Z",
          "shell.execute_reply": "2021-03-11T18:39:51.518356Z"
        },
        "id": "8L__-erBwLIQ"
      },
      "source": [
        "tf.keras.utils.plot_model(bert_encoder, show_shapes=True, dpi=48)"
      ],
      "execution_count": null,
      "outputs": []
    },
    {
      "cell_type": "markdown",
      "metadata": {
        "id": "mKAvkQc3heSy"
      },
      "source": [
        "### Restore the encoder weights\n",
        "\n",
        "When built the encoder is randomly initialized. Restore the encoder's weights from the checkpoint:"
      ]
    },
    {
      "cell_type": "code",
      "metadata": {
        "execution": {
          "iopub.execute_input": "2021-03-11T18:39:54.782615Z",
          "iopub.status.busy": "2021-03-11T18:39:54.772553Z",
          "iopub.status.idle": "2021-03-11T18:41:07.904626Z",
          "shell.execute_reply": "2021-03-11T18:41:07.904157Z"
        },
        "id": "97Ll2Gichd_Y"
      },
      "source": [
        "checkpoint = tf.train.Checkpoint(encoder=bert_encoder)\n",
        "checkpoint.read(\n",
        "    os.path.join(gs_folder_bert, 'bert_model.ckpt')).assert_consumed()"
      ],
      "execution_count": null,
      "outputs": []
    },
    {
      "cell_type": "markdown",
      "metadata": {
        "id": "2oHOql35k3Dd"
      },
      "source": [
        "Note: The pretrained `TransformerEncoder` is also available on [TensorFlow Hub](https://tensorflow.org/hub). See the [Hub appendix](#hub_bert) for details. "
      ]
    },
    {
      "cell_type": "markdown",
      "metadata": {
        "id": "115caFLMk-_l"
      },
      "source": [
        "### Set up the optimizer\n",
        "\n",
        "BERT adopts the Adam optimizer with weight decay (aka \"[AdamW](https://arxiv.org/abs/1711.05101)\").\n",
        "It also employs a learning rate schedule that firstly warms up from 0 and then decays to 0."
      ]
    },
    {
      "cell_type": "code",
      "metadata": {
        "execution": {
          "iopub.execute_input": "2021-03-11T18:41:07.910820Z",
          "iopub.status.busy": "2021-03-11T18:41:07.910085Z",
          "iopub.status.idle": "2021-03-11T18:41:07.912148Z",
          "shell.execute_reply": "2021-03-11T18:41:07.912505Z"
        },
        "id": "w8qXKRZuCwW4"
      },
      "source": [
        "# Set up epochs and steps\n",
        "epochs = 3\n",
        "batch_size = 32\n",
        "eval_batch_size = 32\n",
        "\n",
        "train_data_size = len(glue_train_labels)\n",
        "steps_per_epoch = int(train_data_size / batch_size)\n",
        "num_train_steps = steps_per_epoch * epochs\n",
        "warmup_steps = int(epochs * train_data_size * 0.1 / batch_size)\n",
        "\n",
        "# creates an optimizer with learning rate schedule\n",
        "optimizer = nlp.optimization.create_optimizer(\n",
        "    2e-5, num_train_steps=num_train_steps, num_warmup_steps=warmup_steps)"
      ],
      "execution_count": null,
      "outputs": []
    },
    {
      "cell_type": "markdown",
      "metadata": {
        "id": "pXRGxiRNEHS2"
      },
      "source": [
        "This returns an `AdamWeightDecay`  optimizer with the learning rate schedule set:"
      ]
    },
    {
      "cell_type": "code",
      "metadata": {
        "execution": {
          "iopub.execute_input": "2021-03-11T18:41:07.917105Z",
          "iopub.status.busy": "2021-03-11T18:41:07.916355Z",
          "iopub.status.idle": "2021-03-11T18:41:07.919585Z",
          "shell.execute_reply": "2021-03-11T18:41:07.919159Z"
        },
        "id": "eQNA16bhDpky"
      },
      "source": [
        "type(optimizer)"
      ],
      "execution_count": null,
      "outputs": []
    },
    {
      "cell_type": "markdown",
      "metadata": {
        "id": "xqu_K71fJQB8"
      },
      "source": [
        "To see an example of how to customize the optimizer and it's schedule, see the [Optimizer schedule appendix](#optiizer_schedule)."
      ]
    },
    {
      "cell_type": "markdown",
      "metadata": {
        "id": "78FEUOOEkoP0"
      },
      "source": [
        "### Train the model"
      ]
    },
    {
      "cell_type": "markdown",
      "metadata": {
        "id": "OTNcA0O0nSq9"
      },
      "source": [
        "The metric is accuracy and we use sparse categorical cross-entropy as loss."
      ]
    },
    {
      "cell_type": "code",
      "metadata": {
        "execution": {
          "iopub.execute_input": "2021-03-11T18:41:07.934708Z",
          "iopub.status.busy": "2021-03-11T18:41:07.934135Z",
          "iopub.status.idle": "2021-03-11T18:42:35.874153Z",
          "shell.execute_reply": "2021-03-11T18:42:35.874597Z"
        },
        "id": "nzi8hjeTQTRs"
      },
      "source": [
        "metrics = [tf.keras.metrics.SparseCategoricalAccuracy('accuracy', dtype=tf.float32)]\n",
        "loss = tf.keras.losses.SparseCategoricalCrossentropy(from_logits=True)\n",
        "\n",
        "bert_classifier.compile(\n",
        "    optimizer=optimizer,\n",
        "    loss=loss,\n",
        "    metrics=metrics)\n",
        "\n",
        "bert_classifier.fit(\n",
        "      glue_train, glue_train_labels,\n",
        "      validation_data=(glue_validation, glue_validation_labels),\n",
        "      batch_size=32,\n",
        "      epochs=epochs)"
      ],
      "execution_count": null,
      "outputs": []
    },
    {
      "cell_type": "markdown",
      "metadata": {
        "id": "IFtKFWbNKb0u"
      },
      "source": [
        "Now run the fine-tuned model on a custom example to see that it works.\n",
        "\n",
        "Start by encoding some sentence pairs:"
      ]
    },
    {
      "cell_type": "code",
      "metadata": {
        "execution": {
          "iopub.execute_input": "2021-03-11T18:42:35.881041Z",
          "iopub.status.busy": "2021-03-11T18:42:35.880290Z",
          "iopub.status.idle": "2021-03-11T18:42:35.893839Z",
          "shell.execute_reply": "2021-03-11T18:42:35.893369Z"
        },
        "id": "9ZoUgDUNJPz3"
      },
      "source": [
        "my_examples = bert_encode(\n",
        "    glue_dict = {\n",
        "        'sentence1':[\n",
        "            'The rain in Spain falls mainly on the plain.',\n",
        "            'Look I fine tuned BERT.'],\n",
        "        'sentence2':[\n",
        "            'It mostly rains on the flat lands of Spain.',\n",
        "            'Is it working? This does not match.']\n",
        "    },\n",
        "    tokenizer=tokenizer)"
      ],
      "execution_count": null,
      "outputs": []
    },
    {
      "cell_type": "markdown",
      "metadata": {
        "id": "7ynJibkBRTJF"
      },
      "source": [
        "The model should report class `1` \"match\" for the first example and class `0` \"no-match\" for the second:"
      ]
    },
    {
      "cell_type": "code",
      "metadata": {
        "execution": {
          "iopub.execute_input": "2021-03-11T18:42:35.900045Z",
          "iopub.status.busy": "2021-03-11T18:42:35.899380Z",
          "iopub.status.idle": "2021-03-11T18:42:35.979087Z",
          "shell.execute_reply": "2021-03-11T18:42:35.978651Z"
        },
        "id": "umo0ttrgRYIM"
      },
      "source": [
        "result = bert_classifier(my_examples, training=False)\n",
        "\n",
        "result = tf.argmax(result).numpy()\n",
        "result"
      ],
      "execution_count": null,
      "outputs": []
    },
    {
      "cell_type": "code",
      "metadata": {
        "execution": {
          "iopub.execute_input": "2021-03-11T18:42:35.983298Z",
          "iopub.status.busy": "2021-03-11T18:42:35.982686Z",
          "iopub.status.idle": "2021-03-11T18:42:35.986054Z",
          "shell.execute_reply": "2021-03-11T18:42:35.985610Z"
        },
        "id": "utGl0M3aZCE4"
      },
      "source": [
        "np.array(info.features['label'].names)[result]"
      ],
      "execution_count": null,
      "outputs": []
    },
    {
      "cell_type": "markdown",
      "metadata": {
        "id": "fVo_AnT0l26j"
      },
      "source": [
        "### Save the model\n",
        "\n",
        "Often the goal of training a model is to _use_ it for something, so export the model and then restore it to be sure that it works."
      ]
    },
    {
      "cell_type": "code",
      "metadata": {
        "execution": {
          "iopub.execute_input": "2021-03-11T18:42:35.995038Z",
          "iopub.status.busy": "2021-03-11T18:42:35.994396Z",
          "iopub.status.idle": "2021-03-11T18:42:50.741782Z",
          "shell.execute_reply": "2021-03-11T18:42:50.741225Z"
        },
        "id": "Nl5x6nElZqkP"
      },
      "source": [
        "export_dir='./saved_model'\n",
        "tf.saved_model.save(bert_classifier, export_dir=export_dir)"
      ],
      "execution_count": null,
      "outputs": []
    },
    {
      "cell_type": "code",
      "metadata": {
        "collapsed": true,
        "execution": {
          "iopub.execute_input": "2021-03-11T18:42:50.751505Z",
          "iopub.status.busy": "2021-03-11T18:42:50.750914Z",
          "iopub.status.idle": "2021-03-11T18:42:56.542444Z",
          "shell.execute_reply": "2021-03-11T18:42:56.542907Z"
        },
        "id": "y_ACvKPsVUXC"
      },
      "source": [
        "reloaded = tf.saved_model.load(export_dir)\n",
        "reloaded_result = reloaded([my_examples['input_word_ids'],\n",
        "                            my_examples['input_mask'],\n",
        "                            my_examples['input_type_ids']], training=False)\n",
        "\n",
        "original_result = bert_classifier(my_examples, training=False)\n",
        "\n",
        "# The results are (nearly) identical:\n",
        "print(original_result.numpy())\n",
        "print()\n",
        "print(reloaded_result.numpy())"
      ],
      "execution_count": null,
      "outputs": []
    },
    {
      "cell_type": "markdown",
      "metadata": {
        "id": "eQceYqRFT_Eg"
      },
      "source": [
        "## Appendix"
      ]
    },
    {
      "cell_type": "markdown",
      "metadata": {
        "id": "SaC1RlFawUpc"
      },
      "source": [
        "<a id=re_encoding_tools></a>\n",
        "### Re-encoding a large dataset"
      ]
    },
    {
      "cell_type": "markdown",
      "metadata": {
        "id": "CwUdjFBkzUgh"
      },
      "source": [
        "This tutorial you re-encoded the dataset in memory, for clarity.\n",
        "\n",
        "This was only possible because `glue/mrpc` is a very small dataset. To deal with larger datasets `tf_models` library includes some tools for processing and re-encoding a dataset for efficient training."
      ]
    },
    {
      "cell_type": "markdown",
      "metadata": {
        "id": "2UTQrkyOT5wD"
      },
      "source": [
        "The first step is to describe which features of the dataset should be transformed:"
      ]
    },
    {
      "cell_type": "code",
      "metadata": {
        "execution": {
          "iopub.execute_input": "2021-03-11T18:42:56.547833Z",
          "iopub.status.busy": "2021-03-11T18:42:56.547192Z",
          "iopub.status.idle": "2021-03-11T18:42:59.542430Z",
          "shell.execute_reply": "2021-03-11T18:42:59.541849Z"
        },
        "id": "XQeDFOzYR9Z9"
      },
      "source": [
        "processor = nlp.data.classifier_data_lib.TfdsProcessor(\n",
        "    tfds_params=\"dataset=glue/mrpc,text_key=sentence1,text_b_key=sentence2\",\n",
        "    process_text_fn=bert.tokenization.convert_to_unicode)"
      ],
      "execution_count": null,
      "outputs": []
    },
    {
      "cell_type": "markdown",
      "metadata": {
        "id": "XrFQbfErUWxa"
      },
      "source": [
        "Then apply the transformation to generate new TFRecord files."
      ]
    },
    {
      "cell_type": "code",
      "metadata": {
        "execution": {
          "iopub.execute_input": "2021-03-11T18:42:59.548724Z",
          "iopub.status.busy": "2021-03-11T18:42:59.548136Z",
          "iopub.status.idle": "2021-03-11T18:43:04.534590Z",
          "shell.execute_reply": "2021-03-11T18:43:04.534032Z"
        },
        "id": "ymw7GOHpSHKU"
      },
      "source": [
        "# Set up output of training and evaluation Tensorflow dataset\n",
        "train_data_output_path=\"./mrpc_train.tf_record\"\n",
        "eval_data_output_path=\"./mrpc_eval.tf_record\"\n",
        "\n",
        "max_seq_length = 128\n",
        "batch_size = 32\n",
        "eval_batch_size = 32\n",
        "\n",
        "# Generate and save training data into a tf record file\n",
        "input_meta_data = (\n",
        "    nlp.data.classifier_data_lib.generate_tf_record_from_data_file(\n",
        "      processor=processor,\n",
        "      data_dir=None,  # It is `None` because data is from tfds, not local dir.\n",
        "      tokenizer=tokenizer,\n",
        "      train_data_output_path=train_data_output_path,\n",
        "      eval_data_output_path=eval_data_output_path,\n",
        "      max_seq_length=max_seq_length))"
      ],
      "execution_count": null,
      "outputs": []
    },
    {
      "cell_type": "markdown",
      "metadata": {
        "id": "uX_Sp-wTUoRm"
      },
      "source": [
        "Finally create `tf.data` input pipelines from those TFRecord files:"
      ]
    },
    {
      "cell_type": "code",
      "metadata": {
        "execution": {
          "iopub.execute_input": "2021-03-11T18:43:04.539809Z",
          "iopub.status.busy": "2021-03-11T18:43:04.539040Z",
          "iopub.status.idle": "2021-03-11T18:43:04.711019Z",
          "shell.execute_reply": "2021-03-11T18:43:04.710503Z"
        },
        "id": "rkHxIK57SQ_r"
      },
      "source": [
        "training_dataset = bert.run_classifier.get_dataset_fn(\n",
        "    train_data_output_path,\n",
        "    max_seq_length,\n",
        "    batch_size,\n",
        "    is_training=True)()\n",
        "\n",
        "evaluation_dataset = bert.run_classifier.get_dataset_fn(\n",
        "    eval_data_output_path,\n",
        "    max_seq_length,\n",
        "    eval_batch_size,\n",
        "    is_training=False)()\n"
      ],
      "execution_count": null,
      "outputs": []
    },
    {
      "cell_type": "markdown",
      "metadata": {
        "id": "stbaVouogvzS"
      },
      "source": [
        "The resulting `tf.data.Datasets` return `(features, labels)` pairs, as expected by `keras.Model.fit`:"
      ]
    },
    {
      "cell_type": "code",
      "metadata": {
        "execution": {
          "iopub.execute_input": "2021-03-11T18:43:04.716081Z",
          "iopub.status.busy": "2021-03-11T18:43:04.715386Z",
          "iopub.status.idle": "2021-03-11T18:43:04.718024Z",
          "shell.execute_reply": "2021-03-11T18:43:04.718438Z"
        },
        "id": "gwhrlQl4gxVF"
      },
      "source": [
        "training_dataset.element_spec"
      ],
      "execution_count": null,
      "outputs": []
    },
    {
      "cell_type": "markdown",
      "metadata": {
        "id": "dbJ76vSJj77j"
      },
      "source": [
        "#### Create tf.data.Dataset for training and evaluation\n"
      ]
    },
    {
      "cell_type": "markdown",
      "metadata": {
        "id": "9J95LFRohiYw"
      },
      "source": [
        "If you need to modify the data loading here is some code to get you started:"
      ]
    },
    {
      "cell_type": "code",
      "metadata": {
        "execution": {
          "iopub.execute_input": "2021-03-11T18:43:04.727054Z",
          "iopub.status.busy": "2021-03-11T18:43:04.726248Z",
          "iopub.status.idle": "2021-03-11T18:43:04.728473Z",
          "shell.execute_reply": "2021-03-11T18:43:04.728044Z"
        },
        "id": "gCvaLLAxPuMc"
      },
      "source": [
        "def create_classifier_dataset(file_path, seq_length, batch_size, is_training):\n",
        "  \"\"\"Creates input dataset from (tf)records files for train/eval.\"\"\"\n",
        "  dataset = tf.data.TFRecordDataset(file_path)\n",
        "  if is_training:\n",
        "    dataset = dataset.shuffle(100)\n",
        "    dataset = dataset.repeat()\n",
        "\n",
        "  def decode_record(record):\n",
        "    name_to_features = {\n",
        "      'input_ids': tf.io.FixedLenFeature([seq_length], tf.int64),\n",
        "      'input_mask': tf.io.FixedLenFeature([seq_length], tf.int64),\n",
        "      'segment_ids': tf.io.FixedLenFeature([seq_length], tf.int64),\n",
        "      'label_ids': tf.io.FixedLenFeature([], tf.int64),\n",
        "    }\n",
        "    return tf.io.parse_single_example(record, name_to_features)\n",
        "\n",
        "  def _select_data_from_record(record):\n",
        "    x = {\n",
        "        'input_word_ids': record['input_ids'],\n",
        "        'input_mask': record['input_mask'],\n",
        "        'input_type_ids': record['segment_ids']\n",
        "    }\n",
        "    y = record['label_ids']\n",
        "    return (x, y)\n",
        "\n",
        "  dataset = dataset.map(decode_record,\n",
        "                        num_parallel_calls=tf.data.experimental.AUTOTUNE)\n",
        "  dataset = dataset.map(\n",
        "      _select_data_from_record,\n",
        "      num_parallel_calls=tf.data.experimental.AUTOTUNE)\n",
        "  dataset = dataset.batch(batch_size, drop_remainder=is_training)\n",
        "  dataset = dataset.prefetch(tf.data.experimental.AUTOTUNE)\n",
        "  return dataset"
      ],
      "execution_count": null,
      "outputs": []
    },
    {
      "cell_type": "code",
      "metadata": {
        "execution": {
          "iopub.execute_input": "2021-03-11T18:43:04.733050Z",
          "iopub.status.busy": "2021-03-11T18:43:04.732415Z",
          "iopub.status.idle": "2021-03-11T18:43:04.838677Z",
          "shell.execute_reply": "2021-03-11T18:43:04.839076Z"
        },
        "id": "rutkBadrhzdR"
      },
      "source": [
        "# Set up batch sizes\n",
        "batch_size = 32\n",
        "eval_batch_size = 32\n",
        "\n",
        "# Return Tensorflow dataset\n",
        "training_dataset = create_classifier_dataset(\n",
        "    train_data_output_path,\n",
        "    input_meta_data['max_seq_length'],\n",
        "    batch_size,\n",
        "    is_training=True)\n",
        "\n",
        "evaluation_dataset = create_classifier_dataset(\n",
        "    eval_data_output_path,\n",
        "    input_meta_data['max_seq_length'],\n",
        "    eval_batch_size,\n",
        "    is_training=False)"
      ],
      "execution_count": null,
      "outputs": []
    },
    {
      "cell_type": "code",
      "metadata": {
        "execution": {
          "iopub.execute_input": "2021-03-11T18:43:04.843776Z",
          "iopub.status.busy": "2021-03-11T18:43:04.842976Z",
          "iopub.status.idle": "2021-03-11T18:43:04.846192Z",
          "shell.execute_reply": "2021-03-11T18:43:04.845778Z"
        },
        "id": "59TVgt4Z7fuU"
      },
      "source": [
        "training_dataset.element_spec"
      ],
      "execution_count": null,
      "outputs": []
    },
    {
      "cell_type": "markdown",
      "metadata": {
        "id": "QbklKt-w_CiI"
      },
      "source": [
        "<a id=\"hub_bert\"></a>\n",
        "\n",
        "### TFModels BERT on TFHub\n",
        "\n",
        "You can get [the BERT model](https://tfhub.dev/tensorflow/bert_en_uncased_L-12_H-768_A-12/2) off the shelf from [TFHub](https://tensorflow.org/hub). It would not be hard to add a classification head on top of this `hub.KerasLayer`"
      ]
    },
    {
      "cell_type": "code",
      "metadata": {
        "execution": {
          "iopub.execute_input": "2021-03-11T18:43:04.849758Z",
          "iopub.status.busy": "2021-03-11T18:43:04.849155Z",
          "iopub.status.idle": "2021-03-11T18:43:04.851651Z",
          "shell.execute_reply": "2021-03-11T18:43:04.851184Z"
        },
        "id": "GDWrHm0BGpbX"
      },
      "source": [
        "# Note: 350MB download.\n",
        "import tensorflow_hub as hub"
      ],
      "execution_count": null,
      "outputs": []
    },
    {
      "cell_type": "code",
      "metadata": {
        "cellView": "form",
        "execution": {
          "iopub.execute_input": "2021-03-11T18:43:04.855350Z",
          "iopub.status.busy": "2021-03-11T18:43:04.854675Z",
          "iopub.status.idle": "2021-03-11T18:43:04.856912Z",
          "shell.execute_reply": "2021-03-11T18:43:04.856461Z"
        },
        "id": "Y29meH0qGq_5"
      },
      "source": [
        "hub_model_name = \"bert_en_uncased_L-12_H-768_A-12\" #@param [\"bert_en_uncased_L-24_H-1024_A-16\", \"bert_en_wwm_cased_L-24_H-1024_A-16\", \"bert_en_uncased_L-12_H-768_A-12\", \"bert_en_wwm_uncased_L-24_H-1024_A-16\", \"bert_en_cased_L-24_H-1024_A-16\", \"bert_en_cased_L-12_H-768_A-12\", \"bert_zh_L-12_H-768_A-12\", \"bert_multi_cased_L-12_H-768_A-12\"]"
      ],
      "execution_count": null,
      "outputs": []
    },
    {
      "cell_type": "code",
      "metadata": {
        "execution": {
          "iopub.execute_input": "2021-03-11T18:43:04.860887Z",
          "iopub.status.busy": "2021-03-11T18:43:04.860292Z",
          "iopub.status.idle": "2021-03-11T18:43:26.249130Z",
          "shell.execute_reply": "2021-03-11T18:43:26.248513Z"
        },
        "id": "lo6479At4sP1"
      },
      "source": [
        "hub_encoder = hub.KerasLayer(f\"https://tfhub.dev/tensorflow/{hub_model_name}/3\",\n",
        "                             trainable=True)\n",
        "\n",
        "print(f\"The Hub encoder has {len(hub_encoder.trainable_variables)} trainable variables\")"
      ],
      "execution_count": null,
      "outputs": []
    },
    {
      "cell_type": "markdown",
      "metadata": {
        "id": "iTzF574wivQv"
      },
      "source": [
        "Test run it on a batch of data:"
      ]
    },
    {
      "cell_type": "code",
      "metadata": {
        "execution": {
          "iopub.execute_input": "2021-03-11T18:43:26.255750Z",
          "iopub.status.busy": "2021-03-11T18:43:26.254266Z",
          "iopub.status.idle": "2021-03-11T18:43:26.829934Z",
          "shell.execute_reply": "2021-03-11T18:43:26.830317Z"
        },
        "id": "XEcYrCR45Uwo"
      },
      "source": [
        "result = hub_encoder(\n",
        "    inputs=dict(\n",
        "        input_word_ids=glue_train['input_word_ids'][:10],\n",
        "        input_mask=glue_train['input_mask'][:10],\n",
        "        input_type_ids=glue_train['input_type_ids'][:10],),\n",
        "    training=False,\n",
        ")\n",
        "\n",
        "print(\"Pooled output shape:\", result['pooled_output'].shape)\n",
        "print(\"Sequence output shape:\", result['sequence_output'].shape)"
      ],
      "execution_count": null,
      "outputs": []
    },
    {
      "cell_type": "markdown",
      "metadata": {
        "id": "cjojn8SmLSRI"
      },
      "source": [
        "At this point it would be simple to add a classification head yourself.\n",
        "\n",
        "The `bert_models.classifier_model` function can also build a classifier onto the encoder from TensorFlow Hub:"
      ]
    },
    {
      "cell_type": "code",
      "metadata": {
        "execution": {
          "iopub.execute_input": "2021-03-11T18:43:26.840336Z",
          "iopub.status.busy": "2021-03-11T18:43:26.838767Z",
          "iopub.status.idle": "2021-03-11T18:43:27.421329Z",
          "shell.execute_reply": "2021-03-11T18:43:27.420758Z"
        },
        "id": "9nTDaApyLR70"
      },
      "source": [
        "hub_classifier = nlp.modeling.models.BertClassifier(\n",
        "    bert_encoder,\n",
        "    num_classes=2,\n",
        "    dropout_rate=0.1,\n",
        "    initializer=tf.keras.initializers.TruncatedNormal(\n",
        "        stddev=0.02))"
      ],
      "execution_count": null,
      "outputs": []
    },
    {
      "cell_type": "markdown",
      "metadata": {
        "id": "xMJX3wV0_v7I"
      },
      "source": [
        "The one downside to loading this model from TFHub is that the structure of internal keras layers is not restored. So it's more difficult to inspect or modify the model. The `BertEncoder` model is now a single layer:"
      ]
    },
    {
      "cell_type": "code",
      "metadata": {
        "execution": {
          "iopub.execute_input": "2021-03-11T18:43:27.426554Z",
          "iopub.status.busy": "2021-03-11T18:43:27.425891Z",
          "iopub.status.idle": "2021-03-11T18:43:27.581929Z",
          "shell.execute_reply": "2021-03-11T18:43:27.581311Z"
        },
        "id": "pD71dnvhM2QS"
      },
      "source": [
        "tf.keras.utils.plot_model(hub_classifier, show_shapes=True, dpi=64)"
      ],
      "execution_count": null,
      "outputs": []
    },
    {
      "cell_type": "code",
      "metadata": {
        "execution": {
          "iopub.execute_input": "2021-03-11T18:43:27.588075Z",
          "iopub.status.busy": "2021-03-11T18:43:27.587371Z",
          "iopub.status.idle": "2021-03-11T18:43:27.652222Z",
          "shell.execute_reply": "2021-03-11T18:43:27.652608Z"
        },
        "id": "nLZD-isBzNKi"
      },
      "source": [
        "try:\n",
        "  tf.keras.utils.plot_model(hub_encoder, show_shapes=True, dpi=64)\n",
        "  assert False\n",
        "except Exception as e:\n",
        "  print(f\"{type(e).__name__}: {e}\")"
      ],
      "execution_count": null,
      "outputs": []
    },
    {
      "cell_type": "markdown",
      "metadata": {
        "id": "ZxSqH0dNAgXV"
      },
      "source": [
        "<a id=\"model_builder_functions\"></a>\n",
        "\n",
        "### Low level model building\n",
        "\n",
        "If you need a more control over the construction of the model it's worth noting that the `classifier_model` function used earlier is really just a thin wrapper over the `nlp.modeling.networks.BertEncoder` and `nlp.modeling.models.BertClassifier` classes. Just remember that if you start modifying the architecture it may not be correct or possible to reload the pre-trained checkpoint so you'll need to retrain from scratch."
      ]
    },
    {
      "cell_type": "markdown",
      "metadata": {
        "id": "0cgABEwDj06P"
      },
      "source": [
        "Build the encoder:"
      ]
    },
    {
      "cell_type": "code",
      "metadata": {
        "execution": {
          "iopub.execute_input": "2021-03-11T18:43:27.660714Z",
          "iopub.status.busy": "2021-03-11T18:43:27.659821Z",
          "iopub.status.idle": "2021-03-11T18:43:27.662600Z",
          "shell.execute_reply": "2021-03-11T18:43:27.662998Z"
        },
        "id": "5r_yqhBFSVEM"
      },
      "source": [
        "bert_encoder_config = config_dict.copy()\n",
        "\n",
        "# You need to rename a few fields to make this work:\n",
        "bert_encoder_config['attention_dropout_rate'] = bert_encoder_config.pop('attention_probs_dropout_prob')\n",
        "bert_encoder_config['activation'] = tf_utils.get_activation(bert_encoder_config.pop('hidden_act'))\n",
        "bert_encoder_config['dropout_rate'] = bert_encoder_config.pop('hidden_dropout_prob')\n",
        "bert_encoder_config['initializer'] = tf.keras.initializers.TruncatedNormal(\n",
        "          stddev=bert_encoder_config.pop('initializer_range'))\n",
        "bert_encoder_config['max_sequence_length'] = bert_encoder_config.pop('max_position_embeddings')\n",
        "bert_encoder_config['num_layers'] = bert_encoder_config.pop('num_hidden_layers')\n",
        "\n",
        "bert_encoder_config"
      ],
      "execution_count": null,
      "outputs": []
    },
    {
      "cell_type": "code",
      "metadata": {
        "execution": {
          "iopub.execute_input": "2021-03-11T18:43:27.677160Z",
          "iopub.status.busy": "2021-03-11T18:43:27.676455Z",
          "iopub.status.idle": "2021-03-11T18:43:28.569436Z",
          "shell.execute_reply": "2021-03-11T18:43:28.568861Z"
        },
        "id": "rIO8MI7LLijh"
      },
      "source": [
        "manual_encoder = nlp.modeling.networks.BertEncoder(**bert_encoder_config)"
      ],
      "execution_count": null,
      "outputs": []
    },
    {
      "cell_type": "markdown",
      "metadata": {
        "id": "4a4tFSg9krRi"
      },
      "source": [
        "Restore the weights:"
      ]
    },
    {
      "cell_type": "code",
      "metadata": {
        "execution": {
          "iopub.execute_input": "2021-03-11T18:43:30.929973Z",
          "iopub.status.busy": "2021-03-11T18:43:29.642350Z",
          "iopub.status.idle": "2021-03-11T18:44:24.233511Z",
          "shell.execute_reply": "2021-03-11T18:44:24.232990Z"
        },
        "id": "X6N9NEqfXJCx"
      },
      "source": [
        "checkpoint = tf.train.Checkpoint(encoder=manual_encoder)\n",
        "checkpoint.read(\n",
        "    os.path.join(gs_folder_bert, 'bert_model.ckpt')).assert_consumed()"
      ],
      "execution_count": null,
      "outputs": []
    },
    {
      "cell_type": "markdown",
      "metadata": {
        "id": "1BPiPO4ykuwM"
      },
      "source": [
        "Test run it:"
      ]
    },
    {
      "cell_type": "code",
      "metadata": {
        "execution": {
          "iopub.execute_input": "2021-03-11T18:44:24.240372Z",
          "iopub.status.busy": "2021-03-11T18:44:24.239735Z",
          "iopub.status.idle": "2021-03-11T18:44:24.331393Z",
          "shell.execute_reply": "2021-03-11T18:44:24.330807Z"
        },
        "id": "hlVdgJKmj389"
      },
      "source": [
        "result = manual_encoder(my_examples, training=True)\n",
        "\n",
        "print(\"Sequence output shape:\", result[0].shape)\n",
        "print(\"Pooled output shape:\", result[1].shape)"
      ],
      "execution_count": null,
      "outputs": []
    },
    {
      "cell_type": "markdown",
      "metadata": {
        "id": "nJMXvVgJkyBv"
      },
      "source": [
        "Wrap it in a classifier:"
      ]
    },
    {
      "cell_type": "code",
      "metadata": {
        "execution": {
          "iopub.execute_input": "2021-03-11T18:44:24.341899Z",
          "iopub.status.busy": "2021-03-11T18:44:24.340125Z",
          "iopub.status.idle": "2021-03-11T18:44:24.945114Z",
          "shell.execute_reply": "2021-03-11T18:44:24.945554Z"
        },
        "id": "tQX57GJ6wkAb"
      },
      "source": [
        "manual_classifier = nlp.modeling.models.BertClassifier(\n",
        "        bert_encoder,\n",
        "        num_classes=2,\n",
        "        dropout_rate=bert_encoder_config['dropout_rate'],\n",
        "        initializer=bert_encoder_config['initializer'])"
      ],
      "execution_count": null,
      "outputs": []
    },
    {
      "cell_type": "code",
      "metadata": {
        "execution": {
          "iopub.execute_input": "2021-03-11T18:44:24.952742Z",
          "iopub.status.busy": "2021-03-11T18:44:24.952055Z",
          "iopub.status.idle": "2021-03-11T18:44:25.049163Z",
          "shell.execute_reply": "2021-03-11T18:44:25.049537Z"
        },
        "id": "kB-nBWhQk0dS"
      },
      "source": [
        "manual_classifier(my_examples, training=True).numpy()"
      ],
      "execution_count": null,
      "outputs": []
    },
    {
      "cell_type": "markdown",
      "metadata": {
        "id": "E6AJlOSyIO1L"
      },
      "source": [
        "<a id=\"optiizer_schedule\"></a>\n",
        "\n",
        "### Optimizers and schedules\n",
        "\n",
        "The optimizer used to train the model was created using the `nlp.optimization.create_optimizer` function:"
      ]
    },
    {
      "cell_type": "code",
      "metadata": {
        "execution": {
          "iopub.execute_input": "2021-03-11T18:44:25.054974Z",
          "iopub.status.busy": "2021-03-11T18:44:25.054083Z",
          "iopub.status.idle": "2021-03-11T18:44:25.056236Z",
          "shell.execute_reply": "2021-03-11T18:44:25.056595Z"
        },
        "id": "28Dv3BPRlFTD"
      },
      "source": [
        "optimizer = nlp.optimization.create_optimizer(\n",
        "    2e-5, num_train_steps=num_train_steps, num_warmup_steps=warmup_steps)"
      ],
      "execution_count": null,
      "outputs": []
    },
    {
      "cell_type": "markdown",
      "metadata": {
        "id": "LRjcHr0UlT8c"
      },
      "source": [
        "That high level wrapper sets up the learning rate schedules and the optimizer.\n",
        "\n",
        "The base learning rate schedule used here is a linear decay to zero over the training run:"
      ]
    },
    {
      "cell_type": "code",
      "metadata": {
        "execution": {
          "iopub.execute_input": "2021-03-11T18:44:25.061718Z",
          "iopub.status.busy": "2021-03-11T18:44:25.060803Z",
          "iopub.status.idle": "2021-03-11T18:44:25.063323Z",
          "shell.execute_reply": "2021-03-11T18:44:25.062846Z"
        },
        "id": "MHY8K6kDngQn"
      },
      "source": [
        "epochs = 3\n",
        "batch_size = 32\n",
        "eval_batch_size = 32\n",
        "\n",
        "train_data_size = len(glue_train_labels)\n",
        "steps_per_epoch = int(train_data_size / batch_size)\n",
        "num_train_steps = steps_per_epoch * epochs"
      ],
      "execution_count": null,
      "outputs": []
    },
    {
      "cell_type": "code",
      "metadata": {
        "collapsed": true,
        "execution": {
          "iopub.execute_input": "2021-03-11T18:44:25.068432Z",
          "iopub.status.busy": "2021-03-11T18:44:25.067766Z",
          "iopub.status.idle": "2021-03-11T18:44:25.838113Z",
          "shell.execute_reply": "2021-03-11T18:44:25.837497Z"
        },
        "id": "wKIcSprulu3P"
      },
      "source": [
        "decay_schedule = tf.keras.optimizers.schedules.PolynomialDecay(\n",
        "      initial_learning_rate=2e-5,\n",
        "      decay_steps=num_train_steps,\n",
        "      end_learning_rate=0)\n",
        "\n",
        "plt.plot([decay_schedule(n) for n in range(num_train_steps)])"
      ],
      "execution_count": null,
      "outputs": []
    },
    {
      "cell_type": "markdown",
      "metadata": {
        "id": "IMTC_gfAl_PZ"
      },
      "source": [
        "This, in turn is wrapped in a `WarmUp` schedule that linearly increases the learning rate to the target value over the first 10% of training:"
      ]
    },
    {
      "cell_type": "code",
      "metadata": {
        "execution": {
          "iopub.execute_input": "2021-03-11T18:44:25.843426Z",
          "iopub.status.busy": "2021-03-11T18:44:25.842820Z",
          "iopub.status.idle": "2021-03-11T18:44:26.246122Z",
          "shell.execute_reply": "2021-03-11T18:44:26.246647Z"
        },
        "id": "YRt3VTmBmCBY"
      },
      "source": [
        "warmup_steps = num_train_steps * 0.1\n",
        "\n",
        "warmup_schedule = nlp.optimization.WarmUp(\n",
        "        initial_learning_rate=2e-5,\n",
        "        decay_schedule_fn=decay_schedule,\n",
        "        warmup_steps=warmup_steps)\n",
        "\n",
        "# The warmup overshoots, because it warms up to the `initial_learning_rate`\n",
        "# following the original implementation. You can set\n",
        "# `initial_learning_rate=decay_schedule(warmup_steps)` if you don't like the\n",
        "# overshoot.\n",
        "plt.plot([warmup_schedule(n) for n in range(num_train_steps)])"
      ],
      "execution_count": null,
      "outputs": []
    },
    {
      "cell_type": "markdown",
      "metadata": {
        "id": "l8D9Lv3Bn740"
      },
      "source": [
        "Then create the `nlp.optimization.AdamWeightDecay` using that schedule, configured for the BERT model:"
      ]
    },
    {
      "cell_type": "code",
      "metadata": {
        "execution": {
          "iopub.execute_input": "2021-03-11T18:44:26.252645Z",
          "iopub.status.busy": "2021-03-11T18:44:26.251503Z",
          "iopub.status.idle": "2021-03-11T18:44:26.253853Z",
          "shell.execute_reply": "2021-03-11T18:44:26.254314Z"
        },
        "id": "2Hf2rpRXk89N"
      },
      "source": [
        "optimizer = nlp.optimization.AdamWeightDecay(\n",
        "        learning_rate=warmup_schedule,\n",
        "        weight_decay_rate=0.01,\n",
        "        epsilon=1e-6,\n",
        "        exclude_from_weight_decay=['LayerNorm', 'layer_norm', 'bias'])s"
      ],
      "execution_count": null,
      "outputs": []
    },
    {
      "cell_type": "code",
      "metadata": {
        "id": "7Bumr_7eftSe"
      },
      "source": [
        ""
      ],
      "execution_count": null,
      "outputs": []
    }
  ]
}