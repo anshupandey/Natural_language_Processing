{
 "cells": [
  {
   "cell_type": "markdown",
   "id": "363d0291",
   "metadata": {},
   "source": [
    "# Social Media Analytics"
   ]
  },
  {
   "cell_type": "code",
   "execution_count": 2,
   "id": "12c12809",
   "metadata": {},
   "outputs": [],
   "source": [
    "import tweepy\n",
    "import wordcloud\n",
    "import matplotlib.pyplot as plt\n",
    "import seaborn as sns\n",
    "import re\n",
    "import numpy as np\n",
    "import pandas as pd\n",
    "from textblob import TextBlob\n",
    "import spacy\n",
    "from spacy import displacy"
   ]
  },
  {
   "cell_type": "code",
   "execution_count": 1,
   "id": "18a10a47",
   "metadata": {},
   "outputs": [],
   "source": [
    "api_key = \"GR39zsBS7MwqwNheawLqVoETY\"\n",
    "api_secret = \"dDy1bxnXqppMgsSHI4nyIJTK9IEfqTXXw90Yx83Cghllc1CLlw\"\n",
    "access_token = \"857530568-IA485JGrKmHwyuvZBTL8bovHm23E0NeJIM9kQAhQ\"\n",
    "access_token_secret = \"6zt7jdcWiCMOmescdDJYijMJ5FIigz89C5CWQVuNixcIG\""
   ]
  },
  {
   "cell_type": "code",
   "execution_count": 3,
   "id": "98714fdf",
   "metadata": {},
   "outputs": [],
   "source": [
    "authenticator = tweepy.OAuthHandler(api_key,api_secret)\n",
    "authenticator.set_access_token(access_token,access_token_secret)\n",
    "api = tweepy.API(authenticator)"
   ]
  },
  {
   "cell_type": "code",
   "execution_count": 43,
   "id": "39e91349",
   "metadata": {},
   "outputs": [],
   "source": [
    "tweetdata = api.search(q='jio',count=50,tweet_mode=\"full_text\")"
   ]
  },
  {
   "cell_type": "code",
   "execution_count": 44,
   "id": "d730051b",
   "metadata": {
    "collapsed": true
   },
   "outputs": [
    {
     "name": "stdout",
     "output_type": "stream",
     "text": [
      "There are so many reasons to #WatchMimiWithFamily but you have already heard enough😉\n",
      "\n",
      "Watch #Mimi on  … \n",
      "positive\n",
      "******************************\n",
      "Jio SIM 2 minute ke down thi kya?\n",
      "Jio SIM 2 minute key down thi kya?\n",
      "Neutral\n",
      "******************************\n",
      " HEy!! i think jio will use any one of personal email to get alert of another user i am feedup with the ema… \n",
      "Neutral\n",
      "******************************\n",
      "I want open jio payment bank account\n",
      "Neutral\n",
      "******************************\n",
      " Jio fibre   jio company वाले चोर गिरोह है आज दस महीने हो गए लेकिन मेरी सिक्योरिटी के २५०० सौ रुपये नहीं… \n",
      "Jio fiber is a thief gang with jio company, today it has been ten months but my security is not 2500 hundred rupees…\n",
      "Neutral\n",
      "******************************\n",
      " JIO has a great network across India even in the villages with the cheapest price, that will be ben… \n",
      "positive\n",
      "******************************\n",
      "  Tech Talks #1508 - Micromax In 2b, Micromax TWS, Z Flip 3 Case, Jio Vs AirTel, BGMI Prize, P50 Pro\n",
      "…\n",
      "Neutral\n",
      "******************************\n",
      "  Tech Talks #1509 - Govt on iPhone, BGMI Bad News, Jio AirTel Vi Updates, Mi 12 Updates, RedmiBook 15 …\n",
      "negative\n",
      "******************************\n",
      "   We are here to help. Kindly DM and help us with your Jio number and an alternate number along with the address where…\n",
      "positive\n",
      "******************************\n",
      "    He gave permission to  n they screwed everyone 🤪😂😂😂 why BS… \n",
      "Neutral\n",
      "******************************\n",
      " Please check inbox. This is highly unacceptable. The jio fiber person who came for documentation is ignori… \n",
      "positive\n",
      "******************************\n",
      " assured the reminder will stop automatically. Should you need any further assistance, we are just… \n",
      "Neutral\n",
      "******************************\n",
      "        jio and justice are mutually exclusive terms.\n",
      "Neutral\n",
      "******************************\n",
      "Modi ji ne mobile pe jio tv pe dekh liya sayad 😭 \n",
      "Modi ji ne mobile pe jio tv pe dekh liya sayad\n",
      "Neutral\n",
      "******************************\n",
      "  Want to compare it with jio tv lol\n",
      "positive\n",
      "******************************\n",
      "  Bhai Ravikumar tune mardo ki izzat bachayi hai aaj 😂😂🙏🙏\n",
      "Juk Juk jio mere laal 🔥🔥\n",
      "#TokyoOlympics \n",
      "#Gold\n",
      "Bhai Ravikumar tune mardo ki izzat bachayi hai aaj\n",
      "Juk Juk jio mere laal\n",
      "#TokyoOlympics\n",
      "#Gold\n",
      "negative\n",
      "******************************\n",
      "     Our property not the country property.. P… \n",
      "Neutral\n",
      "******************************\n",
      " That sounds concerning. Please DM your Jio number, alternate number and complete postal address to… \n",
      "Neutral\n",
      "******************************\n",
      " Tb Jio Tv pr dekh le bhai\n",
      "not translated\n",
      "Neutral\n",
      "******************************\n",
      "祭り〜\n",
      "  \n",
      "The manner in which RJio was allowed to flourish using predatory pricing, using RCom’s… \n",
      "Neutral\n",
      "******************************\n",
      "  Okeee makasih jio lobiyuuu 🐊💚💚\n",
      "Okeee makasih jio lobiyuuu\n",
      "Neutral\n",
      "******************************\n",
      "满分胖jio～ \n",
      "Full score is fat jio~\n",
      "positive\n",
      "******************************\n",
      " Jio tv mai free hai\n",
      "jio tv mai free hai\n",
      "positive\n",
      "******************************\n",
      " 推しは推せるうちに推す！\n",
      "I will recommend it while I can recommend it!\n",
      "Neutral\n",
      "******************************\n",
      "  when we got online solution or door to door solution . Like Airtel ,Jio and other company. This is big is… \n",
      "Neutral\n",
      "******************************\n",
      "You need to configure your 10-digit Jio Fiber number on the Jio Join app to begin the new experience\n",
      "… \n",
      "positive\n",
      "******************************\n",
      " We are sorry for the poor experience you have had. Please DM Jio number, alternate number and error messa… \n",
      "negative\n",
      "******************************\n",
      " We will be glad to have you as a member of our Jio family. Please DM your full name, number to be porte… \n",
      "positive\n",
      "******************************\n",
      "  Cada persona es responsable de los residuos que genera y hacer una correcta disposición de ellos hace parte de las #Accione…\n",
      "Each person is responsible for the waste they generate and making a correct disposal of them is part of the #Actions ...\n",
      "Neutral\n",
      "******************************\n",
      " Jio tv is better 😅 options period\n",
      "positive\n",
      "******************************\n",
      "  Pure shit vodafone, 95% people in my village shifted to aritel, jio\n",
      "Neutral\n",
      "******************************\n",
      "  🎉🤩 Las fuentes y los monumentos se visten de rojo ❤️desde hoy y hasta el 5 de agosto para conmemorar el Día del Bombero 🧑‍🚒…\n",
      "🎉🤩 The fountains and monuments are dressed in red ❤️ from today until August 5 to commemorate Firefighter's Day 🧑‍🚒…\n",
      "Neutral\n",
      "******************************\n",
      " Govt let Jio disrupt the telecom sector by allowing Jio to capture market with freebies. Vi servic… \n",
      "Neutral\n",
      "******************************\n",
      "個人的にはシーズン10はプラウラーとLスターが熱いな。\n",
      "Personally, Prowler and L-Star are hot in Season 10.\n",
      "positive\n",
      "******************************\n",
      " We would love to have you onboard. Please DM us your name, contact number you wish to port in Jio, alter… \n",
      "positive\n",
      "******************************\n",
      " As per my knowledge jio and airtel doesn't have enough infrastructure to provide services to all the… \n",
      "Neutral\n",
      "******************************\n",
      " I've done recharge for my JIO number but benefits are yet to be activated.\n",
      "Neutral\n",
      "******************************\n",
      "  The real reason behind low tariffs in India is different. Reliance Jio (first mobile operator w… \n",
      "Neutral\n",
      "******************************\n",
      " Jio Tv\n",
      "not translated\n",
      "Neutral\n",
      "******************************\n",
      "  Clock off and go home~\n",
      "\n",
      "#bjyx #YiZhan #drawing \n",
      "#WangYibo #XiaoZhan \n",
      "Cr\n",
      "jio巴-\n",
      " …\n",
      "Neutral\n",
      "******************************\n",
      " I can't find the jio tv app on Android tv as well. Why is it not available\n",
      "negative\n",
      "******************************\n",
      " Your jio fiber documentation guys made a mistake on the address and hence I didn't avail the benefits.  Wh… \n",
      "Neutral\n",
      "******************************\n",
      "Jio joins Airtel in fight against 5Gi standard; says 2 GHz in mid-band needed for India 5G demand, Telecom News, ET… \n",
      "Neutral\n",
      "******************************\n",
      "Jio joins Airtel in fight against 5Gi standard; says 2 GHz in mid-band needed for India 5G demand, Telecom News, ET… \n",
      "Neutral\n",
      "******************************\n",
      " \n",
      "Please add jio tune of karuppu vellai bgm\n",
      "Song duration 00:58sec. \n",
      "Please accept my request from all south Indian youngsters 🙏🙏🙏\n",
      "Neutral\n",
      "******************************\n",
      " We understand your concern. Please DM the the color of LED in front of Jio Home Gateway (Router) a… \n",
      "Neutral\n",
      "******************************\n",
      " Why don't you give our services a try? To book JioFiber services, click  or sim… \n",
      "Neutral\n",
      "******************************\n",
      "    hello jio how to port to your network\n",
      "Neutral\n",
      "******************************\n",
      " Maap nder, aku malah salfok sama appa jay dan jio.\n",
      "I'm sorry nder, I'm even salfok with appa jay and jio.\n",
      "negative\n",
      "******************************\n"
     ]
    }
   ],
   "source": [
    "cleantw = []\n",
    "sentiments = []\n",
    "for tw in tweetdata:\n",
    "    tw = tw.text\n",
    "    tw = re.sub(\"RT\",\"\",tw) # removing RT from each tweet\n",
    "    tw = re.sub(\"@[a-zA-Z0-9_.:]+\",\"\",tw)# removing twitter handles\n",
    "    tw = re.sub(\"http[a-zA-Z0-9.\\/\\\\-\\%\\:]+\",\"\",tw)# remove URLs\n",
    "    tw = re.sub(\"&amp;\",\"\",tw)\n",
    "    print(tw)\n",
    "    if len(tw)>5:\n",
    "        tw = TextBlob(tw)\n",
    "        try:\n",
    "            if tw.detect_language()!='en':\n",
    "                tw = tw.translate(to='en')\n",
    "                print(tw)\n",
    "        except:\n",
    "            print(\"not translated\")\n",
    "        cleantw.append(tw.raw)\n",
    "        if tw.sentiment.polarity>+0.1:\n",
    "            print(\"positive\")\n",
    "            sentiments.append(\"Positive\")\n",
    "        elif tw.sentiment.polarity<-0.1:\n",
    "            print(\"negative\")\n",
    "            sentiments.append(\"Negative\")\n",
    "        else:\n",
    "            print(\"Neutral\")\n",
    "            sentiments.append(\"Neutral\")\n",
    "        \n",
    "        print(\"******************************\")"
   ]
  },
  {
   "cell_type": "code",
   "execution_count": 45,
   "id": "aae8bb58",
   "metadata": {},
   "outputs": [
    {
     "name": "stderr",
     "output_type": "stream",
     "text": [
      "C:\\Users\\anshu\\anaconda3\\lib\\site-packages\\seaborn\\_decorators.py:36: FutureWarning: Pass the following variable as a keyword arg: x. From version 0.12, the only valid positional argument will be `data`, and passing other arguments without an explicit keyword will result in an error or misinterpretation.\n",
      "  warnings.warn(\n"
     ]
    },
    {
     "data": {
      "image/png": "[encoded data removed]",
      "text/plain": [
       "<Figure size 864x360 with 1 Axes>"
      ]
     },
     "metadata": {
      "needs_background": "light"
     },
     "output_type": "display_data"
    }
   ],
   "source": [
    "plt.figure(figsize=(12,5))\n",
    "sns.countplot(sentiments)\n",
    "plt.show()"
   ]
  },
  {
   "cell_type": "markdown",
   "id": "ad6542e5",
   "metadata": {},
   "source": [
    "## Wordcloud Analysis"
   ]
  },
  {
   "cell_type": "code",
   "execution_count": 47,
   "id": "02d837c1",
   "metadata": {
    "collapsed": true
   },
   "outputs": [
    {
     "data": {
      "text/html": [
       "<div>\n",
       "<style scoped>\n",
       "    .dataframe tbody tr th:only-of-type {\n",
       "        vertical-align: middle;\n",
       "    }\n",
       "\n",
       "    .dataframe tbody tr th {\n",
       "        vertical-align: top;\n",
       "    }\n",
       "\n",
       "    .dataframe thead th {\n",
       "        text-align: right;\n",
       "    }\n",
       "</style>\n",
       "<table border=\"1\" class=\"dataframe\">\n",
       "  <thead>\n",
       "    <tr style=\"text-align: right;\">\n",
       "      <th></th>\n",
       "      <th>tweets</th>\n",
       "      <th>sents</th>\n",
       "    </tr>\n",
       "  </thead>\n",
       "  <tbody>\n",
       "    <tr>\n",
       "      <th>0</th>\n",
       "      <td>There are so many reasons to #WatchMimiWithFam...</td>\n",
       "      <td>Positive</td>\n",
       "    </tr>\n",
       "    <tr>\n",
       "      <th>1</th>\n",
       "      <td>Jio SIM 2 minute key down thi kya?</td>\n",
       "      <td>Neutral</td>\n",
       "    </tr>\n",
       "    <tr>\n",
       "      <th>2</th>\n",
       "      <td>HEy!! i think jio will use any one of persona...</td>\n",
       "      <td>Neutral</td>\n",
       "    </tr>\n",
       "    <tr>\n",
       "      <th>3</th>\n",
       "      <td>I want open jio payment bank account</td>\n",
       "      <td>Neutral</td>\n",
       "    </tr>\n",
       "    <tr>\n",
       "      <th>4</th>\n",
       "      <td>Jio fiber is a thief gang with jio company, to...</td>\n",
       "      <td>Neutral</td>\n",
       "    </tr>\n",
       "  </tbody>\n",
       "</table>\n",
       "</div>"
      ],
      "text/plain": [
       "                                              tweets     sents\n",
       "0  There are so many reasons to #WatchMimiWithFam...  Positive\n",
       "1                 Jio SIM 2 minute key down thi kya?   Neutral\n",
       "2   HEy!! i think jio will use any one of persona...   Neutral\n",
       "3               I want open jio payment bank account   Neutral\n",
       "4  Jio fiber is a thief gang with jio company, to...   Neutral"
      ]
     },
     "execution_count": 47,
     "metadata": {},
     "output_type": "execute_result"
    }
   ],
   "source": [
    "df = pd.DataFrame({\"tweets\":cleantw,\"sents\":sentiments})\n",
    "df.head()"
   ]
  },
  {
   "cell_type": "code",
   "execution_count": 48,
   "id": "e2b1ec08",
   "metadata": {
    "collapsed": true
   },
   "outputs": [
    {
     "data": {
      "image/png": "[encoded data removed]",
      "text/plain": [
       "<Figure size 864x360 with 1 Axes>"
      ]
     },
     "metadata": {
      "needs_background": "light"
     },
     "output_type": "display_data"
    }
   ],
   "source": [
    "pdata = df.tweets[df.sents==\"Positive\"].tolist()\n",
    "wd = wordcloud.WordCloud(max_words=20,background_color='white',width=1200,\n",
    "                        height=800).generate_from_text(\" \".join(pdata))\n",
    "plt.figure(figsize=(12,5))\n",
    "plt.imshow(wd)\n",
    "plt.show()"
   ]
  },
  {
   "cell_type": "code",
   "execution_count": 49,
   "id": "a5747ae8",
   "metadata": {
    "scrolled": true
   },
   "outputs": [
    {
     "data": {
      "image/png": "[encoded data removed]",
      "text/plain": [
       "<Figure size 864x360 with 1 Axes>"
      ]
     },
     "metadata": {
      "needs_background": "light"
     },
     "output_type": "display_data"
    }
   ],
   "source": [
    "ndata = df.tweets[df.sents==\"Negative\"].tolist()\n",
    "wd = wordcloud.WordCloud(max_words=20,background_color='white',width=1200,\n",
    "                        height=800).generate_from_text(\" \".join(ndata))\n",
    "plt.figure(figsize=(12,5))\n",
    "plt.imshow(wd)\n",
    "plt.show()"
   ]
  },
  {
   "cell_type": "markdown",
   "id": "4f202125",
   "metadata": {},
   "source": [
    "## NER Analysis"
   ]
  },
  {
   "cell_type": "code",
   "execution_count": 50,
   "id": "fccc063a",
   "metadata": {},
   "outputs": [],
   "source": [
    "nlp = spacy.load(\"en_core_web_sm\")"
   ]
  },
  {
   "cell_type": "code",
   "execution_count": 52,
   "id": "e63b188a",
   "metadata": {
    "collapsed": true
   },
   "outputs": [
    {
     "name": "stderr",
     "output_type": "stream",
     "text": [
      "C:\\Users\\anshu\\anaconda3\\lib\\site-packages\\spacy\\displacy\\__init__.py:191: UserWarning: [W006] No entities to visualize found in Doc object. If this is surprising to you, make sure the Doc was processed using a model that supports named entity recognition, and check the `doc.ents` property manually if necessary.\n",
      "  warnings.warn(Warnings.W006)\n"
     ]
    },
    {
     "data": {
      "text/html": [
       "<span class=\"tex2jax_ignore\"><div class=\"entities\" style=\"line-height: 2.5; direction: ltr\">There are so many reasons to #WatchMimiWithFamily but you have already heard enough😉</br></br>Watch #Mimi on  … </div></span>"
      ],
      "text/plain": [
       "<IPython.core.display.HTML object>"
      ]
     },
     "metadata": {},
     "output_type": "display_data"
    },
    {
     "data": {
      "text/html": [
       "<span class=\"tex2jax_ignore\"><div class=\"entities\" style=\"line-height: 2.5; direction: ltr\"> \n",
       "<mark class=\"entity\" style=\"background: #7aecec; padding: 0.45em 0.6em; margin: 0 0.25em; line-height: 1; border-radius: 0.35em;\">\n",
       "    JIO\n",
       "    <span style=\"font-size: 0.8em; font-weight: bold; line-height: 1; border-radius: 0.35em; vertical-align: middle; margin-left: 0.5rem\">ORG</span>\n",
       "</mark>\n",
       " has a great network across \n",
       "<mark class=\"entity\" style=\"background: #feca74; padding: 0.45em 0.6em; margin: 0 0.25em; line-height: 1; border-radius: 0.35em;\">\n",
       "    India\n",
       "    <span style=\"font-size: 0.8em; font-weight: bold; line-height: 1; border-radius: 0.35em; vertical-align: middle; margin-left: 0.5rem\">GPE</span>\n",
       "</mark>\n",
       " even in the villages with the cheapest price, that will be ben… </div></span>"
      ],
      "text/plain": [
       "<IPython.core.display.HTML object>"
      ]
     },
     "metadata": {},
     "output_type": "display_data"
    },
    {
     "data": {
      "text/html": [
       "<span class=\"tex2jax_ignore\"><div class=\"entities\" style=\"line-height: 2.5; direction: ltr\">   We are here to help. Kindly DM and help us with your \n",
       "<mark class=\"entity\" style=\"background: #aa9cfc; padding: 0.45em 0.6em; margin: 0 0.25em; line-height: 1; border-radius: 0.35em;\">\n",
       "    Jio\n",
       "    <span style=\"font-size: 0.8em; font-weight: bold; line-height: 1; border-radius: 0.35em; vertical-align: middle; margin-left: 0.5rem\">PERSON</span>\n",
       "</mark>\n",
       " number and an alternate number along with the address where…</div></span>"
      ],
      "text/plain": [
       "<IPython.core.display.HTML object>"
      ]
     },
     "metadata": {},
     "output_type": "display_data"
    },
    {
     "data": {
      "text/html": [
       "<span class=\"tex2jax_ignore\"><div class=\"entities\" style=\"line-height: 2.5; direction: ltr\"> Please check inbox. This is highly unacceptable. The \n",
       "<mark class=\"entity\" style=\"background: #7aecec; padding: 0.45em 0.6em; margin: 0 0.25em; line-height: 1; border-radius: 0.35em;\">\n",
       "    jio\n",
       "    <span style=\"font-size: 0.8em; font-weight: bold; line-height: 1; border-radius: 0.35em; vertical-align: middle; margin-left: 0.5rem\">ORG</span>\n",
       "</mark>\n",
       " fiber person who came for documentation is ignori… </div></span>"
      ],
      "text/plain": [
       "<IPython.core.display.HTML object>"
      ]
     },
     "metadata": {},
     "output_type": "display_data"
    },
    {
     "data": {
      "text/html": [
       "<span class=\"tex2jax_ignore\"><div class=\"entities\" style=\"line-height: 2.5; direction: ltr\">  Want to compare it with \n",
       "<mark class=\"entity\" style=\"background: #7aecec; padding: 0.45em 0.6em; margin: 0 0.25em; line-height: 1; border-radius: 0.35em;\">\n",
       "    jio tv lol\n",
       "    <span style=\"font-size: 0.8em; font-weight: bold; line-height: 1; border-radius: 0.35em; vertical-align: middle; margin-left: 0.5rem\">ORG</span>\n",
       "</mark>\n",
       "</div></span>"
      ],
      "text/plain": [
       "<IPython.core.display.HTML object>"
      ]
     },
     "metadata": {},
     "output_type": "display_data"
    },
    {
     "data": {
      "text/html": [
       "<span class=\"tex2jax_ignore\"><div class=\"entities\" style=\"line-height: 2.5; direction: ltr\">Full score is fat jio~</div></span>"
      ],
      "text/plain": [
       "<IPython.core.display.HTML object>"
      ]
     },
     "metadata": {},
     "output_type": "display_data"
    },
    {
     "data": {
      "text/html": [
       "<span class=\"tex2jax_ignore\"><div class=\"entities\" style=\"line-height: 2.5; direction: ltr\">\n",
       "<mark class=\"entity\" style=\"background: #7aecec; padding: 0.45em 0.6em; margin: 0 0.25em; line-height: 1; border-radius: 0.35em;\">\n",
       "    jio tv mai free\n",
       "    <span style=\"font-size: 0.8em; font-weight: bold; line-height: 1; border-radius: 0.35em; vertical-align: middle; margin-left: 0.5rem\">ORG</span>\n",
       "</mark>\n",
       " hai</div></span>"
      ],
      "text/plain": [
       "<IPython.core.display.HTML object>"
      ]
     },
     "metadata": {},
     "output_type": "display_data"
    },
    {
     "data": {
      "text/html": [
       "<span class=\"tex2jax_ignore\"><div class=\"entities\" style=\"line-height: 2.5; direction: ltr\">You need to configure your \n",
       "<mark class=\"entity\" style=\"background: #e4e7d2; padding: 0.45em 0.6em; margin: 0 0.25em; line-height: 1; border-radius: 0.35em;\">\n",
       "    10\n",
       "    <span style=\"font-size: 0.8em; font-weight: bold; line-height: 1; border-radius: 0.35em; vertical-align: middle; margin-left: 0.5rem\">CARDINAL</span>\n",
       "</mark>\n",
       "-digit \n",
       "<mark class=\"entity\" style=\"background: #aa9cfc; padding: 0.45em 0.6em; margin: 0 0.25em; line-height: 1; border-radius: 0.35em;\">\n",
       "    Jio Fiber\n",
       "    <span style=\"font-size: 0.8em; font-weight: bold; line-height: 1; border-radius: 0.35em; vertical-align: middle; margin-left: 0.5rem\">PERSON</span>\n",
       "</mark>\n",
       " number on the Jio Join app to begin the new experience</br>… </div></span>"
      ],
      "text/plain": [
       "<IPython.core.display.HTML object>"
      ]
     },
     "metadata": {},
     "output_type": "display_data"
    },
    {
     "data": {
      "text/html": [
       "<span class=\"tex2jax_ignore\"><div class=\"entities\" style=\"line-height: 2.5; direction: ltr\"> We will be glad to have you as a member of our \n",
       "<mark class=\"entity\" style=\"background: #aa9cfc; padding: 0.45em 0.6em; margin: 0 0.25em; line-height: 1; border-radius: 0.35em;\">\n",
       "    Jio\n",
       "    <span style=\"font-size: 0.8em; font-weight: bold; line-height: 1; border-radius: 0.35em; vertical-align: middle; margin-left: 0.5rem\">PERSON</span>\n",
       "</mark>\n",
       " family. Please DM your full name, number to be porte… </div></span>"
      ],
      "text/plain": [
       "<IPython.core.display.HTML object>"
      ]
     },
     "metadata": {},
     "output_type": "display_data"
    },
    {
     "data": {
      "text/html": [
       "<span class=\"tex2jax_ignore\"><div class=\"entities\" style=\"line-height: 2.5; direction: ltr\"> Jio tv is better 😅 options period</div></span>"
      ],
      "text/plain": [
       "<IPython.core.display.HTML object>"
      ]
     },
     "metadata": {},
     "output_type": "display_data"
    },
    {
     "data": {
      "text/html": [
       "<span class=\"tex2jax_ignore\"><div class=\"entities\" style=\"line-height: 2.5; direction: ltr\">Personally, \n",
       "<mark class=\"entity\" style=\"background: #aa9cfc; padding: 0.45em 0.6em; margin: 0 0.25em; line-height: 1; border-radius: 0.35em;\">\n",
       "    Prowler\n",
       "    <span style=\"font-size: 0.8em; font-weight: bold; line-height: 1; border-radius: 0.35em; vertical-align: middle; margin-left: 0.5rem\">PERSON</span>\n",
       "</mark>\n",
       " and L-Star are hot in \n",
       "<mark class=\"entity\" style=\"background: #bfe1d9; padding: 0.45em 0.6em; margin: 0 0.25em; line-height: 1; border-radius: 0.35em;\">\n",
       "    Season 10\n",
       "    <span style=\"font-size: 0.8em; font-weight: bold; line-height: 1; border-radius: 0.35em; vertical-align: middle; margin-left: 0.5rem\">DATE</span>\n",
       "</mark>\n",
       ".</div></span>"
      ],
      "text/plain": [
       "<IPython.core.display.HTML object>"
      ]
     },
     "metadata": {},
     "output_type": "display_data"
    },
    {
     "data": {
      "text/html": [
       "<span class=\"tex2jax_ignore\"><div class=\"entities\" style=\"line-height: 2.5; direction: ltr\"> We would love to have you onboard. Please DM us your name, contact number you wish to port in \n",
       "<mark class=\"entity\" style=\"background: #feca74; padding: 0.45em 0.6em; margin: 0 0.25em; line-height: 1; border-radius: 0.35em;\">\n",
       "    Jio\n",
       "    <span style=\"font-size: 0.8em; font-weight: bold; line-height: 1; border-radius: 0.35em; vertical-align: middle; margin-left: 0.5rem\">GPE</span>\n",
       "</mark>\n",
       ", alter… </div></span>"
      ],
      "text/plain": [
       "<IPython.core.display.HTML object>"
      ]
     },
     "metadata": {},
     "output_type": "display_data"
    }
   ],
   "source": [
    "for tw in pdata:\n",
    "    doc = nlp(tw)\n",
    "    displacy.render(doc,style='ent',jupyter=True)"
   ]
  },
  {
   "cell_type": "code",
   "execution_count": 53,
   "id": "c47b6d2b",
   "metadata": {
    "scrolled": true
   },
   "outputs": [
    {
     "data": {
      "text/html": [
       "<span class=\"tex2jax_ignore\"><div class=\"entities\" style=\"line-height: 2.5; direction: ltr\">  Tech Talks #1509 - Govt on iPhone, \n",
       "<mark class=\"entity\" style=\"background: #7aecec; padding: 0.45em 0.6em; margin: 0 0.25em; line-height: 1; border-radius: 0.35em;\">\n",
       "    BGMI Bad News\n",
       "    <span style=\"font-size: 0.8em; font-weight: bold; line-height: 1; border-radius: 0.35em; vertical-align: middle; margin-left: 0.5rem\">ORG</span>\n",
       "</mark>\n",
       ", \n",
       "<mark class=\"entity\" style=\"background: #aa9cfc; padding: 0.45em 0.6em; margin: 0 0.25em; line-height: 1; border-radius: 0.35em;\">\n",
       "    Jio AirTel Vi Updates\n",
       "    <span style=\"font-size: 0.8em; font-weight: bold; line-height: 1; border-radius: 0.35em; vertical-align: middle; margin-left: 0.5rem\">PERSON</span>\n",
       "</mark>\n",
       ", Mi \n",
       "<mark class=\"entity\" style=\"background: #e4e7d2; padding: 0.45em 0.6em; margin: 0 0.25em; line-height: 1; border-radius: 0.35em;\">\n",
       "    12\n",
       "    <span style=\"font-size: 0.8em; font-weight: bold; line-height: 1; border-radius: 0.35em; vertical-align: middle; margin-left: 0.5rem\">CARDINAL</span>\n",
       "</mark>\n",
       " Updates, \n",
       "<mark class=\"entity\" style=\"background: #7aecec; padding: 0.45em 0.6em; margin: 0 0.25em; line-height: 1; border-radius: 0.35em;\">\n",
       "    RedmiBook\n",
       "    <span style=\"font-size: 0.8em; font-weight: bold; line-height: 1; border-radius: 0.35em; vertical-align: middle; margin-left: 0.5rem\">ORG</span>\n",
       "</mark>\n",
       " \n",
       "<mark class=\"entity\" style=\"background: #e4e7d2; padding: 0.45em 0.6em; margin: 0 0.25em; line-height: 1; border-radius: 0.35em;\">\n",
       "    15\n",
       "    <span style=\"font-size: 0.8em; font-weight: bold; line-height: 1; border-radius: 0.35em; vertical-align: middle; margin-left: 0.5rem\">CARDINAL</span>\n",
       "</mark>\n",
       " …</div></span>"
      ],
      "text/plain": [
       "<IPython.core.display.HTML object>"
      ]
     },
     "metadata": {},
     "output_type": "display_data"
    },
    {
     "data": {
      "text/html": [
       "<span class=\"tex2jax_ignore\"><div class=\"entities\" style=\"line-height: 2.5; direction: ltr\">\n",
       "<mark class=\"entity\" style=\"background: #aa9cfc; padding: 0.45em 0.6em; margin: 0 0.25em; line-height: 1; border-radius: 0.35em;\">\n",
       "    Bhai Ravikumar\n",
       "    <span style=\"font-size: 0.8em; font-weight: bold; line-height: 1; border-radius: 0.35em; vertical-align: middle; margin-left: 0.5rem\">PERSON</span>\n",
       "</mark>\n",
       " tune mardo ki izzat bachayi hai aaj</br>\n",
       "<mark class=\"entity\" style=\"background: #aa9cfc; padding: 0.45em 0.6em; margin: 0 0.25em; line-height: 1; border-radius: 0.35em;\">\n",
       "    Juk Juk jio\n",
       "    <span style=\"font-size: 0.8em; font-weight: bold; line-height: 1; border-radius: 0.35em; vertical-align: middle; margin-left: 0.5rem\">PERSON</span>\n",
       "</mark>\n",
       " mere laal</br>#\n",
       "<mark class=\"entity\" style=\"background: #e4e7d2; padding: 0.45em 0.6em; margin: 0 0.25em; line-height: 1; border-radius: 0.35em;\">\n",
       "    TokyoOlympics\n",
       "    <span style=\"font-size: 0.8em; font-weight: bold; line-height: 1; border-radius: 0.35em; vertical-align: middle; margin-left: 0.5rem\">MONEY</span>\n",
       "</mark>\n",
       "</br>#Gold</div></span>"
      ],
      "text/plain": [
       "<IPython.core.display.HTML object>"
      ]
     },
     "metadata": {},
     "output_type": "display_data"
    },
    {
     "data": {
      "text/html": [
       "<span class=\"tex2jax_ignore\"><div class=\"entities\" style=\"line-height: 2.5; direction: ltr\"> We are sorry for the poor experience you have had. Please \n",
       "<mark class=\"entity\" style=\"background: #aa9cfc; padding: 0.45em 0.6em; margin: 0 0.25em; line-height: 1; border-radius: 0.35em;\">\n",
       "    DM Jio\n",
       "    <span style=\"font-size: 0.8em; font-weight: bold; line-height: 1; border-radius: 0.35em; vertical-align: middle; margin-left: 0.5rem\">PERSON</span>\n",
       "</mark>\n",
       " number, alternate number and error messa… </div></span>"
      ],
      "text/plain": [
       "<IPython.core.display.HTML object>"
      ]
     },
     "metadata": {},
     "output_type": "display_data"
    },
    {
     "data": {
      "text/html": [
       "<span class=\"tex2jax_ignore\"><div class=\"entities\" style=\"line-height: 2.5; direction: ltr\"> I can't find the \n",
       "<mark class=\"entity\" style=\"background: #7aecec; padding: 0.45em 0.6em; margin: 0 0.25em; line-height: 1; border-radius: 0.35em;\">\n",
       "    jio tv\n",
       "    <span style=\"font-size: 0.8em; font-weight: bold; line-height: 1; border-radius: 0.35em; vertical-align: middle; margin-left: 0.5rem\">ORG</span>\n",
       "</mark>\n",
       " app on \n",
       "<mark class=\"entity\" style=\"background: #7aecec; padding: 0.45em 0.6em; margin: 0 0.25em; line-height: 1; border-radius: 0.35em;\">\n",
       "    Android\n",
       "    <span style=\"font-size: 0.8em; font-weight: bold; line-height: 1; border-radius: 0.35em; vertical-align: middle; margin-left: 0.5rem\">ORG</span>\n",
       "</mark>\n",
       " tv as well. Why is it not available</div></span>"
      ],
      "text/plain": [
       "<IPython.core.display.HTML object>"
      ]
     },
     "metadata": {},
     "output_type": "display_data"
    },
    {
     "data": {
      "text/html": [
       "<span class=\"tex2jax_ignore\"><div class=\"entities\" style=\"line-height: 2.5; direction: ltr\">I'm sorry nder, I'm even salfok with appa \n",
       "<mark class=\"entity\" style=\"background: #aa9cfc; padding: 0.45em 0.6em; margin: 0 0.25em; line-height: 1; border-radius: 0.35em;\">\n",
       "    jay\n",
       "    <span style=\"font-size: 0.8em; font-weight: bold; line-height: 1; border-radius: 0.35em; vertical-align: middle; margin-left: 0.5rem\">PERSON</span>\n",
       "</mark>\n",
       " and \n",
       "<mark class=\"entity\" style=\"background: #7aecec; padding: 0.45em 0.6em; margin: 0 0.25em; line-height: 1; border-radius: 0.35em;\">\n",
       "    jio\n",
       "    <span style=\"font-size: 0.8em; font-weight: bold; line-height: 1; border-radius: 0.35em; vertical-align: middle; margin-left: 0.5rem\">ORG</span>\n",
       "</mark>\n",
       ".</div></span>"
      ],
      "text/plain": [
       "<IPython.core.display.HTML object>"
      ]
     },
     "metadata": {},
     "output_type": "display_data"
    }
   ],
   "source": [
    "for tw in ndata:\n",
    "    doc = nlp(tw)\n",
    "    displacy.render(doc,style='ent',jupyter=True)"
   ]
  },
  {
   "cell_type": "code",
   "execution_count": 59,
   "id": "588146df",
   "metadata": {},
   "outputs": [
    {
     "name": "stdout",
     "output_type": "stream",
     "text": [
      "jay PERSON\n",
      "jio ORG\n"
     ]
    }
   ],
   "source": [
    "for e in doc.ents:\n",
    "    print(e,e.label_)"
   ]
  },
  {
   "cell_type": "markdown",
   "id": "bd9765da",
   "metadata": {},
   "source": [
    "## Working with textblob"
   ]
  },
  {
   "cell_type": "code",
   "execution_count": 22,
   "id": "da734ca4",
   "metadata": {},
   "outputs": [],
   "source": [
    "data= TextBlob(\"Hello Everyone, I hope you are doing good today.\")"
   ]
  },
  {
   "cell_type": "code",
   "execution_count": 23,
   "id": "480cdaa2",
   "metadata": {},
   "outputs": [
    {
     "data": {
      "text/plain": [
       "'en'"
      ]
     },
     "execution_count": 23,
     "metadata": {},
     "output_type": "execute_result"
    }
   ],
   "source": [
    "data.detect_language()"
   ]
  },
  {
   "cell_type": "code",
   "execution_count": 24,
   "id": "77b4e38d",
   "metadata": {},
   "outputs": [
    {
     "data": {
      "text/plain": [
       "TextBlob(\"सभी को नमस्कार, मुझे आशा है कि आप आज अच्छा कर रहे हैं।\")"
      ]
     },
     "execution_count": 24,
     "metadata": {},
     "output_type": "execute_result"
    }
   ],
   "source": [
    "data.translate(to='hi')"
   ]
  },
  {
   "cell_type": "code",
   "execution_count": 25,
   "id": "406d74fd",
   "metadata": {},
   "outputs": [
    {
     "data": {
      "text/plain": [
       "TextBlob(\"அனைவருக்கும் வணக்கம், நீங்கள் இன்று நன்றாக இருக்கிறீர்கள் என்று நம்புகிறேன்.\")"
      ]
     },
     "execution_count": 25,
     "metadata": {},
     "output_type": "execute_result"
    }
   ],
   "source": [
    "data.translate(to='ta')"
   ]
  },
  {
   "cell_type": "code",
   "execution_count": 26,
   "id": "0e412ea7",
   "metadata": {},
   "outputs": [
    {
     "data": {
      "text/plain": [
       "TextBlob(\"అందరికీ నమస్కారం, మీరు ఈరోజు మంచి పని చేస్తున్నారని ఆశిస్తున్నాను.\")"
      ]
     },
     "execution_count": 26,
     "metadata": {},
     "output_type": "execute_result"
    }
   ],
   "source": [
    "data.translate(to='te')"
   ]
  },
  {
   "cell_type": "code",
   "execution_count": 27,
   "id": "bf98ab81",
   "metadata": {},
   "outputs": [
    {
     "data": {
      "text/plain": [
       "TextBlob(\"مرحباً بالجميع ، أتمنى أن تكونوا بخير اليوم.\")"
      ]
     },
     "execution_count": 27,
     "metadata": {},
     "output_type": "execute_result"
    }
   ],
   "source": [
    "data.translate(to='ar')"
   ]
  },
  {
   "cell_type": "code",
   "execution_count": 29,
   "id": "f3b7dcda",
   "metadata": {},
   "outputs": [
    {
     "data": {
      "text/plain": [
       "TextBlob(\"大家好，我希望你今天过得很好。\")"
      ]
     },
     "execution_count": 29,
     "metadata": {},
     "output_type": "execute_result"
    }
   ],
   "source": [
    "data.translate(to='Zh-Cn')"
   ]
  },
  {
   "cell_type": "code",
   "execution_count": 30,
   "id": "19960e67",
   "metadata": {},
   "outputs": [
    {
     "data": {
      "text/plain": [
       "0.3666666666666667"
      ]
     },
     "execution_count": 30,
     "metadata": {},
     "output_type": "execute_result"
    }
   ],
   "source": [
    "data=TextBlob(\"The movie was amazing and i love such movies.\")\n",
    "data.sentiment.polarity"
   ]
  },
  {
   "cell_type": "code",
   "execution_count": 31,
   "id": "0b703a82",
   "metadata": {},
   "outputs": [
    {
     "data": {
      "text/plain": [
       "0.5"
      ]
     },
     "execution_count": 31,
     "metadata": {},
     "output_type": "execute_result"
    }
   ],
   "source": [
    "data=TextBlob(\"The movie was awesome and i love such movies.\")\n",
    "data.sentiment.polarity"
   ]
  },
  {
   "cell_type": "code",
   "execution_count": 32,
   "id": "0d7d7b05",
   "metadata": {},
   "outputs": [
    {
     "data": {
      "text/plain": [
       "-0.06666666666666661"
      ]
     },
     "execution_count": 32,
     "metadata": {},
     "output_type": "execute_result"
    }
   ],
   "source": [
    "data=TextBlob(\"The movie was bad and i love such movies.\")\n",
    "data.sentiment.polarity"
   ]
  },
  {
   "cell_type": "code",
   "execution_count": 35,
   "id": "e91fa19d",
   "metadata": {},
   "outputs": [
    {
     "data": {
      "text/plain": [
       "-0.5"
      ]
     },
     "execution_count": 35,
     "metadata": {},
     "output_type": "execute_result"
    }
   ],
   "source": [
    "data=TextBlob(\"The movie was bad and i hate such movies.\")\n",
    "data.sentiment.polarity"
   ]
  },
  {
   "cell_type": "code",
   "execution_count": 36,
   "id": "ca59e9ab",
   "metadata": {},
   "outputs": [
    {
     "data": {
      "text/plain": [
       "-0.6"
      ]
     },
     "execution_count": 36,
     "metadata": {},
     "output_type": "execute_result"
    }
   ],
   "source": [
    "data=TextBlob(\"The movie was worst and i hate such movies.\")\n",
    "data.sentiment.polarity"
   ]
  },
  {
   "cell_type": "code",
   "execution_count": null,
   "id": "bfd999ed",
   "metadata": {},
   "outputs": [],
   "source": []
  }
 ],
 "metadata": {
  "kernelspec": {
   "display_name": "Python 3",
   "language": "python",
   "name": "python3"
  },
  "language_info": {
   "codemirror_mode": {
    "name": "ipython",
    "version": 3
   },
   "file_extension": ".py",
   "mimetype": "text/x-python",
   "name": "python",
   "nbconvert_exporter": "python",
   "pygments_lexer": "ipython3",
   "version": "3.8.8"
  }
 },
 "nbformat": 4,
 "nbformat_minor": 5
}
