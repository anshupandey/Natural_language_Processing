{
 "cells": [
  {
   "cell_type": "markdown",
   "id": "3d929e9f",
   "metadata": {},
   "source": [
    "# Email classification - 20newsgroup dataset"
   ]
  },
  {
   "cell_type": "code",
   "execution_count": 1,
   "id": "4e77acd6",
   "metadata": {},
   "outputs": [],
   "source": [
    "import pandas as pd\n",
    "import numpy as np\n",
    "import matplotlib.pyplot as plt\n",
    "from sklearn import datasets"
   ]
  },
  {
   "cell_type": "code",
   "execution_count": 2,
   "id": "0af5dd3e",
   "metadata": {},
   "outputs": [],
   "source": [
    "# load the train data\n",
    "traind = datasets.fetch_20newsgroups(subset='train')\n",
    "testd = datasets.fetch_20newsgroups(subset='test')"
   ]
  },
  {
   "cell_type": "code",
   "execution_count": 32,
   "id": "d35c3509",
   "metadata": {},
   "outputs": [],
   "source": [
    "xtr = traind.data\n",
    "ytr = traind.target\n",
    "xts = testd.data\n",
    "yts = testd.target\n",
    "cnames = traind.target_names"
   ]
  },
  {
   "cell_type": "code",
   "execution_count": 18,
   "id": "8a7cd919",
   "metadata": {},
   "outputs": [
    {
     "name": "stdout",
     "output_type": "stream",
     "text": [
      "11314 11314\n",
      "7532 7532\n",
      "20\n"
     ]
    }
   ],
   "source": [
    "print(len(xtr),len(ytr))\n",
    "print(len(xts),len(yts))\n",
    "print(len(cnames))"
   ]
  },
  {
   "cell_type": "code",
   "execution_count": 8,
   "id": "140185c5",
   "metadata": {
    "collapsed": true
   },
   "outputs": [
    {
     "name": "stdout",
     "output_type": "stream",
     "text": [
      ".. _20newsgroups_dataset:\n",
      "\n",
      "The 20 newsgroups text dataset\n",
      "------------------------------\n",
      "\n",
      "The 20 newsgroups dataset comprises around 18000 newsgroups posts on\n",
      "20 topics split in two subsets: one for training (or development)\n",
      "and the other one for testing (or for performance evaluation). The split\n",
      "between the train and test set is based upon a messages posted before\n",
      "and after a specific date.\n",
      "\n",
      "This module contains two loaders. The first one,\n",
      ":func:`sklearn.datasets.fetch_20newsgroups`,\n",
      "returns a list of the raw texts that can be fed to text feature\n",
      "extractors such as :class:`~sklearn.feature_extraction.text.CountVectorizer`\n",
      "with custom parameters so as to extract feature vectors.\n",
      "The second one, :func:`sklearn.datasets.fetch_20newsgroups_vectorized`,\n",
      "returns ready-to-use features, i.e., it is not necessary to use a feature\n",
      "extractor.\n",
      "\n",
      "**Data Set Characteristics:**\n",
      "\n",
      "    =================   ==========\n",
      "    Classes                     20\n",
      "    Samples total            18846\n",
      "    Dimensionality               1\n",
      "    Features                  text\n",
      "    =================   ==========\n",
      "\n",
      "Usage\n",
      "~~~~~\n",
      "\n",
      "The :func:`sklearn.datasets.fetch_20newsgroups` function is a data\n",
      "fetching / caching functions that downloads the data archive from\n",
      "the original `20 newsgroups website`_, extracts the archive contents\n",
      "in the ``~/scikit_learn_data/20news_home`` folder and calls the\n",
      ":func:`sklearn.datasets.load_files` on either the training or\n",
      "testing set folder, or both of them::\n",
      "\n",
      "  >>> from sklearn.datasets import fetch_20newsgroups\n",
      "  >>> newsgroups_train = fetch_20newsgroups(subset='train')\n",
      "\n",
      "  >>> from pprint import pprint\n",
      "  >>> pprint(list(newsgroups_train.target_names))\n",
      "  ['alt.atheism',\n",
      "   'comp.graphics',\n",
      "   'comp.os.ms-windows.misc',\n",
      "   'comp.sys.ibm.pc.hardware',\n",
      "   'comp.sys.mac.hardware',\n",
      "   'comp.windows.x',\n",
      "   'misc.forsale',\n",
      "   'rec.autos',\n",
      "   'rec.motorcycles',\n",
      "   'rec.sport.baseball',\n",
      "   'rec.sport.hockey',\n",
      "   'sci.crypt',\n",
      "   'sci.electronics',\n",
      "   'sci.med',\n",
      "   'sci.space',\n",
      "   'soc.religion.christian',\n",
      "   'talk.politics.guns',\n",
      "   'talk.politics.mideast',\n",
      "   'talk.politics.misc',\n",
      "   'talk.religion.misc']\n",
      "\n",
      "The real data lies in the ``filenames`` and ``target`` attributes. The target\n",
      "attribute is the integer index of the category::\n",
      "\n",
      "  >>> newsgroups_train.filenames.shape\n",
      "  (11314,)\n",
      "  >>> newsgroups_train.target.shape\n",
      "  (11314,)\n",
      "  >>> newsgroups_train.target[:10]\n",
      "  array([ 7,  4,  4,  1, 14, 16, 13,  3,  2,  4])\n",
      "\n",
      "It is possible to load only a sub-selection of the categories by passing the\n",
      "list of the categories to load to the\n",
      ":func:`sklearn.datasets.fetch_20newsgroups` function::\n",
      "\n",
      "  >>> cats = ['alt.atheism', 'sci.space']\n",
      "  >>> newsgroups_train = fetch_20newsgroups(subset='train', categories=cats)\n",
      "\n",
      "  >>> list(newsgroups_train.target_names)\n",
      "  ['alt.atheism', 'sci.space']\n",
      "  >>> newsgroups_train.filenames.shape\n",
      "  (1073,)\n",
      "  >>> newsgroups_train.target.shape\n",
      "  (1073,)\n",
      "  >>> newsgroups_train.target[:10]\n",
      "  array([0, 1, 1, 1, 0, 1, 1, 0, 0, 0])\n",
      "\n",
      "Converting text to vectors\n",
      "~~~~~~~~~~~~~~~~~~~~~~~~~~\n",
      "\n",
      "In order to feed predictive or clustering models with the text data,\n",
      "one first need to turn the text into vectors of numerical values suitable\n",
      "for statistical analysis. This can be achieved with the utilities of the\n",
      "``sklearn.feature_extraction.text`` as demonstrated in the following\n",
      "example that extract `TF-IDF`_ vectors of unigram tokens\n",
      "from a subset of 20news::\n",
      "\n",
      "  >>> from sklearn.feature_extraction.text import TfidfVectorizer\n",
      "  >>> categories = ['alt.atheism', 'talk.religion.misc',\n",
      "  ...               'comp.graphics', 'sci.space']\n",
      "  >>> newsgroups_train = fetch_20newsgroups(subset='train',\n",
      "  ...                                       categories=categories)\n",
      "  >>> vectorizer = TfidfVectorizer()\n",
      "  >>> vectors = vectorizer.fit_transform(newsgroups_train.data)\n",
      "  >>> vectors.shape\n",
      "  (2034, 34118)\n",
      "\n",
      "The extracted TF-IDF vectors are very sparse, with an average of 159 non-zero\n",
      "components by sample in a more than 30000-dimensional space\n",
      "(less than .5% non-zero features)::\n",
      "\n",
      "  >>> vectors.nnz / float(vectors.shape[0])\n",
      "  159.01327...\n",
      "\n",
      ":func:`sklearn.datasets.fetch_20newsgroups_vectorized` is a function which \n",
      "returns ready-to-use token counts features instead of file names.\n",
      "\n",
      ".. _`20 newsgroups website`: http://people.csail.mit.edu/jrennie/20Newsgroups/\n",
      ".. _`TF-IDF`: https://en.wikipedia.org/wiki/Tf-idf\n",
      "\n",
      "\n",
      "Filtering text for more realistic training\n",
      "~~~~~~~~~~~~~~~~~~~~~~~~~~~~~~~~~~~~~~~~~~\n",
      "\n",
      "It is easy for a classifier to overfit on particular things that appear in the\n",
      "20 Newsgroups data, such as newsgroup headers. Many classifiers achieve very\n",
      "high F-scores, but their results would not generalize to other documents that\n",
      "aren't from this window of time.\n",
      "\n",
      "For example, let's look at the results of a multinomial Naive Bayes classifier,\n",
      "which is fast to train and achieves a decent F-score::\n",
      "\n",
      "  >>> from sklearn.naive_bayes import MultinomialNB\n",
      "  >>> from sklearn import metrics\n",
      "  >>> newsgroups_test = fetch_20newsgroups(subset='test',\n",
      "  ...                                      categories=categories)\n",
      "  >>> vectors_test = vectorizer.transform(newsgroups_test.data)\n",
      "  >>> clf = MultinomialNB(alpha=.01)\n",
      "  >>> clf.fit(vectors, newsgroups_train.target)\n",
      "  MultinomialNB(alpha=0.01, class_prior=None, fit_prior=True)\n",
      "\n",
      "  >>> pred = clf.predict(vectors_test)\n",
      "  >>> metrics.f1_score(newsgroups_test.target, pred, average='macro')\n",
      "  0.88213...\n",
      "\n",
      "(The example :ref:`sphx_glr_auto_examples_text_plot_document_classification_20newsgroups.py` shuffles\n",
      "the training and test data, instead of segmenting by time, and in that case\n",
      "multinomial Naive Bayes gets a much higher F-score of 0.88. Are you suspicious\n",
      "yet of what's going on inside this classifier?)\n",
      "\n",
      "Let's take a look at what the most informative features are:\n",
      "\n",
      "  >>> import numpy as np\n",
      "  >>> def show_top10(classifier, vectorizer, categories):\n",
      "  ...     feature_names = np.asarray(vectorizer.get_feature_names())\n",
      "  ...     for i, category in enumerate(categories):\n",
      "  ...         top10 = np.argsort(classifier.coef_[i])[-10:]\n",
      "  ...         print(\"%s: %s\" % (category, \" \".join(feature_names[top10])))\n",
      "  ...\n",
      "  >>> show_top10(clf, vectorizer, newsgroups_train.target_names)\n",
      "  alt.atheism: edu it and in you that is of to the\n",
      "  comp.graphics: edu in graphics it is for and of to the\n",
      "  sci.space: edu it that is in and space to of the\n",
      "  talk.religion.misc: not it you in is that and to of the\n",
      "\n",
      "\n",
      "You can now see many things that these features have overfit to:\n",
      "\n",
      "- Almost every group is distinguished by whether headers such as\n",
      "  ``NNTP-Posting-Host:`` and ``Distribution:`` appear more or less often.\n",
      "- Another significant feature involves whether the sender is affiliated with\n",
      "  a university, as indicated either by their headers or their signature.\n",
      "- The word \"article\" is a significant feature, based on how often people quote\n",
      "  previous posts like this: \"In article [article ID], [name] <[e-mail address]>\n",
      "  wrote:\"\n",
      "- Other features match the names and e-mail addresses of particular people who\n",
      "  were posting at the time.\n",
      "\n",
      "With such an abundance of clues that distinguish newsgroups, the classifiers\n",
      "barely have to identify topics from text at all, and they all perform at the\n",
      "same high level.\n",
      "\n",
      "For this reason, the functions that load 20 Newsgroups data provide a\n",
      "parameter called **remove**, telling it what kinds of information to strip out\n",
      "of each file. **remove** should be a tuple containing any subset of\n",
      "``('headers', 'footers', 'quotes')``, telling it to remove headers, signature\n",
      "blocks, and quotation blocks respectively.\n",
      "\n",
      "  >>> newsgroups_test = fetch_20newsgroups(subset='test',\n",
      "  ...                                      remove=('headers', 'footers', 'quotes'),\n",
      "  ...                                      categories=categories)\n",
      "  >>> vectors_test = vectorizer.transform(newsgroups_test.data)\n",
      "  >>> pred = clf.predict(vectors_test)\n",
      "  >>> metrics.f1_score(pred, newsgroups_test.target, average='macro')\n",
      "  0.77310...\n",
      "\n",
      "This classifier lost over a lot of its F-score, just because we removed\n",
      "metadata that has little to do with topic classification.\n",
      "It loses even more if we also strip this metadata from the training data:\n",
      "\n",
      "  >>> newsgroups_train = fetch_20newsgroups(subset='train',\n",
      "  ...                                       remove=('headers', 'footers', 'quotes'),\n",
      "  ...                                       categories=categories)\n",
      "  >>> vectors = vectorizer.fit_transform(newsgroups_train.data)\n",
      "  >>> clf = MultinomialNB(alpha=.01)\n",
      "  >>> clf.fit(vectors, newsgroups_train.target)\n",
      "  MultinomialNB(alpha=0.01, class_prior=None, fit_prior=True)\n",
      "\n",
      "  >>> vectors_test = vectorizer.transform(newsgroups_test.data)\n",
      "  >>> pred = clf.predict(vectors_test)\n",
      "  >>> metrics.f1_score(newsgroups_test.target, pred, average='macro')\n",
      "  0.76995...\n",
      "\n",
      "Some other classifiers cope better with this harder version of the task. Try\n",
      "running :ref:`sphx_glr_auto_examples_model_selection_grid_search_text_feature_extraction.py` with and without\n",
      "the ``--filter`` option to compare the results.\n",
      "\n",
      ".. topic:: Recommendation\n",
      "\n",
      "  When evaluating text classifiers on the 20 Newsgroups data, you\n",
      "  should strip newsgroup-related metadata. In scikit-learn, you can do this by\n",
      "  setting ``remove=('headers', 'footers', 'quotes')``. The F-score will be\n",
      "  lower because it is more realistic.\n",
      "\n",
      ".. topic:: Examples\n",
      "\n",
      "   * :ref:`sphx_glr_auto_examples_model_selection_grid_search_text_feature_extraction.py`\n",
      "\n",
      "   * :ref:`sphx_glr_auto_examples_text_plot_document_classification_20newsgroups.py`\n",
      "\n"
     ]
    }
   ],
   "source": [
    "print(traind.DESCR)"
   ]
  },
  {
   "cell_type": "code",
   "execution_count": 14,
   "id": "320d40c7",
   "metadata": {},
   "outputs": [
    {
     "name": "stdout",
     "output_type": "stream",
     "text": [
      "1 comp.graphics\n",
      "From: weston@ucssun1.sdsu.edu (weston t)\n",
      "Subject: graphical representation of vector-valued functions\n",
      "Organization: SDSU Computing Services\n",
      "Lines: 13\n",
      "NNTP-Posting-Host: ucssun1.sdsu.edu\n",
      "\n",
      "gnuplot, etc. make it easy to plot real valued functions of 2 variables\n",
      "but I want to plot functions whose values are 2-vectors. I have been \n",
      "doing this by plotting arrays of arrows (complete with arrowheads) but\n",
      "before going further, I thought I would ask whether someone has already\n",
      "done the work. Any pointers??\n",
      "\n",
      "thanx in advance\n",
      "\n",
      "\n",
      "Tom Weston                    | USENET: weston@ucssun1.sdsu.edu\n",
      "Department of Philosophy      | (619) 594-6218 (office)\n",
      "San Diego State Univ.         | (619) 575-7477 (home)\n",
      "San Diego, CA 92182-0303      | \n",
      "\n"
     ]
    }
   ],
   "source": [
    "print(ytr[150],cnames[ytr[150]])\n",
    "print(xtr[150])"
   ]
  },
  {
   "cell_type": "code",
   "execution_count": 16,
   "id": "96e2d8e8",
   "metadata": {},
   "outputs": [
    {
     "data": {
      "text/plain": [
       "array([ 7,  4,  4,  1, 14, 16, 13,  3,  2,  4,  8, 19,  4, 14,  6,  0,  1,\n",
       "        7, 12,  5])"
      ]
     },
     "execution_count": 16,
     "metadata": {},
     "output_type": "execute_result"
    }
   ],
   "source": [
    "ytr[:20]"
   ]
  },
  {
   "cell_type": "code",
   "execution_count": 17,
   "id": "d9d0299a",
   "metadata": {},
   "outputs": [
    {
     "data": {
      "text/plain": [
       "['alt.atheism',\n",
       " 'comp.graphics',\n",
       " 'comp.os.ms-windows.misc',\n",
       " 'comp.sys.ibm.pc.hardware',\n",
       " 'comp.sys.mac.hardware',\n",
       " 'comp.windows.x',\n",
       " 'misc.forsale',\n",
       " 'rec.autos',\n",
       " 'rec.motorcycles',\n",
       " 'rec.sport.baseball',\n",
       " 'rec.sport.hockey',\n",
       " 'sci.crypt',\n",
       " 'sci.electronics',\n",
       " 'sci.med',\n",
       " 'sci.space',\n",
       " 'soc.religion.christian',\n",
       " 'talk.politics.guns',\n",
       " 'talk.politics.mideast',\n",
       " 'talk.politics.misc',\n",
       " 'talk.religion.misc']"
      ]
     },
     "execution_count": 17,
     "metadata": {},
     "output_type": "execute_result"
    }
   ],
   "source": [
    "cnames"
   ]
  },
  {
   "cell_type": "code",
   "execution_count": 24,
   "id": "2b0f9e75",
   "metadata": {},
   "outputs": [
    {
     "name": "stdout",
     "output_type": "stream",
     "text": [
      "From: gtoal@gtoal.com (Graham Toal)\n",
      "Subject: Re: text of White House announcement and Q&As on clipper chip encryption\n",
      "Lines: 14\n",
      "\n",
      "\tActually, many of us have noted this. We have noted that the program\n",
      "\tstarted at least 4 years ago, that the contracts with VLSI Technology\n",
      "\tand Microtoxin were let at least 14 months ago, that production of the\n",
      "\tchips is well underway, and so forth.\n",
      "\n",
      "\tNobody I know has claimed Clinton intitiated the program. But he chose\n",
      "\tto go ahead with it.\n",
      "\n",
      "Perhaps the NSA realised that *no-one* would even contemplate falling for\n",
      "the dual-escrow bluff while under the Bush administration and *had* to\n",
      "wait for a Democrat govt to con into promoting this because people *might*\n",
      "just believe they were honest.  (Didn't work, did it? :-) )\n",
      "\n",
      "G\n",
      "\n"
     ]
    }
   ],
   "source": [
    "print(xtr[1802])"
   ]
  },
  {
   "cell_type": "code",
   "execution_count": 48,
   "id": "f3a024aa",
   "metadata": {},
   "outputs": [
    {
     "name": "stderr",
     "output_type": "stream",
     "text": [
      "<frozen importlib._bootstrap>:219: RuntimeWarning: numpy.ndarray size changed, may indicate binary incompatibility. Expected 80 from C header, got 88 from PyObject\n"
     ]
    }
   ],
   "source": [
    "import re\n",
    "import spacy\n",
    "nlp = spacy.load(\"en_core_web_sm\")"
   ]
  },
  {
   "cell_type": "markdown",
   "id": "a5f7be69",
   "metadata": {},
   "source": [
    "## Text Cleaning"
   ]
  },
  {
   "cell_type": "code",
   "execution_count": 49,
   "id": "935d3567",
   "metadata": {},
   "outputs": [],
   "source": [
    "# use regex for text cleaning\n",
    "def transform_data(xd):\n",
    "    for i in range(len(xd)):\n",
    "        doc = xd[i]\n",
    "        doc = re.sub(\"[\\w.]+@[\\w.]+\",\"\",doc) # removing email ids\n",
    "        doc = re.sub(\"[0-9]+\",\"\",doc) # removing tokens which start with numbers followed by text\n",
    "        doc = re.sub(\"_\",\"\",doc)\n",
    "        doc = nlp(doc)\n",
    "        doc = \" \".join([w.lemma_ for w in doc])\n",
    "        xd[i] = doc\n",
    "    return xd"
   ]
  },
  {
   "cell_type": "code",
   "execution_count": 50,
   "id": "b6657b3c",
   "metadata": {},
   "outputs": [],
   "source": [
    "xtr = transform_data(xtr)"
   ]
  },
  {
   "cell_type": "markdown",
   "id": "d4d99a5a",
   "metadata": {},
   "source": [
    "## Vectorization"
   ]
  },
  {
   "cell_type": "code",
   "execution_count": 55,
   "id": "1ae787ce",
   "metadata": {
    "collapsed": true
   },
   "outputs": [
    {
     "name": "stdout",
     "output_type": "stream",
     "text": [
      "6563\n",
      "['aa', 'aaa', 'aaron', 'ab', 'abandon', 'abc', 'abide', 'ability', 'able', 'abolish', 'abortion', 'abraham', 'abroad', 'absence', 'absolute', 'absolutely', 'absorb', 'abstract', 'absurd', 'absurdity', 'abu', 'abuse', 'ac', 'acad', 'academic', 'academy', 'accelerate', 'acceleration', 'accelerator', 'accept', 'acceptable', 'acceptance', 'access', 'accessible', 'accessory', 'accident', 'accidental', 'accidentally', 'accomodate', 'accompany', 'accomplish', 'accord', 'accordance', 'account', 'accounting', 'accumulate', 'accuracy', 'accurate', 'accurately', 'accusation', 'accuse', 'ace', 'achieve', 'acid', 'acknowledge', 'aclu', 'acm', 'acquire', 'acquisition', 'acs', 'act', 'action', 'activate', 'active', 'actively', 'activist', 'activity', 'actual', 'actually', 'acute', 'ad', 'adam', 'adams', 'adapt', 'adaptec', 'adapter', 'adaptor', 'adb', 'add', 'addict', 'addition', 'additional', 'additionally', 'additive', 'address', 'adequate', 'adequately', 'adjust', 'adjustment', 'admin', 'administer', 'administration', 'administrative', 'administrator', 'admit', 'admittedly', 'adobe', 'adopt', 'adult', 'advance', 'advanced', 'advantage', 'adventure', 'advertise', 'advertisement', 'advertising', 'advice', 'advise', 'advocate', 'ae', 'aerospace', 'af', 'affair', 'affect', 'affiliate', 'affiliation', 'affirm', 'afford', 'afraid', 'africa', 'african', 'afternoon', 'ag', 'age', 'agency', 'agenda', 'agent', 'aggressive', 'agn', 'agnostic', 'ago', 'agree', 'agreement', 'ah', 'ahead', 'ahl', 'ahmed', 'ai', 'aid', 'aids', 'aiken', 'aim', 'air', 'aircraft', 'airplane', 'airport', 'aix', 'aj', 'ak', 'aka', 'al', 'ala', 'alabama', 'alan', 'alarm', 'alas', 'alaska', 'albeit', 'albert', 'alberta', 'albuquerque', 'alcohol', 'alert', 'alex', 'alexander', 'algorithm', 'algorithms', 'ali', 'alias', 'alice', 'alicea', 'alien', 'alike', 'alink', 'alive', 'allah', 'allan', 'allegation', 'allege', 'allegedly', 'allegheny', 'allen', 'allergic', 'allergy', 'alleviate', 'allocate', 'allow', 'ally', 'alomar', 'alot', 'alpha', 'alt', 'alter', 'alternate', 'alternative', 'altitude', 'altogether', 'aluminum', 'ama', 'amanda', 'amateur', 'amazed', 'amazing', 'ambassador', 'amend', 'amendment', 'america', 'american', 'americans', 'ames', 'amherst', 'ami', 'amiga', 'amin', 'ammo', 'ammunition', 'amp', 'amplifier', 'amusing', 'analog', 'analogy', 'analysis', 'analyst', 'analyze', 'anatolia', 'ancestor', 'ancient', 'anderson', 'andi', 'andre', 'andrew', 'andy', 'anecdotal', 'anecdote', 'angel', 'angeles', 'angels', 'anger', 'angle', 'angry', 'animal', 'animate', 'animation', 'ann', 'announce', 'announcement', 'announcer', 'annoy', 'annoyed', 'annoying', 'annual', 'anon', 'anonymous', 'ansi', 'answer', 'antenna', 'anthony', 'anti', 'antibiotic', 'antonio', 'anybody', 'anymore', 'anytime', 'anyways', 'ap', 'apart', 'apartment', 'api', 'apollo', 'apologize', 'apology', 'apostle', 'app', 'apparent', 'apparently', 'appeal', 'appear', 'appearance', 'apple', 'applicable', 'application', 'applications', 'applied', 'apply', 'appoint', 'appointment', 'appreciate', 'appreciated', 'appressian', 'approach', 'appropriate', 'approval', 'approve', 'approx', 'approximate', 'approximately', 'apr', 'april', 'apt', 'ar', 'arab', 'arabia', 'arabic', 'arabs', 'arbitrary', 'arbor', 'arc', 'archie', 'architecture', 'archive', 'area', 'arena', 'arf', 'argic', 'argue', 'argument', 'arise', 'arithmetic', 'arizona', 'arkansas', 'arlington', 'arm', 'armed', 'armenia', 'armenian', 'armenians', 'armored', 'arms', 'army', 'arrange', 'arrangement', 'arras', 'array', 'arrest', 'arrive', 'arrogance', 'arrogant', 'arromdee', 'arrow', 'art', 'arthur', 'article', 'artificial', 'artillery', 'artist', 'arts', 'asala', 'ascii', 'ashamed', 'ashley', 'aside', 'ask', 'asleep', 'aspect', 'ass', 'assault', 'assemble', 'assembler', 'assembly', 'assert', 'assertion', 'assess', 'assessment', 'asset', 'asshole', 'assign', 'assist', 'assistance', 'assistant', 'associate', 'associates', 'association', 'assume', 'assumption', 'assurance', 'assure', 'asteroid', 'astro', 'astronaut', 'astronomy', 'astrophysics', 'astros', 'atf', 'atheism', 'atheist', 'atheists', 'athena', 'athens', 'ati', 'atlanta', 'atlantic', 'atlas', 'atmosphere', 'atmospheric', 'atom', 'atomic', 'atrocity', 'att', 'attach', 'attack', 'attacker', 'attain', 'attempt', 'attend', 'attention', 'attitude', 'attorney', 'attract', 'attraction', 'attractive', 'attribute', 'au', 'audience', 'audio', 'aug', 'august', 'aurora', 'austin', 'australia', 'australian', 'austria', 'author', 'authority', 'authorization', 'authorize', 'auto', 'autoexec', 'automate', 'automatic', 'automatically', 'automobile', 'automotive', 'autos', 'av', 'avail', 'availability', 'available', 'ave', 'avenue', 'average', 'aviation', 'avoid', 'aw', 'await', 'award', 'aware', 'awareness', 'away', 'awesome', 'awful', 'awfully', 'awhile', 'ax', 'axe', 'axis', 'az', 'azerbaijan', 'azerbaijani', 'azeri', 'azeris', 'ba', 'baalke', 'baby', 'background', 'backing', 'backup', 'bad', 'badly', 'baerga', 'bag', 'bailey', 'bait', 'baker', 'baku', 'balance', 'balanced', 'ball', 'baltimore', 'ban', 'band', 'bandwidth', 'bang', 'bank', 'banks', 'baptism', 'bar', 'barbara', 'bare', 'barely', 'bargain', 'barlow', 'barnes', 'barrel', 'barrier', 'barry', 'base', 'baseball', 'bash', 'bashing', 'basic', 'basically', 'basis', 'basketball', 'bass', 'bastard', 'bat', 'batch', 'batf', 'bath', 'bathroom', 'batter', 'battery', 'batting', 'battle', 'baud', 'bay', 'bayonet', 'bb', 'bbs', 'bc', 'bd', 'beach', 'beam', 'bean', 'bear', 'bearing', 'beast', 'beat', 'beauchaine', 'beautiful', 'beauty', 'beaverton', 'beck', 'bed', 'bedfellow', 'bedford', 'bedroom', 'bee', 'beer', 'beg', 'begin', 'beginner', 'beginning', 'behalf', 'behanna', 'behave', 'behavior', 'behaviour', 'beleive', 'belief', 'believe', 'believer', 'bell', 'bellcore', 'bellovin', 'belong', 'beloved', 'belt', 'ben', 'bench', 'benchmark', 'bend', 'benedikt', 'benefit', 'benjamin', 'bent', 'berkeley', 'berlin', 'bernard', 'bernstein', 'best', 'bet', 'beta', 'beth', 'bethesda', 'better', 'betz', 'beware', 'beyer', 'bf', 'bg', 'bi', 'bias', 'biased', 'bible', 'biblical', 'bibliography', 'bicycle', 'bid', 'big', 'bike', 'biker', 'billboard', 'billion', 'billy', 'bin', 'binary', 'bind', 'bio', 'biochemistry', 'biological', 'biology', 'bios', 'bird', 'birth', 'birthday', 'bishop', 'bit', 'bite', 'bitmap', 'bitnet', 'bizarre', 'bj', 'bk', 'black', 'blackhawks', 'blacksburg', 'blah', 'blame', 'blank', 'blanket', 'blast', 'blaze', 'bless', 'blessed', 'blessing', 'blind', 'blindly', 'blink', 'block', 'blood', 'bloody', 'blow', 'blue', 'blues', 'blvd', 'bmp', 'bmw', 'bnr', 'bo', 'board', 'boat', 'bob', 'bobby', 'bodily', 'body', 'boeing', 'boggs', 'bogus', 'boil', 'boise', 'bold', 'bolt', 'bomb', 'bombard', 'bomber', 'bombing', 'bond', 'bonds', 'bone', 'bontchev', 'bonus', 'book', 'books', 'bookstore', 'boom', 'boomer', 'boost', 'booster', 'boot', 'booth', 'border', 'bore', 'boring', 'borland', 'borrow', 'bos', 'bosnia', 'boss', 'boston', 'bother', 'bottle', 'boulder', 'bounce', 'boundary', 'bout', 'bow', 'bowl', 'bowling', 'box', 'boy', 'boyle', 'bp', 'bps', 'br', 'brad', 'bradley', 'brady', 'brain', 'brainwash', 'brake', 'branch', 'brand', 'brandeis', 'brandt', 'braunschweig', 'brave', 'braves', 'bread', 'break', 'breakdown', 'breaker', 'breast', 'breath', 'breathe', 'brendan', 'brent', 'brett', 'brian', 'brick', 'bridge', 'brief', 'briefing', 'briefly', 'bright', 'brilliant', 'bring', 'bristol', 'britain', 'british', 'broad', 'broadcast', 'broken', 'bronx', 'brook', 'brookline', 'brooks', 'brother', 'brothers', 'broward', 'brown', 'bruce', 'bruin', 'bruins', 'brunswick', 'brutal', 'brute', 'bryan', 'bs', 'bsd', 'btw', 'bu', 'buck', 'buddy', 'budget', 'buf', 'buffalo', 'buffer', 'bug', 'build', 'builder', 'building', 'bulb', 'bulk', 'bull', 'bullet', 'bulletin', 'bullpen', 'bulls', 'bullshit', 'bump', 'bumper', 'bunch', 'bundle', 'burden', 'bure', 'bureau', 'burn', 'burnaby', 'burning', 'burns', 'burst', 'bury', 'bus', 'bush', 'business', 'bust', 'busy', 'butcher', 'butt', 'button', 'buy', 'buyer', 'buying', 'buzz', 'bv', 'bx', 'bye', 'byler', 'bypass', 'byte', 'bytes', 'ca', 'cabin', 'cabinet', 'cable', 'cache', 'cad', 'cage', 'cager', 'cal', 'calculate', 'calculation', 'calculator', 'calder', 'calgary', 'caliber', 'calif', 'california', 'caller', 'calling', 'callison', 'calm', 'caltech', 'calvin', 'cam', 'cambridge', 'camera', 'camp', 'campaign', 'campbell', 'campus', 'canada', 'canadian', 'canadians', 'canadiens', 'cancel', 'cancer', 'candida', 'candidate', 'canon', 'canucks', 'cap', 'capability', 'capable', 'capacitor', 'capacity', 'cape', 'capital', 'capitalist', 'capitals', 'caps', 'captain', 'capture', 'car', 'carb', 'card', 'cardinal', 'cardinals', 'cards', 'care', 'career', 'careful', 'carefully', 'carl', 'carlos', 'carnegie', 'carol', 'carolina', 'carpenter', 'carpet', 'carrier', 'carroll', 'carry', 'carson', 'cart', 'carter', 'cartridge', 'cary', 'case', 'casey', 'cash', 'cassette', 'cast', 'casual', 'casualty', 'cat', 'catalog', 'catch', 'catcher', 'category', 'catholic', 'catholics', 'cause', 'caution', 'cb', 'cbc', 'cbt', 'cc', 'cd', 'cdp', 'cdrom', 'ce', 'cease', 'celebrate', 'cell', 'cellar', 'cellular', 'censor', 'cent', 'center', 'central', 'centre', 'centris', 'century', 'ceremony', 'certain', 'certainly', 'certainty', 'certify', 'cf', 'cg', 'ch', 'chain', 'chair', 'chairman', 'challenge', 'chamber', 'champaign', 'champion', 'champions', 'champs', 'chance', 'change', 'channel', 'chaos', 'chapel', 'chapter', 'char', 'character', 'characteristic', 'characterize', 'charge', 'charity', 'charles', 'charley', 'charlie', 'chart', 'charter', 'chase', 'chastity', 'chatham', 'cheap', 'cheaply', 'cheat', 'check', 'checking', 'cheer', 'cheers', 'chemical', 'chemistry', 'chen', 'cherry', 'chest', 'chevy', 'chhabra', 'chi', 'chicago', 'chicken', 'chief', 'child', 'children', 'china', 'chinese', 'chip', 'chips', 'chipset', 'chocolate', 'choice', 'choke', 'choose', 'chop', 'chord', 'chris', 'christ', 'christian', 'christianity', 'christians', 'christmas', 'christopher', 'chronic', 'chrysler', 'chuck', 'chunk', 'church', 'churchill', 'ci', 'cia', 'cica', 'cigarette', 'cincinnati', 'cipher', 'circa', 'circle', 'circuit', 'circuitry', 'circular', 'circumstance', 'cis', 'citation', 'cite', 'citizen', 'citizenship', 'city', 'civic', 'civil', 'civilian', 'civilization', 'civilized', 'ck', 'cl', 'claim', 'claire', 'clara', 'claremont', 'clarification', 'clarify', 'clark', 'clarke', 'clarkson', 'class', 'classic', 'classical', 'classified', 'classify', 'clause', 'clayton', 'clean', 'cleaning', 'cleansing', 'clear', 'clearance', 'clearly', 'clemens', 'clements', 'cleveland', 'clever', 'clh', 'click', 'client', 'cliff', 'climb', 'clinic', 'clinical', 'clinton', 'clip', 'clipper', 'clock', 'clone', 'close', 'closed', 'closely', 'closing', 'clothe', 'clothing', 'cloud', 'club', 'clue', 'clutch', 'cm', 'cmos', 'cmu', 'cnn', 'coach', 'coast', 'coat', 'cobb', 'cocaine', 'cod', 'code', 'coffee', 'coffey', 'cohen', 'coin', 'coincidence', 'col', 'cold', 'cole', 'colin', 'collapse', 'colleague', 'collect', 'collection', 'collective', 'college', 'collins', 'collision', 'colony', 'color', 'colorado', 'colormap', 'colostate', 'colour', 'colt', 'columbia', 'columbus', 'column', 'com', 'combat', 'combination', 'combine', 'combo', 'come', 'comet', 'comfort', 'comfortable', 'comic_strip', 'comm', 'command', 'commander', 'commandment', 'comment', 'commentary', 'comments', 'commerce', 'commercial', 'commercially', 'commission', 'commit', 'commitment', 'committed', 'committee', 'common', 'commonly', 'commonwealth', 'communicate', 'communication', 'communications', 'communism', 'communist', 'community', 'comp', 'compact', 'companion', 'company', 'comparable', 'comparative', 'compare', 'comparison', 'compartment', 'compassion', 'compatibility', 'compatible', 'compel', 'compensation', 'compete', 'competent', 'competition', 'competitive', 'competitor', 'compile', 'compiler', 'complain', 'complaint', 'complete', 'completely', 'complex', 'complexity', 'compliance', 'complicated', 'comply', 'component', 'compose', 'composite', 'composition', 'compound', 'comprehensive', 'compress', 'compressed', 'compression', 'comprise', 'compromise', 'compuserve', 'computation', 'compute', 'computer', 'computers', 'computing', 'conceal', 'conceivable', 'conceive', 'concentrate', 'concentration', 'concept', 'conception', 'concern', 'concerned', 'concise', 'conclude', 'conclusion', 'concrete', 'condemn', 'condemnation', 'condition', 'conditioning', 'conduct', 'cone', 'conference', 'confess', 'confidence', 'confident', 'confidential', 'config', 'configuration', 'configure', 'confine', 'confirm', 'confirmation', 'conflict', 'conform', 'confront', 'confuse', 'confused', 'confusing', 'confusion', 'congress', 'congressional', 'connect', 'connection', 'connector', 'conner', 'connor', 'conquer', 'conscience', 'conscious', 'consciousness', 'consensus', 'consent', 'consequence', 'conservative', 'consider', 'considerable', 'considerably', 'consideration', 'consist', 'consistency', 'consistent', 'consistently', 'console', 'consortium', 'conspiracy', 'constant', 'constantly', 'constitute', 'constitution', 'constitutional', 'constraint', 'construct', 'construction', 'consult', 'consultant', 'consultants', 'consulting', 'consume', 'consumer', 'consumption', 'cont', 'contact', 'contain', 'contemporary', 'contend', 'content', 'contention', 'contest', 'context', 'continent', 'continental', 'continue', 'continuing', 'continuous', 'continuously', 'contract', 'contradict', 'contradiction', 'contradictory', 'contrary', 'contrast', 'contrib', 'contribute', 'contribution', 'contributor', 'control', 'controller', 'controversy', 'convenience', 'convenient', 'convention', 'conventional', 'conversation', 'conversion', 'convert', 'converter', 'convertible', 'convex', 'convict', 'conviction', 'convince', 'convincing', 'cook', 'cookamunga', 'cookie', 'cool', 'cooling', 'cooper', 'cooperate', 'cooperation', 'cooperative', 'coordinate', 'coordinator', 'cop', 'coprocessor', 'copy', 'copyright', 'cor', 'cord', 'cordially', 'cordless', 'core', 'corinthians', 'corn', 'cornell', 'corner', 'corp', 'corporate', 'corporation', 'corps', 'corpse', 'correct', 'correction', 'correctly', 'correlation', 'correspond', 'corresponding', 'corrupt', 'corruption', 'cos', 'cosmic', 'cost', 'costly', 'council', 'count', 'counter', 'countersteere', 'countersteeringfaq', 'country', 'county', 'couple', 'courage', 'course', 'court', 'courtesy', 'covenant', 'cover', 'coverage', 'covington', 'cow', 'cp', 'cpr', 'cpu', 'cr', 'crack', 'craft', 'craig', 'cramer', 'crap', 'crary', 'crash', 'crawl', 'cray', 'crazy', 'cream', 'create', 'creation', 'creative', 'creator', 'creature', 'credibility', 'credible', 'credit', 'crew', 'crime', 'criminal', 'cripple', 'crisis', 'criterion', 'critical', 'criticism', 'criticize', 'crook', 'crop', 'cross', 'crossposte', 'crowd', 'crucial', 'crucifixion', 'cruel', 'cruise', 'cruiser', 'cruncher', 'crush', 'crux', 'cruz', 'crypt', 'crypto', 'cryptographic', 'cryptography', 'cryptosystem', 'crystal', 'cs', 'csc', 'csd', 'cse', 'ct', 'ctr', 'ctrl', 'cu', 'cub', 'cube', 'cubs', 'cult', 'cultural', 'culture', 'cunixb', 'cup', 'cupertino', 'cure', 'curiosity', 'curious', 'current', 'currently', 'curse', 'cursor', 'curt', 'curtis', 'curve', 'custom', 'customer', 'cut', 'cute', 'cv', 'cview', 'cwru', 'cx', 'cy', 'cyberspace', 'cycle', 'cylinder', 'cynical', 'cyprus', 'da', 'dad', 'daemon', 'daily', 'daker', 'dakota', 'dal', 'dale', 'dalhousie', 'dallas', 'damage', 'dammit', 'damn', 'dan', 'dance', 'danger', 'dangerous', 'daniel', 'danny', 'dare', 'dariuslecointe', 'dark', 'darkness', 'darn', 'darren', 'dartmouth', 'daryl', 'dash', 'dat', 'data', 'database', 'date', 'datum', 'daughter', 'dave', 'david', 'davidian', 'davidians', 'davidsson', 'davis', 'dawn', 'dawson', 'day', 'daylight', 'days', 'dayton', 'db', 'dc', 'dcx', 'dd', 'dead', 'deadline', 'deadly', 'deal', 'dealer', 'dealership', 'dean', 'dear', 'death', 'debate', 'debt', 'dec', 'decade', 'deceive', 'december', 'decent', 'decide', 'decision', 'deck', 'declaration', 'declare', 'decline', 'decode', 'decoder', 'decrease', 'decrypt', 'decryption', 'dedicate', 'dedicated', 'deed', 'deem', 'deep', 'deepak', 'deeply', 'deer', 'default', 'defeat', 'defect', 'defence', 'defend', 'defense', 'defenseman', 'defensive', 'defensively', 'deficit', 'definately', 'define', 'definite', 'definitely', 'definition', 'degree', 'deity', 'del', 'delaware', 'delay', 'delete', 'deletion', 'deliberate', 'deliberately', 'deliver', 'delivery', 'delta', 'deluxe', 'demand', 'demo', 'democracy', 'democrat', 'democratic', 'democrats', 'demon', 'demonstrate', 'demonstration', 'den', 'denial', 'denis', 'denning', 'dennis', 'denomination', 'density', 'dent', 'denver', 'deny', 'department', 'depend', 'dependent', 'deploy', 'deposit', 'depressed', 'depression', 'deprive', 'dept', 'depth', 'deputy', 'der', 'derek', 'derive', 'des', 'descend', 'descent', 'description', 'desert', 'deserve', 'design', 'designate', 'designer', 'desirable', 'desire', 'desk', 'deskjet', 'desktop', 'desperate', 'despite', 'destination', 'destroy', 'destruction', 'destructive', 'det', 'detailed', 'detect', 'detection', 'detector', 'deter', 'determination', 'determine', 'determined', 'detroit', 'dev', 'develop', 'developer', 'development', 'device', 'devil', 'devils', 'devise', 'devote', 'dg', 'dh', 'di', 'diagnose', 'diagnosis', 'diagnostic', 'diagram', 'dial', 'dialog', 'dialogue', 'diameter', 'diamond', 'dick', 'dictate', 'dictionary', 'did', 'die', 'diego', 'diet', 'diff', 'differ', 'difference', 'different', 'differential', 'differently', 'difficult', 'difficulty', 'dig', 'digest', 'digex', 'digit', 'digital', 'digitize', 'dillon', 'dimension', 'dimensional', 'diminish', 'dinner', 'dip', 'dir', 'direct', 'direction', 'directive', 'directly', 'director', 'directory', 'dirt', 'dirty', 'dis', 'disable', 'disabled', 'disadvantage', 'disagree', 'disagreement', 'disappear', 'disappoint', 'disarm', 'disaster', 'disc', 'discard', 'discharge', 'disciple', 'discipline', 'disclaimer', 'disclosure', 'discomfort', 'disconnect', 'discount', 'discourage', 'discover', 'discovery', 'discredit', 'discriminate', 'discrimination', 'discuss', 'discussion', 'disease', 'disguise', 'disgusting', 'dish', 'dishonest', 'disk', 'diskette', 'dislike', 'dismiss', 'disorder', 'display', 'disprove', 'dispute', 'disregard', 'distance', 'distant', 'distinct', 'distinction', 'distinguish', 'distort', 'distortion', 'distribute', 'distribution', 'distributor', 'district', 'disturb', 'ditto', 'div', 'diverse', 'divert', 'divide', 'dividian', 'divine', 'division', 'dixon', 'dj', 'dk', 'dl', 'dm', 'dma', 'dna', 'doc', 'doctor', 'doctrine', 'document', 'documentary', 'documentation', 'dod', 'dodge', 'dodger', 'dodgers', 'doe', 'dog', 'dogma', 'dollar', 'domain', 'domestic', 'domi', 'dominate', 'don', 'donald', 'donate', 'doom', 'door', 'dorothy', 'dos', 'dose', 'dot', 'double', 'doubt', 'doug', 'douglas', 'download', 'dozen', 'dpi', 'dr', 'draft', 'drag', 'drain', 'dram', 'dramatically', 'drastically', 'draw', 'drawer', 'drawing', 'dream', 'dresden', 'dress', 'drew', 'drill', 'drink', 'drive', 'driver', 'drivers', 'driving', 'drop', 'drug', 'drum', 'drunk', 'drv', 'dry', 'dryden', 'ds', 'dsg', 'dsi', 'dsp', 'du', 'dual', 'dubious', 'ducati', 'duck', 'dude', 'duff', 'duke', 'dull', 'dumb', 'dumbest', 'dump', 'dunn', 'dunno', 'duo', 'duplicate', 'duration', 'durham', 'dust', 'duty', 'dv', 'dwyer', 'dx', 'dy', 'dyer', 'dynamic', 'dynamics', 'ea', 'eagle', 'ear', 'earl', 'early', 'earn', 'earth', 'ease', 'easily', 'east', 'easter', 'eastern', 'easy', 'eat', 'eau', 'ec', 'ece', 'echo', 'eclipse', 'ecn', 'economic', 'economy', 'ed', 'eddie', 'edge', 'edinburgh', 'edit', 'edition', 'editor', 'editorial', 'edmonton', 'edt', 'edu', 'educate', 'education', 'educational', 'edward', 'edwards', 'ee', 'ef', 'eff', 'effect', 'effective', 'effectively', 'effectiveness', 'efficiency', 'efficient', 'efficiently', 'effort', 'ega', 'egg', 'ego', 'egypt', 'egyptian', 'eh', 'ei', 'einstein', 'eisa', 'el', 'elaborate', 'elderly', 'elect', 'election', 'electric', 'electrical', 'electricity', 'electron', 'electronic', 'electronically', 'electronics', 'element', 'elevator', 'eli', 'elias', 'eliminate', 'eliot', 'elite', 'elizabeth', 'elm', 'elvis', 'em', 'email', 'embed', 'embrace', 'emerge', 'emergency', 'emit', 'emotion', 'emotional', 'emphasis', 'emphasize', 'empire', 'empirical', 'employ', 'employee', 'employer', 'employment', 'emulate', 'en', 'enable', 'enact', 'enclose', 'encode', 'encoding', 'encounter', 'encourage', 'encrypt', 'encrypted', 'encryption', 'encyclopedia', 'end', 'endorse', 'endure', 'enemy', 'energy', 'enforce', 'enforcement', 'eng', 'engage', 'engin', 'engine', 'engineer', 'engineering', 'england', 'english', 'englishman', 'engr', 'enhance', 'enhanced', 'enhancement', 'enjoy', 'enlighten', 'enormous', 'ensure', 'enter', 'enterpoop', 'enterprise', 'entertainment', 'entire', 'entirely', 'entitle', 'entity', 'entry', 'envelope', 'environment', 'environmental', 'eos', 'ep', 'episode', 'eq', 'equal', 'equally', 'equate', 'equation', 'equip', 'equipment', 'equivalent', 'er', 'era', 'erase', 'ergo', 'eric', 'ericsson', 'erik', 'err', 'error', 'es', 'esa', 'escape', 'escrow', 'escrowe', 'esdi', 'esp', 'especially', 'espionage', 'espn', 'essence', 'essential', 'essentially', 'est', 'establish', 'establishment', 'estate', 'estimate', 'et', 'eternal', 'eternity', 'ethernet', 'ethic', 'ethical', 'ethnic', 'eu', 'europe', 'european', 'europeans', 'ev', 'evade', 'evaluate', 'evaluation', 'evangelical', 'evans', 'eve', 'evening', 'event', 'eventually', 'everybody', 'everyday', 'everytime', 'evidence', 'evident', 'evidently', 'evil', 'evolution', 'evolve', 'ex', 'exact', 'exactly', 'examination', 'examine', 'example', 'exceed', 'excel', 'excellent', 'exception', 'excerpt', 'excerpts', 'excess', 'excessive', 'exchange', 'excited', 'exciting', 'exclude', 'exclusive', 'exclusively', 'excuse', 'exe', 'executable', 'execute', 'execution', 'executive', 'exercise', 'exhaust', 'exhibit', 'exist', 'existance', 'existence', 'existent', 'exit', 'exotic', 'expand', 'expansion', 'expect', 'expectation', 'expense', 'expensive', 'experience', 'experienced', 'experiment', 'experimental', 'expert', 'expertise', 'expire', 'explain', 'explanation', 'explicit', 'explicitly', 'explode', 'exploit', 'exploration', 'explore', 'explorer', 'explosion', 'explosive', 'export', 'expos', 'expose', 'exposure', 'express', 'expression', 'ext', 'extend', 'extended', 'extension', 'extensive', 'extent', 'exterminate', 'extermination', 'external', 'extra', 'extract', 'extraordinary', 'extreme', 'extremely', 'extremist', 'ey', 'eye', 'ez', 'fabrication', 'face', 'facilitate', 'facility', 'fact', 'facto', 'factor', 'factory', 'faculty', 'fade', 'fail', 'failure', 'faint', 'fair', 'fairbanks', 'fairly', 'fait', 'faith', 'faithful', 'fake', 'fall', 'fallacy', 'false', 'fame', 'familiar', 'family', 'famous', 'fan', 'fanatic', 'fancy', 'fantastic', 'fantasy', 'faq', 'faqs', 'far', 'farm', 'farmer', 'fascinating', 'fascist', 'fashion', 'fast', 'fat', 'fatal', 'fate', 'father', 'fault', 'favor', 'favorable', 'favorite', 'favour', 'fax', 'fbi', 'fd', 'fda', 'fear', 'feasible', 'feature', 'feb', 'february', 'fed', 'federal', 'feds', 'fee', 'feed', 'feedback', 'feel', 'feeling', 'felix', 'fellow', 'female', 'fence', 'fever', 'ff', 'fg', 'fi', 'fiction', 'fidonet', 'field', 'fifth', 'fight', 'fighter', 'fighting', 'figure', 'file', 'filename', 'files', 'film', 'filter', 'final', 'finally', 'finance', 'financial', 'finding', 'fine', 'finger', 'finish', 'finite', 'finland', 'finnish', 'firearm', 'firearms', 'firing', 'firm', 'firmly', 'firstly', 'fischer', 'fish', 'fisher', 'fist', 'fit', 'fix', 'fj', 'fl', 'flag', 'flame', 'flames', 'flash', 'flat', 'flavor', 'flaw', 'flawed', 'flee', 'flesh', 'flexible', 'flight', 'flip', 'float', 'flood', 'floor', 'floppy', 'florida', 'flow', 'fluid', 'fluke', 'fly', 'flyer', 'flyers', 'fm', 'fnal', 'focus', 'fold', 'folk', 'follow', 'follower', 'following', 'followup', 'font', 'food', 'fool', 'foolish', 'foot', 'football', 'forbid', 'force', 'ford', 'forecast', 'foreign', 'forest', 'forever', 'forget', 'forgive', 'fork', 'form', 'formal', 'format', 'formation', 'formula', 'formulate', 'forsale', 'fort', 'forth', 'fortran', 'fortunately', 'fortune', 'forum', 'forward', 'foster', 'foul', 'foundation', 'founder', 'fourth', 'fox', 'fp', 'fpu', 'fr', 'fractal', 'fraction', 'fragment', 'frame', 'framework', 'france', 'franchise', 'francis', 'francisco', 'frank', 'franklin', 'frankly', 'fraser', 'fraud', 'fred', 'frederick', 'free', 'freedom', 'freely', 'freeman', 'freenet', 'freeware', 'freeway', 'freeze', 'french', 'frequency', 'frequent', 'frequently', 'fresh', 'freshman', 'fri', 'friday', 'friedman', 'friend', 'friendly', 'fringe', 'frog', 'frontier', 'frost', 'fruit', 'fry', 'fs', 'ft', 'ftp', 'fu', 'fuck', 'fuel', 'fuhr', 'fulfil', 'fulfill', 'fully', 'fun', 'function', 'functional', 'functionality', 'fund', 'fundamental', 'fundamentalist', 'funding', 'funny', 'furthermore', 'future', 'fuzzy', 'fw', 'fx', 'fxwg', 'ga', 'gadget', 'gain', 'gal', 'galaxy', 'galileo', 'game', 'games', 'gamma', 'gang', 'gap', 'garage', 'garbage', 'garden', 'gardner', 'gary', 'gas', 'gate', 'gatech', 'gateway', 'gather', 'gay', 'gaza', 'gb', 'gc', 'gcc', 'gd', 'ge', 'gear', 'gee', 'gen', 'gene', 'general', 'generalization', 'generally', 'generate', 'generation', 'generator', 'generic', 'generous', 'genesis', 'genetic', 'genius', 'genocide', 'gentile', 'gentleman', 'genuine', 'geo', 'geoff', 'geometry', 'george', 'georgia', 'gerald', 'german', 'germans', 'germany', 'gerry', 'gets', 'getting', 'gf', 'ghost', 'gi', 'giant', 'giants', 'gibson', 'gif', 'gift', 'gil', 'gilbert', 'gilmour', 'girl', 'girlfriend', 'gk', 'gl', 'glad', 'gladly', 'glance', 'glass', 'gld', 'glenn', 'glide', 'global', 'glory', 'glove', 'glue', 'glutamate', 'gm', 'gmt', 'gnu', 'goal', 'goalie', 'goaltender', 'god', 'goddard', 'gold', 'golden', 'golf', 'gon', 'good', 'goodness', 'gordon', 'gore', 'gosh', 'gospel', 'got', 'gov', 'goverment', 'govern', 'government', 'governmental', 'governor', 'govt', 'gp', 'gps', 'gr', 'grab', 'grace', 'grad', 'grade', 'gradually', 'graduate', 'graham', 'grain', 'grand', 'grant', 'graph', 'graphic', 'graphical', 'graphics', 'grasp', 'grass', 'grateful', 'grave', 'gravity', 'gray', 'grayscale', 'great', 'greatly', 'greece', 'greek', 'greeks', 'green', 'greenbelt', 'greeting', 'greg', 'gregg', 'gregory', 'grenade', 'gretzky', 'grey', 'grief', 'grind', 'grip', 'gross', 'ground', 'group', 'grow', 'growth', 'grubb', 'gs', 'gsfc', 'gt', 'gu', 'guarantee', 'guard', 'guday', 'guerilla', 'guess', 'guest', 'gui', 'guidance', 'guide', 'guideline', 'guilt', 'guilty', 'guise', 'guitar', 'gulf', 'gun', 'guns', 'guru', 'gut', 'guy', 'gv', 'gw', 'ha', 'habit', 'habs', 'hack', 'hacker', 'haines', 'hair', 'hal', 'halat', 'half', 'halifax', 'hall', 'hallam', 'ham', 'hamas', 'hamburg', 'hamer', 'hamilton', 'hammer', 'hampshire', 'hand', 'handbook', 'handed', 'handgun', 'handheld', 'handle', 'handler', 'handling', 'handy', 'hang', 'hanover', 'happen', 'happily', 'happiness', 'happy', 'hard', 'hardly', 'hardware', 'harley', 'harm', 'harmful', 'harmony', 'harold', 'harris', 'harry', 'harsh', 'hart', 'hartford', 'harvard', 'harvey', 'hasan', 'hash', 'hassle', 'hat', 'hatch', 'hate', 'hatred', 'haven', 'having', 'hawaii', 'hawk', 'hawks', 'hayes', 'hazard', 'hc', 'hcf', 'hd', 'hdd', 'head', 'headache', 'header', 'headline', 'headquarters', 'heal', 'health', 'healthy', 'healy', 'hear', 'hearing', 'heart', 'heat', 'heaven', 'heavily', 'heavy', 'hebrew', 'hebrews', 'heck', 'height', 'hela', 'held', 'helicopter', 'hell', 'hellman', 'hello', 'helmet', 'help', 'helpful', 'helsinki', 'hendricks', 'henry', 'heritage', 'hernandez', 'hernlem', 'hero', 'herring', 'heterosexual', 'hewlett', 'hex', 'hey', 'hezbollah', 'hi', 'hide', 'hierarchy', 'higgins', 'high', 'higher', 'highlight', 'highly', 'highway', 'hill', 'hint', 'hip', 'hire', 'historian', 'historical', 'historically', 'history', 'hit', 'hite', 'hitler', 'hitter', 'hj', 'hm', 'hmm', 'hmmm', 'ho', 'hockey', 'hog', 'hold', 'holder', 'hole', 'holiday', 'holland', 'hollow', 'holly', 'holocaust', 'holy', 'home', 'homeland', 'homeopathy', 'homer', 'homicide', 'homosexual', 'homosexuality', 'honda', 'honest', 'honestly', 'honesty', 'hong', 'honor', 'hood', 'hook', 'hop', 'hope', 'hopefully', 'hopkins', 'horizontal', 'horn', 'horne', 'horrible', 'horror', 'horse', 'hose', 'hospital', 'host', 'hostage', 'hostile', 'hostility', 'hot', 'hotel', 'hour', 'house', 'household', 'housing', 'houston', 'howard', 'howe', 'howland', 'hp', 'hq', 'hr', 'hrivnak', 'hrs', 'hs', 'hst', 'ht', 'hub', 'hudson', 'huge', 'hughes', 'huh', 'hull', 'hulman', 'human', 'humanitarian', 'humanity', 'humble', 'humor', 'hung', 'hunt', 'hunter', 'hunting', 'huntsville', 'hurry', 'hurt', 'husband', 'hussein', 'hut', 'hv', 'hw', 'hype', 'hypocrisy', 'hypothesis', 'hz', 'ia', 'ian', 'ibm', 'ic', 'ice', 'iceland', 'icon', 'id', 'idaho', 'ide', 'idea', 'ideal', 'ideally', 'identical', 'identification', 'identify', 'identity', 'ideological', 'ideology', 'idf', 'idiot', 'idle', 'ignite', 'ignition', 'ignorance', 'ignorant', 'ignore', 'ii', 'iii', 'iisi', 'il', 'ill', 'illegal', 'illegally', 'illinois', 'illness', 'illusion', 'illustrate', 'im', 'ima', 'image', 'images', 'imagination', 'imagine', 'imaging', 'imho', 'immediate', 'immediately', 'immoral', 'immune', 'imo', 'impact', 'impair', 'implement', 'implementation', 'implication', 'implicitly', 'imply', 'import', 'importance', 'important', 'importantly', 'impose', 'impossible', 'impress', 'impressed', 'impression', 'impressive', 'improve', 'improved', 'improvement', 'impulse', 'inability', 'inaccurate', 'inadequate', 'inappropriate', 'incapable', 'incentive', 'inch', 'incident', 'incidentally', 'include', 'income', 'incoming', 'incompatible', 'incomplete', 'inconsistent', 'incorporate', 'incorporated', 'incorrect', 'increase', 'increasingly', 'incredible', 'incredibly', 'incur', 'independence', 'independent', 'independently', 'index', 'india', 'indian', 'indiana', 'indians', 'indicate', 'indication', 'indicator', 'individual', 'individually', 'induce', 'industrial', 'industry', 'ineffective', 'inet', 'inevitable', 'inevitably', 'inexpensive', 'inf', 'infallible', 'infamous', 'infant', 'infection', 'infectious', 'infer', 'inferior', 'infinite', 'infinitely', 'infinity', 'inflammatory', 'inflatable', 'inflict', 'influence', 'info', 'inform', 'informatik', 'information', 'informative', 'informed', 'infrastructure', 'infringe', 'ing', 'ingredient', 'inhabitant', 'inherent', 'inherently', 'ini', 'inimitable', 'init', 'initial', 'initially', 'initiate', 'initiative', 'inject', 'injection', 'injure', 'injury', 'ink', 'inn', 'inner', 'inning', 'innings', 'innocent', 'input', 'inquiry', 'inquisition', 'ins', 'insane', 'insert', 'inside', 'insight', 'insist', 'inspection', 'inspire', 'inst', 'instal', 'install', 'installation', 'instance', 'instant', 'instead', 'institute', 'institution', 'instruct', 'instruction', 'instructor', 'instrument', 'instruments', 'insult', 'insurance', 'insure', 'int', 'intact', 'integer', 'integrate', 'integrated', 'integration', 'integrity', 'intel', 'intellect', 'intellectual', 'intelligence', 'intelligent', 'intend', 'intense', 'intensity', 'intensive', 'intent', 'intention', 'intentional', 'intentionally', 'inter', 'interact', 'interaction', 'interactive', 'intercept', 'intercon', 'interested', 'interesting', 'interestingly', 'interface', 'interfere', 'interference', 'intergraph', 'interior', 'internal', 'international', 'internet', 'interpret', 'interpretation', 'interpreter', 'interrupt', 'intersection', 'interval', 'intervene', 'intervention', 'interview', 'intimidate', 'intrinsically', 'intro', 'introduce', 'introduction', 'invade', 'invalid', 'invalidate', 'invasion', 'invent', 'invention', 'invest', 'investigate', 'investigation', 'investigator', 'investment', 'investor', 'invisible', 'invitation', 'invite', 'invoke', 'involve', 'involved', 'involvement', 'io', 'iowa', 'ip', 'ipx', 'iq', 'ir', 'ira', 'iran', 'iraq', 'ireland', 'iris', 'iron', 'ironic', 'irony', 'irq', 'irrational', 'irregular', 'irrelevant', 'irvine', 'isa', 'isaiah', 'isbn', 'isc', 'islam', 'islamic', 'island', 'islanders', 'isles', 'iso', 'isolate', 'isolation', 'israel', 'israeli', 'israelis', 'israelites', 'issue', 'istanbul', 'isu', 'italian', 'italy', 'itc', 'item', 'ithaca', 'iv', 'ivy', 'ix', 'jack', 'jacket', 'jackson', 'jaeger', 'jagr', 'jail', 'jake', 'jam', 'james', 'jamie', 'jan', 'janet', 'january', 'japan', 'japanese', 'jason', 'jay', 'jayne', 'jays', 'jc', 'jd', 'je', 'jean', 'jeep', 'jeesus', 'jeff', 'jefferson', 'jeffrey', 'jehovah', 'jeremy', 'jerk', 'jerry', 'jersey', 'jerusalem', 'jesus', 'jet', 'jets', 'jew', 'jewish', 'jews', 'jhu', 'jim', 'jimmy', 'jn', 'job', 'jockey', 'jody', 'joe', 'joel', 'john', 'johnny', 'johns', 'johnson', 'join', 'joint', 'joke', 'jon', 'jonathan', 'jones', 'jordan', 'jose', 'joseph', 'josh', 'joshua', 'journal', 'journalist', 'journey', 'joy', 'joystick', 'jp', 'jpeg', 'jpl', 'jr', 'jsc', 'jt', 'jubilee', 'judaism', 'judge', 'judgement', 'judgment', 'july', 'jump', 'jumper', 'june', 'junior', 'junk', 'jupiter', 'jurisdiction', 'jury', 'just', 'justice', 'justifiable', 'justification', 'justify', 'ka', 'kaldis', 'kansas', 'karabakh', 'karl', 'kaufman', 'kay', 'kb', 'kc', 'keenan', 'keeper', 'keith', 'keller', 'kelly', 'kelvin', 'ken', 'kendig', 'kennedy', 'kenneth', 'kent', 'kentucky', 'kernel', 'kevin', 'key', 'keyboard', 'keys', 'keyseach', 'keyword', 'keywords', 'kg', 'kgb', 'khan', 'khz', 'kick', 'kid', 'kill', 'killer', 'killing', 'kim', 'kind', 'kinda', 'kindly', 'king', 'kingdom', 'kings', 'kingston', 'kipling', 'kirk', 'kiss', 'kit', 'kitchen', 'kl', 'km', 'knee', 'knife', 'knight', 'knock', 'know', 'knowledge', 'knowledgeable', 'known', 'kong', 'koresh', 'kp', 'kratz', 'ks', 'ksand', 'ku', 'kulikauskas', 'kurdish', 'kurds', 'kurt', 'kv', 'ky', 'kz', 'la', 'lab', 'label', 'labor', 'laboratories', 'laboratory', 'labs', 'lack', 'lady', 'lake', 'lamb', 'lame', 'lamp', 'lan', 'lance', 'land', 'landing', 'lane', 'lang', 'langley', 'language', 'lap', 'laptop', 'larc', 'large', 'largely', 'larry', 'las', 'laser', 'laserjet', 'laserwriter', 'late', 'lately', 'later', 'latin', 'laugh', 'laughter', 'launch', 'launcher', 'laurentian', 'law', 'lawn', 'lawrence', 'laws', 'lawyer', 'lay', 'layer', 'layout', 'lazy', 'lb', 'lbs', 'lc', 'lciii', 'lcs', 'ld', 'le', 'lead', 'leader', 'leadership', 'leaf', 'leafs', 'league', 'leak', 'lean', 'leap', 'learn', 'learning', 'leather', 'leave', 'lebanese', 'lebanon', 'lecture', 'led', 'lee', 'left', 'leg', 'legal', 'legality', 'legalize', 'legally', 'legend', 'legislation', 'legislative', 'legitimate', 'lehigh', 'lemieux', 'lemon', 'lend', 'length', 'lengthy', 'lens', 'leo', 'leonard', 'lerc', 'les', 'lesson', 'lest', 'let', 'lethal', 'lets', 'letter', 'level', 'levine', 'levy', 'lewis', 'lf', 'lg', 'lh', 'li', 'liability', 'liar', 'lib', 'liberal', 'liberation', 'libertarian', 'liberty', 'library', 'licence', 'license', 'licensed', 'licensing', 'lie', 'life', 'lifestyle', 'lifetime', 'lift', 'light', 'lightly', 'lightning', 'like', 'likelihood', 'likely', 'likewise', 'lim', 'limit', 'limitation', 'limited', 'lin', 'lincoln', 'lindros', 'line', 'linear', 'lines', 'lineup', 'link', 'linux', 'lip', 'liquid', 'list', 'listen', 'listing', 'lite', 'liter', 'literal', 'literally', 'literature', 'little', 'liu', 'live', 'liver', 'livermore', 'livesey', 'living', 'livni', 'lj', 'lk', 'll', 'llnl', 'lloyd', 'lm', 'lo', 'load', 'loading', 'loan', 'lobby', 'local', 'locally', 'locate', 'location', 'lock', 'lockheed', 'log', 'logic', 'logical', 'logically', 'login', 'logo', 'london', 'lone', 'long', 'look', 'loop', 'loose', 'lord', 'los', 'lose', 'loser', 'loss', 'lost', 'lot', 'lotus', 'loud', 'louis', 'louisiana', 'louisville', 'lousy', 'love', 'lover', 'low', 'lowell', 'lower', 'lq', 'ls', 'lt', 'lu', 'luck', 'lucky', 'ludicrous', 'luis', 'luke', 'lump', 'lunar', 'lunatic', 'lunch', 'lung', 'lust', 'luxury', 'lx', 'ma', 'mac', 'mach', 'machine', 'machines', 'macintosh', 'macro', 'macs', 'mad', 'madison', 'mag', 'magazine', 'magellan', 'magic', 'magnetic', 'magnitude', 'magnus', 'magnusug', 'mail', 'mailer', 'mailing', 'main', 'maine', 'mainly', 'mainstream', 'maintain', 'maintenance', 'major', 'majority', 'make', 'maker', 'making', 'malcolm', 'male', 'mall', 'man', 'manage', 'management', 'manager', 'mandate', 'mandatory', 'manes', 'manhattan', 'manifest', 'manipulate', 'manipulation', 'manitoba', 'mankind', 'manner', 'mantis', 'manual', 'manually', 'manufacture', 'manufacturer', 'manufacturing', 'map', 'maple', 'mapping', 'mar', 'marc', 'march', 'marcus', 'margin', 'marginal', 'marijuana', 'marine', 'mario', 'mark', 'market', 'marketing', 'marlboro', 'marlins', 'marriage', 'married', 'marry', 'mars', 'marshall', 'martin', 'marvin', 'mary', 'maryland', 'mas', 'mask', 'mass', 'massachusetts', 'massacre', 'masse', 'massive', 'master', 'masters', 'mat', 'match', 'material', 'materials', 'math', 'mathematic', 'mathematical', 'mathematics', 'mathew', 'matrix', 'matt', 'matter', 'matthew', 'mature', 'max', 'maximum', 'maxtor', 'maybe', 'maynard', 'mazda', 'mb', 'mc', 'mccall', 'mcdonald', 'mcgill', 'mclean', 'md', 'meal', 'mean', 'meaning', 'meaningful', 'meaningless', 'means', 'meantime', 'measure', 'measurement', 'meat', 'mechanic', 'mechanical', 'mechanism', 'med', 'media', 'median', 'medical', 'medication', 'medicine', 'medium', 'meet', 'meeting', 'meg', 'mega', 'megabyte', 'megs', 'mel', 'melb', 'melbourne', 'melkonian', 'mellon', 'melt', 'member', 'membership', 'meme', 'memorial', 'memory', 'men', 'mental', 'mention', 'menu', 'mercer', 'mercury', 'mercy', 'mere', 'merely', 'merge', 'merit', 'merrill', 'mess', 'message', 'messenger', 'messiah', 'messier', 'met', 'metal', 'meter', 'method', 'methodology', 'metric', 'metro', 'mets', 'metzger', 'mexico', 'mf', 'mfm', 'mg', 'mh', 'mhz', 'mi', 'miami', 'michael', 'michigan', 'micro', 'microcomputer', 'microphone', 'microsoft', 'microsystems', 'microwave', 'mid', 'middle', 'midi', 'midnight', 'mighty', 'migraine', 'mike', 'mil', 'mild', 'mile', 'mileage', 'miles', 'military', 'militia', 'milk', 'miller', 'million', 'milwaukee', 'mime', 'min', 'mind', 'minded', 'mini', 'minimal', 'minimize', 'minimum', 'mining', 'minister', 'ministry', 'minnesota', 'minor', 'minority', 'mint', 'minus', 'minute', 'mips', 'miracle', 'mirror', 'mis', 'misc', 'miscellaneous', 'mislead', 'miss', 'missile', 'mission', 'mississippi', 'missouri', 'mistake', 'mistaken', 'misunderstand', 'misunderstanding', 'misuse', 'mit', 'mitch', 'mitchell', 'mitre', 'mitsubishi', 'mix', 'mixed', 'mixture', 'mk', 'ml', 'mlb', 'mm', 'mn', 'mo', 'moa', 'mob', 'mobile', 'mod', 'mode', 'model', 'modem', 'moderate', 'moderator', 'modern', 'modest', 'modification', 'modify', 'module', 'mohammad', 'molecular', 'molester', 'molitor', 'mom', 'moment', 'mon', 'monash', 'monday', 'money', 'monica', 'monitor', 'monitors', 'monkey', 'mono', 'monochrome', 'monopoly', 'monster', 'month', 'monthly', 'montreal', 'mood', 'moon', 'moonbase', 'moore', 'moral', 'morality', 'morally', 'morgan', 'mormon', 'mormons', 'morning', 'moron', 'morris', 'moscow', 'moses', 'moslem', 'moslems', 'mot', 'mother', 'motherboard', 'motif', 'motion', 'motivate', 'motivation', 'motive', 'moto', 'motor', 'motorcycle', 'motorcyclist', 'motorola', 'motto', 'mount', 'mountain', 'mouse', 'mouth', 'movement', 'movie', 'mozumder', 'mp', 'mpg', 'mph', 'mq', 'mr', 'mri', 'ms', 'msdo', 'msdos', 'msg', 'msu', 'mt', 'mu', 'muenchen', 'multi', 'multimedia', 'multiple', 'munich', 'murder', 'murderer', 'murders', 'murphy', 'murray', 'muscle', 'museum', 'music', 'muslim', 'muslims', 'mustang', 'mutual', 'mv', 'mvp', 'mw', 'mwm', 'mx', 'myers', 'mykotronx', 'myrto', 'mystery', 'myth', 'mz', 'na', 'nagorno', 'nail', 'naive', 'naked', 'nancy', 'narrow', 'nasa', 'nasty', 'nathan', 'nation', 'national', 'nationality', 'nations', 'native', 'natural', 'naturally', 'nature', 'naval', 'navy', 'nazi', 'nazis', 'nb', 'nc', 'ncaa', 'ncar', 'ncd', 'ncr', 'ncsu', 'nd', 'ne', 'neal', 'near', 'nearby', 'nearly', 'neat', 'nebraska', 'nec', 'necessarily', 'necessary', 'necessity', 'neck', 'need', 'needless', 'negative', 'neglect', 'negotiable', 'negotiate', 'negotiation', 'neighbor', 'neighborhood', 'neighbour', 'neil', 'nelson', 'nerve', 'nervous', 'net', 'netcom', 'netherlands', 'netland', 'netnews', 'netter', 'netters', 'network', 'neutral', 'new', 'newbie', 'newly', 'news', 'newsgroup', 'newsgroups', 'newshost', 'newsletter', 'newspaper', 'newsreader', 'newton', 'nf', 'ng', 'nh', 'nhl', 'ni', 'nic', 'nice', 'nicely', 'nicholas', 'nichols', 'nick', 'nigel', 'night', 'nightmare', 'ninja', 'ninth', 'nissan', 'nist', 'nixon', 'nj', 'njxp', 'nl', 'nm', 'nmsu', 'nn', 'nntp', 'node', 'noise', 'noisy', 'nolan', 'non', 'nonetheless', 'nonsense', 'noon', 'nope', 'noring', 'norm', 'normal', 'normally', 'norman', 'norris', 'north', 'northeastern', 'northern', 'northwestern', 'norton', 'norway', 'nose', 'note', 'notebook', 'notice', 'notify', 'notion', 'nov', 'novel', 'novell', 'november', 'nowadays', 'nr', 'nra', 'ns', 'nsa', 'nsc', 'nsw', 'nswc', 'nt', 'ntmi', 'nubus', 'nuclear', 'nuke', 'null', 'number', 'numerous', 'nuntius', 'nut', 'nuts', 'nw', 'ny', 'nyc', 'nye', 'nyi', 'nyx', 'nz', 'oac', 'oak', 'oakland', 'oath', 'ob', 'obedience', 'obey', 'object', 'objection', 'objective', 'objectively', 'obligation', 'oblige', 'obo', 'obp', 'obscure', 'observation', 'observatory', 'observe', 'observer', 'obsolete', 'obstacle', 'obtain', 'obvious', 'obviously', 'occasion', 'occasional', 'occasionally', 'occupation', 'occupied', 'occupy', 'occur', 'ocean', 'oct', 'october', 'odd', 'odometer', 'offend', 'offender', 'offense', 'offensive', 'offer', 'office', 'officer', 'official', 'officially', 'offset', 'oh', 'ohanus', 'ohio', 'ohm', 'oil', 'oilers', 'oit', 'ok', 'okay', 'okcforum', 'oklahoma', 'ol', 'olchowy', 'old', 'oliver', 'olson', 'olwm', 'om', 'omission', 'omit', 'ongoing', 'online', 'ont', 'ontario', 'oo', 'oops', 'op', 'open', 'opening', 'openlook', 'openly', 'openwindows', 'operate', 'operating', 'operation', 'operational', 'operations', 'operator', 'opinion', 'opponent', 'opportunity', 'oppose', 'opposite', 'opposition', 'optical', 'optilink', 'optimize', 'option', 'optional', 'oracle', 'oral', 'orange', 'orbit', 'orbital', 'orbiter', 'orchid', 'order', 'ordinary', 'oregon', 'org', 'organ', 'organisation', 'organism', 'organize', 'organized', 'orient', 'oriental', 'orientation', 'origin', 'original', 'originally', 'originate', 'originator', 'orioles', 'orion', 'orthodox', 'os', 'oscillator', 'osf', 'osrhe', 'ot', 'ottawa', 'otto', 'ottoman', 'ou', 'ought', 'outcome', 'outer', 'outlaw', 'outlet', 'outline', 'output', 'outrage', 'outright', 'outside', 'outstanding', 'outweigh', 'overall', 'overcome', 'overhead', 'overlap', 'overlook', 'overly', 'override', 'overtime', 'overview', 'overwhelming', 'owner', 'ownership', 'oxford', 'oxygen', 'oz', 'ozone', 'pa', 'pace', 'pacific', 'pack', 'package', 'packaging', 'packard', 'packet', 'pad', 'padres', 'pagan', 'page', 'pain', 'painful', 'paint', 'pair', 'pal', 'pale', 'palestine', 'palestinian', 'palestinians', 'palm', 'palmer', 'palo', 'pan', 'panasonic', 'panel', 'panic', 'panix', 'pant', 'paper', 'paperback', 'paperwork', 'par', 'paradise', 'paragraph', 'parallel', 'parameter', 'paranoid', 'paraphrase', 'pardon', 'parent', 'paris', 'parity', 'park', 'parking', 'parr', 'parse', 'parsli', 'partial', 'partially', 'participant', 'participate', 'participation', 'particle', 'particular', 'particularly', 'partition', 'partlast', 'partly', 'partner', 'partnership', 'party', 'pas', 'pasadena', 'pascal', 'pass', 'passage', 'passenger', 'passive', 'passover', 'passport', 'password', 'past', 'paste', 'pastor', 'pat', 'patch', 'patent', 'patently', 'path', 'pathetic', 'patient', 'patrick', 'patrol', 'pattern', 'paul', 'pay', 'payload', 'payment', 'pb', 'pc', 'pcx', 'pd', 'pds', 'pdt', 'pe', 'peace', 'peaceful', 'peak', 'pedal', 'pee', 'peer', 'pegasus', 'pen', 'penalty', 'pende', 'penguin', 'penguins', 'penn', 'pennant', 'pennsylvania', 'pens', 'pentium', 'people', 'pepper', 'perceive', 'percent', 'percentage', 'perception', 'perfect', 'perfectly', 'perform', 'performance', 'period', 'periodically', 'peripheral', 'perish', 'permanent', 'permanently', 'permission', 'permit', 'perpetrate', 'perry', 'persecute', 'persecution', 'persist', 'person', 'personal', 'personality', 'personally', 'personnel', 'perspective', 'persuade', 'pertain', 'pet', 'petaluma', 'pete', 'peter', 'pettefar', 'pf', 'pg', 'pgp', 'ph', 'phase', 'phds', 'phenomenon', 'phil', 'philadelphia', 'philip', 'philips', 'phill', 'phillie', 'phillies', 'phillips', 'philly', 'philosopher', 'philosophical', 'philosophy', 'phoenix', 'phone', 'photo', 'photograph', 'photography', 'phrase', 'physical', 'physically', 'physician', 'physics', 'pi', 'pick', 'pickup', 'picture', 'pictures', 'pie', 'piece', 'pig', 'pile', 'pill', 'pilot', 'pin', 'pinch', 'pink', 'pinout', 'pioneer', 'pipe', 'pirates', 'piss', 'pistol', 'pit', 'pitch', 'pitcher', 'pitching', 'pitt', 'pittsburgh', 'pity', 'pixel', 'pixmap', 'pizza', 'pk', 'pl', 'place', 'plague', 'plain', 'plaintext', 'plan', 'plane', 'planes', 'planet', 'planetary', 'planning', 'plant', 'plastic', 'plate', 'platform', 'plausible', 'play', 'player', 'players', 'playing', 'playoff', 'playoffs', 'pleasant', 'pleased', 'pleasure', 'plenty', 'pllines', 'plo', 'plot', 'plug', 'plus', 'plymouth', 'pm', 'po', 'pocket', 'point', 'pointer', 'pointless', 'poison', 'pole', 'police', 'policeman', 'policy', 'polish', 'polite', 'politic', 'political', 'politically', 'politician', 'politics', 'poll', 'pollution', 'polygon', 'polytechnic', 'pompous', 'pond', 'ponder', 'pool', 'poor', 'poorly', 'pop', 'pope', 'popular', 'population', 'pork', 'porsche', 'port', 'portable', 'portal', 'portion', 'portland', 'portray', 'pose', 'position', 'positive', 'possess', 'possession', 'possibility', 'possible', 'possibly', 'post', 'postage', 'postal', 'poster', 'posting', 'postscript', 'pot', 'potential', 'potentially', 'potvin', 'pound', 'pour', 'pov', 'poverty', 'power', 'powerbook', 'powerful', 'pp', 'pr', 'practical', 'practically', 'practice', 'practitioner', 'praise', 'pray', 'prayer', 'pre', 'preach', 'precede', 'precedent', 'precious', 'precise', 'precisely', 'precision', 'predict', 'prediction', 'prefer', 'preferable', 'preferably', 'preference', 'preferred', 'pregnant', 'prejudice', 'preliminary', 'prelude', 'premise', 'premium', 'preparation', 'prepare', 'prepared', 'prescription', 'presence', 'present', 'presentation', 'presently', 'preservation', 'preserve', 'president', 'press', 'pressure', 'presumably', 'presume', 'pretend', 'pretty', 'prevail', 'prevent', 'prevention', 'previous', 'previously', 'prey', 'price', 'pricing', 'pride', 'priest', 'primarily', 'primary', 'prime', 'primitive', 'prince', 'princeton', 'principal', 'principle', 'print', 'printer', 'printing', 'prior', 'priority', 'prism', 'prison', 'prisoner', 'privacy', 'private', 'privately', 'privilege', 'prize', 'pro', 'probability', 'probable', 'probably', 'probe', 'probert', 'problem', 'procedure', 'proceed', 'proceeding', 'process', 'processing', 'processor', 'proclaim', 'produce', 'product', 'production', 'productive', 'products', 'prof', 'profess', 'professional', 'professor', 'profile', 'profit', 'program', 'programmer', 'programming', 'programs', 'progress', 'progressive', 'prohibit', 'prohibition', 'project', 'projection', 'prominent', 'promiscuous', 'promise', 'promote', 'prompt', 'promptly', 'prone', 'proof', 'propaganda', 'proper', 'properly', 'property', 'prophecy', 'prophet', 'propoganda', 'proponent', 'proportion', 'proposal', 'propose', 'proposition', 'proprietary', 'propulsion', 'prospect', 'protect', 'protection', 'protective', 'protein', 'protest', 'protestant', 'protocol', 'prototype', 'proud', 'prove', 'proverb', 'provide', 'providence', 'provider', 'province', 'provision', 'provoke', 'ps', 'psalm', 'pseudo', 'psychological', 'psychology', 'pt', 'pts', 'pu', 'pub', 'public', 'publication', 'publicity', 'publicly', 'publish', 'publisher', 'publishing', 'puck', 'pull', 'pulse', 'pump', 'pun', 'punch', 'punish', 'punisher', 'punishment', 'purchase', 'purdue', 'pure', 'purely', 'purpose', 'pursue', 'pursuit', 'push', 'puzzle', 'pyramid', 'qm', 'qt', 'qu', 'quack', 'quadra', 'quaker', 'qualcomm', 'qualification', 'qualified', 'qualify', 'quality', 'quantity', 'quantum', 'quarter', 'quarterly', 'que', 'quebec', 'queen', 'queens', 'query', 'quest', 'question', 'questionable', 'questions', 'quick', 'quickly', 'quiet', 'quietly', 'quinn', 'quit', 'quite', 'quotation', 'quote', 'qur', 'quran', 'ra', 'rabbit', 'race', 'racial', 'racing', 'racism', 'racist', 'rack', 'radar', 'radiation', 'radical', 'radio', 'radius', 'rage', 'raid', 'rail', 'rain', 'raise', 'rally', 'ralph', 'ram', 'ranch', 'rand', 'random', 'randomly', 'randy', 'range', 'ranger', 'rangers', 'rank', 'rape', 'rapid', 'rapidly', 'rare', 'rarely', 'rash', 'raster', 'rat', 'rate', 'rating', 'ratio', 'rational', 'rave', 'raw', 'ray', 'raymond', 'rayssd', 'rb', 'rbi', 'rc', 'rd', 'reach', 'react', 'reaction', 'reactor', 'read', 'readable', 'reader', 'readily', 'reading', 'readme', 'ready', 'reagan', 'real', 'realise', 'realistic', 'reality', 'realize', 'really', 'rear', 'reason', 'reasonable', 'reasonably', 'reasoning', 'rebel', 'reboot', 'rebound', 'rebuild', 'rec', 'recall', 'receipt', 'receive', 'receiver', 'recent', 'recently', 'recieve', 'recognise', 'recognition', 'recognize', 'recommend', 'recommendation', 'reconcile', 'record', 'recorder', 'recording', 'recover', 'recovery', 'red', 'redesign', 'redirect', 'redraw', 'reds', 'reduce', 'reduction', 'redundancy', 'redwood', 'reed', 'ref', 'refer', 'reference', 'reflect', 'reflection', 'reform', 'refrain', 'refresh', 'refugee', 'refuse', 'refutation', 'refute', 'regard', 'regardless', 'regards', 'regime', 'region', 'regional', 'register', 'registration', 'regret', 'regular', 'regularly', 'regulate', 'regulation', 'reid', 'reilly', 'reinstall', 'reject', 'rejection', 'relate', 'related', 'relation', 'relationship', 'relative', 'relatively', 'relativity', 'relay', 'release', 'relevance', 'relevant', 'reliability', 'reliable', 'relief', 'religion', 'religious', 'rely', 'remain', 'remainder', 'remark', 'remarkable', 'remedy', 'remember', 'remind', 'remote', 'remotely', 'removal', 'remove', 'render', 'rene', 'reno', 'rensselaer', 'rent', 'rep', 'repair', 'repeat', 'repeatedly', 'repent', 'repentance', 'replace', 'replacement', 'reply', 'report', 'reporter', 'reports', 'repost', 'represent', 'representation', 'representative', 'reproduce', 'republic', 'republican', 'republicans', 'reputation', 'request', 'require', 'requirement', 'res', 'rescue', 'research', 'researcher', 'resemble', 'resent', 'reserve', 'reset', 'reside', 'resident', 'resign', 'resist', 'resistance', 'resistant', 'resistor', 'resize', 'resolution', 'resolve', 'resort', 'resource', 'resources', 'respect', 'respectable', 'respected', 'respective', 'respectively', 'respond', 'response', 'responsibility', 'responsible', 'rest', 'restart', 'restaurant', 'restore', 'restrain', 'restrict', 'restriction', 'result', 'resume', 'resurrection', 'retail', 'retain', 'rethink', 'rethought', 'retire', 'retract', 'retreat', 'retrieve', 'return', 'rev', 'reveal', 'revelation', 'revenge', 'revenue', 'reverse', 'review', 'revise', 'revision', 'revolt', 'revolution', 'revolutionary', 'revolver', 'reward', 'rewrite', 'rex', 'rf', 'rfc', 'rgb', 'rhetoric', 'ri', 'ribbon', 'rice', 'rich', 'richard', 'richardson', 'richmond', 'rick', 'rid', 'riddle', 'ride', 'rider', 'ridiculous', 'riding', 'rifle', 'right', 'righteous', 'rightly', 'rights', 'ring', 'riot', 'rip', 'ripem', 'risc', 'rise', 'risk', 'ritual', 'river', 'rkba', 'rl', 'rm', 'rn', 'road', 'rob', 'robbie', 'robert', 'roberts', 'robertson', 'robin', 'robinson', 'robust', 'roby', 'rochester', 'rock', 'rocket', 'rockie', 'rockies', 'rod', 'rodney', 'roger', 'rogers', 'roland', 'role', 'roll', 'rom', 'roman', 'romans', 'rome', 'ron', 'ronald', 'roof', 'rookie', 'room', 'root', 'rose', 'rosenau', 'ross', 'roster', 'rotate', 'rotation', 'roth', 'rough', 'roughly', 'round', 'route', 'routine', 'routinely', 'row', 'roy', 'royal', 'royals', 'rp', 'rpi', 'rpm', 'rr', 'rs', 'rsa', 'rt', 'rtfm', 'rtp', 'rub', 'rubber', 'rude', 'ruin', 'rule', 'ruler', 'ruling', 'rumor', 'rumour', 'run', 'runner', 'running', 'rush', 'rushdie', 'rusnew', 'russ', 'russell', 'russia', 'russian', 'russians', 'rutgers', 'ruth', 'rv', 'rw', 'rx', 'ry', 'ryan', 'rz', 'sa', 'sabbath', 'sacred', 'sacrifice', 'sad', 'saddam', 'sadly', 'safe', 'safeguard', 'safely', 'safety', 'sahak', 'sail', 'saint', 'sake', 'salary', 'sale', 'sales', 'salesman', 'salt', 'salvation', 'sam', 'sample', 'samuel', 'san', 'sanction', 'sand', 'sandberg', 'sanderson', 'sandman', 'sandvik', 'sandy', 'santa', 'sarcasm', 'sas', 'sat', 'satan', 'satanic', 'satellite', 'satisfactory', 'satisfied', 'satisfy', 'saturday', 'saturn', 'saudi', 'save', 'saving', 'savior', 'saw', 'say', 'sb', 'sc', 'scale', 'scan', 'scanner', 'scare', 'scared', 'scary', 'scatter', 'scenario', 'scene', 'scharfy', 'schedule', 'schematic', 'scheme', 'schmidt', 'schneider', 'scholar', 'scholarly', 'school', 'schwartz', 'sci', 'science', 'sciences', 'scientific', 'scientist', 'scoop', 'scope', 'score', 'scorer', 'scoring', 'scott', 'scout', 'scramble', 'scratch', 'scream', 'screen', 'screw', 'script', 'scripture', 'scroll', 'scrutiny', 'scsi', 'sd', 'sdpa', 'sdsu', 'se', 'sea', 'seagate', 'seal', 'sean', 'search', 'seas', 'season', 'seat', 'seattle', 'sebastian', 'sec', 'second', 'secondary', 'secondly', 'secrecy', 'secret', 'secretary', 'sect', 'section', 'sector', 'secular', 'secure', 'security', 'sedan', 'seed', 'seek', 'seemingly', 'segment', 'seize', 'seizure', 'selanne', 'seldom', 'select', 'selection', 'selective', 'self', 'selfish', 'sell', 'seller', 'semi', 'semiconductor', 'semitic', 'semitism', 'senate', 'senator', 'senators', 'send', 'sender', 'senior', 'sense', 'sensible', 'sensitive', 'sensitivity', 'sensor', 'sentence', 'sep', 'separate', 'separately', 'separation', 'seperate', 'september', 'sequence', 'serbia', 'serbs', 'serdar', 'serial', 'series', 'seriously', 'serve', 'server', 'service', 'services', 'session', 'set', 'setting', 'settle', 'settlement', 'setup', 'seven', 'seventh', 'severe', 'severely', 'sex', 'sexual', 'sexually', 'sez', 'sf', 'sg', 'sgi', 'sh', 'shack', 'shade', 'shading', 'shadow', 'shafer', 'shaft', 'shai', 'shake', 'shall', 'shame', 'shameful', 'shape', 'share', 'shareware', 'sharing', 'sharks', 'sharon', 'sharp', 'shaw', 'shawn', 'shed', 'sheep', 'sheesh', 'sheet', 'shelf', 'shell', 'shelley', 'shelter', 'sherri', 'sherzer', 'shield', 'shift', 'shine', 'ship', 'shipping', 'shirt', 'shit', 'shnekendorf', 'sho', 'shock', 'shoe', 'shoot', 'shooting', 'shop', 'shore', 'short', 'shortly', 'shortstop', 'shostack', 'shot', 'shotgun', 'shoulder', 'shout', 'shut', 'shutout', 'shuttle', 'si', 'sic', 'sick', 'sig', 'sigh', 'sight', 'sign', 'signal', 'signature', 'significance', 'significant', 'significantly', 'silence', 'silent', 'silicon', 'silly', 'silver', 'similar', 'similarity', 'similarly', 'simm', 'simmons', 'simms', 'simon', 'simple', 'simply', 'simulate', 'simulation', 'simultaneously', 'sin', 'sincerely', 'sing', 'singapore', 'singer', 'single', 'sink', 'sinner', 'sinus', 'sir', 'sister', 'sit', 'site', 'situation', 'sixth', 'size', 'sized', 'sj', 'sk', 'skate', 'skeptic', 'skepticism', 'skill', 'skin', 'skip', 'skipjack', 'sky', 'sl', 'slack', 'slam', 'slap', 'slash', 'slaughter', 'slave', 'slavery', 'slc', 'sleep', 'sleeve', 'slg', 'slice', 'slick', 'slide', 'slight', 'slightly', 'slip', 'slmr', 'slope', 'slot', 'slow', 'slowly', 'slug', 'sm', 'small', 'smart', 'smell', 'smile', 'smiley', 'smith', 'smoke', 'smoking', 'smooth', 'smuggle', 'smuggling', 'smythe', 'snail', 'snake', 'snap', 'snow', 'snyder', 'soc', 'soccer', 'social', 'socialist', 'society', 'socket', 'soft', 'software', 'soil', 'sol', 'solar', 'solaris', 'solder', 'soldier', 'sole', 'solely', 'solicit', 'solid', 'solntze', 'solomon', 'solution', 'solve', 'somebody', 'someday', 'somewhat', 'son', 'song', 'sony', 'soon', 'sophisticated', 'sorenson', 'sorry', 'sort', 'soul', 'sound', 'soundblaster', 'source', 'sources', 'south', 'southern', 'southwestern', 'souvien', 'soviet', 'sox', 'sp', 'space', 'spacecraft', 'span', 'spanish', 'sparc', 'sparcstation', 'spare', 'spark', 'spdcc', 'speak', 'speaker', 'spec', 'special', 'specialist', 'specially', 'specie', 'specific', 'specifically', 'specification', 'specify', 'spectrum', 'speculate', 'speculation', 'speech', 'speed', 'speedstar', 'speedy', 'spell', 'spelling', 'spencer', 'spend', 'spending', 'sphere', 'spike', 'spill', 'spin', 'spirit', 'spiritual', 'spit', 'spite', 'split', 'spokesman', 'sponsor', 'spook', 'sport', 'sports', 'spot', 'spray', 'spread', 'spring', 'springs', 'spy', 'sq', 'squad', 'square', 'squeeze', 'squid', 'sr', 'src', 'ss', 'ssd', 'ssto', 'st', 'stab', 'stable', 'stack', 'stacker', 'stadium', 'staff', 'stage', 'stake', 'stalin', 'stall', 'stamp', 'stan', 'stance', 'stand', 'standard', 'standards', 'standing', 'stanford', 'stanley', 'star', 'stars', 'start', 'starter', 'starting', 'startup', 'stat', 'state', 'statement', 'states', 'static', 'station', 'statistic', 'statistical', 'statistics', 'stats', 'status', 'statute', 'stay', 'std', 'steal', 'stealth', 'steam', 'steel', 'steer', 'steering', 'stefan', 'stein', 'step', 'stephen', 'stephenson', 'stereo', 'sternlight', 'steve', 'steven', 'stevens', 'stewart', 'stick', 'sticker', 'stiff', 'stimulus', 'stl', 'stock', 'stockholm', 'stomach', 'stone', 'stop', 'storage', 'store', 'storm', 'story', 'stove', 'straight', 'straighten', 'straightforward', 'strange', 'stranger', 'strap', 'strasse', 'strategic', 'strategy', 'stratus', 'straw', 'streak', 'stream', 'street', 'strength', 'strengthen', 'stress', 'stretch', 'strict', 'strictly', 'strike', 'string', 'strip', 'stripe', 'strive', 'stroke', 'strong', 'strongly', 'structure', 'struggle', 'stuart', 'student', 'studies', 'studio', 'study', 'stuff', 'stupid', 'stupidity', 'style', 'su', 'sub', 'subjective', 'submission', 'submit', 'subscribe', 'subscription', 'subsequent', 'subset', 'substance', 'substantial', 'substantially', 'substantiate', 'substitute', 'subtle', 'succeed', 'success', 'successful', 'successfully', 'suck', 'sudbury', 'sudden', 'suddenly', 'sue', 'suffer', 'suffering', 'suffice', 'sufficient', 'sufficiently', 'sugar', 'suggest', 'suggestion', 'suicide', 'suit', 'suitable', 'suite', 'sum', 'summarize', 'summary', 'summer', 'sun', 'sunday', 'sunlight', 'sunnyvale', 'sunos', 'super', 'superior', 'supernatural', 'supersede', 'superstar', 'superstition', 'supplement', 'supplier', 'supply', 'support', 'supporter', 'suppose', 'supposedly', 'suppress', 'supreme', 'sure', 'surely', 'surface', 'surgery', 'surprise', 'surprised', 'surprising', 'surrender', 'surround', 'surveillance', 'survey', 'survival', 'survive', 'survivor', 'survivors', 'susan', 'suspect', 'suspend', 'suspension', 'suspicion', 'suspicious', 'sustain', 'sutherland', 'suzuki', 'svga', 'sw', 'swallow', 'swap', 'swear', 'sweden', 'swedish', 'sweep', 'sweet', 'swell', 'swing', 'swiss', 'switch', 'switzerland', 'sword', 'sx', 'sy', 'sydney', 'symbol', 'sympathy', 'symptom', 'sync', 'syndrome', 'syria', 'syrian', 'sys', 'systems', 'ta', 'tab', 'table', 'tactic', 'tactical', 'tad', 'tag', 'tail', 'tale', 'talent', 'talk', 'tall', 'tammy', 'tampa', 'tamu', 'tan', 'tank', 'tap', 'tape', 'tar', 'target', 'task', 'taste', 'tate', 'taurus', 'tavares', 'tax', 'taxis', 'taxpayer', 'taylor', 'tb', 'tc', 'tcp', 'te', 'tea', 'teach', 'teacher', 'teaching', 'team', 'tear', 'tech', 'technical', 'technically', 'technician', 'technique', 'technological', 'technologies', 'technology', 'ted', 'teel', 'teen', 'teh', 'tektronix', 'tel', 'telecom', 'telecommunications', 'telephone', 'telescope', 'television', 'tell', 'telnet', 'telos', 'temp', 'temper', 'temperature', 'tempest', 'temple', 'templeton', 'temporarily', 'temporary', 'tempt', 'tend', 'tendency', 'tenn', 'tennessee', 'tension', 'tent', 'tenth', 'term', 'terminal', 'terminate', 'terminator', 'terminology', 'terrible', 'terribly', 'territorial', 'territory', 'terror', 'terrorism', 'terrorist', 'terry', 'test', 'testament', 'testify', 'testimony', 'testing', 'tex', 'texas', 'text', 'textbook', 'tg', 'th', 'thank', 'thankful', 'thanks', 'thanx', 'theft', 'theirs', 'theist', 'theme', 'theodore', 'theologian', 'theological', 'theology', 'theoretical', 'theoretically', 'theory', 'therapy', 'thereof', 'thermal', 'thesis', 'thi', 'thief', 'thing', 'think', 'thinking', 'thirty', 'thomas', 'thompson', 'thor', 'thorough', 'thoroughly', 'thorson', 'thou', 'thought', 'thousand', 'thread', 'threat', 'threaten', 'throat', 'throttle', 'throw', 'thrust', 'thu', 'thug', 'thumb', 'thunder', 'thursday', 'ti', 'ticket', 'tie', 'tiff', 'tiger', 'tigers', 'tight', 'til', 'till', 'tilt', 'tim', 'time', 'timer', 'times', 'timing', 'timothy', 'tin', 'tiny', 'tip', 'tire', 'tired', 'tissue', 'titan', 'title', 'tm', 'tn', 'toal', 'tobacco', 'tobias', 'tocchet', 'today', 'todd', 'toilet', 'token', 'tokyo', 'tolerance', 'tolerate', 'toll', 'tom', 'tommy', 'tomorrow', 'ton', 'tone', 'tongue', 'tonight', 'tony', 'tool', 'toolkit', 'tools', 'tooth', 'topic', 'tor', 'toronto', 'torque', 'torture', 'toshiba', 'toss', 'total', 'totally', 'touch', 'tough', 'tour', 'tourist', 'tower', 'town', 'toxic', 'toy', 'toyota', 'tp', 'tq', 'tr', 'trace', 'track', 'tracking', 'tract', 'trade', 'tradition', 'traditional', 'traffic', 'tragedy', 'tragic', 'trail', 'train', 'training', 'trajectory', 'transaction', 'transfer', 'transform', 'transformer', 'transistor', 'transition', 'translate', 'translation', 'translator', 'transmission', 'transmit', 'transmitter', 'transport', 'transportation', 'trap', 'trash', 'travel', 'treasury', 'treat', 'treatment', 'treaty', 'tree', 'trek', 'tremendous', 'trend', 'tri', 'trial', 'triangle', 'tribe', 'trick', 'tricky', 'trident', 'trigger', 'trim', 'trinity', 'trip', 'triple', 'triumph', 'trivial', 'troop', 'trouble', 'troy', 'truck', 'true', 'truetype', 'truly', 'trumpet', 'trunk', 'trust', 'truth', 'try', 'tt', 'ttl', 'tu', 'tube', 'tucson', 'tue', 'tuesday', 'tune', 'turbo', 'turk', 'turkey', 'turkish', 'turkiye', 'turks', 'turn', 'turner', 'turpin', 'tutorial', 'tv', 'tvtwm', 'twice', 'twin', 'twins', 'twist', 'twm', 'tx', 'txt', 'type', 'typical', 'typically', 'ua', 'ub', 'ubc', 'uc', 'ucc', 'uci', 'ucs', 'ucsc', 'ucsd', 'ucsu', 'udel', 'ug', 'ugly', 'uh', 'uiuc', 'uk', 'ul', 'ultimate', 'ultimately', 'ultra', 'ultrix', 'um', 'umass', 'umd', 'umich', 'umn', 'unable', 'unacceptable', 'unarmed', 'unauthorized', 'unaware', 'unbelievable', 'unbreakable', 'unc', 'uncle', 'unclear', 'undefined', 'undergo', 'underground', 'underlie', 'underneath', 'understand', 'understandable', 'understanding', 'undertake', 'undoubtedly', 'unfair', 'unfortunate', 'unfortunately', 'unhappy', 'uni', 'uniform', 'union', 'unique', 'unit', 'unite', 'united', 'univ', 'universal', 'universally', 'universe', 'universitaet', 'university', 'unix', 'unknown', 'unless', 'unlike', 'unlikely', 'unlimited', 'unm', 'unnecessary', 'unorganized', 'unplug', 'unreasonable', 'unto', 'unusual', 'unwilling', 'unworthy', 'uoknor', 'upcoming', 'update', 'upenn', 'upgrade', 'upload', 'upper', 'uprising', 'ups', 'upset', 'urban', 'urbana', 'urge', 'usa', 'usable', 'usage', 'usc', 'use', 'used', 'useful', 'useless', 'usenet', 'user', 'useragent', 'users', 'usr', 'ussr', 'usual', 'usually', 'ut', 'utah', 'utexas', 'util', 'utility', 'utilize', 'utter', 'utterly', 'utzoo', 'uu', 'uucp', 'uunet', 'uv', 'uva', 'uw', 'uwo', 'ux', 'va', 'vac', 'vacation', 'vacuum', 'vague', 'vain', 'valentine', 'valid', 'validity', 'valley', 'valuable', 'value', 'valve', 'van', 'vancouver', 'vandalizing', 'vanish', 'variable', 'variant', 'variation', 'variety', 'various', 'vary', 'vast', 'vax', 'vb', 'vcr', 've', 'veal', 'vector', 'vegetable', 'vehicle', 'velocity', 'vendor', 'vent', 'venture', 'venus', 'ver', 'verdict', 'verification', 'verify', 'vernon', 'versa', 'verse', 'version', 'versus', 'vertical', 'vesa', 'vesselin', 'veteran', 'vf', 'vga', 'vhs', 'vi', 'viable', 'vice', 'victim', 'victor', 'victoria', 'victory', 'video', 'videotape', 'vietnam', 'view', 'viewer', 'viewpoint', 'village', 'vincent', 'violate', 'violation', 'violence', 'violent', 'viper', 'virgin', 'virginia', 'virtual', 'virtually', 'virtue', 'virus', 'visa', 'visible', 'vision', 'visit', 'visual', 'visualization', 'vital', 'vl', 'vlb', 'vm', 'vms', 'vnew', 'vnews', 'voice', 'void', 'vol', 'volt', 'voltage', 'volume', 'voluntary', 'volunteer', 'von', 'vote', 'voter', 'voting', 'vp', 'vr', 'vram', 'vs', 'vt', 'vu', 'vulnerable', 'vv', 'vw', 'wa', 'waco', 'wade', 'wage', 'wagon', 'wait', 'wake', 'wales', 'walk', 'walker', 'wall', 'wallet', 'walter', 'wang', 'wanna', 'want', 'wanted', 'war', 'ward', 'ware', 'warfare', 'warm', 'warn', 'warning', 'warrant', 'warranty', 'warren', 'wash', 'washer', 'washington', 'waste', 'watch', 'water', 'waterloo', 'watson', 'watt', 'wave', 'wax', 'way', 'wayne', 'wb', 'wc', 'wd', 'weak', 'weaken', 'weakness', 'wealth', 'wealthy', 'weapon', 'wear', 'weather', 'weaver', 'wednesday', 'week', 'weekend', 'weekly', 'weigh', 'weight', 'weird', 'weiss', 'welcome', 'welfare', 'wells', 'west', 'western', 'wet', 'wh', 'whalers', 'wharfie', 'whatsoever', 'wheel', 'whichever', 'whine', 'whip', 'white', 'wi', 'wide', 'widely', 'widespread', 'widget', 'width', 'wierd', 'wife', 'wild', 'william', 'williams', 'willie', 'willing', 'wilson', 'win', 'wind', 'window', 'windows', 'winfield', 'wing', 'wingate', 'wings', 'winner', 'winnipeg', 'winter', 'wipe', 'wire', 'wiretap', 'wiring', 'wisconsin', 'wisdom', 'wise', 'wish', 'wit', 'withdraw', 'withdrawal', 'witness', 'wk', 'wm', 'wo', 'wod', 'wolf', 'woman', 'women', 'won', 'wonder', 'wonderful', 'wong', 'wood', 'woodward', 'worcester', 'word', 'wording', 'wordperfect', 'work', 'worker', 'working', 'works', 'workshop', 'workstation', 'world', 'worldwide', 'worried', 'worry', 'worship', 'worth', 'worthless', 'worthwhile', 'worthy', 'wound', 'wow', 'wp', 'wpd', 'wpi', 'wr', 'wrap', 'wreck', 'wrench', 'wright', 'wrist', 'write', 'writer', 'writing', 'wrong', 'ws', 'wt', 'wu', 'wuarchive', 'wustl', 'ww', 'wwii', 'xc', 'xdm', 'xi', 'xl', 'xlib', 'xm', 'xor', 'xp', 'xputimage', 'xr', 'xrand', 'xt', 'xterm', 'xv', 'xview', 'xwindow', 'xx', 'xxdate', 'xxmessage', 'ya', 'yale', 'yamaha', 'yankee', 'yankees', 'yard', 'ye', 'yea', 'yeah', 'year', 'years', 'yeast', 'yell', 'yellow', 'yep', 'yes', 'yesterday', 'yfn', 'yield', 'yo', 'york', 'young', 'youngstown', 'youth', 'yr', 'ysu', 'yugoslavia', 'yup', 'yzerman', 'zealand', 'zero', 'zeus', 'zionism', 'zionist', 'zip', 'zone', 'zoology', 'zoom', 'zx']\n"
     ]
    }
   ],
   "source": [
    "from sklearn.feature_extraction.text import TfidfVectorizer\n",
    "vec = TfidfVectorizer(lowercase=True,stop_words='english',min_df=20,max_df=0.90)\n",
    "vec.fit(xtr)\n",
    "print(len(vec.get_feature_names()))\n",
    "print(vec.get_feature_names())"
   ]
  },
  {
   "cell_type": "code",
   "execution_count": 57,
   "id": "2bf38b54",
   "metadata": {},
   "outputs": [],
   "source": [
    "xtr2 = vec.transform(xtr).toarray()"
   ]
  },
  {
   "cell_type": "code",
   "execution_count": 58,
   "id": "85a210a9",
   "metadata": {},
   "outputs": [
    {
     "data": {
      "text/plain": [
       "(11314, 6563)"
      ]
     },
     "execution_count": 58,
     "metadata": {},
     "output_type": "execute_result"
    }
   ],
   "source": [
    "xtr2.shape"
   ]
  },
  {
   "cell_type": "code",
   "execution_count": 63,
   "id": "522ca72d",
   "metadata": {},
   "outputs": [
    {
     "data": {
      "text/plain": [
       "'from :   ( where be my thing ) \\n subject : WHAT car be this ! ? \\n Nntp - Posting - host : rac.wam.umd.edu \\n Organization : University of Maryland , College Park \\n line : \\n  I be wonder if anyone out there could enlighten I on this car I see \\n the other day . it be a -door sport car , look to be from the late / \\n early . it be call a Bricklin . the door be really small . in addition , \\n the front bumper be separate from the rest of the body . this be \\n all I know . if anyone can tellme a model name , engine spec , year \\n of production , where this car be make , history , or whatever info you \\n have on this funky look car , please e - mail . \\n\\n thank , \\n - IL \\n    ---- bring to you by your neighborhood Lerxst ---- \\n\\n\\n\\n\\n'"
      ]
     },
     "execution_count": 63,
     "metadata": {},
     "output_type": "execute_result"
    }
   ],
   "source": [
    "xtr[0]"
   ]
  },
  {
   "cell_type": "markdown",
   "id": "bef8ac46",
   "metadata": {},
   "source": [
    "# Classification"
   ]
  },
  {
   "cell_type": "code",
   "execution_count": 64,
   "id": "c0d53977",
   "metadata": {},
   "outputs": [
    {
     "data": {
      "text/plain": [
       "MultinomialNB()"
      ]
     },
     "execution_count": 64,
     "metadata": {},
     "output_type": "execute_result"
    }
   ],
   "source": [
    "from sklearn.naive_bayes import MultinomialNB\n",
    "model = MultinomialNB()\n",
    "model.fit(xtr2,ytr)"
   ]
  },
  {
   "cell_type": "code",
   "execution_count": 65,
   "id": "8a1bc728",
   "metadata": {
    "collapsed": true
   },
   "outputs": [
    {
     "name": "stdout",
     "output_type": "stream",
     "text": [
      "              precision    recall  f1-score   support\n",
      "\n",
      "           0       0.74      0.66      0.70       319\n",
      "           1       0.64      0.69      0.67       389\n",
      "           2       0.67      0.76      0.71       394\n",
      "           3       0.63      0.68      0.65       392\n",
      "           4       0.77      0.78      0.78       385\n",
      "           5       0.78      0.75      0.76       395\n",
      "           6       0.71      0.82      0.76       390\n",
      "           7       0.84      0.85      0.85       396\n",
      "           8       0.89      0.92      0.90       398\n",
      "           9       0.88      0.93      0.90       397\n",
      "          10       0.91      0.97      0.94       399\n",
      "          11       0.91      0.90      0.90       396\n",
      "          12       0.73      0.55      0.63       393\n",
      "          13       0.91      0.76      0.83       396\n",
      "          14       0.82      0.91      0.86       394\n",
      "          15       0.74      0.89      0.81       398\n",
      "          16       0.66      0.91      0.77       364\n",
      "          17       0.93      0.90      0.92       376\n",
      "          18       0.84      0.55      0.66       310\n",
      "          19       0.88      0.29      0.43       251\n",
      "\n",
      "    accuracy                           0.79      7532\n",
      "   macro avg       0.79      0.77      0.77      7532\n",
      "weighted avg       0.79      0.79      0.78      7532\n",
      "\n"
     ]
    }
   ],
   "source": [
    "from sklearn import metrics\n",
    "xts2 = vec.transform(xts).toarray()\n",
    "ypred = model.predict(xts2)\n",
    "print(metrics.classification_report(yts,ypred))"
   ]
  },
  {
   "cell_type": "code",
   "execution_count": 66,
   "id": "ab939823",
   "metadata": {},
   "outputs": [
    {
     "data": {
      "text/plain": [
       "0.7857142857142857"
      ]
     },
     "execution_count": 66,
     "metadata": {},
     "output_type": "execute_result"
    }
   ],
   "source": [
    "metrics.accuracy_score(yts,ypred)"
   ]
  },
  {
   "cell_type": "code",
   "execution_count": 67,
   "id": "da2f637f",
   "metadata": {},
   "outputs": [
    {
     "data": {
      "text/plain": [
       "0.9183312709916918"
      ]
     },
     "execution_count": 67,
     "metadata": {},
     "output_type": "execute_result"
    }
   ],
   "source": [
    "metrics.accuracy_score(ytr,model.predict(xtr2))"
   ]
  },
  {
   "cell_type": "code",
   "execution_count": 71,
   "id": "7f5d5f44",
   "metadata": {},
   "outputs": [],
   "source": [
    "TfidfVectorizer?"
   ]
  },
  {
   "cell_type": "code",
   "execution_count": null,
   "id": "31643db8",
   "metadata": {},
   "outputs": [],
   "source": []
  }
 ],
 "metadata": {
  "kernelspec": {
   "display_name": "Python 3",
   "language": "python",
   "name": "python3"
  },
  "language_info": {
   "codemirror_mode": {
    "name": "ipython",
    "version": 3
   },
   "file_extension": ".py",
   "mimetype": "text/x-python",
   "name": "python",
   "nbconvert_exporter": "python",
   "pygments_lexer": "ipython3",
   "version": "3.8.8"
  }
 },
 "nbformat": 4,
 "nbformat_minor": 5
}
