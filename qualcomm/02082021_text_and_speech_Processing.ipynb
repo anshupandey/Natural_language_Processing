{
 "cells": [
  {
   "cell_type": "markdown",
   "id": "c7f89d04",
   "metadata": {},
   "source": [
    "# Text_and_speech_Processing"
   ]
  },
  {
   "cell_type": "markdown",
   "id": "6553d5a8",
   "metadata": {},
   "source": [
    "    conda install pyaudio\n",
    "    pip install speechrecognition \n",
    "    pip install pyttsx3"
   ]
  },
  {
   "cell_type": "markdown",
   "id": "bf98ec43",
   "metadata": {},
   "source": [
    "### Speech to text Conversion"
   ]
  },
  {
   "cell_type": "code",
   "execution_count": 1,
   "id": "c854f783",
   "metadata": {},
   "outputs": [],
   "source": [
    "import speech_recognition as sr"
   ]
  },
  {
   "cell_type": "code",
   "execution_count": 4,
   "id": "82a69eb0",
   "metadata": {},
   "outputs": [],
   "source": [
    "r = sr.Recognizer()\n",
    "# record some audio\n",
    "with sr.Microphone(1) as source:\n",
    "    audio = r.listen(source,phrase_time_limit=10)"
   ]
  },
  {
   "cell_type": "code",
   "execution_count": 5,
   "id": "def9634c",
   "metadata": {},
   "outputs": [
    {
     "name": "stdout",
     "output_type": "stream",
     "text": [
      "hello hello hello test test test I hope it should work and let's see if it works well or not if you get good output of this\n"
     ]
    }
   ],
   "source": [
    "# convert speech to text\n",
    "text = r.recognize_google(audio)\n",
    "print(text)"
   ]
  },
  {
   "cell_type": "code",
   "execution_count": 6,
   "id": "9a1fc251",
   "metadata": {},
   "outputs": [],
   "source": [
    "# saving recorded audio as a file - wav file\n",
    "with open(\"myaudio.wav\",\"wb\") as file:\n",
    "    file.write(audio.get_wav_data())"
   ]
  },
  {
   "cell_type": "code",
   "execution_count": 9,
   "id": "5accf496",
   "metadata": {},
   "outputs": [
    {
     "name": "stdout",
     "output_type": "stream",
     "text": [
      "hello hello hello test test test I hope it should work and let's see if it works well or not if you get good output of this\n"
     ]
    }
   ],
   "source": [
    "# load the audio from a file and convert to text\n",
    "with sr.AudioFile(\"myaudio.wav\") as source:\n",
    "    maudio = r.record(source)\n",
    "print(r.recognize_google(maudio))"
   ]
  },
  {
   "cell_type": "markdown",
   "id": "29b0b9cd",
   "metadata": {},
   "source": [
    "### Text to speech Conversion"
   ]
  },
  {
   "cell_type": "code",
   "execution_count": 10,
   "id": "ada84822",
   "metadata": {},
   "outputs": [],
   "source": [
    "import pyttsx3"
   ]
  },
  {
   "cell_type": "code",
   "execution_count": 11,
   "id": "5a80184d",
   "metadata": {},
   "outputs": [],
   "source": [
    "engine = pyttsx3.init()\n",
    "engine.say(\"Hello Everyone, I hope you are enjoying Machine Learning today.\")\n",
    "engine.runAndWait()"
   ]
  },
  {
   "cell_type": "code",
   "execution_count": 12,
   "id": "9723c268",
   "metadata": {},
   "outputs": [],
   "source": [
    "engine.setProperty('rate',100)\n",
    "engine.say(\"Hello Everyone, I hope you are enjoying Machine Learning today.\")\n",
    "engine.runAndWait()"
   ]
  },
  {
   "cell_type": "code",
   "execution_count": 13,
   "id": "0cd01c05",
   "metadata": {},
   "outputs": [
    {
     "data": {
      "text/plain": [
       "[<pyttsx3.voice.Voice at 0x268b71d93d0>,\n",
       " <pyttsx3.voice.Voice at 0x268b4f773d0>]"
      ]
     },
     "execution_count": 13,
     "metadata": {},
     "output_type": "execute_result"
    }
   ],
   "source": [
    "speakers = engine.getProperty('voices')\n",
    "speakers"
   ]
  },
  {
   "cell_type": "code",
   "execution_count": 14,
   "id": "1ab8a228",
   "metadata": {},
   "outputs": [],
   "source": [
    "engine.setProperty('voice',speakers[1].id)\n",
    "engine.say(\"Hello Everyone, I hope you are enjoying Machine Learning today.\")\n",
    "engine.runAndWait()"
   ]
  },
  {
   "cell_type": "code",
   "execution_count": null,
   "id": "16ca534b",
   "metadata": {},
   "outputs": [],
   "source": []
  }
 ],
 "metadata": {
  "kernelspec": {
   "display_name": "Python 3",
   "language": "python",
   "name": "python3"
  },
  "language_info": {
   "codemirror_mode": {
    "name": "ipython",
    "version": 3
   },
   "file_extension": ".py",
   "mimetype": "text/x-python",
   "name": "python",
   "nbconvert_exporter": "python",
   "pygments_lexer": "ipython3",
   "version": "3.8.8"
  }
 },
 "nbformat": 4,
 "nbformat_minor": 5
}
