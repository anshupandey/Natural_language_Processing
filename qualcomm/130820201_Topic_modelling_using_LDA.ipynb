{
  "nbformat": 4,
  "nbformat_minor": 0,
  "metadata": {
    "kernelspec": {
      "display_name": "Python 3",
      "language": "python",
      "name": "python3"
    },
    "language_info": {
      "codemirror_mode": {
        "name": "ipython",
        "version": 3
      },
      "file_extension": ".py",
      "mimetype": "text/x-python",
      "name": "python",
      "nbconvert_exporter": "python",
      "pygments_lexer": "ipython3",
      "version": "3.7.4"
    },
    "colab": {
      "name": "Case_Study_Topic_modelling_using_LDA.ipynb",
      "provenance": []
    }
  },
  "cells": [
    {
      "cell_type": "markdown",
      "metadata": {
        "id": "mennIfwaZ5rz"
      },
      "source": [
        "# Installation and Setup"
      ]
    },
    {
      "cell_type": "code",
      "metadata": {
        "id": "m8OVevbkZ5sC",
        "colab": {
          "base_uri": "https://localhost:8080/"
        },
        "outputId": "1b9c8b28-2bcd-4b21-f0ef-49283d5f15c7"
      },
      "source": [
        "# download the corpus for nltk and spacy's english language model\n",
        "import nltk\n",
        "nltk.download(\"punkt\")\n",
        "nltk.download(\"wordnet\")\n",
        "nltk.download(\"stopwords\")"
      ],
      "execution_count": null,
      "outputs": [
        {
          "output_type": "stream",
          "text": [
            "[nltk_data] Downloading package punkt to /root/nltk_data...\n",
            "[nltk_data]   Package punkt is already up-to-date!\n",
            "[nltk_data] Downloading package wordnet to /root/nltk_data...\n",
            "[nltk_data]   Package wordnet is already up-to-date!\n",
            "[nltk_data] Downloading package stopwords to /root/nltk_data...\n",
            "[nltk_data]   Package stopwords is already up-to-date!\n"
          ],
          "name": "stdout"
        },
        {
          "output_type": "execute_result",
          "data": {
            "text/plain": [
              "True"
            ]
          },
          "metadata": {
            "tags": []
          },
          "execution_count": 1
        }
      ]
    },
    {
      "cell_type": "code",
      "metadata": {
        "id": "h8BoxQpGaGlh",
        "colab": {
          "base_uri": "https://localhost:8080/"
        },
        "outputId": "458972f3-3066-4544-fc21-97309fd23d0c"
      },
      "source": [
        "!pip install pyLDAvis==3.2.2"
      ],
      "execution_count": null,
      "outputs": [
        {
          "output_type": "stream",
          "text": [
            "Collecting pyLDAvis==3.2.2\n",
            "\u001b[?25l  Downloading https://files.pythonhosted.org/packages/24/38/6d81eff34c84c9158d3b7c846bff978ac88b0c2665548941946d3d591158/pyLDAvis-3.2.2.tar.gz (1.7MB)\n",
            "\u001b[K     |████████████████████████████████| 1.7MB 3.8MB/s \n",
            "\u001b[?25hRequirement already satisfied: wheel>=0.23.0 in /usr/local/lib/python3.7/dist-packages (from pyLDAvis==3.2.2) (0.36.2)\n",
            "Requirement already satisfied: numpy>=1.9.2 in /usr/local/lib/python3.7/dist-packages (from pyLDAvis==3.2.2) (1.19.5)\n",
            "Requirement already satisfied: scipy>=0.18.0 in /usr/local/lib/python3.7/dist-packages (from pyLDAvis==3.2.2) (1.4.1)\n",
            "Requirement already satisfied: joblib>=0.8.4 in /usr/local/lib/python3.7/dist-packages (from pyLDAvis==3.2.2) (1.0.1)\n",
            "Requirement already satisfied: jinja2>=2.7.2 in /usr/local/lib/python3.7/dist-packages (from pyLDAvis==3.2.2) (2.11.3)\n",
            "Requirement already satisfied: numexpr in /usr/local/lib/python3.7/dist-packages (from pyLDAvis==3.2.2) (2.7.3)\n",
            "Requirement already satisfied: future in /usr/local/lib/python3.7/dist-packages (from pyLDAvis==3.2.2) (0.16.0)\n",
            "Collecting funcy\n",
            "  Downloading https://files.pythonhosted.org/packages/44/52/5cf7401456a461e4b481650dfb8279bc000f31a011d0918904f86e755947/funcy-1.16-py2.py3-none-any.whl\n",
            "Requirement already satisfied: pandas>=0.17.0 in /usr/local/lib/python3.7/dist-packages (from pyLDAvis==3.2.2) (1.1.5)\n",
            "Requirement already satisfied: MarkupSafe>=0.23 in /usr/local/lib/python3.7/dist-packages (from jinja2>=2.7.2->pyLDAvis==3.2.2) (2.0.1)\n",
            "Requirement already satisfied: pytz>=2017.2 in /usr/local/lib/python3.7/dist-packages (from pandas>=0.17.0->pyLDAvis==3.2.2) (2018.9)\n",
            "Requirement already satisfied: python-dateutil>=2.7.3 in /usr/local/lib/python3.7/dist-packages (from pandas>=0.17.0->pyLDAvis==3.2.2) (2.8.1)\n",
            "Requirement already satisfied: six>=1.5 in /usr/local/lib/python3.7/dist-packages (from python-dateutil>=2.7.3->pandas>=0.17.0->pyLDAvis==3.2.2) (1.15.0)\n",
            "Building wheels for collected packages: pyLDAvis\n",
            "  Building wheel for pyLDAvis (setup.py) ... \u001b[?25l\u001b[?25hdone\n",
            "  Created wheel for pyLDAvis: filename=pyLDAvis-3.2.2-py2.py3-none-any.whl size=135618 sha256=0ed7dae71701208e7057533162dba6296f0cbad165e226c875958610c08c297f\n",
            "  Stored in directory: /root/.cache/pip/wheels/74/df/b6/97234c8446a43be05c9a8687ee0db1f1b5ade5f27729187eae\n",
            "Successfully built pyLDAvis\n",
            "Installing collected packages: funcy, pyLDAvis\n",
            "Successfully installed funcy-1.16 pyLDAvis-3.2.2\n"
          ],
          "name": "stdout"
        }
      ]
    },
    {
      "cell_type": "markdown",
      "metadata": {
        "id": "4xbQgSDGZ5sJ"
      },
      "source": [
        "# importing packages"
      ]
    },
    {
      "cell_type": "code",
      "metadata": {
        "id": "8Ao9VNJjZ5sM",
        "colab": {
          "base_uri": "https://localhost:8080/"
        },
        "outputId": "fd0de930-1b9f-41d5-a61f-363be65f7fa0"
      },
      "source": [
        "import re\n",
        "import numpy as np\n",
        "import pandas as pd\n",
        "\n",
        "# GENSIM\n",
        "import gensim\n",
        "import gensim.corpora as corpora\n",
        "from gensim.utils import simple_preprocess\n",
        "from gensim.models import CoherenceModel\n",
        "\n",
        "# Plotting tools\n",
        "import pyLDAvis\n",
        "import pyLDAvis.gensim  # don't skip this\n",
        "import matplotlib.pyplot as plt\n",
        "%matplotlib inline\n",
        "\n",
        "import warnings\n",
        "warnings.filterwarnings(\"ignore\",category=DeprecationWarning)\n",
        "\n",
        "import spacy"
      ],
      "execution_count": null,
      "outputs": [
        {
          "output_type": "stream",
          "text": [
            "/usr/local/lib/python3.7/dist-packages/past/types/oldstr.py:5: DeprecationWarning: Using or importing the ABCs from 'collections' instead of from 'collections.abc' is deprecated since Python 3.3,and in 3.9 it will stop working\n",
            "  from collections import Iterable\n"
          ],
          "name": "stderr"
        }
      ]
    },
    {
      "cell_type": "markdown",
      "metadata": {
        "id": "CvvI8PGjZ5sl"
      },
      "source": [
        "# importing data"
      ]
    },
    {
      "cell_type": "code",
      "metadata": {
        "id": "QQHMUD26Z5so"
      },
      "source": [
        "# importing newsgroup data\n",
        "from sklearn import datasets\n",
        "emaildata = datasets.fetch_20newsgroups()\n",
        "data = emaildata.data"
      ],
      "execution_count": null,
      "outputs": []
    },
    {
      "cell_type": "code",
      "metadata": {
        "id": "bZ1jqBlsZ5sv",
        "colab": {
          "base_uri": "https://localhost:8080/"
        },
        "outputId": "f5ced99e-ba23-4c69-e46f-f25482c4d746"
      },
      "source": [
        "len(data)"
      ],
      "execution_count": null,
      "outputs": [
        {
          "output_type": "execute_result",
          "data": {
            "text/plain": [
              "11314"
            ]
          },
          "metadata": {
            "tags": []
          },
          "execution_count": 6
        }
      ]
    },
    {
      "cell_type": "code",
      "metadata": {
        "scrolled": false,
        "id": "ERplKM5SZ5s7",
        "colab": {
          "base_uri": "https://localhost:8080/"
        },
        "outputId": "6594d2cb-6078-4cb0-9f5a-c8d7b36a3053"
      },
      "source": [
        "print(data[11000])"
      ],
      "execution_count": null,
      "outputs": [
        {
          "output_type": "stream",
          "text": [
            "From: yamauchi@ces.cwru.edu (Brian Yamauchi)\n",
            "Subject: DC-X: Choice of a New Generation (was Re: SSRT Roll-Out Speech)\n",
            "Organization: Case Western Reserve University\n",
            "Lines: 27\n",
            "Distribution: world\n",
            "NNTP-Posting-Host: yuggoth.ces.cwru.edu\n",
            "In-reply-to: jkatz@access.digex.com's message of 21 Apr 1993 22:09:32 -0400\n",
            "\n",
            "In article <1r4uos$jid@access.digex.net> jkatz@access.digex.com (Jordan Katz) writes:\n",
            "\n",
            ">\t\t   Speech Delivered by Col. Simon P. Worden,\n",
            ">\t\t\tThe Deputy for Technology, SDIO\n",
            ">\n",
            ">\tMost of you, as am I, are \"children of the 1960's.\"  We grew\n",
            ">up in an age of miracles -- Inter-Continental Ballistic Missiles,\n",
            ">nuclear energy, computers, flights to the moon.  But these were\n",
            ">miracles of our parent's doing. \n",
            "\n",
            ">                          Speech by Pete Worden\n",
            ">          Delivered Before the U.S. Space Foundation Conference\n",
            "\n",
            ">     I'm embarrassed when my generation is compared with the last\n",
            ">generation -- the giants of the last great space era, the 1950's\n",
            ">and 1960's.  They went to the moon - we built a telescope that\n",
            ">can't see straight.  They soft-landed on Mars - the least we\n",
            ">could do is soft-land on Earth!\n",
            "\n",
            "Just out of curiousity, how old is Worden?\n",
            "--\n",
            "_______________________________________________________________________________\n",
            "\n",
            "Brian Yamauchi\t\t\tCase Western Reserve University\n",
            "yamauchi@alpha.ces.cwru.edu\tDepartment of Computer Engineering and Science\n",
            "_______________________________________________________________________________\n",
            "\n",
            "\n"
          ],
          "name": "stdout"
        }
      ]
    },
    {
      "cell_type": "markdown",
      "metadata": {
        "id": "RjDY7sMgZ5tS"
      },
      "source": [
        "# Data Cleaning"
      ]
    },
    {
      "cell_type": "code",
      "metadata": {
        "id": "4UB2VOcZZ5tU"
      },
      "source": [
        "# NLTK Stop words\n",
        "from nltk.corpus import stopwords\n",
        "stop_words = stopwords.words('english')\n",
        "stop_words.extend(['from', 'subject', 're', 'edu', 'use'])"
      ],
      "execution_count": null,
      "outputs": []
    },
    {
      "cell_type": "code",
      "metadata": {
        "id": "0TU2ftCMZ5tb"
      },
      "source": [
        "# Remove Emails\n",
        "data = [re.sub('\\S*@\\S*\\s?', '', sent) for sent in data]\n",
        "\n",
        "# Remove new line characters\n",
        "data = [re.sub('\\s+', ' ', sent) for sent in data]\n",
        "\n",
        "# Remove distracting single quotes\n",
        "data = [re.sub(\"\\'\", \"\", sent) for sent in data]"
      ],
      "execution_count": null,
      "outputs": []
    },
    {
      "cell_type": "markdown",
      "metadata": {
        "id": "LdkGBOeSZ5tq"
      },
      "source": [
        "## Tokenize words and Clean-up text"
      ]
    },
    {
      "cell_type": "code",
      "metadata": {
        "id": "BLxg1Y29Z5tt",
        "colab": {
          "base_uri": "https://localhost:8080/"
        },
        "outputId": "38cc144a-6cc0-4459-ebb0-661ef78d6f41"
      },
      "source": [
        "def sent_to_words(sentences):\n",
        "    for sentence in sentences:\n",
        "        yield(gensim.utils.simple_preprocess(str(sentence), deacc=True))  # deacc=True removes punctuations\n",
        "\n",
        "data_words = list(sent_to_words(data))\n",
        "\n",
        "print(data_words[:1])"
      ],
      "execution_count": null,
      "outputs": [
        {
          "output_type": "stream",
          "text": [
            "[['from', 'wheres', 'my', 'thing', 'subject', 'what', 'car', 'is', 'this', 'nntp', 'posting', 'host', 'rac', 'wam', 'umd', 'edu', 'organization', 'university', 'of', 'maryland', 'college', 'park', 'lines', 'was', 'wondering', 'if', 'anyone', 'out', 'there', 'could', 'enlighten', 'me', 'on', 'this', 'car', 'saw', 'the', 'other', 'day', 'it', 'was', 'door', 'sports', 'car', 'looked', 'to', 'be', 'from', 'the', 'late', 'early', 'it', 'was', 'called', 'bricklin', 'the', 'doors', 'were', 'really', 'small', 'in', 'addition', 'the', 'front', 'bumper', 'was', 'separate', 'from', 'the', 'rest', 'of', 'the', 'body', 'this', 'is', 'all', 'know', 'if', 'anyone', 'can', 'tellme', 'model', 'name', 'engine', 'specs', 'years', 'of', 'production', 'where', 'this', 'car', 'is', 'made', 'history', 'or', 'whatever', 'info', 'you', 'have', 'on', 'this', 'funky', 'looking', 'car', 'please', 'mail', 'thanks', 'il', 'brought', 'to', 'you', 'by', 'your', 'neighborhood', 'lerxst']]\n"
          ],
          "name": "stdout"
        }
      ]
    },
    {
      "cell_type": "markdown",
      "metadata": {
        "id": "zzWo4Jq4Z5t0"
      },
      "source": [
        "# Creating Bigram and Trigram Models"
      ]
    },
    {
      "cell_type": "code",
      "metadata": {
        "id": "RY_SIwpLZ5uM",
        "colab": {
          "base_uri": "https://localhost:8080/"
        },
        "outputId": "05aaf202-b012-48d1-a5e6-ae31a8b99dd8"
      },
      "source": [
        "# Build the bigram and trigram models\n",
        "bigram = gensim.models.Phrases(data_words, min_count=5, threshold=100) # higher threshold fewer phrases.\n",
        "trigram = gensim.models.Phrases(bigram[data_words], threshold=100)  \n",
        "\n",
        "# Faster way to get a sentence clubbed as a trigram/bigram\n",
        "bigram_mod = gensim.models.phrases.Phraser(bigram)\n",
        "trigram_mod = gensim.models.phrases.Phraser(trigram)\n",
        "\n",
        "# See trigram example\n",
        "print(trigram_mod[bigram_mod[data_words[0]]])"
      ],
      "execution_count": null,
      "outputs": [
        {
          "output_type": "stream",
          "text": [
            "/usr/local/lib/python3.7/dist-packages/gensim/models/phrases.py:598: UserWarning: For a faster implementation, use the gensim.models.phrases.Phraser class\n",
            "  warnings.warn(\"For a faster implementation, use the gensim.models.phrases.Phraser class\")\n"
          ],
          "name": "stderr"
        },
        {
          "output_type": "stream",
          "text": [
            "['from', 'wheres', 'my', 'thing', 'subject', 'what', 'car', 'is', 'this', 'nntp_posting_host', 'rac_wam_umd_edu', 'organization', 'university', 'of', 'maryland_college_park', 'lines', 'was', 'wondering', 'if', 'anyone', 'out', 'there', 'could', 'enlighten', 'me', 'on', 'this', 'car', 'saw', 'the', 'other', 'day', 'it', 'was', 'door', 'sports', 'car', 'looked', 'to', 'be', 'from', 'the', 'late', 'early', 'it', 'was', 'called', 'bricklin', 'the', 'doors', 'were', 'really', 'small', 'in', 'addition', 'the', 'front_bumper', 'was', 'separate', 'from', 'the', 'rest', 'of', 'the', 'body', 'this', 'is', 'all', 'know', 'if', 'anyone', 'can', 'tellme', 'model', 'name', 'engine', 'specs', 'years', 'of', 'production', 'where', 'this', 'car', 'is', 'made', 'history', 'or', 'whatever', 'info', 'you', 'have', 'on', 'this', 'funky', 'looking', 'car', 'please', 'mail', 'thanks', 'il', 'brought', 'to', 'you', 'by', 'your', 'neighborhood', 'lerxst']\n"
          ],
          "name": "stdout"
        }
      ]
    },
    {
      "cell_type": "markdown",
      "metadata": {
        "id": "2dWVIQOXZ5uT"
      },
      "source": [
        "# Remove Stopwords, Make Bigrams and Lemmatize"
      ]
    },
    {
      "cell_type": "code",
      "metadata": {
        "id": "5yU68uApZ5uZ"
      },
      "source": [
        "# Define functions for stopwords, bigrams, trigrams and lemmatization\n",
        "def remove_stopwords(texts):\n",
        "    return [[word for word in simple_preprocess(str(doc)) if word not in stop_words] for doc in texts]\n",
        "\n",
        "def make_bigrams(texts):\n",
        "    return [bigram_mod[doc] for doc in texts]\n",
        "\n",
        "def make_trigrams(texts):\n",
        "    return [trigram_mod[bigram_mod[doc]] for doc in texts]\n",
        "\n",
        "def lemmatization(texts, allowed_postags=['NOUN', 'ADJ', 'VERB', 'ADV']):\n",
        "    \"\"\"https://spacy.io/api/annotation\"\"\"\n",
        "    texts_out = []\n",
        "    for sent in texts:\n",
        "        doc = nlp(\" \".join(sent)) \n",
        "        texts_out.append([token.lemma_ for token in doc if token.pos_ in allowed_postags])\n",
        "    return texts_out"
      ],
      "execution_count": null,
      "outputs": []
    },
    {
      "cell_type": "code",
      "metadata": {
        "id": "Vkmefd0_Z5uf",
        "colab": {
          "base_uri": "https://localhost:8080/"
        },
        "outputId": "a490bb13-04ec-4d3d-9473-68743deeb911"
      },
      "source": [
        "# Remove Stop Words\n",
        "data_words_nostops = remove_stopwords(data_words)\n",
        "\n",
        "# Form Bigrams\n",
        "data_words_bigrams = make_bigrams(data_words_nostops)\n",
        "\n",
        "# Initialize spacy 'en' model, keeping only tagger component (for efficiency)\n",
        "# python3 -m spacy download en\n",
        "nlp = spacy.load('en', disable=['parser', 'ner'])\n",
        "\n",
        "# Do lemmatization keeping only noun, adj, vb, adv\n",
        "data_lemmatized = lemmatization(data_words_bigrams, allowed_postags=['NOUN', 'ADJ', 'VERB', 'ADV'])\n",
        "\n",
        "print(data_lemmatized[:1])"
      ],
      "execution_count": null,
      "outputs": [
        {
          "output_type": "stream",
          "text": [
            "[['where', 'thing', 'car', 'nntp_poste', 'host', 'park', 'line', 'wonder', 'could', 'enlighten', 'car', 'see', 'day', 'door', 'sport', 'car', 'look', 'late', 'early', 'call', 'bricklin', 'door', 'really', 'small', 'addition', 'separate', 'rest', 'body', 'know', 'tellme', 'model', 'name', 'engine', 'year', 'production', 'car', 'make', 'history', 'info', 'funky', 'look', 'car', 'mail', 'thank', 'bring', 'neighborhood', 'lerxst']]\n"
          ],
          "name": "stdout"
        }
      ]
    },
    {
      "cell_type": "markdown",
      "metadata": {
        "id": "dvTqA52lZ5um"
      },
      "source": [
        "# Topic Modeling"
      ]
    },
    {
      "cell_type": "code",
      "metadata": {
        "id": "xUmt5AbbZ5uo",
        "colab": {
          "base_uri": "https://localhost:8080/"
        },
        "outputId": "d80dbbcf-86f8-41a1-df13-767e13eb0f6f"
      },
      "source": [
        "# Create Dictionary\n",
        "dictionary = corpora.Dictionary(data_lemmatized)\n",
        "\n",
        "# Create Corpus\n",
        "texts = data_lemmatized\n",
        "\n",
        "# Term Document Frequency\n",
        "corpus = [dictionary.doc2bow(text) for text in texts]\n",
        "\n",
        "# View\n",
        "print(corpus[:1])"
      ],
      "execution_count": null,
      "outputs": [
        {
          "output_type": "stream",
          "text": [
            "[[(0, 1), (1, 1), (2, 1), (3, 1), (4, 1), (5, 5), (6, 1), (7, 1), (8, 2), (9, 1), (10, 1), (11, 1), (12, 1), (13, 1), (14, 1), (15, 1), (16, 1), (17, 1), (18, 1), (19, 1), (20, 2), (21, 1), (22, 1), (23, 1), (24, 1), (25, 1), (26, 1), (27, 1), (28, 1), (29, 1), (30, 1), (31, 1), (32, 1), (33, 1), (34, 1), (35, 1), (36, 1), (37, 1), (38, 1), (39, 1), (40, 1)]]\n"
          ],
          "name": "stdout"
        }
      ]
    },
    {
      "cell_type": "code",
      "metadata": {
        "id": "uqL7-3-KZ5uv"
      },
      "source": [
        "# Build LDA model\n",
        "lda_model = gensim.models.ldamodel.LdaModel(corpus=corpus,\n",
        "                                           id2word=dictionary,\n",
        "                                           num_topics=20, \n",
        "                                           random_state=100,\n",
        "                                           update_every=1,\n",
        "                                           chunksize=100,\n",
        "                                           passes=10,\n",
        "                                           alpha='auto',\n",
        "                                           per_word_topics=True)"
      ],
      "execution_count": null,
      "outputs": []
    },
    {
      "cell_type": "markdown",
      "metadata": {
        "id": "cdAGui8UZ5u3"
      },
      "source": [
        "# View the topics in LDA model"
      ]
    },
    {
      "cell_type": "code",
      "metadata": {
        "id": "LgFX9gWtZ5u5",
        "colab": {
          "base_uri": "https://localhost:8080/"
        },
        "outputId": "54cbd0ef-cbc2-4a43-ccad-5e959b366ba3"
      },
      "source": [
        "# Print the Keyword in the 10 topics\n",
        "print(lda_model.print_topics())\n",
        "doc_lda = lda_model[corpus]"
      ],
      "execution_count": null,
      "outputs": [
        {
          "output_type": "stream",
          "text": [
            "[(0, '0.051*\"report\" + 0.027*\"black\" + 0.021*\"fire\" + 0.020*\"white\" + 0.016*\"trial\" + 0.016*\"cover\" + 0.015*\"medium\" + 0.013*\"vote\" + 0.012*\"minor\" + 0.012*\"title\"'), (1, '0.021*\"god\" + 0.020*\"accept\" + 0.016*\"member\" + 0.015*\"man\" + 0.014*\"israeli\" + 0.014*\"season\" + 0.012*\"publish\" + 0.012*\"lebanese\" + 0.012*\"jewish\" + 0.011*\"brain\"'), (2, '0.017*\"package\" + 0.016*\"press\" + 0.015*\"item\" + 0.015*\"break\" + 0.011*\"level\" + 0.010*\"edge\" + 0.009*\"hole\" + 0.007*\"eye\" + 0.007*\"contribute\" + 0.007*\"equipment\"'), (3, '0.025*\"pc\" + 0.022*\"contain\" + 0.020*\"input\" + 0.019*\"reality\" + 0.017*\"picture\" + 0.016*\"object\" + 0.015*\"box\" + 0.015*\"quality\" + 0.015*\"level\" + 0.013*\"greek\"'), (4, '0.089*\"ax\" + 0.076*\"max\" + 0.032*\"space\" + 0.021*\"launch\" + 0.018*\"di_di\" + 0.017*\"orbit\" + 0.016*\"sphere\" + 0.015*\"satellite\" + 0.014*\"plane\" + 0.014*\"mission\"'), (5, '0.019*\"people\" + 0.017*\"kill\" + 0.015*\"child\" + 0.015*\"government\" + 0.012*\"attack\" + 0.012*\"year\" + 0.012*\"die\" + 0.011*\"country\" + 0.010*\"say\" + 0.009*\"war\"'), (6, '0.035*\"window\" + 0.032*\"card\" + 0.020*\"image\" + 0.020*\"driver\" + 0.020*\"problem\" + 0.019*\"run\" + 0.018*\"sale\" + 0.018*\"machine\" + 0.017*\"color\" + 0.016*\"screen\"'), (7, '0.025*\"people\" + 0.021*\"say\" + 0.014*\"reason\" + 0.014*\"believe\" + 0.012*\"may\" + 0.012*\"evidence\" + 0.010*\"make\" + 0.010*\"think\" + 0.009*\"many\" + 0.009*\"mean\"'), (8, '0.032*\"book\" + 0.023*\"physical\" + 0.021*\"science\" + 0.017*\"choose\" + 0.016*\"explain\" + 0.015*\"create\" + 0.011*\"author\" + 0.011*\"earth\" + 0.010*\"study\" + 0.010*\"nature\"'), (9, '0.033*\"mail\" + 0.028*\"file\" + 0.027*\"send\" + 0.026*\"program\" + 0.025*\"thank\" + 0.024*\"information\" + 0.021*\"software\" + 0.021*\"list\" + 0.019*\"include\" + 0.019*\"address\"'), (10, '0.073*\"group\" + 0.030*\"week\" + 0.021*\"young\" + 0.017*\"drug\" + 0.015*\"watch\" + 0.013*\"nntp_posting\" + 0.013*\"age\" + 0.013*\"route\" + 0.011*\"kid\" + 0.010*\"capable\"'), (11, '0.073*\"car\" + 0.023*\"existence\" + 0.022*\"model\" + 0.020*\"engine\" + 0.016*\"pain\" + 0.012*\"keyboard\" + 0.012*\"mile\" + 0.011*\"should\" + 0.011*\"price\" + 0.011*\"insurance\"'), (12, '0.070*\"drive\" + 0.025*\"power\" + 0.024*\"player\" + 0.017*\"speed\" + 0.017*\"light\" + 0.014*\"high\" + 0.013*\"bus\" + 0.012*\"university\" + 0.012*\"fast\" + 0.012*\"scsi\"'), (13, '0.040*\"line\" + 0.039*\"would\" + 0.035*\"write\" + 0.024*\"article\" + 0.021*\"be\" + 0.020*\"get\" + 0.020*\"know\" + 0.020*\"go\" + 0.014*\"good\" + 0.014*\"think\"'), (14, '0.027*\"patient\" + 0.017*\"family\" + 0.014*\"food\" + 0.013*\"treatment\" + 0.012*\"disease\" + 0.012*\"doctor\" + 0.011*\"cd\" + 0.011*\"diagnosis\" + 0.011*\"risk\" + 0.010*\"cause\"'), (15, '0.029*\"wire\" + 0.021*\"ground\" + 0.021*\"eat\" + 0.019*\"material\" + 0.018*\"seller\" + 0.018*\"controller\" + 0.016*\"signal\" + 0.016*\"trust\" + 0.015*\"lead\" + 0.015*\"expensive\"'), (16, '0.042*\"gun\" + 0.025*\"right\" + 0.016*\"carry\" + 0.016*\"law\" + 0.014*\"state\" + 0.014*\"crime\" + 0.014*\"weapon\" + 0.014*\"shoot\" + 0.013*\"steal\" + 0.013*\"protect\"'), (17, '0.028*\"use\" + 0.025*\"system\" + 0.016*\"also\" + 0.014*\"may\" + 0.014*\"number\" + 0.012*\"new\" + 0.009*\"work\" + 0.009*\"support\" + 0.008*\"bit\" + 0.008*\"need\"'), (18, '0.043*\"team\" + 0.039*\"game\" + 0.036*\"year\" + 0.030*\"play\" + 0.024*\"win\" + 0.017*\"lose\" + 0.013*\"hit\" + 0.013*\"fan\" + 0.012*\"last\" + 0.012*\"hockey\"'), (19, '0.055*\"key\" + 0.030*\"public\" + 0.021*\"government\" + 0.017*\"internet\" + 0.015*\"encryption\" + 0.015*\"technology\" + 0.015*\"chip\" + 0.014*\"security\" + 0.014*\"instal\" + 0.013*\"private\"')]\n"
          ],
          "name": "stdout"
        }
      ]
    },
    {
      "cell_type": "code",
      "metadata": {
        "id": "icT7lXGbtXWi",
        "colab": {
          "base_uri": "https://localhost:8080/"
        },
        "outputId": "5f3b5ee6-8fb9-48f9-c317-a29bcfab741b"
      },
      "source": [
        "lda_model.print_topics()"
      ],
      "execution_count": null,
      "outputs": [
        {
          "output_type": "execute_result",
          "data": {
            "text/plain": [
              "[(0,\n",
              "  '0.051*\"report\" + 0.027*\"black\" + 0.021*\"fire\" + 0.020*\"white\" + 0.016*\"trial\" + 0.016*\"cover\" + 0.015*\"medium\" + 0.013*\"vote\" + 0.012*\"minor\" + 0.012*\"title\"'),\n",
              " (1,\n",
              "  '0.021*\"god\" + 0.020*\"accept\" + 0.016*\"member\" + 0.015*\"man\" + 0.014*\"israeli\" + 0.014*\"season\" + 0.012*\"publish\" + 0.012*\"lebanese\" + 0.012*\"jewish\" + 0.011*\"brain\"'),\n",
              " (2,\n",
              "  '0.017*\"package\" + 0.016*\"press\" + 0.015*\"item\" + 0.015*\"break\" + 0.011*\"level\" + 0.010*\"edge\" + 0.009*\"hole\" + 0.007*\"eye\" + 0.007*\"contribute\" + 0.007*\"equipment\"'),\n",
              " (3,\n",
              "  '0.025*\"pc\" + 0.022*\"contain\" + 0.020*\"input\" + 0.019*\"reality\" + 0.017*\"picture\" + 0.016*\"object\" + 0.015*\"box\" + 0.015*\"quality\" + 0.015*\"level\" + 0.013*\"greek\"'),\n",
              " (4,\n",
              "  '0.089*\"ax\" + 0.076*\"max\" + 0.032*\"space\" + 0.021*\"launch\" + 0.018*\"di_di\" + 0.017*\"orbit\" + 0.016*\"sphere\" + 0.015*\"satellite\" + 0.014*\"plane\" + 0.014*\"mission\"'),\n",
              " (5,\n",
              "  '0.019*\"people\" + 0.017*\"kill\" + 0.015*\"child\" + 0.015*\"government\" + 0.012*\"attack\" + 0.012*\"year\" + 0.012*\"die\" + 0.011*\"country\" + 0.010*\"say\" + 0.009*\"war\"'),\n",
              " (6,\n",
              "  '0.035*\"window\" + 0.032*\"card\" + 0.020*\"image\" + 0.020*\"driver\" + 0.020*\"problem\" + 0.019*\"run\" + 0.018*\"sale\" + 0.018*\"machine\" + 0.017*\"color\" + 0.016*\"screen\"'),\n",
              " (7,\n",
              "  '0.025*\"people\" + 0.021*\"say\" + 0.014*\"reason\" + 0.014*\"believe\" + 0.012*\"may\" + 0.012*\"evidence\" + 0.010*\"make\" + 0.010*\"think\" + 0.009*\"many\" + 0.009*\"mean\"'),\n",
              " (8,\n",
              "  '0.032*\"book\" + 0.023*\"physical\" + 0.021*\"science\" + 0.017*\"choose\" + 0.016*\"explain\" + 0.015*\"create\" + 0.011*\"author\" + 0.011*\"earth\" + 0.010*\"study\" + 0.010*\"nature\"'),\n",
              " (9,\n",
              "  '0.033*\"mail\" + 0.028*\"file\" + 0.027*\"send\" + 0.026*\"program\" + 0.025*\"thank\" + 0.024*\"information\" + 0.021*\"software\" + 0.021*\"list\" + 0.019*\"include\" + 0.019*\"address\"'),\n",
              " (10,\n",
              "  '0.073*\"group\" + 0.030*\"week\" + 0.021*\"young\" + 0.017*\"drug\" + 0.015*\"watch\" + 0.013*\"nntp_posting\" + 0.013*\"age\" + 0.013*\"route\" + 0.011*\"kid\" + 0.010*\"capable\"'),\n",
              " (11,\n",
              "  '0.073*\"car\" + 0.023*\"existence\" + 0.022*\"model\" + 0.020*\"engine\" + 0.016*\"pain\" + 0.012*\"keyboard\" + 0.012*\"mile\" + 0.011*\"should\" + 0.011*\"price\" + 0.011*\"insurance\"'),\n",
              " (12,\n",
              "  '0.070*\"drive\" + 0.025*\"power\" + 0.024*\"player\" + 0.017*\"speed\" + 0.017*\"light\" + 0.014*\"high\" + 0.013*\"bus\" + 0.012*\"university\" + 0.012*\"fast\" + 0.012*\"scsi\"'),\n",
              " (13,\n",
              "  '0.040*\"line\" + 0.039*\"would\" + 0.035*\"write\" + 0.024*\"article\" + 0.021*\"be\" + 0.020*\"get\" + 0.020*\"know\" + 0.020*\"go\" + 0.014*\"good\" + 0.014*\"think\"'),\n",
              " (14,\n",
              "  '0.027*\"patient\" + 0.017*\"family\" + 0.014*\"food\" + 0.013*\"treatment\" + 0.012*\"disease\" + 0.012*\"doctor\" + 0.011*\"cd\" + 0.011*\"diagnosis\" + 0.011*\"risk\" + 0.010*\"cause\"'),\n",
              " (15,\n",
              "  '0.029*\"wire\" + 0.021*\"ground\" + 0.021*\"eat\" + 0.019*\"material\" + 0.018*\"seller\" + 0.018*\"controller\" + 0.016*\"signal\" + 0.016*\"trust\" + 0.015*\"lead\" + 0.015*\"expensive\"'),\n",
              " (16,\n",
              "  '0.042*\"gun\" + 0.025*\"right\" + 0.016*\"carry\" + 0.016*\"law\" + 0.014*\"state\" + 0.014*\"crime\" + 0.014*\"weapon\" + 0.014*\"shoot\" + 0.013*\"steal\" + 0.013*\"protect\"'),\n",
              " (17,\n",
              "  '0.028*\"use\" + 0.025*\"system\" + 0.016*\"also\" + 0.014*\"may\" + 0.014*\"number\" + 0.012*\"new\" + 0.009*\"work\" + 0.009*\"support\" + 0.008*\"bit\" + 0.008*\"need\"'),\n",
              " (18,\n",
              "  '0.043*\"team\" + 0.039*\"game\" + 0.036*\"year\" + 0.030*\"play\" + 0.024*\"win\" + 0.017*\"lose\" + 0.013*\"hit\" + 0.013*\"fan\" + 0.012*\"last\" + 0.012*\"hockey\"'),\n",
              " (19,\n",
              "  '0.055*\"key\" + 0.030*\"public\" + 0.021*\"government\" + 0.017*\"internet\" + 0.015*\"encryption\" + 0.015*\"technology\" + 0.015*\"chip\" + 0.014*\"security\" + 0.014*\"instal\" + 0.013*\"private\"')]"
            ]
          },
          "metadata": {
            "tags": []
          },
          "execution_count": 17
        }
      ]
    },
    {
      "cell_type": "markdown",
      "metadata": {
        "id": "Vod5_bTmZ5u_"
      },
      "source": [
        "# Compute Model Coherence Score"
      ]
    },
    {
      "cell_type": "code",
      "metadata": {
        "id": "LA15iJG2Z5vB",
        "colab": {
          "base_uri": "https://localhost:8080/",
          "height": 354
        },
        "outputId": "a9c60ef3-ec98-4875-e9f1-39e056dc466d"
      },
      "source": [
        "# Compute Coherence Score\n",
        "coherence_model_lda = CoherenceModel(model=lda_model, texts=data_lemmatized, dictionary=dictionary, coherence='c_v')\n",
        "coherence_lda = coherence_model_lda.get_coherence()\n",
        "print('\\nCoherence Score: ', coherence_lda)"
      ],
      "execution_count": null,
      "outputs": [
        {
          "output_type": "error",
          "ename": "KeyboardInterrupt",
          "evalue": "ignored",
          "traceback": [
            "\u001b[0;31m---------------------------------------------------------------------------\u001b[0m",
            "\u001b[0;31mKeyboardInterrupt\u001b[0m                         Traceback (most recent call last)",
            "\u001b[0;32m<ipython-input-18-f8b987481c4e>\u001b[0m in \u001b[0;36m<module>\u001b[0;34m()\u001b[0m\n\u001b[1;32m      1\u001b[0m \u001b[0;31m# Compute Coherence Score\u001b[0m\u001b[0;34m\u001b[0m\u001b[0;34m\u001b[0m\u001b[0;34m\u001b[0m\u001b[0m\n\u001b[1;32m      2\u001b[0m \u001b[0mcoherence_model_lda\u001b[0m \u001b[0;34m=\u001b[0m \u001b[0mCoherenceModel\u001b[0m\u001b[0;34m(\u001b[0m\u001b[0mmodel\u001b[0m\u001b[0;34m=\u001b[0m\u001b[0mlda_model\u001b[0m\u001b[0;34m,\u001b[0m \u001b[0mtexts\u001b[0m\u001b[0;34m=\u001b[0m\u001b[0mdata_lemmatized\u001b[0m\u001b[0;34m,\u001b[0m \u001b[0mdictionary\u001b[0m\u001b[0;34m=\u001b[0m\u001b[0mdictionary\u001b[0m\u001b[0;34m,\u001b[0m \u001b[0mcoherence\u001b[0m\u001b[0;34m=\u001b[0m\u001b[0;34m'c_v'\u001b[0m\u001b[0;34m)\u001b[0m\u001b[0;34m\u001b[0m\u001b[0;34m\u001b[0m\u001b[0m\n\u001b[0;32m----> 3\u001b[0;31m \u001b[0mcoherence_lda\u001b[0m \u001b[0;34m=\u001b[0m \u001b[0mcoherence_model_lda\u001b[0m\u001b[0;34m.\u001b[0m\u001b[0mget_coherence\u001b[0m\u001b[0;34m(\u001b[0m\u001b[0;34m)\u001b[0m\u001b[0;34m\u001b[0m\u001b[0;34m\u001b[0m\u001b[0m\n\u001b[0m\u001b[1;32m      4\u001b[0m \u001b[0mprint\u001b[0m\u001b[0;34m(\u001b[0m\u001b[0;34m'\\nCoherence Score: '\u001b[0m\u001b[0;34m,\u001b[0m \u001b[0mcoherence_lda\u001b[0m\u001b[0;34m)\u001b[0m\u001b[0;34m\u001b[0m\u001b[0;34m\u001b[0m\u001b[0m\n",
            "\u001b[0;32m/usr/local/lib/python3.7/dist-packages/gensim/models/coherencemodel.py\u001b[0m in \u001b[0;36mget_coherence\u001b[0;34m(self)\u001b[0m\n\u001b[1;32m    601\u001b[0m \u001b[0;34m\u001b[0m\u001b[0m\n\u001b[1;32m    602\u001b[0m         \"\"\"\n\u001b[0;32m--> 603\u001b[0;31m         \u001b[0mconfirmed_measures\u001b[0m \u001b[0;34m=\u001b[0m \u001b[0mself\u001b[0m\u001b[0;34m.\u001b[0m\u001b[0mget_coherence_per_topic\u001b[0m\u001b[0;34m(\u001b[0m\u001b[0;34m)\u001b[0m\u001b[0;34m\u001b[0m\u001b[0;34m\u001b[0m\u001b[0m\n\u001b[0m\u001b[1;32m    604\u001b[0m         \u001b[0;32mreturn\u001b[0m \u001b[0mself\u001b[0m\u001b[0;34m.\u001b[0m\u001b[0maggregate_measures\u001b[0m\u001b[0;34m(\u001b[0m\u001b[0mconfirmed_measures\u001b[0m\u001b[0;34m)\u001b[0m\u001b[0;34m\u001b[0m\u001b[0;34m\u001b[0m\u001b[0m\n\u001b[1;32m    605\u001b[0m \u001b[0;34m\u001b[0m\u001b[0m\n",
            "\u001b[0;32m/usr/local/lib/python3.7/dist-packages/gensim/models/coherencemodel.py\u001b[0m in \u001b[0;36mget_coherence_per_topic\u001b[0;34m(self, segmented_topics, with_std, with_support)\u001b[0m\n\u001b[1;32m    561\u001b[0m             \u001b[0msegmented_topics\u001b[0m \u001b[0;34m=\u001b[0m \u001b[0mmeasure\u001b[0m\u001b[0;34m.\u001b[0m\u001b[0mseg\u001b[0m\u001b[0;34m(\u001b[0m\u001b[0mself\u001b[0m\u001b[0;34m.\u001b[0m\u001b[0mtopics\u001b[0m\u001b[0;34m)\u001b[0m\u001b[0;34m\u001b[0m\u001b[0;34m\u001b[0m\u001b[0m\n\u001b[1;32m    562\u001b[0m         \u001b[0;32mif\u001b[0m \u001b[0mself\u001b[0m\u001b[0;34m.\u001b[0m\u001b[0m_accumulator\u001b[0m \u001b[0;32mis\u001b[0m \u001b[0;32mNone\u001b[0m\u001b[0;34m:\u001b[0m\u001b[0;34m\u001b[0m\u001b[0;34m\u001b[0m\u001b[0m\n\u001b[0;32m--> 563\u001b[0;31m             \u001b[0mself\u001b[0m\u001b[0;34m.\u001b[0m\u001b[0mestimate_probabilities\u001b[0m\u001b[0;34m(\u001b[0m\u001b[0msegmented_topics\u001b[0m\u001b[0;34m)\u001b[0m\u001b[0;34m\u001b[0m\u001b[0;34m\u001b[0m\u001b[0m\n\u001b[0m\u001b[1;32m    564\u001b[0m \u001b[0;34m\u001b[0m\u001b[0m\n\u001b[1;32m    565\u001b[0m         \u001b[0mkwargs\u001b[0m \u001b[0;34m=\u001b[0m \u001b[0mdict\u001b[0m\u001b[0;34m(\u001b[0m\u001b[0mwith_std\u001b[0m\u001b[0;34m=\u001b[0m\u001b[0mwith_std\u001b[0m\u001b[0;34m,\u001b[0m \u001b[0mwith_support\u001b[0m\u001b[0;34m=\u001b[0m\u001b[0mwith_support\u001b[0m\u001b[0;34m)\u001b[0m\u001b[0;34m\u001b[0m\u001b[0;34m\u001b[0m\u001b[0m\n",
            "\u001b[0;32m/usr/local/lib/python3.7/dist-packages/gensim/models/coherencemodel.py\u001b[0m in \u001b[0;36mestimate_probabilities\u001b[0;34m(self, segmented_topics)\u001b[0m\n\u001b[1;32m    533\u001b[0m                 \u001b[0mkwargs\u001b[0m\u001b[0;34m[\u001b[0m\u001b[0;34m'model'\u001b[0m\u001b[0;34m]\u001b[0m \u001b[0;34m=\u001b[0m \u001b[0mself\u001b[0m\u001b[0;34m.\u001b[0m\u001b[0mkeyed_vectors\u001b[0m\u001b[0;34m\u001b[0m\u001b[0;34m\u001b[0m\u001b[0m\n\u001b[1;32m    534\u001b[0m \u001b[0;34m\u001b[0m\u001b[0m\n\u001b[0;32m--> 535\u001b[0;31m             \u001b[0mself\u001b[0m\u001b[0;34m.\u001b[0m\u001b[0m_accumulator\u001b[0m \u001b[0;34m=\u001b[0m \u001b[0mself\u001b[0m\u001b[0;34m.\u001b[0m\u001b[0mmeasure\u001b[0m\u001b[0;34m.\u001b[0m\u001b[0mprob\u001b[0m\u001b[0;34m(\u001b[0m\u001b[0;34m**\u001b[0m\u001b[0mkwargs\u001b[0m\u001b[0;34m)\u001b[0m\u001b[0;34m\u001b[0m\u001b[0;34m\u001b[0m\u001b[0m\n\u001b[0m\u001b[1;32m    536\u001b[0m \u001b[0;34m\u001b[0m\u001b[0m\n\u001b[1;32m    537\u001b[0m         \u001b[0;32mreturn\u001b[0m \u001b[0mself\u001b[0m\u001b[0;34m.\u001b[0m\u001b[0m_accumulator\u001b[0m\u001b[0;34m\u001b[0m\u001b[0;34m\u001b[0m\u001b[0m\n",
            "\u001b[0;32m/usr/local/lib/python3.7/dist-packages/gensim/topic_coherence/probability_estimation.py\u001b[0m in \u001b[0;36mp_boolean_sliding_window\u001b[0;34m(texts, segmented_topics, dictionary, window_size, processes)\u001b[0m\n\u001b[1;32m    138\u001b[0m         \u001b[0maccumulator\u001b[0m \u001b[0;34m=\u001b[0m \u001b[0mParallelWordOccurrenceAccumulator\u001b[0m\u001b[0;34m(\u001b[0m\u001b[0mprocesses\u001b[0m\u001b[0;34m,\u001b[0m \u001b[0mtop_ids\u001b[0m\u001b[0;34m,\u001b[0m \u001b[0mdictionary\u001b[0m\u001b[0;34m)\u001b[0m\u001b[0;34m\u001b[0m\u001b[0;34m\u001b[0m\u001b[0m\n\u001b[1;32m    139\u001b[0m     \u001b[0mlogger\u001b[0m\u001b[0;34m.\u001b[0m\u001b[0minfo\u001b[0m\u001b[0;34m(\u001b[0m\u001b[0;34m\"using %s to estimate probabilities from sliding windows\"\u001b[0m\u001b[0;34m,\u001b[0m \u001b[0maccumulator\u001b[0m\u001b[0;34m)\u001b[0m\u001b[0;34m\u001b[0m\u001b[0;34m\u001b[0m\u001b[0m\n\u001b[0;32m--> 140\u001b[0;31m     \u001b[0;32mreturn\u001b[0m \u001b[0maccumulator\u001b[0m\u001b[0;34m.\u001b[0m\u001b[0maccumulate\u001b[0m\u001b[0;34m(\u001b[0m\u001b[0mtexts\u001b[0m\u001b[0;34m,\u001b[0m \u001b[0mwindow_size\u001b[0m\u001b[0;34m)\u001b[0m\u001b[0;34m\u001b[0m\u001b[0;34m\u001b[0m\u001b[0m\n\u001b[0m\u001b[1;32m    141\u001b[0m \u001b[0;34m\u001b[0m\u001b[0m\n\u001b[1;32m    142\u001b[0m \u001b[0;34m\u001b[0m\u001b[0m\n",
            "\u001b[0;32m/usr/local/lib/python3.7/dist-packages/gensim/topic_coherence/text_analysis.py\u001b[0m in \u001b[0;36maccumulate\u001b[0;34m(self, texts, window_size)\u001b[0m\n\u001b[1;32m    333\u001b[0m     \u001b[0;32mdef\u001b[0m \u001b[0maccumulate\u001b[0m\u001b[0;34m(\u001b[0m\u001b[0mself\u001b[0m\u001b[0;34m,\u001b[0m \u001b[0mtexts\u001b[0m\u001b[0;34m,\u001b[0m \u001b[0mwindow_size\u001b[0m\u001b[0;34m)\u001b[0m\u001b[0;34m:\u001b[0m\u001b[0;34m\u001b[0m\u001b[0;34m\u001b[0m\u001b[0m\n\u001b[1;32m    334\u001b[0m         \u001b[0mself\u001b[0m\u001b[0;34m.\u001b[0m\u001b[0m_co_occurrences\u001b[0m \u001b[0;34m=\u001b[0m \u001b[0mself\u001b[0m\u001b[0;34m.\u001b[0m\u001b[0m_co_occurrences\u001b[0m\u001b[0;34m.\u001b[0m\u001b[0mtolil\u001b[0m\u001b[0;34m(\u001b[0m\u001b[0;34m)\u001b[0m\u001b[0;34m\u001b[0m\u001b[0;34m\u001b[0m\u001b[0m\n\u001b[0;32m--> 335\u001b[0;31m         \u001b[0mself\u001b[0m\u001b[0;34m.\u001b[0m\u001b[0mpartial_accumulate\u001b[0m\u001b[0;34m(\u001b[0m\u001b[0mtexts\u001b[0m\u001b[0;34m,\u001b[0m \u001b[0mwindow_size\u001b[0m\u001b[0;34m)\u001b[0m\u001b[0;34m\u001b[0m\u001b[0;34m\u001b[0m\u001b[0m\n\u001b[0m\u001b[1;32m    336\u001b[0m         \u001b[0mself\u001b[0m\u001b[0;34m.\u001b[0m\u001b[0m_symmetrize\u001b[0m\u001b[0;34m(\u001b[0m\u001b[0;34m)\u001b[0m\u001b[0;34m\u001b[0m\u001b[0;34m\u001b[0m\u001b[0m\n\u001b[1;32m    337\u001b[0m         \u001b[0;32mreturn\u001b[0m \u001b[0mself\u001b[0m\u001b[0;34m\u001b[0m\u001b[0;34m\u001b[0m\u001b[0m\n",
            "\u001b[0;32m/usr/local/lib/python3.7/dist-packages/gensim/topic_coherence/text_analysis.py\u001b[0m in \u001b[0;36mpartial_accumulate\u001b[0;34m(self, texts, window_size)\u001b[0m\n\u001b[1;32m    351\u001b[0m         \u001b[0mself\u001b[0m\u001b[0;34m.\u001b[0m\u001b[0m_counter\u001b[0m\u001b[0;34m.\u001b[0m\u001b[0mclear\u001b[0m\u001b[0;34m(\u001b[0m\u001b[0;34m)\u001b[0m\u001b[0;34m\u001b[0m\u001b[0;34m\u001b[0m\u001b[0m\n\u001b[1;32m    352\u001b[0m \u001b[0;34m\u001b[0m\u001b[0m\n\u001b[0;32m--> 353\u001b[0;31m         \u001b[0msuper\u001b[0m\u001b[0;34m(\u001b[0m\u001b[0mWordOccurrenceAccumulator\u001b[0m\u001b[0;34m,\u001b[0m \u001b[0mself\u001b[0m\u001b[0;34m)\u001b[0m\u001b[0;34m.\u001b[0m\u001b[0maccumulate\u001b[0m\u001b[0;34m(\u001b[0m\u001b[0mtexts\u001b[0m\u001b[0;34m,\u001b[0m \u001b[0mwindow_size\u001b[0m\u001b[0;34m)\u001b[0m\u001b[0;34m\u001b[0m\u001b[0;34m\u001b[0m\u001b[0m\n\u001b[0m\u001b[1;32m    354\u001b[0m         \u001b[0;32mfor\u001b[0m \u001b[0mcombo\u001b[0m\u001b[0;34m,\u001b[0m \u001b[0mcount\u001b[0m \u001b[0;32min\u001b[0m \u001b[0miteritems\u001b[0m\u001b[0;34m(\u001b[0m\u001b[0mself\u001b[0m\u001b[0;34m.\u001b[0m\u001b[0m_counter\u001b[0m\u001b[0;34m)\u001b[0m\u001b[0;34m:\u001b[0m\u001b[0;34m\u001b[0m\u001b[0;34m\u001b[0m\u001b[0m\n\u001b[1;32m    355\u001b[0m             \u001b[0mself\u001b[0m\u001b[0;34m.\u001b[0m\u001b[0m_co_occurrences\u001b[0m\u001b[0;34m[\u001b[0m\u001b[0mcombo\u001b[0m\u001b[0;34m]\u001b[0m \u001b[0;34m+=\u001b[0m \u001b[0mcount\u001b[0m\u001b[0;34m\u001b[0m\u001b[0;34m\u001b[0m\u001b[0m\n",
            "\u001b[0;32m/usr/local/lib/python3.7/dist-packages/gensim/topic_coherence/text_analysis.py\u001b[0m in \u001b[0;36maccumulate\u001b[0;34m(self, texts, window_size)\u001b[0m\n\u001b[1;32m    287\u001b[0m \u001b[0;34m\u001b[0m\u001b[0m\n\u001b[1;32m    288\u001b[0m         \u001b[0;32mfor\u001b[0m \u001b[0mdoc_num\u001b[0m\u001b[0;34m,\u001b[0m \u001b[0mvirtual_document\u001b[0m \u001b[0;32min\u001b[0m \u001b[0mwindows\u001b[0m\u001b[0;34m:\u001b[0m\u001b[0;34m\u001b[0m\u001b[0;34m\u001b[0m\u001b[0m\n\u001b[0;32m--> 289\u001b[0;31m             \u001b[0mself\u001b[0m\u001b[0;34m.\u001b[0m\u001b[0manalyze_text\u001b[0m\u001b[0;34m(\u001b[0m\u001b[0mvirtual_document\u001b[0m\u001b[0;34m,\u001b[0m \u001b[0mdoc_num\u001b[0m\u001b[0;34m)\u001b[0m\u001b[0;34m\u001b[0m\u001b[0;34m\u001b[0m\u001b[0m\n\u001b[0m\u001b[1;32m    290\u001b[0m             \u001b[0mself\u001b[0m\u001b[0;34m.\u001b[0m\u001b[0mnum_docs\u001b[0m \u001b[0;34m+=\u001b[0m \u001b[0;36m1\u001b[0m\u001b[0;34m\u001b[0m\u001b[0;34m\u001b[0m\u001b[0m\n\u001b[1;32m    291\u001b[0m         \u001b[0;32mreturn\u001b[0m \u001b[0mself\u001b[0m\u001b[0;34m\u001b[0m\u001b[0;34m\u001b[0m\u001b[0m\n",
            "\u001b[0;32m/usr/local/lib/python3.7/dist-packages/gensim/topic_coherence/text_analysis.py\u001b[0m in \u001b[0;36manalyze_text\u001b[0;34m(self, window, doc_num)\u001b[0m\n\u001b[1;32m    362\u001b[0m         \u001b[0;32mif\u001b[0m \u001b[0mmask\u001b[0m\u001b[0;34m.\u001b[0m\u001b[0many\u001b[0m\u001b[0;34m(\u001b[0m\u001b[0;34m)\u001b[0m\u001b[0;34m:\u001b[0m\u001b[0;34m\u001b[0m\u001b[0;34m\u001b[0m\u001b[0m\n\u001b[1;32m    363\u001b[0m             \u001b[0mself\u001b[0m\u001b[0;34m.\u001b[0m\u001b[0m_occurrences\u001b[0m\u001b[0;34m[\u001b[0m\u001b[0mmask\u001b[0m\u001b[0;34m]\u001b[0m \u001b[0;34m+=\u001b[0m \u001b[0;36m1\u001b[0m\u001b[0;34m\u001b[0m\u001b[0;34m\u001b[0m\u001b[0m\n\u001b[0;32m--> 364\u001b[0;31m             \u001b[0mself\u001b[0m\u001b[0;34m.\u001b[0m\u001b[0m_counter\u001b[0m\u001b[0;34m.\u001b[0m\u001b[0mupdate\u001b[0m\u001b[0;34m(\u001b[0m\u001b[0mitertools\u001b[0m\u001b[0;34m.\u001b[0m\u001b[0mcombinations\u001b[0m\u001b[0;34m(\u001b[0m\u001b[0mnp\u001b[0m\u001b[0;34m.\u001b[0m\u001b[0mnonzero\u001b[0m\u001b[0;34m(\u001b[0m\u001b[0mmask\u001b[0m\u001b[0;34m)\u001b[0m\u001b[0;34m[\u001b[0m\u001b[0;36m0\u001b[0m\u001b[0;34m]\u001b[0m\u001b[0;34m,\u001b[0m \u001b[0;36m2\u001b[0m\u001b[0;34m)\u001b[0m\u001b[0;34m)\u001b[0m\u001b[0;34m\u001b[0m\u001b[0;34m\u001b[0m\u001b[0m\n\u001b[0m\u001b[1;32m    365\u001b[0m \u001b[0;34m\u001b[0m\u001b[0m\n\u001b[1;32m    366\u001b[0m     \u001b[0;32mdef\u001b[0m \u001b[0m_slide_window\u001b[0m\u001b[0;34m(\u001b[0m\u001b[0mself\u001b[0m\u001b[0;34m,\u001b[0m \u001b[0mwindow\u001b[0m\u001b[0;34m,\u001b[0m \u001b[0mdoc_num\u001b[0m\u001b[0;34m)\u001b[0m\u001b[0;34m:\u001b[0m\u001b[0;34m\u001b[0m\u001b[0;34m\u001b[0m\u001b[0m\n",
            "\u001b[0;32m/usr/lib/python3.7/collections/__init__.py\u001b[0m in \u001b[0;36mupdate\u001b[0;34m(*args, **kwds)\u001b[0m\n\u001b[1;32m    653\u001b[0m                     \u001b[0msuper\u001b[0m\u001b[0;34m(\u001b[0m\u001b[0mCounter\u001b[0m\u001b[0;34m,\u001b[0m \u001b[0mself\u001b[0m\u001b[0;34m)\u001b[0m\u001b[0;34m.\u001b[0m\u001b[0mupdate\u001b[0m\u001b[0;34m(\u001b[0m\u001b[0miterable\u001b[0m\u001b[0;34m)\u001b[0m \u001b[0;31m# fast path when counter is empty\u001b[0m\u001b[0;34m\u001b[0m\u001b[0;34m\u001b[0m\u001b[0m\n\u001b[1;32m    654\u001b[0m             \u001b[0;32melse\u001b[0m\u001b[0;34m:\u001b[0m\u001b[0;34m\u001b[0m\u001b[0;34m\u001b[0m\u001b[0m\n\u001b[0;32m--> 655\u001b[0;31m                 \u001b[0m_count_elements\u001b[0m\u001b[0;34m(\u001b[0m\u001b[0mself\u001b[0m\u001b[0;34m,\u001b[0m \u001b[0miterable\u001b[0m\u001b[0;34m)\u001b[0m\u001b[0;34m\u001b[0m\u001b[0;34m\u001b[0m\u001b[0m\n\u001b[0m\u001b[1;32m    656\u001b[0m         \u001b[0;32mif\u001b[0m \u001b[0mkwds\u001b[0m\u001b[0;34m:\u001b[0m\u001b[0;34m\u001b[0m\u001b[0;34m\u001b[0m\u001b[0m\n\u001b[1;32m    657\u001b[0m             \u001b[0mself\u001b[0m\u001b[0;34m.\u001b[0m\u001b[0mupdate\u001b[0m\u001b[0;34m(\u001b[0m\u001b[0mkwds\u001b[0m\u001b[0;34m)\u001b[0m\u001b[0;34m\u001b[0m\u001b[0;34m\u001b[0m\u001b[0m\n",
            "\u001b[0;31mKeyboardInterrupt\u001b[0m: "
          ]
        }
      ]
    },
    {
      "cell_type": "markdown",
      "metadata": {
        "id": "Rz4HQG8QZ5vG"
      },
      "source": [
        "# Visualize the topics-keywords"
      ]
    },
    {
      "cell_type": "code",
      "metadata": {
        "id": "ECiu3xU8Z5vI",
        "colab": {
          "base_uri": "https://localhost:8080/",
          "height": 861
        },
        "outputId": "07d41ab7-2793-453b-d2cc-8806c58f650e"
      },
      "source": [
        "# Visualize the topics\n",
        "pyLDAvis.enable_notebook()\n",
        "vis = pyLDAvis.gensim.prepare(lda_model, corpus, dictionary)\n",
        "vis"
      ],
      "execution_count": null,
      "outputs": [
        {
          "output_type": "execute_result",
          "data": {
            "text/html": [
              "\n",
              "<link rel=\"stylesheet\" type=\"text/css\" href=\"https://cdn.jsdelivr.net/gh/bmabey/pyLDAvis@3.2.2/pyLDAvis/js/ldavis.v1.0.0.css\">\n",
              "\n",
              "\n",
              "<div id=\"ldavis_el3921406358283121441951867587\"></div>\n",
              "<script type=\"text/javascript\">\n",
              "\n",
              "var ldavis_el3921406358283121441951867587_data = {\"mdsDat\": {\"x\": [-0.33878543425908664, -0.31056175232736477, -0.22959778388834298, -0.14125984733096358, -0.05010633811497949, -0.022230567144243436, 0.021338469898648404, 0.040230845660655525, -0.05145952647212329, 0.023331789076162308, 0.06357098502314557, 0.11413326524415522, 0.05558436522552658, 0.11106836448628747, 0.1266217991204838, 0.09581615164269361, 0.1316337408722182, 0.10880186084068634, 0.12149747862191544, 0.1303721338245255], \"y\": [0.015727102971581863, -0.10206924632018634, 0.07668140052496882, -0.19219294595675906, 0.25360851635273535, 0.28601266432709327, -0.011829414349175189, -0.0011510897553675028, -0.014492203538202231, -0.12941521062641084, 0.06502117156245306, -0.004401838604390184, -0.14084076980373778, -0.040919143445509114, 0.021170896971748034, -0.07609157652872676, 0.01718378266201143, 0.029883771599549774, -0.03691661082529252, -0.014969257218384805], \"topics\": [1, 2, 3, 4, 5, 6, 7, 8, 9, 10, 11, 12, 13, 14, 15, 16, 17, 18, 19, 20], \"cluster\": [1, 1, 1, 1, 1, 1, 1, 1, 1, 1, 1, 1, 1, 1, 1, 1, 1, 1, 1, 1], \"Freq\": [24.175810097112112, 15.735832570355173, 12.43868820976976, 5.439876530586405, 4.779470925331111, 3.8712655261113325, 3.288373835962968, 3.2481700037061203, 3.240233333969221, 3.1603691441491457, 2.9057427087985506, 2.65983111035733, 2.353147698656993, 2.167395468966628, 2.005307543333735, 1.8964117084408583, 1.7521766611313772, 1.7431396052066248, 1.6335136676918702, 1.5052436503626598]}, \"tinfo\": {\"Term\": [\"line\", \"write\", \"would\", \"people\", \"article\", \"drive\", \"be\", \"use\", \"year\", \"system\", \"ax\", \"key\", \"get\", \"group\", \"say\", \"go\", \"know\", \"max\", \"car\", \"problem\", \"right\", \"good\", \"team\", \"thank\", \"mail\", \"think\", \"window\", \"game\", \"file\", \"program\", \"be\", \"have\", \"lot\", \"will\", \"nntp_poste\", \"maybe\", \"like\", \"test\", \"ill\", \"distribution_usa\", \"pretty\", \"bike\", \"guess\", \"wonder\", \"pin\", \"nice\", \"sorry\", \"there\", \"worth\", \"anyway\", \"wait\", \"internal\", \"advice\", \"drop\", \"motif\", \"pull\", \"disclaimer\", \"personally\", \"laugh\", \"folk\", \"article\", \"get\", \"organization\", \"s\", \"hear\", \"money\", \"write\", \"want\", \"turn\", \"go\", \"line\", \"friend\", \"host\", \"look\", \"back\", \"sure\", \"would\", \"really\", \"much\", \"put\", \"know\", \"could\", \"good\", \"little\", \"try\", \"probably\", \"time\", \"bad\", \"take\", \"think\", \"see\", \"well\", \"make\", \"thing\", \"come\", \"still\", \"way\", \"say\", \"need\", \"reason\", \"believe\", \"claim\", \"sense\", \"faith\", \"agree\", \"rule\", \"religion\", \"argument\", \"prove\", \"matter\", \"understand\", \"mind\", \"truth\", \"atheist\", \"belief\", \"certainly\", \"church\", \"conclusion\", \"statement\", \"christian\", \"religious\", \"slave\", \"indeed\", \"sin\", \"logic\", \"therefore\", \"judge\", \"clearly\", \"argue\", \"evidence\", \"true\", \"person\", \"fact\", \"certain\", \"clear\", \"word\", \"people\", \"life\", \"exist\", \"mean\", \"talk\", \"say\", \"world\", \"view\", \"many\", \"point\", \"may\", \"must\", \"become\", \"even\", \"think\", \"make\", \"question\", \"law\", \"see\", \"would\", \"thing\", \"give\", \"come\", \"can\", \"know\", \"system\", \"add\", \"cheap\", \"hardware\", \"function\", \"currently\", \"device\", \"section\", \"field\", \"remove\", \"replace\", \"release\", \"block\", \"special\", \"secure\", \"period\", \"announce\", \"port\", \"nee\", \"mount\", \"operate\", \"recommend\", \"site\", \"development\", \"transfer\", \"external\", \"tool\", \"convince\", \"secret\", \"master\", \"build\", \"connect\", \"standard\", \"type\", \"support\", \"use\", \"service\", \"datum\", \"number\", \"require\", \"large\", \"design\", \"receive\", \"detail\", \"note\", \"new\", \"single\", \"bit\", \"provide\", \"base\", \"also\", \"high\", \"allow\", \"return\", \"order\", \"cost\", \"may\", \"possible\", \"work\", \"part\", \"need\", \"case\", \"call\", \"set\", \"first\", \"attack\", \"war\", \"soldier\", \"murder\", \"village\", \"visit\", \"terrorist\", \"turkish\", \"withdraw\", \"population\", \"gift\", \"president\", \"town\", \"house\", \"armenian\", \"door\", \"civilian\", \"male\", \"justify\", \"education\", \"minority\", \"somehow\", \"girl\", \"inhabitant\", \"border\", \"restraint\", \"role\", \"victim\", \"islamic\", \"escape\", \"country\", \"national\", \"kill\", \"military\", \"die\", \"child\", \"woman\", \"american\", \"burn\", \"city\", \"fight\", \"government\", \"death\", \"force\", \"live\", \"people\", \"year\", \"say\", \"state\", \"today\", \"area\", \"place\", \"mail\", \"software\", \"address\", \"email\", \"com\", \"copy\", \"info\", \"entry\", \"appreciate\", \"server\", \"distribution\", \"faq\", \"connection\", \"library\", \"select\", \"client\", \"update\", \"mine\", \"byte\", \"winner\", \"welcome\", \"frame\", \"localtalk\", \"shipping\", \"travel\", \"guilty\", \"variable\", \"conference\", \"beautiful\", \"educational\", \"ca\", \"list\", \"send\", \"advance\", \"originator\", \"page\", \"file\", \"information\", \"request\", \"program\", \"source\", \"thank\", \"include\", \"news\", \"available\", \"network\", \"name\", \"computer\", \"post\", \"message\", \"interested\", \"line\", \"window\", \"card\", \"image\", \"color\", \"screen\", \"memory\", \"disk\", \"tape\", \"display\", \"graphic\", \"monitor\", \"video\", \"mouse\", \"apple\", \"convert\", \"processor\", \"font\", \"blind\", \"resolution\", \"accelerator\", \"map\", \"este\", \"compatible\", \"egg\", \"default\", \"string\", \"setup\", \"icon\", \"utility\", \"specification\", \"sale\", \"mode\", \"machine\", \"driver\", \"database\", \"version\", \"character\", \"application\", \"run\", \"error\", \"problem\", \"offer\", \"set\", \"user\", \"bit\", \"use\", \"program\", \"computer\", \"file\", \"key\", \"internet\", \"encryption\", \"security\", \"instal\", \"ripem\", \"clipper\", \"private\", \"encrypt\", \"tap\", \"market\", \"communication\", \"rational\", \"tax\", \"crash\", \"ram\", \"federal\", \"ensure\", \"pgp\", \"proposal\", \"illegal\", \"random\", \"privacy\", \"predict\", \"manage\", \"sequence\", \"amendment\", \"hint\", \"scheme\", \"corporation\", \"public\", \"pro\", \"step\", \"solution\", \"technology\", \"government\", \"chip\", \"access\", \"message\", \"information\", \"issue\", \"book\", \"physical\", \"science\", \"choose\", \"author\", \"nature\", \"revelation\", \"scientific\", \"direct\", \"theory\", \"animal\", \"objective\", \"translation\", \"benefit\", \"language\", \"topic\", \"statistic\", \"specifically\", \"energy\", \"attitude\", \"principle\", \"contradict\", \"prize\", \"cry\", \"daughter\", \"scientist\", \"element\", \"pattern\", \"implementation\", \"explicitly\", \"student\", \"earth\", \"explain\", \"create\", \"son\", \"study\", \"consistent\", \"research\", \"examine\", \"describe\", \"purpose\", \"necessarily\", \"concern\", \"define\", \"team\", \"game\", \"play\", \"hit\", \"fan\", \"hockey\", \"score\", \"wing\", \"cpu\", \"playoff\", \"average\", \"defense\", \"rider\", \"upgrade\", \"stat\", \"award\", \"coach\", \"king\", \"yesterday\", \"talent\", \"ball\", \"blue\", \"clock\", \"tie\", \"club\", \"offense\", \"weekend\", \"rock\", \"soul\", \"pitch\", \"win\", \"division\", \"trade\", \"goal\", \"lose\", \"year\", \"pick\", \"boy\", \"last\", \"final\", \"run\", \"next\", \"first\", \"great\", \"good\", \"point\", \"throw\", \"god\", \"israeli\", \"season\", \"publish\", \"lebanese\", \"jewish\", \"brain\", \"society\", \"respect\", \"practice\", \"pen\", \"terrorism\", \"evil\", \"hide\", \"interpretation\", \"homosexual\", \"sex\", \"marriage\", \"impact\", \"imply\", \"gay\", \"arab\", \"northern\", \"acquire\", \"economic\", \"compromise\", \"western\", \"penguin\", \"neutral\", \"aid\", \"accept\", \"member\", \"community\", \"shall\", \"assumption\", \"man\", \"exactly\", \"necessary\", \"state\", \"history\", \"whole\", \"right\", \"force\", \"drive\", \"player\", \"bus\", \"university\", \"scsi\", \"switch\", \"cool\", \"printer\", \"baseball\", \"air\", \"hot\", \"star\", \"foot\", \"cycle\", \"stick\", \"helmet\", \"ice\", \"slip\", \"water\", \"tube\", \"jumper\", \"electronic\", \"oil\", \"cold\", \"cap\", \"gas\", \"saturn\", \"remind\", \"maxtor\", \"deliver\", \"light\", \"blow\", \"speed\", \"power\", \"performance\", \"compare\", \"fast\", \"slow\", \"high\", \"low\", \"ride\", \"ever\", \"head\", \"extra\", \"driver\", \"rate\", \"package\", \"press\", \"item\", \"edge\", \"hole\", \"contribute\", \"extremely\", \"slightly\", \"promise\", \"fun\", \"pad\", \"mac\", \"miracle\", \"negative\", \"violence\", \"registration\", \"finish\", \"fool\", \"professional\", \"pitcher\", \"detailed\", \"audio\", \"detect\", \"wind\", \"vertical\", \"essentially\", \"storage\", \"mhz\", \"bend\", \"differential\", \"equipment\", \"break\", \"level\", \"degree\", \"eye\", \"overall\", \"due\", \"gun\", \"weapon\", \"steal\", \"firearm\", \"tv\", \"cop\", \"beat\", \"review\", \"blank\", \"militia\", \"headache\", \"shell\", \"rsa\", \"specify\", \"patent\", \"permit\", \"shot\", \"export\", \"glock\", \"sink\", \"gang\", \"floor\", \"distance\", \"truck\", \"usage\", \"sky\", \"knife\", \"rush\", \"islander\", \"park\", \"criminal\", \"shoot\", \"crime\", \"police\", \"carry\", \"protect\", \"right\", \"arm\", \"rate\", \"law\", \"state\", \"keep\", \"stop\", \"group\", \"young\", \"nntp_posting\", \"route\", \"kid\", \"waste\", \"fax\", \"link\", \"dangerous\", \"btw\", \"conversation\", \"planet\", \"tomorrow\", \"telephone\", \"dream\", \"direction\", \"taste\", \"relevant\", \"funny\", \"buyer\", \"warrant\", \"advocate\", \"wisdom\", \"decade\", \"newspaper\", \"gold\", \"contrary\", \"opponent\", \"imho\", \"warning\", \"week\", \"drug\", \"watch\", \"capable\", \"age\", \"recent\", \"laboratory\", \"issue\", \"discussion\", \"environment\", \"primarily\", \"pc\", \"input\", \"reality\", \"picture\", \"object\", \"box\", \"quality\", \"greek\", \"generate\", \"tumor\", \"interface\", \"ide\", \"digital\", \"status\", \"workstation\", \"mirror\", \"unlikely\", \"unix\", \"management\", \"technique\", \"anywhere\", \"algorithm\", \"expansion\", \"universe\", \"drink\", \"manufacture\", \"routine\", \"shape\", \"compression\", \"lemon\", \"contain\", \"scan\", \"manufacturer\", \"level\", \"sample\", \"method\", \"original\", \"patient\", \"family\", \"food\", \"treatment\", \"disease\", \"doctor\", \"cd\", \"diagnosis\", \"medical\", \"wave\", \"ticket\", \"syndrome\", \"health\", \"neurologist\", \"dn\", \"father\", \"liar\", \"immediate\", \"msg\", \"diagnose\", \"spring\", \"eeg\", \"modem\", \"researcher\", \"migraine\", \"surrender\", \"probability\", \"confirm\", \"optional\", \"estimate\", \"adult\", \"blood\", \"risk\", \"cause\", \"effect\", \"study\", \"serious\", \"ax\", \"max\", \"launch\", \"di_di\", \"orbit\", \"sphere\", \"satellite\", \"plane\", \"flight\", \"prediction\", \"moon\", \"shuttle\", \"realistic\", \"lunar\", \"velocity\", \"investigation\", \"solar\", \"horse\", \"wide_range\", \"univ\", \"specifie\", \"film\", \"distant\", \"straightforward\", \"pot\", \"scare\", \"farin\", \"consultation\", \"comet\", \"vat\", \"mission\", \"space\", \"fuel\", \"car\", \"existence\", \"engine\", \"pain\", \"keyboard\", \"mile\", \"should\", \"motorcycle\", \"prayer\", \"battery\", \"observation\", \"accident\", \"morality\", \"sight\", \"cross\", \"arrogance\", \"up\", \"thinking\", \"leg\", \"honor\", \"tongue\", \"freenet\", \"national_capital\", \"react\", \"enjoyable\", \"luxury\", \"cure\", \"jungle\", \"necessarilly\", \"mechanic\", \"insurance\", \"auto\", \"concept\", \"model\", \"dealer\", \"mid\", \"vehicle\", \"pound\", \"safety\", \"race\", \"price\", \"ride\", \"owner\", \"sound\", \"report\", \"black\", \"white\", \"trial\", \"medium\", \"vote\", \"minor\", \"title\", \"past\", \"smoke\", \"ethnic\", \"benign\", \"tank\", \"devil\", \"canadian\", \"wise\", \"trace\", \"brother\", \"assist\", \"echo\", \"channel\", \"advertising\", \"penalty\", \"injury\", \"surveillance\", \"mass\", \"correctly\", \"occupant\", \"revolver\", \"blanking\", \"fire\", \"strange\", \"cover\", \"schedule\", \"table\", \"official\", \"begin\", \"wire\", \"eat\", \"material\", \"seller\", \"controller\", \"signal\", \"trust\", \"expensive\", \"sensitive\", \"circuit\", \"damage\", \"decent\", \"metal\", \"insert\", \"noise\", \"configuration\", \"dept\", \"own\", \"fair\", \"contest\", \"timer\", \"few\", \"voltage\", \"struggle\", \"biker\", \"tire\", \"fold\", \"surgery\", \"stock\", \"unusual\", \"firm\", \"ground\", \"seat\", \"purchase\", \"lead\", \"condition\", \"stop\"], \"Freq\": [11974.0, 10060.0, 12046.0, 5647.0, 6479.0, 2283.0, 5685.0, 4580.0, 3537.0, 3512.0, 1769.0, 2026.0, 5394.0, 1780.0, 6428.0, 5622.0, 6320.0, 1498.0, 1438.0, 3003.0, 2638.0, 4558.0, 1575.0, 2494.0, 1764.0, 5551.0, 1542.0, 1439.0, 1856.0, 2036.0, 5684.974456830807, 2113.2162498865905, 1414.0229194284907, 1338.827146773366, 1087.436506635451, 1070.8978678355504, 886.7017637851197, 826.3409883177421, 693.0157944097325, 667.8655825228288, 662.9285492532723, 619.3036295200432, 616.4224699765946, 606.8335830649289, 570.1191370809192, 469.6201711786798, 412.6601008006768, 412.0357182154205, 401.8612501810697, 390.96750917060467, 362.89514356603723, 349.43119494599654, 340.28011945926346, 335.16004243507143, 317.5843463628146, 307.50893169360245, 303.1857623490965, 297.0751516735181, 292.7346313064374, 274.9367086758185, 6443.095927591966, 5343.718358240925, 2885.5945410869135, 2819.1455905152725, 1499.3121569008545, 900.5406343178669, 9678.420221971195, 3293.1226479522893, 941.0970288865832, 5327.641523580323, 11043.92764846101, 620.3970617265526, 3453.465672056217, 2735.519763163158, 1753.3296020315058, 1833.9920272643042, 10540.3651272713, 2084.7932410895496, 2487.955881520589, 1352.8813479452465, 5328.253703248604, 3296.4481970556026, 3887.739776430505, 1386.3605591229348, 2517.8990432771334, 1325.48287571929, 3580.5717637299113, 1441.4311794107716, 2679.4949001905657, 3854.885964747821, 3149.9323490223205, 2371.269301352078, 3701.201411446193, 2244.3325251514216, 2220.3629454819165, 1662.779000636841, 1897.4751605559782, 2125.502934802773, 1884.3546096464565, 2467.59017943569, 2424.5373517955413, 1516.362593536219, 1298.5178803174183, 1056.0261521898585, 931.1508942809485, 789.1127027019264, 788.4070366445679, 751.2746388398514, 714.6398228933778, 714.0455211827427, 705.3743257934359, 660.4767469224403, 646.7989960600595, 637.5127732774622, 622.9232992213822, 557.0670909503641, 517.9607476893855, 492.203895227173, 476.4589953895228, 472.1420549461221, 467.1307007121938, 465.0915582981175, 421.66289667209105, 393.6113264116798, 369.82175905661245, 362.29668150756333, 340.47419241650096, 325.70557151662956, 322.1783581827947, 2088.678036681692, 1165.169913696608, 1142.8210088135486, 1511.600733498089, 498.96915518473986, 616.7514722332611, 877.1285130140254, 4486.943331121226, 886.6619960865061, 1114.4846569176082, 1555.5421592688547, 995.0203328210076, 3666.2221835187383, 928.0500673964742, 724.0756760036492, 1649.72628023569, 1453.2013031712017, 2184.781661990269, 1108.0222980546584, 811.9107881484048, 1295.3950453228188, 1694.4100246682704, 1710.1966240829997, 1163.0361198615426, 888.6791303904573, 1165.6116479069772, 1480.4230187528342, 1056.3387335434404, 981.2348166825442, 992.487910886006, 956.4231546341273, 991.5552965351391, 3511.9577999910907, 757.4158583043218, 688.3407056914255, 634.7548552955626, 537.1204208470856, 528.041813386384, 521.807047960446, 517.159276276765, 480.2743187337016, 476.9942831416659, 467.44593128856513, 458.4059105583216, 451.30575595031263, 376.6840224390133, 368.67322099219257, 364.74437241793686, 360.5612111294669, 354.42176800800814, 346.6931075021982, 342.08663670035503, 335.60024001096343, 333.68872532542986, 333.6517409253043, 324.9126639920151, 318.1489333526105, 316.9583692148822, 313.00322934292456, 308.5316158939706, 308.0632776281899, 299.17410485354236, 1058.26789732165, 441.6656461602072, 684.1688261165216, 959.0162864595493, 1303.9272429251057, 3903.225938811704, 616.6059463313934, 721.3364805111194, 1923.4589136413197, 949.668879910402, 981.3996639834501, 631.6113447879868, 831.5855057574995, 433.51531117197567, 783.5625538689368, 1688.2364284106916, 660.5221582781647, 1153.5118511176272, 1052.4670691102708, 907.409804533712, 2211.5028395973113, 1037.176848261906, 849.081906569498, 673.9672139970124, 990.6044304323784, 740.6363204627496, 1997.4846129695172, 820.4013054373074, 1308.713959539055, 870.8722256666288, 1072.1878968313229, 870.9112702057533, 866.7362513714224, 758.8074004466226, 704.0706190632986, 743.256463633049, 568.4192821938781, 534.9473096262095, 466.05452054316277, 464.3429037837576, 358.7683387178161, 324.6649425416346, 321.4245347025495, 291.80694620065276, 275.15130368001434, 273.0554726909864, 264.7974552591042, 259.91401889277626, 248.88773121492923, 247.7455855574217, 237.04373337474416, 234.07134306254667, 228.47081930316628, 212.6232765837289, 189.22156097663319, 187.64629121585918, 177.727354539796, 173.07067693267672, 161.11984963163846, 160.6265177599393, 155.9563112813385, 154.50663406744707, 151.84034519836902, 151.19557863309896, 150.54140192254894, 687.6339815533379, 269.2274313115454, 1067.8018487057768, 416.150460760352, 720.1881074278928, 910.5052352730108, 468.18467425053717, 329.1058446594161, 212.3483087063762, 402.9844090139936, 271.9181894185779, 894.6545463043918, 564.6678090786149, 452.8733381984667, 551.7323201927486, 1157.4478694369834, 722.4452265908836, 636.0408149939042, 331.5085779549916, 292.27708163520276, 297.9364688565473, 275.8780586387344, 1763.7213487092108, 1145.962527254517, 1032.8535339209698, 930.0814843999136, 875.1613376086424, 823.8487927521054, 796.7168156719653, 775.7359911292849, 594.1106562931932, 570.4902848299877, 502.6164150187697, 484.63253520597243, 346.85766496269133, 333.1855024847407, 282.693726145391, 281.67365218410197, 281.5011352412499, 262.73483517853305, 230.38251802462403, 197.15408369123625, 194.09133624979341, 180.12575675440064, 171.82076850857055, 157.226425696553, 151.1770367949386, 134.040236531982, 132.80903349634895, 120.6020713611496, 115.80833691328841, 114.90947715066602, 592.4143360198651, 1131.5921297791676, 1451.522626559642, 558.4043484190091, 330.7163113334207, 476.9022683706341, 1531.0945272421645, 1297.109584047588, 354.32557536927874, 1415.2027464091761, 919.1254397273927, 1333.7926418904206, 1038.4258437400533, 487.7721173965442, 647.8683932216002, 378.39388776567256, 663.5603735118933, 585.1800334065409, 719.2489934440845, 576.1148146355602, 456.55280809193255, 930.1265172275306, 1541.1947358043628, 1402.8408599902507, 891.7165263332889, 759.4712537934337, 680.3633066486918, 677.2060103144286, 657.4745467772831, 596.3042456461496, 596.0070265616511, 577.4668412151208, 532.1165662732637, 494.68939248736064, 305.3847931239273, 287.7172741114408, 265.80688244408003, 242.45081975511764, 238.80448180161298, 213.4804876287791, 210.69161106094674, 168.41613492222893, 167.6706446489951, 166.00329077235486, 161.6615147116746, 160.3467344805721, 154.8499420974477, 151.88092658304552, 151.5843079617022, 147.09638527544325, 144.48448250093873, 135.62998157248592, 794.3215653920096, 498.7640336853537, 788.8001540195206, 885.9036358969718, 162.65667552938586, 620.1200799198713, 391.79064732926804, 458.4293562377641, 843.2661924264064, 355.00383187772496, 872.1730993598057, 345.36397602893584, 524.381664518438, 327.5966580045814, 412.9567903590719, 538.5928972547217, 416.6954978650663, 346.5327012305342, 324.04380911114396, 2025.9722568142868, 628.531220718058, 574.5337797927247, 526.9035187681308, 521.680308049362, 471.8987680589027, 431.0691793981759, 487.48941993555184, 405.3399355277321, 328.5317173004806, 282.5639669568067, 245.83977945702892, 244.97047768369112, 237.6787201877959, 231.2726380039503, 223.01230010823045, 217.82477575049768, 202.24371977034806, 192.48277385104413, 190.40910926245132, 178.7798336497405, 174.95126113537472, 165.11799154930057, 161.68755364519473, 160.97588392300298, 159.04136847860488, 153.2148784433298, 149.81983297189876, 144.1882347300336, 143.42314785066122, 1108.746881947365, 272.70189239133043, 234.07725055725192, 450.9716220150798, 546.2338038950134, 765.6926484350046, 540.8936442682757, 336.18830905229686, 485.64787230282565, 292.27835116570856, 215.80519398037418, 1163.6557768719408, 834.6737514452664, 755.5583443256045, 612.7003125173082, 395.1606613702381, 353.77572734849787, 347.6980982140284, 322.57317554654395, 321.3409605934946, 315.97506154846906, 261.42359907047296, 244.92474466537317, 219.6550303364618, 205.68352309161233, 197.62767233237966, 192.2195893520245, 189.1844637443166, 183.61900223600094, 173.50681271832178, 169.55482696155693, 165.57522524389006, 159.7519806101229, 143.5152814306545, 139.11612888087936, 136.87768190282975, 135.8003776321315, 132.3585869328846, 131.79778823148743, 129.42924565531095, 129.26006587256796, 244.06970874542282, 387.0152679498989, 587.9335946512828, 538.9749534647594, 213.13737322880706, 362.28513226584744, 224.0217678622468, 315.47257744107304, 195.74264817121716, 252.77264740979876, 239.20974366809148, 191.34318820814812, 206.75564403260512, 194.3399383896675, 1574.956023524367, 1438.4664241935104, 1093.0618029738987, 476.64396007310876, 464.9249000220971, 446.2803863800823, 440.6125883464907, 382.05292904816673, 377.48584369749653, 325.4552601224063, 282.8049606621266, 224.51470406401052, 205.1722784752418, 190.44271608166727, 176.86116048951013, 171.33073006306316, 166.02012528897708, 161.23065876801573, 153.46759158340444, 152.94882144356177, 151.15989074523532, 149.31748157502162, 148.01857995821553, 147.627262015948, 139.59389769985313, 136.94258192078132, 135.66657774463033, 133.3222478161275, 132.52335883755597, 124.77201296185146, 879.950484349368, 371.70260440060207, 311.74579233944655, 362.5595064232921, 614.0461859672196, 1314.6247986445285, 234.5002711189961, 185.64936517345194, 450.8322408438881, 205.23415608272646, 433.302069313756, 291.09966076016286, 352.6000737983399, 253.05799937209935, 298.888981632311, 228.52291468011913, 186.70208522964305, 749.8889305146388, 502.16431242262206, 496.2525953414721, 438.5554689364675, 421.2612296998741, 411.8351777218353, 374.8752393803102, 337.4630563271471, 336.043045154391, 278.85815035876874, 264.89757080045604, 255.83971540973624, 242.77614768356776, 215.16929664750634, 200.17938512775876, 195.8688529440485, 193.66841389332407, 191.9000134413131, 189.740302336952, 187.1101011985919, 179.01263437907383, 176.21352276548595, 161.31721406983655, 147.96326655472507, 147.79149797799812, 137.11853275346473, 134.03872898566655, 127.44945075521505, 126.07712999700925, 119.44276189203434, 715.8365122412403, 555.2537804060859, 340.28144350898526, 338.54381749869805, 193.04130986729146, 528.0250129945063, 241.36869886391273, 223.06058135422302, 301.1906575648669, 208.4115981394679, 202.20438327366716, 203.3181953980197, 194.24905715312582, 2282.944323645615, 796.6530497560009, 414.46157420380246, 406.14862259668666, 397.8790607132742, 309.40487792231556, 303.3897483028681, 275.3867539721938, 265.73073763574325, 258.6015615821416, 257.95869088003315, 252.19213548757614, 244.95873242865613, 214.95130092167778, 195.06585166073705, 188.52298688771222, 181.6122567036563, 180.8786648116358, 180.129000388159, 178.1510706663005, 176.16614358759128, 170.877975177035, 158.52930564528776, 155.12831521053448, 151.90007393279294, 142.35942231594933, 140.17919564636003, 138.66220534849057, 129.9458362574361, 129.03685210199518, 543.9371819696397, 184.3321965350566, 568.7491982395135, 819.0498473350598, 299.18296180911483, 396.0964458603675, 401.9455639524346, 370.29468554790645, 449.93734842120784, 326.5678664700211, 229.7764542118633, 255.9459424327099, 221.58424520560217, 190.59996434857374, 221.49732825555003, 200.6009442665373, 522.2663584265401, 465.8223994361608, 463.6402489802884, 290.53826985260713, 263.5041564341757, 200.43934536591567, 194.19581117579938, 181.18248363631633, 181.0585197461331, 178.10523110155302, 174.77364561249448, 170.88043265661858, 166.61082482930857, 165.50293951608353, 159.2308897153982, 157.81203180942555, 156.54577927006835, 149.36515974312684, 148.83708252140755, 146.27354451485965, 141.4591193060211, 138.9658703915378, 138.2528542614495, 138.21193387080461, 137.94828684263058, 133.30789216734803, 130.2691965420201, 129.3266150625006, 128.92615184099816, 125.2804890678991, 199.9751101070446, 441.9504001145, 335.8918240215107, 169.3256815736479, 208.87248406802667, 146.7627431699375, 167.2634812854313, 1106.9223558596861, 378.20880434661257, 357.0395525802731, 296.87870624296806, 294.3299034861427, 279.8470213448495, 276.5429215399418, 238.53541792678476, 219.395196467152, 209.48571800264617, 191.01250279833104, 190.9240882796796, 185.72804645055302, 181.4601714784366, 171.29163575231252, 169.78683202764637, 155.4667484081018, 154.54939519359112, 147.14518034637322, 129.87918336398076, 127.98783522401814, 126.96039071550234, 123.36553507679824, 122.8041041206204, 108.64148643710674, 105.19021468994337, 96.53975228983636, 92.48737688091778, 91.70907300419948, 91.41008321264172, 283.51539490544377, 377.0783704099895, 380.52579428207576, 320.5563766367069, 424.8314404329232, 349.0619796013973, 675.3949694180845, 186.9248098350477, 314.0429263109431, 413.0338801918642, 383.59733891030106, 253.97160802527003, 195.89199194627972, 1779.0877316235837, 504.69653382401117, 315.05123971535494, 309.70463678574134, 275.0085378209376, 235.23833526418383, 219.01363900234827, 209.3450862648457, 199.99842280016196, 197.2604836537214, 170.6196962195926, 168.14557271663273, 156.7975684531396, 150.43973680042004, 147.25833666260115, 138.17463414708877, 137.97413425804345, 135.41958971853742, 132.12848101917257, 128.2110067462322, 123.29209284900871, 121.37230128323378, 120.37578469817245, 120.06483551251307, 119.61205265520097, 119.60148863353761, 115.71961522756199, 114.38157419241541, 112.75821340496532, 111.16644211918818, 746.0700927590678, 416.13981029433904, 361.765913306906, 246.11927757743692, 310.1869122946875, 193.63384476036074, 142.98479674039274, 239.64691688726677, 184.78290399509, 147.48324662112103, 133.39802115440713, 560.7495884678689, 445.6245805887599, 441.158360457947, 391.07763349336983, 363.0779953513261, 347.8382601465167, 347.14992628983384, 304.6905114123492, 261.9314028650167, 250.9254839115244, 248.2035264879407, 238.07739360254055, 237.80209801712928, 204.46984415467432, 189.20166209082853, 181.51462067859407, 156.91215747410325, 152.7713997764759, 151.44955921914774, 146.0715529397478, 146.0189399573195, 144.9728483638083, 144.05892184739898, 141.49798756362384, 139.43993428123474, 125.39217307973165, 125.17502591077168, 116.66880352523418, 115.99506212700442, 112.95491741209402, 492.55628875895695, 254.3227642859158, 123.24077656418875, 345.86661235330587, 163.65481166727602, 224.865672724822, 242.1056080187171, 577.2661240060743, 355.10155619821677, 297.3066814986249, 273.531100248309, 264.36913509758506, 250.0144490856396, 245.5212422943793, 238.21302831642717, 171.19490595229917, 165.18730514334104, 156.32707610561278, 153.0350305157638, 150.20741983127527, 143.47003262695176, 133.17491929575905, 122.10120095748205, 119.73895249266967, 119.34915143304377, 113.90515830562184, 113.15703501749682, 110.67289956133389, 137.52871983488652, 109.83341088530435, 104.10109280353912, 101.03638878787147, 100.59184627025192, 100.46154365220801, 99.99381827669497, 98.61117268968388, 98.02266711732618, 147.1848039201962, 155.9904610089993, 232.7108636651555, 221.34358553365604, 136.32107740438667, 117.01084363137215, 109.71524312233844, 1768.6749190174025, 1497.246966667763, 425.0316515453014, 349.88560947811453, 329.28435307025165, 317.7540807182641, 287.9183139446782, 272.9533073423995, 254.6804444807718, 182.09617333903492, 180.46229215303526, 167.90205279325303, 142.9292083900441, 139.2291008803071, 125.33079251947736, 123.10564626081758, 122.54880923434906, 119.7199422652312, 118.45504092349695, 117.17763788021549, 109.17529595600755, 109.07345821915928, 107.27383966334776, 105.0688785396106, 97.63291805071637, 93.9458557947678, 93.2583082734193, 88.39716396376346, 86.01845037784443, 84.476051797861, 268.95937760167806, 633.453644517851, 131.27894918400267, 1437.564315890046, 449.8219500689988, 392.61629875390565, 316.59434868120434, 237.1665059956566, 227.35532461621392, 222.74889633002297, 212.66407772378568, 202.10831273284805, 201.46557320174367, 171.9023226716151, 146.17050656971603, 139.83444281564599, 130.27104353783756, 129.43759381731925, 126.88614847612273, 112.78536261996913, 110.78872555472333, 107.84471491013495, 94.70409730001087, 92.53827918005574, 81.00668255815451, 80.96953586468591, 79.65962228858933, 78.83096598546162, 75.09836027563135, 70.55288996088369, 70.4066586521515, 70.38832360150164, 67.25459719539012, 213.59863830597328, 95.59287753828639, 177.20615194458446, 431.83954096314176, 205.4961131737461, 92.44871651324716, 181.2552606807042, 97.0965258310223, 187.92089708477116, 158.35594182111555, 217.05820252922, 134.05147343876558, 121.04615301319208, 106.80396592663297, 939.8272836375083, 493.043644036441, 366.92010074180706, 299.7363591645685, 284.03877232816683, 243.6039721250867, 228.85933349206945, 218.97432530339336, 192.3078367264129, 169.00762101555182, 161.66605831015718, 152.68237943829888, 151.62284381689585, 144.52429355351723, 136.6262431778356, 135.80069313492416, 124.59529787660624, 119.37826891183073, 118.18010952517223, 115.99372759783658, 115.57805384523007, 114.1556486167466, 113.67139303232071, 113.30446949604568, 109.35269588163227, 107.53202646511309, 100.90174796787407, 91.38188542703385, 88.28303446642833, 86.37828896328675, 379.6536641186553, 139.37089066389737, 287.56158526526184, 126.05886079301439, 146.27176034604182, 141.88649973929824, 140.9237344997498, 496.6295202282463, 351.5084521770002, 326.9921941965723, 311.8532064795607, 299.98109460887036, 277.2128434576232, 272.60137376068263, 247.92065447415519, 202.7125524332246, 192.5790450802787, 175.8610705366399, 160.81607427637698, 144.98361069011335, 136.68456711090212, 134.65849562683678, 133.6961199820295, 128.4249926622741, 125.43873782318921, 111.23698960525957, 108.9041162669618, 102.15813984269941, 90.71740253836889, 90.71652403957307, 90.02808964539255, 89.47202365085185, 89.27123523238477, 86.97120666888551, 86.33037741215394, 79.44249573195484, 72.77832258294968, 155.59940596755857, 355.09275892154295, 121.92230500362773, 167.43318046737568, 254.31357726974596, 153.6512122145818, 136.60073774833202], \"Total\": [11974.0, 10060.0, 12046.0, 5647.0, 6479.0, 2283.0, 5685.0, 4580.0, 3537.0, 3512.0, 1769.0, 2026.0, 5394.0, 1780.0, 6428.0, 5622.0, 6320.0, 1498.0, 1438.0, 3003.0, 2638.0, 4558.0, 1575.0, 2494.0, 1764.0, 5551.0, 1542.0, 1439.0, 1856.0, 2036.0, 5685.951048737673, 2114.1928417889576, 1414.9995113308582, 1339.8037386757335, 1088.4130985378185, 1071.874459737918, 887.6783556874869, 827.3175802339663, 693.9923863120997, 668.842174425196, 663.9051411556395, 620.2802214224104, 617.3990618834603, 607.8101749672961, 571.0957290301853, 470.5967630810471, 413.63669270809396, 413.01231011778776, 402.83784208343695, 391.94410107297193, 363.8717354684045, 350.40778686491944, 341.25671136585186, 336.1366343411687, 318.56093828027826, 308.4855235959697, 304.1623542556849, 298.05174358499215, 293.7112232149399, 275.9133005781858, 6479.138913318729, 5394.036452994796, 2904.235553780032, 2862.7308760680517, 1514.0588056035485, 910.4623605811628, 10060.104227994772, 3379.8595623567085, 955.7897752992621, 5622.348451732347, 11974.976953175223, 629.9899052637659, 3698.5008429372765, 2914.486335301045, 1843.4035744592682, 1943.075546076882, 12046.049969863741, 2230.386062776048, 2716.33942586052, 1433.2553617559215, 6320.737270144063, 3779.0486875708866, 4558.255718422228, 1479.9581325761117, 3072.453686467295, 1435.1577127368585, 4685.7621320557955, 1588.842988389119, 3424.043501315451, 5551.323937262442, 4329.888176358668, 3118.1511990583426, 5896.784049271949, 3301.5995290551814, 3429.7703442890756, 1966.3754636319527, 2944.4881522554197, 6428.639047129501, 3218.0128628685197, 2468.570844470505, 2425.518016826187, 1517.3432585668647, 1299.4985453522336, 1057.0068172246738, 932.1315593191421, 790.0933677428663, 789.3877016752133, 752.2553038704967, 715.6204880492201, 715.0261862176093, 706.3549908240813, 661.4574119530856, 647.7796610907048, 638.4934383081076, 623.9039642520275, 558.0477559810095, 518.9414127200308, 493.184560261988, 477.43966042016825, 473.12271997676754, 468.11136574283927, 466.0722234842849, 422.6435617027365, 394.59199144232525, 370.8024241336912, 363.2773465424026, 341.45485745328165, 326.68623654727503, 323.15902322520964, 2108.625443415453, 1196.5807363664521, 1174.81983076645, 1603.4366883244613, 505.5325391085581, 637.9648500687335, 933.9875423676048, 5647.7370481039925, 959.3001981393411, 1277.1462006367328, 2033.9948122163992, 1206.8899006132356, 6428.639047129501, 1109.884839306435, 818.1594601196326, 2872.2101771840876, 2658.0541617886447, 5440.934359230067, 1695.7884789695938, 1033.660024774524, 2928.411551290919, 5551.323937262442, 5896.784049271949, 2442.94069436237, 1328.5939379844867, 4329.888176358668, 12046.049969863741, 3301.5995290551814, 3003.896839529768, 3429.7703442890756, 2632.5171469215456, 6320.737270144063, 3512.93255277718, 758.3906107127366, 689.3154581085882, 635.7296077285183, 538.0951732630487, 529.016566371511, 522.7818003688608, 518.134028691315, 481.2490711538242, 477.96903556279165, 468.42068370071, 459.38066296673645, 452.28050836294864, 377.65877484742816, 369.6479734048286, 365.71912483051113, 361.535963553081, 355.396520416423, 347.66785991061306, 343.0613891527323, 336.5749924285977, 334.66347773725903, 334.62649333371917, 325.88741640942675, 319.1236857610254, 317.93312163586097, 313.97798175583785, 309.5063683320111, 309.0380300408259, 300.1488572875221, 1080.458255091602, 446.3107431703529, 706.866591179822, 1007.3028400054901, 1412.1900519464216, 4580.959234589677, 644.4146868109647, 771.2650147902306, 2269.5315880150397, 1055.2958023921958, 1118.1045879328892, 691.9796979403866, 950.3246688998458, 450.76524086145383, 941.2414435781593, 2517.8120821328316, 772.6139460456719, 1603.9721372255121, 1449.8564702882795, 1190.469857156391, 4347.231388367519, 1506.6943271070836, 1140.235522522887, 810.4830337502152, 1498.9367856173349, 953.4642922319283, 5440.934359230067, 1226.92301647066, 3428.785069629457, 1690.8398591178218, 3218.0128628685197, 2002.8881573085237, 2284.022428914754, 1520.7702557326884, 2755.0187275423027, 744.2302936637292, 569.3931122203371, 535.9211396526686, 467.02835056962186, 465.31673381427356, 359.74216877452176, 325.63877257231485, 322.3983647290086, 292.7807762311687, 276.12513370647343, 274.0293027973744, 265.7712852855633, 260.88784891923535, 249.86156124525277, 248.7194155838808, 238.01756340910285, 235.04517309322694, 229.44464933368224, 213.59710662972785, 190.19539102799294, 188.62012124231828, 178.7011846067375, 174.04450695913582, 162.09367966215441, 161.60034779539524, 156.93014186153766, 155.48046411139345, 152.8141752321069, 152.16940865955806, 151.51523194900804, 699.4295891227952, 275.0461532563828, 1145.7682945196357, 432.3660263885975, 792.9481187002552, 1171.6947449770848, 552.012246287605, 370.26692198737396, 223.33472352673334, 507.79995375816685, 311.3651934162973, 1661.2689349464702, 894.295001805972, 714.9204644943627, 1274.8028998846264, 5647.7370481039925, 3537.436206598118, 6428.639047129501, 1869.2551853410273, 687.43930601293, 911.2263875664488, 1356.8003101274082, 1764.6954548608146, 1146.9366334061208, 1033.8276400776233, 931.055590551517, 876.1354437857791, 824.8228989037087, 797.6909218235686, 776.71009728488, 595.0847624497659, 571.464390981591, 503.5905211703731, 485.60664136207424, 347.8317711218892, 334.1596086363441, 283.6678323089373, 282.64775833570536, 282.4752413928533, 263.70894133570084, 231.35662418891857, 198.128189846999, 195.06544241061624, 181.0998629231668, 172.7948747416925, 158.20053184815637, 152.15114298350977, 135.01434273802363, 133.78313965616525, 121.57617751680986, 116.78244311585928, 115.88358334021409, 608.2186009897392, 1193.979822187697, 1587.7409215590121, 605.110685406117, 349.27696113699284, 516.6443103819563, 1856.056072003667, 1590.3099571858922, 386.1750601362152, 2036.432826163604, 1323.6093408085114, 2494.9913203974625, 1794.579046358653, 720.1150782555159, 1191.066393006017, 479.7263449644748, 1442.144670480774, 1264.1804216341445, 2078.908399698692, 1288.3445832397422, 743.3409742202575, 11974.976953175223, 1542.1673518758112, 1403.8134760692474, 892.6891424092353, 760.4438698648815, 681.3359227201397, 678.1786263858764, 658.447162848731, 597.2768617256831, 596.9796426330989, 578.4394572865687, 533.0891823447116, 495.66200856302976, 306.3574091953753, 288.68998124329613, 266.7794985247474, 243.4234358265656, 239.77709787306094, 214.45310391726525, 211.6642271358862, 169.38875100556825, 168.64326072044307, 166.97590899461252, 162.6341308066902, 161.3193508801486, 155.82255818572418, 152.85354266879006, 152.55692403688016, 148.0690013468912, 145.45709857625113, 136.60259770821358, 809.8500706045867, 548.6666716700859, 923.6936261144375, 1108.3233921649185, 165.8269400919169, 818.1059301720095, 476.4627703387298, 710.6943521813423, 2287.083096102984, 591.5574047135814, 3003.6929515701136, 671.7822133905374, 1520.7702557326884, 683.3817275177487, 1603.9721372255121, 4580.959234589677, 2036.432826163604, 1264.1804216341445, 1856.056072003667, 2026.9491535675947, 629.5081174775008, 575.5106765460322, 527.8804155214383, 522.6572048253604, 472.8756648749156, 432.04607615148353, 488.62402877312763, 406.31683228103975, 329.508614057982, 283.5408637139788, 246.81667621530593, 245.9473745575275, 238.65561694110352, 232.24953479939208, 223.98919688051367, 218.8016725038053, 203.22061652365568, 193.45967060435174, 191.38600601575894, 179.75673040861253, 175.9281578928519, 166.09488830260818, 162.66445046920336, 161.95278070003488, 160.0182652368819, 154.19177519663742, 150.7967297503172, 145.16513148783963, 144.40004460746033, 1223.2535120501177, 287.5662472510033, 262.7296024612099, 634.1520067631135, 968.9006621476568, 1661.2689349464702, 1094.510593725972, 553.549339074782, 1288.3445832397422, 1590.3099571858922, 1377.6560533203822, 1164.6346947761062, 835.6526693831665, 756.5372622297695, 613.6792304378014, 396.1395792805383, 354.7546452526629, 348.6770161232433, 323.552093450709, 322.31987850188074, 316.9539794526341, 262.40251698363477, 245.9036625695382, 220.63394824435684, 206.66244099577736, 198.6065902365447, 193.19850726232477, 190.16338165669785, 184.59792014016597, 174.4857306224868, 170.53374487904986, 166.5541431480551, 160.73089853331714, 144.49419935888855, 140.09504684037915, 137.85659983245094, 136.77929553629653, 133.33750483704964, 132.77670616224881, 130.40816357879356, 130.238983780463, 247.43077764747673, 454.4493095042033, 771.7104531136616, 778.2783685546666, 252.0493207167971, 560.0451398164489, 292.5837727450245, 565.8712993532818, 254.01626980782916, 590.8597275407633, 670.9228669778158, 319.5555031137986, 522.9202605882466, 419.06520990472933, 1575.9350769279743, 1439.4454775971176, 1094.0408563850542, 477.6230134767153, 465.90395342570366, 447.25943978368883, 441.59164175009727, 383.0319824517733, 378.4648971351742, 326.43431352601283, 283.784014086168, 225.49375747110858, 206.15133190377594, 191.4217695118439, 177.8402138931167, 172.30978350400807, 166.99917869258365, 162.2097121716223, 154.4466450094801, 153.92787484716834, 152.13894415306305, 150.2965349786282, 148.99763339587844, 148.60631542761277, 140.5729511069512, 137.92163533365894, 136.64563117376562, 134.30130122529846, 133.50241226349473, 125.75106636545807, 1033.544791859459, 407.6594039636758, 366.83588052275064, 455.5903851937197, 903.2316403100372, 3537.436206598118, 373.63554520202723, 238.19042801734116, 1654.7570403755856, 333.2291607428762, 2287.083096102984, 1211.9470171775959, 2755.0187275423027, 1323.326370147292, 4558.255718422228, 2658.0541617886447, 335.40538127375777, 750.870030500712, 503.1454123994761, 497.2336953266448, 439.5365689234485, 422.24232969225244, 412.8162776986893, 375.8563393950916, 338.44415637469945, 337.02414513629486, 279.83925033562275, 265.87867078935875, 256.8208154201131, 243.75724766547162, 216.15039665914907, 201.16048510966263, 196.8499529209025, 194.64951387017805, 192.88111341816708, 190.7214023519629, 188.0912011754459, 179.9937343559278, 177.19462274233993, 162.29831407194885, 148.9443665399596, 148.7725979548521, 138.09963273803137, 135.01982897051045, 128.4305507403878, 127.05823000078651, 120.42386187237985, 727.4517859591957, 567.2523084202966, 383.7195914338379, 388.5906117361951, 214.24994888255617, 1443.4946072045343, 427.1261059528517, 384.3499085193269, 1869.2551853410273, 599.8257632109728, 777.1345964083029, 2638.1668284753014, 714.9204644943627, 2283.9231221592563, 797.6318482738016, 415.4403727224133, 407.1274211145493, 398.8578592269157, 310.38367643595706, 304.36854683949326, 276.3655524969399, 266.7095361535441, 259.58036009927457, 258.93748939367464, 253.17093400537698, 245.93753094229763, 215.93009943951304, 196.04465018051377, 189.50178540135371, 182.59105522145714, 181.85746336766027, 181.1077989018005, 179.12986919171965, 177.14494211019394, 171.85677370924583, 159.50810415892926, 156.10711376142717, 152.87887244643443, 143.33822082959082, 141.15799418538776, 139.6410039052226, 130.92463478617398, 130.01565064128312, 596.6371512639994, 189.48615619563105, 654.4441728801272, 1204.4170010027378, 376.4869833440018, 569.2600050846859, 601.8898135032683, 537.4701359411844, 1506.6943271070836, 821.7214005084685, 364.75844414556735, 955.7069712121336, 553.0376305598954, 245.9124041390385, 1108.3233921649185, 706.9516426627549, 523.240646154758, 466.79668717292014, 464.61453672347545, 291.5125575808251, 264.4784467530555, 201.41363309413364, 195.17009890906724, 182.15677136826432, 182.03280747435107, 179.079518833501, 175.74793337256247, 171.85472041310658, 167.58511257636727, 166.47722724846088, 160.20517746177882, 158.78631954799994, 157.52006699828632, 150.3394474713448, 149.81137026219983, 147.24783225139637, 142.43340707894427, 139.94015811975578, 139.22714199388867, 139.18622160321635, 138.9225745876991, 134.282179895566, 131.24348429328566, 130.30090279071857, 129.90043959476208, 126.25477688189282, 213.98816697166313, 532.740186484956, 700.1242860486053, 210.96423817220935, 336.94218790896184, 171.15747275576624, 438.5473641399899, 1107.8998114403014, 379.1862599272273, 358.0170081608878, 297.8561618235828, 295.30735907091685, 280.82447692968543, 277.52037713085116, 239.51287352169612, 220.37265211773015, 210.46317359080928, 191.98995859725326, 191.90154389901255, 186.70550204973713, 182.43762708204736, 172.26909134750485, 170.7642876222526, 156.44420399287597, 155.5268507845623, 148.1226359550105, 130.85663902538238, 128.96529081231816, 127.9378463037116, 124.34299067931724, 123.78155970123518, 109.61894203708223, 106.16767028309059, 97.51720787936549, 93.46483247835103, 92.68652859732678, 92.38753879741589, 287.3026957062643, 424.2908616102214, 451.2168696773668, 380.3148472940437, 607.616857341808, 510.0526869042929, 2638.1668284753014, 266.49010271503386, 706.9516426627549, 1328.5939379844867, 1869.2551853410273, 1602.3744638377852, 898.8051433844171, 1780.0684467365757, 505.6772489445509, 316.03195482834633, 310.68535199051206, 275.98925294147733, 236.21905038222513, 219.9943541203091, 210.32580139666354, 200.9791379131534, 198.24119876671284, 171.60041137461994, 169.1262878341226, 157.77828357001025, 151.4204519253544, 148.2390517755926, 139.15534926008021, 138.9548493710349, 136.40030484030873, 133.10919613216402, 129.19172189376368, 124.27280796622132, 122.35301639622523, 121.35649981533346, 121.0455506296639, 120.59276776819242, 120.5822037548822, 116.7003303447746, 115.36228933312367, 113.73892853724357, 112.14715723831486, 828.8066948826898, 469.1812105507829, 430.1203616562144, 284.58912927231023, 559.5308753696845, 275.5133002738814, 194.09807602280856, 1377.6560533203822, 633.9144594511467, 271.5609536079865, 206.69305591946411, 561.7272975534889, 446.60228966941065, 442.13606958556875, 392.05534258324, 364.05570443197684, 348.81596922716744, 348.1276353704846, 305.6682204964915, 262.9091119538804, 251.9031931551845, 249.18123557232147, 239.05510268692132, 238.7798071212672, 205.4475532566234, 190.1793711868051, 182.4923297886584, 157.88986657199726, 153.7491088930322, 152.42726830401966, 147.0492620246197, 146.99664904146175, 145.95055744868023, 145.0366309322091, 142.47569665349405, 140.4176433618855, 126.36988216038243, 126.15273499142246, 117.64651260588496, 116.9727712076552, 113.93262654090752, 598.2390932467061, 342.4404745968958, 127.55113809146816, 700.1242860486053, 209.5118235600903, 417.4320108518542, 560.8089919494179, 578.2493960823901, 356.0848282863021, 298.2899535749408, 274.51437232462484, 265.35240717390093, 250.99772116195544, 246.50451437069515, 239.19630041004953, 172.178178028615, 166.17057721965688, 157.310348186088, 154.01830259207964, 151.19069191527637, 144.45330471860976, 134.2335271231151, 123.08447305056569, 120.7222246491464, 120.33242356312351, 114.8884303819377, 114.14030710146355, 111.65617168054351, 138.75127134333206, 110.81668296658961, 105.08436494342105, 102.01966086418733, 101.57511834656778, 101.4448158021465, 100.97709039838337, 99.59444493740921, 99.00593919814044, 178.0880444440911, 210.43722120273827, 449.73050751365577, 1066.3560472862532, 559.4045713155476, 560.0451398164489, 397.1840917858763, 1769.644366444304, 1498.2164140946645, 426.0010989722026, 350.8550569050158, 330.2538004971529, 318.7235282800551, 288.8877613715794, 273.9227547742702, 255.6498919076731, 183.06562080827857, 181.43173957993656, 168.87150022015433, 143.8986560076234, 140.1985483072084, 126.30023998099638, 124.07509376145626, 123.51825666125036, 120.68938974372506, 119.42448867631555, 118.14708536479932, 110.14474372305426, 110.04290565366867, 108.24328718000811, 106.0383260762683, 98.60236557551805, 94.91530327564776, 94.22775576225709, 89.36661667776019, 86.98789780474573, 85.44549927028622, 312.76479804072784, 1188.3391985198084, 182.13124191421517, 1438.5450204440365, 450.80265463975684, 393.59700330789593, 317.5750532351946, 238.1472105546163, 228.3360291779331, 223.72960089745388, 213.64478227777596, 203.0890172918882, 202.44627775573395, 172.88302722977497, 147.1512111237063, 140.81514737369312, 131.25174810876905, 130.41829837130953, 127.86685304338933, 113.76606720533512, 111.76943010871364, 108.82541946798972, 95.6848018673698, 93.51898374326548, 81.9873871688276, 81.950240475359, 80.64032685588013, 79.81194327331858, 76.07906487581346, 71.53359455218381, 71.4010195256074, 71.39566208737442, 68.2353017580382, 228.5401776478231, 100.68425527225598, 201.9479776299005, 627.4937709413354, 268.0260780106739, 99.2622284227508, 255.28271927542255, 107.82259638093444, 381.4393473513363, 308.1851013520955, 1036.0758930270165, 364.75844414556735, 297.36528844666896, 796.8396625168123, 940.8080130692499, 494.02437232995766, 367.90082903532374, 300.7170874580852, 285.0195006216835, 244.5847004186034, 229.84006179823047, 219.95505360726645, 193.28856502415076, 169.98834931828796, 162.64678663109922, 153.6631081424834, 152.60357211041256, 145.5050218511933, 137.6069714713523, 136.78142143349075, 125.57602617012294, 120.35899720534744, 119.16083786651485, 116.97445590245792, 116.55878215118089, 115.13637691476173, 114.65212132999679, 114.28519779822017, 110.3334243773241, 108.51275476204412, 101.8824762764872, 92.36261376095511, 89.26376276598634, 87.35916908102058, 524.5653992507865, 160.56003701972813, 615.0781978383962, 173.51403646175174, 253.8616789408072, 255.12745563100307, 683.3046744757775, 497.60861711370745, 352.48754906246137, 327.9712910912529, 312.8323034545255, 300.9601915030309, 278.19194034308435, 273.5804706585779, 248.8997513675675, 203.6916494229744, 193.55814196573982, 176.84016742210102, 161.7951711659975, 145.96270757557448, 137.6636640105521, 135.6375925122979, 134.67521688631706, 129.4040895518946, 126.41783470865035, 112.2160864907207, 109.88321321928136, 103.13723672816054, 91.69649946616795, 91.6956209250342, 91.00718655178085, 90.45112054733652, 90.2503321178459, 87.95030355851621, 87.30947433628924, 80.42159262530534, 73.75741950436809, 159.45617546317888, 372.53841167419404, 145.11962586658427, 311.1387714905978, 862.1568341960965, 421.65557590979535, 898.8051433844171], \"Category\": [\"Default\", \"Default\", \"Default\", \"Default\", \"Default\", \"Default\", \"Default\", \"Default\", \"Default\", \"Default\", \"Default\", \"Default\", \"Default\", \"Default\", \"Default\", \"Default\", \"Default\", \"Default\", \"Default\", \"Default\", \"Default\", \"Default\", \"Default\", \"Default\", \"Default\", \"Default\", \"Default\", \"Default\", \"Default\", \"Default\", \"Topic1\", \"Topic1\", \"Topic1\", \"Topic1\", \"Topic1\", \"Topic1\", \"Topic1\", \"Topic1\", \"Topic1\", \"Topic1\", \"Topic1\", \"Topic1\", \"Topic1\", \"Topic1\", \"Topic1\", \"Topic1\", \"Topic1\", \"Topic1\", \"Topic1\", \"Topic1\", \"Topic1\", \"Topic1\", \"Topic1\", \"Topic1\", \"Topic1\", \"Topic1\", \"Topic1\", \"Topic1\", \"Topic1\", \"Topic1\", \"Topic1\", \"Topic1\", \"Topic1\", \"Topic1\", \"Topic1\", \"Topic1\", \"Topic1\", \"Topic1\", \"Topic1\", \"Topic1\", \"Topic1\", \"Topic1\", \"Topic1\", \"Topic1\", \"Topic1\", \"Topic1\", \"Topic1\", \"Topic1\", \"Topic1\", \"Topic1\", \"Topic1\", \"Topic1\", \"Topic1\", \"Topic1\", \"Topic1\", \"Topic1\", \"Topic1\", \"Topic1\", \"Topic1\", \"Topic1\", \"Topic1\", \"Topic1\", \"Topic1\", \"Topic1\", \"Topic1\", \"Topic1\", \"Topic1\", \"Topic1\", \"Topic1\", \"Topic2\", \"Topic2\", \"Topic2\", \"Topic2\", \"Topic2\", \"Topic2\", \"Topic2\", \"Topic2\", \"Topic2\", \"Topic2\", \"Topic2\", \"Topic2\", \"Topic2\", \"Topic2\", \"Topic2\", \"Topic2\", \"Topic2\", \"Topic2\", \"Topic2\", \"Topic2\", \"Topic2\", \"Topic2\", \"Topic2\", \"Topic2\", \"Topic2\", \"Topic2\", \"Topic2\", \"Topic2\", \"Topic2\", \"Topic2\", \"Topic2\", \"Topic2\", \"Topic2\", \"Topic2\", \"Topic2\", \"Topic2\", \"Topic2\", \"Topic2\", \"Topic2\", \"Topic2\", \"Topic2\", \"Topic2\", \"Topic2\", \"Topic2\", \"Topic2\", \"Topic2\", \"Topic2\", \"Topic2\", \"Topic2\", \"Topic2\", \"Topic2\", \"Topic2\", \"Topic2\", \"Topic2\", \"Topic2\", \"Topic2\", \"Topic2\", \"Topic2\", \"Topic2\", \"Topic2\", \"Topic2\", \"Topic2\", \"Topic3\", \"Topic3\", \"Topic3\", \"Topic3\", \"Topic3\", \"Topic3\", \"Topic3\", \"Topic3\", \"Topic3\", \"Topic3\", \"Topic3\", \"Topic3\", \"Topic3\", \"Topic3\", \"Topic3\", \"Topic3\", \"Topic3\", \"Topic3\", \"Topic3\", \"Topic3\", \"Topic3\", \"Topic3\", \"Topic3\", \"Topic3\", \"Topic3\", \"Topic3\", \"Topic3\", \"Topic3\", \"Topic3\", \"Topic3\", \"Topic3\", \"Topic3\", \"Topic3\", \"Topic3\", \"Topic3\", \"Topic3\", \"Topic3\", \"Topic3\", \"Topic3\", \"Topic3\", \"Topic3\", \"Topic3\", \"Topic3\", \"Topic3\", \"Topic3\", \"Topic3\", \"Topic3\", \"Topic3\", \"Topic3\", \"Topic3\", \"Topic3\", \"Topic3\", \"Topic3\", \"Topic3\", \"Topic3\", \"Topic3\", \"Topic3\", \"Topic3\", \"Topic3\", \"Topic3\", \"Topic3\", \"Topic3\", \"Topic3\", \"Topic3\", \"Topic3\", \"Topic4\", \"Topic4\", \"Topic4\", \"Topic4\", \"Topic4\", \"Topic4\", \"Topic4\", \"Topic4\", \"Topic4\", \"Topic4\", \"Topic4\", \"Topic4\", \"Topic4\", \"Topic4\", \"Topic4\", \"Topic4\", \"Topic4\", \"Topic4\", \"Topic4\", \"Topic4\", \"Topic4\", \"Topic4\", \"Topic4\", \"Topic4\", \"Topic4\", \"Topic4\", \"Topic4\", \"Topic4\", \"Topic4\", \"Topic4\", \"Topic4\", \"Topic4\", \"Topic4\", \"Topic4\", \"Topic4\", \"Topic4\", \"Topic4\", \"Topic4\", \"Topic4\", \"Topic4\", \"Topic4\", \"Topic4\", \"Topic4\", \"Topic4\", \"Topic4\", \"Topic4\", \"Topic4\", \"Topic4\", \"Topic4\", \"Topic4\", \"Topic4\", \"Topic4\", \"Topic5\", \"Topic5\", \"Topic5\", \"Topic5\", \"Topic5\", \"Topic5\", \"Topic5\", \"Topic5\", \"Topic5\", \"Topic5\", \"Topic5\", \"Topic5\", \"Topic5\", \"Topic5\", \"Topic5\", \"Topic5\", \"Topic5\", \"Topic5\", \"Topic5\", \"Topic5\", \"Topic5\", \"Topic5\", \"Topic5\", \"Topic5\", \"Topic5\", \"Topic5\", \"Topic5\", \"Topic5\", \"Topic5\", \"Topic5\", \"Topic5\", \"Topic5\", \"Topic5\", \"Topic5\", \"Topic5\", \"Topic5\", \"Topic5\", \"Topic5\", \"Topic5\", \"Topic5\", \"Topic5\", \"Topic5\", \"Topic5\", \"Topic5\", \"Topic5\", \"Topic5\", \"Topic5\", \"Topic5\", \"Topic5\", \"Topic5\", \"Topic5\", \"Topic5\", \"Topic6\", \"Topic6\", \"Topic6\", \"Topic6\", \"Topic6\", \"Topic6\", \"Topic6\", \"Topic6\", \"Topic6\", \"Topic6\", \"Topic6\", \"Topic6\", \"Topic6\", \"Topic6\", \"Topic6\", \"Topic6\", \"Topic6\", \"Topic6\", \"Topic6\", \"Topic6\", \"Topic6\", \"Topic6\", \"Topic6\", \"Topic6\", \"Topic6\", \"Topic6\", \"Topic6\", \"Topic6\", \"Topic6\", \"Topic6\", \"Topic6\", \"Topic6\", \"Topic6\", \"Topic6\", \"Topic6\", \"Topic6\", \"Topic6\", \"Topic6\", \"Topic6\", \"Topic6\", \"Topic6\", \"Topic6\", \"Topic6\", \"Topic6\", \"Topic6\", \"Topic6\", \"Topic6\", \"Topic6\", \"Topic6\", \"Topic7\", \"Topic7\", \"Topic7\", \"Topic7\", \"Topic7\", \"Topic7\", \"Topic7\", \"Topic7\", \"Topic7\", \"Topic7\", \"Topic7\", \"Topic7\", \"Topic7\", \"Topic7\", \"Topic7\", \"Topic7\", \"Topic7\", \"Topic7\", \"Topic7\", \"Topic7\", \"Topic7\", \"Topic7\", \"Topic7\", \"Topic7\", \"Topic7\", \"Topic7\", \"Topic7\", \"Topic7\", \"Topic7\", \"Topic7\", \"Topic7\", \"Topic7\", \"Topic7\", \"Topic7\", \"Topic7\", \"Topic7\", \"Topic7\", \"Topic7\", \"Topic7\", \"Topic7\", \"Topic7\", \"Topic8\", \"Topic8\", \"Topic8\", \"Topic8\", \"Topic8\", \"Topic8\", \"Topic8\", \"Topic8\", \"Topic8\", \"Topic8\", \"Topic8\", \"Topic8\", \"Topic8\", \"Topic8\", \"Topic8\", \"Topic8\", \"Topic8\", \"Topic8\", \"Topic8\", \"Topic8\", \"Topic8\", \"Topic8\", \"Topic8\", \"Topic8\", \"Topic8\", \"Topic8\", \"Topic8\", \"Topic8\", \"Topic8\", \"Topic8\", \"Topic8\", \"Topic8\", \"Topic8\", \"Topic8\", \"Topic8\", \"Topic8\", \"Topic8\", \"Topic8\", \"Topic8\", \"Topic8\", \"Topic8\", \"Topic8\", \"Topic8\", \"Topic8\", \"Topic9\", \"Topic9\", \"Topic9\", \"Topic9\", \"Topic9\", \"Topic9\", \"Topic9\", \"Topic9\", \"Topic9\", \"Topic9\", \"Topic9\", \"Topic9\", \"Topic9\", \"Topic9\", \"Topic9\", \"Topic9\", \"Topic9\", \"Topic9\", \"Topic9\", \"Topic9\", \"Topic9\", \"Topic9\", \"Topic9\", \"Topic9\", \"Topic9\", \"Topic9\", \"Topic9\", \"Topic9\", \"Topic9\", \"Topic9\", \"Topic9\", \"Topic9\", \"Topic9\", \"Topic9\", \"Topic9\", \"Topic9\", \"Topic9\", \"Topic9\", \"Topic9\", \"Topic9\", \"Topic9\", \"Topic9\", \"Topic9\", \"Topic9\", \"Topic9\", \"Topic9\", \"Topic9\", \"Topic10\", \"Topic10\", \"Topic10\", \"Topic10\", \"Topic10\", \"Topic10\", \"Topic10\", \"Topic10\", \"Topic10\", \"Topic10\", \"Topic10\", \"Topic10\", \"Topic10\", \"Topic10\", \"Topic10\", \"Topic10\", \"Topic10\", \"Topic10\", \"Topic10\", \"Topic10\", \"Topic10\", \"Topic10\", \"Topic10\", \"Topic10\", \"Topic10\", \"Topic10\", \"Topic10\", \"Topic10\", \"Topic10\", \"Topic10\", \"Topic10\", \"Topic10\", \"Topic10\", \"Topic10\", \"Topic10\", \"Topic10\", \"Topic10\", \"Topic10\", \"Topic10\", \"Topic10\", \"Topic10\", \"Topic10\", \"Topic10\", \"Topic11\", \"Topic11\", \"Topic11\", \"Topic11\", \"Topic11\", \"Topic11\", \"Topic11\", \"Topic11\", \"Topic11\", \"Topic11\", \"Topic11\", \"Topic11\", \"Topic11\", \"Topic11\", \"Topic11\", \"Topic11\", \"Topic11\", \"Topic11\", \"Topic11\", \"Topic11\", \"Topic11\", \"Topic11\", \"Topic11\", \"Topic11\", \"Topic11\", \"Topic11\", \"Topic11\", \"Topic11\", \"Topic11\", \"Topic11\", \"Topic11\", \"Topic11\", \"Topic11\", \"Topic11\", \"Topic11\", \"Topic11\", \"Topic11\", \"Topic11\", \"Topic11\", \"Topic11\", \"Topic11\", \"Topic11\", \"Topic11\", \"Topic11\", \"Topic11\", \"Topic11\", \"Topic12\", \"Topic12\", \"Topic12\", \"Topic12\", \"Topic12\", \"Topic12\", \"Topic12\", \"Topic12\", \"Topic12\", \"Topic12\", \"Topic12\", \"Topic12\", \"Topic12\", \"Topic12\", \"Topic12\", \"Topic12\", \"Topic12\", \"Topic12\", \"Topic12\", \"Topic12\", \"Topic12\", \"Topic12\", \"Topic12\", \"Topic12\", \"Topic12\", \"Topic12\", \"Topic12\", \"Topic12\", \"Topic12\", \"Topic12\", \"Topic12\", \"Topic12\", \"Topic12\", \"Topic12\", \"Topic12\", \"Topic12\", \"Topic12\", \"Topic13\", \"Topic13\", \"Topic13\", \"Topic13\", \"Topic13\", \"Topic13\", \"Topic13\", \"Topic13\", \"Topic13\", \"Topic13\", \"Topic13\", \"Topic13\", \"Topic13\", \"Topic13\", \"Topic13\", \"Topic13\", \"Topic13\", \"Topic13\", \"Topic13\", \"Topic13\", \"Topic13\", \"Topic13\", \"Topic13\", \"Topic13\", \"Topic13\", \"Topic13\", \"Topic13\", \"Topic13\", \"Topic13\", \"Topic13\", \"Topic13\", \"Topic13\", \"Topic13\", \"Topic13\", \"Topic13\", \"Topic13\", \"Topic13\", \"Topic13\", \"Topic13\", \"Topic13\", \"Topic13\", \"Topic13\", \"Topic13\", \"Topic14\", \"Topic14\", \"Topic14\", \"Topic14\", \"Topic14\", \"Topic14\", \"Topic14\", \"Topic14\", \"Topic14\", \"Topic14\", \"Topic14\", \"Topic14\", \"Topic14\", \"Topic14\", \"Topic14\", \"Topic14\", \"Topic14\", \"Topic14\", \"Topic14\", \"Topic14\", \"Topic14\", \"Topic14\", \"Topic14\", \"Topic14\", \"Topic14\", \"Topic14\", \"Topic14\", \"Topic14\", \"Topic14\", \"Topic14\", \"Topic14\", \"Topic14\", \"Topic14\", \"Topic14\", \"Topic14\", \"Topic14\", \"Topic14\", \"Topic14\", \"Topic14\", \"Topic14\", \"Topic14\", \"Topic15\", \"Topic15\", \"Topic15\", \"Topic15\", \"Topic15\", \"Topic15\", \"Topic15\", \"Topic15\", \"Topic15\", \"Topic15\", \"Topic15\", \"Topic15\", \"Topic15\", \"Topic15\", \"Topic15\", \"Topic15\", \"Topic15\", \"Topic15\", \"Topic15\", \"Topic15\", \"Topic15\", \"Topic15\", \"Topic15\", \"Topic15\", \"Topic15\", \"Topic15\", \"Topic15\", \"Topic15\", \"Topic15\", \"Topic15\", \"Topic15\", \"Topic15\", \"Topic15\", \"Topic15\", \"Topic15\", \"Topic15\", \"Topic15\", \"Topic16\", \"Topic16\", \"Topic16\", \"Topic16\", \"Topic16\", \"Topic16\", \"Topic16\", \"Topic16\", \"Topic16\", \"Topic16\", \"Topic16\", \"Topic16\", \"Topic16\", \"Topic16\", \"Topic16\", \"Topic16\", \"Topic16\", \"Topic16\", \"Topic16\", \"Topic16\", \"Topic16\", \"Topic16\", \"Topic16\", \"Topic16\", \"Topic16\", \"Topic16\", \"Topic16\", \"Topic16\", \"Topic16\", \"Topic16\", \"Topic16\", \"Topic16\", \"Topic16\", \"Topic16\", \"Topic16\", \"Topic16\", \"Topic16\", \"Topic17\", \"Topic17\", \"Topic17\", \"Topic17\", \"Topic17\", \"Topic17\", \"Topic17\", \"Topic17\", \"Topic17\", \"Topic17\", \"Topic17\", \"Topic17\", \"Topic17\", \"Topic17\", \"Topic17\", \"Topic17\", \"Topic17\", \"Topic17\", \"Topic17\", \"Topic17\", \"Topic17\", \"Topic17\", \"Topic17\", \"Topic17\", \"Topic17\", \"Topic17\", \"Topic17\", \"Topic17\", \"Topic17\", \"Topic17\", \"Topic17\", \"Topic17\", \"Topic17\", \"Topic18\", \"Topic18\", \"Topic18\", \"Topic18\", \"Topic18\", \"Topic18\", \"Topic18\", \"Topic18\", \"Topic18\", \"Topic18\", \"Topic18\", \"Topic18\", \"Topic18\", \"Topic18\", \"Topic18\", \"Topic18\", \"Topic18\", \"Topic18\", \"Topic18\", \"Topic18\", \"Topic18\", \"Topic18\", \"Topic18\", \"Topic18\", \"Topic18\", \"Topic18\", \"Topic18\", \"Topic18\", \"Topic18\", \"Topic18\", \"Topic18\", \"Topic18\", \"Topic18\", \"Topic18\", \"Topic18\", \"Topic18\", \"Topic18\", \"Topic18\", \"Topic18\", \"Topic18\", \"Topic18\", \"Topic18\", \"Topic18\", \"Topic18\", \"Topic19\", \"Topic19\", \"Topic19\", \"Topic19\", \"Topic19\", \"Topic19\", \"Topic19\", \"Topic19\", \"Topic19\", \"Topic19\", \"Topic19\", \"Topic19\", \"Topic19\", \"Topic19\", \"Topic19\", \"Topic19\", \"Topic19\", \"Topic19\", \"Topic19\", \"Topic19\", \"Topic19\", \"Topic19\", \"Topic19\", \"Topic19\", \"Topic19\", \"Topic19\", \"Topic19\", \"Topic19\", \"Topic19\", \"Topic19\", \"Topic19\", \"Topic19\", \"Topic19\", \"Topic19\", \"Topic19\", \"Topic19\", \"Topic19\", \"Topic20\", \"Topic20\", \"Topic20\", \"Topic20\", \"Topic20\", \"Topic20\", \"Topic20\", \"Topic20\", \"Topic20\", \"Topic20\", \"Topic20\", \"Topic20\", \"Topic20\", \"Topic20\", \"Topic20\", \"Topic20\", \"Topic20\", \"Topic20\", \"Topic20\", \"Topic20\", \"Topic20\", \"Topic20\", \"Topic20\", \"Topic20\", \"Topic20\", \"Topic20\", \"Topic20\", \"Topic20\", \"Topic20\", \"Topic20\", \"Topic20\", \"Topic20\", \"Topic20\", \"Topic20\", \"Topic20\", \"Topic20\", \"Topic20\"], \"logprob\": [30.0, 29.0, 28.0, 27.0, 26.0, 25.0, 24.0, 23.0, 22.0, 21.0, 20.0, 19.0, 18.0, 17.0, 16.0, 15.0, 14.0, 13.0, 12.0, 11.0, 10.0, 9.0, 8.0, 7.0, 6.0, 5.0, 4.0, 3.0, 2.0, 1.0, -3.8716, -4.8612, -5.2629, -5.3176, -5.5256, -5.5409, -5.7296, -5.8001, -5.9761, -6.013, -6.0205, -6.0885, -6.0932, -6.1089, -6.1713, -6.3652, -6.4945, -6.496, -6.521, -6.5485, -6.623, -6.6608, -6.6874, -6.7025, -6.7564, -6.7886, -6.8028, -6.8231, -6.8379, -6.9006, -3.7464, -3.9335, -4.5496, -4.5729, -5.2044, -5.7141, -3.3395, -4.4175, -5.6701, -3.9365, -3.2075, -6.0868, -4.37, -4.6031, -5.0479, -5.0029, -3.2542, -4.8747, -4.6979, -5.3071, -3.9364, -4.4165, -4.2516, -5.2827, -4.686, -5.3276, -4.3339, -5.2437, -4.6238, -4.26, -4.462, -4.746, -4.3007, -4.801, -4.8117, -5.1009, -4.9689, -4.8554, -4.9758, -4.2767, -4.2943, -4.7637, -4.9187, -5.1255, -5.2513, -5.4168, -5.4177, -5.466, -5.5159, -5.5168, -5.529, -5.5948, -5.6157, -5.6301, -5.6533, -5.765, -5.8378, -5.8888, -5.9213, -5.9304, -5.9411, -5.9455, -6.0435, -6.1124, -6.1747, -6.1953, -6.2574, -6.3017, -6.3126, -4.4434, -5.0271, -5.0465, -4.7668, -5.8752, -5.6633, -5.3111, -3.6788, -5.3003, -5.0716, -4.7381, -5.185, -3.8808, -5.2546, -5.5028, -4.6794, -4.8062, -4.3985, -5.0774, -5.3883, -4.9212, -4.6526, -4.6434, -5.0289, -5.298, -5.0267, -4.7876, -5.1252, -5.1989, -5.1875, -5.2245, -5.1884, -3.6887, -5.2227, -5.3183, -5.3994, -5.5664, -5.5834, -5.5953, -5.6042, -5.6782, -5.6851, -5.7053, -5.7248, -5.7404, -5.9212, -5.9427, -5.9534, -5.9649, -5.9821, -6.0042, -6.0175, -6.0367, -6.0424, -6.0425, -6.069, -6.0901, -6.0938, -6.1064, -6.1208, -6.1223, -6.1516, -4.8882, -5.762, -5.3244, -4.9867, -4.6795, -3.583, -5.4284, -5.2715, -4.2907, -4.9965, -4.9636, -5.4043, -5.1293, -5.7807, -5.1887, -4.4212, -5.3596, -4.802, -4.8937, -5.042, -4.1512, -4.9083, -5.1084, -5.3394, -4.9543, -5.2451, -4.2529, -5.1428, -4.6758, -5.0831, -4.8751, -5.0831, -5.0879, -5.2208, -5.2957, -4.4145, -4.6827, -4.7434, -4.8812, -4.8849, -5.1429, -5.2427, -5.2528, -5.3494, -5.4082, -5.4159, -5.4466, -5.4652, -5.5085, -5.5131, -5.5573, -5.5699, -5.5941, -5.666, -5.7826, -5.791, -5.8453, -5.8718, -5.9434, -5.9465, -5.976, -5.9853, -6.0027, -6.007, -6.0113, -4.4923, -5.43, -4.0522, -4.9945, -4.446, -4.2115, -4.8767, -5.2292, -5.6673, -5.0266, -5.42, -4.2291, -4.6893, -4.9099, -4.7125, -3.9716, -4.4429, -4.5703, -5.2219, -5.3478, -5.3287, -5.4056, -3.4209, -3.8521, -3.956, -4.0608, -4.1217, -4.1821, -4.2156, -4.2423, -4.509, -4.5496, -4.6763, -4.7127, -5.0472, -5.0874, -5.2517, -5.2554, -5.256, -5.325, -5.4564, -5.6121, -5.6278, -5.7025, -5.7497, -5.8384, -5.8777, -5.998, -6.0072, -6.1036, -6.1442, -6.152, -4.5119, -3.8647, -3.6157, -4.571, -5.0949, -4.7288, -3.5624, -3.7282, -5.0259, -3.6411, -4.0727, -3.7003, -3.9507, -4.7063, -4.4224, -4.9602, -4.3985, -4.5242, -4.3179, -4.5398, -4.7724, -4.0608, -3.345, -3.4391, -3.8922, -4.0527, -4.1627, -4.1674, -4.197, -4.2946, -4.2951, -4.3267, -4.4085, -4.4814, -4.9638, -5.0234, -5.1026, -5.1946, -5.2097, -5.3218, -5.335, -5.5589, -5.5634, -5.5734, -5.5999, -5.608, -5.6429, -5.6623, -5.6642, -5.6943, -5.7122, -5.7754, -4.0079, -4.4732, -4.0149, -3.8988, -5.5937, -4.2554, -4.7146, -4.5576, -3.9481, -4.8132, -3.9144, -4.8408, -4.4231, -4.8936, -4.662, -4.3964, -4.653, -4.8374, -4.9045, -2.9084, -4.0788, -4.1686, -4.2552, -4.2651, -4.3654, -4.4559, -4.3329, -4.5174, -4.7275, -4.8783, -5.0175, -5.021, -5.0513, -5.0786, -5.1149, -5.1385, -5.2127, -5.2622, -5.273, -5.336, -5.3577, -5.4155, -5.4365, -5.4409, -5.453, -5.4903, -5.5127, -5.5511, -5.5564, -3.5112, -4.9138, -5.0665, -4.4108, -4.2191, -3.8814, -4.229, -4.7045, -4.3367, -4.8445, -5.1478, -3.4506, -3.7828, -3.8824, -4.092, -4.5306, -4.6412, -4.6585, -4.7335, -4.7374, -4.7542, -4.9437, -5.0089, -5.1178, -5.1835, -5.2235, -5.2512, -5.2672, -5.297, -5.3537, -5.3767, -5.4004, -5.4363, -5.5434, -5.5746, -5.5908, -5.5987, -5.6244, -5.6286, -5.6467, -5.648, -5.0124, -4.5514, -4.1333, -4.2202, -5.1479, -4.6174, -5.0981, -4.7558, -5.2331, -4.9774, -5.0325, -5.2558, -5.1783, -5.2403, -3.1454, -3.2361, -3.5107, -4.3407, -4.3656, -4.4065, -4.4193, -4.5619, -4.5739, -4.7222, -4.8627, -5.0935, -5.1836, -5.2581, -5.3321, -5.3638, -5.3953, -5.4246, -5.4739, -5.4773, -5.4891, -5.5014, -5.5101, -5.5127, -5.5687, -5.5879, -5.5972, -5.6147, -5.6207, -5.6809, -3.7276, -4.5893, -4.7652, -4.6142, -4.0874, -3.3261, -5.05, -5.2836, -4.3963, -5.1833, -4.436, -4.8338, -4.6421, -4.9738, -4.8074, -5.0758, -5.2779, -3.8625, -4.2635, -4.2754, -4.399, -4.4392, -4.4618, -4.5559, -4.661, -4.6652, -4.8518, -4.9031, -4.9379, -4.9903, -5.111, -5.1833, -5.205, -5.2163, -5.2255, -5.2368, -5.2508, -5.295, -5.3108, -5.3991, -5.4855, -5.4867, -5.5616, -5.5843, -5.6348, -5.6456, -5.6996, -3.909, -4.163, -4.6527, -4.6578, -5.2196, -4.2133, -4.9961, -5.075, -4.7747, -5.143, -5.1732, -5.1677, -5.2133, -2.6652, -3.7181, -4.3715, -4.3918, -4.4123, -4.6638, -4.6835, -4.7803, -4.816, -4.8432, -4.8457, -4.8683, -4.8974, -5.0281, -5.1251, -5.1593, -5.1966, -5.2006, -5.2048, -5.2158, -5.227, -5.2575, -5.3325, -5.3542, -5.3752, -5.4401, -5.4555, -5.4664, -5.5314, -5.5384, -4.0996, -5.1817, -4.055, -3.6903, -4.6974, -4.4168, -4.4022, -4.4842, -4.2894, -4.6098, -4.9614, -4.8535, -4.9977, -5.1483, -4.9981, -5.0972, -4.0519, -4.1662, -4.1709, -4.6383, -4.736, -5.0095, -5.0412, -5.1105, -5.1112, -5.1277, -5.1466, -5.1691, -5.1944, -5.2011, -5.2397, -5.2486, -5.2567, -5.3037, -5.3072, -5.3246, -5.358, -5.3758, -5.381, -5.3813, -5.3832, -5.4174, -5.4404, -5.4477, -5.4508, -5.4795, -5.0119, -4.2188, -4.4933, -5.1782, -4.9683, -5.3212, -5.1905, -3.1782, -4.2521, -4.3097, -4.4942, -4.5028, -4.5533, -4.5652, -4.713, -4.7967, -4.8429, -4.9352, -4.9357, -4.9633, -4.9865, -5.0442, -5.053, -5.1411, -5.147, -5.1961, -5.3209, -5.3356, -5.3437, -5.3724, -5.3769, -5.4995, -5.5318, -5.6176, -5.6605, -5.6689, -5.6722, -4.5403, -4.2551, -4.246, -4.4175, -4.1358, -4.3323, -3.6722, -4.9568, -4.438, -4.164, -4.2379, -4.6503, -4.91, -2.6215, -3.8814, -4.3526, -4.3697, -4.4885, -4.6447, -4.7162, -4.7613, -4.807, -4.8208, -4.9659, -4.9805, -5.0504, -5.0917, -5.1131, -5.1768, -5.1782, -5.1969, -5.2215, -5.2516, -5.2908, -5.3064, -5.3147, -5.3173, -5.3211, -5.3211, -5.3541, -5.3658, -5.3801, -5.3943, -3.4905, -4.0743, -4.2143, -4.5995, -4.3681, -4.8393, -5.1426, -4.6261, -4.8861, -5.1116, -5.212, -3.6983, -3.9281, -3.9382, -4.0587, -4.133, -4.1758, -4.1778, -4.3083, -4.4595, -4.5024, -4.5133, -4.555, -4.5561, -4.7072, -4.7848, -4.8262, -4.9719, -4.9986, -5.0073, -5.0435, -5.0438, -5.051, -5.0574, -5.0753, -5.0899, -5.1961, -5.1979, -5.2682, -5.274, -5.3006, -3.828, -4.489, -5.2134, -4.1815, -4.9298, -4.6121, -4.5382, -3.6134, -4.0993, -4.277, -4.3603, -4.3944, -4.4502, -4.4684, -4.4986, -4.8289, -4.8647, -4.9198, -4.9411, -4.9597, -5.0056, -5.0801, -5.1669, -5.1864, -5.1897, -5.2364, -5.243, -5.2652, -5.0479, -5.2728, -5.3264, -5.3563, -5.3607, -5.362, -5.3666, -5.3806, -5.3865, -4.9801, -4.922, -4.5219, -4.572, -5.0567, -5.2095, -5.2739, -2.4147, -2.5813, -3.8405, -4.035, -4.0957, -4.1314, -4.23, -4.2833, -4.3526, -4.6881, -4.6971, -4.7693, -4.9303, -4.9565, -5.0617, -5.0796, -5.0841, -5.1075, -5.1181, -5.1289, -5.1997, -5.2006, -5.2173, -5.238, -5.3114, -5.3499, -5.3573, -5.4108, -5.4381, -5.4562, -4.2981, -3.4415, -5.0153, -2.6168, -3.7786, -3.9146, -4.1298, -4.4187, -4.461, -4.4814, -4.5278, -4.5787, -4.5819, -4.7405, -4.9027, -4.947, -5.0179, -5.0243, -5.0442, -5.162, -5.1798, -5.2068, -5.3367, -5.3598, -5.4929, -5.4934, -5.5097, -5.5202, -5.5687, -5.6311, -5.6332, -5.6334, -5.679, -4.5234, -5.3274, -4.7102, -3.8194, -4.562, -5.3608, -4.6876, -5.3118, -4.6514, -4.8226, -4.5073, -4.9892, -5.0913, -5.2165, -2.9768, -3.6219, -3.9174, -4.1196, -4.1734, -4.327, -4.3894, -4.4336, -4.5634, -4.6926, -4.737, -4.7942, -4.8011, -4.8491, -4.9053, -4.9113, -4.9974, -5.0402, -5.0503, -5.069, -5.0726, -5.085, -5.0892, -5.0924, -5.1279, -5.1447, -5.2084, -5.3075, -5.342, -5.3638, -3.8833, -4.8854, -4.1611, -4.9858, -4.837, -4.8675, -4.8743, -3.5329, -3.8785, -3.9508, -3.9982, -4.037, -4.116, -4.1327, -4.2276, -4.4289, -4.4802, -4.571, -4.6605, -4.7641, -4.8231, -4.838, -4.8452, -4.8854, -4.9089, -5.0291, -5.0503, -5.1142, -5.233, -5.233, -5.2406, -5.2468, -5.2491, -5.2752, -5.2826, -5.3657, -5.4533, -4.6935, -3.8684, -4.9374, -4.6202, -4.2022, -4.7061, -4.8237], \"loglift\": [30.0, 29.0, 28.0, 27.0, 26.0, 25.0, 24.0, 23.0, 22.0, 21.0, 20.0, 19.0, 18.0, 17.0, 16.0, 15.0, 14.0, 13.0, 12.0, 11.0, 10.0, 9.0, 8.0, 7.0, 6.0, 5.0, 4.0, 3.0, 2.0, 1.0, 1.4196, 1.4194, 1.4191, 1.4191, 1.4189, 1.4189, 1.4187, 1.4186, 1.4184, 1.4184, 1.4183, 1.4182, 1.4182, 1.4182, 1.4181, 1.4177, 1.4175, 1.4175, 1.4174, 1.4173, 1.4171, 1.417, 1.417, 1.4169, 1.4167, 1.4166, 1.4166, 1.4165, 1.4165, 1.4163, 1.4142, 1.4104, 1.4134, 1.4045, 1.41, 1.4089, 1.3811, 1.3938, 1.4043, 1.366, 1.3389, 1.4045, 1.3513, 1.3564, 1.3697, 1.362, 1.2863, 1.3523, 1.332, 1.3621, 1.249, 1.2832, 1.2607, 1.3545, 1.2208, 1.3403, 1.1508, 1.3224, 1.1746, 1.0551, 1.1017, 1.146, 0.9541, 1.0338, 0.985, 1.2521, 0.9804, 0.3131, 0.8846, 1.8488, 1.8488, 1.8486, 1.8485, 1.8483, 1.8482, 1.848, 1.848, 1.8479, 1.8479, 1.8479, 1.8478, 1.8477, 1.8477, 1.8477, 1.8477, 1.8475, 1.8473, 1.8472, 1.8472, 1.8472, 1.8471, 1.8471, 1.8469, 1.8467, 1.8466, 1.8465, 1.8464, 1.8462, 1.8462, 1.8397, 1.8226, 1.8216, 1.7902, 1.8362, 1.8154, 1.7864, 1.6191, 1.7705, 1.713, 1.5811, 1.6562, 1.2876, 1.6703, 1.7271, 1.2948, 1.2454, 0.9368, 1.4237, 1.6078, 1.0336, 0.6625, 0.6114, 1.1071, 1.4471, 0.5369, -0.2472, 0.7096, 0.7304, 0.6092, 0.8367, -0.0031, 2.0841, 2.0831, 2.0829, 2.0828, 2.0825, 2.0825, 2.0825, 2.0825, 2.0823, 2.0823, 2.0823, 2.0822, 2.0822, 2.0818, 2.0817, 2.0817, 2.0817, 2.0816, 2.0816, 2.0815, 2.0815, 2.0814, 2.0814, 2.0814, 2.0813, 2.0813, 2.0812, 2.0812, 2.0812, 2.0811, 2.0636, 2.0739, 2.0517, 2.0352, 2.0046, 1.9243, 2.0402, 2.0174, 1.9189, 1.9789, 1.9539, 1.9931, 1.9509, 2.0453, 1.901, 1.6847, 1.9276, 1.7547, 1.764, 1.8128, 1.4085, 1.7109, 1.7895, 1.8999, 1.6702, 1.8318, 1.0823, 1.6819, 1.1212, 1.4209, 0.9853, 1.2516, 1.1154, 1.3891, 0.7201, 2.9101, 2.9097, 2.9096, 2.9093, 2.9093, 2.9087, 2.9084, 2.9084, 2.9081, 2.9079, 2.9079, 2.9077, 2.9077, 2.9075, 2.9075, 2.9073, 2.9073, 2.9072, 2.9068, 2.9063, 2.9062, 2.9059, 2.9058, 2.9054, 2.9054, 2.9052, 2.9051, 2.905, 2.905, 2.905, 2.8944, 2.89, 2.8409, 2.8732, 2.8152, 2.6592, 2.7467, 2.7936, 2.861, 2.6802, 2.7759, 2.2925, 2.4516, 2.4549, 2.0739, 1.3264, 1.3229, 0.5982, 1.1818, 2.0561, 1.7935, 1.3185, 3.0403, 3.04, 3.0399, 3.0398, 3.0397, 3.0397, 3.0396, 3.0396, 3.0392, 3.0391, 3.0389, 3.0388, 3.038, 3.0379, 3.0374, 3.0374, 3.0374, 3.0371, 3.0366, 3.0359, 3.0358, 3.0354, 3.0352, 3.0347, 3.0344, 3.0336, 3.0335, 3.0328, 3.0325, 3.0324, 3.0145, 2.9872, 2.9511, 2.9605, 2.9862, 2.9608, 2.8484, 2.837, 2.9548, 2.6769, 2.6761, 2.4146, 2.4938, 2.6513, 2.4319, 2.8036, 2.2646, 2.2706, 1.9794, 2.236, 2.5534, 0.4856, 3.251, 3.2509, 3.2505, 3.2503, 3.2502, 3.2502, 3.2501, 3.25, 3.25, 3.2499, 3.2498, 3.2496, 3.2484, 3.2482, 3.2479, 3.2476, 3.2475, 3.247, 3.247, 3.2458, 3.2458, 3.2457, 3.2456, 3.2455, 3.2453, 3.2452, 3.2452, 3.245, 3.2449, 3.2444, 3.2322, 3.1562, 3.0937, 3.0276, 3.2323, 2.9745, 3.0559, 2.8132, 2.2538, 2.741, 2.015, 2.5863, 2.1868, 2.5163, 1.8947, 1.1109, 1.665, 1.9574, 1.5063, 3.4143, 3.4132, 3.4131, 3.4129, 3.4129, 3.4127, 3.4125, 3.4125, 3.4124, 3.4118, 3.4113, 3.4108, 3.4108, 3.4107, 3.4106, 3.4104, 3.4103, 3.41, 3.4097, 3.4097, 3.4093, 3.4092, 3.4089, 3.4088, 3.4087, 3.4087, 3.4084, 3.4083, 3.408, 3.408, 3.3165, 3.3617, 3.2993, 3.0739, 2.8417, 2.6402, 2.7099, 2.9161, 2.4391, 1.7208, 1.561, 3.4262, 3.4259, 3.4258, 3.4255, 3.4246, 3.4243, 3.4243, 3.424, 3.424, 3.424, 3.4233, 3.4231, 3.4226, 3.4223, 3.4221, 3.422, 3.4219, 3.4218, 3.4215, 3.4213, 3.4212, 3.421, 3.4203, 3.4201, 3.42, 3.4199, 3.4197, 3.4197, 3.4195, 3.4195, 3.4134, 3.2665, 3.1551, 3.0597, 3.2594, 2.9915, 3.1601, 2.8428, 3.1665, 2.578, 2.3958, 2.9142, 2.4992, 2.6587, 3.4289, 3.4288, 3.4286, 3.4275, 3.4274, 3.4273, 3.4273, 3.427, 3.4269, 3.4265, 3.4261, 3.4252, 3.4248, 3.4244, 3.424, 3.4238, 3.4236, 3.4235, 3.4232, 3.4231, 3.4231, 3.423, 3.4229, 3.4229, 3.4225, 3.4224, 3.4223, 3.4222, 3.4222, 3.4217, 3.2686, 3.3372, 3.2668, 3.2011, 3.0436, 2.4397, 2.9637, 3.1803, 2.1292, 2.9448, 1.7659, 2.0032, 1.3737, 1.7752, 0.7049, 0.9758, 2.8437, 3.4532, 3.4525, 3.4525, 3.4522, 3.4522, 3.4521, 3.4519, 3.4516, 3.4516, 3.451, 3.4508, 3.4507, 3.4504, 3.4499, 3.4496, 3.4495, 3.4494, 3.4494, 3.4493, 3.4493, 3.449, 3.4489, 3.4484, 3.4479, 3.4479, 3.4474, 3.4472, 3.4468, 3.4467, 3.4463, 3.4384, 3.4331, 3.3343, 3.3166, 3.3502, 2.4488, 2.8837, 2.9104, 1.6289, 2.3974, 2.1081, 0.8914, 2.1515, 3.5381, 3.5373, 3.5361, 3.5361, 3.536, 3.5353, 3.5353, 3.5349, 3.5348, 3.5347, 3.5347, 3.5346, 3.5345, 3.5339, 3.5335, 3.5333, 3.5331, 3.5331, 3.5331, 3.533, 3.5329, 3.5328, 3.5323, 3.5322, 3.5321, 3.5316, 3.5315, 3.5314, 3.531, 3.5309, 3.446, 3.5109, 3.3981, 3.1529, 3.3087, 3.1758, 3.1347, 3.1659, 2.3299, 2.6157, 3.0764, 2.221, 2.6239, 3.2837, 1.9283, 2.2788, 3.625, 3.6248, 3.6248, 3.6236, 3.6232, 3.6221, 3.6219, 3.6215, 3.6215, 3.6215, 3.6213, 3.6212, 3.6211, 3.621, 3.6208, 3.6208, 3.6207, 3.6204, 3.6204, 3.6203, 3.62, 3.6199, 3.6199, 3.6199, 3.6199, 3.6196, 3.6195, 3.6194, 3.6194, 3.6192, 3.5592, 3.4401, 2.8924, 3.407, 3.1487, 3.4731, 2.663, 3.7485, 3.7468, 3.7467, 3.7461, 3.7461, 3.7459, 3.7459, 3.7453, 3.745, 3.7448, 3.7443, 3.7443, 3.7442, 3.744, 3.7437, 3.7437, 3.7431, 3.7431, 3.7428, 3.7419, 3.7418, 3.7417, 3.7415, 3.7415, 3.7405, 3.7402, 3.7393, 3.7389, 3.7388, 3.7388, 3.7361, 3.6315, 3.579, 3.5785, 3.3916, 3.3702, 2.3869, 3.3948, 2.938, 2.5811, 2.1657, 1.9074, 2.2259, 3.8311, 3.8297, 3.8285, 3.8285, 3.8281, 3.8275, 3.8272, 3.827, 3.8268, 3.8267, 3.8259, 3.8258, 3.8254, 3.8251, 3.825, 3.8246, 3.8246, 3.8244, 3.8242, 3.824, 3.8237, 3.8236, 3.8235, 3.8235, 3.8235, 3.8235, 3.8232, 3.8231, 3.823, 3.8229, 3.7265, 3.7117, 3.6586, 3.6864, 3.2417, 3.479, 3.526, 2.0827, 2.5989, 3.2212, 3.3937, 3.9076, 3.9072, 3.9072, 3.9069, 3.9067, 3.9066, 3.9066, 3.9062, 3.9056, 3.9055, 3.9054, 3.9053, 3.9053, 3.9046, 3.9042, 3.904, 3.9032, 3.903, 3.9029, 3.9027, 3.9027, 3.9027, 3.9026, 3.9025, 3.9024, 3.9016, 3.9016, 3.901, 3.901, 3.9008, 3.715, 3.6119, 3.875, 3.2042, 3.6624, 3.2908, 3.0694, 3.9635, 3.9624, 3.9619, 3.9616, 3.9615, 3.9613, 3.9612, 3.9611, 3.9595, 3.9593, 3.9589, 3.9588, 3.9587, 3.9584, 3.9573, 3.9572, 3.957, 3.957, 3.9566, 3.9566, 3.9564, 3.9564, 3.9563, 3.9558, 3.9555, 3.9555, 3.9555, 3.9554, 3.9553, 3.9552, 3.7746, 3.6658, 3.3064, 2.3929, 2.5533, 2.3995, 2.6787, 4.0438, 4.0437, 4.042, 4.0415, 4.0414, 4.0413, 4.0409, 4.0408, 4.0405, 4.039, 4.039, 4.0386, 4.0376, 4.0374, 4.0366, 4.0365, 4.0364, 4.0362, 4.0362, 4.0361, 4.0355, 4.0355, 4.0353, 4.0351, 4.0344, 4.034, 4.034, 4.0334, 4.0331, 4.0329, 3.8934, 3.4152, 3.7169, 4.0488, 4.0473, 4.047, 4.0464, 4.0454, 4.0452, 4.0451, 4.0449, 4.0446, 4.0446, 4.0438, 4.0428, 4.0425, 4.042, 4.0419, 4.0418, 4.0408, 4.0407, 4.0404, 4.0392, 4.0389, 4.0374, 4.0374, 4.0372, 4.0371, 4.0365, 4.0357, 4.0355, 4.0353, 4.035, 3.9819, 3.9976, 3.9188, 3.6758, 3.7838, 3.9784, 3.707, 3.9447, 3.3416, 3.3836, 2.4865, 3.0485, 3.1507, 2.0398, 4.1134, 4.1124, 4.1118, 4.1112, 4.111, 4.1104, 4.1102, 4.11, 4.1094, 4.1087, 4.1084, 4.108, 4.108, 4.1077, 4.1073, 4.1072, 4.1066, 4.1063, 4.1062, 4.106, 4.106, 4.1059, 4.1058, 4.1058, 4.1055, 4.1054, 4.1048, 4.1038, 4.1034, 4.1031, 3.7911, 3.9729, 3.3541, 3.7949, 3.5631, 3.5277, 2.5357, 4.1942, 4.1934, 4.1932, 4.1931, 4.193, 4.1927, 4.1926, 4.1923, 4.1914, 4.1911, 4.1907, 4.1901, 4.1895, 4.1891, 4.189, 4.1889, 4.1886, 4.1884, 4.1875, 4.1873, 4.1867, 4.1855, 4.1855, 4.1854, 4.1853, 4.1853, 4.185, 4.1849, 4.184, 4.1829, 4.1717, 4.1483, 4.022, 3.5766, 2.9753, 3.1867, 2.3122]}, \"token.table\": {\"Topic\": [6, 6, 10, 3, 6, 7, 18, 10, 3, 5, 2, 16, 1, 5, 19, 1, 14, 4, 9, 10, 14, 16, 2, 10, 11, 15, 2, 3, 10, 13, 1, 2, 3, 4, 5, 6, 7, 4, 7, 10, 8, 3, 1, 15, 6, 3, 5, 6, 5, 10, 1, 3, 4, 12, 2, 2, 4, 13, 4, 18, 1, 2, 19, 10, 18, 2, 4, 8, 12, 8, 13, 18, 3, 5, 6, 9, 9, 17, 1, 4, 9, 1, 2, 9, 9, 2, 3, 9, 11, 18, 1, 13, 5, 2, 3, 4, 2, 3, 4, 8, 19, 2, 2, 12, 8, 19, 1, 20, 3, 6, 15, 19, 13, 19, 6, 3, 2, 16, 10, 11, 9, 8, 4, 15, 9, 13, 10, 12, 13, 19, 14, 1, 3, 4, 19, 11, 14, 5, 5, 9, 1, 2, 3, 4, 5, 1, 2, 6, 19, 11, 14, 19, 20, 18, 6, 4, 8, 12, 13, 1, 2, 3, 7, 13, 16, 2, 3, 12, 16, 16, 2, 14, 2, 19, 3, 6, 3, 2, 4, 16, 3, 7, 8, 2, 2, 20, 4, 13, 4, 2, 2, 3, 2, 5, 7, 9, 9, 9, 11, 6, 5, 1, 2, 4, 9, 17, 7, 3, 4, 10, 11, 13, 15, 6, 15, 10, 1, 3, 5, 6, 7, 15, 18, 3, 7, 8, 10, 2, 2, 4, 7, 16, 18, 20, 5, 20, 16, 3, 6, 5, 2, 8, 17, 8, 10, 15, 20, 8, 14, 12, 20, 14, 6, 3, 11, 13, 5, 7, 19, 1, 3, 11, 1, 2, 4, 7, 4, 13, 2, 3, 4, 19, 9, 7, 6, 7, 8, 10, 4, 13, 4, 13, 18, 8, 18, 3, 11, 20, 14, 3, 6, 3, 7, 8, 3, 18, 2, 4, 13, 14, 20, 6, 9, 2, 3, 8, 8, 12, 11, 20, 2, 3, 8, 3, 20, 3, 8, 12, 12, 3, 3, 19, 17, 16, 16, 4, 16, 12, 15, 8, 14, 1, 2, 7, 14, 16, 6, 6, 13, 17, 5, 1, 9, 12, 16, 16, 4, 14, 15, 11, 6, 11, 1, 14, 16, 1, 2, 11, 12, 13, 8, 17, 20, 19, 10, 12, 4, 5, 16, 2, 13, 16, 20, 6, 11, 8, 5, 7, 7, 8, 18, 18, 7, 5, 5, 6, 10, 14, 1, 12, 2, 3, 6, 4, 12, 6, 16, 19, 1, 2, 7, 9, 2, 9, 11, 2, 16, 10, 4, 10, 15, 20, 7, 8, 2, 3, 8, 18, 15, 20, 1, 8, 8, 13, 3, 6, 11, 18, 12, 2, 12, 2, 7, 10, 20, 2, 16, 9, 5, 17, 6, 11, 15, 16, 14, 7, 20, 3, 4, 7, 5, 6, 17, 2, 5, 8, 9, 12, 4, 13, 19, 13, 4, 20, 1, 2, 3, 4, 9, 17, 13, 20, 1, 6, 16, 12, 11, 2, 4, 10, 5, 18, 1, 2, 17, 19, 12, 3, 14, 9, 13, 11, 10, 15, 1, 6, 9, 4, 4, 1, 2, 3, 4, 9, 13, 1, 4, 9, 9, 10, 10, 14, 1, 2, 9, 4, 7, 6, 2, 3, 9, 11, 14, 15, 4, 20, 14, 1, 5, 13, 3, 1, 1, 2, 4, 11, 13, 16, 1, 2, 11, 10, 1, 3, 9, 11, 7, 2, 4, 8, 10, 9, 9, 12, 10, 18, 17, 1, 5, 11, 4, 11, 6, 15, 1, 7, 6, 14, 16, 10, 8, 10, 2, 3, 4, 5, 2, 5, 5, 7, 4, 19, 15, 20, 7, 16, 18, 1, 5, 15, 1, 7, 10, 17, 4, 13, 10, 2, 5, 7, 10, 13, 14, 19, 12, 10, 2, 11, 18, 4, 1, 2, 13, 7, 18, 14, 4, 13, 9, 13, 1, 2, 8, 14, 8, 1, 3, 4, 1, 3, 4, 9, 1, 17, 2, 7, 13, 2, 3, 9, 19, 20, 10, 18, 15, 9, 12, 15, 16, 5, 2, 4, 2, 11, 1, 1, 5, 14, 3, 5, 9, 1, 2, 1, 2, 4, 5, 2, 1, 5, 9, 10, 15, 16, 1, 1, 3, 11, 20, 17, 18, 12, 3, 6, 5, 1, 2, 3, 4, 2, 4, 10, 7, 15, 15, 15, 20, 1, 2, 3, 4, 6, 7, 10, 19, 3, 20, 2, 17, 11, 1, 2, 3, 5, 9, 1, 1, 2, 3, 18, 16, 19, 4, 10, 6, 1, 2, 5, 7, 20, 4, 7, 15, 16, 12, 18, 20, 16, 18, 4, 13, 13, 2, 5, 19, 4, 12, 15, 8, 17, 3, 6, 6, 18, 16, 1, 4, 6, 17, 18, 1, 18, 3, 6, 16, 1, 2, 3, 4, 2, 3, 1, 2, 5, 9, 4, 20, 18, 8, 18, 7, 8, 9, 18, 7, 10, 12, 15, 16, 3, 1, 3, 5, 6, 7, 12, 5, 7, 16, 10, 1, 3, 5, 2, 4, 5, 14, 1, 3, 5, 9, 1, 1, 14, 20, 10, 1, 3, 5, 8, 9, 3, 4, 5, 9, 10, 15, 8, 18, 19, 9, 1, 6, 7, 8, 3, 19, 11, 3, 14, 16, 17, 1, 2, 3, 4, 1, 7, 10, 2, 6, 8, 15, 5, 9, 9, 12, 20, 1, 18, 12, 12, 5, 10, 18, 13, 1, 2, 3, 10, 17, 19, 13, 16, 8, 15, 10, 19, 10, 1, 2, 4, 3, 11, 3, 13, 2, 7, 16, 1, 7, 8, 3, 9, 13, 15, 1, 9, 12, 1, 2, 3, 4, 17, 14, 9, 11, 9, 1, 2, 3, 9, 7, 13, 4, 3, 2, 3, 1, 2, 5, 14, 17, 10, 18, 2, 4, 11, 20, 10, 18, 7, 17, 4, 12, 1, 1, 5, 6, 18, 12, 14, 8, 11, 7, 7, 8, 7, 9, 16, 1, 2, 3, 1, 3, 6, 16, 6, 12, 3, 5, 6, 12, 7, 3, 4, 13, 2, 2, 3, 7, 10, 4, 7, 10, 10, 1, 6, 15, 20, 3, 8, 10, 1, 2, 11, 15, 1, 2, 3, 5, 2, 4, 18, 7, 7, 1, 11, 13, 15, 7, 18, 17, 15, 1, 2, 2, 3, 4, 8, 2, 10, 12, 14, 16, 3, 12, 3, 14, 2, 2, 11, 3, 3, 19, 3, 5, 2, 3, 3, 8, 16, 16, 6, 10, 4, 3, 4, 10, 8, 13, 19, 11, 18, 9, 1, 2, 7, 10, 13, 7, 4, 13, 16, 9, 4, 14, 15, 13, 2, 1, 3, 6, 9, 11, 13, 1, 2, 3, 18, 6, 11, 5, 15, 17, 11, 1, 2, 4, 5, 15, 17, 3, 17, 19, 7, 8, 8, 8, 9, 6, 11, 10, 9, 20, 3, 3, 3, 7, 1, 2, 3, 5, 20, 1, 4, 5, 2, 20, 7, 10, 11, 16, 5, 1, 3, 5, 1, 2, 3, 4, 6, 6, 10, 10, 13, 15, 13, 5, 4, 13, 13, 18, 17, 18, 20, 2, 1, 2, 3, 9, 13, 3, 13, 2, 12, 11, 6, 11, 19, 10, 5, 17, 4, 7, 11, 4, 8, 10, 1, 9, 3, 6, 11, 18, 2, 3, 4, 5, 8, 10, 3, 5, 17, 3, 8, 6, 17, 13, 6, 11, 17, 16, 2, 3, 11, 9, 1, 2, 3, 4, 7, 10, 13, 2, 8, 15, 13, 7, 20, 11, 1, 2, 4, 9, 20, 2, 4, 13, 14, 20, 12, 17, 7, 19, 6, 20, 3, 8, 8, 10, 16, 2, 3, 4, 1, 2, 20, 16, 19, 11, 16, 3, 6, 10, 19, 1, 2, 4, 9, 2, 3, 4, 9, 19, 7, 6, 14, 7, 9, 15, 3, 7, 14, 10, 4, 1, 1, 5, 6, 8, 1, 2, 1, 2, 1, 2, 9, 18, 2, 4, 9, 16, 16, 9, 1, 2, 3, 4, 9, 20, 20, 19, 1, 2, 4, 7, 14, 18, 3, 8, 4, 19, 9, 10, 3, 8, 5, 16, 19, 13, 2, 3, 20, 2, 1, 2, 6, 11, 15, 4, 1, 2, 11, 13, 3, 6, 15, 2, 17, 15, 11, 15, 15, 20, 18, 5, 9, 13, 1, 2, 3, 6, 3, 5, 6, 7, 6, 5, 17, 17, 18, 17, 3, 6, 12, 4, 6, 2, 6, 8, 4, 12, 4, 20, 19, 1, 1, 2, 4, 14, 14, 14, 14, 19, 11, 16, 1, 2, 3, 4, 13, 14, 16, 9, 5, 1, 2, 3, 9, 10, 19, 1, 10, 17, 1, 6, 9, 12, 6, 9, 5, 20, 14, 19, 4, 2, 4, 1, 2, 6, 8, 1, 3, 4, 6, 15, 1, 2, 4, 10, 1, 1, 2, 17, 1, 2, 1, 3, 4, 8, 9, 16, 9, 14], \"Freq\": [0.9918013976883117, 0.015121277055489988, 0.9842576701573483, 0.007226094798858784, 0.38478954803923027, 0.6069919631041379, 0.9921766792477262, 0.9936596021595336, 0.9981663661270415, 0.9991994409459191, 0.1684560021625606, 0.8254344105965469, 0.07601915006529315, 0.9221453420963821, 0.9901301661107244, 0.9963174017565194, 0.9889416997138538, 0.11259432280368017, 0.04825470977300579, 0.1840827817266517, 0.5540355566530294, 0.10187105396523445, 0.9987860519174261, 0.988176248043857, 0.997764237251799, 0.9934871269743901, 0.17014028783347782, 0.7445830122197045, 0.04911266040553999, 0.03508047171824285, 0.2921399591009378, 0.17436384960512666, 0.5088295980561216, 0.005750786596475154, 0.0112715417290913, 0.007821069771206208, 0.9922708251129635, 0.8885481809558425, 0.06211735003642668, 0.04591282393996755, 0.9946550932523173, 0.9985175373763272, 0.9975912354073262, 0.9932199199916412, 0.997609957781269, 0.2293531663783485, 0.12382256835150103, 0.6444401852839485, 0.9981771295146253, 0.9932581320818237, 0.11083963478025909, 0.5410291083828488, 0.32703179370809116, 0.019753598277669936, 0.9964134585702039, 0.9983312794685023, 0.29644628147589086, 0.7017146156454632, 0.9971075214124642, 0.9932206586558037, 0.9944222660137074, 0.0054019523995777995, 0.9902582267186201, 0.9008170177244496, 0.09334891375382896, 0.9992271834313363, 0.998346891178438, 0.9968701509520687, 0.9932817131809211, 0.9971232885070257, 0.03972815798442141, 0.9534757916261138, 0.39880228574092624, 0.5440502761265689, 0.05625211188345697, 0.9972372859384182, 0.9923986701313591, 0.9996358780009574, 0.9509583383086438, 0.04014313578713043, 0.008137122119012925, 0.9069492772605475, 0.04531599442245623, 0.046574772045302235, 0.9925137895533362, 0.21504114401644148, 0.7618840532145016, 0.021840116189169836, 0.9973396671008583, 0.9928559923562587, 0.9998327370866332, 0.9981249047863401, 0.993299993603636, 0.785558095058503, 0.1199620736296236, 0.09384129953285072, 0.30586648651327036, 0.188788405551253, 0.2722065382366904, 0.02634256821645391, 0.2063501176955556, 0.9985511163515185, 0.9997864304356459, 0.9930682328899648, 0.9967945748023421, 0.9956846626981635, 0.9979360595772753, 0.9839568538393387, 0.7194638692391152, 0.2574857694937215, 0.023067732375950833, 0.9979264741026309, 0.9937712229510364, 0.9844415978847048, 0.9932241413590085, 0.9971687739372552, 0.25660859657510693, 0.7413137234391978, 0.02110972157707544, 0.9710471925454702, 0.9913734872276826, 0.9994550267315983, 0.9962849845090969, 0.9976607457824386, 0.7808878028736675, 0.21831271908296082, 0.9977216310985474, 0.8296727207991125, 0.16893788432561113, 0.9887088025249262, 0.9937389464226684, 0.01943619746624973, 0.979214139013915, 0.9492478225161589, 0.044775840684724476, 0.9965329014294532, 0.9907755553042039, 0.9941362206780352, 0.9733342568554347, 0.024662185562215406, 0.43913754405492955, 0.15061148071275748, 0.3795934702847696, 0.021015555448291742, 0.009632129580467049, 0.6153806070719885, 0.3631505310869266, 0.020892551474666277, 0.9955890935985126, 0.9942511844025905, 0.8644040643049788, 0.0667629155357504, 0.06324907787597406, 0.9996211307701248, 0.9994205241058626, 0.17116049158836286, 0.03949857498192989, 0.08722601975176184, 0.6994539319716752, 0.022467555083290767, 0.43337417360658637, 0.4348720106121391, 0.03744592513881795, 0.028958182107352546, 0.04243871515732701, 0.5861081780241686, 0.17817688611934723, 0.027195419460321422, 0.207247851749346, 0.997953326039553, 0.9870779057663085, 0.011868672213622948, 0.9981224617968985, 0.9952060055804621, 0.17629918900123553, 0.8227295486724324, 0.9980916457144342, 0.19715032519371564, 0.777506260828896, 0.02475047372561798, 0.5052486500998201, 0.49428484575769016, 0.9988931832721195, 0.9976270005024855, 0.9981858978741041, 0.9971164118436381, 0.7936196075195461, 0.20480506000504414, 0.9955533096916124, 0.9991147299338625, 0.9671379229334112, 0.03134968956024023, 0.9978994017179058, 0.9977082488128705, 0.9975787856684138, 0.9933043675047658, 0.9959241724496821, 0.9940168646312748, 0.9929079864795968, 0.998101280157419, 0.9987040316724628, 0.6472736589190384, 0.28923219353499374, 0.05335634215413695, 0.009621635470418138, 0.9886432730336445, 0.9966911627373447, 0.0026060696986132986, 0.10945492734175855, 0.8860636975285215, 0.6956399474104792, 0.21431331713151128, 0.08783332669324233, 0.9961008749913391, 0.9916837807840913, 0.9920373956379933, 0.003955131652439881, 0.1866822139951624, 0.46275040333546613, 0.27448613667932775, 0.07119236974391786, 0.11884248746468531, 0.8764633450520543, 0.20844478253220303, 0.1797597207158448, 0.39585385306574333, 0.21609413234989855, 0.9975981400120094, 0.16601227162468515, 0.10197896685516375, 0.007114811641057935, 0.2371603880352645, 0.12095179789798491, 0.3652269975743074, 0.9952607695966572, 0.994986331546902, 0.9903236427735393, 0.9903413860492541, 0.008962365484608634, 0.9976086971031818, 0.23241206907007583, 0.765592698113191, 0.9847077496210026, 0.14876995001611762, 0.026745159553459345, 0.8240852287409661, 0.9919622552580545, 0.9954526569565239, 0.9939989000656162, 0.9929814428526148, 0.9968095730593618, 0.9965011076033543, 0.9970781168378459, 0.9983639485845154, 0.9955036522212823, 0.9970640845174907, 0.9990023326161259, 0.9903044032204683, 0.9913382918364455, 0.1772483787561612, 0.7771659683923992, 0.045098699920206695, 0.8721771727473078, 0.08573586285501449, 0.025932452345035245, 0.015877011639817497, 0.9836586994594698, 0.015727101299497337, 0.06828400055082907, 0.3235360978479758, 0.13981962017550714, 0.46823314663425647, 0.9961293711880206, 0.9946198609160988, 0.22228550476261683, 0.03083729545839771, 0.6925542605031819, 0.053965267052195995, 0.15513604367241862, 0.8443833234170214, 0.01044194866541445, 0.9885044736592346, 0.9891250047806057, 0.9921835434936767, 0.9925406439376598, 0.9980783846175488, 0.9956925901394604, 0.9952490012062949, 0.9951281614434205, 0.012060766476734189, 0.9829524678538364, 0.9348278298298002, 0.06353198843503496, 0.9937862979828892, 0.23132077468048054, 0.7648509485402986, 0.328750579401971, 0.6317825760616109, 0.03913697373832988, 0.991362337366181, 0.995085322013834, 0.9947211867440671, 0.997810327537906, 0.06442911356477958, 0.47009390267635476, 0.4629351122802681, 0.1943457353493811, 0.8010836408303758, 0.9921882432132318, 0.9891495735818185, 0.13878082424282814, 0.433266963489805, 0.42818961626140883, 0.9133215929326964, 0.08526261706175489, 0.9628071569373585, 0.03549519472580124, 0.9899362999991301, 0.9911860433510692, 0.9972769233645038, 0.9985045379003072, 0.9965291792354096, 0.9975629340715267, 0.9900096019502568, 0.9949986667519576, 0.9080039198279117, 0.09080039198279118, 0.9900615492507929, 0.9967341998862108, 0.9959050663954844, 0.9916974139605594, 0.996178507170852, 0.6104924635022062, 0.09622749424711778, 0.29183748255273423, 0.9949033544172274, 0.9978021579704742, 0.9983590016088689, 0.9891993053088064, 0.9885139558082662, 0.9988273783052931, 0.9987408473068855, 0.9125264776993757, 0.08585598580504879, 0.990810588460633, 0.9960249792016571, 0.9957248389802484, 0.9916415292680886, 0.9899040937595575, 0.9995958173240159, 0.799405666489951, 0.19940028475652277, 0.9966185347711459, 0.8866510223451782, 0.11083137779314728, 0.367121121148973, 0.10261149348884338, 0.13681532465179116, 0.3808026536141521, 0.011401277054315932, 0.8515801254538391, 0.14743118451009618, 0.9986168332363564, 0.991669498311063, 0.9948068531068701, 0.9982417306990866, 0.9937149316735178, 0.9923752501023373, 0.9945854813721088, 0.5720367984256159, 0.05720367984256159, 0.24311563933088676, 0.12513304965560348, 0.9918214964729879, 0.995014606112091, 0.989969027553919, 0.9988662432595549, 0.9967590998540544, 0.9991126549569904, 0.9972162157859331, 0.9984832117549713, 0.9898267948377344, 0.9939936383200885, 0.9990857627738299, 0.15466141005171663, 0.2761810893780654, 0.022094487150245236, 0.5413149351810083, 0.060751022750344386, 0.9346311192360675, 0.21130662722499796, 0.1876402849757982, 0.6001108213189943, 0.9965994709417635, 0.9904516005283561, 0.9941553904363293, 0.989839607539834, 0.996023366680055, 0.5511520398451193, 0.44221926369233544, 0.00034148205690527834, 0.005805194967389732, 0.6100196164317759, 0.12137611579088509, 0.267864531400574, 0.9906927788068114, 0.009010609285461664, 0.9968934352815189, 0.17793339938905364, 0.5642361743784464, 0.22475797817564672, 0.030435976211285493, 0.22439507533561606, 0.7716041186979079, 0.8722572243057257, 0.09161049842349184, 0.0352348070859584, 0.998219498861651, 0.992852626777482, 0.9963850853099537, 0.23713557236608634, 0.7619438062910315, 0.990486843919548, 0.9966124769973508, 0.9970650379832722, 0.13826061405498052, 0.7766993318970965, 0.08132977297351796, 0.9940047224671829, 0.3769192596158782, 0.6202844508639255, 0.9429745564696979, 0.012473208418911346, 0.04427988988713528, 0.9891629932146916, 0.9990474827519871, 0.9969534554686786, 0.9980597858870759, 0.9987507556314043, 0.9869703384918261, 0.3223181314048714, 0.6678963341482388, 0.008307168335177098, 0.9911891969499665, 0.9954800925492601, 0.9963360768926875, 0.9924042960175931, 0.9974045224631198, 0.8735722738165348, 0.12525484808398846, 0.8248673211403794, 0.1745636917370888, 0.9905227361321143, 0.0900281353922335, 0.22507033848058375, 0.06602063262097123, 0.6151922585135956, 0.9966984079667006, 0.10103601967590227, 0.17347693944353032, 0.7244091976762804, 0.9971255863288473, 0.018813946786857123, 0.9783252329165705, 0.38293750581548475, 0.14337470596883078, 0.25553365316976423, 0.08965456297291445, 0.1281298005240437, 0.9974578831118466, 0.9926695162470904, 0.9891949939901692, 0.9966899001379349, 0.9967590821644178, 0.9956755044563822, 0.991090512211706, 0.9961879305744612, 0.09371671861063129, 0.6336369183674025, 0.27135885687257416, 0.9939267600460117, 0.9879568406443496, 0.9841427534309724, 0.014285943194965728, 0.719261553499436, 0.27452731049596796, 0.9939718464705912, 0.9979647220092916, 0.9916670210293909, 0.9989958094143792, 0.9925151115758508, 0.9906638939576222, 0.9944790613990887, 0.9965421055697762, 0.9907237458569611, 0.0009269496125158693, 0.00815715659013965, 0.9962438221501607, 0.9939986215170752, 0.5186596222272035, 0.32657579551019683, 0.09953737294347487, 0.025633370289791187, 0.028962379418335498, 0.9924209021276702, 0.9476467077308856, 0.025078488323959244, 0.027212827755785565, 0.7967683511267479, 0.20193578045085622, 0.9988413034674831, 0.9951717273631381, 0.8529578505845156, 0.0813907825532035, 0.06559526680163841, 0.5387447999374279, 0.4610933148067819, 0.9975114815069479, 0.4307327450419933, 0.35667693975407166, 0.19118488508004264, 0.009068057790357754, 0.012846415203006818, 0.9978139026183157, 0.04563287829462124, 0.9529218702700317, 0.9993997721050927, 0.9977339423237991, 0.9924871482728926, 0.9991878223725559, 0.998852330110713, 0.9994357932893443, 0.4592815858531188, 0.028931123518306696, 0.11029990841354427, 0.4014193388165054, 0.9948436959699025, 0.9921245686477603, 0.9900540153738971, 0.009246668589215851, 0.9973520808772806, 0.9946777952900862, 0.005309637035244127, 0.6882617006935199, 0.0066370462940551584, 0.29866708323248214, 0.9947165316407298, 0.3234272548772895, 0.2250653577754334, 0.10169619869852917, 0.3467673660540011, 0.9986955957750439, 0.9971840956910871, 0.9981909801765351, 0.9956822294936285, 0.9928431490267492, 0.9942879009895657, 0.9336215257579056, 0.0659726765956933, 0.9963794760045374, 0.996551845586176, 0.996762956319299, 0.9927803838942171, 0.9955863619932718, 0.9985700328538569, 0.9957902527104695, 0.9992280152446177, 0.9935032926127697, 0.9889271442918744, 0.9962175070911465, 0.9892018755563355, 0.9941985527838272, 0.024518284713777073, 0.3661025694761713, 0.030647855892221344, 0.578408625747741, 0.9984772944366082, 0.9991338477038336, 0.8155642830125304, 0.18361200511924353, 0.9932527926786909, 0.9887544684440299, 0.9986513959212872, 0.995179090900114, 0.9987425700453513, 0.06125837541604516, 0.9363780242166903, 0.38474940830485693, 0.6147918866969218, 0.9952595324057673, 0.9959824327035799, 0.9991928341138206, 0.9942310483640463, 0.9913351364172797, 0.992315087047658, 0.9925930056102394, 0.9977234962870601, 0.4652830424945925, 0.07186118753036608, 0.15678804552079872, 0.10888058716722133, 0.007984576392262898, 0.17420893946755414, 0.014517411622296179, 0.9986773192078551, 0.9980226610654992, 0.995739239253667, 0.9935366931928448, 0.9803781579742719, 0.9972045191100696, 0.732038625472471, 0.10921292366383839, 0.15851475777494256, 0.9995317329169683, 0.9951827671970435, 0.9964156106408713, 0.9321256357924966, 0.0672038145655639, 0.9925422950609616, 0.9946962398676826, 0.8429396401534918, 0.1569437167853348, 0.25760172910794066, 0.7367409452487103, 0.9969457698466994, 0.0411410529001076, 0.8773776716305555, 0.079598993654556, 0.5656419505473462, 0.04109364597993541, 0.12086366464686886, 0.2725475637786893, 0.997578494934055, 0.9976500084750534, 0.6691284481913543, 0.0195695609144828, 0.31085494837236144, 0.4082783851365238, 0.10438935983604303, 0.14614510377046022, 0.044075507486329275, 0.29460997109283255, 0.9970577803197564, 0.9924151960817159, 0.9918142276780334, 0.024281403086222602, 0.4799147904100467, 0.49419796869606, 0.9940174673615783, 0.9965297761717035, 0.9246323535848584, 0.07505471190316776, 0.08715514930613345, 0.9117769465872424, 0.9992358091383657, 0.9222564722407779, 0.07766194487358959, 0.9936964395815464, 0.040201684407070545, 0.9480897239334137, 0.011725491285395576, 0.936512979314785, 0.06283961549514791, 0.013335394829693713, 0.5538111029272801, 0.4330081144700547, 0.9953998939906017, 0.9978359792669481, 0.9387589047376307, 0.061074226989509595, 0.6797813236361412, 0.14835618463720343, 0.1417133703997167, 0.02878552836244246, 0.9992936313243542, 0.02555610695669545, 0.5038203942891388, 0.397945094039972, 0.07180049097357293, 0.9914510647814834, 0.9858165333975273, 0.9950264944072994, 0.14506974630070532, 0.8541793270989291, 0.9996059065835416, 0.6276302420226746, 0.2899885744011817, 0.08207863743284909, 0.9937037131269891, 0.46068755413491724, 0.17319080982515686, 0.3657789903507313, 0.9941169228714906, 0.9906363978053261, 0.9891597417283032, 0.9643191102834026, 0.023519978299595186, 0.18974934506161995, 0.574470494223253, 0.2102910172792999, 0.025415967320180286, 0.9961856719462429, 0.9980924664371327, 0.9954318315435228, 0.9952747051425564, 0.996172374941206, 0.997038487460225, 0.9985648270827148, 0.9991880918649529, 0.9929376561738431, 0.22018277025667446, 0.401585436569978, 0.3670325477483964, 0.0033082553127046247, 0.007719262396310791, 0.9991841770927803, 0.21583142560802868, 0.7649970347291404, 0.019174090202079996, 0.9818964417799664, 0.9931572163086823, 0.9964230495827135, 0.019391723641695127, 0.9784006019218904, 0.9982620708762859, 0.11565228894378272, 0.05976661911859913, 0.4470853586014688, 0.3772282713199893, 0.9934044278051226, 0.08624158920283746, 0.24435116940803947, 0.5390099325177341, 0.1293623838042562, 0.9900161644097892, 0.926837946939681, 0.060445953061283544, 0.9900052513843901, 0.99414884640526, 0.9621477512345333, 0.03469282756855289, 0.9930478403140778, 0.9977966654742256, 0.9973116522628698, 0.9963450157833322, 0.9967123271990606, 0.9965085647085707, 0.9973021891428064, 0.13748350284100896, 0.8600712154472421, 0.08930741109323982, 0.9094775129699321, 0.31076005696035924, 0.6884530492660267, 0.9926303247423871, 0.9896070820817647, 0.009885087390383887, 0.9979568477831026, 0.9921086598009178, 0.9942112238001648, 0.9982391492086053, 0.9969819891180978, 0.9969061247161808, 0.9955691974320438, 0.9922670161043703, 0.9159385518294779, 0.07694178349371418, 0.006994707590337653, 0.997798098191753, 0.6533833751914921, 0.34615166176661183, 0.27875150685539996, 0.2551755087631522, 0.4604253745074268, 0.005547293668764179, 0.9780176774523114, 0.018178767238890545, 0.9884046651986981, 0.9978727685098375, 0.9804517242845034, 0.1595966882217582, 0.5977052441246239, 0.07197497704118508, 0.16585538187751345, 0.19513468934838749, 0.5802004763292055, 0.10147003846116148, 0.08065567159733349, 0.04162873372765599, 0.9980790289019389, 0.5854544653126751, 0.3331248337660232, 0.0515846291092909, 0.026413816110179077, 0.0031075077776681267, 0.9971333782022412, 0.7879492214003633, 0.20845217497364107, 0.9899392767687749, 0.9916712990509945, 0.3276654385188051, 0.6704233457209006, 0.0015886809140305703, 0.12775735820290096, 0.1930247042413395, 0.6776694652501704, 0.9950845496030752, 0.5544796847348705, 0.19802845883388231, 0.006600948627796077, 0.2401095063360823, 0.9987319014326831, 0.9987016891475149, 0.9967346503650024, 0.9952992935034577, 0.9920004463424476, 0.03930978629600427, 0.8329424988126309, 0.011686693223136403, 0.09880567906833505, 0.01593639984973146, 0.847311405646431, 0.04934939024045776, 0.006609293335775593, 0.029962129788849354, 0.0665335529134743, 0.9971001568740037, 0.9963251357865291, 0.9948923428521335, 0.9852471286219583, 0.9933176884726654, 0.3661901061036117, 0.5135592951453091, 0.016374354337966374, 0.10271185902906181, 0.43899626452587004, 0.5565845496667281, 0.9968145558396018, 0.9982916365103398, 0.9881912075341199, 0.9940313444411203, 0.9962035243946763, 0.10340662894343705, 0.20481183926216243, 0.6611352856964265, 0.030021279370675273, 0.9937210486400466, 0.0024102728137492466, 0.003443246876784638, 0.40655553543721434, 0.14086792675236812, 0.01961452144653227, 0.4315194718237099, 0.9476720105514652, 0.051535033806424095, 0.13437917509345287, 0.8588582060320683, 0.9887845357269568, 0.5885017747503015, 0.40690694139877986, 0.997628918617322, 0.9957442835417191, 0.9232657563718312, 0.07548713731342016, 0.9981892367510091, 0.984981320906725, 0.0005914220643708622, 0.416361133317087, 0.515128618067021, 0.046722343085298115, 0.020699772252980177, 0.993333464791413, 0.9926330873543368, 0.997839347363171, 0.9941502829472234, 0.9987052479794795, 0.9966952189630327, 0.9943121738836403, 0.9888612893728103, 0.00035412413555468595, 0.7944774981169379, 0.2048608124183858, 0.20186620882602374, 0.794184163670804, 0.9980336690599804, 0.9955243122968236, 0.9729151398936714, 0.017023886962268964, 0.009363137829247931, 0.9964712718256847, 0.9924549101123151, 0.9992189705040393, 0.29440453782447884, 0.6289551489886593, 0.07493933690077643, 0.9973081795639197, 0.9980813566369231, 0.9940273558931475, 0.99152563245029, 0.48717559619213957, 0.08549526347698667, 0.22331952442695657, 0.2034197648245545, 0.996631332161395, 0.9933405513208731, 0.9990486128749402, 0.9992078447279042, 0.9956061190059343, 0.3013482612637942, 0.5466404789217141, 0.06583763510757051, 0.08615324822647799, 0.15513462180029916, 0.8440375186084073, 0.995925276010298, 0.9960705287300318, 0.3309091072134996, 0.668338590923817, 0.39732390331373757, 0.21261158022357388, 0.345854584119343, 0.04329195072425712, 0.9938909622299406, 0.09274493784837326, 0.8996258971292206, 0.12620213752666423, 0.14280768193806742, 0.6799970436469606, 0.05064691045477972, 0.997000955603561, 0.9946377341994667, 0.9959152078571147, 0.9941790227811558, 0.9970979359762866, 0.9982932887168819, 0.9986366408398887, 0.4420525591633057, 0.34167381210438913, 0.005791081561091341, 0.20944411645947017, 0.34834261692881485, 0.6434662229379498, 0.9966728948461973, 0.9950588903551754, 0.993408055396543, 0.9966763223306775, 0.9965797979359636, 0.9493464640226393, 0.04868443405244304, 0.9857576181619335, 0.9232434792641802, 0.000696787531520136, 0.07525305340417468, 0.6165743402739978, 0.08689303607533122, 0.29030930060417176, 0.00599262317760905, 0.994152428989706, 0.9945840541957545, 0.1001751677634816, 0.694842462673169, 0.20476982822241094, 0.9943262564112428, 0.9927580597734779, 0.23330923070370835, 0.08038385259539532, 0.6842430379461699, 0.9991329369972183, 0.13863441252225092, 0.7255890645443184, 0.11794270916072094, 0.016553362689223992, 0.05722444228480747, 0.9065986641978784, 0.035969649436164694, 0.9987792394048971, 0.9984261057364701, 0.29890199654147037, 0.16069999814057548, 0.5367379937895221, 0.40392124540444474, 0.3562257477921118, 0.2384774880616648, 0.9440048410789837, 0.05232842799772637, 0.0034885618665150913, 0.9967608564907967, 0.3262461515497511, 0.4760655887733508, 0.18788831061648154, 0.009414882667056809, 0.11356811165252657, 0.3699075636682294, 0.5126789040314057, 0.9955837295088773, 0.9947242220690039, 0.13437977121345895, 0.284319305409529, 0.4441605069581696, 0.13579429512096905, 0.996148059887885, 0.9920594709762955, 0.9937549381449693, 0.9974304978405547, 0.9348157410044549, 0.06501116664059758, 0.99976875507876, 0.8754902689868866, 0.07576358097001903, 0.04840451006417883, 0.05807342144315636, 0.07259177680394545, 0.14155396476769364, 0.7041402349982708, 0.025407121881380907, 0.9980174779102131, 0.9950479389519307, 0.996994512224742, 0.9897338584254035, 0.9982420530846017, 0.9976258518289218, 0.9954096297842598, 0.9979725976147166, 0.9969670773513115, 0.9991411498860284, 0.08027447445483764, 0.9166827082907266, 0.0994981689133804, 0.9002215282639179, 0.34460132581889197, 0.5566636801689794, 0.09542805945753932, 0.989681005885082, 0.9968618828751834, 0.9969612113818116, 0.9940728922404317, 0.8316028490828615, 0.11844788354889423, 0.04935328481203926, 0.998058328791583, 0.9978586807708703, 0.9858423762697589, 0.6305542851482607, 0.3673664096081171, 0.9944151129505516, 0.4396992591520108, 0.1959694111910255, 0.030703137923545582, 0.07694737035160189, 0.25585948269621317, 0.9981482132831951, 0.3868983693411473, 0.09338926156510452, 0.5180880463016513, 0.9903105836397262, 0.9969098104116205, 0.9977940640389992, 0.9908623860473509, 0.9962213108773346, 0.9986161537515624, 0.1836400263355748, 0.23654584344653803, 0.36859176714497516, 0.1893241223888188, 0.021424669739150394, 0.9843274476665828, 0.9847240701409852, 0.015020622566889805, 0.5059782147284125, 0.4928699708235314, 0.980428388932838, 0.01852194689419719, 0.21478501420753232, 0.7827720517785622, 0.9969269678737358, 0.9917964675534641, 0.3307076325819375, 0.570260668412692, 0.09893229271971414, 0.25405875313778886, 0.7417347505402111, 0.9903566311852833, 0.19594956519552081, 0.07492189257475797, 0.7261660357245772, 0.991973751024796, 0.9992898403600293, 0.9982936489613747, 0.9943025328998735, 0.9986602061856232, 0.998039259819435, 0.9978492106722469, 0.9975188822916871, 0.15159906779408114, 0.8406857395853591, 0.9966410928755637, 0.9978113217265824, 0.998247052732739, 0.9983321686208635, 0.7275014669429811, 0.2692910191922273, 0.0030023870064313507, 0.99764572421377, 0.997339458088776, 0.026452678412268893, 0.05857378791288112, 0.9145068822527246, 0.9996163555903801, 0.9966044291705932, 0.9936365687043632, 0.47584987392166433, 0.24421924746244147, 0.27694966207080995, 0.9974374764120024, 0.03724309903420973, 0.9574580043378084, 0.004655387379276216, 0.009863422790823315, 0.1255942502031502, 0.49908919321565975, 0.02038440710103485, 0.3445622361594278, 0.9963494017698893, 0.996663162125279, 0.8723834023816792, 0.1260967159784728, 0.9945046173357405, 0.995302049787119, 0.992411328621141, 0.10841619314030457, 0.8885414089977136, 0.9907685682433992, 0.996738916555846, 0.9948392699832821, 0.9904629985748326, 0.9957154030357085, 0.998499737817381, 0.045300761368771654, 0.05436091364252598, 0.8555372361359447, 0.04400645390109246, 0.9934536066968966, 0.9981277832263736, 0.9890016397649393, 0.997699447788866, 0.9936495834902251, 0.9952849701530987, 0.30885436957220164, 0.6884103418175578, 0.994185782012405, 0.9957329552084198, 0.9991833608075285, 0.9958042100393978, 0.9982812029895564, 0.7111859541405983, 0.28699743603899974, 0.9960762173553545, 0.8450727000344788, 0.15076414366812296, 0.9984607441280765, 0.9962366802593565, 0.7906232955449903, 0.0037648728359285255, 0.06902266865868963, 0.13428046448145073, 0.009821629085859353, 0.12239260860840116, 0.04533059578088932, 0.694313625377288, 0.1269256681864901, 0.0007555099296814886, 0.41738924426444574, 0.04880761324060051, 0.5326761927810366, 0.9982556347388081, 0.9967609594966619, 0.9955886804619869, 0.9896069146437656, 0.9921198981534615, 0.12988120839387354, 0.8694400891307534, 0.9977299188297785, 0.9941232833737049, 0.031123270323584088, 0.9676507682423416, 0.9953749271812059, 0.9952754561259037, 0.11073929425116714, 0.2942348397977871, 0.017119117951871248, 0.1776108487506642, 0.03370326346774652, 0.16102670323478893, 0.205429415422455, 0.9969846233157478, 0.9938821993668681, 0.9929541470137867, 0.9971593300382232, 0.8906495416120778, 0.10657344942366742, 0.9946713660405837, 0.8457184453107397, 0.07882523092192703, 0.06255163486062597, 0.012713746922891457, 0.9823232470422624, 0.26702116890017896, 0.2558952868626715, 0.21806728793514615, 0.10680846756007159, 0.15242458391385216, 0.9905253636019988, 0.9902080114361529, 0.12456399718905511, 0.865719780463933, 0.9944159444793533, 0.9889328899184485, 0.008083068804194885, 0.9861343941117758, 0.6463764690800515, 0.14284562852597824, 0.20891173171924315, 0.055941478904425294, 0.9233884619160833, 0.01982735961169504, 0.9438644851986799, 0.05558198713274669, 0.9850019216557696, 0.9943379997392127, 0.9879145926554043, 0.9955420450848272, 0.9933884312776993, 0.9997345372382846, 0.2245317223057154, 0.1930184981224571, 0.575116341344464, 0.7824082839399616, 0.141353344317634, 0.07593361471608437, 0.9939720154774462, 0.8244331148138934, 0.051371711676845615, 0.09528623940060074, 0.027343007827998474, 0.9960448362900978, 0.9984564468536398, 0.9978621945574888, 0.9931283479824063, 0.9972528744577367, 0.9994066526333071, 0.9928645542985177, 0.4355451662759714, 0.5635252625276786, 0.9906191541017548, 0.9968039373336216, 0.9980384013633604, 0.9984074069433002, 0.3747508026805683, 0.5346711986907787, 0.09058147743936731, 0.9969901641421838, 0.9975489589704988, 0.9964838254998278, 0.6796705597550667, 0.319844969296502, 0.6944289404774024, 0.3051524319503813, 0.00018013720894355446, 0.9931159163291319, 0.14012893836559712, 0.22659147480394426, 0.5575342866886523, 0.07751813611713883, 0.9916702988633784, 0.9959199888250503, 0.7642300012418469, 0.10371845311464328, 0.11118788903853735, 0.020274183221998174, 0.00042682490993680366, 0.9889735582973008, 0.9861459554939559, 0.9956579601532061, 0.27056934099212177, 0.18910760391922488, 0.4247647718801051, 0.11346456235153493, 0.995067232622892, 0.9944504984710887, 0.9968851900048253, 0.9937964983306137, 0.9965968176635539, 0.9954129288233522, 0.8505165840249648, 0.14720479338893622, 0.99647883936178, 0.9971266967327497, 0.9924342140260193, 0.998126246286236, 0.997615408342284, 0.9936859763027579, 0.9736075173144183, 0.025071438214105193, 0.9978782452666283, 0.9987964100487624, 0.8195404249999272, 0.12823626983716097, 0.052075642573466384, 0.9936924578976253, 0.9964145228019079, 0.9956626184187255, 0.9845261210346895, 0.008370041411559528, 0.006277531058669646, 0.995572886923543, 0.9520473505214908, 0.04665925492649642, 0.0009927501048190728, 0.9980817140932204, 0.9902910396709533, 0.9896424675354772, 0.9972307905189415, 0.9951277187983354, 0.9943640045348224, 0.9897309381285603, 0.9932662943867748, 0.9983175821338891, 0.992572581919655, 0.9943536944839985, 0.028596630812789552, 0.0015280642419047853, 0.8520049623077681, 0.11766094662666846, 0.04975257404598509, 0.20632685119070288, 0.4799660084436209, 0.264859291244803, 0.9899826231204021, 0.9941462006484675, 0.9830827921583823, 0.285957467889712, 0.7090178313429845, 0.9897051661881876, 0.24080011247269664, 0.757848069711025, 0.993359073639132, 0.9946721223285061, 0.998664395189478, 0.884913070484005, 0.10266947226610003, 0.012222556222154766, 0.9971702418619677, 0.9924772876827508, 0.9979369425134396, 0.9924138043014845, 0.9976094153984174, 0.9976042781468522, 0.9743008368382788, 0.02544484420531187, 0.9975533384748813, 0.9897709646275106, 0.9897579527890986, 0.9948393223143832, 0.8416248851974567, 0.15577035168019226, 0.9938832070815395, 0.9929555686738121, 0.6442545875237893, 0.30192004655173893, 0.007131969603584384, 0.04618799362321315, 0.9968715640501981, 0.9000892543533201, 0.09893742474124967, 0.995275142218454, 0.9945380258161081, 0.7603864753947863, 0.14335417735194833, 0.04361558863504468, 0.052274565790531496, 0.9924468207500604, 0.9975514351579858, 0.7386107923297538, 0.2599292335376485, 0.9880720554711653, 0.9994001071555988, 0.1480342228078344, 0.8514386671300279, 0.9914774494949797, 0.9992430446187366, 0.9973057538298301, 0.9943057580656735, 0.998776916048525, 0.9888221906746023, 0.9942870791566477, 0.9973332394250084, 0.15035898308088624, 0.8478072780946356, 0.9986670592223309, 0.9389846868587298, 0.037473733226973255, 0.022484239936183953, 0.5450910343009571, 0.381767877956101, 0.02537341893214728, 0.04753870443609203, 0.9937986376784964, 0.029732814460842298, 0.8361227824139895, 0.09009943776012817, 0.04324773012486152, 0.9979201505024857, 0.8749756166019974, 0.122861851287567, 0.001992354345203789, 0.9620178658853781, 0.037872371037645076, 0.29625975955276396, 0.11816467508879326, 0.20410262060791565, 0.0065018840359862325, 0.37173815249225634, 0.0031095967128629805, 0.9906333672098134, 0.9986607090867456], \"Term\": [\"accelerator\", \"accept\", \"accept\", \"access\", \"access\", \"access\", \"accident\", \"acquire\", \"add\", \"address\", \"adult\", \"adult\", \"advance\", \"advance\", \"advertising\", \"advice\", \"advocate\", \"age\", \"age\", \"age\", \"age\", \"age\", \"agree\", \"aid\", \"air\", \"algorithm\", \"allow\", \"allow\", \"allow\", \"allow\", \"also\", \"also\", \"also\", \"also\", \"also\", \"also\", \"amendment\", \"american\", \"american\", \"american\", \"animal\", \"announce\", \"anyway\", \"anywhere\", \"apple\", \"application\", \"application\", \"application\", \"appreciate\", \"arab\", \"area\", \"area\", \"area\", \"area\", \"argue\", \"argument\", \"arm\", \"arm\", \"armenian\", \"arrogance\", \"article\", \"article\", \"assist\", \"assumption\", \"assumption\", \"atheist\", \"attack\", \"attitude\", \"audio\", \"author\", \"auto\", \"auto\", \"available\", \"available\", \"available\", \"average\", \"award\", \"ax\", \"back\", \"back\", \"back\", \"bad\", \"bad\", \"bad\", \"ball\", \"base\", \"base\", \"base\", \"baseball\", \"battery\", \"be\", \"beat\", \"beautiful\", \"become\", \"become\", \"become\", \"begin\", \"begin\", \"begin\", \"begin\", \"begin\", \"belief\", \"believe\", \"bend\", \"benefit\", \"benign\", \"bike\", \"biker\", \"bit\", \"bit\", \"bit\", \"black\", \"blank\", \"blanking\", \"blind\", \"block\", \"blood\", \"blood\", \"blow\", \"blow\", \"blue\", \"book\", \"border\", \"box\", \"boy\", \"boy\", \"brain\", \"break\", \"break\", \"brother\", \"btw\", \"build\", \"build\", \"burn\", \"burn\", \"bus\", \"buyer\", \"byte\", \"ca\", \"ca\", \"call\", \"call\", \"call\", \"call\", \"call\", \"can\", \"can\", \"can\", \"canadian\", \"cap\", \"capable\", \"capable\", \"capable\", \"car\", \"card\", \"carry\", \"carry\", \"carry\", \"carry\", \"case\", \"case\", \"case\", \"case\", \"case\", \"case\", \"cause\", \"cause\", \"cause\", \"cause\", \"cd\", \"certain\", \"certain\", \"certainly\", \"channel\", \"character\", \"character\", \"cheap\", \"child\", \"child\", \"child\", \"chip\", \"chip\", \"choose\", \"christian\", \"church\", \"circuit\", \"city\", \"city\", \"civilian\", \"claim\", \"clear\", \"clear\", \"clearly\", \"client\", \"clipper\", \"clock\", \"club\", \"coach\", \"cold\", \"color\", \"com\", \"come\", \"come\", \"come\", \"come\", \"comet\", \"communication\", \"community\", \"community\", \"community\", \"compare\", \"compare\", \"compare\", \"compatible\", \"compression\", \"compromise\", \"computer\", \"computer\", \"computer\", \"computer\", \"computer\", \"concept\", \"concept\", \"concern\", \"concern\", \"concern\", \"concern\", \"conclusion\", \"condition\", \"condition\", \"condition\", \"condition\", \"condition\", \"condition\", \"conference\", \"configuration\", \"confirm\", \"connect\", \"connect\", \"connection\", \"consistent\", \"consistent\", \"consultation\", \"contain\", \"contain\", \"contain\", \"contest\", \"contradict\", \"contrary\", \"contribute\", \"controller\", \"conversation\", \"convert\", \"convince\", \"cool\", \"cop\", \"copy\", \"corporation\", \"correctly\", \"cost\", \"cost\", \"cost\", \"could\", \"could\", \"could\", \"could\", \"country\", \"country\", \"cover\", \"cover\", \"cover\", \"cover\", \"cpu\", \"crash\", \"create\", \"create\", \"create\", \"create\", \"crime\", \"crime\", \"criminal\", \"criminal\", \"cross\", \"cry\", \"cure\", \"currently\", \"cycle\", \"damage\", \"dangerous\", \"database\", \"database\", \"datum\", \"datum\", \"daughter\", \"dealer\", \"dealer\", \"death\", \"death\", \"death\", \"decade\", \"decent\", \"default\", \"defense\", \"define\", \"define\", \"define\", \"degree\", \"degree\", \"deliver\", \"dept\", \"describe\", \"describe\", \"describe\", \"design\", \"design\", \"detail\", \"detail\", \"detailed\", \"detect\", \"development\", \"device\", \"devil\", \"di_di\", \"diagnose\", \"diagnosis\", \"die\", \"die\", \"differential\", \"digital\", \"direct\", \"direction\", \"disclaimer\", \"discussion\", \"discussion\", \"discussion\", \"disease\", \"disk\", \"display\", \"distance\", \"distant\", \"distribution\", \"distribution_usa\", \"division\", \"division\", \"dn\", \"doctor\", \"door\", \"dream\", \"drink\", \"drive\", \"driver\", \"driver\", \"drop\", \"drug\", \"drug\", \"due\", \"due\", \"due\", \"due\", \"due\", \"earth\", \"earth\", \"eat\", \"echo\", \"economic\", \"edge\", \"education\", \"educational\", \"eeg\", \"effect\", \"effect\", \"effect\", \"effect\", \"egg\", \"electronic\", \"element\", \"email\", \"encrypt\", \"encryption\", \"energy\", \"engine\", \"enjoyable\", \"ensure\", \"entry\", \"environment\", \"environment\", \"environment\", \"environment\", \"equipment\", \"equipment\", \"error\", \"error\", \"error\", \"escape\", \"essentially\", \"este\", \"estimate\", \"ethnic\", \"even\", \"even\", \"even\", \"even\", \"ever\", \"ever\", \"ever\", \"evidence\", \"evidence\", \"evil\", \"exactly\", \"exactly\", \"exactly\", \"exactly\", \"examine\", \"examine\", \"exist\", \"exist\", \"exist\", \"existence\", \"expansion\", \"expensive\", \"explain\", \"explain\", \"explicitly\", \"export\", \"external\", \"extra\", \"extra\", \"extra\", \"extremely\", \"eye\", \"eye\", \"fact\", \"fact\", \"fact\", \"fair\", \"faith\", \"family\", \"fan\", \"faq\", \"farin\", \"fast\", \"fast\", \"fast\", \"father\", \"fax\", \"federal\", \"few\", \"field\", \"fight\", \"fight\", \"file\", \"file\", \"film\", \"final\", \"final\", \"final\", \"final\", \"finish\", \"fire\", \"fire\", \"fire\", \"firearm\", \"firm\", \"firm\", \"first\", \"first\", \"first\", \"first\", \"first\", \"flight\", \"floor\", \"fold\", \"folk\", \"font\", \"food\", \"fool\", \"foot\", \"force\", \"force\", \"force\", \"frame\", \"freenet\", \"friend\", \"friend\", \"fuel\", \"fuel\", \"fun\", \"function\", \"funny\", \"game\", \"gang\", \"gas\", \"gay\", \"generate\", \"get\", \"get\", \"get\", \"gift\", \"girl\", \"give\", \"give\", \"give\", \"give\", \"give\", \"glock\", \"go\", \"go\", \"go\", \"goal\", \"goal\", \"god\", \"gold\", \"good\", \"good\", \"good\", \"government\", \"government\", \"graphic\", \"great\", \"great\", \"great\", \"great\", \"great\", \"greek\", \"ground\", \"ground\", \"group\", \"guess\", \"guilty\", \"gun\", \"hardware\", \"have\", \"head\", \"head\", \"head\", \"head\", \"headache\", \"health\", \"hear\", \"hear\", \"helmet\", \"hide\", \"high\", \"high\", \"high\", \"high\", \"hint\", \"history\", \"history\", \"history\", \"history\", \"hit\", \"hockey\", \"hole\", \"homosexual\", \"honor\", \"horse\", \"host\", \"host\", \"hot\", \"house\", \"ice\", \"icon\", \"ide\", \"ill\", \"illegal\", \"image\", \"imho\", \"immediate\", \"impact\", \"implementation\", \"imply\", \"include\", \"include\", \"include\", \"include\", \"indeed\", \"info\", \"information\", \"information\", \"inhabitant\", \"injury\", \"input\", \"insert\", \"instal\", \"insurance\", \"insurance\", \"interested\", \"interested\", \"interface\", \"internal\", \"internet\", \"interpretation\", \"investigation\", \"islamic\", \"islander\", \"israeli\", \"issue\", \"issue\", \"issue\", \"issue\", \"issue\", \"issue\", \"issue\", \"item\", \"jewish\", \"judge\", \"jumper\", \"jungle\", \"justify\", \"keep\", \"keep\", \"keep\", \"key\", \"keyboard\", \"kid\", \"kill\", \"kill\", \"king\", \"knife\", \"know\", \"know\", \"laboratory\", \"laboratory\", \"language\", \"large\", \"large\", \"large\", \"last\", \"last\", \"last\", \"last\", \"laugh\", \"launch\", \"law\", \"law\", \"law\", \"lead\", \"lead\", \"lead\", \"lead\", \"lead\", \"lebanese\", \"leg\", \"lemon\", \"level\", \"level\", \"level\", \"liar\", \"library\", \"life\", \"life\", \"light\", \"light\", \"like\", \"line\", \"line\", \"link\", \"list\", \"list\", \"list\", \"little\", \"little\", \"live\", \"live\", \"live\", \"localtalk\", \"logic\", \"look\", \"look\", \"lose\", \"lose\", \"lose\", \"lose\", \"lot\", \"low\", \"low\", \"low\", \"low\", \"lunar\", \"luxury\", \"mac\", \"machine\", \"machine\", \"mail\", \"make\", \"make\", \"make\", \"male\", \"man\", \"man\", \"man\", \"manage\", \"management\", \"manufacture\", \"manufacturer\", \"manufacturer\", \"many\", \"many\", \"many\", \"many\", \"map\", \"market\", \"marriage\", \"mass\", \"master\", \"material\", \"matter\", \"max\", \"maxtor\", \"may\", \"may\", \"may\", \"may\", \"may\", \"maybe\", \"mean\", \"mean\", \"mean\", \"mechanic\", \"medical\", \"medium\", \"member\", \"member\", \"memory\", \"message\", \"message\", \"message\", \"message\", \"metal\", \"method\", \"method\", \"method\", \"method\", \"mhz\", \"mid\", \"mid\", \"migraine\", \"mile\", \"military\", \"military\", \"militia\", \"mind\", \"mine\", \"minor\", \"minority\", \"miracle\", \"mirror\", \"mission\", \"mission\", \"mode\", \"mode\", \"model\", \"model\", \"modem\", \"money\", \"money\", \"monitor\", \"moon\", \"morality\", \"motif\", \"motorcycle\", \"mount\", \"mouse\", \"msg\", \"much\", \"much\", \"much\", \"murder\", \"must\", \"must\", \"name\", \"name\", \"name\", \"name\", \"national\", \"national\", \"national_capital\", \"nature\", \"necessarilly\", \"necessarily\", \"necessarily\", \"necessarily\", \"necessarily\", \"necessary\", \"necessary\", \"necessary\", \"necessary\", \"necessary\", \"nee\", \"need\", \"need\", \"need\", \"need\", \"need\", \"negative\", \"network\", \"network\", \"neurologist\", \"neutral\", \"new\", \"new\", \"new\", \"news\", \"news\", \"news\", \"newspaper\", \"next\", \"next\", \"next\", \"next\", \"nice\", \"nntp_poste\", \"nntp_posting\", \"noise\", \"northern\", \"note\", \"note\", \"note\", \"note\", \"note\", \"number\", \"number\", \"number\", \"number\", \"number\", \"object\", \"objective\", \"observation\", \"occupant\", \"offense\", \"offer\", \"offer\", \"offer\", \"offer\", \"official\", \"official\", \"oil\", \"operate\", \"opponent\", \"optional\", \"orbit\", \"order\", \"order\", \"order\", \"order\", \"organization\", \"organization\", \"organization\", \"original\", \"original\", \"original\", \"original\", \"originator\", \"originator\", \"overall\", \"overall\", \"own\", \"owner\", \"owner\", \"package\", \"pad\", \"page\", \"page\", \"pain\", \"park\", \"part\", \"part\", \"part\", \"part\", \"part\", \"past\", \"patent\", \"patient\", \"pattern\", \"pc\", \"pen\", \"penalty\", \"penguin\", \"people\", \"people\", \"people\", \"performance\", \"performance\", \"period\", \"permit\", \"person\", \"person\", \"person\", \"personally\", \"pgp\", \"physical\", \"pick\", \"pick\", \"pick\", \"picture\", \"pin\", \"pitch\", \"pitcher\", \"place\", \"place\", \"place\", \"place\", \"plane\", \"planet\", \"play\", \"player\", \"playoff\", \"point\", \"point\", \"point\", \"point\", \"police\", \"police\", \"population\", \"port\", \"possible\", \"possible\", \"post\", \"post\", \"post\", \"post\", \"pot\", \"pound\", \"pound\", \"power\", \"power\", \"power\", \"power\", \"practice\", \"prayer\", \"predict\", \"prediction\", \"president\", \"press\", \"pretty\", \"price\", \"price\", \"price\", \"price\", \"primarily\", \"primarily\", \"principle\", \"printer\", \"privacy\", \"private\", \"prize\", \"pro\", \"pro\", \"probability\", \"probably\", \"probably\", \"probably\", \"problem\", \"problem\", \"problem\", \"problem\", \"processor\", \"professional\", \"program\", \"program\", \"program\", \"promise\", \"proposal\", \"protect\", \"protect\", \"protect\", \"prove\", \"provide\", \"provide\", \"provide\", \"provide\", \"public\", \"public\", \"public\", \"publish\", \"pull\", \"purchase\", \"purchase\", \"purchase\", \"purpose\", \"purpose\", \"purpose\", \"put\", \"put\", \"put\", \"quality\", \"question\", \"question\", \"question\", \"question\", \"race\", \"race\", \"race\", \"ram\", \"random\", \"rate\", \"rate\", \"rate\", \"rate\", \"rational\", \"react\", \"realistic\", \"reality\", \"really\", \"really\", \"reason\", \"receive\", \"receive\", \"receive\", \"recent\", \"recent\", \"recent\", \"recent\", \"recent\", \"recommend\", \"registration\", \"release\", \"relevant\", \"religion\", \"religious\", \"remind\", \"remove\", \"replace\", \"report\", \"request\", \"request\", \"require\", \"require\", \"research\", \"research\", \"research\", \"researcher\", \"resolution\", \"respect\", \"restraint\", \"return\", \"return\", \"return\", \"revelation\", \"review\", \"revolver\", \"ride\", \"ride\", \"rider\", \"right\", \"right\", \"right\", \"right\", \"right\", \"ripem\", \"risk\", \"risk\", \"risk\", \"rock\", \"role\", \"route\", \"routine\", \"rsa\", \"rule\", \"run\", \"run\", \"run\", \"run\", \"run\", \"rush\", \"s\", \"s\", \"safety\", \"safety\", \"sale\", \"sale\", \"sample\", \"sample\", \"satellite\", \"saturn\", \"say\", \"say\", \"say\", \"scan\", \"scan\", \"scare\", \"schedule\", \"schedule\", \"schedule\", \"scheme\", \"science\", \"scientific\", \"scientist\", \"score\", \"screen\", \"scsi\", \"season\", \"seat\", \"seat\", \"secret\", \"section\", \"secure\", \"security\", \"see\", \"see\", \"see\", \"select\", \"seller\", \"send\", \"send\", \"send\", \"sense\", \"sensitive\", \"sequence\", \"serious\", \"serious\", \"serious\", \"server\", \"service\", \"service\", \"service\", \"set\", \"set\", \"set\", \"set\", \"set\", \"setup\", \"sex\", \"shall\", \"shall\", \"shape\", \"shell\", \"shipping\", \"shoot\", \"shoot\", \"shot\", \"should\", \"shuttle\", \"sight\", \"signal\", \"sin\", \"single\", \"single\", \"single\", \"single\", \"sink\", \"site\", \"sky\", \"slave\", \"slightly\", \"slip\", \"slow\", \"slow\", \"smoke\", \"society\", \"software\", \"solar\", \"soldier\", \"solution\", \"solution\", \"somehow\", \"son\", \"son\", \"sorry\", \"soul\", \"sound\", \"sound\", \"sound\", \"sound\", \"source\", \"source\", \"source\", \"source\", \"source\", \"source\", \"space\", \"space\", \"space\", \"special\", \"specifically\", \"specification\", \"specifie\", \"specify\", \"speed\", \"speed\", \"sphere\", \"spring\", \"standard\", \"standard\", \"star\", \"stat\", \"state\", \"state\", \"state\", \"state\", \"state\", \"state\", \"state\", \"statement\", \"statistic\", \"status\", \"steal\", \"step\", \"step\", \"stick\", \"still\", \"still\", \"still\", \"still\", \"stock\", \"stop\", \"stop\", \"stop\", \"stop\", \"stop\", \"storage\", \"straightforward\", \"strange\", \"strange\", \"string\", \"struggle\", \"student\", \"student\", \"study\", \"study\", \"study\", \"support\", \"support\", \"support\", \"sure\", \"sure\", \"surgery\", \"surrender\", \"surveillance\", \"switch\", \"syndrome\", \"system\", \"table\", \"table\", \"table\", \"take\", \"take\", \"take\", \"talent\", \"talk\", \"talk\", \"talk\", \"talk\", \"tank\", \"tap\", \"tape\", \"taste\", \"tax\", \"team\", \"technique\", \"technology\", \"technology\", \"telephone\", \"terrorism\", \"terrorist\", \"test\", \"thank\", \"thank\", \"thank\", \"theory\", \"there\", \"therefore\", \"thing\", \"thing\", \"think\", \"think\", \"think\", \"thinking\", \"throw\", \"throw\", \"throw\", \"throw\", \"ticket\", \"tie\", \"time\", \"time\", \"time\", \"time\", \"time\", \"timer\", \"tire\", \"title\", \"today\", \"today\", \"today\", \"today\", \"tomorrow\", \"tongue\", \"tool\", \"topic\", \"town\", \"trace\", \"trade\", \"trade\", \"transfer\", \"translation\", \"travel\", \"treatment\", \"trial\", \"truck\", \"true\", \"true\", \"trust\", \"truth\", \"try\", \"try\", \"try\", \"tube\", \"tumor\", \"turkish\", \"turn\", \"turn\", \"turn\", \"tv\", \"type\", \"type\", \"type\", \"understand\", \"univ\", \"universe\", \"university\", \"unix\", \"unlikely\", \"unusual\", \"up\", \"update\", \"upgrade\", \"usage\", \"use\", \"use\", \"use\", \"use\", \"user\", \"user\", \"user\", \"user\", \"utility\", \"variable\", \"vat\", \"vehicle\", \"vehicle\", \"velocity\", \"version\", \"version\", \"vertical\", \"victim\", \"video\", \"view\", \"view\", \"view\", \"village\", \"violence\", \"visit\", \"voltage\", \"vote\", \"wait\", \"want\", \"want\", \"war\", \"warning\", \"warrant\", \"waste\", \"watch\", \"watch\", \"water\", \"wave\", \"way\", \"way\", \"way\", \"way\", \"weapon\", \"week\", \"week\", \"weekend\", \"welcome\", \"well\", \"well\", \"well\", \"well\", \"western\", \"white\", \"whole\", \"whole\", \"wide_range\", \"will\", \"win\", \"win\", \"wind\", \"window\", \"wing\", \"winner\", \"wire\", \"wisdom\", \"wise\", \"withdraw\", \"woman\", \"woman\", \"wonder\", \"word\", \"word\", \"word\", \"work\", \"work\", \"work\", \"work\", \"workstation\", \"world\", \"world\", \"world\", \"world\", \"worth\", \"would\", \"would\", \"would\", \"write\", \"write\", \"year\", \"year\", \"year\", \"year\", \"year\", \"year\", \"yesterday\", \"young\"]}, \"R\": 30, \"lambda.step\": 0.01, \"plot.opts\": {\"xlab\": \"PC1\", \"ylab\": \"PC2\"}, \"topic.order\": [14, 8, 18, 6, 10, 7, 20, 9, 19, 2, 13, 3, 17, 11, 4, 15, 5, 12, 1, 16]};\n",
              "\n",
              "function LDAvis_load_lib(url, callback){\n",
              "  var s = document.createElement('script');\n",
              "  s.src = url;\n",
              "  s.async = true;\n",
              "  s.onreadystatechange = s.onload = callback;\n",
              "  s.onerror = function(){console.warn(\"failed to load library \" + url);};\n",
              "  document.getElementsByTagName(\"head\")[0].appendChild(s);\n",
              "}\n",
              "\n",
              "if(typeof(LDAvis) !== \"undefined\"){\n",
              "   // already loaded: just create the visualization\n",
              "   !function(LDAvis){\n",
              "       new LDAvis(\"#\" + \"ldavis_el3921406358283121441951867587\", ldavis_el3921406358283121441951867587_data);\n",
              "   }(LDAvis);\n",
              "}else if(typeof define === \"function\" && define.amd){\n",
              "   // require.js is available: use it to load d3/LDAvis\n",
              "   require.config({paths: {d3: \"https://d3js.org/d3.v5\"}});\n",
              "   require([\"d3\"], function(d3){\n",
              "      window.d3 = d3;\n",
              "      LDAvis_load_lib(\"https://cdn.jsdelivr.net/gh/bmabey/pyLDAvis@3.2.2/pyLDAvis/js/ldavis.v3.0.0.js\", function(){\n",
              "        new LDAvis(\"#\" + \"ldavis_el3921406358283121441951867587\", ldavis_el3921406358283121441951867587_data);\n",
              "      });\n",
              "    });\n",
              "}else{\n",
              "    // require.js not available: dynamically load d3 & LDAvis\n",
              "    LDAvis_load_lib(\"https://d3js.org/d3.v5.js\", function(){\n",
              "         LDAvis_load_lib(\"https://cdn.jsdelivr.net/gh/bmabey/pyLDAvis@3.2.2/pyLDAvis/js/ldavis.v3.0.0.js\", function(){\n",
              "                 new LDAvis(\"#\" + \"ldavis_el3921406358283121441951867587\", ldavis_el3921406358283121441951867587_data);\n",
              "            })\n",
              "         });\n",
              "}\n",
              "</script>"
            ],
            "text/plain": [
              "PreparedData(topic_coordinates=              x         y  topics  cluster       Freq\n",
              "topic                                                \n",
              "13    -0.338785  0.015727       1        1  24.175810\n",
              "7     -0.310562 -0.102069       2        1  15.735833\n",
              "17    -0.229598  0.076681       3        1  12.438688\n",
              "5     -0.141260 -0.192193       4        1   5.439877\n",
              "9     -0.050106  0.253609       5        1   4.779471\n",
              "6     -0.022231  0.286013       6        1   3.871266\n",
              "19     0.021338 -0.011829       7        1   3.288374\n",
              "8      0.040231 -0.001151       8        1   3.248170\n",
              "18    -0.051460 -0.014492       9        1   3.240233\n",
              "1      0.023332 -0.129415      10        1   3.160369\n",
              "12     0.063571  0.065021      11        1   2.905743\n",
              "2      0.114133 -0.004402      12        1   2.659831\n",
              "16     0.055584 -0.140841      13        1   2.353148\n",
              "10     0.111068 -0.040919      14        1   2.167395\n",
              "3      0.126622  0.021171      15        1   2.005308\n",
              "14     0.095816 -0.076092      16        1   1.896412\n",
              "4      0.131634  0.017184      17        1   1.752177\n",
              "11     0.108802  0.029884      18        1   1.743140\n",
              "0      0.121497 -0.036917      19        1   1.633514\n",
              "15     0.130372 -0.014969      20        1   1.505244, topic_info=           Term          Freq         Total Category  logprob  loglift\n",
              "19         line  11974.000000  11974.000000  Default  30.0000  30.0000\n",
              "197       write  10060.000000  10060.000000  Default  29.0000  29.0000\n",
              "174       would  12046.000000  12046.000000  Default  28.0000  28.0000\n",
              "139      people   5647.000000   5647.000000  Default  27.0000  27.0000\n",
              "177     article   6479.000000   6479.000000  Default  26.0000  26.0000\n",
              "...         ...           ...           ...      ...      ...      ...\n",
              "3369       seat    121.922305    145.119626  Topic20  -4.9374   4.0220\n",
              "756    purchase    167.433180    311.138771  Topic20  -4.6202   3.5766\n",
              "521        lead    254.313577    862.156834  Topic20  -4.2022   2.9753\n",
              "205   condition    153.651212    421.655576  Topic20  -4.7061   3.1867\n",
              "989        stop    136.600738    898.805143  Topic20  -4.8237   2.3122\n",
              "\n",
              "[946 rows x 6 columns], token_table=      Topic      Freq         Term\n",
              "term                              \n",
              "4621      6  0.991801  accelerator\n",
              "1211      6  0.015121       accept\n",
              "1211     10  0.984258       accept\n",
              "81        3  0.007226       access\n",
              "81        6  0.384790       access\n",
              "...     ...       ...          ...\n",
              "40        8  0.006502         year\n",
              "40        9  0.371738         year\n",
              "40       16  0.003110         year\n",
              "720       9  0.990633    yesterday\n",
              "570      14  0.998661        young\n",
              "\n",
              "[1425 rows x 3 columns], R=30, lambda_step=0.01, plot_opts={'xlab': 'PC1', 'ylab': 'PC2'}, topic_order=[14, 8, 18, 6, 10, 7, 20, 9, 19, 2, 13, 3, 17, 11, 4, 15, 5, 12, 1, 16])"
            ]
          },
          "metadata": {
            "tags": []
          },
          "execution_count": 19
        }
      ]
    },
    {
      "cell_type": "code",
      "metadata": {
        "id": "n1DRyS4jZ5vS"
      },
      "source": [
        ""
      ],
      "execution_count": null,
      "outputs": []
    },
    {
      "cell_type": "code",
      "metadata": {
        "id": "Tj6sBBZ8Z5vd"
      },
      "source": [
        ""
      ],
      "execution_count": null,
      "outputs": []
    },
    {
      "cell_type": "code",
      "metadata": {
        "id": "4m7ijUy0Z5vi"
      },
      "source": [
        ""
      ],
      "execution_count": null,
      "outputs": []
    },
    {
      "cell_type": "code",
      "metadata": {
        "id": "z9eR8RCiZ5vn"
      },
      "source": [
        ""
      ],
      "execution_count": null,
      "outputs": []
    },
    {
      "cell_type": "code",
      "metadata": {
        "id": "iEWPiZpSZ5vs"
      },
      "source": [
        ""
      ],
      "execution_count": null,
      "outputs": []
    },
    {
      "cell_type": "code",
      "metadata": {
        "id": "uXtnJf23Z5vy"
      },
      "source": [
        ""
      ],
      "execution_count": null,
      "outputs": []
    },
    {
      "cell_type": "code",
      "metadata": {
        "id": "uRYQkBJNZ5v5"
      },
      "source": [
        ""
      ],
      "execution_count": null,
      "outputs": []
    },
    {
      "cell_type": "code",
      "metadata": {
        "id": "rAyLfgdNZ5wH"
      },
      "source": [
        ""
      ],
      "execution_count": null,
      "outputs": []
    },
    {
      "cell_type": "markdown",
      "metadata": {
        "id": "xV7iZS8QZ5wO"
      },
      "source": [
        "# LDA Mallet Model\n",
        "\n",
        "You can achive better performance with LDA Mallet model"
      ]
    },
    {
      "cell_type": "code",
      "metadata": {
        "id": "zhVIk9wmZ5wS"
      },
      "source": [
        "# Download File: http://mallet.cs.umass.edu/dist/mallet-2.0.8.zip\n",
        "mallet_path = r\"D:\\AI\\jpmc_mumbai\\mallet-2.0.8\\mallet-2.0.8\\bin\\mallet\" # update this path\n",
        "ldamallet = gensim.models.wrappers.LdaMallet(mallet_path, corpus=corpus, num_topics=20, id2word=dictionary)\n"
      ],
      "execution_count": null,
      "outputs": []
    },
    {
      "cell_type": "code",
      "metadata": {
        "id": "s7DIhTKPZ5wc"
      },
      "source": [
        "# Show Topics\n",
        "print(ldamallet.show_topics(formatted=False))\n",
        "\n",
        "# Compute Coherence Score\n",
        "coherence_model_ldamallet = CoherenceModel(model=ldamallet, texts=data_lemmatized, dictionary=id2word, coherence='c_v')\n",
        "coherence_ldamallet = coherence_model_ldamallet.get_coherence()\n",
        "print('\\nCoherence Score: ', coherence_ldamallet)"
      ],
      "execution_count": null,
      "outputs": []
    },
    {
      "cell_type": "markdown",
      "metadata": {
        "id": "rGK9RAoeZ5wi"
      },
      "source": [
        "# finding the optimal number of topics for LDA?"
      ]
    },
    {
      "cell_type": "markdown",
      "metadata": {
        "id": "0Nd5-om2Z5wk"
      },
      "source": [
        "Choosing a ‘k’ that marks the end of a rapid growth of topic coherence usually offers meaningful and interpretable topics. Picking an even higher value can sometimes provide more granular sub-topics.\n",
        "\n",
        "If you see the same keywords being repeated in multiple topics, it’s probably a sign that the ‘k’ is too large."
      ]
    },
    {
      "cell_type": "code",
      "metadata": {
        "id": "ev0WG3yWZ5wm"
      },
      "source": [
        "def compute_coherence_values(dictionary, corpus, texts, limit, start=2, step=3):\n",
        "    \"\"\"\n",
        "    Compute c_v coherence for various number of topics\n",
        "\n",
        "    Parameters:\n",
        "    ----------\n",
        "    dictionary : Gensim dictionary\n",
        "    corpus : Gensim corpus\n",
        "    texts : List of input texts\n",
        "    limit : Max num of topics\n",
        "\n",
        "    Returns:\n",
        "    -------\n",
        "    model_list : List of LDA topic models\n",
        "    coherence_values : Coherence values corresponding to the LDA model with respective number of topics\n",
        "    \"\"\"\n",
        "    coherence_values = []\n",
        "    model_list = []\n",
        "    for num_topics in range(start, limit, step):\n",
        "        model = gensim.models.wrappers.LdaMallet(mallet_path, corpus=corpus, num_topics=num_topics, id2word=dictionary)\n",
        "        model_list.append(model)\n",
        "        coherencemodel = CoherenceModel(model=model, texts=texts, dictionary=dictionary, coherence='c_v')\n",
        "        coherence_values.append(coherencemodel.get_coherence())\n",
        "\n",
        "    return model_list, coherence_values"
      ],
      "execution_count": null,
      "outputs": []
    },
    {
      "cell_type": "code",
      "metadata": {
        "id": "YlpUXDMaZ5w7"
      },
      "source": [
        "# Can take a long time to run.\n",
        "model_list, coherence_values = compute_coherence_values(dictionary=dictionary, corpus=corpus, texts=data_lemmatized, start=2, limit=40, step=6)"
      ],
      "execution_count": null,
      "outputs": []
    },
    {
      "cell_type": "code",
      "metadata": {
        "id": "XbRHohIzZ5xB"
      },
      "source": [
        "# Show graph\n",
        "limit=40; start=2; step=6;\n",
        "x = range(start, limit, step)\n",
        "plt.plot(x, coherence_values)\n",
        "plt.xlabel(\"Num Topics\")\n",
        "plt.ylabel(\"Coherence score\")\n",
        "plt.legend((\"coherence_values\"), loc='best')\n",
        "plt.show()"
      ],
      "execution_count": null,
      "outputs": []
    },
    {
      "cell_type": "code",
      "metadata": {
        "id": "ml5LufiGZ5xG"
      },
      "source": [
        ""
      ],
      "execution_count": null,
      "outputs": []
    }
  ]
}