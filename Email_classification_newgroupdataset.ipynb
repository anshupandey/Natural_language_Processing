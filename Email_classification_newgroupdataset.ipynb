{
  "nbformat": 4,
  "nbformat_minor": 0,
  "metadata": {
    "colab": {
      "name": "Email_classification_newgroupdataset.ipynb",
      "provenance": [],
      "authorship_tag": "ABX9TyPPXDFkGEw/1wpAAbDShaPg",
      "include_colab_link": true
    },
    "kernelspec": {
      "name": "python3",
      "display_name": "Python 3"
    }
  },
  "cells": [
    {
      "cell_type": "markdown",
      "metadata": {
        "id": "view-in-github",
        "colab_type": "text"
      },
      "source": [
        "<a href=\"https://colab.research.google.com/github/anshupandey/natural_language_processing/blob/master/Email_classification_newgroupdataset.ipynb\" target=\"_parent\"><img src=\"https://colab.research.google.com/assets/colab-badge.svg\" alt=\"Open In Colab\"/></a>"
      ]
    },
    {
      "cell_type": "code",
      "metadata": {
        "id": "q_JArgHhbWcz",
        "colab_type": "code",
        "colab": {}
      },
      "source": [
        "import re\n",
        "from sklearn import datasets\n",
        "from sklearn.feature_extraction.text import TfidfVectorizer\n",
        "from sklearn.naive_bayes import MultinomialNB"
      ],
      "execution_count": 0,
      "outputs": []
    },
    {
      "cell_type": "code",
      "metadata": {
        "id": "6EhVEHiXbmxz",
        "colab_type": "code",
        "outputId": "6a5048be-5cb1-46aa-b0c2-20728ccf8f69",
        "colab": {
          "base_uri": "https://localhost:8080/",
          "height": 84
        }
      },
      "source": [
        "traindata = datasets.fetch_20newsgroups()\n",
        "x = traindata.data\n",
        "y = traindata.target\n",
        "class_names = traindata.target_names\n",
        "print(len(x))\n",
        "print(len(y))"
      ],
      "execution_count": 0,
      "outputs": [
        {
          "output_type": "stream",
          "text": [
            "Downloading 20news dataset. This may take a few minutes.\n",
            "Downloading dataset from https://ndownloader.figshare.com/files/5975967 (14 MB)\n"
          ],
          "name": "stderr"
        },
        {
          "output_type": "stream",
          "text": [
            "11314\n",
            "11314\n"
          ],
          "name": "stdout"
        }
      ]
    },
    {
      "cell_type": "code",
      "metadata": {
        "id": "bchh9HyVcBgR",
        "colab_type": "code",
        "outputId": "552e743c-df32-41aa-a53f-ccf1497dc06f",
        "colab": {
          "base_uri": "https://localhost:8080/",
          "height": 353
        }
      },
      "source": [
        "# we have data/emails belonging to 20 categories\n",
        "class_names"
      ],
      "execution_count": 0,
      "outputs": [
        {
          "output_type": "execute_result",
          "data": {
            "text/plain": [
              "['alt.atheism',\n",
              " 'comp.graphics',\n",
              " 'comp.os.ms-windows.misc',\n",
              " 'comp.sys.ibm.pc.hardware',\n",
              " 'comp.sys.mac.hardware',\n",
              " 'comp.windows.x',\n",
              " 'misc.forsale',\n",
              " 'rec.autos',\n",
              " 'rec.motorcycles',\n",
              " 'rec.sport.baseball',\n",
              " 'rec.sport.hockey',\n",
              " 'sci.crypt',\n",
              " 'sci.electronics',\n",
              " 'sci.med',\n",
              " 'sci.space',\n",
              " 'soc.religion.christian',\n",
              " 'talk.politics.guns',\n",
              " 'talk.politics.mideast',\n",
              " 'talk.politics.misc',\n",
              " 'talk.religion.misc']"
            ]
          },
          "metadata": {
            "tags": []
          },
          "execution_count": 4
        }
      ]
    },
    {
      "cell_type": "code",
      "metadata": {
        "id": "mwr4FwUGcSA0",
        "colab_type": "code",
        "outputId": "41cc9ca8-df40-4875-f722-593978464b74",
        "colab": {
          "base_uri": "https://localhost:8080/",
          "height": 286
        }
      },
      "source": [
        "print(x[1000])"
      ],
      "execution_count": 0,
      "outputs": [
        {
          "output_type": "stream",
          "text": [
            "From: dabl2@nlm.nih.gov (Don A.B. Lindbergh)\n",
            "Subject: Diamond SS24X, Win 3.1, Mouse cursor\n",
            "Organization: National Library of Medicine\n",
            "Lines: 10\n",
            "\n",
            "\n",
            "Anybody seen mouse cursor distortion running the Diamond 1024x768x256 driver?\n",
            "Sorry, don't know the version of the driver (no indication in the menus) but it's a recently\n",
            "delivered Gateway system.  Am going to try the latest drivers from Diamond BBS but wondered\n",
            "if anyone else had seen this.\n",
            "\n",
            "post or email\n",
            "\n",
            "--Don Lindbergh\n",
            "dabl2@lhc.nlm.nih.gov\n",
            "\n"
          ],
          "name": "stdout"
        }
      ]
    },
    {
      "cell_type": "code",
      "metadata": {
        "id": "W7KCSalucU06",
        "colab_type": "code",
        "outputId": "6b3e1bdb-7093-4817-ea22-09d32519571e",
        "colab": {
          "base_uri": "https://localhost:8080/",
          "height": 50
        }
      },
      "source": [
        "print(y[10000])\n",
        "print(class_names[y[10000]])"
      ],
      "execution_count": 0,
      "outputs": [
        {
          "output_type": "stream",
          "text": [
            "7\n",
            "rec.autos\n"
          ],
          "name": "stdout"
        }
      ]
    },
    {
      "cell_type": "code",
      "metadata": {
        "id": "Wr2wrP97cx-I",
        "colab_type": "code",
        "outputId": "9c860e54-c65e-419e-90e0-7d7fb18b877e",
        "colab": {
          "base_uri": "https://localhost:8080/",
          "height": 50
        }
      },
      "source": [
        "print(len(x))\n",
        "print(len(y))"
      ],
      "execution_count": 0,
      "outputs": [
        {
          "output_type": "stream",
          "text": [
            "11314\n",
            "11314\n"
          ],
          "name": "stdout"
        }
      ]
    },
    {
      "cell_type": "code",
      "metadata": {
        "id": "xya6FVtDgLr5",
        "colab_type": "code",
        "colab": {}
      },
      "source": [
        ""
      ],
      "execution_count": 0,
      "outputs": []
    },
    {
      "cell_type": "code",
      "metadata": {
        "id": "Hfu3fQpFgLc8",
        "colab_type": "code",
        "colab": {}
      },
      "source": [
        "for i in range(len(x)):\n",
        "  doc = x[i]\n",
        "  doc = re.sub(\"[a-zA-Z0-9._]+@[a-zA-Z0-9._]+\",\"\",doc) # to remove all email ids\n",
        "  doc = re.sub(\"[0-9]+\",\"\",doc) # removing tokens having numbers\n",
        "  doc = re.sub(\"_\",\"\",doc)\n",
        "  x[i] = doc"
      ],
      "execution_count": 0,
      "outputs": []
    },
    {
      "cell_type": "code",
      "metadata": {
        "id": "uMoGXvyhdXEi",
        "colab_type": "code",
        "outputId": "669e555a-4fbd-4461-ca34-20f4e87a92dd",
        "colab": {
          "base_uri": "https://localhost:8080/",
          "height": 134
        }
      },
      "source": [
        "# Text Vectorization - Tfidf\n",
        "\n",
        "tfidf = TfidfVectorizer(lowercase=True,stop_words=\"english\",analyzer=\"word\",min_df=15,max_df=0.95)\n",
        "tfidf.fit(x)"
      ],
      "execution_count": 0,
      "outputs": [
        {
          "output_type": "execute_result",
          "data": {
            "text/plain": [
              "TfidfVectorizer(analyzer='word', binary=False, decode_error='strict',\n",
              "                dtype=<class 'numpy.float64'>, encoding='utf-8',\n",
              "                input='content', lowercase=True, max_df=0.95, max_features=None,\n",
              "                min_df=15, ngram_range=(1, 1), norm='l2', preprocessor=None,\n",
              "                smooth_idf=True, stop_words='english', strip_accents=None,\n",
              "                sublinear_tf=False, token_pattern='(?u)\\\\b\\\\w\\\\w+\\\\b',\n",
              "                tokenizer=None, use_idf=True, vocabulary=None)"
            ]
          },
          "metadata": {
            "tags": []
          },
          "execution_count": 38
        }
      ]
    },
    {
      "cell_type": "code",
      "metadata": {
        "id": "KrclZmbmepwL",
        "colab_type": "code",
        "outputId": "f9375c01-1ab0-4bf9-f56e-58f1df824d58",
        "colab": {
          "base_uri": "https://localhost:8080/",
          "height": 34
        }
      },
      "source": [
        "print(len(tfidf.get_feature_names()))"
      ],
      "execution_count": 0,
      "outputs": [
        {
          "output_type": "stream",
          "text": [
            "9799\n"
          ],
          "name": "stdout"
        }
      ]
    },
    {
      "cell_type": "code",
      "metadata": {
        "id": "4yNBZuHPevVH",
        "colab_type": "code",
        "outputId": "c2e7e173-bdf9-4c4f-9762-2a151a2697f8",
        "colab": {
          "base_uri": "https://localhost:8080/",
          "height": 54
        }
      },
      "source": [
        "print(tfidf.get_feature_names())"
      ],
      "execution_count": 0,
      "outputs": [
        {
          "output_type": "stream",
          "text": [
            "['aa', 'aaa', 'aaron', 'ab', 'abandon', 'abandoned', 'abc', 'abiding', 'abilities', 'ability', 'able', 'abolish', 'abolished', 'abort', 'abortion', 'abpsoft', 'abraham', 'abroad', 'abs', 'absence', 'absent', 'absolute', 'absolutely', 'absolutes', 'abstract', 'absurd', 'absurdities', 'absurdity', 'abu', 'abuse', 'abused', 'abuses', 'ac', 'acad', 'academia', 'academic', 'academy', 'accelerate', 'accelerated', 'acceleration', 'accelerator', 'accelerators', 'accept', 'acceptable', 'acceptance', 'accepted', 'accepting', 'accepts', 'access', 'accessed', 'accessible', 'accessories', 'accident', 'accidental', 'accidentally', 'accidents', 'accommodate', 'accomodate', 'accompanied', 'accompanying', 'accomplish', 'accomplished', 'accord', 'accordance', 'according', 'account', 'accountable', 'accounting', 'accounts', 'accuracy', 'accurate', 'accurately', 'accusation', 'accusations', 'accuse', 'accused', 'ace', 'achieve', 'achieved', 'acid', 'acker', 'acknowledge', 'acknowledged', 'aclu', 'acm', 'acns', 'acquire', 'acquired', 'acquiring', 'acquisition', 'acs', 'acsu', 'act', 'acted', 'acting', 'action', 'actions', 'activated', 'active', 'actively', 'activists', 'activities', 'activity', 'acts', 'actual', 'actually', 'acute', 'ad', 'adam', 'adams', 'adaptec', 'adapted', 'adapter', 'adapters', 'adaptor', 'adb', 'adc', 'add', 'added', 'adding', 'addition', 'additional', 'additionally', 'additions', 'additive', 'address', 'addressed', 'addresses', 'addressing', 'adds', 'adequate', 'adequately', 'adjust', 'adjustable', 'adjusted', 'adjusting', 'adjustment', 'adl', 'admin', 'administration', 'administrative', 'administrator', 'admission', 'admissions', 'admit', 'admits', 'admitted', 'admittedly', 'admitting', 'adobe', 'adopt', 'adopted', 'adress', 'adrian', 'ads', 'adult', 'adults', 'advance', 'advanced', 'advancement', 'advances', 'advantage', 'advantages', 'adventures', 'advertise', 'advertised', 'advertising', 'advice', 'advise', 'advised', 'advisory', 'advocate', 'advocates', 'advocating', 'ae', 'aero', 'aerospace', 'af', 'affair', 'affairs', 'affect', 'affected', 'affecting', 'affects', 'affiliated', 'affiliation', 'afford', 'affordable', 'afraid', 'africa', 'african', 'aftermarket', 'afternoon', 'afterward', 'ag', 'age', 'aged', 'agencies', 'agency', 'agenda', 'agent', 'agents', 'ages', 'aggression', 'aggressive', 'agn', 'agnostic', 'agnostics', 'ago', 'agree', 'agreed', 'agreeing', 'agreement', 'agreements', 'agrees', 'agricultural', 'ah', 'ahead', 'ahem', 'ahh', 'ahl', 'ahmed', 'ai', 'aid', 'aided', 'aids', 'aiken', 'aim', 'aimed', 'ain', 'air', 'aircraft', 'airplane', 'airport', 'aix', 'aj', 'ak', 'aka', 'al', 'ala', 'alabama', 'alan', 'alarm', 'alas', 'alaska', 'albany', 'albeit', 'albert', 'alberta', 'albicans', 'albuquerque', 'alcohol', 'alert', 'alex', 'alexander', 'algorithm', 'algorithms', 'ali', 'alias', 'alice', 'alicea', 'alien', 'alignment', 'alike', 'alink', 'alive', 'allah', 'allan', 'allegations', 'alleged', 'allegedly', 'allegheny', 'allen', 'allergic', 'allergy', 'allies', 'allocate', 'allocated', 'allocation', 'allow', 'allowed', 'allowing', 'allows', 'alomar', 'alot', 'alpha', 'alright', 'alt', 'alter', 'altered', 'alternate', 'alternative', 'alternatively', 'alternatives', 'altitude', 'alto', 'altogether', 'aluminum', 'alumni', 'alvin', 'ama', 'amanda', 'amateur', 'amazed', 'amazing', 'ambassador', 'ambiguous', 'amd', 'amend', 'amendment', 'amendments', 'america', 'american', 'americans', 'ames', 'amherst', 'ami', 'amiga', 'amin', 'amino', 'ammo', 'ammunition', 'amounts', 'amour', 'amp', 'ample', 'amplifier', 'amps', 'amsterdam', 'amusing', 'amx', 'analog', 'analogous', 'analogy', 'analysis', 'analyst', 'analyze', 'anarchy', 'anas', 'anatolia', 'ancestors', 'ancient', 'anderson', 'andi', 'andre', 'andreas', 'andrew', 'andy', 'anecdotal', 'anecdote', 'angel', 'angeles', 'angels', 'anger', 'angle', 'angles', 'angry', 'animal', 'animals', 'animated', 'animation', 'ankara', 'ann', 'anna', 'anne', 'anniversary', 'announce', 'announced', 'announcement', 'announcements', 'announcer', 'announcers', 'announcing', 'annoy', 'annoyed', 'annoying', 'annual', 'anon', 'anonymous', 'ansi', 'answer', 'answered', 'answering', 'answers', 'antenna', 'anthony', 'anti', 'antibiotics', 'antonio', 'anybody', 'anymore', 'anytime', 'anyways', 'ao', 'aol', 'ap', 'apart', 'apartment', 'api', 'apollo', 'apologies', 'apologize', 'apology', 'apostle', 'apostles', 'app', 'apparent', 'apparently', 'appeal', 'appeals', 'appear', 'appearance', 'appeared', 'appearing', 'appears', 'apple', 'apples', 'appletalk', 'applicable', 'application', 'applications', 'applied', 'applies', 'apply', 'applying', 'appointed', 'appointment', 'appreciate', 'appreciated', 'appressian', 'approach', 'approached', 'approaches', 'approaching', 'appropriate', 'approval', 'approve', 'approved', 'approx', 'approximate', 'approximately', 'apps', 'apr', 'april', 'apt', 'ar', 'arab', 'arabia', 'arabic', 'arabs', 'arbitrary', 'arbor', 'arc', 'archie', 'architect', 'architecture', 'architectures', 'archive', 'archived', 'archives', 'area', 'areas', 'aren', 'arena', 'arf', 'argic', 'arguably', 'argue', 'argued', 'arguing', 'argument', 'arguments', 'arise', 'arises', 'arithmetic', 'arizona', 'arkansas', 'arlington', 'arm', 'armed', 'armenia', 'armenian', 'armenians', 'armies', 'armor', 'armored', 'arms', 'army', 'arnold', 'arpa', 'arrange', 'arranged', 'arrangement', 'arras', 'array', 'arrays', 'arrest', 'arrested', 'arrival', 'arrive', 'arrived', 'arriving', 'arrogance', 'arrogant', 'arromdee', 'arrow', 'art', 'arthur', 'article', 'articles', 'artificial', 'artillery', 'artist', 'arts', 'asala', 'asbestos', 'ascii', 'ashamed', 'ashley', 'asia', 'aside', 'ask', 'asked', 'asking', 'asks', 'asleep', 'aspect', 'aspects', 'ass', 'assault', 'assemble', 'assembled', 'assembler', 'assembly', 'assert', 'asserted', 'asserting', 'assertion', 'assertions', 'asserts', 'assess', 'assessment', 'asshole', 'assign', 'assigned', 'assist', 'assistance', 'assistant', 'assisted', 'assists', 'associate', 'associated', 'associates', 'association', 'associations', 'assume', 'assumed', 'assumes', 'assuming', 'assumption', 'assumptions', 'assurance', 'assure', 'assured', 'asteroids', 'astro', 'astronaut', 'astronomical', 'astronomy', 'astrophysics', 'astros', 'asynchronous', 'atari', 'ate', 'atf', 'atheism', 'atheist', 'atheists', 'athena', 'athens', 'ati', 'atlanta', 'atlantic', 'atlas', 'atm', 'atmosphere', 'atmospheric', 'atom', 'atomic', 'atoms', 'atrocities', 'att', 'attach', 'attached', 'attack', 'attacked', 'attacking', 'attacks', 'attempt', 'attempted', 'attempting', 'attempts', 'attend', 'attendance', 'attended', 'attendees', 'attending', 'attention', 'attitude', 'attitudes', 'attorney', 'attractive', 'attribute', 'attributed', 'attributes', 'au', 'audience', 'audio', 'aug', 'august', 'aurora', 'austin', 'australia', 'australian', 'austria', 'authentic', 'authentication', 'author', 'authored', 'authorities', 'authority', 'authorization', 'authorized', 'authors', 'auto', 'autoexec', 'automated', 'automatic', 'automatically', 'automatics', 'automation', 'automobile', 'automobiles', 'automotive', 'autos', 'av', 'avail', 'availability', 'available', 'ave', 'avenue', 'average', 'averages', 'avg', 'aviation', 'aviv', 'avoid', 'avoided', 'avoiding', 'aw', 'awaiting', 'award', 'awarded', 'awards', 'aware', 'awareness', 'away', 'awe', 'awesome', 'awful', 'awfully', 'awhile', 'ax', 'axe', 'axelsson', 'axes', 'axis', 'ay', 'az', 'azerbaijan', 'azerbaijani', 'azerbaijanis', 'azeri', 'azeris', 'ba', 'baalke', 'babies', 'baby', 'babylon', 'bach', 'backed', 'background', 'backgrounds', 'backing', 'backs', 'backup', 'backwards', 'bacteria', 'bad', 'badly', 'baerga', 'bag', 'bags', 'bailey', 'bait', 'baker', 'baku', 'balance', 'balanced', 'baldwin', 'ball', 'ballentine', 'balls', 'baltimore', 'ban', 'band', 'bands', 'bandwidth', 'bang', 'bank', 'banks', 'banned', 'banning', 'baptism', 'baptist', 'bar', 'barbara', 'barbecued', 'bare', 'barely', 'bargain', 'barlow', 'barnes', 'barred', 'barrel', 'barrier', 'barry', 'bars', 'base', 'baseball', 'based', 'basement', 'bases', 'bashing', 'basic', 'basically', 'basil', 'basing', 'basis', 'basketball', 'bass', 'bastard', 'bastards', 'bat', 'batch', 'batf', 'bath', 'bathroom', 'bats', 'batteries', 'battery', 'batting', 'battle', 'baud', 'bay', 'bb', 'bbs', 'bc', 'bd', 'bdi', 'bds', 'beach', 'beam', 'bean', 'bear', 'bearing', 'bears', 'beast', 'beasts', 'beat', 'beaten', 'beating', 'beats', 'beauchaine', 'beautiful', 'beauty', 'beaverton', 'beck', 'becuase', 'bed', 'bedfellow', 'bedford', 'bedroom', 'bee', 'beef', 'beeps', 'beer', 'beg', 'began', 'begin', 'beginner', 'beginning', 'begins', 'begun', 'behalf', 'behanna', 'behave', 'behavior', 'behaviour', 'beings', 'beleive', 'belfour', 'belief', 'beliefs', 'believe', 'believed', 'believer', 'believers', 'believes', 'believing', 'bell', 'bellcore', 'bellovin', 'belong', 'belonging', 'belongs', 'beloved', 'belt', 'ben', 'bench', 'benchmark', 'benchmarks', 'bend', 'benedikt', 'benefit', 'benefits', 'benevolent', 'benjamin', 'bennett', 'bent', 'berkeley', 'berlin', 'bernard', 'bernoulli', 'bernstein', 'berry', 'bertrand', 'best', 'bet', 'beta', 'beth', 'bethesda', 'better', 'betz', 'beware', 'beyer', 'bf', 'bg', 'bh', 'bha', 'bi', 'bias', 'biased', 'bible', 'biblical', 'bibliography', 'bicycle', 'bid', 'big', 'bigger', 'biggest', 'bigots', 'bike', 'biker', 'bikers', 'bikes', 'billboard', 'billion', 'billions', 'bills', 'billy', 'bin', 'binaries', 'binary', 'binding', 'biochemistry', 'biological', 'biology', 'bios', 'bird', 'birds', 'birmingham', 'birth', 'birthday', 'bis', 'bishop', 'bissell', 'bit', 'bite', 'bitmap', 'bitnet', 'bits', 'biz', 'bizarre', 'bj', 'bk', 'black', 'blackhawks', 'blacks', 'blacksburg', 'blackshaw', 'blah', 'blame', 'blamed', 'blaming', 'blank', 'blanket', 'blast', 'blasting', 'blatant', 'blatantly', 'bless', 'blessed', 'blessing', 'blew', 'blind', 'blinded', 'blindly', 'block', 'blocked', 'blocking', 'blocks', 'blood', 'blooded', 'bloody', 'blow', 'blowing', 'blown', 'blows', 'blue', 'blues', 'blurb', 'blvd', 'bm', 'bmp', 'bmw', 'bn', 'bnr', 'bo', 'board', 'boards', 'boat', 'bob', 'bobby', 'bodies', 'bodily', 'body', 'boeing', 'boggs', 'bogus', 'boiling', 'boise', 'bold', 'bolero', 'bolt', 'bomb', 'bombed', 'bombers', 'bombing', 'bombs', 'bond', 'bonds', 'bone', 'bones', 'bontchev', 'bonus', 'book', 'books', 'bookstore', 'boom', 'boomer', 'boost', 'booster', 'boot', 'booted', 'booth', 'booting', 'boots', 'border', 'borders', 'bore', 'bored', 'boring', 'borland', 'born', 'borrowed', 'bos', 'bosnia', 'bosnian', 'boss', 'boston', 'bother', 'bothered', 'bothering', 'bothers', 'bottle', 'bottleneck', 'bottles', 'bought', 'boulder', 'boulevard', 'bounce', 'bounced', 'bouncing', 'bound', 'boundaries', 'boundary', 'bout', 'bow', 'bowl', 'bowling', 'bowman', 'box', 'boxes', 'boy', 'boyle', 'boys', 'bp', 'bps', 'bq', 'br', 'brad', 'bradley', 'brady', 'brain', 'brains', 'brake', 'brakes', 'braking', 'branch', 'brand', 'brandeis', 'brands', 'brandt', 'braunschweig', 'brave', 'braves', 'bread', 'break', 'breakdown', 'breaker', 'breaking', 'breaks', 'breath', 'breathing', 'breeding', 'brendan', 'brent', 'brett', 'brewers', 'brian', 'brick', 'bridge', 'bridges', 'brief', 'briefed', 'briefing', 'briefly', 'brigham', 'bright', 'brightness', 'brilliant', 'bring', 'bringing', 'brings', 'brinich', 'bristol', 'britain', 'british', 'broad', 'broadcast', 'brock', 'broke', 'broken', 'bronx', 'brook', 'brookline', 'brooks', 'brother', 'brothers', 'brought', 'broward', 'brown', 'bruce', 'bruins', 'bruno', 'brunswick', 'brush', 'brutal', 'brute', 'bryan', 'bs', 'bsd', 'bt', 'btw', 'bu', 'bubblejet', 'buck', 'bucks', 'buddy', 'budget', 'budgets', 'buf', 'buffalo', 'buffer', 'buffers', 'bug', 'buggy', 'bugs', 'buick', 'build', 'building', 'buildings', 'builds', 'built', 'bulb', 'bulk', 'bull', 'bullet', 'bulletin', 'bullets', 'bullpen', 'bulls', 'bullshit', 'bumper', 'bunch', 'bundled', 'burden', 'bure', 'bureau', 'buried', 'burke', 'burn', 'burnaby', 'burned', 'burning', 'burns', 'burnt', 'burst', 'bury', 'bus', 'buses', 'bush', 'business', 'businesses', 'busted', 'busters', 'busy', 'butler', 'butt', 'button', 'buttons', 'buy', 'buyer', 'buyers', 'buying', 'buys', 'buzz', 'bv', 'bw', 'bx', 'bye', 'byler', 'byte', 'bytes', 'ca', 'cabin', 'cabinet', 'cable', 'cables', 'cache', 'caching', 'cad', 'cage', 'cages', 'cake', 'cal', 'calculate', 'calculated', 'calculating', 'calculation', 'calculations', 'calculator', 'calder', 'calendar', 'calgary', 'caliber', 'calif', 'california', 'called', 'caller', 'calling', 'callison', 'calls', 'calm', 'calmly', 'caltech', 'calvin', 'cam', 'cambridge', 'came', 'camel', 'camera', 'cameras', 'camp', 'campaign', 'campbell', 'camping', 'camps', 'campus', 'canada', 'canadian', 'canadians', 'canadiens', 'canal', 'canberra', 'cancer', 'candida', 'candidate', 'candidates', 'candy', 'canon', 'canucks', 'cap', 'capabilities', 'capability', 'capable', 'capacitor', 'capacity', 'cape', 'capital', 'capitalist', 'capitals', 'caps', 'captain', 'captains', 'capture', 'captured', 'car', 'carbon', 'carbs', 'card', 'carderock', 'cardinal', 'cardinals', 'cards', 'care', 'cared', 'career', 'careful', 'carefully', 'cares', 'carl', 'carleton', 'carlos', 'carlton', 'carnegie', 'carol', 'carolina', 'carpenter', 'carpet', 'carr', 'carried', 'carrier', 'carriers', 'carries', 'carroll', 'carry', 'carrying', 'cars', 'carson', 'carter', 'cartridge', 'cartridges', 'cary', 'case', 'cases', 'casey', 'cash', 'casper', 'cassette', 'cast', 'castro', 'casual', 'casualties', 'cat', 'catalog', 'catch', 'catcher', 'catchers', 'categories', 'category', 'caterpillar', 'catholic', 'catholics', 'cats', 'caucasus', 'caught', 'cause', 'caused', 'causes', 'causing', 'caution', 'cautious', 'cb', 'cbc', 'cbr', 'cbs', 'cbt', 'cc', 'ccw', 'cd', 'cdi', 'cdp', 'cdrom', 'cds', 'cdt', 'ce', 'cease', 'ceased', 'cec', 'ceccarelli', 'celebrate', 'cell', 'cellar', 'cells', 'cellular', 'censors', 'censorship', 'cent', 'centaur', 'center', 'centerline', 'centers', 'central', 'centre', 'centris', 'cents', 'centuries', 'century', 'ceo', 'ceremonial', 'ceremony', 'certain', 'certainly', 'certainty', 'certified', 'cf', 'cfa', 'cg', 'cga', 'ch', 'chain', 'chair', 'chairman', 'challenge', 'challenged', 'challenges', 'chamber', 'chambers', 'champaign', 'champion', 'champions', 'championships', 'champs', 'chan', 'chance', 'chances', 'change', 'changed', 'changes', 'changing', 'channel', 'channels', 'chaos', 'chapel', 'chapter', 'chapters', 'char', 'character', 'characteristic', 'characteristics', 'characterize', 'characterized', 'characters', 'charge', 'charged', 'charges', 'charging', 'charity', 'charles', 'charley', 'charlie', 'charset', 'chart', 'charter', 'chase', 'chastity', 'chatham', 'cheap', 'cheaper', 'cheapest', 'cheaply', 'cheat', 'cheating', 'check', 'checked', 'checking', 'checks', 'cheers', 'chelios', 'chemical', 'chemicals', 'chemistry', 'chen', 'cherry', 'chest', 'chevy', 'chhabra', 'chi', 'chicago', 'chicken', 'chief', 'child', 'children', 'chin', 'china', 'chinese', 'chintan', 'chip', 'chips', 'chipset', 'chocolate', 'choice', 'choices', 'choke', 'choose', 'chooses', 'choosing', 'chopin', 'chord', 'chose', 'chosen', 'chris', 'christ', 'christian', 'christianity', 'christians', 'christmas', 'christopher', 'chronic', 'chrysler', 'chuck', 'church', 'churches', 'churchill', 'ci', 'cia', 'cica', 'cigarettes', 'cincinnati', 'cipher', 'ciphertext', 'cipriani', 'circa', 'circle', 'circles', 'circuit', 'circuitry', 'circuits', 'circular', 'circumstances', 'cirrus', 'cis', 'cite', 'cited', 'cites', 'cities', 'citing', 'citizen', 'citizens', 'citizenship', 'city', 'civic', 'civil', 'civilian', 'civilians', 'civilization', 'civilized', 'cj', 'ck', 'cl', 'claim', 'claimed', 'claiming', 'claims', 'claire', 'clara', 'claremont', 'clarification', 'clarify', 'clarinet', 'clark', 'clarke', 'clarkson', 'class', 'classes', 'classic', 'classical', 'classified', 'clause', 'clayton', 'clean', 'cleaned', 'cleaner', 'cleaning', 'cleansing', 'clear', 'clearance', 'cleared', 'clearer', 'clearly', 'clemens', 'clements', 'cleveland', 'clever', 'clh', 'click', 'clicks', 'client', 'clients', 'cliff', 'clinic', 'clinical', 'clinton', 'clip', 'clipper', 'clipping', 'clips', 'clock', 'clockwise', 'clone', 'clones', 'close', 'closed', 'closely', 'closer', 'closes', 'closest', 'closet', 'closing', 'cloth', 'clothes', 'clothing', 'cloud', 'clouds', 'club', 'clubs', 'clue', 'clues', 'cluster', 'clutch', 'cm', 'cmos', 'cmu', 'cn', 'cnn', 'coach', 'coaches', 'coaching', 'coalition', 'coast', 'coat', 'coated', 'cobb', 'cobra', 'cocaine', 'cochran', 'cod', 'code', 'coded', 'codes', 'coding', 'coffee', 'coffey', 'cohen', 'coherent', 'coincidence', 'col', 'cold', 'cole', 'coleman', 'colin', 'collaboration', 'collapse', 'colleague', 'colleagues', 'collect', 'collected', 'collecting', 'collection', 'collections', 'collective', 'college', 'collins', 'collision', 'colonies', 'color', 'colorado', 'colored', 'colormap', 'colormaps', 'colors', 'colostate', 'colour', 'colours', 'colt', 'columbia', 'columbus', 'column', 'columns', 'com', 'combat', 'combination', 'combinations', 'combine', 'combined', 'combo', 'come', 'comes', 'comet', 'comfort', 'comfortable', 'comics', 'coming', 'comm', 'command', 'commanded', 'commander', 'commandment', 'commandments', 'commands', 'comment', 'commentary', 'commented', 'comments', 'commerce', 'commercial', 'commercially', 'commercials', 'commission', 'commissioner', 'commit', 'commited', 'commitment', 'committed', 'committee', 'committing', 'common', 'commonly', 'commonwealth', 'communicate', 'communication', 'communications', 'communion', 'communism', 'communist', 'communities', 'community', 'comp', 'compact', 'companies', 'companion', 'company', 'compaq', 'comparable', 'comparative', 'compare', 'compared', 'comparing', 'comparison', 'comparisons', 'compartment', 'compassion', 'compatable', 'compatibility', 'compatible', 'compelled', 'compelling', 'compensate', 'compensation', 'compete', 'competent', 'competing', 'competition', 'competitive', 'competitors', 'compilation', 'compile', 'compiled', 'compiler', 'compilers', 'compiling', 'complain', 'complained', 'complaining', 'complains', 'complaint', 'complaints', 'complete', 'completed', 'completely', 'complex', 'complexity', 'compliance', 'complicated', 'comply', 'component', 'components', 'composed', 'composer', 'composite', 'composition', 'compound', 'compounds', 'comprehend', 'comprehensive', 'compress', 'compressed', 'compression', 'comprised', 'compromise', 'compromised', 'compuserve', 'computation', 'computational', 'compute', 'computed', 'computer', 'computers', 'computing', 'concealed', 'conceivable', 'conceived', 'concentrate', 'concentrated', 'concentration', 'concept', 'conception', 'concepts', 'concern', 'concerned', 'concerning', 'concerns', 'concessions', 'concise', 'conclude', 'concluded', 'conclusion', 'conclusions', 'concrete', 'condemn', 'condemnation', 'condemned', 'condemning', 'condition', 'conditioning', 'conditions', 'conduct', 'conducted', 'conducting', 'cone', 'conference', 'conferences', 'confess', 'confidence', 'confident', 'confidential', 'config', 'configuration', 'configurations', 'configure', 'configured', 'confined', 'confirm', 'confirmation', 'confirmed', 'conflict', 'conflicting', 'conflicts', 'confronted', 'confuse', 'confused', 'confuses', 'confusing', 'confusion', 'congress', 'congressional', 'conjoined', 'connect', 'connected', 'connecticut', 'connecting', 'connection', 'connections', 'connector', 'connectors', 'connects', 'conner', 'connor', 'conscience', 'conscious', 'consciousness', 'consecutive', 'consensus', 'consent', 'consequence', 'consequences', 'consequently', 'conservative', 'conservatives', 'consider', 'considerable', 'considerably', 'consideration', 'considerations', 'considered', 'considering', 'considers', 'consisted', 'consistency', 'consistent', 'consistently', 'consisting', 'consists', 'console', 'consortium', 'conspiracy', 'constant', 'constantly', 'constitute', 'constitutes', 'constitution', 'constitutional', 'constraints', 'construct', 'constructed', 'constructing', 'construction', 'consult', 'consultant', 'consultants', 'consulted', 'consulting', 'consume', 'consumed', 'consumer', 'consumers', 'consumption', 'cont', 'contact', 'contacted', 'contacting', 'contacts', 'contain', 'contained', 'containing', 'contains', 'contemporary', 'contend', 'content', 'contention', 'contents', 'contest', 'context', 'continent', 'continental', 'continually', 'continue', 'continued', 'continues', 'continuing', 'continuous', 'continuously', 'contract', 'contracts', 'contradict', 'contradiction', 'contradictions', 'contradictory', 'contradicts', 'contrary', 'contrast', 'contrib', 'contribute', 'contributed', 'contributing', 'contribution', 'contributions', 'contributor', 'contributors', 'control', 'controlled', 'controller', 'controllers', 'controlling', 'controls', 'controversial', 'controversy', 'convenience', 'convenient', 'conveniently', 'convention', 'conventional', 'conversation', 'conversations', 'conversion', 'convert', 'converted', 'converter', 'convertible', 'converting', 'converts', 'convex', 'convicted', 'conviction', 'convictions', 'convince', 'convinced', 'convincing', 'cook', 'cookamunga', 'cooking', 'cool', 'cooling', 'cooper', 'cooperation', 'cooperative', 'coordinate', 'coordinates', 'coordination', 'coordinator', 'cop', 'cope', 'copied', 'copies', 'copper', 'coprocessor', 'cops', 'copy', 'copying', 'copyright', 'copyrighted', 'cor', 'cord', 'cordially', 'cordless', 'core', 'corinthians', 'corn', 'cornell', 'corner', 'corners', 'corolla', 'corp', 'corporate', 'corporation', 'corporations', 'corps', 'corpses', 'correct', 'corrected', 'correction', 'corrections', 'correctly', 'correctness', 'correlation', 'corresponding', 'corresponds', 'corrupt', 'corrupted', 'corruption', 'cos', 'cosmic', 'cosmos', 'cost', 'costing', 'costly', 'costs', 'couldn', 'council', 'counsel', 'count', 'counted', 'counter', 'countersteering', 'countersteeringfaq', 'counting', 'countless', 'countries', 'country', 'counts', 'county', 'couple', 'coupled', 'courage', 'course', 'courses', 'court', 'courtesy', 'courts', 'cousineau', 'covenant', 'cover', 'coverage', 'covered', 'covering', 'covers', 'covington', 'cow', 'cox', 'cp', 'cpr', 'cpu', 'cpus', 'cr', 'crack', 'cracked', 'cracking', 'craft', 'craig', 'cramer', 'crap', 'crary', 'crash', 'crashed', 'crashes', 'crashing', 'crawl', 'cray', 'crazy', 'cream', 'create', 'created', 'creates', 'creating', 'creation', 'creative', 'creator', 'creature', 'credibility', 'credible', 'credit', 'crew', 'cried', 'crime', 'crimes', 'criminal', 'criminals', 'cripple', 'crisis', 'criteria', 'criterion', 'critical', 'criticism', 'criticize', 'critics', 'crooks', 'crop', 'cross', 'crossed', 'crossing', 'crossposted', 'crowd', 'crown', 'crucial', 'crucifixion', 'cruel', 'cruise', 'cruiser', 'crunch', 'cruncher', 'crux', 'cruz', 'crying', 'crypt', 'crypto', 'cryptographic', 'cryptography', 'cryptosystem', 'crystal', 'cs', 'csc', 'csd', 'cse', 'csn', 'ct', 'ctr', 'ctrl', 'cu', 'cube', 'cubic', 'cubs', 'cult', 'cults', 'cultural', 'culture', 'cultures', 'cunixa', 'cunixb', 'cup', 'cupertino', 'cups', 'cure', 'cured', 'curiosity', 'curious', 'current', 'currently', 'curse', 'cursor', 'curt', 'curtis', 'curve', 'curves', 'custom', 'customer', 'customers', 'cut', 'cute', 'cuts', 'cutting', 'cv', 'cview', 'cw', 'cwru', 'cx', 'cy', 'cyberspace', 'cycle', 'cycles', 'cycling', 'cylinder', 'cylinders', 'cynical', 'cyprus', 'cz', 'czech', 'da', 'dad', 'daemon', 'daily', 'daker', 'dakota', 'dal', 'dale', 'dalhousie', 'dallas', 'damage', 'damaged', 'damaging', 'dame', 'dammit', 'damn', 'damnation', 'damned', 'dan', 'dance', 'danger', 'dangerous', 'dangers', 'daniel', 'danny', 'dare', 'darius', 'dariuslecointe', 'dark', 'darkman', 'darkness', 'darn', 'darren', 'darryl', 'dartmouth', 'darwin', 'daryl', 'das', 'dash', 'dat', 'data', 'database', 'databases', 'date', 'dated', 'dates', 'dating', 'daughter', 'dave', 'david', 'davidian', 'davidians', 'davidson', 'davidsson', 'davis', 'dawn', 'dawson', 'day', 'daylight', 'days', 'dayton', 'db', 'dbn', 'dc', 'dcx', 'dd', 'dead', 'deadline', 'deadly', 'deal', 'dealer', 'dealers', 'dealership', 'dealing', 'deals', 'dealt', 'dean', 'dear', 'death', 'deaths', 'debatable', 'debate', 'debating', 'debris', 'debt', 'dec', 'decade', 'decades', 'december', 'decent', 'decide', 'decided', 'decides', 'deciding', 'decipher', 'decision', 'decisions', 'deck', 'declaration', 'declare', 'declared', 'decline', 'declined', 'decnet', 'decode', 'decoder', 'decoding', 'decrease', 'decreased', 'decrypt', 'decrypted', 'decryption', 'decvax', 'dedicated', 'deeds', 'deemed', 'deep', 'deepak', 'deeper', 'deeply', 'deer', 'def', 'default', 'defaults', 'defeat', 'defeated', 'defect', 'defence', 'defend', 'defending', 'defense', 'defenseless', 'defenseman', 'defensemen', 'defensive', 'defensively', 'deficit', 'deficits', 'definately', 'define', 'defined', 'defines', 'defining', 'definite', 'definitely', 'definition', 'definitions', 'definitive', 'degree', 'degrees', 'deity', 'del', 'delaware', 'delay', 'delayed', 'delegation', 'delete', 'deleted', 'deletion', 'deletions', 'deliberate', 'deliberately', 'deliver', 'delivered', 'delivery', 'dell', 'delta', 'deluxe', 'demand', 'demanded', 'demanding', 'demands', 'demers', 'demo', 'democracy', 'democrat', 'democratic', 'democrats', 'demon', 'demonstrate', 'demonstrated', 'demonstrates', 'demonstrating', 'demonstration', 'den', 'denial', 'denied', 'denies', 'denis', 'denmark', 'denning', 'dennis', 'denominations', 'dense', 'density', 'denver', 'deny', 'denying', 'department', 'departments', 'depend', 'dependent', 'depending', 'depends', 'depressed', 'depression', 'deprived', 'dept', 'depth', 'deputy', 'der', 'derby', 'derek', 'derive', 'derived', 'des', 'descent', 'described', 'describes', 'describing', 'description', 'descriptions', 'desert', 'deserts', 'deserve', 'deserved', 'deserves', 'deserving', 'design', 'designated', 'designed', 'designer', 'designers', 'designing', 'designs', 'desirable', 'desire', 'desired', 'desires', 'desk', 'deskjet', 'desktop', 'desperate', 'despite', 'destination', 'destroy', 'destroyed', 'destroying', 'destruction', 'destructive', 'det', 'detailed', 'detailing', 'details', 'detect', 'detected', 'detecting', 'detection', 'detector', 'detectors', 'deter', 'determination', 'determine', 'determined', 'determines', 'determining', 'detroit', 'dev', 'develop', 'developed', 'developer', 'developers', 'developing', 'development', 'developments', 'device', 'devices', 'devil', 'devils', 'devoid', 'devoted', 'df', 'dg', 'dh', 'di', 'diagnose', 'diagnosed', 'diagnosis', 'diagnostic', 'diagnostics', 'diagram', 'diagrams', 'dial', 'dialog', 'dialogue', 'dialup', 'diameter', 'diamond', 'dick', 'dictate', 'dictatorship', 'dictionary', 'did', 'didn', 'die', 'died', 'diego', 'dies', 'diet', 'diff', 'differ', 'difference', 'differences', 'different', 'differential', 'differently', 'differing', 'difficult', 'difficulties', 'difficulty', 'diffie', 'dig', 'digest', 'digex', 'digit', 'digital', 'digitized', 'dignity', 'dillon', 'dim', 'dimension', 'dimensional', 'dimensions', 'dineen', 'dinner', 'dip', 'diplomatic', 'dir', 'direct', 'directed', 'direction', 'directions', 'directive', 'directly', 'director', 'directories', 'directory', 'dirt', 'dirty', 'dis', 'disable', 'disabled', 'disadvantage', 'disagree', 'disagreement', 'disagrees', 'disappear', 'disappeared', 'disappears', 'disappointed', 'disappointment', 'disarmed', 'disarming', 'disaster', 'disc', 'discarded', 'discharge', 'disciples', 'discipline', 'disclaimer', 'disclaimers', 'disclosure', 'discomfort', 'disconnect', 'discount', 'discourage', 'discourse', 'discover', 'discovered', 'discovery', 'discredit', 'discriminate', 'discrimination', 'discuss', 'discussed', 'discusses', 'discussing', 'discussion', 'discussions', 'disease', 'diseases', 'disguised', 'disgusting', 'dish', 'dishonest', 'disk', 'diskette', 'disks', 'dislike', 'dismiss', 'disorder', 'disorders', 'display', 'displayed', 'displaying', 'displays', 'disprove', 'dispute', 'disputed', 'disregard', 'distance', 'distances', 'distant', 'distinct', 'distinction', 'distinctions', 'distinguish', 'distorted', 'distortion', 'distribute', 'distributed', 'distribution', 'distributor', 'district', 'disturbing', 'ditto', 'div', 'diverse', 'divide', 'divided', 'dividian', 'dividing', 'divine', 'divinity', 'division', 'divisions', 'divorce', 'dixon', 'dj', 'dk', 'dl', 'dm', 'dma', 'dn', 'dna', 'doc', 'docs', 'doctor', 'doctors', 'doctrinal', 'doctrine', 'doctrines', 'document', 'documentary', 'documentation', 'documented', 'documents', 'dod', 'dodge', 'dodger', 'dodgers', 'doe', 'does', 'doesn', 'doesnt', 'dog', 'dogma', 'dogs', 'doing', 'dollar', 'dollars', 'domain', 'domestic', 'domi', 'dominance', 'dominant', 'dominate', 'dominated', 'don', 'donald', 'dont', 'doom', 'door', 'doors', 'dorothy', 'dos', 'dose', 'dot', 'double', 'doubt', 'doubts', 'doug', 'douglas', 'download', 'downloaded', 'downtown', 'dozen', 'dozens', 'dp', 'dpi', 'dr', 'draft', 'drafted', 'drafting', 'drag', 'dragged', 'dragging', 'dragon', 'drain', 'drake', 'dram', 'dramatic', 'dramatically', 'drastically', 'draw', 'drawer', 'drawing', 'drawn', 'draws', 'dream', 'dreams', 'dresden', 'dress', 'dressed', 'drew', 'dried', 'drill', 'drink', 'drinking', 'drinks', 'drive', 'drivel', 'driven', 'driver', 'drivers', 'drives', 'driveway', 'driving', 'drop', 'dropped', 'dropping', 'drops', 'drove', 'drug', 'drugs', 'drum', 'drunk', 'drunken', 'drv', 'dry', 'dryden', 'ds', 'dseg', 'dsg', 'dsi', 'dsp', 'dt', 'du', 'dual', 'dubious', 'dublin', 'ducati', 'duck', 'dude', 'duff', 'duh', 'duke', 'dull', 'dumb', 'dumbest', 'dump', 'dumped', 'dumping', 'dunn', 'dunno', 'duo', 'duplicate', 'duration', 'durham', 'dust', 'dutch', 'duties', 'duty', 'dv', 'dwyer', 'dx', 'dy', 'dyer', 'dying', 'dynamic', 'dynamics', 'ea', 'eager', 'eagle', 'ear', 'earl', 'earlier', 'earliest', 'early', 'earn', 'earned', 'ears', 'earth', 'ease', 'easier', 'easiest', 'easily', 'east', 'easter', 'eastern', 'easy', 'eat', 'eaten', 'eating', 'eau', 'eavesdropping', 'ec', 'ece', 'echo', 'echoing', 'eclipse', 'ecn', 'economic', 'economical', 'economically', 'economics', 'economy', 'ecs', 'ed', 'eddie', 'edgar', 'edge', 'edges', 'edinburgh', 'edit', 'edited', 'editing', 'edition', 'editor', 'editorial', 'editors', 'edmonton', 'eds', 'edt', 'edu', 'educate', 'educated', 'education', 'educational', 'edward', 'edwards', 'ee', 'ef', 'eff', 'effect', 'effective', 'effectively', 'effectiveness', 'effects', 'efficiency', 'efficient', 'efficiently', 'effort', 'efforts', 'ega', 'ego', 'egypt', 'egyptian', 'eh', 'ehrlich', 'ei', 'eighth', 'einstein', 'einstien', 'eisa', 'ej', 'ek', 'el', 'elaborate', 'elderly', 'elect', 'elected', 'election', 'elections', 'electric', 'electrical', 'electricity', 'electromagnetic', 'electron', 'electronic', 'electronically', 'electronics', 'element', 'elementary', 'elements', 'elevator', 'eli', 'elias', 'eliminate', 'eliminated', 'eliminating', 'eliot', 'elite', 'elizabeth', 'elm', 'elvis', 'em', 'emacs', 'email', 'embarrassed', 'embedded', 'embrace', 'emerge', 'emergency', 'emerging', 'emerson', 'emm', 'emotional', 'emotionally', 'emotions', 'emphasis', 'emphasize', 'empire', 'empirical', 'employ', 'employed', 'employee', 'employees', 'employer', 'employers', 'employment', 'emulation', 'emulator', 'en', 'enable', 'enabled', 'enables', 'enclosed', 'encoded', 'encoding', 'encounter', 'encountered', 'encounters', 'encourage', 'encouraged', 'encouraging', 'encrypt', 'encrypted', 'encrypting', 'encryption', 'encyclopedia', 'end', 'ended', 'ending', 'endless', 'endorsed', 'ends', 'enemies', 'enemy', 'energy', 'enforce', 'enforced', 'enforcement', 'eng', 'engage', 'engaged', 'engaging', 'engin', 'engine', 'engineer', 'engineered', 'engineering', 'engineers', 'engines', 'england', 'english', 'englishman', 'engr', 'enhance', 'enhanced', 'enhancement', 'enhancements', 'enjoy', 'enjoyed', 'enjoying', 'enjoys', 'enlighten', 'enlightenment', 'enormous', 'ensure', 'enter', 'entered', 'entering', 'enterpoop', 'enterprise', 'enterprises', 'enters', 'entertaining', 'entertainment', 'entire', 'entirely', 'entities', 'entitled', 'entity', 'entrance', 'entries', 'entropy', 'entry', 'envelope', 'environment', 'environmental', 'environmentalism', 'environments', 'eos', 'ep', 'epa', 'episode', 'eq', 'equal', 'equally', 'equation', 'equations', 'equipment', 'equipped', 'equivalent', 'er', 'era', 'ergo', 'eric', 'erich', 'ericsson', 'erik', 'err', 'error', 'errors', 'ers', 'es', 'esa', 'esc', 'escape', 'escaped', 'escrow', 'escrowed', 'esdi', 'esp', 'especially', 'espionage', 'espn', 'essence', 'essential', 'essentially', 'est', 'establish', 'established', 'establishing', 'establishment', 'estate', 'estimate', 'estimated', 'estimates', 'et', 'eternal', 'eternity', 'ether', 'ethernet', 'ethical', 'ethics', 'ethnic', 'eu', 'eugene', 'europe', 'european', 'europeans', 'ev', 'evaluate', 'evaluated', 'evaluation', 'evangelical', 'evans', 'eve', 'evening', 'event', 'events', 'eventually', 'everybody', 'everyday', 'everytime', 'evidence', 'evident', 'evidently', 'evil', 'evolution', 'evolve', 'evolved', 'ex', 'exact', 'exactly', 'examination', 'examine', 'examined', 'examining', 'example', 'examples', 'exceed', 'exceeds', 'excel', 'excellent', 'excepted', 'exception', 'exceptional', 'exceptions', 'excerpts', 'excess', 'excessive', 'exchange', 'excited', 'exciting', 'exclude', 'excluded', 'excluding', 'exclusion', 'exclusive', 'exclusively', 'excuse', 'excuses', 'exe', 'exec', 'executable', 'execute', 'executed', 'executing', 'execution', 'executive', 'exempt', 'exercise', 'exhaust', 'exhibit', 'exist', 'existance', 'existed', 'existence', 'existent', 'existing', 'exists', 'exit', 'exiting', 'exodus', 'exotic', 'expand', 'expanded', 'expanding', 'expansion', 'expect', 'expectations', 'expected', 'expecting', 'expects', 'expenditures', 'expense', 'expenses', 'expensive', 'experience', 'experienced', 'experiences', 'experiencing', 'experiment', 'experimental', 'experiments', 'expert', 'expertise', 'experts', 'expires', 'explain', 'explained', 'explaining', 'explains', 'explanation', 'explanations', 'explicit', 'explicitly', 'explode', 'exploit', 'exploration', 'explore', 'explorer', 'explosion', 'explosive', 'explosives', 'expo', 'export', 'expos', 'expose', 'exposed', 'exposure', 'express', 'expressed', 'expressing', 'expression', 'ext', 'extend', 'extended', 'extension', 'extensions', 'extensive', 'extensively', 'extent', 'exterior', 'exterminated', 'extermination', 'external', 'extra', 'extract', 'extracted', 'extraordinary', 'extras', 'extreme', 'extremely', 'extremist', 'ey', 'eye', 'eyes', 'ez', 'fa', 'face', 'faced', 'faces', 'fachbereich', 'facilitate', 'facilities', 'facility', 'facing', 'fact', 'facto', 'factor', 'factors', 'factory', 'facts', 'factual', 'faculty', 'fade', 'fail', 'failed', 'failing', 'fails', 'failure', 'failures', 'faint', 'fair', 'fairbanks', 'fairly', 'fait', 'faith', 'faithful', 'faiths', 'fake', 'fall', 'fallacy', 'fallen', 'falling', 'falls', 'false', 'fame', 'familiar', 'families', 'family', 'famous', 'fan', 'fanatic', 'fanatics', 'fancy', 'fans', 'fantasies', 'fantastic', 'fantasy', 'faq', 'faqs', 'far', 'farm', 'farther', 'fascinating', 'fascism', 'fascist', 'fashion', 'fast', 'faster', 'fastest', 'fat', 'fatal', 'fate', 'father', 'fathers', 'fatigue', 'fault', 'faulty', 'favor', 'favorable', 'favorite', 'favors', 'favour', 'fax', 'fbi', 'fc', 'fd', 'fda', 'fear', 'feared', 'fears', 'feasible', 'feature', 'featured', 'features', 'feb', 'february', 'fed', 'federal', 'federalist', 'feds', 'fee', 'feed', 'feedback', 'feeding', 'feeds', 'feel', 'feeling', 'feelings', 'feels', 'fees', 'feet', 'felix', 'fell', 'fellow', 'felt', 'female', 'females', 'feminist', 'fence', 'fermi', 'fever', 'fewer', 'ff', 'fg', 'fi', 'fiction', 'fidonet', 'field', 'fielder', 'fielding', 'fields', 'fifth', 'fight', 'fighter', 'fighters', 'fighting', 'figure', 'figured', 'figures', 'figuring', 'file', 'filed', 'filename', 'files', 'filing', 'filled', 'filling', 'fills', 'film', 'films', 'filter', 'filters', 'final', 'finally', 'finals', 'finance', 'financial', 'financially', 'finding', 'findings', 'finds', 'fine', 'finger', 'fingers', 'finish', 'finished', 'finite', 'finland', 'finnish', 'firearm', 'firearms', 'fired', 'fires', 'firing', 'firm', 'firmly', 'firms', 'firstly', 'fischer', 'fish', 'fisher', 'fishing', 'fist', 'fit', 'fits', 'fitting', 'fix', 'fixed', 'fixes', 'fixing', 'fj', 'fl', 'flag', 'flags', 'flame', 'flamed', 'flames', 'flaming', 'flash', 'flashing', 'flat', 'flavor', 'flaw', 'flawed', 'flaws', 'fled', 'flee', 'fleet', 'flesh', 'flew', 'flexible', 'flight', 'flights', 'flip', 'floating', 'flood', 'floor', 'floppies', 'floppy', 'florida', 'flow', 'flowing', 'fluid', 'fluids', 'fluke', 'fly', 'flyers', 'flying', 'fm', 'fnal', 'fo', 'focus', 'fold', 'folk', 'folks', 'follow', 'followed', 'followers', 'following', 'follows', 'followup', 'followups', 'font', 'fonts', 'foo', 'food', 'foods', 'fool', 'fooled', 'foolish', 'fools', 'foot', 'footage', 'football', 'forbidden', 'force', 'forced', 'forces', 'forcing', 'ford', 'forecast', 'foreground', 'foreign', 'foremost', 'forest', 'forever', 'forget', 'forgive', 'forgiven', 'forgiveness', 'forgot', 'forgotten', 'fork', 'form', 'formal', 'formally', 'format', 'formation', 'formats', 'formatted', 'formatting', 'formed', 'forming', 'forms', 'formula', 'forsale', 'fort', 'forth', 'fortran', 'fortunate', 'fortunately', 'fortune', 'forum', 'forward', 'forwarded', 'forwards', 'foster', 'fought', 'foul', 'foundation', 'founded', 'founder', 'founders', 'founding', 'fourth', 'fox', 'fp', 'fps', 'fpu', 'fq', 'fr', 'fractal', 'fraction', 'fraering', 'frame', 'frames', 'framework', 'france', 'franchise', 'francis', 'francisco', 'frank', 'franklin', 'frankly', 'fraser', 'fraud', 'fred', 'frederick', 'free', 'freedom', 'freedoms', 'freely', 'freeman', 'freenet', 'freeware', 'freeway', 'freeze', 'french', 'frequencies', 'frequency', 'frequent', 'frequently', 'fresh', 'freshman', 'fri', 'friday', 'friedman', 'friend', 'friendly', 'friends', 'friendship', 'frightened', 'fringe', 'frog', 'frontier', 'frost', 'frozen', 'fruit', 'fruits', 'frustrated', 'frustrating', 'fs', 'ft', 'ftp', 'fu', 'fuck', 'fucking', 'fuel', 'fuer', 'fuhr', 'fulfill', 'fulfilled', 'fulfillment', 'fuller', 'fully', 'fun', 'function', 'functional', 'functionality', 'functioning', 'functions', 'fund', 'fundamental', 'fundamentalist', 'fundamentalists', 'funded', 'funding', 'funds', 'funny', 'furthermore', 'fuse', 'fusion', 'future', 'fuzzy', 'fw', 'fx', 'fxwg', 'fy', 'fyi', 'ga', 'gabriel', 'gadget', 'gain', 'gained', 'gaining', 'gal', 'galaxy', 'galileo', 'gallagher', 'galley', 'game', 'games', 'gamma', 'gang', 'gangs', 'gap', 'garage', 'garbage', 'garden', 'gardner', 'garrison', 'gary', 'gas', 'gate', 'gatech', 'gates', 'gateway', 'gather', 'gathered', 'gathering', 'gave', 'gay', 'gays', 'gaza', 'gb', 'gc', 'gcc', 'gd', 'ge', 'gear', 'gears', 'gee', 'gems', 'gen', 'gender', 'gene', 'general', 'generally', 'generate', 'generated', 'generates', 'generating', 'generation', 'generations', 'generator', 'generators', 'generic', 'generous', 'genes', 'genesis', 'genetic', 'genetics', 'genie', 'genius', 'geniuses', 'genocide', 'gentile', 'gentiles', 'gentleman', 'gently', 'genuine', 'genuinely', 'geo', 'geoff', 'geoffrey', 'geographic', 'geometry', 'george', 'georgetown', 'georgia', 'gerald', 'gerard', 'german', 'germans', 'germany', 'gerry', 'gets', 'getting', 'gf', 'gfx', 'ghetto', 'ghost', 'gi', 'giant', 'giants', 'gibson', 'gideon', 'gif', 'gifs', 'gift', 'gifts', 'gil', 'gilbert', 'gilmour', 'girl', 'girlfriend', 'girls', 'given', 'gives', 'giving', 'gk', 'gl', 'glad', 'gladly', 'glass', 'glasses', 'gld', 'glen', 'glenn', 'glide', 'global', 'globe', 'glorious', 'glory', 'glove', 'gloves', 'glue', 'glutamate', 'gm', 'gmt', 'gnp', 'gnu', 'goal', 'goalie', 'goalies', 'goals', 'goaltender', 'god', 'goddard', 'goddess', 'gods', 'goes', 'going', 'gold', 'golden', 'golf', 'gone', 'gonna', 'gonzalez', 'good', 'goodness', 'goods', 'gordon', 'gore', 'gorman', 'gosh', 'gospel', 'gospels', 'got', 'gotta', 'gotten', 'gov', 'goverment', 'governing', 'government', 'governmental', 'governments', 'governor', 'govt', 'gp', 'gps', 'gq', 'gr', 'grab', 'grabbed', 'grace', 'grad', 'grade', 'gradual', 'gradually', 'graduate', 'graham', 'grain', 'grammar', 'grand', 'grandfather', 'grant', 'granted', 'grants', 'graph', 'graphic', 'graphical', 'graphics', 'graphs', 'grasp', 'grass', 'grateful', 'grave', 'graves', 'gravity', 'gray', 'grayscale', 'great', 'greater', 'greatest', 'greatly', 'greece', 'greed', 'greek', 'greeks', 'green', 'greenbelt', 'greenberg', 'greetings', 'greg', 'gregg', 'gregmeister', 'gregory', 'grenade', 'grenades', 'gretzky', 'grew', 'grey', 'grid', 'grief', 'grin', 'grip', 'gross', 'ground', 'grounded', 'grounds', 'group', 'groups', 'grow', 'growing', 'grown', 'grows', 'growth', 'grp', 'grubb', 'gs', 'gsfc', 'gt', 'gte', 'gu', 'guarantee', 'guaranteed', 'guarantees', 'guard', 'guday', 'guerilla', 'guess', 'guessed', 'guessing', 'guest', 'gui', 'guidance', 'guide', 'guidelines', 'guides', 'guilt', 'guilty', 'guise', 'guitar', 'gulf', 'gun', 'guns', 'gurus', 'gut', 'guts', 'guy', 'guys', 'gv', 'gw', 'gx', 'ha', 'habit', 'habits', 'habs', 'hack', 'hacker', 'hackers', 'hades', 'hadn', 'haines', 'hair', 'hal', 'halat', 'half', 'halifax', 'hall', 'hallam', 'halves', 'ham', 'hamas', 'hamburg', 'hamer', 'hamilton', 'hammer', 'hampshire', 'hampton', 'hand', 'handbook', 'handed', 'handgun', 'handguns', 'handheld', 'handing', 'handle', 'handled', 'handler', 'handles', 'handling', 'hands', 'handy', 'hang', 'hanging', 'hangs', 'hank', 'hanover', 'hansen', 'happen', 'happened', 'happening', 'happens', 'happier', 'happily', 'happiness', 'happy', 'harassment', 'hard', 'harddisk', 'harder', 'hardly', 'hardware', 'hardy', 'harley', 'harleys', 'harm', 'harmful', 'harmony', 'harold', 'harper', 'harris', 'harry', 'harsh', 'hart', 'hartford', 'harvard', 'harvey', 'hasan', 'hash', 'hasn', 'hassle', 'hat', 'hatcher', 'hate', 'hates', 'hatred', 'hats', 'haven', 'having', 'hawaii', 'hawk', 'hawks', 'hayes', 'hazard', 'hc', 'hcf', 'hci', 'hd', 'hdd', 'head', 'headache', 'headaches', 'headed', 'header', 'headers', 'heading', 'headline', 'headquarters', 'heads', 'heal', 'healed', 'healing', 'health', 'healthy', 'healy', 'hear', 'heard', 'hearing', 'hearings', 'heart', 'hearts', 'heat', 'heater', 'heath', 'heating', 'heaven', 'heavens', 'heavier', 'heavily', 'heavy', 'hebrew', 'hebrews', 'heck', 'heh', 'height', 'heights', 'hela', 'held', 'hell', 'hellman', 'hello', 'helmet', 'helmets', 'help', 'helped', 'helpful', 'helping', 'helps', 'helsinki', 'hendricks', 'hennessy', 'henrik', 'henry', 'hepnet', 'herbert', 'hercules', 'heresy', 'heritage', 'hernandez', 'herndon', 'hernlem', 'hero', 'heroic', 'herring', 'herringshaw', 'het', 'heterosexual', 'hewlett', 'hex', 'hey', 'hezbollah', 'hf', 'hg', 'hi', 'hidden', 'hide', 'hiding', 'hierarchy', 'higgins', 'high', 'higher', 'highest', 'highlights', 'highly', 'highway', 'highways', 'hill', 'hillary', 'hills', 'hint', 'hints', 'hip', 'hire', 'hired', 'historian', 'historians', 'historic', 'historical', 'historically', 'histories', 'history', 'hit', 'hite', 'hitler', 'hits', 'hitter', 'hitters', 'hitting', 'hj', 'hk', 'hl', 'hm', 'hmm', 'hmmm', 'hmmmm', 'hn', 'ho', 'hockey', 'hofferbert', 'hog', 'hold', 'holder', 'holders', 'holding', 'holds', 'hole', 'holes', 'holland', 'hollow', 'holly', 'hollywood', 'holmes', 'holocaust', 'holy', 'home', 'homeland', 'homeopathy', 'homer', 'homers', 'homes', 'homewood', 'homicide', 'homicides', 'homosexual', 'homosexuality', 'homosexuals', 'honda', 'honest', 'honestly', 'honesty', 'hong', 'honor', 'honors', 'hood', 'hook', 'hooked', 'hop', 'hope', 'hoped', 'hopefully', 'hopes', 'hoping', 'hopkins', 'horizon', 'horizontal', 'horizontally', 'horn', 'horne', 'horrible', 'horror', 'horse', 'horsepower', 'horses', 'hose', 'hospital', 'hospitals', 'host', 'hostile', 'hostility', 'hosts', 'hot', 'hotel', 'hour', 'hours', 'house', 'household', 'houses', 'housing', 'houston', 'howard', 'howe', 'howell', 'howland', 'hp', 'hplabs', 'hq', 'hr', 'hrivnak', 'hrs', 'hs', 'hst', 'hsu', 'ht', 'hub', 'hudson', 'huey', 'huge', 'hughes', 'huh', 'hull', 'hulman', 'human', 'humanitarian', 'humanity', 'humans', 'humble', 'humor', 'hundreds', 'hung', 'hunt', 'hunter', 'hunting', 'huntsville', 'hurry', 'hurt', 'hurts', 'husband', 'hussein', 'hut', 'hv', 'hw', 'hydra', 'hype', 'hypocrisy', 'hypocritical', 'hypotheses', 'hypothesis', 'hypothetical', 'hz', 'ia', 'ian', 'ibm', 'ic', 'ice', 'iceland', 'icon', 'icons', 'ics', 'id', 'ida', 'idaho', 'ide', 'idea', 'ideal', 'ideally', 'ideals', 'ideas', 'identical', 'identification', 'identified', 'identify', 'identifying', 'identity', 'ideological', 'ideology', 'idf', 'idiot', 'idiotic', 'idiots', 'idle', 'iff', 'ignite', 'ignition', 'ignorance', 'ignorant', 'ignore', 'ignored', 'ignores', 'ignoring', 'ii', 'iici', 'iii', 'iisi', 'ik', 'il', 'ill', 'illegal', 'illegally', 'illinois', 'illness', 'illusion', 'illustrate', 'illustrated', 'im', 'ima', 'image', 'images', 'imaginary', 'imagination', 'imagine', 'imaging', 'imake', 'imho', 'immaculate', 'immature', 'immediate', 'immediately', 'imminent', 'immoral', 'immune', 'imo', 'impact', 'impacts', 'impaired', 'imperial', 'implement', 'implementation', 'implementations', 'implemented', 'implementing', 'implements', 'implication', 'implications', 'implicit', 'implicitly', 'implied', 'implies', 'imply', 'implying', 'import', 'importance', 'important', 'importantly', 'imported', 'impose', 'imposed', 'impossible', 'impressed', 'impression', 'impressions', 'impressive', 'imprisonment', 'improve', 'improved', 'improvement', 'improvements', 'improving', 'impulse', 'inability', 'inaccurate', 'inadequate', 'inappropriate', 'incapable', 'incentive', 'inch', 'inches', 'incident', 'incidentally', 'incidents', 'inclination', 'inclined', 'include', 'included', 'includes', 'including', 'income', 'incoming', 'incompatible', 'incomplete', 'inconsistent', 'incorporate', 'incorporated', 'incorrect', 'incorrectly', 'increase', 'increased', 'increases', 'increasing', 'increasingly', 'incredible', 'incredibly', 'independence', 'independent', 'independently', 'index', 'india', 'indian', 'indiana', 'indians', 'indicate', 'indicated', 'indicates', 'indicating', 'indication', 'indicator', 'indigo', 'individual', 'individually', 'individuals', 'induced', 'industrial', 'industries', 'industry', 'ineffective', 'inet', 'inevitable', 'inevitably', 'inexpensive', 'inf', 'infallible', 'infamous', 'infant', 'infante', 'infants', 'infection', 'infections', 'infectious', 'infer', 'inferior', 'infield', 'infinite', 'infinitely', 'infinity', 'inflammation', 'inflammatory', 'inflatable', 'inflated', 'influence', 'influenced', 'info', 'inform', 'informatik', 'information', 'informative', 'informed', 'infrastructure', 'ing', 'ingr', 'ingredients', 'inhabitants', 'inherent', 'inherently', 'ini', 'inimitable', 'init', 'initial', 'initially', 'initiated', 'initiative', 'inject', 'injected', 'injection', 'injured', 'injuries', 'injury', 'ink', 'inner', 'inning', 'innings', 'innocence', 'innocent', 'innocents', 'innovative', 'input', 'inputs', 'inquiries', 'inquiry', 'inquisition', 'ins', 'insane', 'insert', 'inserted', 'inside', 'insight', 'insist', 'insisted', 'insisting', 'insists', 'inspection', 'inspired', 'inst', 'install', 'installation', 'installed', 'installing', 'instance', 'instances', 'instant', 'instantly', 'instead', 'institut', 'institute', 'institution', 'institutions', 'instruct', 'instruction', 'instructions', 'instrument', 'instruments', 'insult', 'insulting', 'insults', 'insurance', 'insure', 'insured', 'int', 'intact', 'integer', 'integra', 'integral', 'integrated', 'integration', 'integrity', 'intel', 'intellect', 'intellectual', 'intellectually', 'intelligence', 'intelligent', 'intend', 'intended', 'intends', 'intense', 'intensity', 'intensive', 'intent', 'intention', 'intentional', 'intentionally', 'intentions', 'inter', 'interact', 'interaction', 'interactive', 'intercept', 'intercon', 'interested', 'interesting', 'interestingly', 'interests', 'interface', 'interfaces', 'interfere', 'interference', 'interfering', 'intergraph', 'interior', 'interlaced', 'intermediate', 'intermittent', 'internal', 'internally', 'internals', 'international', 'internet', 'interpret', 'interpretation', 'interpretations', 'interpreted', 'interpreter', 'interpreting', 'interprets', 'interrupt', 'interrupts', 'intersection', 'interstate', 'intervene', 'intervention', 'interview', 'interviewed', 'interviews', 'intrinsically', 'intrinsics', 'intro', 'introduce', 'introduced', 'introduction', 'invade', 'invaded', 'invading', 'invalid', 'invasion', 'invent', 'invented', 'invention', 'invest', 'investigate', 'investigated', 'investigating', 'investigation', 'investigations', 'investigator', 'investigators', 'investment', 'investments', 'investors', 'invisible', 'invitation', 'invite', 'invited', 'invoke', 'invoked', 'involve', 'involved', 'involvement', 'involves', 'involving', 'io', 'iowa', 'ip', 'ipc', 'ipser', 'ipx', 'iq', 'ir', 'ira', 'iran', 'iraq', 'ireland', 'iris', 'iron', 'ironic', 'ironically', 'irony', 'irq', 'irrational', 'irregular', 'irrelevant', 'irs', 'irvine', 'irzr', 'isa', 'isaac', 'isaiah', 'isbn', 'isc', 'islam', 'islamic', 'island', 'islanders', 'islands', 'isles', 'isn', 'iso', 'isolated', 'isolation', 'israel', 'israeli', 'israelis', 'israelites', 'isreal', 'issue', 'issued', 'issues', 'ist', 'istanbul', 'ists', 'isu', 'italian', 'italy', 'itc', 'itchy', 'item', 'items', 'ithaca', 'iu', 'iv', 'ivy', 'ix', 'ja', 'jack', 'jacked', 'jacket', 'jacks', 'jackson', 'jacob', 'jaeger', 'jagr', 'jail', 'jake', 'james', 'jamie', 'jan', 'jane', 'janet', 'january', 'japan', 'japanese', 'jason', 'jay', 'jayne', 'jays', 'jb', 'jc', 'jd', 'je', 'jean', 'jeans', 'jeep', 'jeesus', 'jeff', 'jefferson', 'jeffrey', 'jehovah', 'jeopardy', 'jeremy', 'jerk', 'jerks', 'jerry', 'jersey', 'jerusalem', 'jesse', 'jesus', 'jet', 'jets', 'jew', 'jewish', 'jews', 'jhu', 'jim', 'jimmy', 'jj', 'jn', 'job', 'jobs', 'jockey', 'jody', 'joe', 'joel', 'john', 'johnny', 'johns', 'johnson', 'johnston', 'join', 'joined', 'joining', 'joint', 'joke', 'jokes', 'joking', 'jon', 'jonathan', 'jones', 'jordan', 'jose', 'joseph', 'josh', 'joshua', 'joslin', 'journal', 'journalism', 'journalist', 'journalists', 'journals', 'journey', 'joy', 'joystick', 'joysticks', 'jp', 'jpeg', 'jpl', 'jr', 'js', 'jsc', 'jt', 'jubilee', 'judaism', 'judas', 'judge', 'judged', 'judgement', 'judges', 'judging', 'judgment', 'july', 'jumbo', 'jump', 'jumped', 'jumper', 'jumpers', 'jumping', 'jumps', 'june', 'junior', 'junk', 'jupiter', 'jurisdiction', 'jury', 'just', 'justice', 'justifiable', 'justification', 'justified', 'justifies', 'justify', 'justin', 'jz', 'ka', 'kaldis', 'kansas', 'karabag', 'karabagh', 'karabakh', 'karl', 'kaufman', 'kawasaki', 'kay', 'kb', 'kc', 'ke', 'keen', 'keenan', 'keeper', 'keeping', 'keeps', 'keith', 'keller', 'kelly', 'kelvin', 'ken', 'kendig', 'kennedy', 'kenneth', 'kent', 'kentucky', 'kept', 'kermit', 'kernel', 'kerr', 'kevin', 'key', 'keyboard', 'keyboards', 'keys', 'keyseach', 'keywords', 'kg', 'kgb', 'kh', 'khan', 'khomeini', 'khz', 'kick', 'kicked', 'kicking', 'kid', 'kidding', 'kids', 'kill', 'killed', 'killer', 'killers', 'killing', 'killings', 'kills', 'kim', 'kimball', 'kind', 'kinda', 'kindly', 'kinds', 'king', 'kingdom', 'kingman', 'kings', 'kingston', 'kinsey', 'kipling', 'kirk', 'kiss', 'kit', 'kitchen', 'kits', 'kk', 'kl', 'km', 'kn', 'knee', 'knees', 'knew', 'knife', 'knight', 'knives', 'knock', 'knocked', 'knocking', 'know', 'knowing', 'knowledge', 'knowledgeable', 'knowlege', 'knowles', 'known', 'knows', 'koelln', 'kong', 'koresh', 'koufax', 'kovalev', 'kozierok', 'kp', 'kr', 'kratz', 'krillean', 'ks', 'ksand', 'kt', 'ku', 'kulikauskas', 'kuo', 'kurdish', 'kurds', 'kurt', 'kv', 'kx', 'ky', 'kz', 'la', 'lab', 'label', 'labeled', 'labels', 'labor', 'laboratories', 'laboratory', 'labs', 'lack', 'lacked', 'lacking', 'lacks', 'ladies', 'lady', 'lafontaine', 'laid', 'lake', 'lamb', 'lame', 'lamont', 'lamp', 'lan', 'lance', 'land', 'landed', 'landing', 'lands', 'lane', 'lanes', 'lang', 'langley', 'language', 'languages', 'lap', 'laptop', 'larc', 'large', 'largely', 'larger', 'largest', 'larry', 'las', 'laser', 'laserjet', 'laserwriter', 'lasted', 'lasting', 'lastly', 'late', 'lately', 'later', 'latest', 'latin', 'lau', 'laugh', 'laughed', 'laughing', 'laughter', 'launch', 'launched', 'launcher', 'launchers', 'launches', 'launching', 'laurentian', 'law', 'lawful', 'lawn', 'lawrence', 'laws', 'lawyer', 'lawyers', 'lay', 'layer', 'layers', 'laying', 'layout', 'lazy', 'lb', 'lbs', 'lc', 'lcd', 'lciii', 'lcs', 'ld', 'lds', 'le', 'lead', 'leader', 'leaders', 'leadership', 'leading', 'leads', 'leaf', 'leafs', 'league', 'leagues', 'leak', 'leaks', 'lean', 'leaning', 'leap', 'learn', 'learned', 'learning', 'leather', 'leave', 'leaves', 'leaving', 'lebanese', 'lebanon', 'lecture', 'led', 'lee', 'leech', 'lefebvre', 'left', 'lefty', 'leg', 'legal', 'legality', 'legalization', 'legally', 'legend', 'legislation', 'legislative', 'legitimate', 'legitimately', 'legs', 'lehigh', 'lemieux', 'lemon', 'len', 'length', 'lengthy', 'lens', 'leo', 'leonard', 'lerc', 'les', 'lesser', 'lesson', 'lessons', 'lest', 'let', 'lethal', 'lets', 'letter', 'letters', 'letting', 'level', 'levels', 'lever', 'levine', 'levy', 'lewis', 'lf', 'lg', 'lh', 'li', 'liability', 'liable', 'liar', 'lib', 'liberal', 'liberalizer', 'liberals', 'liberation', 'libertarian', 'libertarians', 'liberties', 'liberty', 'libraries', 'library', 'licence', 'license', 'licensed', 'licenses', 'licensing', 'lie', 'lied', 'lies', 'life', 'lifestyle', 'lifetime', 'lift', 'lifted', 'lifting', 'light', 'lighter', 'lighting', 'lightly', 'lightning', 'lights', 'like', 'liked', 'likelihood', 'likely', 'likes', 'likewise', 'lim', 'limbaugh', 'limit', 'limitation', 'limitations', 'limited', 'limiting', 'limits', 'lin', 'lincoln', 'linda', 'lindros', 'line', 'linear', 'lineup', 'link', 'linked', 'links', 'linus', 'linux', 'lions', 'lips', 'liquid', 'lisa', 'list', 'listed', 'listen', 'listened', 'listening', 'listing', 'lists', 'listserv', 'lit', 'lite', 'liter', 'literal', 'literally', 'literature', 'little', 'liu', 'live', 'lived', 'liver', 'livermore', 'liverpool', 'lives', 'livesey', 'living', 'livingston', 'livni', 'lj', 'lk', 'll', 'llnl', 'lloyd', 'lm', 'lo', 'load', 'loaded', 'loading', 'loads', 'loan', 'lobby', 'lobbying', 'local', 'locally', 'locate', 'located', 'location', 'locations', 'lock', 'locked', 'lockheed', 'locking', 'locks', 'log', 'logic', 'logical', 'logically', 'login', 'logitech', 'logo', 'london', 'lone', 'long', 'longer', 'look', 'looked', 'looking', 'looks', 'loop', 'loops', 'loose', 'lopez', 'lord', 'lords', 'los', 'lose', 'loser', 'losers', 'loses', 'losing', 'loss', 'losses', 'lost', 'lot', 'lots', 'lotsa', 'lotus', 'lou', 'loud', 'louis', 'louisiana', 'louisville', 'lous', 'lousy', 'love', 'loved', 'lovely', 'lover', 'loves', 'loving', 'low', 'lowell', 'lower', 'lowest', 'lp', 'lps', 'lpt', 'lq', 'ls', 'lt', 'lu', 'lucifer', 'luck', 'lucky', 'ludicrous', 'ludwig', 'luis', 'luke', 'lunar', 'lunatic', 'lunch', 'lung', 'lurie', 'lust', 'lustig', 'luther', 'luxury', 'lv', 'lw', 'lx', 'ly', 'lying', 'lyme', 'lynn', 'ma', 'mac', 'macdonald', 'mach', 'machine', 'machines', 'macinnis', 'macintosh', 'mack', 'macro', 'macs', 'mad', 'madam', 'madison', 'madness', 'mag', 'magazine', 'magazines', 'magellan', 'magic', 'magnetic', 'magnitude', 'magnum', 'magnus', 'magnusug', 'mahan', 'mahler', 'mail', 'mailed', 'mailer', 'mailing', 'main', 'maine', 'mainly', 'mainstream', 'maintain', 'maintained', 'maintaining', 'maintains', 'maintenance', 'major', 'majority', 'majors', 'make', 'maker', 'makers', 'makes', 'making', 'malcolm', 'male', 'males', 'man', 'manage', 'managed', 'management', 'manager', 'managers', 'manages', 'managing', 'mandate', 'mandatory', 'manes', 'manhattan', 'manipulate', 'manipulation', 'manitoba', 'mankind', 'manned', 'manner', 'manson', 'mantis', 'manual', 'manually', 'manuals', 'manufacture', 'manufactured', 'manufacturer', 'manufacturers', 'manufactures', 'manufacturing', 'map', 'maple', 'mapped', 'mapping', 'maps', 'mar', 'marc', 'march', 'marcus', 'margin', 'marginal', 'marijuana', 'marine', 'mariners', 'mario', 'mark', 'marked', 'market', 'marketing', 'marketplace', 'markets', 'marks', 'markus', 'marlboro', 'marlins', 'marriage', 'marriages', 'married', 'marry', 'mars', 'marshall', 'mart', 'martin', 'marty', 'marvin', 'mary', 'maryland', 'mas', 'mask', 'masks', 'mason', 'mass', 'massachusetts', 'massacre', 'massacred', 'massacres', 'masses', 'massive', 'massively', 'master', 'masters', 'mat', 'match', 'matches', 'matching', 'material', 'materials', 'math', 'mathematical', 'mathematics', 'mathew', 'matrix', 'mats', 'matt', 'matter', 'matters', 'matthew', 'mattingly', 'mature', 'matyas', 'mau', 'maurice', 'max', 'maximum', 'maxtor', 'maybe', 'maynard', 'mayo', 'mayor', 'mazda', 'mb', 'mc', 'mccall', 'mccarthy', 'mcdonald', 'mcdowell', 'mcgill', 'mcguire', 'mcintyre', 'mclean', 'md', 'meal', 'mean', 'meaning', 'meaningful', 'meaningless', 'meanings', 'means', 'meant', 'meantime', 'measure', 'measured', 'measurement', 'measurements', 'measures', 'measuring', 'meat', 'mechanic', 'mechanical', 'mechanics', 'mechanism', 'mechanisms', 'med', 'media', 'median', 'medical', 'medication', 'medicine', 'medin', 'mediocre', 'medium', 'meet', 'meeting', 'meetings', 'meets', 'meg', 'mega', 'megabyte', 'megs', 'mehl', 'mel', 'melb', 'melbourne', 'melkonian', 'mellon', 'mem', 'member', 'members', 'membership', 'meme', 'memoirs', 'memorial', 'memories', 'memory', 'men', 'mental', 'mentally', 'mention', 'mentioned', 'mentioning', 'mentions', 'menu', 'menus', 'mercedes', 'mercer', 'merchandise', 'merciful', 'mercury', 'mercy', 'mere', 'merely', 'merit', 'merits', 'meritt', 'merrill', 'mess', 'message', 'messages', 'messenger', 'messiah', 'messier', 'met', 'meta', 'metal', 'meter', 'meters', 'methinks', 'method', 'methodology', 'methods', 'metric', 'metro', 'mets', 'metzger', 'mexico', 'meyer', 'mf', 'mfm', 'mg', 'mh', 'mhz', 'mi', 'miami', 'mice', 'michael', 'michigan', 'mickey', 'micro', 'microcomputer', 'microphone', 'microsoft', 'microsystems', 'microwave', 'microwaves', 'mid', 'middle', 'mideast', 'midi', 'midnight', 'midst', 'midway', 'mighty', 'migraine', 'mike', 'mil', 'mild', 'mildly', 'mile', 'mileage', 'miles', 'militarily', 'military', 'militia', 'milk', 'miller', 'million', 'millions', 'milwaukee', 'mime', 'min', 'mind', 'minded', 'minds', 'mines', 'mini', 'minimal', 'minimize', 'minimum', 'mining', 'minister', 'ministry', 'minneapolis', 'minnesota', 'minor', 'minorities', 'minority', 'minors', 'mint', 'minus', 'minute', 'minutes', 'mips', 'miracle', 'miracles', 'mirror', 'mirrors', 'mis', 'misc', 'miscellaneous', 'miserable', 'misleading', 'miss', 'missed', 'missile', 'missiles', 'missing', 'mission', 'missions', 'mississippi', 'missouri', 'mistake', 'mistaken', 'mistakes', 'misunderstand', 'misunderstanding', 'misuse', 'mit', 'mitch', 'mitchell', 'mitre', 'mitsubishi', 'mix', 'mixed', 'mixer', 'mixing', 'mixture', 'mj', 'mk', 'ml', 'mlb', 'mm', 'mn', 'mo', 'moa', 'mob', 'mobile', 'mode', 'model', 'modeling', 'models', 'modem', 'modems', 'moderate', 'moderated', 'moderator', 'modern', 'modes', 'modest', 'modification', 'modifications', 'modified', 'modify', 'module', 'modules', 'mogilny', 'mohammad', 'mohammed', 'molecular', 'molecules', 'molesters', 'molitor', 'mom', 'moment', 'moments', 'momentum', 'mon', 'monash', 'monday', 'money', 'monica', 'monitor', 'monitoring', 'monitors', 'monkey', 'mono', 'monochrome', 'monopoly', 'monster', 'montana', 'month', 'monthly', 'months', 'montreal', 'mood', 'moon', 'moonbase', 'moore', 'moral', 'morality', 'morally', 'morals', 'morgan', 'mormon', 'mormons', 'morning', 'moron', 'morons', 'morris', 'moscow', 'moses', 'moslem', 'moslems', 'moss', 'mot', 'mother', 'motherboard', 'motherboards', 'mothers', 'motif', 'motion', 'motivated', 'motivation', 'motivations', 'motive', 'motives', 'moto', 'motor', 'motorcycle', 'motorcycles', 'motorola', 'motors', 'motss', 'motto', 'mount', 'mountain', 'mountains', 'mounted', 'mounting', 'mouse', 'mouth', 'moved', 'movement', 'movements', 'moves', 'movie', 'movies', 'moving', 'mozumder', 'mp', 'mpg', 'mph', 'mps', 'mq', 'mr', 'mri', 'mrs', 'ms', 'msdos', 'msf', 'msg', 'msstate', 'msu', 'mt', 'mu', 'mudd', 'mueller', 'muenchen', 'multi', 'multimedia', 'multiple', 'multitasking', 'munich', 'murder', 'murdered', 'murderer', 'murderers', 'murdering', 'murders', 'murphy', 'murray', 'muscle', 'muscles', 'museum', 'music', 'muslim', 'muslims', 'mustang', 'mutual', 'mutually', 'mv', 'mvp', 'mw', 'mwm', 'mx', 'myers', 'mykotronx', 'myrto', 'mysteries', 'mysterious', 'mystery', 'mystical', 'myth', 'myths', 'mz', 'na', 'nada', 'nagorno', 'nail', 'naive', 'naked', 'named', 'names', 'naming', 'nanao', 'nancy', 'napalm', 'napoleon', 'narrow', 'nasa', 'nasty', 'nathan', 'nathaniel', 'nation', 'national', 'nationality', 'nations', 'nationwide', 'native', 'natural', 'naturally', 'nature', 'naval', 'navigation', 'navy', 'nay', 'nazi', 'nazis', 'nazism', 'nb', 'nbc', 'nc', 'ncaa', 'ncar', 'ncd', 'ncr', 'ncsu', 'nd', 'ne', 'neal', 'near', 'nearby', 'nearest', 'nearly', 'neat', 'neatly', 'nebraska', 'nec', 'neccessary', 'necessarily', 'necessary', 'necessity', 'neck', 'need', 'needed', 'needing', 'needless', 'needs', 'neely', 'negative', 'neglected', 'negligible', 'negotiable', 'negotiate', 'negotiated', 'negotiating', 'negotiations', 'neighbor', 'neighborhood', 'neighboring', 'neighbors', 'neil', 'nelson', 'neo', 'nerve', 'nerves', 'nervous', 'net', 'netcom', 'netherlands', 'netland', 'netnews', 'nets', 'netters', 'netware', 'network', 'networking', 'networks', 'neutral', 'nevada', 'new', 'newbie', 'newer', 'newest', 'newly', 'newman', 'news', 'newsgroup', 'newsgroups', 'newshost', 'newsletter', 'newspaper', 'newspapers', 'newsreader', 'newton', 'nf', 'ng', 'nh', 'nhl', 'ni', 'nic', 'nice', 'nicely', 'nicholas', 'nicholls', 'nichols', 'nick', 'nickname', 'niels', 'nifty', 'nigel', 'night', 'nightmare', 'nights', 'ninja', 'ninjas', 'nintendo', 'ninth', 'nissan', 'nist', 'nixon', 'nj', 'njxp', 'nl', 'nm', 'nmsu', 'nn', 'nntp', 'noble', 'node', 'nodes', 'noel', 'noise', 'noisy', 'nolan', 'non', 'nonetheless', 'nonsense', 'noon', 'nope', 'nordiques', 'noring', 'norm', 'normal', 'normally', 'norman', 'norris', 'north', 'northeastern', 'northern', 'northwest', 'northwestern', 'norton', 'norway', 'nose', 'notably', 'note', 'noted', 'notes', 'noticable', 'notice', 'noticeable', 'noticed', 'notify', 'noting', 'notion', 'notions', 'notre', 'notwithstanding', 'nov', 'nova', 'novel', 'novell', 'november', 'nowadays', 'nr', 'nra', 'ns', 'nsa', 'nsc', 'nsw', 'nswc', 'nt', 'ntmi', 'ntsc', 'nu', 'nubus', 'nuclear', 'null', 'number', 'numbers', 'numerical', 'numerous', 'nuntius', 'nut', 'nutrition', 'nuts', 'nv', 'nw', 'nwu', 'nx', 'ny', 'nyc', 'nye', 'nyi', 'nyx', 'nz', 'oac', 'oak', 'oakland', 'oates', 'oath', 'ob', 'obedience', 'obey', 'obfuscate', 'obispo', 'object', 'objection', 'objections', 'objective', 'objectively', 'objectives', 'objectivity', 'objects', 'obligated', 'obligation', 'obliged', 'obnoxious', 'obo', 'obp', 'obscure', 'observable', 'observation', 'observations', 'observatory', 'observe', 'observed', 'observer', 'observers', 'observing', 'obsolete', 'obstacles', 'obtain', 'obtained', 'obtaining', 'obvious', 'obviously', 'occasion', 'occasional', 'occasionally', 'occasions', 'occupation', 'occupied', 'occupying', 'occur', 'occured', 'occuring', 'occurred', 'occurs', 'ocean', 'oct', 'october', 'octopus', 'odd', 'odds', 'odometer', 'offence', 'offended', 'offenders', 'offense', 'offensive', 'offer', 'offered', 'offering', 'offers', 'office', 'officer', 'officers', 'offices', 'official', 'officially', 'officials', 'offs', 'offset', 'oft', 'oh', 'ohanus', 'ohio', 'ohm', 'ohms', 'oi', 'oil', 'oilers', 'oit', 'ok', 'okay', 'okcforum', 'oklahoma', 'ol', 'olchowy', 'old', 'older', 'oldest', 'ole', 'oliver', 'olivetti', 'olson', 'olwm', 'om', 'omaha', 'omissions', 'omitted', 'omran', 'ones', 'oneself', 'ongoing', 'online', 'ont', 'ontario', 'oo', 'ooo', 'oops', 'op', 'open', 'opened', 'opener', 'opening', 'openlook', 'openly', 'opens', 'openwindows', 'operate', 'operated', 'operates', 'operating', 'operation', 'operational', 'operations', 'operator', 'operators', 'opinion', 'opinions', 'opponent', 'opponents', 'opportunities', 'opportunity', 'oppose', 'opposed', 'opposing', 'opposite', 'opposition', 'ops', 'optical', 'optilink', 'optimistic', 'option', 'optional', 'options', 'oracle', 'oral', 'orange', 'orbit', 'orbital', 'orbiter', 'orbiting', 'orbits', 'orchid', 'order', 'ordered', 'ordering', 'orders', 'ordinary', 'oregon', 'org', 'organisation', 'organism', 'organisms', 'organizations', 'organize', 'organized', 'organs', 'oriental', 'orientation', 'oriented', 'origin', 'original', 'originally', 'originated', 'originator', 'origins', 'orioles', 'orion', 'orlando', 'orleans', 'orthodox', 'os', 'oscillator', 'osf', 'osrhe', 'osu', 'ot', 'ott', 'ottawa', 'otto', 'ottoman', 'ou', 'ouch', 'ought', 'outcome', 'outer', 'outlaw', 'outlaws', 'outlet', 'outlets', 'outline', 'outlined', 'output', 'outputs', 'outrage', 'outrageous', 'outright', 'outs', 'outside', 'outstanding', 'overall', 'overcome', 'overdrive', 'overhead', 'overlap', 'overly', 'overnight', 'overpass', 'override', 'overseas', 'overtime', 'overview', 'overwhelming', 'ow', 'owned', 'owner', 'owners', 'ownership', 'owning', 'owns', 'ox', 'oxford', 'oxygen', 'oy', 'oz', 'ozone', 'ozzie', 'pa', 'pace', 'pacific', 'pack', 'package', 'packaged', 'packages', 'packaging', 'packard', 'packed', 'packet', 'pad', 'padres', 'pads', 'pagan', 'page', 'pager', 'pages', 'paging', 'paid', 'pain', 'painful', 'painless', 'pains', 'paint', 'painted', 'pair', 'pairs', 'pal', 'palace', 'pale', 'palestine', 'palestinian', 'palestinians', 'palette', 'palm', 'palmer', 'palo', 'pan', 'panasonic', 'panel', 'panels', 'panic', 'panix', 'pants', 'paper', 'paperback', 'papers', 'paperwork', 'par', 'paradise', 'paradox', 'paragraph', 'paragraphs', 'parallel', 'parallels', 'parameter', 'parameters', 'paranoia', 'paranoid', 'paraphrase', 'pardon', 'parent', 'parents', 'paris', 'parity', 'park', 'parked', 'parker', 'parking', 'parks', 'parkway', 'parliament', 'parr', 'parse', 'parsli', 'partial', 'partially', 'participants', 'participate', 'participated', 'participating', 'participation', 'particle', 'particles', 'particular', 'particularly', 'parties', 'partition', 'partly', 'partner', 'partners', 'partnership', 'parts', 'party', 'pas', 'pasadena', 'pascal', 'pass', 'passage', 'passages', 'passed', 'passenger', 'passer', 'passes', 'passing', 'passion', 'passive', 'passover', 'passport', 'password', 'passwords', 'past', 'paste', 'pastor', 'pat', 'patch', 'patches', 'patent', 'patently', 'patents', 'path', 'pathetic', 'pathology', 'paths', 'patience', 'patient', 'patients', 'patrick', 'patrol', 'pattern', 'patterns', 'patton', 'paul', 'pavement', 'pay', 'paying', 'payload', 'payloads', 'payment', 'pays', 'pb', 'pc', 'pcb', 'pcs', 'pcx', 'pd', 'pds', 'pdt', 'pe', 'peace', 'peaceful', 'peak', 'peculiar', 'pedal', 'peer', 'pegasus', 'pem', 'pen', 'penalties', 'penalty', 'pending', 'penguin', 'penguins', 'penn', 'pennant', 'pennsylvania', 'pens', 'pentium', 'people', 'peoples', 'pepper', 'perceive', 'perceived', 'percent', 'percentage', 'percentages', 'perception', 'perfect', 'perfectly', 'perform', 'performance', 'performed', 'performing', 'performs', 'period', 'periodically', 'periods', 'peripheral', 'perish', 'permanent', 'permanently', 'permission', 'permit', 'permits', 'permitted', 'perpetrated', 'perry', 'persecuted', 'persecution', 'persian', 'persistent', 'person', 'personal', 'personality', 'personally', 'personnel', 'persons', 'perspective', 'persuade', 'pertaining', 'pet', 'petaluma', 'pete', 'peter', 'pettefar', 'pex', 'pf', 'pg', 'pgp', 'ph', 'phase', 'phd', 'phds', 'phenomena', 'phenomenon', 'phil', 'philadelphia', 'philip', 'philips', 'phill', 'phillies', 'phillips', 'philly', 'philosopher', 'philosophical', 'philosophy', 'phils', 'phoenix', 'phone', 'phones', 'photo', 'photographs', 'photography', 'photos', 'photoshop', 'phrase', 'phrases', 'physical', 'physically', 'physician', 'physicians', 'physics', 'pi', 'pick', 'picked', 'picking', 'picks', 'pickup', 'picture', 'pictures', 'pie', 'piece', 'pieces', 'pig', 'pilchuck', 'pile', 'pill', 'pilot', 'pilots', 'pin', 'pinch', 'pink', 'pins', 'pioneer', 'pipe', 'pipes', 'pirates', 'pissed', 'pistol', 'pit', 'pitch', 'pitched', 'pitcher', 'pitchers', 'pitching', 'pitt', 'pittsburgh', 'pity', 'pixel', 'pixels', 'pixmap', 'pixmaps', 'pizza', 'pk', 'pl', 'place', 'placebo', 'placed', 'places', 'placing', 'plague', 'plain', 'plains', 'plaintext', 'plan', 'plane', 'planes', 'planet', 'planetary', 'planets', 'planned', 'planning', 'plans', 'plant', 'plants', 'plastic', 'plate', 'plates', 'platform', 'platforms', 'plausible', 'play', 'played', 'player', 'players', 'playing', 'playoff', 'playoffs', 'plays', 'pleasant', 'pleased', 'pleasure', 'plenty', 'plo', 'plot', 'plots', 'plotting', 'plug', 'plugged', 'plugs', 'plus', 'pluto', 'plymouth', 'pm', 'pn', 'po', 'pocket', 'pockets', 'point', 'pointed', 'pointer', 'pointers', 'pointing', 'pointless', 'points', 'poison', 'pole', 'poles', 'police', 'policemen', 'policies', 'policy', 'polish', 'polite', 'political', 'politically', 'politician', 'politicians', 'politics', 'poll', 'polls', 'pollution', 'poly', 'polygon', 'polygons', 'polytechnic', 'pompous', 'pond', 'ponder', 'pool', 'pools', 'poor', 'poorly', 'pop', 'pope', 'popping', 'pops', 'popular', 'popularity', 'population', 'pork', 'porsche', 'port', 'portable', 'portal', 'ported', 'portion', 'portions', 'portland', 'ports', 'pose', 'posed', 'position', 'positioning', 'positions', 'positive', 'positively', 'possess', 'possession', 'possibilities', 'possibility', 'possible', 'possibly', 'post', 'postage', 'postal', 'posted', 'poster', 'posters', 'posting', 'postings', 'posts', 'postscript', 'pot', 'potential', 'potentially', 'potvin', 'pound', 'pounds', 'pour', 'pov', 'poverty', 'powder', 'powell', 'power', 'powerbook', 'powered', 'powerful', 'powerless', 'powerpc', 'powerplay', 'powers', 'pp', 'pr', 'practical', 'practically', 'practice', 'practiced', 'practices', 'practicing', 'praise', 'pray', 'prayer', 'prayers', 'praying', 'pre', 'preach', 'preached', 'preaching', 'precedent', 'precious', 'precise', 'precisely', 'precision', 'predict', 'predicted', 'predicting', 'prediction', 'predictions', 'prefer', 'preferable', 'preferably', 'prefered', 'preference', 'preferences', 'preferred', 'pregnant', 'prejudice', 'preliminary', 'prelude', 'premise', 'premises', 'premium', 'preparation', 'prepare', 'prepared', 'preparing', 'pres', 'prescod', 'prescribed', 'prescription', 'presence', 'present', 'presentation', 'presentations', 'presented', 'presenting', 'presently', 'presents', 'preservation', 'preserve', 'preserved', 'presidency', 'president', 'presidential', 'presidents', 'press', 'pressed', 'pressing', 'pressure', 'pressures', 'presumably', 'presume', 'pretend', 'pretty', 'prevent', 'prevented', 'preventing', 'prevention', 'prevents', 'preview', 'previous', 'previously', 'prey', 'price', 'priced', 'prices', 'pricing', 'pride', 'priest', 'priests', 'primarily', 'primary', 'prime', 'primitive', 'prince', 'princeton', 'principal', 'principle', 'principles', 'print', 'printed', 'printer', 'printers', 'printing', 'prints', 'prior', 'priorities', 'priority', 'prism', 'prison', 'prisoners', 'prisons', 'privacy', 'private', 'privately', 'prize', 'pro', 'probability', 'probable', 'probably', 'probe', 'probert', 'probes', 'problem', 'problems', 'procedure', 'procedures', 'proceed', 'proceeded', 'proceedings', 'process', 'processed', 'processes', 'processing', 'processor', 'processors', 'proclaim', 'proclaimed', 'proclaiming', 'produce', 'produced', 'produces', 'producing', 'product', 'production', 'productive', 'products', 'prof', 'professional', 'professionally', 'professionals', 'professor', 'profile', 'profit', 'profits', 'prog', 'program', 'programmed', 'programmer', 'programmers', 'programming', 'programs', 'progress', 'progressive', 'prohibit', 'prohibited', 'prohibiting', 'prohibition', 'prohibits', 'project', 'projected', 'projection', 'projects', 'prominent', 'promiscuous', 'promise', 'promised', 'promises', 'promising', 'promote', 'promoting', 'prompt', 'promptly', 'prone', 'proof', 'propaganda', 'proper', 'properly', 'properties', 'property', 'prophecies', 'prophecy', 'prophet', 'prophets', 'propoganda', 'proponents', 'proportion', 'proportional', 'proposal', 'proposals', 'propose', 'proposed', 'proposing', 'proposition', 'proprietary', 'propulsion', 'pros', 'prosecution', 'prospect', 'prospects', 'protect', 'protected', 'protecting', 'protection', 'protective', 'protects', 'protein', 'protest', 'protestant', 'protestants', 'protocol', 'protocols', 'proton', 'prototype', 'proud', 'prove', 'proved', 'proven', 'proves', 'provide', 'provided', 'providence', 'provider', 'provides', 'providing', 'province', 'proving', 'provision', 'provisions', 'ps', 'psalm', 'psalms', 'pseudo', 'psi', 'psu', 'psychological', 'psychology', 'pt', 'pts', 'pu', 'pub', 'public', 'publically', 'publication', 'publications', 'publicity', 'publicly', 'publish', 'published', 'publisher', 'publishers', 'publishing', 'puck', 'pull', 'pulled', 'pulling', 'pulse', 'pump', 'pumped', 'pun', 'punish', 'punished', 'punisher', 'punishment', 'purchase', 'purchased', 'purchasing', 'purdue', 'pure', 'purely', 'purpose', 'purposes', 'pursue', 'pursuing', 'pursuit', 'push', 'pushed', 'pushing', 'puts', 'putting', 'puzzle', 'puzzled', 'pw', 'pyramid', 'pyron', 'qa', 'qb', 'qc', 'qd', 'qemm', 'qh', 'qi', 'ql', 'qm', 'qq', 'qs', 'qt', 'qu', 'quack', 'quadra', 'quakers', 'qualcomm', 'qualifications', 'qualified', 'qualify', 'qualities', 'quality', 'quantities', 'quantity', 'quantum', 'quarter', 'quarterly', 'quarters', 'que', 'quebec', 'queen', 'queens', 'queries', 'query', 'quest', 'question', 'questionable', 'questioned', 'questioning', 'questions', 'qui', 'quick', 'quickdraw', 'quicker', 'quickly', 'quicktime', 'quiet', 'quietly', 'quinn', 'quit', 'quite', 'quo', 'quotation', 'quotations', 'quote', 'quoted', 'quotes', 'quoting', 'qur', 'quran', 'qwk', 'qx', 'ra', 'rabbit', 'rabid', 'race', 'races', 'racial', 'racing', 'racism', 'racist', 'rack', 'radar', 'radiation', 'radiator', 'radical', 'radically', 'radio', 'radioactive', 'radios', 'radius', 'rage', 'raid', 'raiders', 'rail', 'rain', 'rainer', 'raining', 'raise', 'raised', 'raises', 'raising', 'raleigh', 'rally', 'ralph', 'ram', 'ran', 'ranch', 'ranck', 'rand', 'randall', 'random', 'randomly', 'randy', 'range', 'ranger', 'rangers', 'ranges', 'ranging', 'rank', 'ranking', 'ranks', 'rape', 'raped', 'rapid', 'rapidly', 'rare', 'rarely', 'rash', 'raster', 'rat', 'rate', 'rated', 'rates', 'rating', 'ratings', 'ratio', 'rational', 'rationale', 'ratios', 'rats', 'rauser', 'ravel', 'raw', 'ray', 'raymond', 'rayssd', 'rb', 'rbi', 'rbis', 'rc', 'rd', 'reach', 'reached', 'reaches', 'reaching', 'react', 'reaction', 'reactions', 'reactor', 'read', 'readable', 'reader', 'readers', 'readily', 'reading', 'readings', 'readme', 'reads', 'ready', 'reagan', 'real', 'realise', 'realistic', 'reality', 'realize', 'realized', 'realizing', 'really', 'realm', 'rear', 'reason', 'reasonable', 'reasonably', 'reasoned', 'reasoning', 'reasons', 'reboot', 'rebound', 'rebuild', 'rebuilt', 'rec', 'recall', 'recchi', 'receive', 'received', 'receiver', 'receivers', 'receives', 'receiving', 'recent', 'recently', 'recieved', 'reckless', 'recognise', 'recognition', 'recognize', 'recognized', 'recognizes', 'recognizing', 'recommend', 'recommendation', 'recommendations', 'recommended', 'reconcile', 'record', 'recorded', 'recorder', 'recording', 'records', 'recover', 'recovered', 'recovery', 'rectangle', 'rectangular', 'red', 'redesign', 'redirect', 'reds', 'reduce', 'reduced', 'reduces', 'reducing', 'reduction', 'redundancy', 'redwood', 'reed', 'ref', 'refer', 'referee', 'reference', 'referenced', 'references', 'refering', 'referred', 'referring', 'refers', 'reflect', 'reflected', 'reflecting', 'reflects', 'reform', 'refrain', 'refresh', 'refuge', 'refugees', 'refusal', 'refuse', 'refused', 'refuses', 'refusing', 'refute', 'reg', 'regard', 'regarded', 'regarding', 'regardless', 'regards', 'regime', 'region', 'regional', 'regions', 'register', 'registered', 'registering', 'registers', 'registration', 'regret', 'regular', 'regularly', 'regulate', 'regulated', 'regulation', 'regulations', 'reich', 'reid', 'reilly', 'reinstall', 'reject', 'rejected', 'rejecting', 'rejection', 'relate', 'related', 'relates', 'relating', 'relation', 'relations', 'relationship', 'relationships', 'relative', 'relatively', 'relatives', 'relativity', 'relay', 'release', 'released', 'releases', 'releasing', 'relevance', 'relevant', 'reliability', 'reliable', 'reliably', 'relief', 'relies', 'religion', 'religions', 'religious', 'reluctant', 'rely', 'relying', 'remain', 'remainder', 'remained', 'remaining', 'remains', 'remark', 'remarkable', 'remarkably', 'remarks', 'remeber', 'remedies', 'remedy', 'remember', 'remembered', 'remind', 'reminded', 'reminder', 'reminds', 'remote', 'remotely', 'removable', 'removal', 'remove', 'removed', 'removing', 'render', 'rendered', 'rendering', 'rene', 'reno', 'rensselaer', 'rent', 'rental', 'rented', 'rep', 'repair', 'repairs', 'repeat', 'repeated', 'repeatedly', 'repeating', 'repent', 'repentance', 'replace', 'replaced', 'replacement', 'replacements', 'replacing', 'replay', 'replied', 'replies', 'reply', 'replying', 'repo', 'report', 'reported', 'reportedly', 'reporter', 'reporters', 'reporting', 'reports', 'repost', 'represent', 'representation', 'representative', 'representatives', 'represented', 'representing', 'represents', 'reproduce', 'reproduction', 'republic', 'republican', 'republicans', 'reputable', 'reputation', 'request', 'requested', 'requesting', 'requests', 'require', 'required', 'requirement', 'requirements', 'requires', 'requiring', 'res', 'rescue', 'research', 'researcher', 'researchers', 'resent', 'reserve', 'reserved', 'reset', 'residence', 'resident', 'residents', 'resigned', 'resist', 'resistance', 'resistant', 'resistor', 'resistors', 'resolution', 'resolutions', 'resolve', 'resolved', 'resort', 'resource', 'resources', 'respect', 'respectable', 'respected', 'respecting', 'respective', 'respectively', 'respects', 'respond', 'responded', 'responding', 'responds', 'response', 'responses', 'responsibilities', 'responsibility', 'responsible', 'rest', 'restart', 'restaurant', 'restaurants', 'reston', 'restore', 'restored', 'restoring', 'restrain', 'restrict', 'restricted', 'restricting', 'restriction', 'restrictions', 'restrictive', 'result', 'resulted', 'resulting', 'results', 'resurrection', 'retail', 'retain', 'retaliation', 'rethinking', 'rethought', 'retired', 'retract', 'retreat', 'retrieve', 'return', 'returned', 'returning', 'returns', 'rev', 'reveal', 'revealed', 'revealing', 'reveals', 'revelation', 'revelations', 'revenge', 'revenue', 'reverse', 'reversed', 'review', 'reviewed', 'reviews', 'revised', 'revision', 'revisionism', 'revolution', 'revolutionary', 'revolver', 'revolvers', 'reward', 'rewarded', 'rewrite', 'rex', 'reynolds', 'rf', 'rfc', 'rg', 'rgb', 'rh', 'rhetoric', 'rhodes', 'ri', 'ribbon', 'rice', 'rich', 'richard', 'richardson', 'richer', 'richmond', 'rick', 'rid', 'riddance', 'ridden', 'riddle', 'ride', 'rider', 'riders', 'rides', 'ridiculous', 'riding', 'rifle', 'rifles', 'right', 'righteous', 'righteousness', 'rightly', 'rights', 'rigorous', 'ring', 'rings', 'riot', 'riots', 'rip', 'ripem', 'ripped', 'risc', 'rise', 'risen', 'rising', 'risk', 'risks', 'risky', 'rit', 'ritual', 'rituals', 'river', 'rivers', 'rj', 'rk', 'rkba', 'rl', 'rle', 'rll', 'rm', 'rn', 'ro', 'road', 'roads', 'rob', 'robbie', 'robbing', 'robert', 'roberts', 'robertson', 'robin', 'robinson', 'robotics', 'robust', 'roby', 'rochester', 'rock', 'rocket', 'rockets', 'rockies', 'rocks', 'rockwell', 'rod', 'rode', 'rodney', 'roenick', 'roger', 'rogers', 'roland', 'role', 'roll', 'rolled', 'rolling', 'rolls', 'rom', 'roman', 'romans', 'rome', 'roms', 'ron', 'ronald', 'ronzone', 'roof', 'rookie', 'room', 'rooms', 'root', 'roots', 'rose', 'rosenau', 'rosicrucian', 'ross', 'roster', 'rotate', 'rotating', 'rotation', 'roth', 'rough', 'roughly', 'round', 'rounded', 'rounds', 'route', 'routine', 'routinely', 'routines', 'rover', 'row', 'roy', 'royal', 'royals', 'rp', 'rpi', 'rpm', 'rq', 'rr', 'rs', 'rsa', 'rt', 'rtfm', 'rtp', 'rub', 'rubber', 'rubin', 'rude', 'ruff', 'ruin', 'ruined', 'ruins', 'rule', 'ruled', 'rulers', 'rules', 'ruling', 'rumor', 'rumors', 'rumours', 'run', 'runner', 'runners', 'running', 'runs', 'rush', 'rushdie', 'rushed', 'rushing', 'rusnews', 'russ', 'russell', 'russia', 'russian', 'russians', 'rutgers', 'ruth', 'rv', 'rw', 'rwing', 'rx', 'ry', 'ryan', 'rz', 'sa', 'sabbath', 'sabres', 'sacrafice', 'sacred', 'sacrifice', 'sacrifices', 'sad', 'saddam', 'sadly', 'safe', 'safeguards', 'safely', 'safer', 'safety', 'sahak', 'said', 'sail', 'saint', 'saints', 'sake', 'salary', 'sale', 'sales', 'salmon', 'salt', 'salvation', 'sam', 'sample', 'samples', 'sampling', 'samuel', 'san', 'sand', 'sandberg', 'sanders', 'sanderson', 'sandman', 'sandvik', 'sandy', 'sane', 'sank', 'santa', 'sarah', 'sarcasm', 'sarcastic', 'sas', 'sat', 'satan', 'satanic', 'satellite', 'satellites', 'satisfaction', 'satisfactory', 'satisfied', 'satisfy', 'saturday', 'saturn', 'saudi', 'savard', 'save', 'saved', 'saves', 'saving', 'savings', 'savior', 'saw', 'say', 'saying', 'says', 'sb', 'sc', 'scale', 'scam', 'scan', 'scanned', 'scanner', 'scanners', 'scanning', 'scans', 'scare', 'scared', 'scares', 'scary', 'scattered', 'scenario', 'scene', 'scenes', 'scharfy', 'schedule', 'scheduled', 'scheme', 'schemes', 'schmidling', 'schmidt', 'schneider', 'scholar', 'scholarly', 'scholars', 'scholarship', 'school', 'schools', 'schwartz', 'sci', 'science', 'sciences', 'scientific', 'scientist', 'scientists', 'sco', 'scoop', 'scope', 'score', 'scored', 'scorer', 'scores', 'scoring', 'scotland', 'scott', 'scout', 'scratch', 'scratches', 'scream', 'screaming', 'screen', 'screens', 'screw', 'screwed', 'screwing', 'screws', 'script', 'scripture', 'scriptures', 'scroll', 'scrolling', 'scrutiny', 'scsi', 'scum', 'sd', 'sdio', 'sdk', 'sdpa', 'sdsu', 'se', 'sea', 'seagate', 'seal', 'sealed', 'seals', 'sean', 'search', 'searched', 'searches', 'searching', 'seas', 'season', 'seasons', 'seat', 'seats', 'seattle', 'sebastian', 'sec', 'second', 'secondary', 'secondly', 'seconds', 'secrecy', 'secret', 'secretary', 'secrets', 'section', 'sections', 'sector', 'sectors', 'secular', 'secure', 'security', 'sedan', 'seed', 'seeds', 'seeing', 'seek', 'seeking', 'seeks', 'seemingly', 'seen', 'sees', 'segment', 'segments', 'seized', 'seizure', 'seizures', 'selanne', 'seldom', 'select', 'selected', 'selection', 'selections', 'selective', 'self', 'selfish', 'sell', 'seller', 'selling', 'sells', 'semi', 'semiconductor', 'semitic', 'semitism', 'senate', 'senator', 'senators', 'send', 'sender', 'sending', 'sends', 'senior', 'sense', 'senses', 'sensible', 'sensing', 'sensitive', 'sensitivity', 'sensor', 'sensors', 'sent', 'sentence', 'sentences', 'sep', 'separate', 'separated', 'separately', 'separation', 'seperate', 'sepinwall', 'sept', 'september', 'sequence', 'sequences', 'serbia', 'serbian', 'serbs', 'serdar', 'serial', 'series', 'seriously', 'sermon', 'serve', 'served', 'server', 'servers', 'serves', 'service', 'services', 'serving', 'session', 'sessions', 'set', 'seth', 'sets', 'setting', 'settings', 'settle', 'settled', 'settlement', 'settlements', 'setup', 'seven', 'seventh', 'severe', 'severely', 'sex', 'sexual', 'sexuality', 'sexually', 'sez', 'sf', 'sg', 'sgi', 'sh', 'shack', 'shade', 'shading', 'shadow', 'shafer', 'shaft', 'shai', 'shake', 'shall', 'shame', 'shameful', 'shamir', 'shape', 'shaped', 'shar', 'share', 'shared', 'shares', 'shareware', 'sharing', 'sharks', 'sharon', 'sharp', 'shaw', 'shawn', 'shea', 'shed', 'sheep', 'sheesh', 'sheet', 'sheets', 'shelf', 'shell', 'shelled', 'shelley', 'shelling', 'sherri', 'sherzer', 'shield', 'shielded', 'shielding', 'shields', 'shift', 'shifting', 'shifts', 'shine', 'ship', 'shipped', 'shipping', 'ships', 'shirt', 'shirts', 'shit', 'shnekendorf', 'sho', 'shock', 'shocked', 'shocks', 'shoei', 'shoes', 'shoot', 'shooting', 'shoots', 'shop', 'shopping', 'shops', 'shore', 'shores', 'short', 'shorter', 'shortly', 'shortstop', 'shostack', 'shot', 'shotgun', 'shotguns', 'shots', 'shoulder', 'shoulders', 'shouldn', 'shout', 'shouted', 'shouting', 'showed', 'showing', 'shown', 'shows', 'shut', 'shutout', 'shuttle', 'si', 'sic', 'sick', 'sided', 'sides', 'sig', 'siggraph', 'sigh', 'sight', 'sighted', 'sign', 'signal', 'signals', 'signature', 'signatures', 'signed', 'significance', 'significant', 'significantly', 'signing', 'signs', 'silence', 'silent', 'silicon', 'silly', 'silver', 'similar', 'similarity', 'similarly', 'simm', 'simmons', 'simms', 'simon', 'simple', 'simpler', 'simplest', 'simplicity', 'simplistic', 'simply', 'simulation', 'simulations', 'simultaneously', 'sin', 'sincerely', 'sinful', 'sing', 'singapore', 'singer', 'single', 'sink', 'sinners', 'sins', 'sinus', 'sir', 'sister', 'sisters', 'sit', 'site', 'sites', 'sits', 'sitting', 'situation', 'situations', 'sixth', 'size', 'sized', 'sizes', 'sj', 'sk', 'skeptical', 'skepticism', 'skies', 'skill', 'skilled', 'skills', 'skin', 'skins', 'skip', 'skipjack', 'sky', 'sl', 'slack', 'slap', 'slaughter', 'slaughtered', 'slave', 'slavery', 'slaves', 'slc', 'sleep', 'sleeping', 'slg', 'slick', 'slide', 'sliding', 'slight', 'slightest', 'slightly', 'slip', 'slippery', 'slmr', 'sloan', 'slot', 'slots', 'slow', 'slowed', 'slower', 'slowing', 'slowly', 'slows', 'sm', 'small', 'smaller', 'smallest', 'smart', 'smartdrv', 'smell', 'smile', 'smiley', 'smith', 'smoke', 'smoked', 'smoking', 'smooth', 'smtp', 'smuggling', 'smythe', 'sn', 'snail', 'sniper', 'snow', 'snyder', 'soc', 'soccer', 'social', 'socialism', 'socialist', 'socialists', 'societies', 'society', 'socket', 'sockets', 'sod', 'soda', 'soderstrom', 'soft', 'software', 'soil', 'sol', 'solar', 'solaris', 'sold', 'soldered', 'soldier', 'soldiers', 'sole', 'solely', 'solid', 'solntze', 'solo', 'solomon', 'solution', 'solutions', 'solve', 'solved', 'solving', 'somalia', 'somebody', 'someday', 'somewhat', 'son', 'song', 'sons', 'sony', 'soon', 'sooner', 'sophisticated', 'sophomore', 'sorenson', 'sorry', 'sort', 'sorts', 'sought', 'soul', 'souls', 'sound', 'soundblaster', 'sounded', 'sounding', 'sounds', 'source', 'sources', 'south', 'southern', 'southwest', 'southwestern', 'souviens', 'soviet', 'sox', 'sp', 'space', 'spacecraft', 'spaces', 'spain', 'span', 'spanish', 'sparc', 'sparcstation', 'spare', 'spark', 'spdcc', 'speak', 'speaker', 'speakers', 'speaking', 'speaks', 'spec', 'special', 'specialist', 'specialists', 'specialized', 'specially', 'species', 'specific', 'specifically', 'specification', 'specifications', 'specifics', 'specified', 'specifies', 'specify', 'specs', 'spectacular', 'spectrum', 'speculate', 'speculation', 'speech', 'speed', 'speeding', 'speeds', 'speedstar', 'speedy', 'spell', 'spelled', 'spelling', 'spencer', 'spend', 'spending', 'spent', 'sphere', 'spike', 'spin', 'spinning', 'spirit', 'spiritual', 'spiritually', 'spit', 'spite', 'split', 'splitting', 'spoke', 'spoken', 'spokesman', 'sponsor', 'sponsored', 'spook', 'spooks', 'sport', 'sports', 'sporty', 'spot', 'spots', 'spray', 'spread', 'spreading', 'spring', 'springfield', 'springs', 'spy', 'sq', 'square', 'squeeze', 'squid', 'sr', 'src', 'ss', 'ssd', 'ssf', 'ssto', 'st', 'stability', 'stable', 'stack', 'stacker', 'stacks', 'stadium', 'staff', 'staffan', 'stage', 'staged', 'stages', 'stake', 'stalin', 'stamp', 'stan', 'stance', 'stand', 'standard', 'standards', 'standing', 'standings', 'standpoint', 'stands', 'stanford', 'stanley', 'star', 'starr', 'stars', 'start', 'started', 'starter', 'starters', 'starting', 'starts', 'startup', 'stat', 'state', 'stated', 'statement', 'statements', 'states', 'static', 'stating', 'station', 'stations', 'statistic', 'statistical', 'statistics', 'stats', 'status', 'statutes', 'stay', 'stayed', 'staying', 'stays', 'std', 'steady', 'steal', 'stealing', 'stealth', 'steam', 'steel', 'steep', 'steer', 'steering', 'stefan', 'stein', 'step', 'stephen', 'stephenson', 'stepping', 'steps', 'stereo', 'stern', 'sternlight', 'steve', 'steveh', 'steven', 'stevens', 'stewart', 'stick', 'sticker', 'stickers', 'sticking', 'sticks', 'sticky', 'stiff', 'stimulus', 'stl', 'stock', 'stockholm', 'stole', 'stolen', 'stomach', 'stone', 'stones', 'stony', 'stood', 'stop', 'stopped', 'stopping', 'stops', 'storage', 'store', 'stored', 'stores', 'stories', 'storm', 'story', 'stove', 'stpl', 'straight', 'straightforward', 'strange', 'strangers', 'strasse', 'strategic', 'strategies', 'strategy', 'stratus', 'straw', 'strawberry', 'streak', 'stream', 'street', 'streets', 'strength', 'stress', 'stretch', 'stretching', 'strict', 'strictly', 'strife', 'strike', 'strikes', 'striking', 'string', 'strings', 'strip', 'strive', 'stroke', 'strong', 'stronger', 'strongest', 'strongly', 'struck', 'structure', 'structures', 'struggle', 'struggling', 'sts', 'stuart', 'stuck', 'student', 'students', 'studied', 'studies', 'studio', 'study', 'studying', 'stuff', 'stupid', 'stupidity', 'style', 'su', 'sub', 'subaru', 'subdirectory', 'subjected', 'subjective', 'subjects', 'submarines', 'submission', 'submit', 'submitted', 'subscribe', 'subscription', 'subsequent', 'subsequently', 'subset', 'substance', 'substances', 'substantial', 'substantially', 'substantiate', 'substitute', 'subtle', 'subvert', 'succeed', 'succeeded', 'success', 'successful', 'successfully', 'suck', 'sucked', 'sucking', 'sucks', 'sudbury', 'sudden', 'suddenly', 'sue', 'suffer', 'suffered', 'suffering', 'suffice', 'sufficient', 'sufficiently', 'sugar', 'suggest', 'suggested', 'suggesting', 'suggestion', 'suggestions', 'suggests', 'suicide', 'suit', 'suitable', 'suite', 'suited', 'suits', 'sullivan', 'sum', 'sumex', 'summaries', 'summarize', 'summary', 'summer', 'sun', 'sunday', 'sunlight', 'sunnyvale', 'sunos', 'sunrise', 'suns', 'sunset', 'sunview', 'suny', 'super', 'superior', 'supernatural', 'supersedes', 'superstition', 'supplement', 'supplied', 'supplier', 'supplies', 'supply', 'support', 'supported', 'supporter', 'supporters', 'supporting', 'supportive', 'supports', 'suppose', 'supposed', 'supposedly', 'suppress', 'suppressed', 'supreme', 'sure', 'surely', 'surface', 'surfaces', 'surgeon', 'surgery', 'surplus', 'surprise', 'surprised', 'surprises', 'surprising', 'surrender', 'surrounded', 'surrounding', 'surroundings', 'surveillance', 'survey', 'surveys', 'survival', 'survive', 'survived', 'surviving', 'survivors', 'susan', 'suspect', 'suspected', 'suspended', 'suspension', 'suspicion', 'suspicious', 'suspiciously', 'sustained', 'sutherland', 'sutter', 'suzuki', 'sv', 'svga', 'svr', 'sw', 'swap', 'swapping', 'swear', 'sweden', 'swedish', 'sweep', 'sweeping', 'sweet', 'swelling', 'swept', 'swing', 'swiss', 'switch', 'switched', 'switches', 'switching', 'switzerland', 'sword', 'sx', 'sy', 'sydney', 'symbol', 'symbolic', 'symbols', 'symmetric', 'sympathy', 'symptoms', 'sync', 'synchronous', 'syndrome', 'synthesis', 'synthetic', 'syquest', 'syria', 'syrian', 'syrians', 'sys', 'sysadmin', 'systematic', 'systematically', 'systems', 'ta', 'tab', 'table', 'tables', 'tactic', 'tactical', 'tactics', 'tad', 'tag', 'tail', 'taken', 'takers', 'takes', 'taking', 'tale', 'talent', 'talk', 'talked', 'talking', 'talks', 'tall', 'tammy', 'tampa', 'tamu', 'tan', 'tangible', 'tank', 'tanks', 'tap', 'tape', 'tapes', 'tapped', 'tapping', 'tar', 'target', 'targeted', 'targets', 'task', 'tasking', 'tasks', 'taste', 'tate', 'taught', 'taurus', 'tavares', 'tax', 'taxes', 'taxpayers', 'taylor', 'tb', 'tc', 'tcp', 'td', 'te', 'tea', 'teach', 'teacher', 'teachers', 'teaches', 'teaching', 'teachings', 'teal', 'team', 'teams', 'tear', 'tears', 'tech', 'technical', 'technically', 'technician', 'technique', 'techniques', 'technological', 'technologies', 'technology', 'ted', 'teel', 'teemu', 'teens', 'teeth', 'teh', 'tek', 'tektronix', 'tel', 'telecom', 'telecommunications', 'telephone', 'telephony', 'telescope', 'television', 'tell', 'telling', 'tells', 'telnet', 'telos', 'temp', 'temper', 'temperature', 'tempest', 'temple', 'templeton', 'temporarily', 'temporary', 'tempted', 'tend', 'tended', 'tendency', 'tends', 'tenn', 'tennessee', 'tens', 'tension', 'tenth', 'term', 'terminal', 'terminals', 'terminated', 'terminator', 'terminology', 'terms', 'terresterial', 'terrible', 'terribly', 'territorial', 'territories', 'territory', 'terror', 'terrorism', 'terrorist', 'terrorists', 'terry', 'test', 'testament', 'tested', 'testify', 'testimony', 'testing', 'tests', 'tex', 'texans', 'texas', 'text', 'texts', 'tg', 'tga', 'th', 'thai', 'thank', 'thankful', 'thankfully', 'thanks', 'thanx', 'thats', 'thee', 'theft', 'theirs', 'theism', 'theist', 'theists', 'theme', 'theodore', 'theologians', 'theological', 'theology', 'theoretical', 'theoretically', 'theories', 'theory', 'therapy', 'thereof', 'thermal', 'thesis', 'thief', 'thier', 'thing', 'things', 'think', 'thinking', 'thinks', 'thirty', 'tho', 'thomas', 'thompson', 'thomson', 'thor', 'thorough', 'thoroughly', 'thorson', 'thou', 'thought', 'thoughts', 'thousand', 'thousands', 'thread', 'threads', 'threat', 'threaten', 'threatened', 'threatening', 'threatens', 'threats', 'threshold', 'threw', 'throat', 'throttle', 'throughput', 'throw', 'throwing', 'thrown', 'thrust', 'thu', 'thug', 'thumb', 'thumbs', 'thunder', 'thursday', 'thx', 'ti', 'ticket', 'tickets', 'tie', 'tied', 'ties', 'tiff', 'tiger', 'tigers', 'tight', 'til', 'till', 'tim', 'time', 'timer', 'times', 'timing', 'timothy', 'tin', 'tiny', 'tip', 'tips', 'tire', 'tired', 'tires', 'tissue', 'titan', 'title', 'titled', 'titles', 'tj', 'tm', 'tmp', 'tn', 'toal', 'tobacco', 'tobias', 'tocchet', 'today', 'todd', 'toilet', 'token', 'tokyo', 'told', 'tolerance', 'tolerate', 'toll', 'tom', 'tommy', 'tomorrow', 'ton', 'tone', 'tongue', 'tonight', 'tons', 'tony', 'took', 'tool', 'toolkit', 'toolkits', 'tools', 'topic', 'topics', 'tops', 'tor', 'torah', 'torn', 'toronto', 'torque', 'torre', 'torture', 'tortured', 'toshiba', 'toss', 'total', 'totally', 'totals', 'touch', 'touched', 'tough', 'tour', 'tourist', 'tournament', 'tours', 'tower', 'towers', 'town', 'towns', 'toxic', 'toyota', 'toys', 'tp', 'tq', 'tr', 'trace', 'traced', 'tracing', 'track', 'tracking', 'tracks', 'tract', 'trade', 'traded', 'trades', 'trading', 'tradition', 'traditional', 'traditionally', 'traditions', 'traffic', 'tragedy', 'tragic', 'trail', 'train', 'trained', 'training', 'trajectory', 'trans', 'transaction', 'transactions', 'transfer', 'transferred', 'transferring', 'transfers', 'transform', 'transformer', 'transistor', 'transition', 'translate', 'translated', 'translation', 'translations', 'transmission', 'transmissions', 'transmit', 'transmits', 'transmitted', 'transmitter', 'transmitting', 'transparent', 'transport', 'transportation', 'trap', 'traps', 'trash', 'trashed', 'travel', 'traveling', 'travelling', 'tread', 'treasury', 'treat', 'treated', 'treating', 'treatment', 'treatments', 'treats', 'treaty', 'tree', 'trees', 'trek', 'tremendous', 'trend', 'trends', 'tri', 'trial', 'trials', 'triangle', 'tribe', 'tribes', 'trick', 'tricks', 'tricky', 'trident', 'tried', 'tries', 'trigger', 'trillion', 'trim', 'trinity', 'trip', 'triple', 'trips', 'triumph', 'trivia', 'trivial', 'troop', 'troops', 'trouble', 'troubles', 'troy', 'truck', 'trucks', 'true', 'truecolor', 'truely', 'truetype', 'truly', 'trumpet', 'trunk', 'trust', 'trusted', 'truth', 'truths', 'try', 'trying', 'ts', 'tseng', 'tsn', 'tsr', 'tt', 'ttl', 'tu', 'tube', 'tubes', 'tucson', 'tue', 'tuesday', 'tune', 'tuned', 'tuning', 'turbo', 'turk', 'turkey', 'turkish', 'turkiye', 'turks', 'turn', 'turned', 'turner', 'turning', 'turns', 'turpin', 'tutorial', 'tv', 'tvtwm', 'tw', 'twice', 'twin', 'twins', 'twist', 'twisted', 'twm', 'tx', 'txt', 'ty', 'type', 'typed', 'types', 'typical', 'typically', 'typing', 'tyranny', 'tyre', 'tz', 'ua', 'ualberta', 'uart', 'ub', 'ubc', 'uc', 'ucalgary', 'ucc', 'uci', 'ucla', 'ucs', 'ucsc', 'ucsd', 'ucsu', 'ud', 'udel', 'uf', 'ufl', 'ug', 'ugly', 'uh', 'uiuc', 'uk', 'ul', 'ulf', 'ultimate', 'ultimately', 'ultra', 'ultrix', 'um', 'umanitoba', 'umass', 'umd', 'umich', 'umn', 'unable', 'unacceptable', 'unarmed', 'unauthenticated', 'unauthorized', 'unaware', 'unbelievable', 'unbiased', 'unbreakable', 'unc', 'uncle', 'unclear', 'uncomfortable', 'uncommon', 'unconditional', 'und', 'undefined', 'underground', 'underlying', 'underneath', 'understand', 'understandable', 'understanding', 'understands', 'understood', 'undesirable', 'undocumented', 'undoubtedly', 'unexpected', 'unfair', 'unfortunate', 'unfortunately', 'unhappy', 'uni', 'uniform', 'uniforms', 'union', 'unique', 'unit', 'unite', 'united', 'units', 'unity', 'univ', 'universal', 'universally', 'universe', 'universitaet', 'universities', 'university', 'unix', 'unjust', 'unknown', 'unlawful', 'unless', 'unlike', 'unlikely', 'unlimited', 'unm', 'unnecessarily', 'unnecessary', 'unorganized', 'unreasonable', 'unregistered', 'unrelated', 'unreliable', 'unto', 'unused', 'unusual', 'unwanted', 'unwilling', 'unworthy', 'uo', 'uoknor', 'uoregon', 'upcoming', 'update', 'updated', 'updates', 'updating', 'upenn', 'upgrade', 'upgraded', 'upgrades', 'upgrading', 'upi', 'upload', 'upper', 'uprising', 'ups', 'upset', 'upstairs', 'upto', 'ur', 'urban', 'urbana', 'urge', 'usa', 'usable', 'usage', 'usc', 'uscrpac', 'use', 'used', 'useful', 'useless', 'usenet', 'user', 'useragent', 'users', 'uses', 'using', 'usr', 'ussr', 'usual', 'usually', 'ut', 'utah', 'utexas', 'util', 'utilities', 'utility', 'utilize', 'utilizing', 'utter', 'utterly', 'utzoo', 'uu', 'uucp', 'uunet', 'uv', 'uva', 'uw', 'uwo', 'ux', 'uy', 'va', 'vac', 'vacation', 'vacuum', 'vague', 'vain', 'valentine', 'valid', 'validity', 'valley', 'valuable', 'value', 'values', 'valve', 'van', 'vancouver', 'vandalizing', 'variable', 'variables', 'variant', 'variation', 'variations', 'varied', 'varies', 'variety', 'various', 'vary', 'varying', 'vast', 'vastly', 'vax', 'vb', 'vbis', 'vc', 'vcr', 'vdc', 've', 'veal', 'vector', 'vegas', 'vegetable', 'vehicle', 'vehicles', 'velasco', 'velocity', 'vendor', 'vendors', 'ventura', 'venture', 'venus', 'ver', 'verdict', 'verification', 'verified', 'verify', 'vernon', 'versa', 'verse', 'verses', 'version', 'versions', 'versus', 'vertical', 'vesa', 'vesselin', 'vested', 'veteran', 'veterans', 'vf', 'vg', 'vga', 'vhf', 'vhs', 'vi', 'viable', 'vic', 'vice', 'vicinity', 'victim', 'victims', 'victor', 'victoria', 'victory', 'video', 'vietnam', 'view', 'viewed', 'viewer', 'viewers', 'viewing', 'viewpoint', 'views', 'viking', 'village', 'villages', 'vincent', 'vintage', 'viola', 'violate', 'violated', 'violates', 'violating', 'violation', 'violations', 'violence', 'violent', 'viper', 'virgin', 'virginia', 'virtual', 'virtually', 'virtue', 'virus', 'visa', 'visible', 'vision', 'visit', 'visited', 'visiting', 'visual', 'visualization', 'vital', 'vl', 'vladimir', 'vladimirov', 'vlb', 'vlsi', 'vm', 'vms', 'vn', 'vnet', 'vnews', 'vogt', 'voice', 'voices', 'void', 'vol', 'volt', 'voltage', 'volts', 'volume', 'volumes', 'voluntary', 'volunteer', 'volunteers', 'volvo', 'von', 'vote', 'voted', 'voters', 'votes', 'voting', 'vp', 'vr', 'vram', 'vs', 'vt', 'vu', 'vulnerable', 'vv', 'vw', 'wa', 'wackos', 'waco', 'wade', 'wages', 'wagner', 'wagon', 'wait', 'waited', 'waiting', 'wake', 'wales', 'walk', 'walked', 'walker', 'walking', 'walks', 'wall', 'walla', 'wallace', 'wallet', 'walls', 'walsh', 'walter', 'wang', 'wanna', 'want', 'wanted', 'wanting', 'wants', 'war', 'ward', 'warfare', 'warm', 'warn', 'warned', 'warner', 'warning', 'warnings', 'warrant', 'warrants', 'warranty', 'warren', 'warriors', 'wars', 'wary', 'wash', 'washed', 'washer', 'washington', 'wasn', 'waste', 'wasted', 'wasting', 'watch', 'watched', 'watching', 'water', 'waterloo', 'waters', 'watson', 'watt', 'watts', 'wave', 'waves', 'waving', 'wax', 'way', 'wayne', 'ways', 'wb', 'wc', 'wd', 'weak', 'weakness', 'weaknesses', 'wealth', 'wealthy', 'weapon', 'weapons', 'wear', 'wearing', 'weary', 'weather', 'weaver', 'web', 'webster', 'wed', 'wednesday', 'wee', 'week', 'weekend', 'weekly', 'weeks', 'weight', 'weird', 'weiss', 'welch', 'welcome', 'welcomed', 'welfare', 'wells', 'went', 'weren', 'wes', 'wesley', 'west', 'western', 'wet', 'wf', 'wg', 'wh', 'whalers', 'wharfie', 'whats', 'whatsoever', 'wheel', 'wheels', 'whichever', 'whining', 'whip', 'white', 'whites', 'wholesale', 'wholly', 'wi', 'wide', 'widely', 'wider', 'widespread', 'widget', 'widgets', 'width', 'wierd', 'wife', 'wild', 'william', 'williams', 'willie', 'willing', 'willis', 'wilson', 'win', 'wind', 'window', 'windows', 'windshield', 'wine', 'winfield', 'wing', 'wingate', 'winged', 'wings', 'winmarks', 'winner', 'winners', 'winning', 'winnipeg', 'wins', 'winter', 'winword', 'wipe', 'wiped', 'wire', 'wired', 'wireless', 'wires', 'wiretap', 'wiretaps', 'wiring', 'wisconsin', 'wisdom', 'wise', 'wish', 'wished', 'wishes', 'wit', 'witch', 'withdraw', 'withdrawal', 'witness', 'witnessed', 'witnesses', 'wives', 'wk', 'wm', 'wn', 'wo', 'wod', 'woke', 'wolf', 'wolves', 'woman', 'women', 'won', 'wonder', 'wondered', 'wonderful', 'wondering', 'wonders', 'wong', 'wont', 'wood', 'woods', 'woodward', 'worcester', 'word', 'wording', 'wordperfect', 'words', 'work', 'workable', 'workaround', 'worked', 'worker', 'workers', 'working', 'works', 'workshop', 'workstation', 'workstations', 'world', 'worlds', 'worldwide', 'worn', 'worried', 'worries', 'worry', 'worse', 'worship', 'worst', 'worth', 'worthless', 'worthwhile', 'worthy', 'wouldn', 'wound', 'wounded', 'wounds', 'wow', 'wp', 'wpd', 'wpi', 'wq', 'wr', 'wrap', 'wrapped', 'wrench', 'wri', 'wright', 'wrist', 'write', 'writer', 'writers', 'writes', 'writing', 'writings', 'written', 'wrong', 'wrote', 'ws', 'wt', 'wu', 'wuarchive', 'wustl', 'wv', 'ww', 'wwii', 'xa', 'xc', 'xcopyarea', 'xdm', 'xe', 'xerox', 'xi', 'ximenez', 'xl', 'xlib', 'xm', 'xor', 'xp', 'xputimage', 'xr', 'xs', 'xserver', 'xsun', 'xt', 'xterm', 'xv', 'xview', 'xw', 'xwindows', 'xx', 'xxdate', 'xxmessage', 'xxx', 'xz', 'ya', 'yale', 'yamaha', 'yang', 'yankee', 'yankees', 'yanks', 'yard', 'yards', 'yd', 'ye', 'yea', 'yeah', 'year', 'years', 'yeast', 'yee', 'yellow', 'yep', 'yes', 'yesterday', 'yf', 'yfn', 'yield', 'yields', 'yigal', 'yo', 'york', 'young', 'younger', 'youngsters', 'youngstown', 'youth', 'yr', 'ysu', 'yu', 'yugoslavia', 'yup', 'yzerman', 'za', 'zaphod', 'ze', 'zealand', 'zen', 'zero', 'zeus', 'zinc', 'zionism', 'zionist', 'zionists', 'zip', 'zone', 'zoology', 'zoom', 'zr', 'zurich', 'zx', 'zz']\n"
          ],
          "name": "stdout"
        }
      ]
    },
    {
      "cell_type": "code",
      "metadata": {
        "id": "Da9x_oMYe3NI",
        "colab_type": "code",
        "outputId": "9be0655a-a7dd-4f85-ed31-eb4624678637",
        "colab": {
          "base_uri": "https://localhost:8080/",
          "height": 374
        }
      },
      "source": [
        "import seaborn as sns\n",
        "import matplotlib.pyplot as plt\n",
        "plt.figure(figsize=(15,6))\n",
        "sns.countplot(y)\n",
        "#plt.xticks(class_names)\n",
        "plt.show()"
      ],
      "execution_count": 0,
      "outputs": [
        {
          "output_type": "display_data",
          "data": {
            "image/png": "[encoded data removed]",
            "text/plain": [
              "<Figure size 1080x432 with 1 Axes>"
            ]
          },
          "metadata": {
            "tags": [],
            "needs_background": "light"
          }
        }
      ]
    },
    {
      "cell_type": "code",
      "metadata": {
        "id": "U_6lhmTih-MK",
        "colab_type": "code",
        "colab": {}
      },
      "source": [
        "x2 = tfidf.transform(x).toarray()"
      ],
      "execution_count": 0,
      "outputs": []
    },
    {
      "cell_type": "code",
      "metadata": {
        "id": "shQDtiUji6Vy",
        "colab_type": "code",
        "outputId": "a1e6ee48-49ef-4dcf-99f9-73d1c37a575a",
        "colab": {
          "base_uri": "https://localhost:8080/",
          "height": 34
        }
      },
      "source": [
        "print(x2.shape)"
      ],
      "execution_count": 0,
      "outputs": [
        {
          "output_type": "stream",
          "text": [
            "(11314, 9799)\n"
          ],
          "name": "stdout"
        }
      ]
    },
    {
      "cell_type": "code",
      "metadata": {
        "id": "MD3llRS-j6rw",
        "colab_type": "code",
        "colab": {}
      },
      "source": [
        "# split data into train and validation set\n",
        "from sklearn.model_selection import train_test_split\n",
        "xtr,xvd,ytr,yvd = train_test_split(x2,y,test_size=0.2,random_state=5,stratify=y)"
      ],
      "execution_count": 0,
      "outputs": []
    },
    {
      "cell_type": "code",
      "metadata": {
        "id": "xQgVfRDni72J",
        "colab_type": "code",
        "outputId": "083080ad-cf53-42e7-f444-4d148f8e3e75",
        "colab": {
          "base_uri": "https://localhost:8080/",
          "height": 34
        }
      },
      "source": [
        "# bulding a classifier using Naive Bayes \n",
        "\n",
        "model = MultinomialNB()\n",
        "# train the model \n",
        "model.fit(xtr,ytr)"
      ],
      "execution_count": 0,
      "outputs": [
        {
          "output_type": "execute_result",
          "data": {
            "text/plain": [
              "MultinomialNB(alpha=1.0, class_prior=None, fit_prior=True)"
            ]
          },
          "metadata": {
            "tags": []
          },
          "execution_count": 49
        }
      ]
    },
    {
      "cell_type": "code",
      "metadata": {
        "id": "h_P5AZOjjBzi",
        "colab_type": "code",
        "outputId": "0c975a1c-5f22-437b-83d5-66800438ecf7",
        "colab": {
          "base_uri": "https://localhost:8080/",
          "height": 34
        }
      },
      "source": [
        "# check accuracy\n",
        "from sklearn.metrics import accuracy_score,confusion_matrix\n",
        "ypred = model.predict(xvd)\n",
        "accuracy_score(ypred,yvd)"
      ],
      "execution_count": 0,
      "outputs": [
        {
          "output_type": "execute_result",
          "data": {
            "text/plain": [
              "0.8616880247459126"
            ]
          },
          "metadata": {
            "tags": []
          },
          "execution_count": 50
        }
      ]
    },
    {
      "cell_type": "code",
      "metadata": {
        "id": "CHmPuaqsk8vz",
        "colab_type": "code",
        "outputId": "1aef1232-bf40-4d2d-eb2d-89da27535834",
        "colab": {
          "base_uri": "https://localhost:8080/",
          "height": 639
        }
      },
      "source": [
        "import pandas as pd\n",
        "pd.DataFrame(confusion_matrix(ypred,yvd))"
      ],
      "execution_count": 0,
      "outputs": [
        {
          "output_type": "execute_result",
          "data": {
            "text/html": [
              "<div>\n",
              "<style scoped>\n",
              "    .dataframe tbody tr th:only-of-type {\n",
              "        vertical-align: middle;\n",
              "    }\n",
              "\n",
              "    .dataframe tbody tr th {\n",
              "        vertical-align: top;\n",
              "    }\n",
              "\n",
              "    .dataframe thead th {\n",
              "        text-align: right;\n",
              "    }\n",
              "</style>\n",
              "<table border=\"1\" class=\"dataframe\">\n",
              "  <thead>\n",
              "    <tr style=\"text-align: right;\">\n",
              "      <th></th>\n",
              "      <th>0</th>\n",
              "      <th>1</th>\n",
              "      <th>2</th>\n",
              "      <th>3</th>\n",
              "      <th>4</th>\n",
              "      <th>5</th>\n",
              "      <th>6</th>\n",
              "      <th>7</th>\n",
              "      <th>8</th>\n",
              "      <th>9</th>\n",
              "      <th>10</th>\n",
              "      <th>11</th>\n",
              "      <th>12</th>\n",
              "      <th>13</th>\n",
              "      <th>14</th>\n",
              "      <th>15</th>\n",
              "      <th>16</th>\n",
              "      <th>17</th>\n",
              "      <th>18</th>\n",
              "      <th>19</th>\n",
              "    </tr>\n",
              "  </thead>\n",
              "  <tbody>\n",
              "    <tr>\n",
              "      <th>0</th>\n",
              "      <td>76</td>\n",
              "      <td>0</td>\n",
              "      <td>0</td>\n",
              "      <td>0</td>\n",
              "      <td>0</td>\n",
              "      <td>0</td>\n",
              "      <td>0</td>\n",
              "      <td>0</td>\n",
              "      <td>0</td>\n",
              "      <td>0</td>\n",
              "      <td>0</td>\n",
              "      <td>0</td>\n",
              "      <td>0</td>\n",
              "      <td>0</td>\n",
              "      <td>0</td>\n",
              "      <td>0</td>\n",
              "      <td>0</td>\n",
              "      <td>0</td>\n",
              "      <td>0</td>\n",
              "      <td>7</td>\n",
              "    </tr>\n",
              "    <tr>\n",
              "      <th>1</th>\n",
              "      <td>0</td>\n",
              "      <td>89</td>\n",
              "      <td>3</td>\n",
              "      <td>2</td>\n",
              "      <td>5</td>\n",
              "      <td>6</td>\n",
              "      <td>1</td>\n",
              "      <td>0</td>\n",
              "      <td>1</td>\n",
              "      <td>1</td>\n",
              "      <td>0</td>\n",
              "      <td>2</td>\n",
              "      <td>3</td>\n",
              "      <td>4</td>\n",
              "      <td>2</td>\n",
              "      <td>1</td>\n",
              "      <td>0</td>\n",
              "      <td>0</td>\n",
              "      <td>0</td>\n",
              "      <td>0</td>\n",
              "    </tr>\n",
              "    <tr>\n",
              "      <th>2</th>\n",
              "      <td>0</td>\n",
              "      <td>4</td>\n",
              "      <td>101</td>\n",
              "      <td>7</td>\n",
              "      <td>4</td>\n",
              "      <td>3</td>\n",
              "      <td>3</td>\n",
              "      <td>0</td>\n",
              "      <td>0</td>\n",
              "      <td>0</td>\n",
              "      <td>0</td>\n",
              "      <td>3</td>\n",
              "      <td>5</td>\n",
              "      <td>0</td>\n",
              "      <td>1</td>\n",
              "      <td>0</td>\n",
              "      <td>0</td>\n",
              "      <td>0</td>\n",
              "      <td>0</td>\n",
              "      <td>0</td>\n",
              "    </tr>\n",
              "    <tr>\n",
              "      <th>3</th>\n",
              "      <td>0</td>\n",
              "      <td>4</td>\n",
              "      <td>7</td>\n",
              "      <td>98</td>\n",
              "      <td>4</td>\n",
              "      <td>2</td>\n",
              "      <td>9</td>\n",
              "      <td>0</td>\n",
              "      <td>0</td>\n",
              "      <td>0</td>\n",
              "      <td>1</td>\n",
              "      <td>0</td>\n",
              "      <td>6</td>\n",
              "      <td>0</td>\n",
              "      <td>0</td>\n",
              "      <td>0</td>\n",
              "      <td>0</td>\n",
              "      <td>0</td>\n",
              "      <td>0</td>\n",
              "      <td>0</td>\n",
              "    </tr>\n",
              "    <tr>\n",
              "      <th>4</th>\n",
              "      <td>0</td>\n",
              "      <td>1</td>\n",
              "      <td>0</td>\n",
              "      <td>4</td>\n",
              "      <td>93</td>\n",
              "      <td>1</td>\n",
              "      <td>1</td>\n",
              "      <td>1</td>\n",
              "      <td>0</td>\n",
              "      <td>0</td>\n",
              "      <td>0</td>\n",
              "      <td>0</td>\n",
              "      <td>11</td>\n",
              "      <td>0</td>\n",
              "      <td>0</td>\n",
              "      <td>0</td>\n",
              "      <td>0</td>\n",
              "      <td>0</td>\n",
              "      <td>0</td>\n",
              "      <td>0</td>\n",
              "    </tr>\n",
              "    <tr>\n",
              "      <th>5</th>\n",
              "      <td>0</td>\n",
              "      <td>13</td>\n",
              "      <td>6</td>\n",
              "      <td>3</td>\n",
              "      <td>1</td>\n",
              "      <td>105</td>\n",
              "      <td>0</td>\n",
              "      <td>1</td>\n",
              "      <td>1</td>\n",
              "      <td>1</td>\n",
              "      <td>0</td>\n",
              "      <td>2</td>\n",
              "      <td>0</td>\n",
              "      <td>1</td>\n",
              "      <td>0</td>\n",
              "      <td>0</td>\n",
              "      <td>0</td>\n",
              "      <td>0</td>\n",
              "      <td>0</td>\n",
              "      <td>0</td>\n",
              "    </tr>\n",
              "    <tr>\n",
              "      <th>6</th>\n",
              "      <td>0</td>\n",
              "      <td>2</td>\n",
              "      <td>1</td>\n",
              "      <td>2</td>\n",
              "      <td>4</td>\n",
              "      <td>0</td>\n",
              "      <td>90</td>\n",
              "      <td>2</td>\n",
              "      <td>0</td>\n",
              "      <td>3</td>\n",
              "      <td>1</td>\n",
              "      <td>0</td>\n",
              "      <td>3</td>\n",
              "      <td>0</td>\n",
              "      <td>1</td>\n",
              "      <td>0</td>\n",
              "      <td>0</td>\n",
              "      <td>0</td>\n",
              "      <td>0</td>\n",
              "      <td>0</td>\n",
              "    </tr>\n",
              "    <tr>\n",
              "      <th>7</th>\n",
              "      <td>0</td>\n",
              "      <td>0</td>\n",
              "      <td>0</td>\n",
              "      <td>0</td>\n",
              "      <td>1</td>\n",
              "      <td>0</td>\n",
              "      <td>4</td>\n",
              "      <td>105</td>\n",
              "      <td>3</td>\n",
              "      <td>2</td>\n",
              "      <td>0</td>\n",
              "      <td>0</td>\n",
              "      <td>3</td>\n",
              "      <td>0</td>\n",
              "      <td>0</td>\n",
              "      <td>0</td>\n",
              "      <td>0</td>\n",
              "      <td>0</td>\n",
              "      <td>1</td>\n",
              "      <td>0</td>\n",
              "    </tr>\n",
              "    <tr>\n",
              "      <th>8</th>\n",
              "      <td>0</td>\n",
              "      <td>0</td>\n",
              "      <td>0</td>\n",
              "      <td>0</td>\n",
              "      <td>0</td>\n",
              "      <td>0</td>\n",
              "      <td>3</td>\n",
              "      <td>8</td>\n",
              "      <td>114</td>\n",
              "      <td>0</td>\n",
              "      <td>0</td>\n",
              "      <td>0</td>\n",
              "      <td>0</td>\n",
              "      <td>0</td>\n",
              "      <td>0</td>\n",
              "      <td>0</td>\n",
              "      <td>0</td>\n",
              "      <td>0</td>\n",
              "      <td>0</td>\n",
              "      <td>2</td>\n",
              "    </tr>\n",
              "    <tr>\n",
              "      <th>9</th>\n",
              "      <td>0</td>\n",
              "      <td>0</td>\n",
              "      <td>0</td>\n",
              "      <td>0</td>\n",
              "      <td>0</td>\n",
              "      <td>1</td>\n",
              "      <td>0</td>\n",
              "      <td>0</td>\n",
              "      <td>0</td>\n",
              "      <td>110</td>\n",
              "      <td>1</td>\n",
              "      <td>1</td>\n",
              "      <td>0</td>\n",
              "      <td>0</td>\n",
              "      <td>0</td>\n",
              "      <td>1</td>\n",
              "      <td>0</td>\n",
              "      <td>0</td>\n",
              "      <td>1</td>\n",
              "      <td>0</td>\n",
              "    </tr>\n",
              "    <tr>\n",
              "      <th>10</th>\n",
              "      <td>0</td>\n",
              "      <td>0</td>\n",
              "      <td>0</td>\n",
              "      <td>0</td>\n",
              "      <td>0</td>\n",
              "      <td>0</td>\n",
              "      <td>3</td>\n",
              "      <td>0</td>\n",
              "      <td>0</td>\n",
              "      <td>2</td>\n",
              "      <td>117</td>\n",
              "      <td>0</td>\n",
              "      <td>2</td>\n",
              "      <td>0</td>\n",
              "      <td>0</td>\n",
              "      <td>0</td>\n",
              "      <td>0</td>\n",
              "      <td>1</td>\n",
              "      <td>0</td>\n",
              "      <td>0</td>\n",
              "    </tr>\n",
              "    <tr>\n",
              "      <th>11</th>\n",
              "      <td>1</td>\n",
              "      <td>0</td>\n",
              "      <td>0</td>\n",
              "      <td>0</td>\n",
              "      <td>0</td>\n",
              "      <td>0</td>\n",
              "      <td>0</td>\n",
              "      <td>0</td>\n",
              "      <td>0</td>\n",
              "      <td>0</td>\n",
              "      <td>0</td>\n",
              "      <td>111</td>\n",
              "      <td>2</td>\n",
              "      <td>0</td>\n",
              "      <td>0</td>\n",
              "      <td>0</td>\n",
              "      <td>1</td>\n",
              "      <td>0</td>\n",
              "      <td>0</td>\n",
              "      <td>1</td>\n",
              "    </tr>\n",
              "    <tr>\n",
              "      <th>12</th>\n",
              "      <td>0</td>\n",
              "      <td>1</td>\n",
              "      <td>0</td>\n",
              "      <td>2</td>\n",
              "      <td>3</td>\n",
              "      <td>0</td>\n",
              "      <td>2</td>\n",
              "      <td>2</td>\n",
              "      <td>1</td>\n",
              "      <td>0</td>\n",
              "      <td>0</td>\n",
              "      <td>0</td>\n",
              "      <td>82</td>\n",
              "      <td>3</td>\n",
              "      <td>0</td>\n",
              "      <td>0</td>\n",
              "      <td>0</td>\n",
              "      <td>0</td>\n",
              "      <td>0</td>\n",
              "      <td>1</td>\n",
              "    </tr>\n",
              "    <tr>\n",
              "      <th>13</th>\n",
              "      <td>0</td>\n",
              "      <td>0</td>\n",
              "      <td>0</td>\n",
              "      <td>0</td>\n",
              "      <td>0</td>\n",
              "      <td>1</td>\n",
              "      <td>0</td>\n",
              "      <td>0</td>\n",
              "      <td>0</td>\n",
              "      <td>0</td>\n",
              "      <td>0</td>\n",
              "      <td>0</td>\n",
              "      <td>0</td>\n",
              "      <td>107</td>\n",
              "      <td>0</td>\n",
              "      <td>0</td>\n",
              "      <td>0</td>\n",
              "      <td>0</td>\n",
              "      <td>0</td>\n",
              "      <td>1</td>\n",
              "    </tr>\n",
              "    <tr>\n",
              "      <th>14</th>\n",
              "      <td>1</td>\n",
              "      <td>2</td>\n",
              "      <td>0</td>\n",
              "      <td>0</td>\n",
              "      <td>0</td>\n",
              "      <td>0</td>\n",
              "      <td>1</td>\n",
              "      <td>0</td>\n",
              "      <td>0</td>\n",
              "      <td>0</td>\n",
              "      <td>0</td>\n",
              "      <td>0</td>\n",
              "      <td>1</td>\n",
              "      <td>2</td>\n",
              "      <td>114</td>\n",
              "      <td>0</td>\n",
              "      <td>0</td>\n",
              "      <td>0</td>\n",
              "      <td>2</td>\n",
              "      <td>0</td>\n",
              "    </tr>\n",
              "    <tr>\n",
              "      <th>15</th>\n",
              "      <td>15</td>\n",
              "      <td>0</td>\n",
              "      <td>0</td>\n",
              "      <td>0</td>\n",
              "      <td>0</td>\n",
              "      <td>0</td>\n",
              "      <td>0</td>\n",
              "      <td>0</td>\n",
              "      <td>0</td>\n",
              "      <td>0</td>\n",
              "      <td>0</td>\n",
              "      <td>0</td>\n",
              "      <td>0</td>\n",
              "      <td>2</td>\n",
              "      <td>0</td>\n",
              "      <td>117</td>\n",
              "      <td>0</td>\n",
              "      <td>0</td>\n",
              "      <td>0</td>\n",
              "      <td>26</td>\n",
              "    </tr>\n",
              "    <tr>\n",
              "      <th>16</th>\n",
              "      <td>2</td>\n",
              "      <td>0</td>\n",
              "      <td>0</td>\n",
              "      <td>0</td>\n",
              "      <td>0</td>\n",
              "      <td>0</td>\n",
              "      <td>0</td>\n",
              "      <td>0</td>\n",
              "      <td>0</td>\n",
              "      <td>0</td>\n",
              "      <td>0</td>\n",
              "      <td>0</td>\n",
              "      <td>0</td>\n",
              "      <td>0</td>\n",
              "      <td>1</td>\n",
              "      <td>0</td>\n",
              "      <td>107</td>\n",
              "      <td>0</td>\n",
              "      <td>8</td>\n",
              "      <td>8</td>\n",
              "    </tr>\n",
              "    <tr>\n",
              "      <th>17</th>\n",
              "      <td>1</td>\n",
              "      <td>1</td>\n",
              "      <td>0</td>\n",
              "      <td>0</td>\n",
              "      <td>0</td>\n",
              "      <td>0</td>\n",
              "      <td>0</td>\n",
              "      <td>0</td>\n",
              "      <td>0</td>\n",
              "      <td>0</td>\n",
              "      <td>0</td>\n",
              "      <td>0</td>\n",
              "      <td>0</td>\n",
              "      <td>0</td>\n",
              "      <td>0</td>\n",
              "      <td>1</td>\n",
              "      <td>1</td>\n",
              "      <td>110</td>\n",
              "      <td>4</td>\n",
              "      <td>1</td>\n",
              "    </tr>\n",
              "    <tr>\n",
              "      <th>18</th>\n",
              "      <td>0</td>\n",
              "      <td>0</td>\n",
              "      <td>0</td>\n",
              "      <td>0</td>\n",
              "      <td>0</td>\n",
              "      <td>0</td>\n",
              "      <td>0</td>\n",
              "      <td>0</td>\n",
              "      <td>0</td>\n",
              "      <td>0</td>\n",
              "      <td>0</td>\n",
              "      <td>0</td>\n",
              "      <td>0</td>\n",
              "      <td>0</td>\n",
              "      <td>0</td>\n",
              "      <td>0</td>\n",
              "      <td>0</td>\n",
              "      <td>2</td>\n",
              "      <td>77</td>\n",
              "      <td>1</td>\n",
              "    </tr>\n",
              "    <tr>\n",
              "      <th>19</th>\n",
              "      <td>0</td>\n",
              "      <td>0</td>\n",
              "      <td>0</td>\n",
              "      <td>0</td>\n",
              "      <td>0</td>\n",
              "      <td>0</td>\n",
              "      <td>0</td>\n",
              "      <td>0</td>\n",
              "      <td>0</td>\n",
              "      <td>0</td>\n",
              "      <td>0</td>\n",
              "      <td>0</td>\n",
              "      <td>0</td>\n",
              "      <td>0</td>\n",
              "      <td>0</td>\n",
              "      <td>0</td>\n",
              "      <td>0</td>\n",
              "      <td>0</td>\n",
              "      <td>0</td>\n",
              "      <td>27</td>\n",
              "    </tr>\n",
              "  </tbody>\n",
              "</table>\n",
              "</div>"
            ],
            "text/plain": [
              "    0   1    2   3   4    5   6    7   ...  12   13   14   15   16   17  18  19\n",
              "0   76   0    0   0   0    0   0    0  ...   0    0    0    0    0    0   0   7\n",
              "1    0  89    3   2   5    6   1    0  ...   3    4    2    1    0    0   0   0\n",
              "2    0   4  101   7   4    3   3    0  ...   5    0    1    0    0    0   0   0\n",
              "3    0   4    7  98   4    2   9    0  ...   6    0    0    0    0    0   0   0\n",
              "4    0   1    0   4  93    1   1    1  ...  11    0    0    0    0    0   0   0\n",
              "5    0  13    6   3   1  105   0    1  ...   0    1    0    0    0    0   0   0\n",
              "6    0   2    1   2   4    0  90    2  ...   3    0    1    0    0    0   0   0\n",
              "7    0   0    0   0   1    0   4  105  ...   3    0    0    0    0    0   1   0\n",
              "8    0   0    0   0   0    0   3    8  ...   0    0    0    0    0    0   0   2\n",
              "9    0   0    0   0   0    1   0    0  ...   0    0    0    1    0    0   1   0\n",
              "10   0   0    0   0   0    0   3    0  ...   2    0    0    0    0    1   0   0\n",
              "11   1   0    0   0   0    0   0    0  ...   2    0    0    0    1    0   0   1\n",
              "12   0   1    0   2   3    0   2    2  ...  82    3    0    0    0    0   0   1\n",
              "13   0   0    0   0   0    1   0    0  ...   0  107    0    0    0    0   0   1\n",
              "14   1   2    0   0   0    0   1    0  ...   1    2  114    0    0    0   2   0\n",
              "15  15   0    0   0   0    0   0    0  ...   0    2    0  117    0    0   0  26\n",
              "16   2   0    0   0   0    0   0    0  ...   0    0    1    0  107    0   8   8\n",
              "17   1   1    0   0   0    0   0    0  ...   0    0    0    1    1  110   4   1\n",
              "18   0   0    0   0   0    0   0    0  ...   0    0    0    0    0    2  77   1\n",
              "19   0   0    0   0   0    0   0    0  ...   0    0    0    0    0    0   0  27\n",
              "\n",
              "[20 rows x 20 columns]"
            ]
          },
          "metadata": {
            "tags": []
          },
          "execution_count": 52
        }
      ]
    },
    {
      "cell_type": "code",
      "metadata": {
        "id": "3_S_VvPZlAjm",
        "colab_type": "code",
        "outputId": "d829cf47-dc4a-404e-8a1e-5f4415822080",
        "colab": {
          "base_uri": "https://localhost:8080/",
          "height": 34
        }
      },
      "source": [
        "new_email = [\"\"\" Hi,\n",
        "I purchased a laptop and it is having NVIDIA GTX GeForece 65x graphics card, bu the the graphics is not helping in\n",
        "recognizing or processing high definition videos and playing games, do I need to have game cards or this graphics card can resolve\n",
        "pixel issues.\n",
        "regards\n",
        "Anshu\"\"\"]\n",
        "model.predict(tfidf.transform(new_email).toarray())"
      ],
      "execution_count": 0,
      "outputs": [
        {
          "output_type": "execute_result",
          "data": {
            "text/plain": [
              "array([1])"
            ]
          },
          "metadata": {
            "tags": []
          },
          "execution_count": 53
        }
      ]
    },
    {
      "cell_type": "code",
      "metadata": {
        "id": "lhusNzQ6lwfI",
        "colab_type": "code",
        "outputId": "751ccc72-7f9c-479e-8fb6-9f7b1d1a1026",
        "colab": {
          "base_uri": "https://localhost:8080/",
          "height": 34
        }
      },
      "source": [
        "class_names[1]"
      ],
      "execution_count": 0,
      "outputs": [
        {
          "output_type": "execute_result",
          "data": {
            "text/plain": [
              "'comp.graphics'"
            ]
          },
          "metadata": {
            "tags": []
          },
          "execution_count": 54
        }
      ]
    },
    {
      "cell_type": "code",
      "metadata": {
        "id": "fICOzfhGlyDS",
        "colab_type": "code",
        "colab": {}
      },
      "source": [
        ""
      ],
      "execution_count": 0,
      "outputs": []
    }
  ]
}