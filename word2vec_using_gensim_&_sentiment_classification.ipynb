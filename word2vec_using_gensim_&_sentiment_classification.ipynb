{
  "nbformat": 4,
  "nbformat_minor": 0,
  "metadata": {
    "accelerator": "GPU",
    "colab": {
      "name": "word2vec using gensim & sentiment classification.ipynb",
      "provenance": [],
      "authorship_tag": "ABX9TyPyUqRg7qr8lXPNL/s4L8BZ",
      "include_colab_link": true
    },
    "kernelspec": {
      "display_name": "Python 3",
      "name": "python3"
    }
  },
  "cells": [
    {
      "cell_type": "markdown",
      "metadata": {
        "id": "view-in-github",
        "colab_type": "text"
      },
      "source": [
        "<a href=\"https://colab.research.google.com/github/anshupandey/Natural_language_Processing/blob/master/word2vec_using_gensim_%26_sentiment_classification.ipynb\" target=\"_parent\"><img src=\"https://colab.research.google.com/assets/colab-badge.svg\" alt=\"Open In Colab\"/></a>"
      ]
    },
    {
      "cell_type": "code",
      "metadata": {
        "id": "YhPA10ha6po_"
      },
      "source": [
        "import numpy as np\n",
        "import pandas as pd\n",
        "import gensim\n",
        "import re"
      ],
      "execution_count": null,
      "outputs": []
    },
    {
      "cell_type": "markdown",
      "metadata": {
        "id": "FfWsxGqPBrd0"
      },
      "source": [
        "# Dataset Preparation"
      ]
    },
    {
      "cell_type": "code",
      "metadata": {
        "id": "Qq1GAV6R8T0G"
      },
      "source": [
        "## Downloading datasets\n",
        "!wget -q https://www.dropbox.com/s/0ygoimffauvl7x5/unlabeledTrainData.tsv\n",
        "!wget -q https://www.dropbox.com/s/4f1s02mh6bfjcr5/labeledTrainData.tsv"
      ],
      "execution_count": null,
      "outputs": []
    },
    {
      "cell_type": "code",
      "metadata": {
        "colab": {
          "base_uri": "https://localhost:8080/",
          "height": 195
        },
        "id": "cdjcQ6bH9NBs",
        "outputId": "f61b50e4-6075-4cef-d5fc-ed477520567d"
      },
      "source": [
        "df = pd.read_csv(\"unlabeledTrainData.tsv\",delimiter=\"\\t\",quoting=3)\n",
        "df.head()"
      ],
      "execution_count": null,
      "outputs": [
        {
          "output_type": "execute_result",
          "data": {
            "text/html": [
              "<div>\n",
              "<style scoped>\n",
              "    .dataframe tbody tr th:only-of-type {\n",
              "        vertical-align: middle;\n",
              "    }\n",
              "\n",
              "    .dataframe tbody tr th {\n",
              "        vertical-align: top;\n",
              "    }\n",
              "\n",
              "    .dataframe thead th {\n",
              "        text-align: right;\n",
              "    }\n",
              "</style>\n",
              "<table border=\"1\" class=\"dataframe\">\n",
              "  <thead>\n",
              "    <tr style=\"text-align: right;\">\n",
              "      <th></th>\n",
              "      <th>id</th>\n",
              "      <th>review</th>\n",
              "    </tr>\n",
              "  </thead>\n",
              "  <tbody>\n",
              "    <tr>\n",
              "      <th>0</th>\n",
              "      <td>\"9999_0\"</td>\n",
              "      <td>\"Watching Time Chasers, it obvious that it was...</td>\n",
              "    </tr>\n",
              "    <tr>\n",
              "      <th>1</th>\n",
              "      <td>\"45057_0\"</td>\n",
              "      <td>\"I saw this film about 20 years ago and rememb...</td>\n",
              "    </tr>\n",
              "    <tr>\n",
              "      <th>2</th>\n",
              "      <td>\"15561_0\"</td>\n",
              "      <td>\"Minor Spoilers&lt;br /&gt;&lt;br /&gt;In New York, Joan B...</td>\n",
              "    </tr>\n",
              "    <tr>\n",
              "      <th>3</th>\n",
              "      <td>\"7161_0\"</td>\n",
              "      <td>\"I went to see this film with a great deal of ...</td>\n",
              "    </tr>\n",
              "    <tr>\n",
              "      <th>4</th>\n",
              "      <td>\"43971_0\"</td>\n",
              "      <td>\"Yes, I agree with everyone on this site this ...</td>\n",
              "    </tr>\n",
              "  </tbody>\n",
              "</table>\n",
              "</div>"
            ],
            "text/plain": [
              "          id                                             review\n",
              "0   \"9999_0\"  \"Watching Time Chasers, it obvious that it was...\n",
              "1  \"45057_0\"  \"I saw this film about 20 years ago and rememb...\n",
              "2  \"15561_0\"  \"Minor Spoilers<br /><br />In New York, Joan B...\n",
              "3   \"7161_0\"  \"I went to see this film with a great deal of ...\n",
              "4  \"43971_0\"  \"Yes, I agree with everyone on this site this ..."
            ]
          },
          "metadata": {
            "tags": []
          },
          "execution_count": 3
        }
      ]
    },
    {
      "cell_type": "code",
      "metadata": {
        "colab": {
          "base_uri": "https://localhost:8080/"
        },
        "id": "e70HD4Jtz6G-",
        "outputId": "6a9f8599-9970-4504-f4d2-345b5c8cd510"
      },
      "source": [
        "df.shape"
      ],
      "execution_count": null,
      "outputs": [
        {
          "output_type": "execute_result",
          "data": {
            "text/plain": [
              "(50000, 2)"
            ]
          },
          "metadata": {
            "tags": []
          },
          "execution_count": 4
        }
      ]
    },
    {
      "cell_type": "code",
      "metadata": {
        "colab": {
          "base_uri": "https://localhost:8080/",
          "height": 120
        },
        "id": "uSjJ2c3T_hIn",
        "outputId": "f76f0957-95b8-4a76-f8bb-c1a28efd653b"
      },
      "source": [
        "df['review'][2]"
      ],
      "execution_count": null,
      "outputs": [
        {
          "output_type": "execute_result",
          "data": {
            "application/vnd.google.colaboratory.intrinsic+json": {
              "type": "string"
            },
            "text/plain": [
              "'\"Minor Spoilers<br /><br />In New York, Joan Barnard (Elvire Audrey) is informed that her husband, the archeologist Arthur Barnard (John Saxon), was mysteriously murdered in Italy while searching an Etruscan tomb. Joan decides to travel to Italy, in the company of her colleague, who offers his support. Once in Italy, she starts having visions relative to an ancient people and maggots, many maggots. After shootings and weird events, Joan realizes that her father is an international drug dealer, there are drugs hidden in the tomb and her colleague is a detective of the narcotic department. The story ends back in New York, when Joan and her colleague decide to get married with each other, in a very romantic end. Yesterday I had the displeasure of wasting my time watching this crap. The story is so absurd, mixing thriller, crime, supernatural and horror (and even a romantic end) in a non-sense way. The acting is the worst possible, highlighting the horrible performance of the beautiful Elvire Audrey. John Saxon just gives his name to the credits and works less than five minutes, when his character is killed. The special effects are limited to maggots everywhere. The direction is ridiculous. I lost a couple of hours of my life watching \\'Assassinio al Cimitero Etrusco\\'. If you have the desire or curiosity of seeing this trash, choose another movie, go to a pizzeria, watch TV, go sleep, navigate in Internet, go to the gym, but do not waste your time like I did. My vote is two.<br /><br />Title (Brazil): \\'O Mistério Etrusco\\' (\\'The Etruscan Mystery\\')\"'"
            ]
          },
          "metadata": {
            "tags": []
          },
          "execution_count": 5
        }
      ]
    },
    {
      "cell_type": "code",
      "metadata": {
        "colab": {
          "base_uri": "https://localhost:8080/"
        },
        "id": "7vYEB5AT_xWu",
        "outputId": "a76e5966-146e-4887-e093-55954297dc23"
      },
      "source": [
        "df.shape"
      ],
      "execution_count": null,
      "outputs": [
        {
          "output_type": "execute_result",
          "data": {
            "text/plain": [
              "(50000, 2)"
            ]
          },
          "metadata": {
            "tags": []
          },
          "execution_count": 6
        }
      ]
    },
    {
      "cell_type": "code",
      "metadata": {
        "colab": {
          "base_uri": "https://localhost:8080/",
          "height": 120
        },
        "id": "JWdasNLq_8ux",
        "outputId": "c57e8cfc-11db-4b2b-e253-e8fa6b49c2cf"
      },
      "source": [
        "def clean_data(doc):\n",
        "  doc = re.sub(\"<br\",\" \",doc)\n",
        "  doc = re.sub(\"[^A-Za-z]\",\" \",doc)\n",
        "  doc = \" \".join([w.strip() for w in doc.strip().lower().split()])\n",
        "  return doc\n",
        "clean_data(df['review'][2])"
      ],
      "execution_count": null,
      "outputs": [
        {
          "output_type": "execute_result",
          "data": {
            "application/vnd.google.colaboratory.intrinsic+json": {
              "type": "string"
            },
            "text/plain": [
              "'minor spoilers in new york joan barnard elvire audrey is informed that her husband the archeologist arthur barnard john saxon was mysteriously murdered in italy while searching an etruscan tomb joan decides to travel to italy in the company of her colleague who offers his support once in italy she starts having visions relative to an ancient people and maggots many maggots after shootings and weird events joan realizes that her father is an international drug dealer there are drugs hidden in the tomb and her colleague is a detective of the narcotic department the story ends back in new york when joan and her colleague decide to get married with each other in a very romantic end yesterday i had the displeasure of wasting my time watching this crap the story is so absurd mixing thriller crime supernatural and horror and even a romantic end in a non sense way the acting is the worst possible highlighting the horrible performance of the beautiful elvire audrey john saxon just gives his name to the credits and works less than five minutes when his character is killed the special effects are limited to maggots everywhere the direction is ridiculous i lost a couple of hours of my life watching assassinio al cimitero etrusco if you have the desire or curiosity of seeing this trash choose another movie go to a pizzeria watch tv go sleep navigate in internet go to the gym but do not waste your time like i did my vote is two title brazil o mist rio etrusco the etruscan mystery'"
            ]
          },
          "metadata": {
            "tags": []
          },
          "execution_count": 7
        }
      ]
    },
    {
      "cell_type": "code",
      "metadata": {
        "id": "pmpbRqfBA2lZ"
      },
      "source": [
        "df['review'] = df['review'].apply(clean_data)"
      ],
      "execution_count": null,
      "outputs": []
    },
    {
      "cell_type": "markdown",
      "metadata": {
        "id": "CJ5Z4PrtB7Qs"
      },
      "source": [
        "#  Building the word2vec model"
      ]
    },
    {
      "cell_type": "code",
      "metadata": {
        "id": "oBEpqorGB1gD"
      },
      "source": [
        "doc_words = []\n",
        "for doc in df['review']:\n",
        "  doc_words.append(doc.split(' '))"
      ],
      "execution_count": null,
      "outputs": []
    },
    {
      "cell_type": "code",
      "metadata": {
        "colab": {
          "base_uri": "https://localhost:8080/",
          "height": 55
        },
        "id": "lNp0AXkuCMxu",
        "outputId": "4e2dd20b-0fea-4e55-bed0-a56006be469f"
      },
      "source": [
        "print(doc_words[0])"
      ],
      "execution_count": null,
      "outputs": [
        {
          "output_type": "stream",
          "text": [
            "['watching', 'time', 'chasers', 'it', 'obvious', 'that', 'it', 'was', 'made', 'by', 'a', 'bunch', 'of', 'friends', 'maybe', 'they', 'were', 'sitting', 'around', 'one', 'day', 'in', 'film', 'school', 'and', 'said', 'hey', 'let', 's', 'pool', 'our', 'money', 'together', 'and', 'make', 'a', 'really', 'bad', 'movie', 'or', 'something', 'like', 'that', 'what', 'ever', 'they', 'said', 'they', 'still', 'ended', 'up', 'making', 'a', 'really', 'bad', 'movie', 'dull', 'story', 'bad', 'script', 'lame', 'acting', 'poor', 'cinematography', 'bottom', 'of', 'the', 'barrel', 'stock', 'music', 'etc', 'all', 'corners', 'were', 'cut', 'except', 'the', 'one', 'that', 'would', 'have', 'prevented', 'this', 'film', 's', 'release', 'life', 's', 'like', 'that']\n"
          ],
          "name": "stdout"
        }
      ]
    },
    {
      "cell_type": "code",
      "metadata": {
        "colab": {
          "base_uri": "https://localhost:8080/"
        },
        "id": "AnZ7w0czFMij",
        "outputId": "05e742bc-fcee-4c1f-c995-9a40c06debe2"
      },
      "source": [
        "len(doc_words)"
      ],
      "execution_count": null,
      "outputs": [
        {
          "output_type": "execute_result",
          "data": {
            "text/plain": [
              "50000"
            ]
          },
          "metadata": {
            "tags": []
          },
          "execution_count": 10
        }
      ]
    },
    {
      "cell_type": "code",
      "metadata": {
        "colab": {
          "background_save": true
        },
        "id": "yuGt5UgeCOvx"
      },
      "source": [
        "model = gensim.models.Word2Vec(doc_words,size=60,window=5,min_count=10,workers=8)"
      ],
      "execution_count": null,
      "outputs": []
    },
    {
      "cell_type": "code",
      "metadata": {
        "colab": {
          "base_uri": "https://localhost:8080/",
          "height": 35
        },
        "id": "sn2ptmWrDV4k",
        "outputId": "26f02341-b040-41ce-cd12-5e5707277c14"
      },
      "source": [
        "model.wv['time'].shape"
      ],
      "execution_count": null,
      "outputs": [
        {
          "output_type": "execute_result",
          "data": {
            "text/plain": [
              "(60,)"
            ]
          },
          "metadata": {
            "tags": []
          },
          "execution_count": 30
        }
      ]
    },
    {
      "cell_type": "code",
      "metadata": {
        "colab": {
          "background_save": true
        },
        "id": "guKPNh-pEAzb",
        "outputId": "a139450c-3505-4ff7-fb85-199d0ed24435"
      },
      "source": [
        "model.wv['anshu']"
      ],
      "execution_count": null,
      "outputs": [
        {
          "output_type": "execute_result",
          "data": {
            "text/plain": [
              "(60,)"
            ]
          },
          "metadata": {
            "tags": []
          },
          "execution_count": 0
        }
      ]
    },
    {
      "cell_type": "code",
      "metadata": {
        "colab": {
          "base_uri": "https://localhost:8080/",
          "height": 35
        },
        "id": "YVr8Z3BcEF8y",
        "outputId": "a0f185f5-caf9-4297-d227-c51246ee20a9"
      },
      "source": [
        "model.wv.vectors.shape"
      ],
      "execution_count": null,
      "outputs": [
        {
          "output_type": "execute_result",
          "data": {
            "text/plain": [
              "(28322, 60)"
            ]
          },
          "metadata": {
            "tags": []
          },
          "execution_count": 33
        }
      ]
    },
    {
      "cell_type": "code",
      "metadata": {
        "colab": {
          "base_uri": "https://localhost:8080/",
          "height": 245
        },
        "id": "hGvZ9HIqEc5w",
        "outputId": "107714da-a94b-45ec-bcd8-8bf77fd3831e"
      },
      "source": [
        "model.wv.most_similar(\"amazing\")"
      ],
      "execution_count": null,
      "outputs": [
        {
          "output_type": "stream",
          "text": [
            "/usr/local/lib/python3.6/dist-packages/gensim/matutils.py:737: FutureWarning: Conversion of the second argument of issubdtype from `int` to `np.signedinteger` is deprecated. In future, it will be treated as `np.int64 == np.dtype(int).type`.\n",
            "  if np.issubdtype(vec.dtype, np.int):\n"
          ],
          "name": "stderr"
        },
        {
          "output_type": "execute_result",
          "data": {
            "text/plain": [
              "[('incredible', 0.8838388919830322),\n",
              " ('awesome', 0.8553487062454224),\n",
              " ('outstanding', 0.7965909838676453),\n",
              " ('exceptional', 0.7863026857376099),\n",
              " ('excellent', 0.778590977191925),\n",
              " ('fantastic', 0.7588768005371094),\n",
              " ('astounding', 0.7587637901306152),\n",
              " ('wonderful', 0.7351866364479065),\n",
              " ('brilliant', 0.7311931848526001),\n",
              " ('astonishing', 0.718397855758667)]"
            ]
          },
          "metadata": {
            "tags": []
          },
          "execution_count": 34
        }
      ]
    },
    {
      "cell_type": "code",
      "metadata": {
        "colab": {
          "base_uri": "https://localhost:8080/",
          "height": 245
        },
        "id": "rrOKg3iUEy0P",
        "outputId": "e1f7d366-f58b-4361-a318-c390a3c55b45"
      },
      "source": [
        "model.wv.most_similar(\"yummy\")"
      ],
      "execution_count": null,
      "outputs": [
        {
          "output_type": "stream",
          "text": [
            "/usr/local/lib/python3.6/dist-packages/gensim/matutils.py:737: FutureWarning: Conversion of the second argument of issubdtype from `int` to `np.signedinteger` is deprecated. In future, it will be treated as `np.int64 == np.dtype(int).type`.\n",
            "  if np.issubdtype(vec.dtype, np.int):\n"
          ],
          "name": "stderr"
        },
        {
          "output_type": "execute_result",
          "data": {
            "text/plain": [
              "[('elke', 0.8530576229095459),\n",
              " ('sybil', 0.8473795056343079),\n",
              " ('rochelle', 0.8400182723999023),\n",
              " ('mamie', 0.8386257290840149),\n",
              " ('colleen', 0.836223840713501),\n",
              " ('jennings', 0.8339456915855408),\n",
              " ('farah', 0.8334068655967712),\n",
              " ('ditzy', 0.829382061958313),\n",
              " ('dewhurst', 0.8261468410491943),\n",
              " ('lightner', 0.8256781101226807)]"
            ]
          },
          "metadata": {
            "tags": []
          },
          "execution_count": 35
        }
      ]
    },
    {
      "cell_type": "code",
      "metadata": {
        "colab": {
          "base_uri": "https://localhost:8080/",
          "height": 72
        },
        "id": "3lPXXQchE24y",
        "outputId": "aee0ee47-e461-4eab-cf68-7671f39c7c3e"
      },
      "source": [
        "model.save(\"imdb-vector.vec\")"
      ],
      "execution_count": null,
      "outputs": [
        {
          "output_type": "stream",
          "text": [
            "/usr/local/lib/python3.6/dist-packages/smart_open/smart_open_lib.py:252: UserWarning: This function is deprecated, use smart_open.open instead. See the migration notes for details: https://github.com/RaRe-Technologies/smart_open/blob/master/README.rst#migrating-to-the-new-open-function\n",
            "  'See the migration notes for details: %s' % _MIGRATION_NOTES_URL\n"
          ],
          "name": "stderr"
        }
      ]
    },
    {
      "cell_type": "code",
      "metadata": {
        "id": "5cen_qLcFuP_"
      },
      "source": [
        ""
      ],
      "execution_count": null,
      "outputs": []
    },
    {
      "cell_type": "markdown",
      "metadata": {
        "id": "5vIGV4CUGCur"
      },
      "source": [
        "# Sentiment Analysis"
      ]
    },
    {
      "cell_type": "code",
      "metadata": {
        "colab": {
          "base_uri": "https://localhost:8080/",
          "height": 35
        },
        "id": "VsS7B0owGEgO",
        "outputId": "acb8044f-9f4e-40d3-b797-37396fb1598a"
      },
      "source": [
        "df = pd.read_csv(\"labeledTrainData.tsv\",delimiter=\"\\t\",quoting=3)\n",
        "df.shape"
      ],
      "execution_count": null,
      "outputs": [
        {
          "output_type": "execute_result",
          "data": {
            "text/plain": [
              "(25000, 3)"
            ]
          },
          "metadata": {
            "tags": []
          },
          "execution_count": 38
        }
      ]
    },
    {
      "cell_type": "code",
      "metadata": {
        "colab": {
          "base_uri": "https://localhost:8080/",
          "height": 202
        },
        "id": "DC7FpatAGWnj",
        "outputId": "1a80af86-a143-4a4f-b6cb-601754d402f9"
      },
      "source": [
        "df.head()"
      ],
      "execution_count": null,
      "outputs": [
        {
          "output_type": "execute_result",
          "data": {
            "text/html": [
              "<div>\n",
              "<style scoped>\n",
              "    .dataframe tbody tr th:only-of-type {\n",
              "        vertical-align: middle;\n",
              "    }\n",
              "\n",
              "    .dataframe tbody tr th {\n",
              "        vertical-align: top;\n",
              "    }\n",
              "\n",
              "    .dataframe thead th {\n",
              "        text-align: right;\n",
              "    }\n",
              "</style>\n",
              "<table border=\"1\" class=\"dataframe\">\n",
              "  <thead>\n",
              "    <tr style=\"text-align: right;\">\n",
              "      <th></th>\n",
              "      <th>id</th>\n",
              "      <th>sentiment</th>\n",
              "      <th>review</th>\n",
              "    </tr>\n",
              "  </thead>\n",
              "  <tbody>\n",
              "    <tr>\n",
              "      <th>0</th>\n",
              "      <td>\"5814_8\"</td>\n",
              "      <td>1</td>\n",
              "      <td>\"With all this stuff going down at the moment ...</td>\n",
              "    </tr>\n",
              "    <tr>\n",
              "      <th>1</th>\n",
              "      <td>\"2381_9\"</td>\n",
              "      <td>1</td>\n",
              "      <td>\"\\\"The Classic War of the Worlds\\\" by Timothy ...</td>\n",
              "    </tr>\n",
              "    <tr>\n",
              "      <th>2</th>\n",
              "      <td>\"7759_3\"</td>\n",
              "      <td>0</td>\n",
              "      <td>\"The film starts with a manager (Nicholas Bell...</td>\n",
              "    </tr>\n",
              "    <tr>\n",
              "      <th>3</th>\n",
              "      <td>\"3630_4\"</td>\n",
              "      <td>0</td>\n",
              "      <td>\"It must be assumed that those who praised thi...</td>\n",
              "    </tr>\n",
              "    <tr>\n",
              "      <th>4</th>\n",
              "      <td>\"9495_8\"</td>\n",
              "      <td>1</td>\n",
              "      <td>\"Superbly trashy and wondrously unpretentious ...</td>\n",
              "    </tr>\n",
              "  </tbody>\n",
              "</table>\n",
              "</div>"
            ],
            "text/plain": [
              "         id  sentiment                                             review\n",
              "0  \"5814_8\"          1  \"With all this stuff going down at the moment ...\n",
              "1  \"2381_9\"          1  \"\\\"The Classic War of the Worlds\\\" by Timothy ...\n",
              "2  \"7759_3\"          0  \"The film starts with a manager (Nicholas Bell...\n",
              "3  \"3630_4\"          0  \"It must be assumed that those who praised thi...\n",
              "4  \"9495_8\"          1  \"Superbly trashy and wondrously unpretentious ..."
            ]
          },
          "metadata": {
            "tags": []
          },
          "execution_count": 39
        }
      ]
    },
    {
      "cell_type": "code",
      "metadata": {
        "colab": {
          "base_uri": "https://localhost:8080/",
          "height": 202
        },
        "id": "B8AF8etmGXN4",
        "outputId": "2da23451-27c6-44c7-f54a-e55ff28ea2e1"
      },
      "source": [
        "df['review'] = df['review'].apply(clean_data)\n",
        "df.head()"
      ],
      "execution_count": null,
      "outputs": [
        {
          "output_type": "execute_result",
          "data": {
            "text/html": [
              "<div>\n",
              "<style scoped>\n",
              "    .dataframe tbody tr th:only-of-type {\n",
              "        vertical-align: middle;\n",
              "    }\n",
              "\n",
              "    .dataframe tbody tr th {\n",
              "        vertical-align: top;\n",
              "    }\n",
              "\n",
              "    .dataframe thead th {\n",
              "        text-align: right;\n",
              "    }\n",
              "</style>\n",
              "<table border=\"1\" class=\"dataframe\">\n",
              "  <thead>\n",
              "    <tr style=\"text-align: right;\">\n",
              "      <th></th>\n",
              "      <th>id</th>\n",
              "      <th>sentiment</th>\n",
              "      <th>review</th>\n",
              "    </tr>\n",
              "  </thead>\n",
              "  <tbody>\n",
              "    <tr>\n",
              "      <th>0</th>\n",
              "      <td>\"5814_8\"</td>\n",
              "      <td>1</td>\n",
              "      <td>with all this stuff going down at the moment w...</td>\n",
              "    </tr>\n",
              "    <tr>\n",
              "      <th>1</th>\n",
              "      <td>\"2381_9\"</td>\n",
              "      <td>1</td>\n",
              "      <td>the classic war of the worlds by timothy hines...</td>\n",
              "    </tr>\n",
              "    <tr>\n",
              "      <th>2</th>\n",
              "      <td>\"7759_3\"</td>\n",
              "      <td>0</td>\n",
              "      <td>the film starts with a manager nicholas bell g...</td>\n",
              "    </tr>\n",
              "    <tr>\n",
              "      <th>3</th>\n",
              "      <td>\"3630_4\"</td>\n",
              "      <td>0</td>\n",
              "      <td>it must be assumed that those who praised this...</td>\n",
              "    </tr>\n",
              "    <tr>\n",
              "      <th>4</th>\n",
              "      <td>\"9495_8\"</td>\n",
              "      <td>1</td>\n",
              "      <td>superbly trashy and wondrously unpretentious s...</td>\n",
              "    </tr>\n",
              "  </tbody>\n",
              "</table>\n",
              "</div>"
            ],
            "text/plain": [
              "         id  sentiment                                             review\n",
              "0  \"5814_8\"          1  with all this stuff going down at the moment w...\n",
              "1  \"2381_9\"          1  the classic war of the worlds by timothy hines...\n",
              "2  \"7759_3\"          0  the film starts with a manager nicholas bell g...\n",
              "3  \"3630_4\"          0  it must be assumed that those who praised this...\n",
              "4  \"9495_8\"          1  superbly trashy and wondrously unpretentious s..."
            ]
          },
          "metadata": {
            "tags": []
          },
          "execution_count": 40
        }
      ]
    },
    {
      "cell_type": "code",
      "metadata": {
        "id": "n_Oe6C7sGv9U"
      },
      "source": [
        "df['review'][2]"
      ],
      "execution_count": null,
      "outputs": []
    },
    {
      "cell_type": "markdown",
      "metadata": {
        "id": "h4JEQFViG8PC"
      },
      "source": [
        "## Split the dataset into train and test"
      ]
    },
    {
      "cell_type": "code",
      "metadata": {
        "id": "EDBhh5rdG2Y-"
      },
      "source": [
        "from sklearn.model_selection import train_test_split\n",
        "xtrain,xtest,ytrain,ytest = train_test_split(df['review'],df['sentiment'],test_size=0.2,random_state=5)\n"
      ],
      "execution_count": null,
      "outputs": []
    },
    {
      "cell_type": "markdown",
      "metadata": {
        "id": "Xm8wSE1wHs1S"
      },
      "source": [
        "#### text preprocessing with tensorflow"
      ]
    },
    {
      "cell_type": "code",
      "metadata": {
        "id": "tl3FqLZrHNs6"
      },
      "source": [
        "# tokenizing each review\n",
        "from tensorflow.keras.preprocessing import text\n",
        "#creating the tokenization object\n",
        "tok = text.Tokenizer(num_words=15000)\n",
        "tok.fit_on_texts(xtrain.tolist())\n"
      ],
      "execution_count": null,
      "outputs": []
    },
    {
      "cell_type": "code",
      "metadata": {
        "id": "4GMW5ww_ImaZ"
      },
      "source": [
        "# get the notations of tokenized words for train and test documents\n",
        "xtrain = tok.texts_to_sequences(xtrain.tolist())\n",
        "xtest = tok.texts_to_sequences(xtest.tolist())\n"
      ],
      "execution_count": null,
      "outputs": []
    },
    {
      "cell_type": "code",
      "metadata": {
        "colab": {
          "base_uri": "https://localhost:8080/",
          "height": 104
        },
        "id": "wv5vThgNIz6q",
        "outputId": "0a0de16b-e8b6-475e-b56f-2f773e67858d"
      },
      "source": [
        "for doc in xtrain[:5]:\n",
        "  print(len(doc))"
      ],
      "execution_count": null,
      "outputs": [
        {
          "output_type": "stream",
          "text": [
            "201\n",
            "90\n",
            "116\n",
            "418\n",
            "205\n"
          ],
          "name": "stdout"
        }
      ]
    },
    {
      "cell_type": "code",
      "metadata": {
        "colab": {
          "base_uri": "https://localhost:8080/",
          "height": 35
        },
        "id": "5lz0IqLpJDZV",
        "outputId": "f83b2644-5d88-44f6-8e2a-6b9034096936"
      },
      "source": [
        "np.mean([len(doc) for doc in xtrain])"
      ],
      "execution_count": null,
      "outputs": [
        {
          "output_type": "execute_result",
          "data": {
            "text/plain": [
              "229.2208"
            ]
          },
          "metadata": {
            "tags": []
          },
          "execution_count": 47
        }
      ]
    },
    {
      "cell_type": "code",
      "metadata": {
        "id": "pYmRMcPQJQEk"
      },
      "source": [
        "doc_length=300\n",
        "from tensorflow.keras.preprocessing import sequence\n",
        "# padding of each doc to resize all docs to same size\n",
        "xtrain = sequence.pad_sequences(xtrain,maxlen=doc_length,padding='post')\n",
        "xtest = sequence.pad_sequences(xtest,maxlen=doc_length,padding='post')"
      ],
      "execution_count": null,
      "outputs": []
    },
    {
      "cell_type": "markdown",
      "metadata": {
        "id": "NYreI2N4KsnW"
      },
      "source": [
        "## Modelling part"
      ]
    },
    {
      "cell_type": "code",
      "metadata": {
        "colab": {
          "base_uri": "https://localhost:8080/",
          "height": 89
        },
        "id": "ON9tCKEIJpUI",
        "outputId": "e6ac011e-a801-4ed0-8131-b40b8d3c7190"
      },
      "source": [
        "word2vec = gensim.models.Word2Vec.load(\"/content/imdb-vector.vec\")\n",
        "\n",
        "# embedding length for each word\n",
        "vector_length=word2vec.wv.vector_size\n",
        "vector_length"
      ],
      "execution_count": null,
      "outputs": [
        {
          "output_type": "stream",
          "text": [
            "/usr/local/lib/python3.6/dist-packages/smart_open/smart_open_lib.py:252: UserWarning: This function is deprecated, use smart_open.open instead. See the migration notes for details: https://github.com/RaRe-Technologies/smart_open/blob/master/README.rst#migrating-to-the-new-open-function\n",
            "  'See the migration notes for details: %s' % _MIGRATION_NOTES_URL\n"
          ],
          "name": "stderr"
        },
        {
          "output_type": "execute_result",
          "data": {
            "text/plain": [
              "60"
            ]
          },
          "metadata": {
            "tags": []
          },
          "execution_count": 51
        }
      ]
    },
    {
      "cell_type": "code",
      "metadata": {
        "colab": {
          "base_uri": "https://localhost:8080/",
          "height": 1000
        },
        "id": "9EXxE-lCMrYr",
        "outputId": "2a2a4819-860a-4057-f685-823352c68a38"
      },
      "source": [
        "tok.word_index"
      ],
      "execution_count": null,
      "outputs": [
        {
          "output_type": "execute_result",
          "data": {
            "text/plain": [
              "{'the': 1,\n",
              " 'and': 2,\n",
              " 'a': 3,\n",
              " 'of': 4,\n",
              " 'to': 5,\n",
              " 'is': 6,\n",
              " 'it': 7,\n",
              " 'in': 8,\n",
              " 'i': 9,\n",
              " 'this': 10,\n",
              " 'that': 11,\n",
              " 's': 12,\n",
              " 'was': 13,\n",
              " 'as': 14,\n",
              " 'for': 15,\n",
              " 'with': 16,\n",
              " 'movie': 17,\n",
              " 'but': 18,\n",
              " 'film': 19,\n",
              " 'you': 20,\n",
              " 't': 21,\n",
              " 'on': 22,\n",
              " 'not': 23,\n",
              " 'he': 24,\n",
              " 'are': 25,\n",
              " 'his': 26,\n",
              " 'have': 27,\n",
              " 'be': 28,\n",
              " 'one': 29,\n",
              " 'all': 30,\n",
              " 'at': 31,\n",
              " 'they': 32,\n",
              " 'by': 33,\n",
              " 'an': 34,\n",
              " 'who': 35,\n",
              " 'so': 36,\n",
              " 'from': 37,\n",
              " 'like': 38,\n",
              " 'there': 39,\n",
              " 'her': 40,\n",
              " 'or': 41,\n",
              " 'just': 42,\n",
              " 'about': 43,\n",
              " 'out': 44,\n",
              " 'if': 45,\n",
              " 'has': 46,\n",
              " 'what': 47,\n",
              " 'some': 48,\n",
              " 'good': 49,\n",
              " 'can': 50,\n",
              " 'she': 51,\n",
              " 'more': 52,\n",
              " 'when': 53,\n",
              " 'very': 54,\n",
              " 'up': 55,\n",
              " 'even': 56,\n",
              " 'no': 57,\n",
              " 'time': 58,\n",
              " 'would': 59,\n",
              " 'my': 60,\n",
              " 'which': 61,\n",
              " 'story': 62,\n",
              " 'only': 63,\n",
              " 'really': 64,\n",
              " 'see': 65,\n",
              " 'their': 66,\n",
              " 'had': 67,\n",
              " 'me': 68,\n",
              " 'we': 69,\n",
              " 'were': 70,\n",
              " 'well': 71,\n",
              " 'than': 72,\n",
              " 'much': 73,\n",
              " 'people': 74,\n",
              " 'get': 75,\n",
              " 'been': 76,\n",
              " 'will': 77,\n",
              " 'bad': 78,\n",
              " 'do': 79,\n",
              " 'other': 80,\n",
              " 'also': 81,\n",
              " 'into': 82,\n",
              " 'great': 83,\n",
              " 'because': 84,\n",
              " 'first': 85,\n",
              " 'him': 86,\n",
              " 'how': 87,\n",
              " 'don': 88,\n",
              " 'most': 89,\n",
              " 'made': 90,\n",
              " 'then': 91,\n",
              " 'its': 92,\n",
              " 'make': 93,\n",
              " 'way': 94,\n",
              " 'could': 95,\n",
              " 'them': 96,\n",
              " 'too': 97,\n",
              " 'movies': 98,\n",
              " 'after': 99,\n",
              " 'any': 100,\n",
              " 'think': 101,\n",
              " 'characters': 102,\n",
              " 'character': 103,\n",
              " 'watch': 104,\n",
              " 'films': 105,\n",
              " 'two': 106,\n",
              " 'many': 107,\n",
              " 'seen': 108,\n",
              " 'life': 109,\n",
              " 'being': 110,\n",
              " 'plot': 111,\n",
              " 'never': 112,\n",
              " 'acting': 113,\n",
              " 'little': 114,\n",
              " 'best': 115,\n",
              " 'love': 116,\n",
              " 'where': 117,\n",
              " 'did': 118,\n",
              " 'over': 119,\n",
              " 'know': 120,\n",
              " 'show': 121,\n",
              " 'off': 122,\n",
              " 'does': 123,\n",
              " 'man': 124,\n",
              " 'ever': 125,\n",
              " 'here': 126,\n",
              " 'better': 127,\n",
              " 'end': 128,\n",
              " 'your': 129,\n",
              " 'still': 130,\n",
              " 'say': 131,\n",
              " 'these': 132,\n",
              " 'scene': 133,\n",
              " 'while': 134,\n",
              " 'why': 135,\n",
              " 'scenes': 136,\n",
              " 'go': 137,\n",
              " 'such': 138,\n",
              " 'm': 139,\n",
              " 've': 140,\n",
              " 'something': 141,\n",
              " 'should': 142,\n",
              " 'through': 143,\n",
              " 'back': 144,\n",
              " 'those': 145,\n",
              " 'real': 146,\n",
              " 'watching': 147,\n",
              " 'now': 148,\n",
              " 'thing': 149,\n",
              " 'doesn': 150,\n",
              " 're': 151,\n",
              " 'though': 152,\n",
              " 'years': 153,\n",
              " 'old': 154,\n",
              " 'actors': 155,\n",
              " 'director': 156,\n",
              " 'work': 157,\n",
              " 'new': 158,\n",
              " 'didn': 159,\n",
              " 'before': 160,\n",
              " 'another': 161,\n",
              " 'nothing': 162,\n",
              " 'funny': 163,\n",
              " 'actually': 164,\n",
              " 'makes': 165,\n",
              " 'going': 166,\n",
              " 'few': 167,\n",
              " 'look': 168,\n",
              " 'find': 169,\n",
              " 'lot': 170,\n",
              " 'same': 171,\n",
              " 'part': 172,\n",
              " 'again': 173,\n",
              " 'every': 174,\n",
              " 'world': 175,\n",
              " 'cast': 176,\n",
              " 'quite': 177,\n",
              " 'us': 178,\n",
              " 'down': 179,\n",
              " 'want': 180,\n",
              " 'things': 181,\n",
              " 'young': 182,\n",
              " 'around': 183,\n",
              " 'pretty': 184,\n",
              " 'seems': 185,\n",
              " 'horror': 186,\n",
              " 'however': 187,\n",
              " 'got': 188,\n",
              " 'take': 189,\n",
              " 'fact': 190,\n",
              " 'long': 191,\n",
              " 'enough': 192,\n",
              " 'thought': 193,\n",
              " 'big': 194,\n",
              " 'give': 195,\n",
              " 'may': 196,\n",
              " 'd': 197,\n",
              " 'own': 198,\n",
              " 'both': 199,\n",
              " 'original': 200,\n",
              " 'between': 201,\n",
              " 'without': 202,\n",
              " 'action': 203,\n",
              " 'right': 204,\n",
              " 'series': 205,\n",
              " 'times': 206,\n",
              " 'gets': 207,\n",
              " 'comedy': 208,\n",
              " 'point': 209,\n",
              " 'always': 210,\n",
              " 'come': 211,\n",
              " 'must': 212,\n",
              " 'family': 213,\n",
              " 'role': 214,\n",
              " 'saw': 215,\n",
              " 'isn': 216,\n",
              " 'least': 217,\n",
              " 'whole': 218,\n",
              " 'music': 219,\n",
              " 'interesting': 220,\n",
              " 'almost': 221,\n",
              " 'guy': 222,\n",
              " 'done': 223,\n",
              " 'script': 224,\n",
              " 'making': 225,\n",
              " 'bit': 226,\n",
              " 'far': 227,\n",
              " 'anything': 228,\n",
              " 'feel': 229,\n",
              " 'since': 230,\n",
              " 'last': 231,\n",
              " 'might': 232,\n",
              " 'performance': 233,\n",
              " 'girl': 234,\n",
              " 'll': 235,\n",
              " 'minutes': 236,\n",
              " 'probably': 237,\n",
              " 'am': 238,\n",
              " 'woman': 239,\n",
              " 'tv': 240,\n",
              " 'yet': 241,\n",
              " 'kind': 242,\n",
              " 'rather': 243,\n",
              " 'away': 244,\n",
              " 'worst': 245,\n",
              " 'sure': 246,\n",
              " 'hard': 247,\n",
              " 'day': 248,\n",
              " 'fun': 249,\n",
              " 'anyone': 250,\n",
              " 'found': 251,\n",
              " 'played': 252,\n",
              " 'each': 253,\n",
              " 'especially': 254,\n",
              " 'believe': 255,\n",
              " 'having': 256,\n",
              " 'although': 257,\n",
              " 'trying': 258,\n",
              " 'our': 259,\n",
              " 'looking': 260,\n",
              " 'course': 261,\n",
              " 'screen': 262,\n",
              " 'goes': 263,\n",
              " 'set': 264,\n",
              " 'looks': 265,\n",
              " 'actor': 266,\n",
              " 'comes': 267,\n",
              " 'book': 268,\n",
              " 'put': 269,\n",
              " 'place': 270,\n",
              " 'dvd': 271,\n",
              " 'maybe': 272,\n",
              " 'different': 273,\n",
              " 'reason': 274,\n",
              " 'ending': 275,\n",
              " 'money': 276,\n",
              " 'year': 277,\n",
              " 'someone': 278,\n",
              " 'wasn': 279,\n",
              " 'let': 280,\n",
              " 'everything': 281,\n",
              " 'sense': 282,\n",
              " 'once': 283,\n",
              " 'three': 284,\n",
              " 'shows': 285,\n",
              " 'true': 286,\n",
              " 'worth': 287,\n",
              " 'job': 288,\n",
              " 'main': 289,\n",
              " 'watched': 290,\n",
              " 'together': 291,\n",
              " 'american': 292,\n",
              " 'instead': 293,\n",
              " 'play': 294,\n",
              " 'takes': 295,\n",
              " 'plays': 296,\n",
              " 'audience': 297,\n",
              " 'everyone': 298,\n",
              " 'said': 299,\n",
              " 'effects': 300,\n",
              " 'john': 301,\n",
              " 'later': 302,\n",
              " 'night': 303,\n",
              " 'seem': 304,\n",
              " 'high': 305,\n",
              " 'himself': 306,\n",
              " 'house': 307,\n",
              " 'wife': 308,\n",
              " 'during': 309,\n",
              " 'beautiful': 310,\n",
              " 'star': 311,\n",
              " 'left': 312,\n",
              " 'excellent': 313,\n",
              " 'father': 314,\n",
              " 'seeing': 315,\n",
              " 'special': 316,\n",
              " 'half': 317,\n",
              " 'version': 318,\n",
              " 'black': 319,\n",
              " 'idea': 320,\n",
              " 'shot': 321,\n",
              " 'war': 322,\n",
              " 'mind': 323,\n",
              " 'nice': 324,\n",
              " 'simply': 325,\n",
              " 'less': 326,\n",
              " 'read': 327,\n",
              " 'else': 328,\n",
              " 'death': 329,\n",
              " 'second': 330,\n",
              " 'poor': 331,\n",
              " 'hollywood': 332,\n",
              " 'men': 333,\n",
              " 'fan': 334,\n",
              " 'used': 335,\n",
              " 'completely': 336,\n",
              " 'help': 337,\n",
              " 'short': 338,\n",
              " 'classic': 339,\n",
              " 'dead': 340,\n",
              " 'budget': 341,\n",
              " 'home': 342,\n",
              " 'either': 343,\n",
              " 'low': 344,\n",
              " 'line': 345,\n",
              " 'enjoy': 346,\n",
              " 'top': 347,\n",
              " 'given': 348,\n",
              " 'kids': 349,\n",
              " 'try': 350,\n",
              " 'use': 351,\n",
              " 'need': 352,\n",
              " 'until': 353,\n",
              " 'wrong': 354,\n",
              " 'women': 355,\n",
              " 'boring': 356,\n",
              " 'production': 357,\n",
              " 'friends': 358,\n",
              " 'performances': 359,\n",
              " 'rest': 360,\n",
              " 'full': 361,\n",
              " 'along': 362,\n",
              " 'truly': 363,\n",
              " 'camera': 364,\n",
              " 'next': 365,\n",
              " 'video': 366,\n",
              " 'won': 367,\n",
              " 'start': 368,\n",
              " 'stars': 369,\n",
              " 'perhaps': 370,\n",
              " 'stupid': 371,\n",
              " 'tell': 372,\n",
              " 'sex': 373,\n",
              " 'awful': 374,\n",
              " 'recommend': 375,\n",
              " 'couple': 376,\n",
              " 'terrible': 377,\n",
              " 'mean': 378,\n",
              " 'understand': 379,\n",
              " 'remember': 380,\n",
              " 'came': 381,\n",
              " 'wonderful': 382,\n",
              " 'face': 383,\n",
              " 'small': 384,\n",
              " 'episode': 385,\n",
              " 'school': 386,\n",
              " 'moments': 387,\n",
              " 'doing': 388,\n",
              " 'name': 389,\n",
              " 'getting': 390,\n",
              " 'playing': 391,\n",
              " 'style': 392,\n",
              " 'early': 393,\n",
              " 'often': 394,\n",
              " 'others': 395,\n",
              " 'human': 396,\n",
              " 'keep': 397,\n",
              " 'lost': 398,\n",
              " 'written': 399,\n",
              " 'itself': 400,\n",
              " 'person': 401,\n",
              " 'head': 402,\n",
              " 'perfect': 403,\n",
              " 'piece': 404,\n",
              " 'dialogue': 405,\n",
              " 'definitely': 406,\n",
              " 'lines': 407,\n",
              " 'gives': 408,\n",
              " 'become': 409,\n",
              " 'boy': 410,\n",
              " 'yes': 411,\n",
              " 'children': 412,\n",
              " 'case': 413,\n",
              " 'cinema': 414,\n",
              " 'finally': 415,\n",
              " 'liked': 416,\n",
              " 'felt': 417,\n",
              " 'live': 418,\n",
              " 'supposed': 419,\n",
              " 'picture': 420,\n",
              " 'worse': 421,\n",
              " 'title': 422,\n",
              " 'mr': 423,\n",
              " 'couldn': 424,\n",
              " 'entire': 425,\n",
              " 'white': 426,\n",
              " 'mother': 427,\n",
              " 'certainly': 428,\n",
              " 'went': 429,\n",
              " 'oh': 430,\n",
              " 'waste': 431,\n",
              " 'sort': 432,\n",
              " 'fans': 433,\n",
              " 'overall': 434,\n",
              " 'absolutely': 435,\n",
              " 'problem': 436,\n",
              " 'friend': 437,\n",
              " 'killer': 438,\n",
              " 'loved': 439,\n",
              " 'evil': 440,\n",
              " 'hope': 441,\n",
              " 'against': 442,\n",
              " 'called': 443,\n",
              " 'lives': 444,\n",
              " 'entertaining': 445,\n",
              " 'based': 446,\n",
              " 'several': 447,\n",
              " 'beginning': 448,\n",
              " 'michael': 449,\n",
              " 'under': 450,\n",
              " 'dark': 451,\n",
              " 'example': 452,\n",
              " 'direction': 453,\n",
              " 'already': 454,\n",
              " 'son': 455,\n",
              " 'laugh': 456,\n",
              " 'care': 457,\n",
              " 'wanted': 458,\n",
              " 'despite': 459,\n",
              " 'drama': 460,\n",
              " 'turn': 461,\n",
              " 'becomes': 462,\n",
              " 'b': 463,\n",
              " 'amazing': 464,\n",
              " 'final': 465,\n",
              " 'seemed': 466,\n",
              " 'wants': 467,\n",
              " 'unfortunately': 468,\n",
              " 'throughout': 469,\n",
              " 'art': 470,\n",
              " 'heart': 471,\n",
              " 'writing': 472,\n",
              " 'fine': 473,\n",
              " 'history': 474,\n",
              " 'quality': 475,\n",
              " 'child': 476,\n",
              " 'guys': 477,\n",
              " 'sound': 478,\n",
              " 'totally': 479,\n",
              " 'works': 480,\n",
              " 'close': 481,\n",
              " 'hand': 482,\n",
              " 'guess': 483,\n",
              " 'act': 484,\n",
              " 'humor': 485,\n",
              " 'side': 486,\n",
              " 'today': 487,\n",
              " 'lead': 488,\n",
              " 'viewer': 489,\n",
              " 'behind': 490,\n",
              " 'days': 491,\n",
              " 'flick': 492,\n",
              " 'past': 493,\n",
              " 'tries': 494,\n",
              " 'game': 495,\n",
              " 'god': 496,\n",
              " 'genre': 497,\n",
              " 'town': 498,\n",
              " 'enjoyed': 499,\n",
              " 'able': 500,\n",
              " 'car': 501,\n",
              " 'run': 502,\n",
              " 'starts': 503,\n",
              " 'kill': 504,\n",
              " 'turns': 505,\n",
              " 'gave': 506,\n",
              " 'city': 507,\n",
              " 'favorite': 508,\n",
              " 'soon': 509,\n",
              " 'actress': 510,\n",
              " 'late': 511,\n",
              " 'eyes': 512,\n",
              " 'self': 513,\n",
              " 'brilliant': 514,\n",
              " 'sometimes': 515,\n",
              " 'blood': 516,\n",
              " 'girls': 517,\n",
              " 'kid': 518,\n",
              " 'obviously': 519,\n",
              " 'horrible': 520,\n",
              " 'etc': 521,\n",
              " 'expect': 522,\n",
              " 'themselves': 523,\n",
              " 'stuff': 524,\n",
              " 'thinking': 525,\n",
              " 'decent': 526,\n",
              " 'directed': 527,\n",
              " 'hour': 528,\n",
              " 'parts': 529,\n",
              " 'stories': 530,\n",
              " 'highly': 531,\n",
              " 'feeling': 532,\n",
              " 'myself': 533,\n",
              " 'fight': 534,\n",
              " 'daughter': 535,\n",
              " 'type': 536,\n",
              " 'writer': 537,\n",
              " 'matter': 538,\n",
              " 'moment': 539,\n",
              " 'killed': 540,\n",
              " 'anyway': 541,\n",
              " 'except': 542,\n",
              " 'leave': 543,\n",
              " 'voice': 544,\n",
              " 'cannot': 545,\n",
              " 'heard': 546,\n",
              " 'took': 547,\n",
              " 'police': 548,\n",
              " 'says': 549,\n",
              " 'slow': 550,\n",
              " 'roles': 551,\n",
              " 'involved': 552,\n",
              " 'age': 553,\n",
              " 'lack': 554,\n",
              " 'hit': 555,\n",
              " 'brother': 556,\n",
              " 'particularly': 557,\n",
              " 'happened': 558,\n",
              " 'wouldn': 559,\n",
              " 'stop': 560,\n",
              " 'murder': 561,\n",
              " 'strong': 562,\n",
              " 'violence': 563,\n",
              " 'happens': 564,\n",
              " 'david': 565,\n",
              " 'alone': 566,\n",
              " 'extremely': 567,\n",
              " 'experience': 568,\n",
              " 'attempt': 569,\n",
              " 'obvious': 570,\n",
              " 'james': 571,\n",
              " 'coming': 572,\n",
              " 'happen': 573,\n",
              " 'known': 574,\n",
              " 'none': 575,\n",
              " 'crap': 576,\n",
              " 'hero': 577,\n",
              " 'including': 578,\n",
              " 'told': 579,\n",
              " 'interest': 580,\n",
              " 'chance': 581,\n",
              " 'wonder': 582,\n",
              " 'gore': 583,\n",
              " 'living': 584,\n",
              " 'group': 585,\n",
              " 'career': 586,\n",
              " 'seriously': 587,\n",
              " 'husband': 588,\n",
              " 'ago': 589,\n",
              " 'ok': 590,\n",
              " 'score': 591,\n",
              " 'simple': 592,\n",
              " 'hell': 593,\n",
              " 'please': 594,\n",
              " 'complete': 595,\n",
              " 'looked': 596,\n",
              " 'annoying': 597,\n",
              " 'song': 598,\n",
              " 'cut': 599,\n",
              " 'king': 600,\n",
              " 'yourself': 601,\n",
              " 'shown': 602,\n",
              " 'english': 603,\n",
              " 'number': 604,\n",
              " 'across': 605,\n",
              " 'sad': 606,\n",
              " 'jokes': 607,\n",
              " 'ends': 608,\n",
              " 'running': 609,\n",
              " 'possible': 610,\n",
              " 'released': 611,\n",
              " 'musical': 612,\n",
              " 'reality': 613,\n",
              " 'exactly': 614,\n",
              " 'cinematography': 615,\n",
              " 'hours': 616,\n",
              " 'power': 617,\n",
              " 'scary': 618,\n",
              " 'body': 619,\n",
              " 'whose': 620,\n",
              " 'usual': 621,\n",
              " 'view': 622,\n",
              " 'hilarious': 623,\n",
              " 'level': 624,\n",
              " 'usually': 625,\n",
              " 'taken': 626,\n",
              " 'country': 627,\n",
              " 'ridiculous': 628,\n",
              " 'save': 629,\n",
              " 'serious': 630,\n",
              " 'strange': 631,\n",
              " 'novel': 632,\n",
              " 'happy': 633,\n",
              " 'rating': 634,\n",
              " 'somewhat': 635,\n",
              " 'change': 636,\n",
              " 'finds': 637,\n",
              " 'saying': 638,\n",
              " 'middle': 639,\n",
              " 'robert': 640,\n",
              " 'shots': 641,\n",
              " 'talking': 642,\n",
              " 'opening': 643,\n",
              " 'opinion': 644,\n",
              " 'light': 645,\n",
              " 'order': 646,\n",
              " 'ones': 647,\n",
              " 'disappointed': 648,\n",
              " 'female': 649,\n",
              " 'huge': 650,\n",
              " 'wish': 651,\n",
              " 'started': 652,\n",
              " 'major': 653,\n",
              " 'apparently': 654,\n",
              " 'word': 655,\n",
              " 'call': 656,\n",
              " 'episodes': 657,\n",
              " 'four': 658,\n",
              " 'mostly': 659,\n",
              " 'attention': 660,\n",
              " 'earth': 661,\n",
              " 'cool': 662,\n",
              " 'basically': 663,\n",
              " 'taking': 664,\n",
              " 'modern': 665,\n",
              " 'events': 666,\n",
              " 'talent': 667,\n",
              " 'important': 668,\n",
              " 'room': 669,\n",
              " 'due': 670,\n",
              " 'relationship': 671,\n",
              " 'cheap': 672,\n",
              " 'turned': 673,\n",
              " 'clearly': 674,\n",
              " 'documentary': 675,\n",
              " 'problems': 676,\n",
              " 'thriller': 677,\n",
              " 'o': 678,\n",
              " 'five': 679,\n",
              " 'non': 680,\n",
              " 'comic': 681,\n",
              " 'single': 682,\n",
              " 'tells': 683,\n",
              " 'class': 684,\n",
              " 'words': 685,\n",
              " 'british': 686,\n",
              " 'miss': 687,\n",
              " 'jack': 688,\n",
              " 'paul': 689,\n",
              " 'george': 690,\n",
              " 'knew': 691,\n",
              " 'local': 692,\n",
              " 'easily': 693,\n",
              " 'television': 694,\n",
              " 'fast': 695,\n",
              " 'mystery': 696,\n",
              " 'knows': 697,\n",
              " 'sequence': 698,\n",
              " 'rock': 699,\n",
              " 'aren': 700,\n",
              " 'supporting': 701,\n",
              " 'falls': 702,\n",
              " 'entertainment': 703,\n",
              " 'songs': 704,\n",
              " 'silly': 705,\n",
              " 'eye': 706,\n",
              " 'straight': 707,\n",
              " 'predictable': 708,\n",
              " 'bring': 709,\n",
              " 'future': 710,\n",
              " 'needs': 711,\n",
              " 'giving': 712,\n",
              " 'sets': 713,\n",
              " 'similar': 714,\n",
              " 'beyond': 715,\n",
              " 'richard': 716,\n",
              " 'clich': 717,\n",
              " 'review': 718,\n",
              " 'message': 719,\n",
              " 'moving': 720,\n",
              " 'talk': 721,\n",
              " 'sister': 722,\n",
              " 'lady': 723,\n",
              " 'theater': 724,\n",
              " 'ten': 725,\n",
              " 'lots': 726,\n",
              " 'appears': 727,\n",
              " 'romantic': 728,\n",
              " 'whether': 729,\n",
              " 'dull': 730,\n",
              " 'enjoyable': 731,\n",
              " 'near': 732,\n",
              " 'nearly': 733,\n",
              " 'within': 734,\n",
              " 'york': 735,\n",
              " 'animation': 736,\n",
              " 'add': 737,\n",
              " 'haven': 738,\n",
              " 'oscar': 739,\n",
              " 'upon': 740,\n",
              " 'team': 741,\n",
              " 'stand': 742,\n",
              " 'named': 743,\n",
              " 'points': 744,\n",
              " 'mention': 745,\n",
              " 'easy': 746,\n",
              " 'bunch': 747,\n",
              " 'storyline': 748,\n",
              " 'ways': 749,\n",
              " 'release': 750,\n",
              " 'theme': 751,\n",
              " 'lee': 752,\n",
              " 'comments': 753,\n",
              " 'feature': 754,\n",
              " 'herself': 755,\n",
              " 'minute': 756,\n",
              " 'season': 757,\n",
              " 'feels': 758,\n",
              " 'viewers': 759,\n",
              " 'red': 760,\n",
              " 'begins': 761,\n",
              " 'tale': 762,\n",
              " 'tom': 763,\n",
              " 'sequel': 764,\n",
              " 'die': 765,\n",
              " 'surprised': 766,\n",
              " 'actual': 767,\n",
              " 'working': 768,\n",
              " 'famous': 769,\n",
              " 'peter': 770,\n",
              " 'above': 771,\n",
              " 'form': 772,\n",
              " 'effort': 773,\n",
              " 'using': 774,\n",
              " 'soundtrack': 775,\n",
              " 'elements': 776,\n",
              " 'among': 777,\n",
              " 'clear': 778,\n",
              " 'e': 779,\n",
              " 'fantastic': 780,\n",
              " 'stay': 781,\n",
              " 'follow': 782,\n",
              " 'period': 783,\n",
              " 'fall': 784,\n",
              " 'french': 785,\n",
              " 'showing': 786,\n",
              " 'hate': 787,\n",
              " 'avoid': 788,\n",
              " 'figure': 789,\n",
              " 'dialog': 790,\n",
              " 'sorry': 791,\n",
              " 'certain': 792,\n",
              " 'filmed': 793,\n",
              " 'typical': 794,\n",
              " 'tried': 795,\n",
              " 'disney': 796,\n",
              " 'editing': 797,\n",
              " 'somehow': 798,\n",
              " 'general': 799,\n",
              " 'kept': 800,\n",
              " 'space': 801,\n",
              " 'whatever': 802,\n",
              " 'parents': 803,\n",
              " 'weak': 804,\n",
              " 'th': 805,\n",
              " 'viewing': 806,\n",
              " 'atmosphere': 807,\n",
              " 'hear': 808,\n",
              " 'crime': 809,\n",
              " 'leads': 810,\n",
              " 'greatest': 811,\n",
              " 'material': 812,\n",
              " 'dance': 813,\n",
              " 'doubt': 814,\n",
              " 'particular': 815,\n",
              " 'lame': 816,\n",
              " 'wait': 817,\n",
              " 'means': 818,\n",
              " 'buy': 819,\n",
              " 'brought': 820,\n",
              " 'imagine': 821,\n",
              " 'realistic': 822,\n",
              " 'eventually': 823,\n",
              " 'suspense': 824,\n",
              " 'check': 825,\n",
              " 'america': 826,\n",
              " 'sequences': 827,\n",
              " 'third': 828,\n",
              " 'hot': 829,\n",
              " 'indeed': 830,\n",
              " 'gone': 831,\n",
              " 'possibly': 832,\n",
              " 'subject': 833,\n",
              " 'note': 834,\n",
              " 'zombie': 835,\n",
              " 'average': 836,\n",
              " 'nature': 837,\n",
              " 'learn': 838,\n",
              " 'reviews': 839,\n",
              " 'japanese': 840,\n",
              " 'deal': 841,\n",
              " 'rent': 842,\n",
              " 'premise': 843,\n",
              " 'poorly': 844,\n",
              " 'decided': 845,\n",
              " 'forget': 846,\n",
              " 'sexual': 847,\n",
              " 'killing': 848,\n",
              " 'okay': 849,\n",
              " 'monster': 850,\n",
              " 'expected': 851,\n",
              " 'sit': 852,\n",
              " 'baby': 853,\n",
              " 'de': 854,\n",
              " 'otherwise': 855,\n",
              " 'street': 856,\n",
              " 'surprise': 857,\n",
              " 'dog': 858,\n",
              " 'truth': 859,\n",
              " 'free': 860,\n",
              " 'stage': 861,\n",
              " 'believable': 862,\n",
              " 'screenplay': 863,\n",
              " 'question': 864,\n",
              " 'shame': 865,\n",
              " 'unless': 866,\n",
              " 'dr': 867,\n",
              " 'comment': 868,\n",
              " 'imdb': 869,\n",
              " 'society': 870,\n",
              " 'male': 871,\n",
              " 'move': 872,\n",
              " 'needed': 873,\n",
              " 'joe': 874,\n",
              " 'superb': 875,\n",
              " 'laughs': 876,\n",
              " 'difficult': 877,\n",
              " 'begin': 878,\n",
              " 'reading': 879,\n",
              " 'weird': 880,\n",
              " 'creepy': 881,\n",
              " 'became': 882,\n",
              " 'directors': 883,\n",
              " 'leaves': 884,\n",
              " 'memorable': 885,\n",
              " 'meets': 886,\n",
              " 'forced': 887,\n",
              " 'dream': 888,\n",
              " 'write': 889,\n",
              " 'badly': 890,\n",
              " 'nor': 891,\n",
              " 'ask': 892,\n",
              " 'directing': 893,\n",
              " 'situation': 894,\n",
              " 'earlier': 895,\n",
              " 'open': 896,\n",
              " 'towards': 897,\n",
              " 'effect': 898,\n",
              " 'christmas': 899,\n",
              " 'credits': 900,\n",
              " 'romance': 901,\n",
              " 'mark': 902,\n",
              " 'emotional': 903,\n",
              " 'acted': 904,\n",
              " 'deep': 905,\n",
              " 'plenty': 906,\n",
              " 'plus': 907,\n",
              " 'setting': 908,\n",
              " 'fi': 909,\n",
              " 'features': 910,\n",
              " 'forward': 911,\n",
              " 'boys': 912,\n",
              " 'writers': 913,\n",
              " 'meet': 914,\n",
              " 'sci': 915,\n",
              " 'sounds': 916,\n",
              " 'crazy': 917,\n",
              " 'dramatic': 918,\n",
              " 'total': 919,\n",
              " 'development': 920,\n",
              " 'beauty': 921,\n",
              " 'c': 922,\n",
              " 'business': 923,\n",
              " 'interested': 924,\n",
              " 'mess': 925,\n",
              " 'worked': 926,\n",
              " 'rate': 927,\n",
              " 'realize': 928,\n",
              " 'telling': 929,\n",
              " 'box': 930,\n",
              " 'cheesy': 931,\n",
              " 'older': 932,\n",
              " 'jane': 933,\n",
              " 'air': 934,\n",
              " 'political': 935,\n",
              " 'pay': 936,\n",
              " 'personal': 937,\n",
              " 'fantasy': 938,\n",
              " 'girlfriend': 939,\n",
              " 'background': 940,\n",
              " 'whom': 941,\n",
              " 'previous': 942,\n",
              " 'appear': 943,\n",
              " 'footage': 944,\n",
              " 'keeps': 945,\n",
              " 'admit': 946,\n",
              " 'casting': 947,\n",
              " 'incredibly': 948,\n",
              " 'unique': 949,\n",
              " 'quickly': 950,\n",
              " 'perfectly': 951,\n",
              " 'battle': 952,\n",
              " 'william': 953,\n",
              " 'joke': 954,\n",
              " 'cop': 955,\n",
              " 'western': 956,\n",
              " 'twist': 957,\n",
              " 'doctor': 958,\n",
              " 'leading': 959,\n",
              " 'powerful': 960,\n",
              " 'result': 961,\n",
              " 'potential': 962,\n",
              " 'brings': 963,\n",
              " 'bill': 964,\n",
              " 'era': 965,\n",
              " 'apart': 966,\n",
              " 'return': 967,\n",
              " 'masterpiece': 968,\n",
              " 'hardly': 969,\n",
              " 'fails': 970,\n",
              " 'fire': 971,\n",
              " 'dumb': 972,\n",
              " 'hands': 973,\n",
              " 'various': 974,\n",
              " 'break': 975,\n",
              " 'fighting': 976,\n",
              " 'gay': 977,\n",
              " 'success': 978,\n",
              " 'present': 979,\n",
              " 'nudity': 980,\n",
              " 'recently': 981,\n",
              " 'villain': 982,\n",
              " 'ben': 983,\n",
              " 'portrayed': 984,\n",
              " 'manages': 985,\n",
              " 'deserves': 986,\n",
              " 'outside': 987,\n",
              " 'co': 988,\n",
              " 'reasons': 989,\n",
              " 'missing': 990,\n",
              " 'social': 991,\n",
              " 'spoilers': 992,\n",
              " 'list': 993,\n",
              " 'married': 994,\n",
              " 'scott': 995,\n",
              " 'meant': 996,\n",
              " 'ideas': 997,\n",
              " 'fairly': 998,\n",
              " 'inside': 999,\n",
              " 'flat': 1000,\n",
              " ...}"
            ]
          },
          "metadata": {
            "tags": []
          },
          "execution_count": 55
        }
      ]
    },
    {
      "cell_type": "code",
      "metadata": {
        "id": "Ar4cAxGkLHmW"
      },
      "source": [
        "# crating a weight matrix for the words in our current local dictionary, weights are captured from\n",
        "# the pretrained word2vec\n",
        "\n",
        "weight_matrix = np.zeros((15001,60))\n",
        "\n",
        "for word,i in sorted(tok.word_index.items(),key=lambda x:x[1]):\n",
        "  print(word,i)\n",
        "  if i > 15000:\n",
        "    break\n",
        "  if word in word2vec.wv.vocab:\n",
        "    weight_matrix[i] = word2vec.wv[word]"
      ],
      "execution_count": null,
      "outputs": []
    },
    {
      "cell_type": "code",
      "metadata": {
        "id": "-4Ti251IObV_"
      },
      "source": [
        "from tensorflow.keras import models,layers"
      ],
      "execution_count": null,
      "outputs": []
    },
    {
      "cell_type": "code",
      "metadata": {
        "id": "sZfKZOtMNE8y"
      },
      "source": [
        "# modelling\n",
        "model = models.Sequential()\n",
        "model.add(layers.Embedding(15001,60,input_length=300,weights=[weight_matrix],\n",
        "                           trainable=False))\n",
        " \n",
        "model.add(layers.Flatten())\n",
        "model.add(layers.Dense(500,activation='relu'))\n",
        "model.add(layers.Dense(250,activation='relu'))\n",
        "model.add(layers.Dense(50,activation='relu'))\n",
        "model.add(layers.Dense(1,activation='sigmoid'))\n",
        "model.compile(loss='binary_crossentropy',optimizer='adam',metrics=['accuracy'])"
      ],
      "execution_count": null,
      "outputs": []
    },
    {
      "cell_type": "code",
      "metadata": {
        "colab": {
          "base_uri": "https://localhost:8080/",
          "height": 401
        },
        "id": "LzH_zclIPKAO",
        "outputId": "97cf5293-3d2b-44a0-88f9-9af30d89ff43"
      },
      "source": [
        "model.fit(xtrain,ytrain,epochs=10,batch_size=100,validation_data=(xtest,ytest))"
      ],
      "execution_count": null,
      "outputs": [
        {
          "output_type": "stream",
          "text": [
            "Epoch 1/10\n",
            "200/200 [==============================] - 24s 120ms/step - loss: 0.5822 - accuracy: 0.7048 - val_loss: 0.4813 - val_accuracy: 0.7674\n",
            "Epoch 2/10\n",
            "200/200 [==============================] - 24s 120ms/step - loss: 0.3250 - accuracy: 0.8580 - val_loss: 0.5070 - val_accuracy: 0.7666\n",
            "Epoch 3/10\n",
            "200/200 [==============================] - 24s 119ms/step - loss: 0.1442 - accuracy: 0.9431 - val_loss: 0.7082 - val_accuracy: 0.7584\n",
            "Epoch 4/10\n",
            "200/200 [==============================] - 24s 120ms/step - loss: 0.0585 - accuracy: 0.9794 - val_loss: 0.9812 - val_accuracy: 0.7464\n",
            "Epoch 5/10\n",
            "200/200 [==============================] - 24s 120ms/step - loss: 0.0428 - accuracy: 0.9845 - val_loss: 1.1033 - val_accuracy: 0.7524\n",
            "Epoch 6/10\n",
            "200/200 [==============================] - 24s 120ms/step - loss: 0.0272 - accuracy: 0.9904 - val_loss: 1.1495 - val_accuracy: 0.7480\n",
            "Epoch 7/10\n",
            "200/200 [==============================] - 24s 120ms/step - loss: 0.0197 - accuracy: 0.9926 - val_loss: 1.2757 - val_accuracy: 0.7614\n",
            "Epoch 8/10\n",
            "200/200 [==============================] - 24s 120ms/step - loss: 0.0153 - accuracy: 0.9948 - val_loss: 1.3616 - val_accuracy: 0.7494\n",
            "Epoch 9/10\n",
            "200/200 [==============================] - 24s 120ms/step - loss: 0.0252 - accuracy: 0.9916 - val_loss: 1.2957 - val_accuracy: 0.7532\n",
            "Epoch 10/10\n",
            "200/200 [==============================] - 24s 121ms/step - loss: 0.0214 - accuracy: 0.9918 - val_loss: 1.3297 - val_accuracy: 0.7518\n"
          ],
          "name": "stdout"
        },
        {
          "output_type": "execute_result",
          "data": {
            "text/plain": [
              "<tensorflow.python.keras.callbacks.History at 0x7fe569867710>"
            ]
          },
          "metadata": {
            "tags": []
          },
          "execution_count": 62
        }
      ]
    },
    {
      "cell_type": "code",
      "metadata": {
        "colab": {
          "base_uri": "https://localhost:8080/",
          "height": 35
        },
        "id": "ympn_oIIPVCq",
        "outputId": "e3604380-35a6-456f-a9e3-c35b8fbcda8f"
      },
      "source": [
        "model.predict(xtest[0].reshape(1,300))"
      ],
      "execution_count": null,
      "outputs": [
        {
          "output_type": "execute_result",
          "data": {
            "text/plain": [
              "array([[0.6194085]], dtype=float32)"
            ]
          },
          "metadata": {
            "tags": []
          },
          "execution_count": 67
        }
      ]
    },
    {
      "cell_type": "code",
      "metadata": {
        "id": "JzJ1TCwBRE7T"
      },
      "source": [
        ""
      ],
      "execution_count": null,
      "outputs": []
    },
    {
      "cell_type": "code",
      "metadata": {
        "id": "cOH2ekiKQsEc"
      },
      "source": [
        ""
      ],
      "execution_count": null,
      "outputs": []
    }
  ]
}